{
 "cells": [
  {
   "cell_type": "markdown",
   "id": "dc2a6108-f0cd-428f-bd23-9ad75926fbe9",
   "metadata": {},
   "source": [
    "## Setup"
   ]
  },
  {
   "cell_type": "markdown",
   "id": "883bd111-59e5-4f28-9b5d-86f8df20f186",
   "metadata": {},
   "source": [
    "### Install required libraries"
   ]
  },
  {
   "cell_type": "markdown",
   "id": "a4e29225-f373-4129-bdba-fa99bbe5ad8a",
   "metadata": {},
   "source": [
    "The libraries should already be installed in the terminal after running \n",
    "```\n",
    "pip install -r requirements.txt\n",
    "```\n",
    "in the root directory, but this will be useful if the notebook is used in other environments."
   ]
  },
  {
   "cell_type": "code",
   "execution_count": 1,
   "id": "b4962a06-0646-452f-8e76-d3795be3350b",
   "metadata": {},
   "outputs": [],
   "source": [
    "%%capture\n",
    "!pip install datasets==3.6.0\n",
    "!pip install transformers==4.52.4\n",
    "!pip install huggingface-hub==0.32.3\n",
    "!pip install torchaudio==2.7.0\n",
    "!pip install librosa==0.11.0\n",
    "!pip install jiwer==3.1.0\n",
    "!pip install evaluate==0.4.3\n",
    "!pip install matplotlib==3.10.3\n",
    "!pip install jiwer==3.1.0\n",
    "!pip install requests==2.32.3\n",
    "!pip install huggingface-hub==0.32.3\n",
    "!pip install accelerate==1.7.0"
   ]
  },
  {
   "cell_type": "markdown",
   "id": "c7d4b488-41ba-44ad-9833-b3cfcb647cfe",
   "metadata": {},
   "source": [
    "### Import required libraries"
   ]
  },
  {
   "cell_type": "code",
   "execution_count": 2,
   "id": "39d0204c-a57c-4abc-8f30-222fa0d2d625",
   "metadata": {},
   "outputs": [
    {
     "name": "stderr",
     "output_type": "stream",
     "text": [
      "/Users/gordon.oh/Desktop/htx-xdata-asr/venv/lib/python3.13/site-packages/tqdm/auto.py:21: TqdmWarning: IProgress not found. Please update jupyter and ipywidgets. See https://ipywidgets.readthedocs.io/en/stable/user_install.html\n",
      "  from .autonotebook import tqdm as notebook_tqdm\n"
     ]
    }
   ],
   "source": [
    "from datasets import Dataset, Audio, load_from_disk\n",
    "import random\n",
    "import evaluate\n",
    "import pandas as pd\n",
    "import IPython.display as ipd\n",
    "import re\n",
    "import json\n",
    "from transformers import (Wav2Vec2ForCTC, Wav2Vec2CTCTokenizer, Wav2Vec2FeatureExtractor, Wav2Vec2Processor, \n",
    "                            TrainingArguments, Trainer)\n",
    "import numpy as np\n",
    "import torch\n",
    "from dataclasses import dataclass, field\n",
    "from typing import Any, Dict, List, Optional, Union\n",
    "import os\n",
    "import matplotlib.pyplot as plt\n",
    "from jiwer import wer, cer\n",
    "import requests\n",
    "from huggingface_hub import configure_http_backend\n",
    "import urllib3\n",
    "\n",
    "pd.set_option('display.max_colwidth', 100)"
   ]
  },
  {
   "cell_type": "markdown",
   "id": "38a01bfa-563e-4d14-bd46-eb6ab87dfc0c",
   "metadata": {},
   "source": [
    "### Other configurations"
   ]
  },
  {
   "cell_type": "code",
   "execution_count": 3,
   "id": "8c64aec8-1964-4700-99eb-13663fc3d6f0",
   "metadata": {},
   "outputs": [],
   "source": [
    "urllib3.disable_warnings(urllib3.exceptions.InsecureRequestWarning)\n",
    "\n",
    "# [OPTIONAL] Use if there is SSL certificate verification issues\n",
    "def backend_factory() -> requests.Session:\n",
    "    session = requests.Session()\n",
    "    session.verify = False\n",
    "    return session\n",
    "\n",
    "\n",
    "configure_http_backend(backend_factory=backend_factory)"
   ]
  },
  {
   "cell_type": "markdown",
   "id": "7fd910af-720d-487a-9147-3b504aea28a2",
   "metadata": {},
   "source": [
    "## Data Preprocessing"
   ]
  },
  {
   "cell_type": "markdown",
   "id": "38a96540-7cb5-4d99-b576-03661502a1d3",
   "metadata": {},
   "source": [
    "Instead of using ```load_dataset``` from\n",
    "```\n",
    "from datasets import load_dataset\n",
    "```\n",
    "to load Common Voice data, we load the data directly from our project directory since it is already copied inside."
   ]
  },
  {
   "cell_type": "markdown",
   "id": "16a154c8-25e3-4ab4-ba13-49745a99876f",
   "metadata": {},
   "source": [
    "### Load labels"
   ]
  },
  {
   "cell_type": "code",
   "execution_count": 4,
   "id": "0cb41e95-b3fc-42bc-b276-b9c7cf36f520",
   "metadata": {},
   "outputs": [
    {
     "data": {
      "text/html": [
       "<div>\n",
       "<style scoped>\n",
       "    .dataframe tbody tr th:only-of-type {\n",
       "        vertical-align: middle;\n",
       "    }\n",
       "\n",
       "    .dataframe tbody tr th {\n",
       "        vertical-align: top;\n",
       "    }\n",
       "\n",
       "    .dataframe thead th {\n",
       "        text-align: right;\n",
       "    }\n",
       "</style>\n",
       "<table border=\"1\" class=\"dataframe\">\n",
       "  <thead>\n",
       "    <tr style=\"text-align: right;\">\n",
       "      <th></th>\n",
       "      <th>filename</th>\n",
       "      <th>text</th>\n",
       "      <th>up_votes</th>\n",
       "      <th>down_votes</th>\n",
       "      <th>age</th>\n",
       "      <th>gender</th>\n",
       "      <th>accent</th>\n",
       "      <th>duration</th>\n",
       "    </tr>\n",
       "  </thead>\n",
       "  <tbody>\n",
       "    <tr>\n",
       "      <th>0</th>\n",
       "      <td>cv-valid-train/sample-000000.mp3</td>\n",
       "      <td>learn to recognize omens and follow them the old king had said</td>\n",
       "      <td>1</td>\n",
       "      <td>0</td>\n",
       "      <td>NaN</td>\n",
       "      <td>NaN</td>\n",
       "      <td>NaN</td>\n",
       "      <td>NaN</td>\n",
       "    </tr>\n",
       "    <tr>\n",
       "      <th>1</th>\n",
       "      <td>cv-valid-train/sample-000001.mp3</td>\n",
       "      <td>everything in the universe evolved he said</td>\n",
       "      <td>1</td>\n",
       "      <td>0</td>\n",
       "      <td>NaN</td>\n",
       "      <td>NaN</td>\n",
       "      <td>NaN</td>\n",
       "      <td>NaN</td>\n",
       "    </tr>\n",
       "    <tr>\n",
       "      <th>2</th>\n",
       "      <td>cv-valid-train/sample-000002.mp3</td>\n",
       "      <td>you came so that you could learn about your dreams said the old woman</td>\n",
       "      <td>1</td>\n",
       "      <td>0</td>\n",
       "      <td>NaN</td>\n",
       "      <td>NaN</td>\n",
       "      <td>NaN</td>\n",
       "      <td>NaN</td>\n",
       "    </tr>\n",
       "    <tr>\n",
       "      <th>3</th>\n",
       "      <td>cv-valid-train/sample-000003.mp3</td>\n",
       "      <td>so now i fear nothing because it was those omens that brought you to me</td>\n",
       "      <td>1</td>\n",
       "      <td>0</td>\n",
       "      <td>NaN</td>\n",
       "      <td>NaN</td>\n",
       "      <td>NaN</td>\n",
       "      <td>NaN</td>\n",
       "    </tr>\n",
       "    <tr>\n",
       "      <th>4</th>\n",
       "      <td>cv-valid-train/sample-000004.mp3</td>\n",
       "      <td>if you start your emails with greetings let me be the first to welcome you to earth</td>\n",
       "      <td>3</td>\n",
       "      <td>2</td>\n",
       "      <td>NaN</td>\n",
       "      <td>NaN</td>\n",
       "      <td>NaN</td>\n",
       "      <td>NaN</td>\n",
       "    </tr>\n",
       "  </tbody>\n",
       "</table>\n",
       "</div>"
      ],
      "text/plain": [
       "                           filename  \\\n",
       "0  cv-valid-train/sample-000000.mp3   \n",
       "1  cv-valid-train/sample-000001.mp3   \n",
       "2  cv-valid-train/sample-000002.mp3   \n",
       "3  cv-valid-train/sample-000003.mp3   \n",
       "4  cv-valid-train/sample-000004.mp3   \n",
       "\n",
       "                                                                                  text  \\\n",
       "0                       learn to recognize omens and follow them the old king had said   \n",
       "1                                           everything in the universe evolved he said   \n",
       "2                you came so that you could learn about your dreams said the old woman   \n",
       "3              so now i fear nothing because it was those omens that brought you to me   \n",
       "4  if you start your emails with greetings let me be the first to welcome you to earth   \n",
       "\n",
       "   up_votes  down_votes  age gender accent  duration  \n",
       "0         1           0  NaN    NaN    NaN       NaN  \n",
       "1         1           0  NaN    NaN    NaN       NaN  \n",
       "2         1           0  NaN    NaN    NaN       NaN  \n",
       "3         1           0  NaN    NaN    NaN       NaN  \n",
       "4         3           2  NaN    NaN    NaN       NaN  "
      ]
     },
     "execution_count": 4,
     "metadata": {},
     "output_type": "execute_result"
    }
   ],
   "source": [
    "dataset_split = 'cv-valid-train'\n",
    "cv_csv_file = f'../datasets/common_voice/{dataset_split}.csv'\n",
    "train_df = pd.read_csv(cv_csv_file)\n",
    "train_df.head(5)"
   ]
  },
  {
   "cell_type": "markdown",
   "id": "d1a24b78-4839-4d4b-a4e9-2c92bedd5cda",
   "metadata": {},
   "source": [
    "### Clean labels' table"
   ]
  },
  {
   "cell_type": "markdown",
   "id": "7c068309-d9dc-46a9-b914-c00a4b694c80",
   "metadata": {},
   "source": [
    "Make the text label uppercase because the model we are finetuning \"facebook/wav2vec2-large-960h\" is pretrained using Librispeech dataset, which are uppercased. Removed all the other unnecessary columns."
   ]
  },
  {
   "cell_type": "code",
   "execution_count": 5,
   "id": "2ee9b9e5-3436-4a51-b0f9-4a433feeccdb",
   "metadata": {},
   "outputs": [
    {
     "data": {
      "text/html": [
       "<div>\n",
       "<style scoped>\n",
       "    .dataframe tbody tr th:only-of-type {\n",
       "        vertical-align: middle;\n",
       "    }\n",
       "\n",
       "    .dataframe tbody tr th {\n",
       "        vertical-align: top;\n",
       "    }\n",
       "\n",
       "    .dataframe thead th {\n",
       "        text-align: right;\n",
       "    }\n",
       "</style>\n",
       "<table border=\"1\" class=\"dataframe\">\n",
       "  <thead>\n",
       "    <tr style=\"text-align: right;\">\n",
       "      <th></th>\n",
       "      <th>filename</th>\n",
       "      <th>text</th>\n",
       "      <th>path</th>\n",
       "    </tr>\n",
       "  </thead>\n",
       "  <tbody>\n",
       "    <tr>\n",
       "      <th>0</th>\n",
       "      <td>cv-valid-train/sample-000000.mp3</td>\n",
       "      <td>LEARN TO RECOGNIZE OMENS AND FOLLOW THEM THE OLD KING HAD SAID</td>\n",
       "      <td>../datasets/common_voice/cv-valid-train/cv-valid-train/sample-000000.mp3</td>\n",
       "    </tr>\n",
       "    <tr>\n",
       "      <th>1</th>\n",
       "      <td>cv-valid-train/sample-000001.mp3</td>\n",
       "      <td>EVERYTHING IN THE UNIVERSE EVOLVED HE SAID</td>\n",
       "      <td>../datasets/common_voice/cv-valid-train/cv-valid-train/sample-000001.mp3</td>\n",
       "    </tr>\n",
       "    <tr>\n",
       "      <th>2</th>\n",
       "      <td>cv-valid-train/sample-000002.mp3</td>\n",
       "      <td>YOU CAME SO THAT YOU COULD LEARN ABOUT YOUR DREAMS SAID THE OLD WOMAN</td>\n",
       "      <td>../datasets/common_voice/cv-valid-train/cv-valid-train/sample-000002.mp3</td>\n",
       "    </tr>\n",
       "    <tr>\n",
       "      <th>3</th>\n",
       "      <td>cv-valid-train/sample-000003.mp3</td>\n",
       "      <td>SO NOW I FEAR NOTHING BECAUSE IT WAS THOSE OMENS THAT BROUGHT YOU TO ME</td>\n",
       "      <td>../datasets/common_voice/cv-valid-train/cv-valid-train/sample-000003.mp3</td>\n",
       "    </tr>\n",
       "    <tr>\n",
       "      <th>4</th>\n",
       "      <td>cv-valid-train/sample-000004.mp3</td>\n",
       "      <td>IF YOU START YOUR EMAILS WITH GREETINGS LET ME BE THE FIRST TO WELCOME YOU TO EARTH</td>\n",
       "      <td>../datasets/common_voice/cv-valid-train/cv-valid-train/sample-000004.mp3</td>\n",
       "    </tr>\n",
       "  </tbody>\n",
       "</table>\n",
       "</div>"
      ],
      "text/plain": [
       "                           filename  \\\n",
       "0  cv-valid-train/sample-000000.mp3   \n",
       "1  cv-valid-train/sample-000001.mp3   \n",
       "2  cv-valid-train/sample-000002.mp3   \n",
       "3  cv-valid-train/sample-000003.mp3   \n",
       "4  cv-valid-train/sample-000004.mp3   \n",
       "\n",
       "                                                                                  text  \\\n",
       "0                       LEARN TO RECOGNIZE OMENS AND FOLLOW THEM THE OLD KING HAD SAID   \n",
       "1                                           EVERYTHING IN THE UNIVERSE EVOLVED HE SAID   \n",
       "2                YOU CAME SO THAT YOU COULD LEARN ABOUT YOUR DREAMS SAID THE OLD WOMAN   \n",
       "3              SO NOW I FEAR NOTHING BECAUSE IT WAS THOSE OMENS THAT BROUGHT YOU TO ME   \n",
       "4  IF YOU START YOUR EMAILS WITH GREETINGS LET ME BE THE FIRST TO WELCOME YOU TO EARTH   \n",
       "\n",
       "                                                                       path  \n",
       "0  ../datasets/common_voice/cv-valid-train/cv-valid-train/sample-000000.mp3  \n",
       "1  ../datasets/common_voice/cv-valid-train/cv-valid-train/sample-000001.mp3  \n",
       "2  ../datasets/common_voice/cv-valid-train/cv-valid-train/sample-000002.mp3  \n",
       "3  ../datasets/common_voice/cv-valid-train/cv-valid-train/sample-000003.mp3  \n",
       "4  ../datasets/common_voice/cv-valid-train/cv-valid-train/sample-000004.mp3  "
      ]
     },
     "execution_count": 5,
     "metadata": {},
     "output_type": "execute_result"
    }
   ],
   "source": [
    "train_df['text'] = train_df['text'].str.upper()\n",
    "cleaned_train_df = train_df.drop(['up_votes', 'down_votes', 'age', 'gender', 'accent', 'duration'], axis=1)\n",
    "audio_files_directory = f'../datasets/common_voice/{dataset_split}'\n",
    "cleaned_train_df[\"path\"] = cleaned_train_df[\"filename\"].apply(lambda x: os.path.join(audio_files_directory, x))\n",
    "cleaned_train_df.head(5)"
   ]
  },
  {
   "cell_type": "markdown",
   "id": "ca631761-8f15-4402-82e2-fea4281d24b0",
   "metadata": {},
   "source": [
    "### Inspect text"
   ]
  },
  {
   "cell_type": "markdown",
   "id": "26c84827-962a-4f93-b46a-f5ef84c96e64",
   "metadata": {},
   "source": [
    "Check if 'text' contains special characters that cannot be transcribed (eg. colon, comma, percentage, etc). We want to keep whitespaces because the model has to learn to predict when a full word is finished. If not, the output will be a sequence of characters with no spacing. Also, the apostrophes are kept because of pronounciation difference. The output shows that there is none, so the data is cleaned."
   ]
  },
  {
   "cell_type": "code",
   "execution_count": 6,
   "id": "afc5362c-5769-4f2c-8b8f-1208e7878378",
   "metadata": {},
   "outputs": [
    {
     "name": "stdout",
     "output_type": "stream",
     "text": [
      "Empty DataFrame\n",
      "Columns: [filename, text, path]\n",
      "Index: []\n"
     ]
    }
   ],
   "source": [
    "# This pattern keeps only rows with characters that are NOT uppercase letter, whitespace character, or a single quote '.\n",
    "special_chars_pattern = r\"[^A-Z\\s']\"\n",
    "\n",
    "df_with_special_chars = cleaned_train_df[cleaned_train_df['text'].str.contains(special_chars_pattern, regex=True, na=False)]\n",
    "\n",
    "print(df_with_special_chars.head(5))"
   ]
  },
  {
   "cell_type": "markdown",
   "id": "5c6c9ac4-4aa5-4e2e-b472-db04b26fab7f",
   "metadata": {},
   "source": [
    "### Load and decode audio"
   ]
  },
  {
   "cell_type": "code",
   "execution_count": 7,
   "id": "83acc7be-342b-4624-a297-e2420ea95d91",
   "metadata": {},
   "outputs": [],
   "source": [
    "cleaned_train_df = cleaned_train_df.rename(columns={\"path\": \"audio\"})\n",
    "common_voice_train_original = Dataset.from_pandas(cleaned_train_df)\n",
    "common_voice_train_temp = common_voice_train_original.cast_column(\"audio\", Audio())"
   ]
  },
  {
   "cell_type": "code",
   "execution_count": 8,
   "id": "d6fa82e1-9de1-4664-a412-b3bcc511ca5a",
   "metadata": {},
   "outputs": [
    {
     "data": {
      "text/plain": [
       "{'path': '../datasets/common_voice/cv-valid-train/cv-valid-train/sample-000000.mp3',\n",
       " 'array': array([ 0.00000000e+00, -2.39675359e-13, -2.89490112e-14, ...,\n",
       "         4.10622742e-04,  7.94679625e-04,  7.57523230e-04], shape=(196992,)),\n",
       " 'sampling_rate': 48000}"
      ]
     },
     "execution_count": 8,
     "metadata": {},
     "output_type": "execute_result"
    }
   ],
   "source": [
    "common_voice_train_temp[0][\"audio\"]"
   ]
  },
  {
   "cell_type": "markdown",
   "id": "829b6049-1a6a-4a53-b63e-71ef6d6276aa",
   "metadata": {},
   "source": [
    "The output of the cell above shows that the audio data is loaded with a sampling rate of 48 kHz, but 16 kHz is expected by the ```wav2vec2-large-960h``` model. Hence, we have to resample the audio data."
   ]
  },
  {
   "cell_type": "code",
   "execution_count": 9,
   "id": "34400d1a-c6a2-4ea5-a15a-cd465853d023",
   "metadata": {},
   "outputs": [],
   "source": [
    "common_voice_train = common_voice_train_original.cast_column(\"audio\", Audio(sampling_rate=16_000))"
   ]
  },
  {
   "cell_type": "code",
   "execution_count": 10,
   "id": "4773d1ab-5150-4c1f-99c3-326b0952e8f4",
   "metadata": {},
   "outputs": [
    {
     "data": {
      "text/plain": [
       "{'path': '../datasets/common_voice/cv-valid-train/cv-valid-train/sample-000000.mp3',\n",
       " 'array': array([-4.36557457e-11,  9.09494702e-12,  4.00177669e-11, ...,\n",
       "         1.25038787e-04,  7.30113825e-04,  7.36902468e-04], shape=(65664,)),\n",
       " 'sampling_rate': 16000}"
      ]
     },
     "execution_count": 10,
     "metadata": {},
     "output_type": "execute_result"
    }
   ],
   "source": [
    "common_voice_train[0][\"audio\"]"
   ]
  },
  {
   "cell_type": "code",
   "execution_count": 11,
   "id": "dd566f37-202f-490e-88d4-64899d20b2ea",
   "metadata": {},
   "outputs": [
    {
     "data": {
      "text/plain": [
       "Dataset({\n",
       "    features: ['filename', 'text', 'audio'],\n",
       "    num_rows: 195776\n",
       "})"
      ]
     },
     "execution_count": 11,
     "metadata": {},
     "output_type": "execute_result"
    }
   ],
   "source": [
    "common_voice_train"
   ]
  },
  {
   "cell_type": "markdown",
   "id": "983b01ed-4b2c-42cd-b72d-95f6faf88204",
   "metadata": {},
   "source": [
    "### Understand the statistics of the audio sequences"
   ]
  },
  {
   "cell_type": "markdown",
   "id": "d9b642ca-4bc9-463a-b49c-cc37b2e3ce12",
   "metadata": {},
   "source": [
    "The cell below calculate the 25th, 50th, and 75th percentile duration of the audio sequences. It plots the distribution as well. In order to reduce memory usage, we can let to remove top 25% of the data (~ duration >= 5 seconds)."
   ]
  },
  {
   "cell_type": "code",
   "execution_count": 12,
   "id": "8fdcfb14-aade-4ba8-aed5-2e9dafbb0afe",
   "metadata": {},
   "outputs": [
    {
     "name": "stdout",
     "output_type": "stream",
     "text": [
      "25th percentile duration: 3.14 seconds\n",
      "50th percentile duration: 4.13 seconds\n",
      "75th percentile duration: 5.54 seconds\n",
      "\n",
      "\n"
     ]
    },
    {
     "data": {
      "image/png": "[encoded data removed]",
      "text/plain": [
       "<Figure size 1000x600 with 1 Axes>"
      ]
     },
     "metadata": {},
     "output_type": "display_data"
    }
   ],
   "source": [
    "sample_dataset = common_voice_train[:1000]\n",
    "audio_lengths = [len(sample[\"array\"]) for sample in sample_dataset[\"audio\"]]\n",
    "sampling_rate = sample_dataset[\"audio\"][0][\"sampling_rate\"]\n",
    "audio_lengths_np = np.array(audio_lengths)\n",
    "durations_seconds = audio_lengths_np / sampling_rate\n",
    "\n",
    "for p in [25, 50, 75]:\n",
    "    print(f\"{p}th percentile duration: {np.percentile(durations_seconds, p):.2f} seconds\")\n",
    "print(\"\\n\")\n",
    "\n",
    "plt.figure(figsize=(10, 6))\n",
    "plt.hist(durations_seconds, bins=100, color='blue', edgecolor='black')\n",
    "plt.title(\"Histogram of Audio Durations (in seconds)\")\n",
    "plt.xlabel(\"Duration (seconds)\")\n",
    "plt.ylabel(\"Number of Samples\")\n",
    "plt.grid(True)\n",
    "plt.tight_layout()\n",
    "plt.show()"
   ]
  },
  {
   "cell_type": "markdown",
   "id": "0be52f6b-d892-4143-ba8e-76346c2e4545",
   "metadata": {},
   "source": [
    "### Filter out long audio sequences"
   ]
  },
  {
   "cell_type": "markdown",
   "id": "c39b4428-f5ce-4693-ba34-bd82798b3ed1",
   "metadata": {},
   "source": [
    "Long audio sequences require a lot of memory. As the training will be done locally with limited computational resources, it is best to filter away these sequences."
   ]
  },
  {
   "cell_type": "code",
   "execution_count": 13,
   "id": "36ebb35f-005b-41bd-b1d7-ce9879805932",
   "metadata": {},
   "outputs": [],
   "source": [
    "def filter_short_audio_sequences(data, max_seconds=5):\n",
    "    max_samples = 16000 * max_seconds\n",
    "    return len(data[\"audio\"][\"array\"]) <= max_samples"
   ]
  },
  {
   "cell_type": "code",
   "execution_count": 14,
   "id": "4f88e940-204c-47b6-81db-6bc944fe1d72",
   "metadata": {},
   "outputs": [
    {
     "name": "stderr",
     "output_type": "stream",
     "text": [
      "Filter: 100%|██████████████████████████████████████████████████████████████████████████████████████████████████████████████████████████████████████████████████| 195776/195776 [08:02<00:00, 405.81 examples/s]\n"
     ]
    }
   ],
   "source": [
    "common_voice_train = common_voice_train.filter(filter_short_audio_sequences)"
   ]
  },
  {
   "cell_type": "code",
   "execution_count": 15,
   "id": "75bceb06-e307-4084-9398-d00fc7212988",
   "metadata": {},
   "outputs": [
    {
     "data": {
      "text/plain": [
       "Dataset({\n",
       "    features: ['filename', 'text', 'audio'],\n",
       "    num_rows: 133647\n",
       "})"
      ]
     },
     "execution_count": 15,
     "metadata": {},
     "output_type": "execute_result"
    }
   ],
   "source": [
    "common_voice_train"
   ]
  },
  {
   "cell_type": "markdown",
   "id": "7ec8e875-174f-406a-ae45-a8659a7348e9",
   "metadata": {},
   "source": [
    "### Check data"
   ]
  },
  {
   "cell_type": "code",
   "execution_count": 16,
   "id": "0724b0b4-6a1a-4281-8c3f-89158b7e4966",
   "metadata": {},
   "outputs": [
    {
     "name": "stdout",
     "output_type": "stream",
     "text": [
      "Target text: IT LOOKED LIKE A RUSTY GAS FLOAT\n",
      "Input array shape: (52608,)\n",
      "Sampling rate: 16000\n",
      "\n",
      "\n"
     ]
    },
    {
     "data": {
      "text/html": [
       "\n",
       "                <audio  controls=\"controls\" autoplay=\"autoplay\">\n",
       "                    <source src=\"data:audio/wav;base64,UklGRiSbAQBXQVZFZm10IBAAAAABAAEAgD4AAAB9AAACABAAZGF0YQCbAQAAAAAAAAAAAAAAAAAAAAAAAAAAAAAAAAAAAAAAAAAAAAAAAAAAAAAAAAAAAAAAAAAAAAAAAAAAAAAAAAAAAAAAAAAAAAAAAAAAAAAAAAAAAAAAAAAAAAAAAAAAAAAAAAAAAAAAAAAAAAAAAAAAAAAAAAAAAAAAAAAAAAAAAAAAAAAAAAAAAAAAAAAAAAAAAAAAAAAAAAAAAAAAAAAAAAAAAAAAAAAAAAAAAAAAAAAAAAAAAAAAAAAAAAAAAAAAAAAAAAAAAAAAAAAAAAAAAAAAAAAAAAAAAAAAAAAAAAAAAAAAAAAAAAAAAAAAAAAAAAAAAAAAAAAAAAAAAAAAAAAAAAAAAAAAAAAAAAAAAAAAAAAAAAAAAAAAAAAAAAAAAAAAAAAAAAAAAAAAAAAAAAAAAAAAAAAAAAAAAAAAAAAAAAAAAAAAAAAAAAAAAAAAAAAAAAAAAAAAAAAAAAAAAAAAAAAAAAAAAAAAAAAAAAAAAAAAAAAAAAAAAAAAAAAAAAAAAAAAAAAAAAAAAAAAAAAAAAAAAAAAAAAAAAAAAAAAAAAAAAAAAAAAAAAAAAAAAAAAAAAAAAAAAAAAAAAAAAAAAAAAAAAAAAAAAAAAAAAAAAAAAAAAAAAAAAAAAAAAAAAAAAAAAAAAAAAAAAAAAAAAAAAAAAAAAAAAAAAAAAAAAAAAAAAAAAAAAAAAAAAAAAAAAAAAAAAAAAAAAAAAAAAAAAAAAAAAAAAAAAAAAAAAAAAAAAAAAAAAAAAAAAAAAAAAAAAAAAAAAAAAAAAAAAAAAAAAAAAAAAAAAAAAAAAAAAAAAAAAAAAAAAAAAAAAAAAAAAAAAAAAAAAAAAAAAAAAAAAAAAAAAAAAAAAAAAAAAAAAAAAAAAAAAAAAAAAAAAAAAAAAAAAAAAAAAAAAAAAAAAAAAAAAAAAAAAAAAAAAAAAAAAAAAAAAAAAAAAAAAAAAAAAAAAAAAAAAAAAAAAAAAAAAAAAAAAAAAAAAAAAAAAAAAAAAAAAAAAAAAAAAAAAAAAAAAAAAAAAAAAAAAAAAAAAAAAAAAQABAAEAAQAAAAAAAQAAAAAAAQAAAAAAAAABAAEAAAAAAAAAAAAAAAAAAAAAAAAAAAAAAAAAAAAAAAAAAAAAAAAAAAAAAP//AAAAAAAAAQAAAAAAAAAAAAAAAAAAAAEAAQAAAAAAAAAAAAAAAAAAAAEAAQACAAEAAQAAAAAAAAAAAAAAAAABAAAAAAAAAAAAAQABAAIAAQACAAAA+//5//3//P/3//v/+//8//z/+/8AAP///v8AAAAAAgD//wQABgAHAAsACAAJAAcABQAFAAMAAgACAAAA///8//z//v//////AQACAAAAAwD//wAA///+/wAA//8FAAAABQADAP3/AAD5//r/+//5//v/+v/5//r/+P/7//n/+//9//n//v/8//r/+//4//r/+v/7////AAABAP//AAADAAAAAgAAAAAAAAD//wEAAAAAAPz//P/9//v//f8BAAMA//8AAAMAAAACAAQABwAHAAMACAAFAAYABgAKAAwACQAOAA0ADQALAAcACgAHAAkACQAHAAcABAAIAAUABQAIAAYABwADAAUAAAD+/////f8AAAAABQAAAAIAAgD9/wAA+v/8//r/+//+//n//f/7//z//P/6//z//v/+//3/BAAAAAIAAQD6/wEA/v8BAAIAAwAIAP//AQD8//r//v/4//n/9v/5//T/8v/z/+7/8//t/+7/8v/r/+7/6f/p/+7/6//w/+//8//0//H/9f/z//P/9f/1//X/9P/1//P/9//5//v//P/7//z/+v/7//3///8BAP///v8AAP//AAD+/wAAAAAAAAAAAAADAAEABQAEAAgACQAIAA8AEgARABQAGAAWABgAGwAZABoAGQAXABgAFAAZABcAFAAVABEAFAAQABAAFQAPABEAEQARABYAEwAXABYAEQAWABMAEQARAA8ADQAJAAcAAgACAAIAAAAAAAAA/////wUAAAD9//3/+//8//b/+v/5//j//P/3//X/9P/z//r/+P/3//v/9//4//f/9f/1//L/8//0//P/8v/t/+7/7f/s/+7/8f/1//b/9v/6//f/9v/2//T/9//0//j/+v/3//n/9//1//n/+P/3//r/+P/z//L/8//w//D/8//0//T/9f/1//b/+f/3//j/+v/3//b/+P/3//b/9v/1//X/8v/0//T/8//x//n/+v/5/wAA/f8BAAAAAQADAP//AwD+//3/AQD6/wAAAAD9/wEAAAAEAAIABQAGAAUADAANAAwADgAOAAsADAALAAYACQAHAAgACgAHAAwABQAHAAgAAAAJAAYACQAKAAcAEQAJAAsADgAKAA0ADgAKAAcACgAEAAcABwAIAAoABwALAAoACgAIAAoABwAGAAAA/v8CAAAAAgAAAAIAAgAAAAAAAAAAAP3/AAD5//n/+v/4//7//P8BAP7//P8CAP3/AgABAAMABwAGAAkABAADAAQAAQAAAAEA///+//////8AAAAAAAAGAAAAAAACAP7/BQAAAAQABQAEAAsAAwAEAAgABQAGAAUAAwAHAAMABQAGAAIACQAHAAgACQAKAAkACQALAAcACwAFAAUABgABAAQAAQAAAAAA/v/9//3//f////z//////wMAAAD9//3/9//5//P/9//z//L/9P/s//P/7//y//X/8//3//f/+f/7//z/+f/7//3//f////7/+v/6//f/9f/3//f/9v/3//j/9f/0//L/9f/3//X/9v/3//f/9f/7//3/+/8EAAQABAAFAAQAAwAEAAQABAAGAAgACQAFAA4ACQADAAQA//8DAAAAAgACAAUABAD9/wIA/v8DAAQAAwAEAAEABAAAAAAAAAAAAAUABgAFAAkACAAKAAgABwAJAAYABQADAAQABAAAAP7/9v/4//n/+f8AAPn/+f/8//f/+v/8//r//v/+/wAAAQAAAAMAAQAAAAQAAgAHAAoACgAKAAUABQAFAAMAAgAEAAQABgAIAAUABQADAAIABAABAAIABAACAAQAAwAGAAcABgAGAAgABwAJAAkABgAIAAIAAgAAAP///v////7//P/9//f/+v/4//f/+f/3//r/+P/0//j/8//x//H/7//0//L/9P/x//D/8v/y//P/8v/w/+3/7v/w/+//7v/t/+//8f/x//P/8v/w//P/8P/v//L/8f/y//P/8//1//X/+f/7//r//f/8//3////9//7//P8AAAUABQAHAAgACQAKAAsACwAOABAAFQAXABcAGQAZAB0AIAAfACAAIwAfAB0AGwAdAB0AGAAXABUAGAAVABQAFQAVABYAFQAWABMAEQAPABEAEgANAA8ADAAHAAQABQAEAAAAAAD+//7/+f/4//b/9f/x/+7/8f/x/+//7f/u/+3/7v/p/+P/5v/h/+T/5v/l/+j/6v/s/+3/7v/t/+3/8P/0//L/8v/0//X/9v/1//P/8//z//b/+f/4//v/+P/6//7//P8BAAIAAwAGAAkACgAFAAgABgAGAAsADAAQABEADwASAA4ACgAJAAoADAAKAAsACgAMAA8AEQAMAA4AEQAOABIAEQAUABMAEgAVABIAFgAXABkAHQAXABUAEwAOAAsACAAJAAoABwADAAUAAQAAAAAA+//8//z/9v/0//L/7f/s/+r/5//p/+f/5//n/+b/5v/j/+P/3f/c/9r/1f/X/9X/1f/U/9D/z//R/9D/0P/P/9T/2f/X/9z/3P/g/+X/6P/u//L/+P/7////AQACAAgADAATABgAIAAjACgAKwApADIAMgA1ADoAOwA5ADkAOgA2ADYAOAA3ADkAPAA7ADYAOQA1ADMAOgA2ADkAOgA5ADkAMwAwADIAKgApACkAIgAjAB0AFwAWAA8ADQAFAAEABAD6//r/8P/p/+j/3//d/9X/0f/J/8T/w/++/7v/t/+1/6//qv+v/6n/qv+t/6z/rv+t/63/rP+q/6n/pv+l/6b/of+g/6L/o/+o/6j/q/+z/7X/uP/A/8H/yP/L/9T/3P/e/+n/8P/8/wEABQAQABQAIgApADIAOwBBAFEATgBYAFwAYABlAGQAawBtAG4AbABtAG8AcABtAHAAbgBqAGgAZwBrAGsAaQBrAGkAagBoAGsAagBkAGUAXgBbAFgAUgBNAEgAQwA8ADUANgAsACcAIwAbABkACwAEAPn/7f/o/9//1f/I/73/uf+u/6X/m/+T/47/hv+A/4D/ev91/3P/bf9t/27/df9w/3P/eP92/3r/df90/3X/d/+A/4D/hf+K/43/lP+U/5z/nv+k/67/sv+8/8P/zf/c/+T/7//4/wAADQAWAB8ALAAzAD0ASABPAFsAZABtAHUAewCDAIcAiwCJAIoAjwCOAJAAjgCLAIsAigCJAIkAhgCDAIIAfgB5AHgAcgBsAGwAZgBnAGIAXQBhAF0AWgBZAFQAVABQAEwASgBEAD8AOQAwACgAIQAXABMACgAAAPv/8f/l/9v/0//O/8D/uv+0/6n/pv+W/5D/iv+C/4D/e/93/3L/cP9w/3D/a/9p/27/bf9x/3P/b/9y/3H/cf93/3X/df96/3v/fv9//3//g/+H/4//lf+b/6P/p/+w/7z/v//I/9f/3v/p//P/AAAIABIAHgAoADEAOwBGAEsAUgBbAGAAaABvAHUAdwB4AHwAfQB+AH8AfQCBAIIAfAB9AHgAdgB0AHEAcwBuAHEAcABtAG4AagBmAGUAYQBhAF4AVwBUAEwASABFAEAAOgA4ADEAKwAkAB0AHAASAA0ABAD8//n/7//p/+f/3f/W/87/yP/C/7b/tP+z/6v/qP+n/6L/o/+e/6D/n/+a/5//nv+b/5v/nf+c/6D/pP+i/6n/pf+m/67/qv+t/7D/r/+0/7P/tf+5/7r/vv++/8X/yP/L/9D/z//W/9f/3P/g/+H/6P/t//P/9//9/wUABQAJABAAFAAaABkAHAAhACYAKgAvADEANAA8AD8AQgBGAEYARwBKAEgASQBNAE0AUQBPAE0AUABNAEwASwBIAEkARABDAEMAPABAAD4APAA+ADcANgAxAC4AKgAlACQAJQAkACAAIAAaABoAFQAOABAACwAFAAAA/f/6//b/8f/v/+n/5P/f/9r/2v/U/9P/zv/J/8n/wv/F/8L/xP/H/8X/xv/D/8X/w//C/8f/xf/F/8j/x//G/8b/yf/J/8r/zf/O/87/zP/P/8z/zv/R/9L/1f/W/9z/3//h/+D/5v/q/+z/9P/2//z/AAADAAUACQAJAA0AEgAUABkAGQAaAB4AIgAeACIAIAAkACgAJgAnACMAJQAlAB0AIAAeABgAHAAVABgAGQAWABoAHgAeAB0AGwAbABwAGwAfAB4AHwAhAB4AIQAdAB4AHwAbAB0AGgAZABgAFAASABAADQAJAAsAAgABAP//+v/9//f/+P/5//X/8//x//H/8v/z//D/8f/z/+3/7//o/+f/5//l/+j/4//n/+j/5v/p/+f/5f/l/+X/6f/p/+j/5//o/+X/5P/o/+f/5v/m/+r/6v/t/+z/6v/u//L/9v/4//j/+v/+//////8AAAAABwAJAAcADAAHAAcADAALAAwAEgAVABcAFwAYABoAFwAUABUAFAAVABMAEQATABMAFQAVABIAEQASABQAFAATABYAEQARABUAEQAWABMAFQAWABUAEgANAA4ABQAGAAsABwAFAAcAAwAAAAIAAAD9/wAAAAD+/wEA/f/9//n/+P/7//j/+f/4//n/+//3//X/9v/4//f/+//7//j/+P/1//j/+P/1//T/9f/5//f/+f/5//f//P/6//X/9f/0//j/9v/1//j/9v/3//r/+f/4//r/+f/6//z/+//8//z/+f/5//7/AAAFAAUAAAABAAAAAAD9//7/AQD+/wAAAQABAAUAAwADAAUABAAIAAcABQAIAAYAAwAGAAMAAgAIAAMAAwADAAMABAAGAAYAAwAHAAkACAAMAAkABwAMAAYABwAKAAsADQALAAgABgAGAAIAAgADAAEABgAAAAIABAAAAAIAAQAAAAIAAQAAAAIAAgABAAEAAwD+//z//f/7//j/+f/4//f/+f/x//X/9f/0//P/8P/z//H/7v/x//D/7//w//H/8//x//P/9f/6//n/9//8//r/+////////v///wAAAAAFAAcABgAJAAkABgAIAAoABQAIAAoACAAKAAwACAAIAAUABAAGAAcACAAIAAkABgAIAAoACwAMAAwACwAOAA8ADQANAA8ADwALAA0ADwANAAwADgAIAAkABwAGAAUABQAKAAgABgAJAAwACgANAAcACQALAAgADgAKAAcACQAFAAEABQAAAAAA///9//7//f/8//r//f/4//f/9P/x//D/8P/w/+v/7f/r/+v/6v/q/+z/6P/s/+r/5v/n/+b/5//n/+j/5//n/+f/4f/h/+P/5P/k/+b/6f/q/+v/7P/v/+7/8v/y//X/9//2//z/9//6//7///8BAAQABQAHAAYABAAHAAQACQAIAAkADgARABEAEgAWABQAEwAVABYAFQASABYAFAATABMAFQAYABcAGQAZABcAFgAXABIAEgARAA0AEQARABEAFAAUABQAFgAYABcAFgAaABkAFwAVABIAFQARAA4ADwANAAsACQAIAAgABwAFAAIAAQD+//7/+//9//b/9v/3//D/8P/p/+z/6//n/+b/5f/i/+P/5P/k/+j/5P/n/+f/5v/n/+X/4v/m/+T/5v/r/+v/7f/r/+//9P/x//b/9P/0//r/8v/4//n/9//3//b//P/9/wAAAgAFAAEAAwAHAAYABwAGAAcACAAFAAQABQADAAYABgAGAAsACAAJAAkACQANAAoACgAJAAsAEQAPABEAEgAQABEADwAQABIAEAAPAA8AEQASABMAFQAVABYAFgAaABgAFgAaABAAEgARAA8AEgANAA4ADgAIAAgABQAEAAUAAgABAAAA/f/4//r/9//x//L/8//w/+7/7f/p/+T/5v/j/+P/5v/f/+L/5P/h/+b/5f/k/+T/3v/i/+L/3//g/+D/4f/j/+X/5f/p/+r/6f/r//H/9f/4//3//v/+/wIAAAAEAAYAAQAIAAcACQALAAcADgAPABEAFAAUABcAFAATABAAEQARABMAFAASABMAEAARAA8ADgAPAAsAEQASAA8ADwAQAAwADgARAA8AEQAOAA8ADwAPABIAEgAQABMAEgAUABcAFQAVABQAFQASABMAEQARABEADgAOAAsADgAMAAgACQAIAAkABgAFAAAA/P/8//b/9v/z//L/7v/t/+v/6//u/+z/6f/r/+X/5v/n/+T/5f/i/+T/4v/h/+P/4v/m/+n/6//v/+r/7P/r/+j/6//t/+7/9P/1//T/9v/z//n//P8AAAQABAAFAAUAAwAEAAQABwAIAAoADgANAA0ADwANAA4AEwASABMAEwASABMAFAAPABMADwAQABMAEAATAA8ADwAQAA8AEQASABQAEgAQABEADwANAAsACwAFAAYABgAAAAQAAAADAAAA+v/+//r//P/6//f/9//0//T/9f/0/+//8P/x//D/8P/v//D/7//u/+7/7f/s/+7/7f/s/+z/7f/u/+v/7f/w/+//8//0//j/+//4//j/+//7////AAADAAgABgAHAAoACQAKAA4ADQAOAA4AEAASAA8AFAAPAA4AEQANABIADgANAA0ACwAOAA0ADAANAA4AEAAQAA8AEgAVABMAEgATABAAFAAUAA8AFAAPABIAEgAOAA8ACQALAAoABgAFAAEA/P/7//b/9v/1//H/8//t/+z/6f/j/+P/4P/e/9//2P/a/9n/1v/X/9P/1v/X/9f/2P/W/9X/1f/W/9f/1f/Y/9r/3f/e/+H/4f/h/+T/5f/r/+z/8P/0//P/9f/5//j//f8AAAIABwAGAAcACQALAAsADAASABcAFwAeACAAHgAiACEAIQAlACQAJwArACcAKQAqACoAKwAqACcAJwAjACAAIAAgACMAHwAdACAAHQAcABsAFgAYABYAEgASAA4ADAAHAAMABQD///7//v/5//f/8v/x/+v/6//n/+X/5//g/+D/3f/c/93/3P/d/9n/2f/X/9L/2f/T/9X/2v/X/97/3f/b/93/3v/e/+L/4f/k/+j/5f/r/+//7f/x//T/+P/7//n//f/8//z/AAACAAcACQAMABIAEQAXAB0AGAAgACQAIQAkACIAJAAoACcAKQArACoALAAvAC0ALAAqACoAKgApACoAKwAsAC0ALAAsACsAJgAmACQAIQAfABsAHQAWABIAFQAPABIAEQALAAoADAAFAAQABAD9//z/9f/x//L/7//u/+7/7P/o/+b/4v/c/9z/2P/V/9X/0v/U/8//zv/R/8z/z//Q/8//zf/N/8v/zP/L/8n/zf/N/9L/0P/S/9f/1//Z/93/3v/g/+b/5P/o/+3/7P/z//f/+f///wMABQAEAAwADgASABMAEwAcABsAGwAiACIAJQApACMAJgAnACYAKgAnACoAKwAqACgAKAAjACIAKAAjACUAJwAkACUAHgAcAB4AGQAdABcAFAAQAA0ACQACAAcAAQD//wQA///+//v/9//1/+7/7//p/+j/5//m/+b/3//j/93/3v/d/9j/3//W/9r/2//W/+D/2v/e/+D/3v/h/+D/4P/i/+H/3v/f/93/3//l/+b/6P/t//H/8f/0//r/+P/8//r//v8FAAAABgADAAUACgANAAoADAAOAA0AEwANABAAEQAUABQAGQAWABgAHQAXABwAHgAbABsAHwAZAB0AFwAVABYAEgAPABEAFQAQABMAEQAQAA0ADAALAA0ACwALAA4ACAAHAP//AAAAAPj////7//n/+f/y//b/7v/v//D/7f/u/+j/7P/n/+f/6P/j/+j/6P/r/+v/6//s/+v/7P/q/+j/6v/v/+z/8P/v//D/7v/t//D/8f/z//L/9v/0//j/+P/6/wMAAAAHAAcABQAOAAcAEQAPAAoAGAANABUAFAATAB8AFwAkABoAIgAhABUAJgAQACIAFwATAB0ADAAbAAoAFgAOAAYAFAALABUADgARABEADQAUAAgAFAAOAAwAEQAGAAwAAQABAAEAAAABAPr/AAD8//r/AADy//v/+//1//z/8f/w/+7/7//x/+n/7P/o/+X/7P/k/+f/6v/l/+j/6//r/+z/7//q/+n/7P/n/+v/6v/r/+//6f/t/+v/7P/t/+z/8P/w//T/+v/4//n//P/8//f/+v/8//z/AAD6/wIAAQACAAQAAgAJAAwAEgAOABEAEQAQABEADgASABIAEwAZABcAGQAZABYAFQATABUAEgAUABIAEQATAAwAEAAMAAgAEwANABAADAAIAAoACAAKAAYABAACAAgABAADAAAA/P/9//f/+P/5//n/+f/5//f/+P/2//L/9//y//b/8v/w//T/6v/u/+z/6f/x/+3/8v/0//L/9//2//f/9f/5//j/+P/6//v//f/2//f/9v/2//j/+f/6//n///8BAP3//v///wEABAAIAAYABgAHAP//AwABAP//AAD9/wMAAwACAAoABgAJAAsABwAJAAkACgAKAA4ACgAEAAgABAADAAMACAAGAAUABgAAAAYACAAHAAsADAAIAAYABAAAAAEAAAAAAAAAAAACAAMABAAGAAUACAAJAAkACAAFAAUABAADAAEA/f/7/wAAAAABAAEA+//+//3/+//9//z/AQD///r////6//v/+v/3//r/9P/4//j/8//3//X/9//8//f/9//4//r//P/7//3/+v/5//j/9//8//v/9//2//T/+P/7//3/+v/3//f/+//9/////v/5//3/+f/9/wEAAAAFAP7/AAD/////AwD9//z////6/////v/+/wAA/v8EAAIAAQACAAAAAAAAAPz/AAD///3/AAAAAAAAAwAGAAMAAgABAAAAAAAAAP3//f8DAAYABAAMAAgABwAIAAMAAgADAAQA//8AAAIABAAGAAQACAALAAsACgAJAAoABgAJAAcABwAFAAQABwAGAA4ABgACAAYAAwAFAAUACQAIAAAABQACAAUABQAGAAgAAgADAP//AQACAAEAAwAAAAIAAQAAAAUAAAADAAMA/v/+//v/AAD///z/AAD6//7//f/7/wAA/f8AAP7/+//5//r/+v/3//b/+P/0//T/+//5//r/+f/1//P/9v/1//P/9//0//T/9f/0//b/+f/7//r/+f/5//z/AAD//wAA///6//3/AgD////////3//v//v8AAAAA///9//3/AgACAAIAAQD8//v/BgADAAYABAAAAAAA//8BAAAABAD///z/AwADAAUACAADAAQABQAIAAsACwALAAsABwAFAAwADwAPAA0ACwALAAoACAAOAA0ACQANAAsACwALAAUACwAJAAQABgAJAAgAAwAIAAgABgACAAMAAwADAAgABgAEAAAAAAAHAAIAAgAAAP3/AQD+/////f/6//r//P/8//3//v/7//n/+v/7//3//P/4//j/9//3//f//f/8//n/9//2//b/+f////z/9//1//j//f/9//z////+/wAAAAD//wIA///+//////////z//f/9/wAA//8AAAMAAAABAAAAAAD//wAA/f/1//3//f/9/wIA/f/8//3/+/8CAAEA/f/9//r/+v/9////AgAEAAQAAwAFAAUABwAIAAgACgAGAAgABgAIAAgACQAIAAgACwAJAAYABwAGAAQABwAJAAgAAwADAAgABwAHAAMABQAGAAMACQAFAAYABAAAAAIA/////wAAAgD8//r//f/7//v/+v/3//j/9v/1//j/9v/3//X/+f/4//j/+P/2//z/+f/6//z/+v/0//b/+v/8/wAA+v/7//r/+/8AAP3//v///wEAAQAFAAEA/P/7//r//f8AAAEA///9/wAAAwAAAAAA/f////7/AAABAP3//v/9//7/AwAGAAMABAAAAP//AQAAAAYAAgD+/wMAAgAFAAkABwAKAAYABQAGAAcACQAJAAkABwAKAAYACQAJAAUABwAGAAgACgAIAAgABgADAAgACAAHAAoABAADAAYABQAGAAAA//8DAAAABAAFAAAAAAD8//7/AAABAAMAAAD+/wAA//8BAAEA/f////3//v8DAAIAAwAAAP3//f/9//z//P/6//f/+//5//j/+f/2//f/9P/0//f/9P/2//f/9f/5//L/8P/0//D/9f/3//f/+v/5//r/+f/6//n/+v/7//v//P/6//v//P/9/wEAAwAEAAAA//8CAPv//f/+//3/AAD8//3/+//6//z/AAAEAAQAAAD8//7/AAAFAAUAAgAEAAMAAwAJAAkAAwADAAEABgAJAAYABQACAAIABAAHAAgABwAGAAgACAAIAAsACgAIAAkABwAHAAgABQAIAAYABwAHAAYABgAFAAIAAwADAAEABQAFAAUABwACAAIABAADAAcAAwAIAAcABwAGAAEAAAAAAP7//v8CAAEAAgD//wAAAAAAAAEAAAAAAAAA///+//v/+//7//n/+f/3//r/+v/4//f/+P/6//v/+f/3//b/+f/6//r//f/6//f/+v/2//b/+f/2//j/9f/4//7/+f/6//z/AAABAAEAAgABAAAA/P/9//3/AAABAAAAAgD+/wAA/////wIAAAAEAAQAAAABAAAAAQADAAAAAgD///7//v8AAAAA///9//7/AAD//wAAAAAAAAAAAAD9/wIAAAAAAAQABAADAAEAAAACAAEA//8CAAAABQAGAAYABwAHAAYABgAFAAQABgAIAAgABgAFAAQAAwADAAIABAADAAQABQABAAIAAQAAAP//AAABAP7/AAD+////AwAAAP7/AAAAAAAA/f/7//3//P/+//3/+//9//r/+v/+////AAACAP3//f////3////8/////v/+/wEA/f8BAAAAAAABAAEAAQABAAAAAwABAP7/AQABAAIAAAAAAAEA/v/8/wAAAwADAAEAAQACAAEABAACAAIABQAFAAUAAwABAAIA//8AAAEAAQAAAP7/AAD/////AAD//wAAAAD+/wAAAAD+/wEAAAAAAAAAAAAAAAMABAAAAAIAAgABAAAAAAAAAPv//f/9//7/AgABAAIAAwADAAQABQAFAAQAAQACAAAAAAAAAAAAAgABAAIAAAACAAQAAgACAAAA////////AQD///7//f/8//3//P////v//f/+//7//P/4//v/+v/4//j/9v/2//r/+v/4//r/+//6//v/+//7//z//f/9/wEAAwABAAIABgAHAAgABgACAAQAAgACAAMAAwACAAEAAQABAAEAAAAAAAAAAgAAAP3/AQAAAAAAAAD9////AAD+//7/AAABAAQAAAACAAEAAgAGAAEAAQAEAAYABgADAAUABwAEAAYABgAFAAQAAQAEAAMABgAIAAUABgAIAAkACAAIAAQACAAFAP//BQAGAAQABwAGAAYABQADAAcABAAHAAgABwAGAAQABgAFAAUAAwAGAAcABAAFAAMAAgAAAP//AAD+//3/+f/4//n/+f/4//f/+//7//7/AAD///3/+v/4//n/+f/4//v/+P/1//j/9f/0//f/9f/1//X/9v/1//f/+P/1//j/9//z//X/9v/5//v/+v/+//z/+f/7//r/+//8//n//f/+/wAAAgD//wEA//8BAAUAAAAAAAAAAAABAAIAAwAFAAYABwAKAAcACAAJAAYABgAGAAkACQAJAAsACgAHAAYABAAHAAUAAQAEAAEAAAAAAPz/AAAAAAAAAAD9/wAAAgAAAP///f8AAP7/+//6//r/+v/5//r/+//8//v/+v/+/wAAAgADAAIAAwADAAQABAAEAAMABQAJAAYABgAFAAMABQACAAYABwAEAAUACQAHAAEABQADAAMABgAFAAgABwAGAAIAAgADAAAAAgADAAUABQAAAAAA///+//v//v////v/AAD///3//f/+//z/+//9//z/+v/7//z//f/5//v//P/1//f/9v/4//j/+v/9//n//f/+//7////8//3//f/9//3/+//+//7/AAD9//7/AAD9/////f8CAAAA/v8DAAIABwACAAAABwADAAQABwAEAAcABwAEAAUAAgAEAAYAAgAEAAYABQAEAAQABAACAAIAAgD+/wMABAAAAAIA//////7/+//9/wAA/f8AAAAAAAADAP//AAAAAP7/AwAEAAEABQADAAIAAAAAAAMABQADAAEAAwAAAP//+//7//3///8AAAAAAQADAAEA/f/9//3/AAACAAUABAADAAgAAwACAAEAAQABAAEAAgACAAAAAQADAAMABgAEAAIABAADAAMABQAAAP3//v///wEA///9/////P/7//3//P/9/////v8AAP///v////z//P/7//r//P8AAAAAAAD8//z//f/7/////f///wMA//8AAP//AAD///7/AAD//wAAAAD//wAAAAABAAEAAAAAAAAAAAAAAAAA//8BAAIAAgAEAAEAAAAGAAIABAAFAAIABQAAAAAAAAABAAEAAAAAAP/////7////AAAAAP//AAABAAEAAAD9/wAA/f/7//7////5//r/+v/7//////8AAAEAAgACAAAA/v/9//r/AAAAAAAAAQAAAAEA/v/+/////P/9/wAAAAAAAP7/AAD+/wAABAAEAAkABwAHAAcAAwADAAEA/v/9//3/+//+//3//f/+//v//P/9//7/AAD///3/AAD//wAAAAABAAAAAgAIAAsACgAGAAwACQAGAAUABAAIAAYABAADAAMAAgABAAEAAAAFAAcABgAGAAQABAABAAMAAwABAAAAAAABAAAAAQADAAIAAAACAAIAAAAAAPr//P/8//7/AAD9/wAAAAD////////7//z/+v/4//v//P/+/////////wEAAAD+/wAAAwACAAEAAgABAP7////+//7/AQAFAAQABgAGAAQABQADAAIABAACAP///v////7//f8AAAAAAQAFAAMAAgABAPz//v/7//f/+P/4//r/+v/7//z//P/4//r/+v/1//D/8v/1//T/9f/0//X/+P/3//v//f/7//7//P/7//3//P/9//3/+v/7//z//f/8//3//f/9//z/AAACAAAA//8AAAAAAAAFAAcACgAJAAsADAAKAAgABwAJAAgACQAIAAYABQAEAAEAAAD//wAAAAAAAAIAAAAAAAIAAAABAAEA/f8AAAEABAAEAAcABwAFAAgAAwAAAAEAAQACAAEABAADAAEABAAEAAIAAAABAAIAAQABAAEA/v8BAAAA//8DAAMABgAFAAUABAADAAUAAQD//wIAAwACAAAA/P/9/wAA/v/+/wAA/////wAA/v/9/wAA///+/wAAAQD+//7////+//7/+////wAAAAD///v////7//3////9//z/+f/8//3//f/9//v/+//9//7//f/9/wAAAAD///z/+//7//v//P/9//z//f/+//3/AAAAAAAAAAAAAAIABAADAAIAAAAAAAAAAAD//wAAAAAAAAAA//8BAAEA/v/8/wEAAAD///////8AAP//AQD//wAABAABAAIABQABAAIABAADAAMAAwAFAAQAAwAEAAAA/v////z/+/8AAP7/+v/7//j/+//6//v/+//7//7/AAAAAP/////9//3//f/+/wEA//8AAP///f8BAP7//////wAAAgD//wAAAwABAAIAAwABAAQABwAIAAgABgAHAAQABAAAAAAA///8/wAAAQABAAAAAgAAAAIABAAEAAMABQADAAMABQD9/wAAAQABAAIA//8AAP3//v8AAP3//v8AAAIAAAABAAIABAAFAAEABwAGAAgACwAKAA0ADAAHAAgACQAGAAgABwAIAAUABgADAAMACAACAAMAAgD//////f/+//z/+//8//n/+f/6//r/+v/8//j/+f/2//T/+f/5//n/+P/4//f/+P/6//r/+f/5//j/+v/5//r/9//0//n/9P/5//z/+////wAAAQAAAP7/AAD+//7/AAD+/wEAAAD8/wAA+//7/wAA//8BAAAAAAD8//v/AAD5//7/AAAAAAMAAQACAAAAAQABAAAABQADAAAAAAD+/wIAAQAAAAIAAAADAAMAAgAEAAMAAgAAAP7/AAAAAAIAAAABAAAAAAD///7/AAAAAAEAAAAFAAMABgAFAAMACAABAAQACAAGAAgABgAFAAUAAgAEAAYABwAGAAkABwAHAAgABwADAAQAAgAAAAcABAAGAAUAAgAAAP7///8AAAAAAgABAAEAAwACAAEAAAACAAAAAAD///z/AAD7//v//v///wAAAQAAAAAA///5//b/9P/1//j/+v/7//3//v8AAAIAAAACAAIAAAAEAAEAAQAAAPz/AQAAAAEAAwABAAEAAAAAAAAAAAABAAIAAAABAAYABgAGAAIAAQAEAAMAAwADAAIA///7//3/AAD+/////v8AAAAA+v////v/+//8//r////8//3//f/7/////v8AAP///P/+//z//f/8////AAAAAAIAAQAAAAEA///+//7/+//+//3//P/8//n//f/8//v////8//n//f/7//3//////wAAAAABAAAAAAAAAP7//v/8//n/+v//////AQAGAAQABQAGAAEABQAFAAMABQABAAUAAQABAAUAAQAEAAIA///9//v/+f/5//z/+//6//z/+v/5//f/+P/4//j/+f/3//r//P/8///////+/wMABgADAAMABAD+//z/AAD8/wIABAAEAAkABgAJAAsABwAHAAYACAAJAAYABgAGAAMAAgACAAQABgAJAAwACQAJAAkABwAHAAgACAAMAAwADAAMAAcAAQD+/wAA//8BAAAA//8AAP//AQADAAIAAwAFAAIAAQACAAEAAwAEAP7//P////z/+/8DAAEAAAAAAP//AQABAAAAAQABAP//AAAAAP7//P////3//P/9//n//f/8//z//f/9//3//f8AAP7/AAAAAP//AAD9//v////7//z//f/5//v//P/6//v/+f/8//3/+/8AAP//AgAAAP3/BAAAAAAAAwACAAAAAAD9/wAAAAD+/wEAAAAEAAMAAwACAAIA///9/wAA//8BAAEA///8//z//P//////AgAFAAEAAQACAAEA///9//3//f/5//3/+//5//f/9P/5//j/+v//////9//2//f/9v/3//r//P/3//v/+//5////+v/7//3/9//5//f/+P/5//T/+v/3//r//f/4/wAAAQAAAAUABAADAAYABQADAAQAAwAEAAYACgANAAkABwAIAAgACQANAA0ADgALAAwADAAKAAsABgAMAA0ADAAOAAcACAAHAAUAAwAFAAcAAwAEAAAAAQAAAAAABgAGAAUACQAKAAUABAACAAEAAwABAAIA/v///wAA/v8BAAAAAAACAAEAAAABAAMAAwACAAEA/f8AAAMAAAAAAAUAAgACAAIA+/8AAAAA/v/+/wAA/v/+//3/+f/4//T/9//5//r/+f/6//v/9v/0/+//8P/y//H/9f/2//j/+f/1//X/+//7//j/+//3//b/+v/3//v//f/7//3//v////7/AQAAAP7////5//v//P/8/wEABAABAAAAAwABAAAABQADAAEAAwD//wQACAADAAUABgAGAAAABQAEAAIABAAAAAAA+v/8////BAAAAP7/AAD7/////////wQABQAAAAQABAABAAAABQAGAP7/AQACAAAAAAACAAQABwABAAMABAAHAAwAAAAFAAQA/P/+//v///8DAAEAAQAGAAQABAAGAAYACAAFAAgACQAJAAkABAAFAAUA//8BAAUAAQAAAAAA///+/wAA+//+//z/+//5//v/+v/4//7/+f/5//n/+v/3//r//f/3//v/+P/2//r/+v/7//z//f/9//3//f/6//3////9////AAD5//7/AgAAAAAAAAD9//3////+//z//f8AAP3/AQAAAP3/AAAAAAAAAAACAAQABAAEAAcABAAFAAoABwAJAAwACgALAAgACQAKAAcAAgAHAAYABAAJAAYABwAGAAUAAQADAAIA//8CAAAA/P////3/+v8BAAEAAAACAAAAAQACAAAA/f8AAP//+//9//j/+v/4//b//P/7//3/+//7//3/+//4//n///8BAP//AAAAAAEAAAD+//z/AAD+//z/AQD9//7/AQACAAUAAwABAAAAAAAAAP7////7//j/+v/6/wAA//8AAAEAAAAAAAAAAQD+/////////wEA///+//7///8AAAEAAgAAAAMAAgAAAAIA/f/6//7/+v/8/wAA/f/8//7/AAACAAMAAwAGAAYACAAFAAEACAACAAAABQD+/wEA///5//z/+//6//v//P/+//7///////n/9//2//H/9f/3//b/+//5//r/+//5//f/+f/7//3//v/6//z/+f/4//j/9//6//z/AAD+////AAD+//7/AAABAP3/BAABAAIACAD+/wAA/f/8/wAAAwAJAAgADQAMAAgABQAIAAgABwAMAAgACgAGAAMABwAHAAwACQAIAA0ABwAEAAcAAAAEAAYABgAJAAEAAQAAAAAABAADAAMAAwAFAAMAAwAGAAAABQAFAAQABAAEAAUAAgAIAAMAAQAFAAIABQAHAAAAAQAEAAAAAAACAAAAAgD///7/BgADAAQABgADAAcABQAGAAYABgAGAAEAAAADAAIAAAAAAAAAAwABAAUABQAEAAUAAQAEAAMAAAD///z//f/3//b/+v/2/wAA+f/3//3/+P///wAAAAAAAAIAAgD6//r/+f/y//X/8f/u//b/9v/1//3/+f/4//v/+f/6//r/+f/4//b/9v/2//T/+//7//j/AAD8//3/AgD+/wAA//////7////8//b/+v/3//b//v/6//f/AwD//wEAAgD9/wAA///+//3/+//2//n//P/3//7/AQABAAgABwACAAEABAD+/wEACAAAAAQABAD+/wAAAwAAAAUACAADAAYABAAHAAoABgALAAUABwAKAAcACAAAAAAA///+/////f8AAAQABAAEAAYABwAGAAUAAwADAAAA/v8AAPz/+v/8//n//P/8//r//v8AAAYAAAAGAAQAAQAGAP7/BgAGAAIACQAEAAYABQADAAUAAwAGAAYACAALAAcABQAEAAQABgADAAUACAAHAAcABQAFAAQABgAGAAMAAAD7//n//P/7//j//f/+//r/+//7//v//P/4//v/+v/4//r/9f/1//r/8//5/wAA9/8AAAAAAAD7//n//P/4//n/+P/3//n/+//8/wAAAQACAAMAAAAFAAIAAAACAP3//f/+//7/+v8AAAQAAAACAAIA/P/+/wAA+v/9//r/+v/+/wEABgADAAoACgADAAUAAQAAAAMAAAD+/wIAAgD+/wIABAAFAAMACAAGAAQABAAAAP///P8AAAEAAAAAAAEAAQAAAAEAAQADAP7/+v8BAP3//v/+//7/+/8AAAQA/v/////////6/wIAAAD5/wAAAQAAAP//AAABAPv/BAABAPr/AgD+//3/AAD6////+//7/wAA/f/+//v///8AAAAAAAD5//z//v/9//z/AAD///3/BAACAAIAAQAEAAMAAAAHAAcABwAHAAcAAwAEAAYAAwAEAAUABAAAAAIAAwACAAcADAAIAAYABwAAAPr/+//3//j//P/8//n/+v8CAAEABAABAAQABQAFAAUAAwAAAPn//v/3//z/AAD+/wAAAAAAAPz///8AAPr//v8AAP3//f/6/wAAAwACAAAA/f/9//n/+v/3//b/+//5//f/+v/7//r/AAAEAAAAAQAAAPz//P////z/+v8AAAAA/P8AAAIA/v///wEAAgD9/wAAAAD4//z//f/5//n//v/9//z/BQAAAPj//P/5//P/+P/8//b/+f/7//f/+f/7//j/+v//////AgAEAAIA//8AAPv//P8GAP//BAAKAAQABQAJAAYAAAAEAAQA/f8EAAIA9/8BAAMAAAAFAAgACwAIAAsAAwAEAAgABgAIAAcADQAHAAYACAAHAAYABgAGAAYACAAKAAkAAwAKAAcABQAFAAkABwAFAAgAAAADAAMAAwAHAAIABQAHAAoACQAGAA0ABgAFAAkAAwAAAP/////9//7//v/+//3/AQAFAAQABwAKAAYAAAD8//f/9P/z//H/9f/1//T/+P/6//7/9v////z/9v/9//3/9P/4/wAA8v/7//3//P/7////+v/0/wUA9f/2//z/9f/7//f/9v/1//r////2//f//P/6//n/9//6//X/9//5//r/+f/8//3/9v8EAPz/+v////n//v/8//3//v/+/wMAAAAAAAkA/f8FAAcABQAHAAcAAgD+/wUAAAAGAAMABwADAAkACwD+/w0AAgACAAYABAACAP7/CQD+/wIADAAEAAUACgANAAgAEwAKAAQACgD//wIABwAAAAEACgADAAMACAD///3/AwAAAAAA///w//v/EAD3/xIAFgD7/xQAAQACAP//AAD4//T/CwD3////BwAEAAMAEAAJAAEABQD5/wAAAQD6//n/BAD2////AwAAAP7///8HAPP/AQD5//D/9//0//n/8//3//b/+v/7//z//P/0//f/8f/x//b/8f/0//T/9f/y////8v/x/wQA7v/y//j/9v/4//7/BAD6/wUACwAEAAgAAAAJAAQAAAAHAP3/AgD5/wMAAQD6/woAAwABAAQAAgD9//r//v///wIABQABAAQABgAMABIADwAKAAoACwAHAAUAAwACAAQABgAEAAQABgAGAAsADgAIABMACQD7/wsAAQD4/wAABAD8////DgADAAIADQABAP3/AwAFAPn/+P/+//X/+v8GAAMAAgACAPv/+P/7//n/7v/2//D/6f/6//n/9//6/wIA9//3/wEA9f/s//b//f/s//X//P/0//z/AAAGAAUABgAIAP7/AAD8/wEA/f/3/wQA/f/9/wAAAAD8/wAABAD8//j/+/8AAPf//f8FAP7/AwADAAUAAAD6/wUA8f/2//7//f8AAP//CwAAAAUAAwAAAAAAAwABAPX//f/z/wAAAAD//xEABQAPAAoABgANAAMABgAJAAoABQANABEACwAUABMABAAGAAwAAwD+/wUABwD+/wgACAAIAAsAEAAQAAUAEQAGAAQAAQAFAAgAAAAHAAYABwAGAAsABwAGAAEAAAAAAPb//v/4//b//f////3/AAADAP3/AAD6/wEA/P/y//3/+v/6//v/AAD+//b/+f/1//P/9f/3//f/7//6//f/7v/x/+z/8v/n//j/9f/q//b/7P/5/+3/9v/6/+j/9P/1//L/7P/2//X/6v/7/wEA+f8AAAQAAgAEAAIA+v/2//7/+f8DAAgACwAKAAAADAADAAYABwAIAA8AAgAIAAcAAAACAAwABAAJAA4ABQALAAIACQAKAAEACQALABAACwALABAABwAIAAwABwADABAADQAHAA0ACQANAA0AEwAPAAYACAAFAAUABgAPAAwAEQAPAAUAEAABAAUADAD+/wcAAgD5//r/AgADAPv/CAAAAPf/+v/5//f/9P8FAPX/+f8AAPn////7/wMA9P/9/wEA8/////z/+//2/wEA+v/2/wIA+/8CAPT/9//4//H/+P/8/wAA8v////v/7v/8//P/+P/6//X/+P/z//v/+v/6//r//f////X//f/z//L/9//1//T/8//9//n/AwD+/wAAAwD6//7/AgAAAPP/AAAAAPH/AAAGAAAABgAKAAcA/f8GAAkA//8FAA4ACQD//wwABwAGABIACwAQAAkAEAAMAAYAEAAKABEACwANAAsACAAUAAIABwAHAAQABAAAABYAAQAGAAwAAAAKAAYADQAEAAYAAgD8/wMAAgAEAPv/AwAAAPf/BgD7//3//v////7//P8HAPv/AAAAAP//AgABAAwAAAAFAAIAAAAAAPv/BAAAAAUABAABAAYABQABAAEABQD8//7////u//r/+//2//r/AgABAPX/BQD+//r/BAD///v/9//8//T/8f/9/+//8f/6//L/9P/2//n/+f/2//n/+P/6//v/+//4//3/+f/6/wAA9/8CAAcAAAAGAAQAAAAMAAcAAQAEAAoACQAAAAoABQD2/wQAAwD//wgABAACAAYACAD+/wQABwAEAAcACgAGAAAADAADAP//BwAEAAEAAQAGAAQABgAKAAYACQAHAAcABgAAAAMA/v/8//3/+f/+//f//f8BAPz///8AAP7///8DAPn/+f/+//X/+v8BAP//AAADAP///v8CAAAAAQABAAEA/v/3/wAA+v/8/wEABgADAAMABQD3//7//v/2//n/9//4//X/9//0//j//P/2//j//P/5//r/+f/z//z/9//z//v/+v/3//n////2//j//f/5//r/+v/7//X/8//7//X/+P8DAP///P8FAAcABAAEAAYABQAFAAgABgAFAAwACwAIAAsAEAAPAAwADwAFAAQABQAAAAcADQAGAAYADgAJAA0ACgAEAAoABgACAAMABAAGAAMAAwAHAAUABQAAAP7/AAD//wAA/f8AAAAAAAAGAAEAAgAFAAQABQAJAAQAAAAEAPz/9//7//T//P8AAP7/AQACAAcAAgAIAAYAAAAEAPr//v/+//n/9f/6//3/+/8FAAEABAAFAAIAAAD7/wAA+f/2//3/+P/w//b/9P/w//P/8P/s//X/+f/4//z/+P/5//b/9//4//X/+v/4//z//P/2//X/8P/z//T/9P/y//b/+v/3//X/+v/1//T//f8AAP7//v8HAP//AwAGAP/////+/wEA//8DAA0ABQACAAwACgAAAAgACwAAAAsADAACAA0ADwAIAAkADAAMAAkAFAAPAAwAEwAOABAAEgARAAYABwAIAAoACAADAAoACAAMAA0ACwALAAsACwAFAAYABQABAP7/BAABAPv/AgABAPj/9/////f/7v/7//j/7//5//n/7//y//v/8P/x//z/+//1//v//v/2//b/+f/0//T/+P/0//H/9P/0/+7/8v/2//v/+v/9//z/9//9//n/7v/4//3/8f/8/wIA9//1/wEA///8/wgAAAD//wQA/P/8/wAAAAD7//3//P8AAPz/+v////n//P8GAAkAAAADAAcA9v/4/wsA+v/4/wYA/f/7/wsABQAAAAsABgD//wcADQD9/wUAEgAIAAMADAAEAPz/CQALAAAABQALAP//BAALAAAA/v8AAP///P8GAAkAAwACAAcABwD//wUACgD9/wIABQD3//f//v/3//L/AAD8/+3/+f/5/+//+f8CAP7//f8NAP//+f8DAAAA+v/y//z/9v/1/wAA/v/5/wAAAAD3/wAADAD6//n/CAD+//f/BQAIAPv/AgAJAP3/AAANAP///f8NAAMA/f8NAA0ABAASABYADAAPABAACQAFAA0ADQAGAAgADAAJAAgAFgASAA0AGAAWABEAGgAjABUAFAAcAAkACwAaAAkABgAXAAkABQAQAA0ABAANAA4ABgAQABEACQAJAAkAAAAAAAQAAQACAAQABQACAP7/AAADAPz/AwAEAPb/+f/2//D/8f/4//L/8//5//L/9//1//T/9v/5//b/7//t/+7/6P/q//D/6v/q/+//8P/p/+3/6v/n/+3/6//n/+//9v/r//H/+P/t//L/+//1//X/+f/z/+n/8P/s//L/9//x//X/8f/2//7//P/7/wAA+//4//n/9f/4//j/8P/y//b/8P/3//r/9P/2//v//P/x////+//2/wQA+//3//z//v/3//3/+//y//7/AAD+/wMACgAIAAcACgAEAAcACQAEAAkACgACAAgABgAEAA4ADAANAAsACAAGAAcAEgAOABQAHgARAA4AGAANAAYAEgAQAAoAEQAVAAsAEQAUAA4AEgAYABUAEwAZAA0AEAAVABEAEwAUABQADwAJAAYAAgAFAAgAAQAHAAcABQD+/wcACQAFAAsA/v8AAPn/8v/+////+v/7/wAA/v8AAAEAAgD///r/9//2//v/+P/z//j/+f/n//D/9v/o/+7/8//r//H//P/r/+3//P/1/+f/9//6/+7////7/+j/8v/5/+b/8v/8/+7/+/8HAPb/9P8EAPb/7f/x/97/5v/6/+3/6/8CAPX/6P/1/6b/Zf/a/y4Auf8AAJoAOgAcADMACADZ/wsAHgDC/wMAXgBGABoAEgAxAAoAzv/l/+n/4f8EAAoADwArAD0AKAD1//L/+v/Q/8b/2P/c//r/DQAZAB8AHQArABYACAD8//j/BQAAAAAABAAOACEAFgALAAEABwARAPz/+f8EAB0AEgAGABEADgAdAA8A9//3/wMA///v/wEACAALACIAFQABAA4ACADx/wAADAAEABAAEAACAAgADgD8//j/AAD9//v/+v8PAAgA7P/7//v/xP+w/+X/4v/b/xkAGAAHACYAGgDq////GQDg/wQAJwARACAALQADANf/BQDK/87///8AAP7/GgAmAP7/IQD2/9j/3v/Y/8j/2f/m/9j/FAAHAOX/BAAmAAUA9/8VAAYAFQAWAPL/7v8QAAUA5//w////CgD3//L/6v////7/8f8EAPH/8/8DAO7/4P/r/+//6f/5/wAA4P/1/xwAAAD7/xsAGgAYABQAEwALAA4AFAAFAAgAFwAoABYABAAKAAoA8//6/w8ACgAFABkAGwAAAAMA///3/wMABQDy//b/CwD///H/7v/5/wcABgD3/wAAEQAHAPj/6P/3/w0ACAAMABkAHQAJAPf/+P/1////+f/x/wIABgD9/+z/AgAMAPj/AAATABoACgATAAsAAgAAAPz//v/6/wAAAgAIAPv/AwAAAPD/+f8FAAAAAwAIAPX/5v/b/9b/0//e/+X/+f8GAAgAFAAbAAoA/f8FAP3/8/8CABQAHAAjACEAEgAOABEA/f8CAAQA//8VACAAGgAPAAsAAQD3//H/5f/f/+//CQAFAPX/AAANAA4A/f/q////GwAGAPP/DgAjABIACQAUABcACQD6//P/+P8DAP3/AwAZAA8A+v/v/+n/+f/1/+f/7v8DAPn/7/8EAP3/AAARAAMA9P8VABMA+f8KABEA/P8DAAgA7//z/wAA+//7/wQACAAWABAAAQD///3/9v/u/+3/6v/y//X/1P/O//j/AADo/wQAMAAgAA0AFwAUAAUA+f/i//n/AADs/+7/+P8CAAwABwD4/wMA/P8AAAkAAwD8/xMAAQDd/+f/4//w//f/AQD+/wcADgD//wMAAQAJABQABQAQABIA///7/wAAAAD0//z/AwANAAcAAAD8/wkAFADt/+f/EwAFAN//CQAGAOn/CADy//D/BgDx//j/GQAAAO7/EgAHAPr/GwAKAAUAMwAQAAAAEAAHAP7//f8BAAEAEgAWAA8ADQARABUACQD9/woADQAMAAUAAwAFAAkADAD5//n/DwAUAP3/+/8OAAYA+f/u//b/AgDy/+v/9/8JAAAA8////wgABwD2//D/CwAAAO3//v/9//j/BAD6/+P/AAD//+///f8BAAUABgDx/+7/CAD3/93/+P8BAPL/6//t//P/7P/d/+n/BAAEAAIAAQD7//r/+//v//P/AQABAAMABQAAAAAACgD1//b/BwAGAAwACQADAAMABwD6//b/AwD9/wUABQD//wgACQAJAAUAEAAKAAUAEAACAP3//f8KABAACQAFAA0AFQABAPP/AgAQAAcACQALABAAGwAEAPr/CAAKAAsA9//z/wgABQD4//3/EgATAAgAAQAAAAYA+//3/wMACQADAAcAAQD5//////////r/DAAPABAAEgAGABAACAD0//z/BgACAAEABAAFAP7//P/z//v/CgACAAcACAD9/wAA9//y//7/+//v/+///f/0//L/+//9/wgAAgD0//7////w/+v/9P/3//X/+//y//P/+P/k//H/+P/u/wAAAAD6//T/8//5/+z/8//7//X/+v/v/////P/v//7/AAD9//r/AwAIAAoA/f/1//r/+P/2//j//v8BAAgA+P/1/wYACAAMAAUADQARAAIAAwAAAAIADAAAAAkADQAEAA8AEAALAAwAFAAaABEADAAXABcAEAAGAAAABwD7//P/AAABAAQABAD+/wIAAAAHAAQAAgAHAPn//P/3//H/9//6/wYADQD8//j/AQD8//j/AQAJAAwACgADAPr/9f/7//n///8AAAAAAgD5//j/9f/1//j/AQABAPr/+P/9//z/+P8GAAkABgAAAAAA/v8DAAsABwAOAAUAAAAEAAAA+v8CAAUA+f/6////AAAHAAQAAgAFAP//8v/0//v/+f8JAAQA9v8AAAEA+P/3//7/AwAJAPn/+P8HAAAA/v8CAAAA/P8DAPf/8P8CAPv/AAAGAAEACQD///X/+f/+/wAA/f8FAAEAAgADAP7/BQAIAAgACQAAAAIABwADAAwADQASABAABQAIAA0ACwASAAgADAAaAAYAAAAFAAgADAABAPX/AAADAPj/8v/4//3//f/4//b/+v/8//3/9//6//z/+P/6//D/8//+//j/8//3/wUA/P/z/+3/9/8BAPf/9v/5//3/9v/0//X/9/8AAPn/8f/3//3/AQD1//v//v/7//7/+P8AAAMA/f/6/wIA/P/8/wMAAQABAAIACAAOAAMAAAADAAAA///9/wQACAAHAAkADQAEAAkACAADAAUAAgAHAAUA/v8HAAkAAAALAAUAAAAHAAEACAAQAA4ACwAHAAIAAgAIAAEABQAKAAkAAgADAAEABgAEAPf/AQAOAAkA9////wcACwAKAAAAAgANAA4ACAADAAgACwAQAAIA+/8RAAQA+//7//j/AgAEAAQABwAQAA8ACwADAAAABwAGAAgABAAGAAkABAD9//L/+v/+/wQA/f8AAAAA7//4//D/5//y//T/9v/x/+//+v/2/+//7//2/+//7f/s/+n/9//6/+//6//1//f/9P/v/+//AAAAAPX/8//7//v//v////b/AgADAPn//P8AAAIABgD7//v/AgAFAP///P8AAAAABQD7//f////7/wAAAAD8/wIA/v8CAPr/9v8CAAAAAAACAP3/AAAKAAEAAgAIAAcADAABAPv/BAD/////BgAAAAkACAACAAMAAQANAA4ABwAJAAwADQAMAAEACgAOAAYADAAFAAgAEgAHAAgACQAFAAoABAAJAA8ACAABAAkADQAGAAsABAALAA4ABwAIAAoACwAEAAsABwAAAAYAAQAAAAcAAAAIAAoA9P/9/wQA9//6//n/9/8CAPr/9f/5//v/9P/z//f/7v/1//X/8P/s//L/+P/0//b/6//y//T/6f/2//H/8f8AAPD/7f/0//b/+//y//r/+//2//7/8P8BAAAA7v8OAAUA7v8aAP3/9v8bAO3/FwACAOP/FwAAAOr/CgAAAAQAFAD3/w4A/P8CAAcA9f8FAAMAAgD9//D/AgALAPP/CwAPAAkACgACAAMADAAEAAMABgAAAAwABgABAAoACQAIAAYAAAAHAAkADAAGAP3/DQAKAAAABAD5/wUABQD0/wAA/v/8/wEA/v/8/wAA//8CAAAA/f8GAAEA/P///wMACAAFAAUABAD7/wcACwD9/wUABgAJAAcA/v8CAAAA+P/7//7/+v8AAPv//P/4/+z/9f/x//f/AAD8////9f/8////8v/2//b/8P/0//r/7//8/wIAAAACAPr/AwAAAPb/AwAEAAAA/f/5/wAA+v/9/wAAAgAGAAsAAgAEAAQABQANAPn/BAADAPf/AAD1//f//f/4////AgD8//7/BAAAAAQABwACABEACAAAABIABAAKAA0AAAAKAAoACAAMAAgACAASAAMABgAJAAQACgD9/wgABgAGAA4AAAAHAAkAAAABAAAAAAAHAAAA+/8DAP///f8AAAEABAAHAAkABAAAAP3////5//7/AAD9////+v/+//j/+/////r/9P/9//v/9v/5//D/+v/w//H/9P/v//L/8v/z/+3/8P/u/+//5//3//j/8//6//P////3//X/9//2//n//P/9//z/+//8//7/8f/8/wIA/P8AAAYAAwAGAAQA/P////7/AAD/////AAAEAAAA+f/9/wEAAAADAAYAAAAGAAgA//8EAAkABgALAAYABwAKAAQACgALAA0AEAANAA0ADgAQABMAEwASABMADAAPABIAEQAUAA0ADQALAAQACAALAAcACQAMAAYABgAGAAQADAAJAAUABQAGAP3/AgAAAPv/CQD7//v/AAD9//z/AgD7//r//f/x//z/9f/3//3/9//9////+v/3//j/+/8EAP3/AAAAAPb//v/5//j/+//6//r////4//r////6/wAA+v/7//7/9f/0//f/9f/2//H/7//1//L/+P/1//r/AgD8//v/+P/2//3//v/4/wEA/v/5////9v8AAAQAAAAEAAAAAAACAAIA+P/6/wAAAwAGAP//BwAFAAcABgAAAAgACAAEAAUABAAAAAEA+v/5/////v8AAP7/+v8HAAoA+/8BAAQAAQAFAP//CAALAAcABgADAAAAAAAIAAQABwAJAA8ACwAGAAUACAAMAAAABAAKAAUACgADAAEABAACAAAAAwAAAAgADgAAAAYAAAADAAYA//8DAAgACQALAAUAAwAJAAAAAwAFAP7/CgADAP//BAD9/wkABAABAAkAAAAFAAIAAgAHAAgABAABAPv/+//5//P/9P/u//X/9//w//H/7v/u//X/8P/1//v/9v/6//L/8P/z//T/8v/1//b/+//8//P/+P/4//3//v8AAAcABgAEAP//AQAFAAYABAAEAP//BAAGAPr/AQABAAQACAACAAQAAgAAAP7///8FAAkABwAIAAgAAwAGAAcABwAOAAsADQAIAAAAAQAAAAAAAgAGAAYABAAAAPz/+P/7////AQAAAAIAAQD5//v/+f/4//3/AAD8/wEA/f/6/wMA+/8AAAAA/P8BAAAAAAD+//7//f/4//f/9P/0////BgABAAIA//8CAAAA+/8EAPr/AAADAAAABwAIAAwACAAFAAEABgADAAEACAABAAQABAD///v/BAAAAAAABAAAAAMAAQD7/wAA///8/wQA+////wIA+f8AAP//+//9//3/+v/6//b//v8AAP7/AwAEAAMA///3//r//v8AAAQAAAACAAAA+v/5//f///8EAAQAAQD8//r/+v/5//n///8DAAgABwABAAIA/v8DAAMA//8IAAkABQAEAP3/AAACAAAABgANAAkACAAKAAAABAAHAAYACgAIAAQACQAGAAEACQAEAAoACwAGAA0ADAAPAAsAAAABAPz//P/+//z/AgD9//j/+f/0//j/9v/0//r/9//5//b/8//1//P/9f8AAP3/+//8//T/9P/0//T/+P/+//z/AAD7//P/+v/4//n/AAD8/wAAAgD4//j/8//1//7/+//7//z//f/8//P/9//7//n//v/+//r/+v/4//f///8AAAUABAABAAAA/v8FAAEAAgAJAAsADQAOAAgACQAKAAkAEAAMAA8AEAAHAAUAAwAHAAwAEAATABQADQAIAAkABQAHAAYABgAHAAQABQAIAAUABQAHAAoADAAHAAEAAQACAP7/AAACAAQAAQADAAMAAAD9//7/BwAFAP///f/5//b/9v/6//7//v8GAAIA+P/3//T/9v/3////AQD///v/+v/3//f/AAABAAEAAwD///z/+P/4//z//v8CAAAA9//1//X/9P/3//v/AAAGAP7/+//7//b/+//5//b/+v/5//f/8//0//j/9v/4//r//P/6//r//f/4//v/+P/3//j/9v/3//f/8//1//X/8P/y/+7/9f/5//z/AQAAAP///v8BAAUACgALAAoACAD///3/AgAAAAQACAAHAAoABwAJAAsADAARABAADgALAAgABQABAAIACAAIAAUABQADAP//AAADAAYACwAKAAgABQAGAAoACgALAAwADQAKAAcABwAFAAYACgALAAwACwAIAAcAAwABAAcACAAHAAcAAwABAP//+v/9/wQAAQD///z/9v/6//v/+v8AAAAAAwAAAPj/9//7/////P8CAAAA/f/4/+//9v/0//r//f/6//n/8//2//X/+v8CAAMABAD///v/9f/1//f/9v8AAP3/+P/5//n//P8AAAEAAwADAAAA/v/7//r///8AAP7///8AAPz//P/5//z//f/9/wIAAQACAAEAAAD//wEABQAEAAUAAgAAAAAA/v8CAAMABwAJAAUABAAAAAMAAgABAAUAAQABAAMA///+/wAA/////wEAAAAAAP7//f/+//7/AgADAAIAAAD//wAA/f/7//3//v///wAABAAAAAEAAQAAAAkABQAHAAMA/f8CAPv/+f/7//r//P/6//r/9//6//j//P8BAP3/+v/3//L/8//1//j/+//6//v/+f/6//7///8BAAIAAgABAP3/+//9//z//v8AAP7//v////7//f/7//n/+//8//z/AgAEAAcABwAHAAUABwALAAYADAAQAAkACQALAAcACwAHAAYACAAIAAgABwAEAAEAAwACAAUAAgAAAAIAAAADAAUABwAIAAgABwAKAAgABAAGAAUABQAFAAQABgAGAAUABAABAAcACgAGAAIAAAAAAP//AQABAAQAAwAAAAIA/v/9/wAA//8DAAQAAgAEAP//AAAAAAAABAACAAIAAAD+/wAAAAACAAUAAAD+////+v/6//b/9f/7//T/+f/5//f/+//z//n/+f/1//b/9P/2//j/9//2//r/+P/6//j/9v/6//r/+v/7//r/+f/5//X/+v/2//T/9v/2//r/+v/3//r/+//3/wEAAQACAAYAAgAFAAUAAQAEAAcACgAIAAYABgADAAAAAAAAAAMACAAGAAYABAADAAQAAwAAAAMAAgAAAAMA//8CAAEAAAAKAAMABgAKAAcADgANAAwAEAAJAAkABwACAAUABQAIAAsABwAGAAgABAAFAAgACAALAAkACAADAAEAAQD//wMABAAFAAoAAQAAAAEABAAJAAcACwAJAAYAAgD//wQAAAAAAAQA//8CAAAA//8BAP7////8//3//P/7/wAA/f/5//z/+f/2//f/9P/0//j/9//3//n/9//5//j/9P/z//P/8v/w//L/8//x//L/8//z//X/+v/7/wAABQACAAMA///8//z//f/+////AgAAAP////8AAAAA/P/+/wAAAAABAAEAAQAAAP3/AAD+/wEAAgACAAUAAgADAAQAAwADAAgAAQAAAP7/+/8AAP3/AQACAAEABQAAAAUABwAFAAUABQAIAAYACQAGAAUACAAGAAQAAwAGAAcACAAHAAsABwAGAAcABgAIAAkABwAEAAYAAgABAP//AQABAP//AAAAAAAA/v/+//3//v/9//7//f8AAAAA/f8AAPv//P/7//n/+//7//3/AAAAAP/////9//7////9/wAA/v/7//r/+P/7//r//P/7//v/+v/7//3/+//7//X/+P/4//b/+P/3//n//f8AAP//+//+//3//P8BAAIABAAGAAQAAwAGAAYABgAGAAMABQAEAAUAAwADAAIAAwAEAAIAAgAAAAMAAQADAAIAAAAAAPn/+f/9/wAAAQAAAP//AAACAP7/AAACAAMABAAFAAUAAgAAAAIAAgACAAUABAADAAEAAAAAAPz/AgAGAAUACAAGAAUABQAGAAsABgAGAAgAAQAFAAEA//////v///8AAP//AAD+//3////8//7////7////AAD5//3/+f/3//3/+//+//3/+v/3//T/8//8//r/9//2//D/+f/5//b/9P/z//X/9P/w//P/9//0//f/9v/8//3/+f/6//n//P8BAP3//f8AAP3/AAAAAAcAAwAFAAcAAwALAAYAAwAAAAQABQAEAAYAAQAFAAMAAgABAP3////8//7/AwACAAMABQADAAUAAgABAAgACQAIAAYABAADAP7/AAAEAAMABAAHAAgACwALAAcABwAJAAoACgAJAAsACgAHAAcABgAGAAcADAALAAgADAAOAAwACwAJAAkACgAFAAIAAAD+/wAAAAABAAAA//8AAPn//v8DAP///v/+//7//P/9//3/AAD//wAAAgD9/wAAAQD+/////f/8//j/+P/8//f/9v/6//v/+v/7//r/+P/7//X/+P/2//X/+f/4//n/+P/1//T/9P/z//f/9f/2//j/9f/3//b/9v/5//z//P/+//7/AAD+//z//f///wAA//8BAAEAAQAAAP7/+v/6/wAAAAAAAAAAAAAAAAEABAADAAAAAAAFAAIAAAAAAAAA/v8AAAMAAQAAAAEABgAGAAUABAAEAAYAAwAGAAUABwAJAAQABwAHAAUACQAKAAwADAAKAA4ADQANAA4ACwAMAAkABQAFAAMABAAGAAIAAQADAAQAAAACAAIAAQAHAAQABAAFAAIAAQADAAEAAQD/////AAD//wQAAwAFAAcAAgACAAAA/P/8//r//f/7//r/+//3//v/+f/3//v/+v/7//z//P/9//n//P/4//r/+//5//v/+v/7//v//f/8//3////8//r/+//6//n/+f/8/wAA/P/5//r/+////wEAAgAAAP///v/4//r/+v/4//z//f/9//7/+v/8/////v8AAAEAAwABAP7/AAAAAP3//f///wMABQADAAUABgADAAUABgAFAAkABgAEAAQA///+//z//P//////BwAFAAUACAAHAAkABwAHAAgABAADAAMA//8AAAIAAwABAAUABAAGAAwABgAJAAkABgADAAIAAAD+//z//P8BAP///f8AAP7//P/9/////v8AAAAA/f////3///////z//v8AAP///P/7//n/+v/5//v/+//+//z/+f/9//n/+//6//n//v////v///8AAPz/AQAAAP//AAD6//7/AAD+//3/+//6//z//P8AAAIABAAHAAMABAAGAAAAAwACAAIACQAFAAQAAgD/////AAACAAcABgADAAMAAQABAAIAAgD9//r//v8AAAAABAAEAAIABgAEAAIAAgADAAQAAQAFAAcABQABAP7////+/wEAAgAFAAUABgAFAAMAAwADAAUACAAHAAUACgAFAAMAAgABAAQABQAHAAYAAwABAP///P/+//v///////3//P/6//v/+v/7//z//P/9/wAA/f/5//n/+P/4//X/9//3//f/+f/0//P/9f/6//v//v8AAAAAAAD+//3/+P/9//3/+f/4//n/+P/2//X/9v/3//r/+//8//z/+/////3//f8AAPz//f8BAAAAAQACAAMAAgD+/wAAAAAAAAEAAQAGAAYAAgAEAP//AAAAAP//AgAFAAYABwAJAAIAAgAAAAAAAAADAAUABQACAAEAAQAAAAUABgAHAAcACgALAAcACQAIAAcABwAHAAsAEAASAA8ACgAFAAMABAAGAAkACAAFAAEA//8BAAMABQAFAAYABwADAAEAAQD/////AgADAAAAAAD///z//f8BAAAAAAD+//v/+f/4//n//P/5//r//v/9//r/+//6//f/+v/8//z/+P/3//b/8v/1//n/+//5//n/+//0//X/9f/5//r//P/+//z/+v/3//n/+f/8///////6//z//P/6//X//P/5//f//P/8//3//f8AAP3/AQD///r/AQD/////AAABAAEAAAAEAAYABQADAAAABAAEAAEABAABAAEA///9/wAAAQAAAP//AwD9////BgAGAAgAAgAGAAgABAAHAAQABQADAAEABgAEAAgABgAFAAcABgAHAAYABgAHAAoACAAJAAkAAwAHAAYABgAIAAgACAAIAAcABAAIAAcABgAKAAsACwANAAoACQAJAAgACAAGAAYABgAFAAUAAwAAAAMABgAIAAIAAgD8//z/+f/6//v/+f/5//f/+P/z//j/9f/z//b/9//3//n/9P/1//j/9P/3//b/9P/3//L/7//3//X/9//4//L/8//z//b/+f/1//f//v/6//v/AAD9//n/+v/6//z/+/8AAP///P/9/wAAAQAAAAUABgACAAQAAwD+/wAA/f8AAAUAAwADAAAA//8BAP//AAABAP7/BAAFAAMABwAEAAEAAwAFAAMABAAFAAcABQACAAcAAwAFAAQABQAIAAMABwAIAAQAAgACAAIAAwAAAAIAAgAAAAEA/v////3//P///wAA/////wEA/v/8////+//+/////////wAA/v/7/wAA///+////AQD+//v//P/+//7/AAD///7//f8AAAEA/v/+////AAD//wAAAwAEAAEAAgABAAAAAAAAAAQAAAADAAIABQAFAAAAAgABAAAAAgABAAEAAwACAAAA//8CAAEAAAACAAEAAAACAAAAAgADAAMABQAGAAcABAAFAAcABgAEAAMAAgAFAAQABAAFAAUACAAFAAMAAQAAAAIABAAFAAQAAwACAAEAAgACAAQABQAAAAEAAwD+////AAD+////AAD///7//P/8//7///8AAAAAAAABAAEAAQD//wAAAAD/////AAD//wAA///9////+v/3//n/9//6//n/+v/+//r//P/8//n/+//7//n//P/4//n/+//4//r/+f/5//v/+v/5//f/9v/1//L/8//z//X/8f/z//P/9f/y//X//P/6//v//v/8//v/AAD9////AAABAAEAAAABAAQABAAGAAcABQAGAAYABwADAAIABAAGAAgACwAJAAgACwALAAkACQAIAAgABgAGAAcABwAKAAQACAAIAAUABwAFAAQAAQAEAAUAAgAEAAQAAAAAAAAAAQADAAAABAADAAUABgADAAQAAAAFAAUABgALAAsACwALAAgABgAFAAUABgAJAAUABAAFAAEAAAACAAEA/v8AAAMAAgD+//7//f/6//z////5//3//f/9/wAA//8AAP3////+//7//f/7//j/+f/3//b/9//2//f/+P/6//v/+//5//z/+P/1//j/+f/8//v/+P/7//j/9v/7//n/+v/8//r//P8AAPz/+//6//f/+//7//v//v8AAP///f/8/////f8AAAAA//8CAP//AAAEAAUACAAJAAgACgAJAAcABwAFAAUABQADAAIAAwAFAAQAAwADAAEA//////7/AAAAAP3//v/8//v//v8BAAIABQAAAAMABAAAAAIAAgACAAEAAQAFAAYAAgAAAAIAAwAAAP////8AAAAAAgADAAMABQAAAAUABQAFAAUABAAEAAgABAAAAAAAAAAEAAAAAgAFAAMAAgAFAAIAAAD//wAAAwAEAAEAAAD7//3//v/8//z/+/8AAAAA/f8AAPz//f8AAAAABgAEAAIAAgABAAAA//8AAAEAAAD+//3/+//5//n//P/6//3//v8CAAAAAAAAAP//AgAAAAEAAwD//wAAAQD//wIA/v/8//z/AAAAAAAAAAAAAAQAAwADAAQABQAFAAUABQAGAAQABQABAAEAAQAAAAQABgAGAAYAAAACAAQAAAADAAAA//8CAAAAAAACAAIAAgAAAAAA/P/8//3//v/9//z////8//3/AAD///3////+/wAAAAD9//v////+/wAAAgAAAAAAAgAAAAAA/f/8//z/+f/+//v//f/+//v//f/6//v//f/+//7/AAAAAPv/+//8/////v/7//7/+v/+//3/9v/8//v/+f/+//3//v/9//v//P/6//z/+/8BAAIA/v8CAP//AAAEAP7//v////7/AQADAAIAAQAAAP//AgABAAAAAAAFAAYABgAFAAIACAAHAAsACgAKAAsABwAGAAQABwACAAUACgAGAAgABQAEAAQAAQACAAAAAwADAAIABQAFAAYABgAEAAIAAQAAAAAA/v/8//v/+P/8//3/+/////7/AAAAAP//AgACAP//AQAAAP///v/7//3/+f/5//7/+f/4//z//P8AAP7/+//7//j/+//8//n/AAAAAP//AgD9//7//v/7//3//f/9////+v/7//3//P8AAP7/AAABAP//AAD+//v/+f/6//z//P/+/wAA//8AAP////////z//P/+//v/+v/+//3///8AAAEAAQAAAAEAAwACAAAAAAAAAAEAAQD//wAAAAACAAIABAAAAAcABgAEAAkAAwABAAMABQADAAIAAwAEAAEAAgAEAAUABwAGAAQAAQABAP//AAAAAAIABQAEAAYAAgAAAAUAAwAEAAYABgACAAAAAAD7//7/AAAAAAMABAAEAAQABwADAAMAAAD7//z//v////7//f/+/wAA//8CAAEAAAD9//7////7//r/+//7/////v/+/wEAAgADAAAA///7//7//f////7/+/8AAP3///8AAAAAAQADAAMAAgABAAAAAAAAAAEA//8CAAAAAAAAAAUABAABAAEA//8AAP3//P/6//r//f/7//r/+v/6//v//f///wAA/P/6//3//P/+//v/+v/+//z//f/9//7//v/9//z//f8AAAEAAwACAP7///8AAAAAAgAHAAQAAwAGAAMABwABAAEAAwADAAEABQAHAAIABAAAAP//AAAAAAMAAwABAP//+v/+//3//P8AAP/////////////8///////5////AAD9////AAADAAYABQAFAAUAAgAFAAIAAAD8//z/AAAAAAAAAAD+/wAAAAACAAQAAgADAAMAAQACAAUAAQAFAAUABAAFAAAABQAHAAYABgAGAAEAAQAAAP///v/8/wAAAwAAAAMAAQAAAAAAAQACAAAAAgACAAIAAwACAAIAAQABAAAAAAACAAEA/f/7//3/+//6//r/+v/7/////f/9/////P////////8BAAAAAAD//wAAAAD+//7/AAD+//3//v///wAAAAD+//7////9//7/+v/+/wAA+/8AAAAAAAAAAAAAAgD+////AAD8//z/+f/6//3//f///wAAAgADAP7//P/6//z/AAABAAEA///8//3//f/8//3/AAD+//7///8AAAQAAAABAAEAAQAEAAUABAADAAAA/v8AAAAA//8AAAEAAAABAAAAAAAAAP7////+/wAAAQAAAAMAAQAAAAIAAgABAAAAAgD//wAA/f///wAA/v8AAAIAAQABAAQAAgABAAAAAAAEAAMAAwAEAAYACAAHAAYABQADAAQABQADAAQABAACAAMAAQAAAAEAAQD//wAAAgAAAAEAAAABAAAAAAAAAAAAAwADAAEAAQD9////AAD8/wAA///+/wAAAAACAAAAAQACAAAABAADAAMAAAD//wAAAAACAAAAAwACAAAAAgD///3//v/8/wAAAAD8//7/+//+//7//P/+//v///8AAP//AAD///3/AAD///3/AAAAAAAAAAD8//7//v/6//n/+v/+//z//P////7//v///////v/+////AQAAAAIAAAABAAUAAAADAAAA/v/+/////v/+//3/+//7//j//v/+//z/AAD///n//P/8//7/AAAAAAAAAAAAAP//AAAAAAEABQAFAAEAAAD//wAAAQAAAAEAAwAAAAAAAwAAAAEAAAABAAMAAQABAAMAAAD///7//P////n//P/7//n//P/7//r/+v/5//j/+f/6//v/+f/8//7//f/+/////f/6//z////9//v//f/+//z//v/+/wAAAwAAAAQAAwABAAMAAgAFAAYABQAEAAUABQAKAAoABwAHAAYACQAGAAYACAAFAAQABAAFAAUABQAIAAcABwAGAAYABAAEAAcAAwAEAAYABwAHAAUABgAHAAMAAwAEAAMAAwAGAAkABwAFAAgABgAFAAYAAwADAAEAAQD+//3/+f/4//n/+P/3//b/9v/0//X/8v/w//H/8f/y//T/9P/4//j/9f/1//f/9v/3//j/+P/6//j/+//8//7/AQACAP7/AAD9//r//v/+/wAAAAD9/wAAAAACAAQAAAAEAAAABQACAAQACAAHAAsABwAFAAgACAAEAAYABQAEAAYABQACAAEAAQACAAIA/v8AAAAAAAAAAPv/AAD+/wAAAAD+/wQA//8AAAAA+//7//j//P/7//z//P/9//3//P/9//z/+//+//7/+//8//7//v/+/wAA/f8AAAAAAAADAAIABAAGAAkABwAIAAkABwAIAAgACAALAAoACwAIAAgADAAIAAcACQAKAAkACQAEAAMABQAGAAMAAwACAP//AQACAAAAAAAAAAEAAQAAAAAA///9//3///8AAAEA/v8AAAAA/P8AAAAA/v8AAAAA+//+/wEA/f8BAAAA//8AAP3/AgAAAPz/AgD///r////6//n//f/7//3/AQD8////+f/3////+//7//v//f/8//3///8AAAAAAgD+/wAA///7//z/+f/7/wAA///9//7//f///wAA///+/////v8AAAAAAQABAAEAAAD//wEAAQAAAAMAAgADAAIAAQAHAAQABgAFAAYABAABAAIA/////wAABAAEAAIAAQACAAAA/P8BAAAA/f/9//z///////3///8BAP7///8AAPz////+/wAAAQD//////v/9//7//v/8//7//f/8//3/AAD/////AAD9/wAAAAAAAAAAAgAFAAcACAAJAAUABgALAAQACAANAAkADAAMAAkACwAMAAkABwAGAAQACQABAAEABQACAAgAAwACAAQA/P/+/////P8HAAIAAAADAPv/+v/4//b//f8AAAIACwAEAAAA/f/x//L/7//x//f/BQAOACMAOwAEAAgA/v98/9b/4P+o/4QAOwBAAIkAsf/4/7T/X/8cAOX/LQCIAA8ALgDi/5T/1//L//v/QgA+ADEAGwDv/8r/0//j/+b/EAAjAAoAIgAGAOT/AQDa/+f/AADp/w4AEwALABAA///v/+j/4f/v/wMADgAaABQABADx/+z/5f/u/w0ACQAWABwA/f8DAPf/5//8//f//f8QAAIABwALAP3/AQAAAPb////8//f/AQD//wUABQAAAAgA+f/8/wAA+v8JAAgAAgALAAAA9f8AAAUABgANABUACAAGAAIA+//7//3/BQAEAA0ACAACAAoACwAIAAgABAAAAAIACAAKAAgACAAGAAEAAAABAP//AgACAAAABQADAAIAAgAAAP//BAAAAAAABgD9/wIAAAD+/wUAAAACAAgAAgAHAAQA/f8CAPr///8AAP3/CQAHAAYACgD6//z//f/z/wAA+v8CABAA/P8JAAIA+P/6//b/+f/6/wkABQAJABQADQAIAAcAAAAKAAgABwACAAEACwD+//z/7P/e/97/4//d/9v/2P/Z/+X/8//l/9r/vv/B/7b/t/+x/5z/pf+T/7f/pf99/+H/zP+7/2AA2f8jAGoAFQAbAGUAVQCNAM0AVwCjABUAHQBxAJAAUQE4AnUBkgG7AjoAnQFAATb+XAHA/tT+4f9G/uL+g/0r/rv9Zv5Y/rz+Ov6L/vz+o/2t/+n+1P6J/5v+mP9Z/xsASADP/6cAGQBRAAMBUgEgASMCmgHcAUACVwI1At4BKAPKAWsC6gHHAAMBQAK+AKUB4ALM/m4CLv8T/qACDgA5ANMA6/4r/3UBfP1cAL4Bvv6NAhT/y/9gAp3/Z/7DALQDqv4fAqwCnfxaALwAc/zrAOkEEv6T/4IBe/7+/ZYB3QCR/TABH/+R+v7+4v50+gD+vf3c+p78l/+i+8/7tf8U+1f7yQCe/TT9+ACw/U38oABFAKf+SAIiAzcAMgAqBCcBXgKyBskArgDHAzT/ogDRBF8BTAE3AWL+FgAVACcABQDi/qT/lf7l/QD/WP6v/d7++P33/n7/mP4t/lL+5f74/vP/rv/y/gj/3/3p/rj/GP8sAE7/ff+aAG4AWQHpAawByQHmAXID4QMIBZoE1QTCA4gDKwUBAiEFSAPxAeIFjQHcBaMDfANLBJ/+IgM6AvsDTgEKAzT/dP1+Aq7/qwIcAngBqv24AKIFnAMgCBwFW/9YAPYAcQAvAA4Ei/9P/CT7rvrV+4361/mD9xj4Rfnc9cf1q/gJ9ff00vb690P50vvH+X753vvi+qr92f/iAcYBuQAUAhsB/QJZBi0GvwVzBvEEiQOpBWUEgAQ9BlsGzAKTAr4DCv4MAGQACP3eALv+fvun+7v8Sfsw+kX+5/2D/E3+ZP62/RkBnQBq/9IBSQKKAeMAkwKmAoH+xv+p/0j+QACN/tX+Xv7v/Br8JPy6/RD/J/6b/Sr/Zf6o/tAASwGRAq8DpAMDBcoFQwe/Bk4GYweQBREFsggyB5wFDgkuBTsFUwXNAysDiQOyBNsBFwFFBSD9EvnRA7n+zgHbAqX//P+tBIoIswhLDOQHKwJP/0kFjgXsAiAG+/5P+JX53Pbo+Hj4Zffo8wnzivO48O7y4vDF71PvBfH59Dj1W/eg9o70Gvfw+M78uf47A1IBif8xAi8BdAPRBaUFowSJBWIE4gOkBNkDHgLcAMAAjwASAQEDbQNWAYv+Ef+Q/jf+DwGAAYwAGQFJAPz+jgH7AQoAigE3AkkDgwULBNwD7gJGAnwCYQLnA0kENAIHAC8AOf8o/ln/nv0o/kD+avz2/pL+CP6n/df+5P16/w4CKgDnARsD6gIVBVkHdAgyCYEIKwjRB4QJewp1CtYHyQgeBpUAiQYDCJcDkgYsBdoBZAbj/zX/2wbcAtP9tPyK+6T/1v6T/SgFGgd0Bi4F0QrSFJ4S5wXFBRAJMQVZA1MCXgUxBB/3KfBn95n3ZvDF7CjvpPAy66fmUuv27CzpaOYu6Cbwz/Ic8TnzMvYr99L1hfhI/p8BXASSArMEbgeWBdUEPQaOB7cFDQRtBV0FLgPj/5X/W/7i+3j8jfsv+4T8Av9T/Rn8fP4V/VP5Dv4QARH/MALEA2//5QCmBoIElQVTCE0IhQdGBwcK4AfjBaUGEgNyAhAFqgPF/wH/9PyP+gf5mPld/Db7P/vR+yf71Psj/ST9ZP8XAEMA7QChAbcEKwbOBgMJFgqVC10MBgvZDOkKJAnzCPwHggd1BSIEgANxA9oA2/1jBGIEZ/0mAFv/O//fBSwDcP3kBMv/5/ZZAUAEEQX/CckGKwvQFLsXSxfDEP0LXwqaBOYCqgZ4BSgCD/w+8aDxE/Q96wfo/Ohs6AjoyuWC5xbq7OXJ4aDi1+UZ7t7y+fHO95j6pvbJ+C/9DQFqBNUDUgTqCMIK1AocCaYHFghgBcwDuAbwCGgFXAMxAav8hvvT+S341vmH/W/+2/2l/kX/ov2g+qf9+P/x/6sCngSoBO0F+wZMBZEGGAlICZcIngkPC7MKVQmBB6oF5ALEAKwAZ/8Z/tz+afz3+on9Lfzk+Yj6fPre+mb95f5bANgBuAFAApUCAQUqB9oFqQZzCIUIdwmnCskK3ArfCgQLSwuQCCsFnQTvBEkFrQPuAX4CDwH0/iT/CP/A/rr9ef/rAtIBLgBoAt4AHv9tAuMBmgCnBBIGoAbIDQ0TOBWSE6sOhQoGCEcD9v6B/YX8lP2p95Xy8vc29+Duv+vh6qXra+md5GPpDe2l6kPqgurH7UrwHO3i7evy+PNT9Bn2PPn2/av/L/+NATAC6wD7Ae0CRwTGBXIFEwbqCCEJ4whdCd4GkwQWBEkDuQPEA5wCgwRxBZEEWwZxBokELQM6ATMBHwDi/l3/Kv+MAA0BMQE7AgoE/gNNAi0DcQOAAh0ClAJOA8kCIAKuAe0BuALnAaQBqwKyAxsE3AQ4BugFHwdqB6UFWAmOB1cFuwgSBaIFGwaCA6UEowI3AhsCvP9Y/4v/Wf6Z/+b+2PwV/pz7evxD/RP9HP/P/Vj+sf44/1UBGAEBAFsADwGzARkCmQMWBJ4CewJcAtABuQH9AVoBRv9X/c/8CP12/EL7k/ju9+f4kPdR+Ab6q/u2/Fz8mPwP/g0Ae/+5/bf8AP2F/sD9Yv6cAKoAwAHsAdQBtQKKAQT/nP1y/TP8sflA+Hj4dfiR9zL3RfdD+Fr4vPZ/9vf3O/jO9uD2PvhP+Vr5svm4+r77/fxR/W79BP/Z/0n/xf8lAAkAyACGAZgCKAM5A0wDQALMAtADiwMUBOQEqwQdBKIEqAaDBykHZAftBtwH2QjvB6UIXAkYCKYHFwh0CNgINQhdB/QG9AVyBXwFTwUeBfYDdwIzAvQBUwHIAGn/j/5w/hz+rv7W/nb+uv0W/O785/0g/Rj+Cv6z/RD/h/7d/jEA3v+7/6L+3f6CAAcAXgA8ACv/SgCLADwACwErAWAAb/+g/s/+of/U/rv9Kv08/YT+ev4L/rf+9v2F/OT8D/4N/4T+iP3w/WP+dP6W/av9A/5R/cf8gP1F/6j+KP0L/eL9t/3m/H39B/5D/lb9Iv35/uv/0f72/e7+K/80/o794f7L/3X+pf34/ev+Sf9z/gH+qf7G/mT98vxr/uH+yf0O/UD9v/0T/tz9YP3f/e79VP2O/ez9Gv69/UT96fx4/WL+Y/6m/lP/1f/k/+X/XQCpABQAx/8DAMAAmwH5AAABMgLqAacBAQKIAh0DegLMAX0C6wM2BGoDQQPJA5wEKgTMA+oEwwV7BU8E4gQqBjMGrgWUBRoGzQU1Be4EjgVlBgUFUwQOBY8EoQOcAoECzQKRAfwAxgEMAkABJADj/14As/9K/nL+Yv7w/UL9fvzx/Nn8/fuC+8X71/tX+x37v/qk+qn6rfqp+kL6mPqL+4r7U/sK/B38lfzM/B38Yf33/if/MP+7/2AAXAAgAG4AdQHLAW4BtQCbAOcBiQGtAIIA2f9P/5b+i/7f/vH+uP7H/Qj+Sv7G/UL9EP1S/UD9h/0U/tX+Df8M/3D/hv8uAGEAaACBAGcA5wATAcIBsgGWARoC3AH9Ab4B7gETAjYBCgElAV0BzQB1AJcAOAASAG3/oP8dACQAzP9D/w4ANwB6/yr/DP8M/+n+DP9R/8//FACw/2P/7v/g/1n/gv8a/yf/Hf+I/ij/fv8M/7X+Uv6n/vv++f44/yz/Iv9G/yz/oP/OAKIAeQBMAS8B/wFsAj4C7QIhAz4DJQM7A00DrwMAA1UCLAPDAuACxgIRAncCFgL2AFoAxwDJAFoAov+F/5oA9/9m/8L/t/9nAOn/K/8wALYAYwDn/w0A5QAmAUoACACfAEcAHwDJ/xb/o/+L/zD+9f1K/vD9xP1r/TP9f/11/Rv9ofwe/er9W/0X/df9HP4q/j3+If7w/uL/hv/L/4MA3wAGATQA3gBcAbcAygBiAJEA4gCgAHIAzgChALD/lP+P/xAA8f8s/0j/Sf8x/w3/5v4y/6z/UP8i/33/BACTADAA/P9TAIgAgwB7ANUAagFrAeEAlgATAbEBRQG6AJIADAEcAY0AeQCoAP0APADg/0oAtQDrACMAAABUALoAiQBjAEIBHwGvAMIAIAHHAZIBAAHuAAMBVAEtAcQASgH/AOL/zf/B/7z/p//d/pr+c/5D/hz+pv1k/QT9q/yh/PX8Rf1R/WX9Y/1P/XT94v1N/mr+O/6+/k3/q/9iAHQAhgCXAAsA+f+pAOsA+wDEAGEA9wDLAKEA3wC8AN8AMQBOABwBTAEnAYsAcgCKAAYBDAHFAI4BkQERAUEBogEIAloC7gH8AX8CVwJ0AuUB9wEJAk4BwgHOAdoBhQG2AN4AwwB6APj/yv8sAN7/ZP+p/ur+k//R/ob+1v4Q/yv/CP/W/h3/Xv/u/sX+E/+G/2T/CP+M//3/+v+n/2X/rf+2/07/Of+y/9D/if9C/1f/eP97/1v/7P4N/zz/1f6V/sb+Ov/k/pP+9f4u/4z/pf9R/73/9v/c/7n/5/+pACIAZQBTAH4AeQB+AAIAJgA5ACIARgBVAM4ARwDOALT/zP+Y/zcAeP8w/y3/O/9ZAD//ZgCSAMr/BwBa/tL/Uv9H/1z/j//sACT/CwGf/sEAuv9EAHUAHgKSAof+0AF6AKH+EwGfAMMAuAJrAdEB1/+6A+v7NAGu/4X9IwJT/S0Cp/0SAmb+oAHCAGT/OQKO/0ACPABNAGAAp/+m/WAApP69AewAKQHAAq0AqQJo/+ECmAEqAu8BJQDJASf/zwC7/xQB8ABx/0QAd/92AWoAJAF7AZL/jQCA/kX/2/+u/rMA2f6IAQwAJwBvALP+zwBp/tQAcP+FAe3/6P/Z/03/dP9I/qAABv+HAEz/xP/E/tT+lP7E/5b+0v12/vT8LP5F/Tv+wv7y/sD99f1O/4L/tP8PABIB3QDm/2YAUwDeAOsA3f8SAN3/XP/S/tn+Av8K/9b+if6r/Yj90f0J/Zf8t/zA/KT8e/u2+/b7fvwa/br8HP2J/E/9OPyl/DP/kv35/X/+aP0d/0f/IwDFAM0AggHqAd0BVgE/A2sC8QJuA5ICSQTuAzEDDARsBIQD1wPkBCAEIQTeBPcD0QSMBNUD8wMzBPoDQwMoBOsCiAN2AwICFgMhA00CAQMhAoIC6QInAdIBtQDuACAAd/+DAKL/if/e/6j/V/+t/6H/RP9x/4z/Yv+K/tv+J/8n/oX/hv5A/xQAZ//J/x4ApADs/zgAGAF0ATgBNwP1AjoDcAP3A0gESgNzA/ACOwLfAPwAEQC7/0L+IP4d/Xv8if3i/In8yPtA/Bn7u/rm+iv6U/lv+BH4rPcw91v3Kff89tH2+veA+Av5Z/pS+ZH7dPuT+zf9afzZ/X3+zv5X/zMAbgBrAbIC5wKtBOcFewa+Bm8HDAltCYgIuQgkCC8H6QZrBgcGkgTVBL8DegL1AqIC+gJIAgsCegIHAvEB2QGeAY0A7wDYAIP/mP+s/xIASf73/p8AsP/y/6cAsAAbAZ8BhQGvAt0CwAFgAQcCjwEHAogC5ACYAc0BFQAEAdMAmABHAfD/Cf+3/7r/1P+9/lP+ygBA/hf+Mf5t/9f/u/3t/mv/6/3K/jgAPv3p/7z+qv3A/Uf+sf48/Gf9U/2O/Tj+Qf/u/QIA7//m/3MCPwLBBIsESgOVBb4G+AVLBQkEQgTEA4MBzwBmANv+0/1h+0D87fxB++r6mfnX+mj6Yvke+ZX3j/aQ9Xr0SfTz8pPxA/Ln8MXwY/Ll8q7zxvTJ9of4nfnJ+/f73vxK/yL/TwC0ARwBrwFwAncE/QQzBRsHjwdgCQsLPQvDDTQPeA4ND/8PERAwD5ENUgwzC+UJiQeuBesEmgKTAskBDgEmAjcB8ABtATgBUwGRAIz/d/41/YX8Q/vD+qL5K/lt+fj5M/v5+zT9/f6M/9cAJwNcAjADagT3AkIDsANLAooBwQFuARQB9QFgAWcBMwKAAaoC4QI9Av0BkAEoAdcAgACY/6L+O/4C/2X+c/1h//P+lP0i/wb/Pv6N/yL/8/wV/r3+m/zJ/I396fuF/Zf+T/4cAJMCRATzBPMGkAhTCs4KWAreCY4JVAhpBnMDlwGnAFj9Pvvi+ab4Zfhj98H12/ZU9xr2DPb/9ab0SPRU9DzxiO9b757tceyx61nqM+sz7Efs/+0Y8KbyM/U/90H5Gfz+/r//sgAMAtoD8AQwBDkFxQWnBjQIGAmPCfgLAw/oD6gRjRNlFX8WjRYLFkUVfRRWEgoPNg3hCi4IQwYaBAcCOwKXApEAtADTAWsBbQHMAR8AJv+i/mr8gvo8+e73kPan9Q31vvXc9p/3EPl9+rb8NP8yAEsCbwPnAmEEiwQtAwID6AIZAkQBgwEpAWMB3AKKAnICFwSxBYQF2QVEBh0GNwa7BHwDMAP2AoUBcAB2APj+QP9a/33+Of9Q/lP+Pf6q/YD9s/34/C38/P1H/av+jAHrAdYDuQUBB3UJGAtmCp4KgAuzCm4IEwaDAzcCa/9U+xf6C/k99+L18/S09GD2pPQS9O/1WPT484XzCfKo8Ejufe1e61jpd+hM56joTOh46HXqEe0J8OfxvvQK+Tr7KP2kAMMB/wODBZcFigejCDoJUgqYC6ANbA7yD1ASBBNgFCIVixbUFpAVWxWdEykS8hDiDVIMoAqyB5cGTwWIAwMDYALPANr/QwB///j9zf3Y/M77F/vJ+Tb52/g4+C34t/eJ+Df6wvq8+/f88P7UAIQBcAJBAwYESwQwBNUDdwMSBKYDUgKuAhkDywLkAoMCagOVA6cDOAR2A60DnQTUA14DPAMRAt0BcwHS/yf/V/9h/bL8cfyB+zr7MPzg+sD7tP5p/qsAFAOzBM4F9Ac9CcQKDApHCWEJkwdnBiYDngC2/nv9h/lH99z3u/an9ez0hPSf9ab2XfTa9Ez1xfOz8jfxte8l7m3s6+mY6Ojnc+fa5pXnQujw6X/sAe/x8Qrzp/aD+v37hv2R/1oBPwMgBDoEAAaxB8cIpgkrCwgNCA+sEDYRQROQFMoUEhW1FHUT7BKsEbIOXw2yC2MKoAgcBk0FpwW+BGMDMANVAqoCkgK0AOv/Xv9t/pL9Efxn+2b7W/r5+jT78vvs/IX+RQBkAPMCRQSmBOgFEQYOBrEHTga4Bs0G5AVeB+AFyAXJBZYGuAZ7BTkFrwU8Bb0E4QMgA1sCQwEsAoP/9P4eANH8rv3I/VH8nv3B/VH/ngCxASAFxQdNCBkKoQt3DpENYAyvC7oJrQm/BK0AJ/+b/Nz5i/Yk87r0yfMV8bPxNvJK8rTxQvGI8A/w0O4q7GLqZ+kQ53DldOP74ZriCuKX4oDkQeV06CrrTO6s8a7zdPdO+z/9+v6sAU0EvgXvBt8ILQmIC2YNYw0+DloPrBDbEFEQ+BDzEPQP8A/5DoUNNA14DKoKSAmBCNMHGAZlBDwDewPGAkMBjgBAAPEAGgEaADT/iQDEAXEBXgCZAW8DzQOCAysEfgWtBroHSwd+BxAIoAiNCCIHbgYMB9UFXQXWBBAEkgPnA4UD5gG7AgADWgJrAc4ARADnACr/OP5l/mz+mP8mAMkAigIvBk4JgQoJC5sOmBFVEvgQbg9bD94OjQuDBWUC+QHZ/h/5N/Zk9jH2yPMW8bDxH/Mq8pjvKO4I7ZrsgukH5RXj7uAg33jcGtrc2XLaC9so3dXeL+GY5YPqXu1b8Mf0TPnA+4j9OP9yAe8DIQTTBJcEcQahCCQJjQhlCpsNhg+uD18QbhJSFG8VwRNKE5YTlBOnEXEO9QxkDOIJ9wZUBSkE2wKLAZEAqP8e/wz/Tv9M/lL9q/2//iv+aP1E/oD+j/8sAD4AGQKMAxsEnASyBdkHgQinB6MHRQiJCNoI2QeuB7cG3QXIB94HVAfiB8AKIw6SDzUSchZRFyUZzhvoG7Qc8hn3FgYWSxI2DQMI/wNOAb7+fPl591b5cfjr9Qr2jPgs+CL2S/Nc8zvy4uz452zlquGm3aba49aF1QrWKdbJ1uXZDNzv317kZug47IDuFfKQ9v733/fj+ff7zvxd/CT9iv4PARMCTQKmBGcH8QkwC/ELNw0vD4wPvw6HDTMNfgzQCtwItwdiB/UFegQhBPgDUwOrA7MCngLbATgBXAIvAcr/NQDdAFUBIQEEAKkB1gNFBMADwQMFBUcGJAXvA8gDjwNgAx4CyAH9AaIBvgLBBR0I/goVD/oUfxfLGH0ezCFUIsUhoR7hHjIfBRlhExEQMwwdCjEFmQAoAZ8AmP5o/Fb+1v9S/w/87PlS+cD2+vEV7UHpBuOI3jbaDtes1WvU+tON1orZwtyH4Vzm2urN7bXwlvT49kX4RPau9fb1o/Wd9gX1ifUo+sb8Yf3yAncHyApQDRQOkBAXFEMScg4tCyYHfwMRAM39qf63/1n/VgK1BnUJvAklCksJ7AlpBl4Cvf80/Jb3jfZq9xr3Kfsr/Qz/zwJPBh8F2QcrCYYJGQ7FEu4XTSHLKykwWjXiOHo+VUI9QP826S/RK3kiYBZnCv8DHf4Q883p4e03793sq+cb4x7oV+kh4cTbf9if0znPJ8jZybzLKsi+yvfSxdtO6Irv2vfjBIoOsBa1HCkhOiJwH5Aeqh3BGNIUXA9QDWEJQwfFCH4F6wPwAWz82Pwr+VTypfGj7EXo6eax5BznNOnA6SXyEflE/PgEzQsADSsPmQ7kEOcRqgs+CIwIWAYVBKMDDQOVAucAgv///tX8lfiM91jzCPE2+DP9GASREZEjMzjHQYRGeFO1Vn1Sw0t5NDgkfxgmAl3yHuSy3bnhjNax2obtre2L8ZXvm+vq7WrfgNU6zry79rf/smywHb51xZvSDuM+8PQIzhe5HIcmXyeCJSsjixrXFNQNdweOBxEF8wULC+0L+godC1wK2wNO+bLwreXq10TPv8vyycvIiM9S2v3hEPC1/8UIgQ/MFGwZeBlRFg4V0Q5PCrYLMgyJDT4OJxRfGk8anh6UH9UZ4hVHDaEDEfoz7y7rgeeU5ePr+vdlC/QjIzmoRFtMDll0XpVXr0bSLSYdFQvq9Ejo0dxE3Kzhst1p6zb9YAK1BWn9Jfit8Szd7s8Ev3qrAKZqokarsbl+w2XWXeiK+5ERbRokIwknyx0YG2sW+xD9EN0HGwWBCloLcBXBGYwWkBlZEUMJzgT39m/s9dzLzQ7P/cxXzYrVldht42Tu6PYqBQwHTwfYC38GYgeLCZoGkAZ4A98K7BaAGFwdZCK2Il8j7B6SGPkNLgG1+Ejwluqj697xIPkeBPQXHjAzQthIwUp9TwJKoT8GMswYYgS58jDp0uZ23nDie+0G8sMCSQz2DZITnQmeAHLyL94i187GLrWgskSwu7vdy2bWQOjO9sUHwBmbHBEg5iDtFPgOZgpnAmH86/ag98/5Cfi+AOMJyQjrCUgIkgLq/3H4de4L5X3ZQ9hN1+TS4ddK3fLh5+qA8kH8SAPDA+cI0wq6CvEP4w9qDzYR9hAOFk8a9xtKH18dQhpzGaMZUhqPFkYV+RhZGwwi9y1rOF05CDdqPDE5MzG2KGsYBwuD+f7s9uev3g3gB+Lq3YHoo/C09k38/fXj+Xbzxeb35V3bhdTa0E3J99Ag1+XeTO8f9yYHeBGFEpgcbhrwFMASvAfn/572BPAZ8d/raO2Y9f30qfvRA/4EcwfRBCsC2Psz78Xp8+Th2XTXp9e61o3cMuTf7+34wP6iC4MS7REEFj0WLxK0DQEJtQWjAQ//kgBiA0oGnA3SFX4cwSXFLrQ4lUFkQglBfUCYOmk0xiuNH4AXrgs1Alv8S/Yi9Yj0f/JY8nDzXvM29IXvLOoD54feB9j51ajR1c/Kz0rSLN1p5IzuJ/3vBFAPzBd6GjceFxnhEwkQjgPn/q35wfCq73jukfKm+W78BARzBooF1wm+BKv8evU66evh39qa1ATVpNGI1Rvgf+fP8tz7jAJxC0oPJxI3E8IM/gh/BPT9Y/qK9lr04vUx+GkA2wtHFkwkmS/8N/07Lj5hPuM41zA/JvAbNg8wBZADPAFG/8kB0gOzCOcNUQ8EEGIK1AIY/KTu4eRe30TUFs5czJTN8dX52kTjX+4v8x781AISAgYEBAJE/Y78kfZb9Gv0AvLq+Nz9OQIJDBcRBhbvGsAZpxiME7EK1wO7+Lnu7Om/5PTisuTj5+3vgPaJ/FIEeAiVCtwJNwYnAmf8jfap8EHr9ent6sft1PNg/YAIUROxHZEnJyxXLbUu/iq9I3EbihNRDSoGawA9ASACogXIC1kO6hMxGKgXChadEKYJDgNx923vtOn14DTfgt+U4K7ny+tC8P/2bPjy/Av+G/n59p/w9uo+6pLkpeK15Gbl9e3I9DP7rwQ4CN4MoRFSDwwOiwraA/j/zvgA9s73/vbB+AD7mv6uB5AMJQ4cD3ENQA5VDCMHdgK7/MT5Uvil9Q329/Zt+r4AmAQ7CT4PCxQrFy4WfxTLFIcRQw5AChcFmQNNAq4BLgPYA+YGTAqNCwcP6A/jDi0ObgvgCGAFSQEW/+D7y/kP+/n6SPsI/f39zf9p/639Hvxl+GT1P/HM6+XoXueC5uDmrOdR69rwmvXP+WD8cP6fACEBK/8v/BD58fby9Sz1t/XC9+X6zv7uAX0FpQkFC6sKuAm8B0MFNAF8/XX7Rvl3+KX4Cfq0/sEBJATdCHMMuA8UEFsOmQ88DqYKZwhDBd0ERgQkAuIDkQXzBpwJ2wnqCh4McAqvCZkHUwTlAcn+Jvwu+8v5w/mk++/8rf4uAHACAgWGBTEEHQM9AXX+Wvzu+RH3bfS/8n3ze/SN9Bn2zvci+t77oPx5/Xz9Sf0//If5h/cH9+X2e/bI9Df12fe4+b77cf08/4MBzgEnAnYCGwGPAJ7/fv5G/qv9Kv59/6wAhAKTA54EsQb9B4cIXwjUB0gHrgXRBGoEXwPJAnECRQMtBXcGJwclCP4IOAoFCuQI5wgJB6UELALk/zT/Zv7S/R3+M/4H/24BngK8A5UE5QQgBTkD/AEkAQX/+PwC+yL63Pmh+Lj4yvlY+nH7xfu0/P/91/1z/qn9+vtr+2X6iPk7+Bj3Sfcc9y33vfjN+eD6Bfxk/Wb+Yf3z/bP+EP4w/Fr6AvtV+2/6Rfoz+4388f7M/1sBigMPBUcHmAZkBmgHfgc0BisF6wQQBX8EfQPxBKMFigV3BX0GUQfSBgQGeQVdBbYDFQKpAMr/1f/M/xz/E/+QAOMBDgLVAfQC7wMmAwIC7QGHASEAUv/F/mX+J/7v/WX+lf6U/qn+b/6Y/hP/Xf44/cX8xfyR/Kb7ivvF+777e/uS+2P8rfxE/Cb8evy8/L38kPwm/S/9vPw+/ef9VP5G/jf+of6q/tL+H//e/lz/CQDv/9H/UACDAakBdgGqAiwDtQKeAp8DfQSNA9ACaAPsA9YDagMTAxADEQPlAgwCswGgARUBcwB8/2//mP8Q/9T+d/6H/jL/9v5F/2f/I/+V/1D/Nv/l/oT+A/+w/uL9hf5E/4//mv/x/4QByAGaATAChAK2AmYC7gHHAYEBbQGoASwBHQGNAeEBrgFNAYQBYQH2APv/9P5J/k391fyO/DX7IfvD+wn8g/wi/C79Bv6V/Q/+aP55/p7+Tf5t/rP+vf7V/6gADQEvAhIDsgNTBKQE7QStBO8DPAPoAjQCrwE/AYUAkgBtABABxgGbAY8B3AFqAoACWwFdAEsAxP///tb9QP2f/e39IP4J/ob+kP/e/8r/nP/w/9T/k/4a/gz+yP25/er9av7F/ib/uQDSAeQBTQJ3AswClQLYAckB7QBVAD0Agv+B/6j/yv/a/4L/zP8KAJn/Sv+W/tX9OP2J/Cn8k/sl+2/70/s2/M781f1I/+3/ZgDjAN4BSQLHAacBRAFzAXoBZAFrAXYBAwKAAsECCQMZA9ACbQJFAhYCPgF6AP3/2f9r/wT/c/+r/+L/MgApADsAigDFAKUAsf/m/iP/8v6Q/lb+//05/pP+bP93AIQAiQBaAeUB+wGKAQ4BTAHJACIAHwAQAIYAhwBLAAoBqQESAucBiQHGAXcBwQD8/yv/p/7x/VD9SP1Y/Wz9Zf2B/Uz+4v4B/xb/FP9m/z//2v7s/pz+Pf4y/mj+wP67/v7+EgCQAJEAyAAzAQMC1QEqAQ8BKgFoAfEAMwAcAF8AqACyAEUAJgCZAOoA0QAvAAUATAAjAJn/Iv8k/zf/Ff/f/tL+F/+f/9D/kf+x/1QAuQBIAOL/CAAIANX/jv94/4b/ZP+H/9H//P8rAE0AwwAkAd8AugDlACwB/ABYAD0AQAAYAAoA4//O/7//sP/b/7r/1v/0/6n/ov+z/6r/Q////i//Pf/i/tX+TP+j/87/3v8MAJEA/gARAd8AowDBALMAbQBmAAsAsv/Q/w4ATgAyAFYAuQCdAIcAvwDOAKEAMQDQ/5T/Wv91/xL/kv6M/t7+9/7G/lz/5//W/8H/JACuAJoAfQCJAHwAkwCoAKoAnACyAKcAiwB2AIgApAAgAKj/Y/9I/+j+Xf5i/nj+S/5V/vz+iv+v/+P/mQBUAT0BNwF+AXEBNAGQADoA4v96/0r/tv6H/sz+OP9g/0r/rf8PAB8ASgBUABIAnf+W/5f/G/8f/4X/sP+1//j/qwBHAYcBiQF+AYkBigFqASMBzQBEABwAKwDi/8v/3v8CAAgA8f9OAHAAKAAxABYA2/+J/1//XP/1/vH+LP84/3z/1f8vAI4AvwBFAVEBLwE0AeAAygA8ANv/vP9A//f+8/7a/uD+1v7w/in/BP9D/4P/X/8z/xD/Pf98/2H/U/9r/4T/FABlACAASQCXAKUATQC1/8v/t/8E/+b+3f7h/tr+5v6H/+j/MQBrAIsAzAAyAQMBsADiAJ8AiABSADIAlwBdAEwAmgC3ACkB3QC8AEsBBgHQAIgAawBkAAIA9v/V/6b/EAA+AAYAKgBqAJYAagBBAFoAIQDV/8n/7v+2/2z/iv/b/xkAGQAyAFUAbwBjADAAJAAbAOL/hf8q/0z/gv9g/07/c//E/wEAOQBvAIQAhwB1AHwAgwBPAO3/2f/g/6r/h/+L/6z/rv+v/7n/xf+v/9D/8/+4/3j/Q/90/5j/Y/9u/5L/6/8pABwARgBxAM0AuQAxADsAXwBhAAYAwf8XAAkA8P8qAGQAcQBWAGsAhQA4AOj/8f+d/2n/M//Q/vT+DP8t/zT/9v6F//f/wv/S/9z/CgAhAN7/2f+x/5H/1f/f/77/xv/T/xIAWgBTAFoAWQBDAFEASwAkADAA3v/D/+n/sv8DAAoA9/9LAD4AcADFALEAzADJAIUAxgDLAIcAZQAnAHoAWgD2/wEACwAYAAcAuv+N/6j/qP+n/5r/lP/9/zIA/v9aAH4ArgC+AHMApgCtAIgAkABzAFMAbgBqAGkAYgA+AHkARAAFAAoAp/+Q/2j/Nv8Q/7T+0f7z/rj+6v4b/1T/lP+r/9v/GgBCAEUAKAAJADYAGQArACEA8P8lABYAOABIADwAWQBaACMAGQAaAPb/1v+U/3z/Vf9Z/13/dP+H/7r/4v/U/xAASwBoAE8AOgBcAEkAFwApAD0A+//p/+f/6/8BANf/7P/J/9z/9f/R/7v/1P/n/87/sP/k/0EALgAUADQAhACAAH8AZgB8AH4AbABUAEkAcABUACAA+f8TAO7/xP+L/2v/Uf8n/yr/NP8x/x//Lv9Z/7P/uf+4/wAAVgCVAJAAwQDaANQA6ADpAM0AmQCSAHoAaQBRADMADgD1/wAA9P/7/9X/4//W/6b/o/+d/6P/q/+t/7b/4//o/ysAFwALACEAFwAYAOH/yf/T//H/2f8AAP//EQBTAFYAYABTAEAAVwAlANj/1v/F/7T/rv+U/6j/zf/O/xMAEAAgAFIAQABVAFsADgAAAOj/xP+s/3P/k/+E/z3/R/9n/2v/gv9K/2j/rP+j/5//iv/G/xIA8f/0/xsATACPAKAA1QDcAMwA8QD6ANYArABvAGcASwAFANn/1f/l/9z/zP+8//3/OwBBADQAQwBqAFwAYgBhAGAARABeAIUATQBlAE8AbQBkACoASgAyABEAFADk/7j/9P/S/9r/6f/5/1sAIwAWAFwALwAvACgAAAAXAOP/3f/q/6X/yP+v/4L/yf/M/9H/2//e/wcABADX/9b/4f/R/5f/X/9U/1L/NP8i/1D/WP99/6j/0P/x//n/DgAUAAgA/f/e/+v/EADp/+v/8f8ZAD4ANwA6ADwAPwBEAAAA5v/q/6v/sP9y/4D/sv+S/7n/zf/T/+v/7v8MAAQA1f/p/wgA//8PAA8APgCBAKkA2gDeAC0BLAHGAI4AcgBBAMr/T/81/1L/bP9g/2z/z/8nAHMAxQDgALIAsQCcAG8AOADh/8z/if+Z/9D/sP/p/z4AaABjAJQA5QDWAKIAkwCWAFgAIAAkAOX/v//K/9f/9//e/9z/AAAAACwANQAKAC8AMQAuAFEAXABkAH8AiQCJAIAAbQBoADwACwACANH/uf+X/3f/Z/9C/2r/Pf8u/yj/F/8r//b+Df9E/1P/f/+X/7b/7P/+//z/5f8NAB4AHQAQAMv/7P/U/57/mv9d/2X/cf9W/4j/i/+s/73/j/+s/5//qf+n/6z/z//p/+r/EABNAEQAWgB2AIwAXQBcAG8AVwBnAFUASABRAEUAPAAjAP7/CAAHAPn/DwASAA4AOwBDAGYAQABGAI8AbgB0AHQApQCgAIAAaQBxAFsAHgBMAE8AQwBhAG4AlABfAAgANQATAPn/9v/3/9n/aP+f/5f/Rv91/63/vv+o//X/MAANAA4A/f/n//r/LwB6AH8ALgGvAZQC5wNuBM8FuQVZBEEFdgO1/1D+APuc9g70xvM78Tzzl/fr+KX8fQHaAzUE9AfdBxIGjAU6BOz/mv4AAJoAuQH0/RH+ogB++6f/AgIFAFoI7/+8/lUEMv1d/cgBLP+SARwDpv+MAiL/KAFxADwAugSHADMANf/n+yn+Mf1n/GYBPADr/8cBDwB/AU4B3v8UAkoCVP9gAF0AjPyL//v+//2PAaoABwDSASEBVwF9A3QEYQRx/0oAuP62+C36x/v3+V/8PwC//vgBpARxAdkDaQS0/wYClADk/aj9ev4b/jD8YP9c/tj+uv9+ALAAWQBjAMUAogGk/vIDdQBR/1wDIv6sAIIAV/+D/pYAvP21/O8A5P1G/6v/gABj/6H+ZgAT/3z/Zf9Q/tkA5P5T/nEBef1p/+0ADP7///YAUwC9AowBFwEWAvT+cwBKAOwAKgHs/6YBbv4b/xUBRv/2AbUBBQABAaL/WQAlAFT//v/O/3T+/P/4/oP/KAFA/aACGQC9/5//p/8RAbb/dAJR/vEBkP+NAPn/l/9yAVj/JwGN/0ICc/4eAJEBKv/u//v/OQAdAJEBrQC9AVEAEgFJAeL/TgFzAKsA9P9J/wYBvv3X/BkAmP39/DAACf4W/bcAQv5I/8//q/+1AMb+1QBQAED/KQAuASr+of+AAa39Lv+KABL/df5PAWABiv4sASYBvP9RA58BvQHeAZIB/AIMACsCmAE9/28APQF5/wv/eAH2/dT/RQDC/ar+vf1K/3/8hv4U/lf97/0A/+L+5vyLAUD9rf5H//L/ZP9wALMBEP7dAckAVf9pAMACGgDDAN8Bxf86/+QBNv/k/7QBZ/+2/7b+9gAF/N8Ab//U/RcAzf/B/9b99AFy/v3+jwGs//P+MgIUAJAATAKCAEoA0QHDAA0BvAHP/2IBhACfATH/XgDrADgB0P5TAPACYP5FANYAGwDI//EBzgAW/xABbv9f/roBeP96/xIBEwCW/woBm//D/zcBpf+DAMP/mQJ5/roAFABn//MB4v7x/4AALwGb/MAB5f+K/YsBif7x/3z+qwGD//T9+gLM/dcAiwCX/+r/Kv+GAAv9KAIo/Xv/NwBD/b3/J/4GAXr9//87/9D+JP6E/3L+1/7GAIv9GQFK/t3/of/Y/ooBef8gAYYB4P5DAeP/1//D/5UAyv5qAKAAU/6jAef92ABeAE0Ahf//AQkASf4aAeH/Yv7LAOj/9Pw5Aqv9Bv7VAFAAOf7DAsz+bf8fAzX+bQA0AdT/M/7lAf78/v5N/yH+1f5W/3QAqvyJA/D9pv52BOP+rgCNAtoAvACDAu7+8AAtAfX+uv6UAHf/7PzVAhv9A/9LAVr9VwAbAFX/kABhAuz8QQInAfb8QwQi//T/wADVAPz+iQA1Afj8+gP8/fH8uQSP/jX+HALu//b+eAHW/mX/1wOV/A4BdADt/7D9rgH/AGX7bQUW/DYCzv/mAPwA4P5lBGD9BAN8/5n/kQATAjP/zP08BUT7dwCSAXD+GwBt/joCF/wMA0X+Lf6SAmz9gf9WAG3/qP18AcL9pP+D/hf+0QBx/Dv/H/+m/D7/Tf0j/vj9rP0O/s79Zv47/Zn99P2j/XD8/v4f/E79Yv5O/ZX+n/2Q/WX/U/6G/rj/g/50ANb+ZQCRAKT/awCUAPgAAgHdACQBRgL7AUwCmwKqAsADhAJBA34D6gFxBBYCdQLrAvgBKgNhASgC9gHyATICegEUAjcClwI7A9MCfgNEBFAETgXUBSYG1Qe2CE4G+wh3CQ8HhwhOBrIFOQXsAsYA+P9G/lb8Rfz1+WT4lfdZ9xD2bPXb9Fz0TvSC8l/y9fGo8aPwH/G/8Jzw9PGG8cryOvRx9Wn2yviy+an6Vv10/TT/cQGlAWQDMwT7BFsG8wa3BzAIFQgiCXIJjAiMCZ4IjQiOCEcHdQepB38GNAZ2BqcEJwU2BFQDWQTvAqcCjgPkAnoDNASuA8sF4AXeBm8IlwhSCj8LWgtJDWQNpQxQDiINmAyvDIAK5wirCBcFMwROAi3/pf2b+xz5FPcN92/zffPc8VrvK/Ay7oPs0uy660nr0upW6jHr9Oud69LsfO5v7y3yefKB9B337fh6+lD9/v5wAE0DeATRBV8IWwn8CZoMQwwJDBIOtA3gDCcNIwxiDJwMnQpTCRsK5QiUCIwG+AXGBYwEpgMAAtIBGAD7/1v9Yf0R/an7XvxG+1D74/uq+5r8LPzc/B/9lP2C/nH9vP5c/kX/Nf/D/9v/OQCVAPIAXgEUARIC8gF1AvIC/gJJAqgCuwHhAYMBcv+6/5X/LP1e/PH7c/ok+tf5KPgJ+VT6APop/rgCewU1CFcM2BLOFRsXAxjUGuQe1Bw+F78RvhRbEQUKLgTpAAgCEv9B+l/0E/pq+2P4GPYu9ev31/bJ8zPu5+7e7tnoH+RW4Xbgdd8M3q3c292O4qDkoOZz7MfyJPYX/JYAhgKnBlIKKwwoDZYOmA3TDm0Q9A4CDnURMhMoElQTUBOnFJsXuBbcFJ4U1RS6Ek8ODgt7B1kGFgP3/Lf6RPmS99n10/Qt9AD07vX59Fz0+fS+9T/20/WG9YL0L/dM+JH3Jfmh+3X9QwDeAYYCQQb+CDgJ5glMC+ULbQykC3cKLgu/CpAI4wgSCJUH8gasBV8F5gOBAv8A5v+t/eb7bvlk98T1wvTl8qjxxfId9M/3fvrO/6EGhQv8EBEXsxtqHr4hxCGIIgoiuhu3FugTaA9YCTsG//+n/Tr+3vra9+D41/l7+Bv5ifTC8qXx3O0V6Q7lVOEU3IPZTtXU0c7RMNP507HWCtsy4H/lKeyO8zn4tP78A18HEAsdDUkNjA4iD4gNuQzbDC4MgAyGDhAOjBBzExQUihZQGWQZshl/GTAY5hVcEvsOWAtvCHUDBQAu/sj7dfqm+YX5BvqO+fT58fhh+Ab5//cY9x/3v/Zq9aX3QfiT9mL43fpc+xH9kP4o/yQBQQLSAakDhwOkAt8EAgShA5cECga4BnAHjQfiBtMGkgTgAlgEJQS8AdUEjwU1AmEExwaeBiYIOgdpBB8EAAA5+zH79Pgr9sj1pvRc8kXvZOen44/o0epY868IhBhkGTwstzk0OlZGUDzHQPRFFzyeLnEb9xLDAgjs/NZgzCC+Rb0bvfa/J9Kr45Ptyva+BTgHBAsaCn38ce464nnIYLmYsiOsnLVGw+fSWuyVBekY9TErRzhRsFBGSNs2gSUBDRX1O+ZF2A7M6MSdx3vTSOFr7bX8yA3xF2QaTh1oHXAZSAxd/TDzV+gd4Wbhceks99cGfhdIKnQ7jkeFTeNOy0ptOpYlMxBR9hbhz85Ov3e4VrmrwgzRteLB91IKVRgXIo8mciZZIqUYQw1QAfP1ue4l7DnwPfda/3kIsw4OFa8ZexfoFHwPuwY+/af08+717OPvxPSO+q/9iwMOCD4IWgh+A5f/ZPq68SXr3uko73z0fPgOALwJlw7BDSoN3As5A874ZfDQ8GEOlDVmR5lUKWb0ZqNhp10wUO81Hhbm43CfToMOhciEDINYgbWFtKqn3LDwSxEdP7dM30RaLWAVegua+6fmb9yu6272v/j5BSocZjg5RmA3DCC/Dnny0Mumr4CcpI8yj6OR55/cxXLxnRWHNWdMyVHXSiJBCTLyHyINVvkn8UHwM+r0+IIZEjCSMic0GDcnLYIbMP5K6efbfMTzrTSsArveypHm4g4NMFtK4lx8ZQVqTWDhQzIiaAIf5OrJ6bhktA+84spu3PH3BhDYHasuBTpmN/Qt8CC8EQgBVPTr7S3q1+hL6izwl/bE+ob3SvfM+Bj2TPJL8s7wJvDO+CYC6Qr2ER4aOB2ZHekZshZyD80DMvgi77HuRvAw8kTxPPYGAtwMbAxPCY8JwAVf+ubzPe7C4T7c+9fVzefJhdUt56gIB0SDbrtyaHHqb/xt3Wg+WBUn9ef2uZ+QpowujSuBZY3vpaPELPINJnEfAB0IOeYq9gHW4X/K7tMh9wX2Zf6eLA1PRETNOdU6VCu1FLrhAqZJku+O1oy3mZ2xe8oQ8bgPTiXJRK9TBknqOWkuFAqK6qvm1+/p+QAKFA8HHs0vvimJLEw0AyLh8jDSCrw6s3m6L7xqzvfxsQWuE0MyaFMSXZhUPEHsLEYdJRIBEXIRWhLtDzQDufR/9XvxKtx1znzKlLxytN7BndVu+Y8evSxeP9JU6FIhS/hEYieK/9Pkz8ehrkGtNLrfxzXdjvV4AuwOCR22IXIdGRumFQoOxAldCmgI8gugE0cO3QR1/eH2a+vD4Drayd1b48rmte/YAyYVpR8yJE0hWCFhHK8NlPsi6iLZyc/ty5PTEOIZ9Ir8fAYEIDdVkXtfdQxzTGtsU0A0cwsA2ZK+H6p1iw6HmYyyjrKzcdJ76pQOexcZByn/DxYeI7sRQgM3AO0IuhpKHU0wyk25SK4c9/Zt4NjQnMLso4GPYJrmpP+pZMhv9TQYZyXqJFceNx9UGN0LORHvG4sazhYGIGwxUz/4RN9ARTPXE/fsG9cWyh7EaL/yvYTJjNtD7wIDWho0KgMrGSUOHXoZAxlDGzgkhyvdMow7nT1BNEQh/AXb41zB96QrlpSUwqYkxmXl0gf2Kp9IJlrMWH9LHTyKJmEGqe5n6fPkxeE66MzuZ/VEAT8BAff68kjvSeZk4s/rbfg6BmkXGyLCJ4wkdRPDAUz13Ock1jjJf8ejz1LkVfoRCFAVsyCOI14dohWIEzwMHv769abyr/Ia+GX/VgIpAg8Bb/s78Qbl8d5d3ALeH/hiLVhnAn2Gc3B05W5xUsMhpOawuW2TXoDxhE2GEJ961dT99w3dEc8P3wZ983jk1OlR9FT3PAPeG046clRzXUVVZTyHEazb47RyrNeqg6jysMzDdt0q8CD7Swa0C4cBrO0k4/fnuflbESEr5Eb5VWJV30wfQE0zGhr09cnbu89LykLMH9x988wAp/2Q92PzC+mx4V/k9Okl86f9/g0AKxtJcWOacPJjcUyiLigJaexA2fTGBLoevO7Dms5I6McA0w7cE24LlgV5B30LSRE1F0keTiPGIzkekBUmC6n7QOnf07bH7svK043gNvQRA64J+wt/CggJyQsAD0cLDv7e9c/4Ov3AAqkFKQWzAbn40PJh89f6twRIClAM5gkHDeISHw8kDW0JXPla62bkl+B550/xo/LQ9QL5sffH/TAAw/RG8Yn07/48M8Js/nFUagprFlSNLxMPVufrxEu1aqGgk9WgELui2UnmV9nqzlfLxcLvvrrTSfgBGvYtKDPOP0tLAUeLPRsoWQn66q7WSdmD6gD5sPTV6S3l39bpxVe9vLv/wxPMt9NG6mMN4ir2OrpDMES7NWcglxfYIpAtCSlTJaokmB3VEqkDOvfN6UzNWbbRt6HEEtUo7TAEExEjFcgQZhQsJhEtwy7UN1o3gDKIMXYoHhqVDKv44NwVzVnO9s280PDdPevQ8c/xJ/Op9/YBAgv6BwUP9x1RH9wjXSvIJEQY9AkZ9BPhpeWD8mPz4foxAPf6Df5F/D36L/6Z+2n5PPel+RQAzgTxBH7+LP3v9APucPgz/qkD+wuSC4oKcwlMBZkHIA6PBsv85wDOBa4FW/yG9Wr5WfTS64jssek16DTtT+iM55Hz0P6eH2lh33uVZkdfUEKcFS0M3vjY4a/oIOwa1wa9a8mB1HnIBbT2nI+s28MIx43b1gPrKDkpGAa8+30S1R6pFPwN2hjkJywqJBtUE9IZMAWh1s27MLpsxX7XD92G5ITvYONVzr7RqOpe+BP46QNgIls1tTPqO8FIoEKIJXsNwhHDIoUn7h43I74jVwVq3IPXTuN233XXCdvC7P/2vfarAy0XQxU4BnL5zf0xDAsXdSLoL9IrRRG0/Lr7OQHV/Oz6l/51+QPysfRO/goGOwXDAij/pvyyA+kGcwcoC0kK8wJ+/QL+YAHCBpcGQQC//MX1tuz576vyv/H984r4xQRQDkwNMASeADj+F/eb92H/0Q1DFZQQuwscBcP4hfOc+G3/5gIYBFQD6AAbASoCXQHLA4sCA/h87u/mk+2u75Doz+fk8pYO7zwvcsBwU0iSIHXzAfZ+Bi0EAhCLFXQPM+q3zr7JSMf9w1y25bii1PPfHts149vkyuPyzVm5nszk+3YeMir3K7gmYxqfBx35CQNnHfYgMhILCQIGFQZdACDntNty2erTFd2W7x78pfvD743lyN8r4I/tpAYwJBIufCRYISomtCWeIb4iPi0xL/skKB6yJf0noBetByv/oPer6yHpsvfCAjX+R/DE5Fvfd+Cu6I71uwddD3sNJQ3KCv4H4gGGAcQH5gouCx0Ifw09EmUHUP01/xED3QGDBVQJNwjECBoE2QImCJ8ELf7c/CP8tfht9v30TvIi9Cv1gffCAO0CbQD4Au4GzwrRDBIOsA7bEPsTxBA4C6oFQQAd/In4Bfj3+ZL8JP+Y/rH7m/fA9Oz1wPNR7jjw/fP08wDycOvx5kLnWPAEEQdIbGhTRV4L0e+u8W4OxyJjMitNKT5g/mi/Tbi03Rz56AKuAg4E++70uMucpKzxzT7bhsnbyA7ereKN15DVweb39tz0Ye0+/H8bfyGPDh4CEgcWEVcY9yNXM9o1/BoW/cT1fP7gDFUVBxzeGqgD5uYf3RTodvRb+awA2Qk7Bhj1yOoR84P+jQFxB2AV3h+VGlcNfgt1E2kWBBWJGhgjpB9dECEGBwhHCUEJxg70EboPiQZY+MfyXfZk9RXzZfoV/hv4XvIW7wD0vvpb+K/1nfiw+u35QPspAX8NjBdXE2YMwgpeCdoIewoXEE0W2RTSB+n32vPD+Pz/jQZ6BRj/Wflz+c39Mv3g+PH29vqHA7kEZfzp+KT9oAEFATf/NwLuCL4NnwprBDwGUQfjAbP8/vzcA9UEeP1z92j1l/Nw6vzhbuXN7fzwc/Cp+1kT1BrwB0r1I/cbCCcRUAyTEUogVhyp/WPnTPfvEuYcihAJBE4DHe4yzpvJg+ilDmkNAvOQ5MPk19/yz1zVK+/dAjL8i91e0JbWR+DT7n78CwaDAkH3hO7u76v9jAtyHQgn5Bt9DOgEJgq0D3cS6Br8JN0lMBEA/ZT9EAcICyMEFQUODjILKP1U80T+YhAHFXYNzASpBa8Eg/1d//AKDBeOGR8RpgZ3AewCDQQFBiEKVQnLBTkBc/wY/Kv+DgCo/rP7CPiw9L3zHvao/N0C0AMDAYT9ivyE/Zj//gP3CTMOfAzdBV/8Q/VI934AewrwDBAH2ADe/WP7Vfdf93f+TASfArH7n/ix/GL/Gfxb9ur1/fkY/dD+oP3a/NP9Dv8j/eP19PJx+eoFcQxoBKr6Qvmn+275PPQq+XwE6QiHArn3s/Xh9z/4Bvu2/2wE7P6j8+3xVPZf+Sb3i/cU/nr/qPvL9g75iQBo/0X7lftFAawEEgFHAmAJ+A+cD+MJYQeUB+sISQjlBQ4EHgDC+7L59fmB+hr6zfs3/Ur9Nf/ZAGoBeADbAFYETAeDB/wEtgb/C1gLbwQf/tn9DgHaAHv9WfxD/aX78fX58hv2tfkD+4b5X/gv+D/2kPZF+3MC8QeJBhQCsv6V/Eb9aP8oA0oG8QbRBpwE4APxBEIEdAPNAZ4BJwT+BUkIqAlbCm4KHAj7BlgGageACbkJpQlsBu4C8QJrBNUFVgTaAaQBVQIxAn//i/11/mj/lwCC/wn+o/7D/hz+7vu7/HMBegUCBcj/4fwT/m4A4wBT/xcASQH//vT6x/j8+hr/WgBv/Xv41/V39XH1uPUE9zH8NQHC/jj46vUw+6YDBQa2AmUBwgHb/uX4OvkGAnYHRwNf+t/30f3v/zT8DPu0AOAGmgHq90T3xv1uArv/xf1zA7AIywSf+4764gNyCogHWwAs/Qr+n/rA9e/2Pf0OArP/XPt5+y//VgCG/osBUwckCGoCMP2JAFkHugipBIoC7AWFBhMASvrC/LUD9QQvACf7Ofoj/Q//FQAYAhQEkATgA6MCdwD4/7wBuAOQBXYGgQZVBMX+O/oN+7H/KgJDAcsAPgEDAFH7oPh3/Y8EjQbgAsP/bwARAQ7/vvwi/wAETgSY/x77ofzuASYEswGd/vX+3P/J/Zr7oP3DAqEEfwAP+5D6a/1q/VT7EPw1AEMCM/8A+7P6pP7JAJH/2f9oAt4D9QFe/4b/7AKtBkEHGAaqAxsAq/3b/BD+uf/IAIkAbP63/Nf7DP2B/48ATgKOAw0C8//K/wgDdgZKBYIA/PxP/FX7b/rG/awDcAb3Aoz8pPpU/cX+zf0S/rYAsgEi/4L8k/5uAwMEAADh/LP+2gHa/xv7f/n3+4392PsG+8H8Zf/Q/gL7j/qn/bcAvQKhA60D3QKiAk4DyANdAzMCngLxAxMDdwAB/5z/CP+X+175sft2/1QAvf6u/Tr+vP20+wH8lAB+Bv4HDAXpAQgAlf9V/1YAhgLeAjQBcv1C+977n/u5+0f81f2y/2r/D/8g/wYAmwBSAJYBDQM2BBQElQKTAYMAwQCRAqAE9gTsAicBmADRAA8Agv9hAbECWQGT/mL+NQF9AmcAIf2b/YAAZQBJ/sn9qP92AG3+bfxP/T0AZgDN/cH8Nv7w//H/8v90AWICAADb+6D6bv1mAKAApf8yAJEBCAGr/i/9+f1Z/7v/c/89AOMBMgJ4AUkAFP9c/rX98/25/jf/Xv+c/mT9pv1d/0ACiwPtAdcAVgGMAjEC7AJnBYcHwAcGBOABHwT8BiYG+wEaARICsADw/E/6I/3TANr/h/x3+uT6rvwZ/Ir8Y/65/z0A3v73/Uj+DAAVAV4AJgEpAjQCGQLA/z7+Uf6R/sH+Df+/ACYBtQAVABL++f2W/QX+WgC4AfMBwAASAqECigFF//39IQB3AKv++PxJ/LX+XwAo/8z+lf7I/gz+Of08/9IBWwK6ACIAuAG/AVMAiP/VAEsB7wCzAP3/oP68+wX7Gvzn/pMAHgCm/nb9hP2t/dX/HQI7Ax4Cuv93AAsCywJkA0kDJwMgAhH/XP1Y/nYAkwIfAugBQAJrAYn/3P28/X3/pgDH/+n+Gf6J/Q3+pP6i/u7+5f6b/p3+pP4h/6sA8QKWBB4EtAKJAPL/5f+iAYkCcgEWAY//fP/c/t7+h/8OAfQBMwEOAEj/9v5u/lH+GAD3AowCFAHs/0EBgQFbAOUAhADP/1v+ef2D/1UAtP7X/Xf9cf9UAEwAxQFtAe3/9v3V/fT9Iv41AX0D/gOEAqT/Y/xL/Ob9Q//oAPL/Rv9o/mr9Xf5DAIoAjP/e/Xz+bv+iAA4DiQNKBckEGgEMASD8GvRa+br5l/ooAsr/df1N+qT7cAIDBaQFxAPJ/6gAGP/5/aP/V/1XAGwAlgKQAev/fQClAVwAQv44BHwCSAVFBL36Eflg+6z91xD6Ga38QvjnBhPyzwOUCYH9+QLB7RH6q/8xBRMAp/+u/a8BZQ00AiMC5/zyBM73UQAB/kP77Psv80MA9wHzA6/8ov7q+ZUAdv/A/9oDnv5C/5L6sP/iAXcC2P/7ABkEuQKU/Xv+NQBuAC0C7QBkAmEBZvxv+4cAYP2kALYBVv2I/xz7xf6dA1QEYwRLAhgEXwE5AjQEzQJqAjH+Ev0t/xX//Pv4/ScA/P07/qf8F/+aAej/2/4OAQYArv0W/5j/EAAL/+r/bf7q/3D+kPyqANb+AACtAF3/Af5XACIBuP+0//77BgC2ABoAiP/j/z0CPgD6AP0A2gEsAWgCLQCiAOICDgEE/9b62f5RAsoBXP/j/KX8Yf3w/jn/qAJCAX3/cgCL/C4C6QPPAMX/Hv8VAb3+IgFEA8YBff6u/oj8+f60AlH9UwFHAU0AlwHI/pYBGwNRAgYBGwBsAFIDNwJc/aL/N//t/mr+zf4F/xX+3P9J/D7+b//I/gUBWAHxAXcBFgH7//IA5QCjAPwAlf0Y/77//v+jAUwAff9S/vr/D/1V/vMAYABEAOX+u/64+xj+jv39/BAA/QBNAJz9zfzz/7UAdQAZArkBMAPGAFYBgwGbAqIEhQGpAWwClgFLAWUAEP4TAAr/sf0EAOQAmP9n/e/8BP+9/o3/WwHB/QP/FQBpAUABnf/4ARwBGf8Y/jEAzAF1AgUA3/1BAJr/+gCwALYAlQF0ARwBxgAYBKkDIgPGAlQEIwV1BKkDhQJIABj/1gAYAcwC8v+f/Cz8Kf1S/h7/Mv91/8X+e/4O/hT9Lv6P/Wz9w/zD/2b/E/uo+gf87Ps5/Rb8nfmH/H369fkw+mj60vnM+tP+/PzY/Mz8pP8RArIB3QI2ANYA+QKeBHAGLAMFBC0EBwNyBaoEowNxA7QEWQQWA1oFugVqBNYDfQOABoUGGQRKBKsDSgTaBCMELARnBOwEdgMOA7cDrgFLAbsAzABqAckBN/9k/Tv/Pv7m/d/8gfvK+jL6+vdV+Ln7Xvyd/cr9r/6OBJUMdRizHj0WqwjRBgQQ2RaYGVwVeRK8CzQDov1s/bkH7QeW/t721/Tl81HoCd/a5VTx7fDp5fHbbdvG3xTb5dun5tHuH+9P5ZHhYecc7w/2kfZJ/f4D5AKp/wX9ggMEDMMSpBXnFFwSXRC9EFwQqhFjFsYYGRe3DqQIlAfWCH4JfgehCSwFSP5g+FX03Pci/WT9avhc9qP1DvS49Hb3dfy0ALgC9wD3/GX9mP/2AcEBzQPQCO0FtgTeAcz+UAJYBVwI+QWFA3IDhf6R/awAUwMIBzEFkQAP/qz8r/5XAR0DXwKgAWgA3vwk/eL/UwToBfkEsAK0AGkB7QAhAnUGLwlqB20CtP4B/8ECngR+Ah4D2AHw/EP8s/aJ9Yb83AbbFlchXSC9E3EN0Qr2DswSfhsbJZYevA/Z+HXy0fex+0P/rgEsAhT6Q+RI07TVvOAz5zrnl+VZ4+fbE88By/nV2eQ76+3p8uli6djlbuQ96An17QJvCGEImAOZAfMBlQMQDmkUHxr7GYIVPQ5wB60IVQ9HFvESsw2lBon/V/o99//6SgFIBMQBG/fr8pLyYPOI+MwBPgqrCWAFewAbAIEGYgvfDb0RRxO2ESsInAQjB2QJaw9gDr0K6QinAFv5I/ro/wEHZQa3/eX4g/ay99n3UvuTAFn/rvya9bfz6/cb/aX/UQOPBBIC3v56/ZwAmwVjC6cM8Qk+B3gCKAMSBsoE8wmqC7MIWgWE/mX81wAGBdgFjwIhAP3+y/tT/hwDIARyBcb/P/qY+dD1MPVk9xz37gH2FTYmfyVTE7QDqP1OCx0apx6xINMb/wm58h7p6PG8AhgImgIi+Y3tB+Ev1P3TgOC+7SXv3uE92Q7UnsxUzfvVgeS88JXupuRF3OrZPeIR7s/7uQdmCkYIvf6Q9035+gNwF4kjMiHkF3QOXAWhAhEFphE4IMceOhR/A0T4qPfn+KgBQgofC0UGGPma71XtYvGe+1gEyAriDakF2P2d/bv7MQcqFEMZOBYPC3AIVQVJCO8PLRSVF/IUsw4SBZwAnAP1CkMQoBCxDTUBm/e/9i76wgGABagDDP3i9VjzC/Jm9JH7UAIoAhL9ovnQ+aP72Pvn/tkEDgh/B9ICtf9NBLsG/AVaCPUJoAqpB6MCpAN0B48JFwfjANz/lQE2ATkBsv3a/qUCF/w5+Fr3xfZ4+sj5BfMn8rv0G/L/898CbR5zJTIWHQfH+dMG/hZQGt4ePh2xFrQBsO/I9rgHLQ59C8EBafaj707fHNvh5fXwqfX84yjb+9iH0BzSB9Oa3F7po+R/3BvYXNd73UzjSe6F+5T8mv73/Oj3T/05ArMQ9h7bHD0aVhUfE9sSzw7UFo8jaiV8Hc8PugraDAMJTgiIDNQQRw83Ai75Xvme+lb8nQA6CPcMNAep/Dv3QPiV/0AIVw7VD7QJSQDi+uD9OQesEIoTmBABCgwCawEPB00McQ6CDXsLVgM6+/79fQJCBxgIUwFv/Hv5tvm4+Eb5Dv68/NL23/Px9d35jvw1+l35XPqZ/H//Bf3HAN0FoAY3BZ8CwwR8B3cIEQYLBW0JGw3SCeEFoQWbBGwEbAEQAu8GDwTb/ob8Bf06/rz74PgA+OL4uvZN70DuTfTz+MsCABRZGX0TlgcL/IcDgw1vFZEbJht0FgAC2PEd9YwBpA12D3sIegMQ9kLgndqQ4Xn1zQA99NTnENkEz9/NetJ+5Orxn++15RDXA9FM1rDdeuyJ+cL+4P83+YzzTvTS+qYK3hatGJ4ZPxarEogQqg5cFa4gnygvJV0bShbyE5cPvg5rFCYZmhoaFIQIvQAW/lIB5ANzB88NYAgv/IH2FfKs8tv6XQDR/oj6Fftd+TX24Pv4/On98wVzBfIAzP8IAuEE3gbzCT0KSgkyCJQGjAUFCFkKsAr+CYQEKQWeBL4AYAPEATIAdgAaAID+FP2P/0D9FPuv+tz31Pea+tz9tP5t/v/8X/un+eD3Mvpx/5gEWwVpAun/HgAAAoYBVAFRBP0I0whlBP0CRwOuBBEEvAGsAdYDbAbJAU773flL9+b0yvLW9mgHHRdvGpcQMQBn9zT36flYBb8VzR6/Fjv+1+n+5JPtiv1tCe4R+hCn/CPjCdSr13jqffryAUn/a/J94DXQOc6d3HLuVPnT+WzxyObR3G3Yo+AG8dgArQahApD7YfOi8f/39AERDRAVMRcbE6ENnArfC7YTKRufHe0cGhqoFhEUoBS7F8UZihiIExwOZAsdDN0QyBNDEZkMcgVK/kD7P/pm/QQDrwTx/8j3B/Wq9UL2M/rN+z39m/9d/dv60/ua/+UBNQLtAZQBSQKtAjwDowSECOUJpAYNBbYCLgOmA8cC6AUEBxgGPANb/z79XPuM+sH66/wJ/4L+qvuN+ZH4BPdU+If46vjL+pX6v/ss/dj+ugAFAIv/X/+D/z0AWwDwAVsFwAa9BZgCNwAaAmsDbANrA1MDbwTiA/7/X/wd+hb48vWz9O/3sQDjCRgQXRH+D0wMkAXC/y78yf5wB0UPchEFDb8Fev9A++D3QfdU+lL+l/+P+UzzUvBq7WHq3eeL6LPpPukH58njsOVF6S7pfedJ5orlZuYi6XDqnezW8GT1p/i1+kb8qP06/xMBVwNYBygLtQ0sD1AQ5BKGFLsV8BdpGo4aphcSFWkUSxVkFugVmhYUGPEYCRcgEisOwAvQCnsLIg09DGYIiANg/or6Lvp9+/778vwH/A/4tPT+87v18vfG+af4A/YN9d70qvTl9b35cP1h/2D+o/yh/Af/3gLjA6kEWAZxBmEFvwJgA6kFHgg5CX4HvwZLB0sG2AIxArEDnwTxAh8AX/8OAHAAov6B/N79tv4I/Ub63Plt/Oj9vP0k/d79xf4aAHn+dvys/YX/WQDW/yj/gv8XAb4BlP9s/Q//yf98/Sf50PVm9f31M/fj+/UDAwzWD8kNewtQCk8I7ASHAxME0QNn/4H6FvnP/NoClwTTBfgGSAUj/4n21PG98X7xUvAo7qzuh+/t7gLukO5i8cXxXO+36mLn0OSa42Dkn+ZZ6lLuCPL39OH23Pkr/Gr9Bv4G/Xn9n/6NABoCQQW0CwIS6RRoFSgW2Rc0GUgZmRjRGEEZNBYFEr0PfRFJFLEWnxnJGg0aexaMEIkLHAlyCFkHtQQRAez8R/lz9uj18faQ+S/7Pfmf9lH0B/OA8qfy9PMt9cz1QvW289P0EvjA+xb/JgGWAo0CVgE4AFcA1gKlBSEHgQdkB0QHpgbPBtcHwggsCN0G/gQIAn0AZP/b/pT/ov/H/2b+Hv18/Fv8Xf42/7/+4/39/UL+y/zO+zX83f2s/8b/7P5d/hAAUAGHAOH/MQAnAHT+kPzI+rj6dfua+gX5oPfK9lT1avPU88v13fiH/HP/eALqBYAJOgydDYoOwA4+DakKuwdLBc4DVgL2ANIAiQK5BPMFFwbbBWUF1ASIA+AAxv3W+d707+5z6WfmpeWy5vzoeetc7TDtQOsh6pLreu4y8bTyZ/NQ82Xxju/z75nzdfmh/usBEATWBV0HgwiQCmgO8xFrE/USNxEvD9INVw2/DtcRYRRoFVkUlhMyE24S1BL8Ew0VIRR2EWoORgt/CTcI9gbSBZcESgJk/hb8F/ut+7r87PwU/Pn50fjn9xn3jfdC+Dj5wvn9+Tv6nfoU/EP90f1O/n3/q//H/vH+zf9CAXwCzQJRA/gDCgUhBdsE1QUyBhsFsgIKAEr+Yv3V/Jz8Tfxp/PX84fzU/N39T/8nAHX/G/7q/CD8kPue+pj6PfwL/i7+0/wN/OD8AP6U/gr/nf9y/4b+efxd+3n8Uv44/3X+B/5R/S786voX+o76NPtf+zj62vix+Eb53/rK/X4CHAd4CZsK8Qq8C/EMmA15DTYMhwopB/8Blv2A+4/8M/+nAaACfAKeAgUCeQAd/wr/Zv8m/q764/V88Yvus+zP63Xsx+6E8OLw6fCc8Y3z4fX597z4FPmp+ZH5+/ju+Mn5a/sK/eL9G//jANECfQQSBqkIEAsyDLIM5Qw5DTQNLA1/DXMNSw1IDLwKQwr2CjsM9w2wD7AQtBABEI8O3wyVC5oKdAk6B/wDSgBD/Vr7vfqV+3z9of9YAMj/rv9cAKsAHgAX/5P9y/tN+Sb3LvYa90L5vvvU/cD+AP9h/p3+Qv80AIsAIAAp/yf95Pua+y78G/0u/sv+Df+Z/pf9FP10/bf+av/O/4j/JP9O/vP94f1P/m//jv/k/2X/bf94/5X/FAAnAFoAHQDq/63/Ef+2/mn+LP4N/kD+Qf5R/Yv8m/uj+0f86vwZ/nn+Dv8h/tf8vfvT+oD7yvvE/ED9Mv5R/wsBggNkBtoJPQwRDg0Pqw5oDWwLdwnBB0kFGQOWAFH/zv7p/qz/XACKAfEB7gFcAa0AkP+W/TX7nfg29k7zLPCK7Vrs1Ot57MTtEfAY89j1E/ig+Vr76Pvk/Ir88/vI+uX4C/iu9zT5Bvt1/VsAmALxBGEGxgeLCNEJGAsIC18LMwqiCbQIuAefCLEIFwrUCvoKrg2BDWEQlA9vEIcQbw4yD3EKDwxrB84GIAOaACEBVP5UAXT+QgILAf0BMgGD/2sAhf21/Vv6U/pC+Q75gvj294v4pfi5+Zv5IvuL+yb8IfyP++P7EPwU/R79ZP1o/Yf90P3q/WT+nf56/0D/MP8V/3T/FgAPAKcA9wCvAb0BfQEyARcBrAHmATwCTAKTAqUCLALCAe0ATgEyAR8BHAHNAB8BFgD7/97+kP5a/i3+mv4E/i3+HP3W/Fn8jvzu/Pv8J/1i/E37Ivq/+Sv6lvtu/WT/LwE1A+IE6QbsCN0K5QsUDBoLHwlMB0UFzANFAqIBvwByAND/4/+cAKYBGgMIA1sDDQLZAEL+ZPsy+XL2X/R78bHvWe517qvvaPFE9PP2M/kb+sH6ufpG+gf6nvlI+ZH4RPgC+Lf4BfpM/Iv+GAEvA/gDIQURBQEG5wXOBpkHpQfVB+cGAQcIB0UIXQmYCmcL0wtzC74KlgrFCpwLFAw3DHgLNwrDCIEHcQY0BsIFLwUfBPoCNAKXAZIBowGUAVgB7wC4/8/+9P3f/ZT9J/0D/Wj8NvzZ+477tPsl/Kn8jfxy/JT8rfwS/TH9Iv4A/qj+Tf4h/lL+qv2e/pH9nv4p/nP+4f4B/0EA5v/dAHwAUgEqAVwBSAEHARoB9v8LAKz/agDjAOoAIAG0AJ8AKQDE/7H/H//x/kv+A/5j/bX8Nvy6+xf8+/u3/BH9S/1v/f78J/0e/TL9X/3d/AL9MPze++T7IPwj/VX9mf5H/zMBxwL9BJQHtgmgC5ILcQtACgcJZAftBXwEcwMHAjIBUgD0/4sAMAAeASIBzgGSAa0Ac/+n/NT5Xva584/xwfCp8D/xg/Li8wH2Wvcv+Y/6Qvvz+5L7sPsA+7z6V/rI+TT6uvoV/HH9T/8XAdkCFQQXBVkFiAWoBaQFLgYyBrAG0wb6BvgGsga8Bk8HswduCL8IEglVCSgJRwnGCOAIdwhqCPMHigfoBtgFIgXhA1oD5wLdAtMCjQIuAtIBjwFeAQ8BwQB1AOv/6P4i/rf9lP0F/jf+Y/4h/pb9L/3y/AH9if1x/a79Xv2a/Dj8ZPuo+7L7//tS/Mf8Af27/K38mPzb/K78B/08/Z79Lv5M/qr+4P4r/wH/6/7H/tf+OP9S/yEAGQBUABEAav87/3j+7f7F/uL+rv4y/iD+r/3P/Zr9B/5h/pr+xv53/mL+If4C/hD+Df5M/jL+9v3b/bj96/3n/eX9BP5N/ij/rQDyApgFpQiBC6ANng4uDj4NKAsICaAGVQTWAgAB2f+u/jL+CP5r/iv/GgACASAB3AAl//b8o/ny9Z/yLO+l7HLr6+vI7XPwe/P+9pn5Rvs5/DL8iPxR/Bj8C/yT+5v7U/s9+577g/wl/jUAYQJaBFwGcQdRCEsIawfPBnwF8ASPBGsEKAWaBXQGQgdtB88HXAjHCCsJGglNCUAJrggECAcHhAYfBiEFHQShAxADmwJUAiwCTAIhAmsBkADp/6L/Xv8b//f+ov5c/u79qv2H/bD91f0i/i7+sf2Y/aX9zP3I/aj9Uv0w/b78RPwX/E38lfw8/Br89fv1+0T80fyM/Q//OgDHAN8AUACe/2n+yv1W/a79ef44/woAZQBWAUsCJwOGA50DfwOJAn8BNgBp/0T/ef+p/7X/dADWADoBbwFTAUoBVgBn/5D+DP4U/kn+nP79/j7/Df+y/hn+bf2C/LX7KPu/+u/6IfyH/hoCaQa9CloPExP6FM8UzRKjD1ELbQaxAer9aPsR+tH5o/pp/Hn+DABKAcQB0AH5AK3+5PvZ91/zoO7A6brlC+OL4qLjqeY86/Lwuvaq+5//jgGvAgoCIQAV/nr7EvrW+Kr4/fl6/DUANwSkCJkMVBCgEpgTCxP6EBQOxAmlBbABKP8O/lv+LQD0AnoG0QnWDGgOBw8NDjoMsgmeBv4DNQFN/2j9lfx+/CX99P6xABsDIAWLBsMG5AVEBPQBef+r/GL6lPih9733+/hP+0D+RAHPA2MFmwWXBDkCmP+e/Bz6gPjF95r4Xvo//RoAEgMYBekFxAU7BGMC+f/f/cH7SPqp+fr58/qf/C3/RwGyA7wERAXWBBED/QBP/pT8PvvV+uT6zftM/eX+uQBbAisEpAR4BFMDNAEK/8D8xPpK+X/4CPhx+Hj57fqv/JL+dgBZAZQB0gAo//H8/PnB98323/fO+tn/twedECcaCCIeJ9UoryW0HiIUiAhP/f7zQO4z7Mrt0/HG9+b9lQMwBzYIhgaKAYH6tvG16NvfTtjT0jnQBNHj1P7bAeXD7+n5tgL4CFoLcwqVBUD/MPg88mLvDPDq9Jn8dAYFEZka+CEXJoImryMcHq4W1w54B1QBFP3J+rT6c/yL/9kDWwiqDHQPhBArD0ILUQVa/pD3wvH+7gjvp/Lx+OYAXglQEP8UABbSE8QO0AcZAGP5oPQy8l7y/PTy+bv/pAUuCjQNew0jC2kGl/+W+IXxjezn6WXq+u228w37LAJXCEgMgQ1XC58GXgDe+d/0+PEr8uv0rPky/woF6wngDN4NiQzQCRgFPQBx+0f3dPSz8ivzePVl+Rb+BwOCByEL5AyNDFQKfAbLAQj9mPkC+FT4UPpv/aIAZAP1BDkFegSfAh4AK/1F+qj3b/W786Dyu/Ek8TDxNPJm9Rb7fASnEJwd+ClSMho2XjM4Ko8cdAtL+3ft0OW45HnpbPIV/CwFWAr1C74H5/+v9BLoidxM0hjMkMg0ycvM+9O03Rzp8PST//UHHAzuDFEJXQPj+5z0gfBf8EX23AA0D3IedSv/M+418jE0KHIb4AxJACX37/K387T3MP4fBD0JvwtcDE4KZwYpATL7X/Wd74jrQ+kN6jHuFfaAAUgOhhplI/cmfiRNHIcQSwPu94Hwq+6Y8hn7fwUWD+cUDBYyEtgKhAHM90fwLevd6anqNe6E8gv34fq0/VsAqwGFAnkBp//X/C76p/is+FH7EACsBjANqBJOFYEULBBhCdUBrfpB9hb0b/Xs+MX9oALlBdwHAwehBL4AN/x9+Bj26fV396n6nf4zAtEFBwhvCX0IyAbzA4sAyv3O+sv5N/lD+hD7NPw0/Dr7VPiu9OXx4PAZ9fz9dQ2aH7YxNz/0RPdAvTMaHzcHBfCw3eDTINOi2yjoKfb9/6EFMgRo/ZPy+eSN2BnMjcQywN3Bx8ei0YLfku/tAAMPxRidGtoVLAqP+6vtX+TX4pvopvZTCY8dhC2xNvs2ci7cHx8O+/0N8R/pk+bN6Hvvo/f8/0IHTgzYDrYNaAogBNf77vFZ6b/kmuWW7T/7Fg4uId0x4jvCPSQ3Oyn5F08GcPnq8Rbx6PTc+2YDvghJDOEL/Qh+A8P8zPVG7yPrC+jX5xHqX+8P9w3/aQYOCpMK2QZMAZT7lvcR94r5t/90Bw0QMBYaGYsXEBI3CsYBE/uR9Qfz6vF382P2mPqS/+ECUAVmBI0CQ/+v+8f4WPZF96P5Gf9MBjgObBQTFiIVTBBRCjcDzfzL+Jr2mvZH9kH3SvdQ9aDxVe0p6y7rNPE4/j8Snih9OkRFhURoOognxBBe+57oTd321gza9+Em62Hzl/dm+/v4XPUv7d/iIdeAyfDAIbw3wpTNxN8h9lELoxz1IhAipxdKCQz6Xu897R7x4/rBBYMRNBrmHrEfcR3KGJcPWwR9+JTtQ+ML3Pza/OAS7bD7yAoKFgoa9xW6DOcCGPre85Hy5vY2AK4LmRiqJQEvYTSmNB4xaSigGnYK0fni7S7mseQ46bbwYfh0/YMBlAGy/rL6L/YT9ETzFfUo+XH+vQPuB68NqxLVFQUWJRJiDNgE8P0r+cX4Nvuq/jgEjQgBCu0GkACg+Xr0lPKq8jL12Pjy+l37jfug+/P76PuK/Db+rADlAnsDzQVHCNILHRCQFPUXIhdxEy8LJgOS+8X1V/Pp8if0zfMJ9Lfxme5J6s3m6edM7+IAXhjrM8RHWlCETQNAXy2lFfgA7u1y35HUFc5f0fzVJt3o5IHwh/ru+ij0qOM+0pa/w7RmuAXHAdyW7rIDjBbfIpYlnCBTGikQgwNL+cX0OPSg81b4NAWIFDkfHh+sGYENFPsF5+XYuNQe05vVJ94q7SP8nwa1EJ0bEyPtI0kgnRu7E/sIewJ9BXYQtRozJOArzC4EKZ0cag8yAeryluXt3q/dXd3/3QTjgOyo9R39SQStCSoKEAh8CIEL7Q1qD/sQOhO9EloPzArJBd4AP/3H+9L78fxc/ioBogXTCh8PkRJOEc4JAADx9snw/+1/7gnyXPgC/sIBPwRABLUC2QCa/zr+T/1P/W/9nADgA7QHyA0jFJsVyxFlDawEXvmc7HfiIdwt2+/ibPikHexF+WPscIxtw1dpNooQb+6x0mm8Z660qZ2xZMAC02jlF/hDBlQG3fZO3/TJU7tuuO7CLNl48RMHuBvXMHtBikTyOagmQw8881LY/sdixVLN6drJ7ikCTwvxCqcE8/xK8mrngd8z2QbYCd1d7cwFyx4NMUk900KHO3MtDB6FEt8IlQKOAsgHvA6dFK4YshmdFRoLQf6Z7e7dHtWF097Yb+PX8JgA+Q2XFrIbGh1kGgcSYgmzAgYA3v/vAq0HTQxgD3MKbAOV/J31QvCd7MrsxPBh9dD54/8qCKUPzxOMFUgTrgu8A9L+d/oq+Kv6ff9NBEkGvwYXCckHYQViBH0E0QOBA1QE1AO5BEAD1AHr/Of0Aesj5tfvEAZGK2lVM2+hcEZoElpNP5AaFPbI0nSvC5NfhsiL8J6VuCHU1/SXCr8Jbvo36dvcZNVC05fbIuwI+jEKgSKDPQ9RAVTIRv4tWQsq5RDGsrdUtSy4qMEO0xXkLu0Z8dPxHfAd50bbZNSc1YveA/FHC7YmVj2dTMJVn1Z6Tzc+hyqoF4MGQ/wk+V/3lfXZ9/r2Au8/5A7ZZ8y8x9rMctfI6Zz+sw9YIDEvgDfROqw1JikpGm8IRvnp8q3wJPGO9Uj6m/1qAPwCuAYBBgcCVwC6/44AQAGIBpAOLxVdF20WoBF3CDb/s/VG8ObvSfQ2/HsD9gi7D/ISMRWkFfYPGQtdBUf/gfvv+Cn2OfFe7Mrrqu63ACEw+F74aYJo4WbrXaBPKyxiCGHvDcu8qTeZM5krpA2w4sBv2oHqKOVU4prfY9WOzOzLCd2I5gHvVwNpFuwutT/hQdU+5DBZFu/7/ehL24vUa9F106PbEOBu5RLrCe6H7cDkutmM0NnNc9Sk40j3Kw5KJZ01oD9OP1Y4VC9bIhASYv958tbrgufo5GLmAe3H8C70tfaC+M/8eQBTBGkD6QJ3BYYHCwy6DhAQKw70CnsIVwLyADcBygGcA9UEpwuWD+sRrBUkF8gVrhEhEFAL0QXKAsL+jP23/LH9Vf7N/X3+qPzV+0X+CQMkB2ULBw+jD7oO0wkuB8AE4f/N/uf87Ps5+4j6Jf4nASEFWw3DH+Y7N0qvSnJN0UKlL5Ei8Q0j+o3nc8/awqG+7r7VyfLT19mJ4WjisuEx5tjl3uXH5TrlUefi6BDyNf0sBi0QhhLuDrUMhwVT+rH1fvGh7+rv8erY69nucvBl9Nr0yfY7+4X6NfZQ8gTvG/Ce83T1a/il+hT9HwBAAmwEBQUJBvYG0wUSBBAEfwZsB08H4AYhBCEAov2S/RH81Po4+1n5vPeB+Av7EP8YAioCtAJFBZgHxwoSDssQBRLIELwOuwzXCW8FEQQOBpYINglYCTsMMw36DkgQNQ/0DkEK8wZIB5cGyAYPB58IJgpPCfUH1wj8CY0IWgeuBRUHKQlFBlYHWgMk+O/zRfFX8Dnx+vM++/z+UAKkCeAP1xX6Im8nqyAsIC0Suv/b953pC9+D21naidrf2hTi5+ub8ir5Wv9E/tz83Pwi+N75VPt995n2l/MY8uXxe/D58qfzRvNe9eP0UvO49Pb2Ufnw+pH54Ptx/q35Y/Zz9m/0+fJS9AT3ivfi9GL16/ri/oH/iACSAvADvgRdBxYMGBOhFhsUNRGrDN4E0wDRACv+qf2h/K762vxG/SD/9gQsBxoIPQk3B60HFwqECmkOXBGED40OGA0oC2IILghiCcAIbwjDBuIEqARuBKgFeAkvCqIJ5QrdCN4FTwVIBewESgUGBnoFSwXuAw4DoQFV/ur7Qfzx/jAAoAESBE8DHwI4ApoA4gBo/4H7TfsL+ZH3Zfou/CYBDwTIAs0AKf4d/D77DfoT+Kj2AfTn8TzxXvHP8V30Rvcv+ab5ifnA+Xv6FfsN+yn6g/k5+4n7SvmH+Pv6U/0e/yb+lf7h/gH97Ptk+iD6mvlf95T2G/eC9gn3l/cT+rT6U/n29472B/hc+hr8Cv/jASED8gNiA1MD4wIaA/oCOQNYA7gBkgIuA0kDhgOWAj4CbwHDAJUAtwAXAWMCUAKhAm0DFAPqA5ED/wKXBIwDhAJ+BSQDnAIKA8UC4gbiB9oGSgnMCckInQqECgkLGQo2CQIKuAl8BwoG+QMFAeIAJP1D/1kAh/wc/tf8X/0GAOT+hf/0AT0ALQFjAXUATQEo/74Bo/6a/V0CwQFtBL0BEP/EAG/9Zvno+6/81/i/+nj62vmp+z/8YP2W/uv9yf84AOv7l/+6/HH5B/vt93n5+Ph8+Xj6Evsp+2L8I/1X/TH+avxV/WH6U/q//Mr4efmX/fP7xvyq/u0B/P/4/6wADvtp+pD76/ZU+wz7GPVV/pn5j/ex+wACRfn0+/YBE/zI//wDPwJzApMH6AFzBgYDhQHVBLcHCgBjBZMI4AG+ACcEMARfAaYARv7gAH78YPvf+uf9Ufqi/4kBwQLSAYAFqgVgBngG8ggFCVAH8gniBiIFFAV6CV0EWQm6A3sBkgA8AVn8TQE3APj8HQP1/hn+mAIlBTEAhQRtAqX+IQG6AFH2KwTB/zr5nQHQ/8/9Lv7wAtT8G/1mBAz6tflWBZv1vAXN+tL52ABZ8/D+nP1n+Yf9iAg4+8wHtv1pB/kCmPztB1L0pARnAMT5vf4kCBz10QqEBLHzcggMAL8CEPSkAHoBKvTI+QADIfi7/uQIhfvDAdD7RwHiA0z2IP4sCGbz//5OAhj2igLJ/Vr8pvzdBr7/tPzlBI//6/wJANcHKfXWBikKpPQQD4j9/QTkBvj7kwzU94UC9Qjo+s3+EQGC+48A6PpM/PcBKPNnCnX6APnWCzP8AAkG/csH5ASz+voKHAS6/tsE/AVI94UFlv0K994MLfAmCPwE7/LMEjX2xQdmBN/7QwOcBBH8GACzBsn63gWy994EmPUU/q4DaPh5/RAKsvmN+wYG+/YIC5j12gWtCCT7Nf42C0fs5gCgB4jnYg+Y8zcKs/sk/D0I4f3qAF4BoQI2968SQ/VJBBwIIv2xBEwDqgP0/cf/AAGX+6AE1fwq+7AERALrBKL8NBG88s0HFf/T9V3/2vkNCSfpegA0AvH1Gf4s/zUBcwK/CGX9vf7CC5v9gPkkCRgARv/NAvz4+gVK/CIEEfm6/YYFM/sxAnT08hA+/k/+JgYG9w4ID/SVBpry//cjDePw3ACX+cQJXfJFBxD7fPxmDivxegutAT//NAFABvz4Ig03/MMD+QI4AKUFYP2G/SgDggbi9E4IkPepCEv5x/qx/OT5bweV6+8GPwso7kcRL//3+HINZ/z1Bjb7MAWWB9r5O/xdAe//Ov/K/JT8IwiI/TH6QQM1AOYAyP0jBlT+3geg/Ej/HQYn9xMFQP99/dX8KQjg9hsESAExAED7VP+DClf23QgNA0T3tg9mAIT5fgti+IYHGv1DArr8Pf5hAqn5EPSUCgMAg++hCMr7YQAp+i7/FgUz9roJIwGy9XwSjvF7ByT+owXt9qgFeQNv74gQ1fOeCbTySAUtAxr45AMBA1H6+QL3/Ez5Fwso8LQC3Amk9UgB0QY2/G791gYvBYD45wVUC9H13v8RCU8A5PleAJUBhfqfA3z8VAO//eQHzfdhBecFE/NnCIv+VfyrAbMEGfkYCmT24wpw/kz3fAkH9xMIp/rt/vQD0fqpAUL+0QDT/4/8ZAa394sIzvemBF8BTPZzCxv77AYB+0UE2gNz+qMGkwPT+W0CWQQE/lQArftbB2D2dPg9DVfyhQWr/Yf+GQeY9ncCDwb5+538Yg2X9tYG/vyPALQJRfLxBv0BIv4p/zYAYAJv+03/RwLp+YEEuv8u9NcIoPp0/pABigEgAZH7Eggq/cv6gwmC/Rj2Sww69rAEH/4Q+5ICdwDu/+n3HQyI+Mf9ogqw89n+xwqD9jcFdv4vA7sBd/rTAdECo/hJ/2YG7fPaCF36HQBGBTf9BPsCBYoFlfK6CWAA3PvAAt0A3AKCAZ38gAX9/awAEAaP/EIDePp+DanyeQaXCSDyTwo3+Z4FcPqPAwL5mQLcDcTpjQnpDOD0oPzODpr2Xf3rCWn7Yv8fAGwIIfV/Bin/lfsGBqP6n/sjBy77SfbmDEHqzhLw9kn1ShWN8Q0GaP/F/o8CRgJA/n4EEfu1AZsCkf2S/UICPP6fAN3/8PJJE5X0vfriDoP3APpCDHb6p/XWCNP/av9o9HEN4/3//CAGyvhrDpH4Kf/WCl74Rv8NAUD7IvzNBUb5Hfu4DvXvOwgm/LX7HA068VgKdwBaBnn3rAIlB173Kf6EBo8EQvEGDeb++PcX/ioEhAFY/WT9zwQ7BQPypA1y+CH3nBMw8DQGXP4q/doMz/BNDyP98v5mBrn8bwAgACn+FAMLAyr10A4ZAODylgmN/rv8lAsY7FcKXAdG8an+GQwW/uHtABtA9Eb6WhPj9aj7FAyp+MH8kAlb+Er7IQha/UT8+QUu+3gDd/xHAIMGIvqj/6oFQPTvAn8I4vmS/aMIaP3A/tL5AwCIDsDlFhQv/p31bg149KcAOvzDCz3zFAReBuvyUQiiAhf83vk/EkL4I/f3Db37Wf3EAuP9iv77BQj8pf1O/mYEDPQvCWn+xPaxAAYHQv6E9JwRDvZtDhDw5wWFCKv+2Poy/Q4TpulKC24FuPWv//wJDfKsAqwIyvjn+6sM2fPu/14JIvLdDqz0IQM8+0ELofVM+08Px/M4Chf4zgCeDMX1GQISCO79xAAz+QYLkvZM/PAL9/DNB8ECevqK/+oAbAjp7+oNVPpwAGID6PNpEfv2ggRF+c0GDPJ5DTP69vvHErTlrBaR9bv9kAg8AS33mggpBYnyzg9G9j0BhQDe+EMKa/79+mgEWgDKAeT5Hv+UBaP4KgKFAFICzwG19KMNBfZ//SUMHPF3D+n3vf9KBlz2Nw6x70wB+AjW+AcBuP6mAqz9QwS6+Xj/9wYOAR/8M/unDD39S/eXCab2fQrE+TsAGwY78zAZfuGaEacAq+6SFHvqiBHP+Q/4zxEz7p0GfgK/9mISkuqDESj9Kvu1BSn/LAUN8GkXNu/rALUJi/w48Q4SbgI36D8Q6wSU80L9WhEw6nwMhv+LAMj0xApGCyHixhmH9BMMj/PjASEMm+sxE1b4cf1iAIYIrfdC9RsWXfNh9pwV8/RS+D4EPAtq8k79wBY46FEN7v0H958M5P1b+0QGMv40/KYG/f5E+9D7rRMf6pQLYfoQ/8gIf++kELHs/xHr+BX79AFoBB38v/u7EEHm8hNeAg34DPuCB+YI9PNO/20CXwgM9wUAqgAN/mMCMQNV+eYCDPw9CMr+ku9kFCoCNvVLAcz/gf6vDyPvJv/lERT2Hv0LBA4C7/3E/U4A1Q0t6RII0Ajp8uUEjfXaFZvxMvquBr74NROc7XEEpwNK/wkG3vNXDCT73AiT9pEAzglL8+gMG/YUBmj4HgJtB7ruEQfXAaP7XwQ0/v7z+xK0/q/vHAsX/zcBQAja7+sG/Aye8t/8NwqJ/mz5Ow1O9JEBdQTNAPb3JAElByr1uQtl89UG0vlPBewHFeoeEBP/SAE9AOz3sw/Y+g35awiS+bUHF/xC/6L4hAfoBPvp+BPI+F7+QfvGCGv+4fU7DRf5zgfi8hQOPPZZCOcFieqzFmr1Lgpk8gsC+g/J7mQGFfonBRQBKPzN+QoFnwUw944Ca/wrBnX9PPy5BZ79DQBnAcP/Rf7ZAbkC0PpSBuj82/swDRDzGAJpBEH6rgKv/6n9NwJn/1r+hgQL+aYJ2Pc6Ax8Cm/rsBbH6Twev+SkC4P+RASf+8wCSAXP9qAOx+xEB1v1TBPf9BfzTA/sABPz8ABoDkfyj/54Fzvp2/9gHBfi/AfEDqfxTAAEBfAD0+sAH2Pz0+mMI4fkMA93+CQKHAGUAg/2J/moFNf7a/Zr/0AV6+eMGe/uVAGgFdfvY/5z/QAPu+sgDu/pMAS0CgvyJ/zoAMwLU+z8F8vuQ/fsGwflxA14CKP2KA0P/2wDP/XkBNwT2+rMAKQH8/wT/1v1lAvb9mwGI/SMBwv75AQv+P/0aB3X5WAFNAfcBfvw+AFMEsvprAlD/H//MAm/9fADmAEoA+QA7/IwE2v47/ocAff7TAhf8AAGVAbL+VAAc/7gA8P9CAeP+IQAFAqX9rAAEAmP+2/9qAHsBPgBc/fAAhAEmADL99wA8AB0BEP/Q+ykEuAFG/Jv+twT6/iP/xwG4/0MAhABFAJL/rgGf/QMAOwEGAKX9Of8zBD/8Of+C/08Dqv9j+9cDa/0GAxT+UQAeATn/pwNU+24D7f/j/z8ANQBKATn8IgNe/2P+EP+q/xwCBP4b/9IA2f+ZAVn/5P1GAScC8P/h/A4DXgBa/oUBrf7oAOn/LAHG/wz+2QHO/vYBEf1G//oDuPoyAz/+a/96AZP+AwIo/goB9P8zANwA9v2kAX7/h/7BAsj7QASb/l/+NwI3/rsB9/w+BKr+fv42AbIAaABn/PwCDgB8AB4BzfyPBHH/zv5hADkBYwI0+94Bgf+DAN7/Sfw7BJn9bfxKBQ39vf77Aj/+zf/SAD/+IgChA5X9sv8aAEQCWQD/+5UCBgGbAIn8yv9YA7L86AH9/QL/EQPb/MIAQAC7/wMCTP5sATcA4P7fAX7+7wB2/3z/WAFF//f+VgCrAC3/8P9kAFkBtP8D/30Blf+0/6//jP+kAl39KwFO/0gB7gEL+vEEtf8A/oYA5f+HAQj9MgHG/9f+EwG9/7f/xQAXADD/wAB2ADb+aQAdAbT+HgCSAOMAcf7h/68BfwBo/sgAKQPE/K0AKQGL/g8BH/7I/3sCof12/yUCkv+n/4EAawBjANL/z/+JAa3/v/4zAaYAuf2nAJoAlQB//nMALAACAPX/wv3lAPv+RQLH/n3+AAJiAUL+AABR/+gCoQCf+x0Dwf/X/1//KQBrACn/yv/QAN/+kQA3A6j9MP+y/63+uQBo/0D/Mv8YAoD/+fztA9P+SQCYAbv+igH5/mgBnP/R/TQCxv5T/10Av/5F/+QADAFX/cMA7P8EAnL+VQBBAEYAPgMS+20CBABcAZAAoPz3Ah0AuwDA/lX9MARq/x/+DgGz/i0B3f/v/u7+JQH3ADgAXf7y/xACfv/l/zn++gGvAEH/UP/v/8cAbv9EAFX/jv5RARwB1fy5AEQANwDX/zH+JgGhALj/BwCt/3kAcwDr/58A0f9N/6IBXQFB/QoAzQEQAI/+Rf9pAfT/yv9g/1wAt//5AN3/vP5eAfz//P9V/zMBev7RAEEC1/wuAYD/WwLL/zz9hgNo/hUBav5y/5gBrv8SAIP9+gFg/7r/QwAL/78BYP8lAK7/KgBAAXn/eQCN/r8Co/5P/xYCYP4AAWP+3QGY/xD/SQC4APb/ZP4HAYkAEgCC/hIBHQBxAJYAeP/EAJz/AAAqANf/4QDZ/m8BSv97/k4CVP6KAMP/7f+MAMj/u/4d/3UBav7W/3YBL//s/xEAzP9uAZv/7f5sARMADf+I/2MAPAB4/jkAGwDu/5MAtv4rAF0Bif+1/y4AtACl/8H/7ABFAKr/PgBS/6MAswCi/hwBrP+5AA8Adv/KAdv+eQCNADsA9QBv/7MBKP8MAWIAr/+CAbz+jQFw/ugAnAA5/iQBtv/3AJL/H/+BARkAHQCT/0UA2gB1/ngAu/+DAGD/2P7UAAwAEv/Y/wsA1v+O/77/RwG8/nABxf+d/1QBJ/8ZAWz/Of9XAa3/jP8vAJn/twBu/jMAtAAX/TgC5f/1/eoAbf+pANL+WQAYAE3/9gCd/lgARACa/j4AW/8J/qH/QgHc/Rz/SwFE/oj/WACY/4z/sgDJ/vwAJgCK/xABQABYAVn/6ADhAIoAYwCMALQAfgCP/9sBjQDa/lsC6/96/5wABwHK/9b/Z/8a/zwBRAC3/mj/wgAGAAf/BwCt/5MARADZ/gkA9P+kAL3+fADwAK3+yf/O/mcBq/9D/kr/4v8IAK3+1QHw/k7/JQA/AJ//Jf5EAvP9Sf3RAQQA3v1n/rn/JgHi/cj+XQAW/voAwf4G/ywBn/11AZoAG/+KAEv/IQEv/isB/AB8AHD/RQC/ArX+AwLR/0cBoQAoAW8CjP9+AhcB6QIDAlICPwJwAS0DeAIbA2cC/wP/AywDdALdBOUDgQMWBAICXAY1Ao4C1QJVAZ4EEACe/8sAggHM/jH+j/8c/Jf9Kfzx+uH65PoK+gb3TPqo92r3mvg69q74/vd09x73mfkZ+JT4vPsI+df7zfqw+5H90vx3/lz+qgCkAdj+WwIwBGf/uAN+A40C3wTtBEQDGwM0Bn8GOwdHA+UJlgeVBqcNrgtTDzQFWgzDD2MLbhAaCbUNkQstC7EJPgmjCkcGvwaSBV4G0QKsAHf/lQIk/xT8w/w6+Q36Ufl39UT2y/dI8wPyqfKq80/xhvG08cnzZfOy7QrzoPQ480H1TPUT9nX2Y/Yq9wP6Vf2J/CL9/vs5/ZQBsf6vAZsEjwMvAMUCdQYIBDUFjwUQB0UFJwRMBkEGwQSYBooFAgUhBSUE4wP1Av8EZgSCAWcC4QJtASUBqQDAAhIBzwCU/37/b/6///H/U/2J/pr8hf47/Rf97PyM/MX9b/+0AG4CwQmJBFv88gYvC2IJ1AzRBe8HQQ6vCHMIEQpkDsYMsgm0Bi4KJQ2qAHIDsAuWCsj/tvte/zgByQBM+9D25f1E+Kbv6PQk9aH13PDb7QbuQ/KZ62TsOO857knvgeuA68/wVvOM64/yJfau9NvxgfWy+Rv75/1U+EkBpwSa/ioDpAanBnwJcAhtB04MpQtQCgIMBwzRDRMLUwk/CxMM3gt1BYsImwrCA1QEOwVlBZgCqv5F/8IA9v43/IT7pfz3+6770vnU+mH87/mT+rH6v/wx/Fb76/qH/a79XfvE/xwE6Qk7DIMFXwAADd8UHhDDE8kLOhDwFCQOdxFnEWkWuBFADgcNrBEbDqkFaQpzEHcLjvsQ/Z8CVwHU/ur4rvPv+3HxbesH8VvyqPLP6FTnE+lj6p/mPenv6XXq9eZj5NLnHO2A7qDpH/DQ8mvvwu0o9af5Kv5u/kn7vf0yAVwGeAiMDU8M6Qk1C2gNpxKlEqIQzBS+EE8PXBHHDuUR1hCwEVoNhgnzCRMIhgexCWcI6gGF/0z+ef+d/YL8Mvvf+Rz3ZvbF94v2SfdQ98329/WN9Xb1K/h49uv4rfmt95r15Pcg/fz7FQJ9BmMJMQI2/oELihEREB4SQggUD5AVsw1+EjER7ReiE14OMAwuFD8UvQimDHcQWQsEAYkENQNnB38DyfdI9oP+8vSG73j0wfAJ9DbnOOYc7M7rHueY52Xoo+fi5I3keuhF7MHvhOaF6t/x9PK67lP1oPyZ/Gr72fgsA/8GHwhZC+UHRQuMDoYLthCGExkTEA/YED0QwgwOFDcRnA+FD2EJDAseC20JIAngBqUF5wIKAaX7uAH/An36Bfjl+Mz43Pd6+pH2E/e29U30aPbs+NL37ffL9pf2xPlY+Bn7uPr0+xX8KfxK/3ICvQmvCWwDCwPYDoUNUg0nFJcGExJDElIMTg5fD6UV3A9XDlEIlBBBEIYJ5Qd+DVwIhgPkBjf/PwP7A4r6rfnl/mj0+vWF9aPzgvUO78Htee3I73btlOkf7Wbtpeip6yvrLu2a7vXpku/F9HDyYvA59If33fo2+nr64gGzAXEBwf/FBdIIzwc+Cj4J6QopDOoJdQsvEckNVw5dDHcMaQ3uCpoKVA7jDmwGOQQUCfgImAWOAyQDKgQvAuX9Afv2/9z+6v1r+uH5VPoj+nr6uPks+377X/c2+FL70vmH/GH4Qvwl+m78T/yr/wkFYAQSAfz77AdHDBwLBgjjAVoJ+A/vB80HXwyDEWcKywdLA8YPKRYsA0oEWQuRCikDzQUEApUJVAY7+aP6VAJc/yj78vmJ9SP9kvMl73X29/kH8UnuJ/A57qvzpO/e7jzz3PEv7cXuGPRo9lL1N/VN9TT3/Ph8+K3/XQEi/iL+r/9+AZUGFAg6BLwFAgiBBqkHwArGCUALyguKB8YHOw2vCbkLVwu5BZ0IIAotB+MG/QXFBBgHiQILAWsBHwLn/xsC4f6O+5n+w/2J/Sv9jf1D+4v7mvuz/Ar9jfsx+wH9h/yC/Mn9S/7AAa8FUgCO/OMGzQfkBdMHpQGkCCUKKgcJB9cJcA2LBvoHjwVNDyIN4wIkBRUKiAmzBEcE1QKQB68DkvvH/OQFvv6m+or4Hvrl/Or10PaS9h37efNQ7wj0+fOE9nzxdPAT9IPyne+58fT2J/YR8+Pzy/Qj+Cb5P/bp++38YPo7+Tv8AAH/AREAKv2wAcgDMQOgA/sE7wRRBjUGsgQVCIcJKAd4ByUHvAW7CPIIQAehBv8EbgX7BTwFAgXnAzoCUQK5AjwBrwCGABcA8f5IAJf+RPy3/8z+HvyL/Zr8Ufzt/XP88fsW/SX+q//YAN/+Uv7vAcECLwM4BP0AQARIBf0EZQSOBsQIfgQnBlkF3AiqCO0EMwStB8cHTwT8A3wDvgWoBMMADf+MBA4Bp/1H/tz94v5+/Hz6gfoN/YL4JPdj+S/5SPiQ9Wf1iveM92jzZ/SJ+Oz3fvQ/9Cb3D/lH+R72Yfj8/I36uvgJ+5X/VwCG/fT7gf8iBMoAa//xAcoDZAXTArABDQUCB/wEFwQSBbkFOwZbBUgEIQU6BasExgTaA/4DVQKRAqcCGAJ4AhABMQDz/s//v//T/yn+Uv4f/5v8if0T/U/95f4M/av75Ps8/aP+L/7g/nj+Pv8qAN4A0ALNAgcDKAM0BCIFjQVkBVQG9QVwBloGGgY6B3QGSAejBnoGdQbZBa8FXwYiBtMDYwNKBM4DdgP3ACYBogEDAGz/o/2m/sP9BP2U+sT6+vvG+uX5Pfge+XP4YPih96T35vfU9mr34fZP9/r3APgr+GX46/hF+SP6YPqi+kH7T/2k/G37u/zk/jMAl/7Z/cz/agLmAaEAywDlAncEdwOsAUQCkgQdBckCuQJ4BMEDGgNcAucCzwPoAh4BTwGoAjQC5gBDAKIAqAEXAC//5P8XACwA4v51/gf/n//4/rz+V//Z/rL+ev9NAUsB/v/NAJIC4QObAmcC1AT3BdoEmAQ9BQoH3Qc8BlAGwAYqCG0HVgYIB8sHvAc0BfUFrQdjBhUFxwNFBHAERQMkAiUBswFnAB3/Ov5e/oD+Ev2x+/n6qfv++Y755/mI+cj4H/ce98z3a/j99sr2f/cL9zn3MPcH+Ej5efg4+P754fk++u/6dPuv/Bj9uPzY/GL/9P8O/2n/UwD5ASkC0wC6AZMDaQOZAm0CugNQBKADeQIDA+YEdwPEAZcClAPCA5MBRADXAaACkQHb/1IAKAHyAFP/bv5xAM0ALf8x/vb+TP/n/rv+Ff96/4b+SP4r/+b/y/9+/7cAlgGtATQCOAIABP8EXwR/BG4F+wZzBlgGqgbFB5gIeAbfBoIIAQgwB0sG6QZqB5YGggWfBEEFbwRSA3YCBwITAqgAk//8/jH/KP7h/KH8bPz4+276xfm6+mH6wfhe+Af50fiJ94z32Pem+JL36/Yb+CL42vgO+Cb46/hE+jf68vjN+tD7lftR+z38Ef41/ub8s/25/wUAs/4w/wABPAE0AY8ALgEXAn8C/QESAowCKgJgAqUBmAJ1A+EBrwD3AcECtQEkAVQBWgKiAWkATQFSAnUB2gDkAA4BoAE5AWoA1QDdAQ0BLgBZAAoBqQHEAAQA/AA3AVIA6AAWAtACPwKBAZECQQShBLsDBwRYBZ8FNQUxBf4F2wavBoMFewWxBnQG+wWUBYYF3AX2BDwEJQRUBIIDjgJGAtEBjwGWAOj/NQBe/x3+3/2e/U790vz9+zb7cPvZ+hX6Uvqa+av5B/kO+Hn4yfjy9233offC9+n3Q/fI92v4v/g3+Bv4Mfmj+Qn6zvk8+mT7xftd+w78E/26/Yj9nv2H/tf+kf+0/xoAoQChAJAAbAEcAtIB7gHdAaACzwI+AmYCbAN8Az8CRQLiAqoDKQN7Ai0DXAPzAucCIAOTA58DOAPYApoCQgOjAsgC4gJ8AmkCNAEGApICsAEfAYEBxwGPATgBnQGJArYCxgJ0AsUChgMrBDMEMwQ8BEkEqgT6BFIFPAXLBNwEMwUJBd8ElgSrBKAEMgS8A7kDuQPzAn4CLgK4AW0B5wAjAP//mP8E/17+jP2M/SL9Zvzn+1n7Avt9+sr5gvmO+en4Fvj59/r3HPjI90T3XPek9wT4zffb9zj4oPg3+Rv5Nvnh+Yz6mvoB+5r7p/sJ/Nz8Pf2a/f39I/7S/i//zv8xAJkA6QARAcYB9gFNAs0CCwPlAjkDoQO0AwUEGQQCBBUEUAQuBBsEdASmBJ8EGATPA2AEawRbBCIEyAO5A0MDWAMhAyYD/QI/AjIC9AHnAXABbgFnAeUAvgCTAJsA6AAZAdUAZAGCAWYB5gEXAp8C+QKjArsCOwPpAy4EygPGAwAEMwRoBCYE1gPtA8UDxgMtA90C0AKvAjQCIAENAdwAKwCe/y7/iv5p/p79Av3p/Gr8EPwe+8r6wPoZ+sn5iPku+Qj5ivhX+O73JPgk+MH38PfE9xD42fcf+Nn4Cfkq+dz4PPkQ+pv6yPrg+lr78vtK/GT8Z/02/o3+of7A/tD/ZwDcACABlgFYAoYCdAISA+YDMgQnBCAEgwTHBNoE1QRSBWkFCQW+BL0EbQVdBagEWQSSBMgEMwSeA+sDLQSAA9wCxgLLAt4CIwKXAaoBtQFFAa0AugDMAHUA1P/w/x0AIgD8/9z/LACLAKwAuwBgAaoB8QEFAh0CwAIYA1IDiAN4A3sDvQPdAwsEtANfA7EDuwMsA5MCvQIVA54CrAFAAWgBNQF3ALn/kP9S/6T+9f2R/ZT9Kv1r/Ov70/uC+9D6p/rD+jb6n/lP+Uz5Y/n/+Jf4Kvho+Fr46vfx9yD4m/hg+Pr3ZPg/+W75b/ne+Tn6yfr1+kH7K/zm/Gv9bf3k/cL+UP/3/1IA8gBoAbMBUgLbAl4D0gMKBF4EkwQIBX0FTQWXBckF/gXqBaYFxAXjBe4FawU/BUgFBgX0BMgEfwRgBBQEBAToA58DZAMKA/cC4QKEAg4CEAL+AXgBEwEWAfEAkABXADAALQDV/8//w/+x//X/tv+t/w4AagB1AIYA+gCGAbgBygESApACDQMEAwUDKgNxA6cDXgNYA4QDSAMMA/MC3wKSAigCEALBATgBoABFAD4A2P8T/4f+Uv73/ZH9AP2K/Gr83PtI+wr7x/qi+jL60vmu+Wr5Sfnz+Mz41/i++Jj4ifiB+KD42vj4+C/5M/mV+Qj6L/qK+gD7kPvj+z386fxn/ev9af7g/lj/pf9EAMEAQwG0AfcBfgIFA2IDowPxA0kEuwSoBLgEEAVABW8FSAVLBYcFeQU/BUsFKQX2BN8E2QS8BHQEKwQbBCMErgONA3EDSgP3ApYCoQKXAoMCDgLaAfUBxwGMAVUBMQFQAQYBkACAAKYApgAoAAAACgDi/6r/o//J/+z/1v/0/zsATgCmANgAIgF/AacBsAG+AVcCowKDAnACkALAAp0CZAJaAnACEwKbAXABagEQAaUAYQA/APn/Wv/+/sf+nf4c/qX9cf1Q/en8Xvwd/CL8APxg+xD7+/rV+qP6Xfot+kf6NfrU+bn5/vkQ+tb54fkU+mL6efp5+uT6U/uj+977GPxz/AT9df2u/R7+pP4L/2z/yv84ALMA3wAmAbsBMQJcAm4C3wJfA54DvwPQAwwEQwRsBH0EnATNBN4ECwXuBOgEEgUaBSMF/ATKBMsEwwSdBIYEYAQwBAsE0AOKA3MDZwMwA7YCbgJsAkMCEALLAboBkwE6AfcAyQDGAH8ATQAhAO//wP+e/2n/a/+E/yb/8/7R/gz/Hf/7/iP/c/+U/5H/xv8xAHgAfgCiAOEAQwFgAVgBXQGdAbABgwFMAUYBRwEFAcsAnAC3AHcA7//A/9n/o/8g/7b+f/5k/gn+lf1V/T79Df26/F38N/wt/O37kfuD+4f7VPsl+wT7FPsh+/360/rw+ib7Hfv6+h77hfvJ++z7Cfxt/Nz8K/1f/af9Mv6I/q/+6v5c//P/TgCFANEARQGdAdsBMgJ5ArMC2QIuA2oDdAORA+EDFwTzA/wDJgQ8BD8EJgQYBCEEAAQDBAQECQTkA68DwwOrA5IDXwM6AzwDKwPVAqUCyALIAnkCDQIEAhoC7wGLAW8BhQFwAR8B8wD6AN0AwwCKAHkAcgBRADAAGAANAND/tv+b/4D/kP9Y/yH/G/8s/x3//v4d/0//cf94/4L/pv/q//T/6v8NACsAWABVADIAWgBsADYAEADz/wAA6f+O/3X/jf9Y/wD/zP7N/s3+ZP71/eT97v2Z/Uz9N/0h/eT8lPx0/HT8Zvws/AL89/sK/PT72fv++zD8Cvzj+yz8XvxZ/Fb8qvz5/P38DP1n/eD9JP4q/lT+yf4O/zP/Uv+l/xoALwAyAI0A+QA3AVgBXgG8ASMCFwIdAkYCmgLIAs4C7gIOAy4DMwM5A0wDeAOLA4wDmQOyA8gDuAOuA7IDyQPAA6wDuQO7A6QDfAN0A3YDagNCAyQDKQMVA/MCsQKbApsCaAIuAvMB4AHHAXoBLwETAf0AtQBqAFIAQwARAMf/rf+h/2r/J/8H/xT/9/7G/p/+mf6T/nX+Wf5l/nb+YP5Q/kr+Z/5k/k3+ZP6P/pP+iv6B/qP+1v7h/t/+6f4F//X+BP8c/y7/If8R/wX/Cf8k/wD/7P7e/t7+uf6b/qH+hf51/jz+Kv4i/ur9z/3X/bD9fv13/VX9W/1L/RX9/Pwb/TP9Mv1e/XH9gf2s/aL9rP0L/gv+BP4G/gj+Q/5t/on+gf7R/gz/Lv90/3//tP8QAFEAUwB/AMkA6QBCAX8BxAEeAjUCYAK4AvQC8wL9AkEDcgN1A3EDkwPoAxQEHQQWBDoENwQgBDAE/wPUA9UDxgO2A88DoQNmA1ADOwMtA/UCmwKBAokCMgL2AdQBpgGLAUwBJgHnAIEAOgAxADQAGQDO/4L/kP9n/1H/Sf8O//b+5f7g/uf+9/7g/rP+3/74/vz+H/9G//3+6v7H/sr+Hv/6/h//Sf8G/5n+Iv87//X+Kv8//xz/HP+G/tT/5wGPALn7lfvU/Mf76/wy+iX7jfrT+pb8m/3Q/lL7o/yf/R3+lf4l/dL7Evyk/IL8K/0R/ML7AvzJ/cH+bv6N/ev8AP86/ib/4v7m/vj++/5q/17/0f8i/y3/0//ZAHkAjAFm/7kAXwE9AfsBZAGoAWQC0gPNAssESAclB4kC0P/6AOr/xv+p/TH+CgDr/44C7wJ9BFACoAJ+BP8ELwdcB74HDQQ8AwUCyAHlAdL/KP6R/db+NP82AVoBtQB2/6YBfwLmAxIEuwHkAY0A1AESAMMAav+3/b0A5f7e//3+mP7k/3H/TgEa/x//Jv8D/8oAz/+B/1T9qv7y/2T+6//h/ZD/Lv73/hD/Q/7mANX9wP7F/ZP9d/2v/o79Fv6T/oz8Lf4UAUIBw/yT/Q/8pfwL/1P7GP3a/B38X/v2/ef/6/zL/SH8M/2y/aX8+/qY/Q37hPrY/HT8rP3j+xz+mf3U/zj+if/JAQT/3wCq/tYCvAFwAVEBfQDCBO8ABgRbAWcCrgIBAW8CCQLWAhX/PQLNAF4BaQLh/9EBDgDpAdABdwIYA97//gKcADICXQNAA0AA4gA2ArAAjgM5AmcClwJOApcBpwTIASgDfAE+AhgBgQE/A6L/fAHUAEMC/gCjAb0AUQHs/8UBXwEIAX4B6P7fAlsBZwHSAHAAPwICAh4CdQARAIUBOgGuAKgCW//xADP/uwBwAWD/5gAC/aAAvf4h/1H+1f0Y/QP9R/7e/KH8H/qk+nX7qvvm+cH5kfh++cX5Jfns+Uv2+Pd/+a/4Zvma94L4ivhD+jf7A/xW/cr6/PvI/F7+v/5h/7/+v/50ALL/swCyANoBdwFxA+MBlQKNAyEE+AQHBCEFCAL1AsQBLQPOA9oDoQIPA9sCPgGLAyoBCgTGA5QBVgGXAVMChAEEAef/iwFXAa0AVQKIAgsDkgE7AhsCzwHMBFoC6QIEA1UBFwLwAgQDiQIqApIAVQCAAa4CIgLmAI3+ff3TAFD/Bv++AFr+g/0N/Gr9Wv57/5T+Jv1C/vj+w/0g/7YApwHQAVMB9QOGBJoIRAjXCzoNbAnYCKQKmgtfC9AJtAdjCGsFGQSsAOwDEwI2/qn6n/bN+AL2YPIf8CLyMvE66/nnYumw6yvtaeeA5+LqXuv566Pqfe9y8V3zBvLj81r6y/sw/o3/hQTJBaoFLwjqDGkSlhIMEigSExTHEisUAhTtFIgTKA62DOsJkwp7BGoDaQM0/8772fZ++Of3D/gO9kr1vPT28l70zPX195D6nfod+NL58/t7/x8A+QIeA7IDkgV6BK4IYwl9C0cLzwr5CRkJGwsDC5kLewhPBdoD3AJwA8kC3P+0/Jr7v/Zj9wz6B/uM+uL4/vpY/BgFMAwtFaUeoyGLG48TcRfTIVUtmiqvINwctRYUEosQXhXDGMAP2QLN9fT3bfih7Uzm2Ong60bfQtD2y4PV/9kI1dLSndjG1lTQUs+B2rbp/e2V6/7pyPGZ9rH5nP9UCh4S6BCTDTMPThUkFdYVkhhaHO0XeBAKDrUPbRBhDBQIFAahBTX8QPfh9Un25PSH8nDwle4S7+vpL+zH8Xr37/iN9wP3kfgz/f0ApwaZCa8JvweOCdUKqAvVCw0NlQy/CpoIcANQB6kFPgNFADz/MwAX/t/9evwY/+L9vPlQ+kn+JP21+rj5yPmy+i76Vvif/bsDlQN6AvoEkg14FhwlXTQvQ3ZIpDBRIqAr0za6QGo0PyrpImgR5f7H8/b/dAOc9l3kzNZ61jTMI7ylvC3SNt2Tzg/AcruvyMTSr9eG52r1+vej7DzpWvVpBUAUwhSJFewcnBj8DbELOxdlIUQc2xAVDMsHRvyI8pz3YP70+/XtTuOw5XPj9eLp5LDvOvXR7zjuw+4e+5/8yv/XCNgMlRJLDO0O7BPqE+oSYxM4FwEUAAtIBggK2AxLCKv+Uv2s/yb7avQ29UD7p/tH9Kby6fQf90X0NfSA+lz/yAWiAU8BxAT2BTEIQQrjDboPTw0aB/0ClweuCIYHMw1SCKsFDwRNB74TbBzwKVM5nERkL8ITLxFyFScoyyWpG7YX9AXM8SrgAejC8xT6sPQ45/TkvN2azrbI4dx79IP9f/Fa5C3nIeVx5m/yfQgQFisJ6/mN9Rb8vf+G/vwCMQxUDUb9GvB77/P2bPVI78r1Zf3g9hjoFeip8zz4Z/SN+BcCpwRv/3L5hgGrBzcJdgyqD04TqgoCA/z8wfzeA68CiQGb+9n2DvRm79/w+ffA/g78aful+3f5gv4DBM4Dsgb8BlMFhwe7AvUA8gJuBRME5f8eAJwC0wX5BM4ErwV7B5cFLAQ8BAQCTgGt+5v49PlW/Lv/yPy3/Kj/OwfzFT4h6DWwUb1aXj5+JL8f3yMoM4srbiexHpYDpOdC0fLd4+K54YPby9Wp4HHZTsUVuofLd+SM+s37wfnM/8v1U/Eu+HoRNSJAIPoZvhBtC8YEBv/k/3II4AkbAGHyD+iS5gXibdyo3WPmMOz556rjSebj72f0gPlEA60J1xB2EZIVuRnkEyISJRH4FngaLxj0D/gDSfoN71XqZOzH7D/lb+at5XbmHelM6WP2eARoCJIF6QimDtkTpBGdCYQHHAfRAPv80vxR+YL2VfV2+RkEpQq1CRAHmQfFDJoODw/aDMoEyf9T+Wj20fr4/I8AV/8AAQsMPBlkKQpE/WWuZRs8VyEDEO0WiydzHDYcOAi28V7MLb3fyTnNcN1K2fbg7+PN3xnTa9CC4Pb57RGsE2EZMRZcEM0D/gg4GwwiHCOJGT4SlQRE8EDlwuYE7uHqH+RK4CjaU9Q7zcrTReY1+PIDqwTgBvUM3hHxFXwdPCgdKPwjnB3pFl8PhQSq/9r6XfN76LbjEeJi2g3VZNlq4l/qs++z9Xn91wIkBl8KkA5SD64QPRJPFDAPMgNc++b0A/PX8vbwke6o7UPzUPNT9Qf+PgNhCcAJfQyYFtwTVwynCIgI4Ak0B+8BhPdT+Qb9UQEGDOoY3ihdOz1dgGjwQ6kk/RaFD1od6BnKHKsPquvgw2Ko3bw0w6/SJdey2jboL+uO33LVieoFANsc0CCvJPsweC6JHakGlQfwD5wNGgRO+yP2cenIzpW8t8Dzy0jRdNj/4B/qBe4v6DLskACOGMolJCxxNOU2GDQdKyIllSKUHhAYqAkp+RXoO9pvzyTK8ss60m3WTtdQ3TXn3/JPAjQSLh6mJXwqwSiAID0YWBBHC2MGYfyH9oDwbuVj3KDOOMxq3LLnM/JB/WoIZw/jDJERIBq/HGEZERfSEjcOaAj1/2P4o/bAAZUC9P9lCCATqh8oNONb/XzYav84NhZE82bqBfCr9K7/+vCk25G4S6tir/O+QtDW6ZkOHx6IGR7+vv3qA9QVJCDmI8I2qjX0Hpv+JO1h48zfHNZ51LXi+OGw1S/Dwr2BxyDOgtgX5mv9JhOSGs0bWCAGKG8u3zL4OYlDp0BZMHgVdv3B8ePm4N9I2PXNPsUeuv62wbyezpzlPftZCdoUbSAkJsssBS0FMR0xeS1eJLcSngCL8ILpsN8T3cbbItc61ajWrtlw3h7qRPhIAwIMQxYQHMUa+xK+Et8X8BmgEdMMbwyHA7z6CvrTBnUQXA36BuYUcR/QLtNX7XCUWIArxwoH6yfoO+og8HH4B+7C2w3FFcLUu1O/js9h8OoVayOdIxYUPQukB4AQyBodJt8vTy3/HCX7oOAazezGDsMiygPbhN8R1ZfCJcLjyx3cr+7eCL8jUyokKQQp5y69MjcySzG6MuQvsB7vClr4BeSe1unMqsWbxb7GnMgh0uDZuuMr8koCgRSpIQAzuD+UPbkzai2NKe4h3RT4BOv8hPRJ4snTass4zTrTS9YI2wzjzey56wXu6/jDCiMXYxZMGL0VxhWDEbAJFAoWC3AKOQxMDB0J8w0VCcwAhg+LJSM/vmazd3RfNTJQDQ3oHtlI2WPg/+tG4fPXR8K3wJi/fsgK0PLpIhR5LXQ9CyxHKUgZ7xRUDW0IpxviKVwjzwMd6KvTy8cTsK+oJr5V1IfdK9t023ffdd5j5Nn3ChohOwNKm0Q6PvI18SqKJsgkWiBSDv3/d/Du3VnIvrgntgq6Ib4gzD3h7/H3+Db+egnSFRkn2zaHQjVFnzw+MKEjqRHkBA34g+2w4BTe8ttb1jrW09Tf2fXeZewi/d4HwAiJAcQALQRRCzIYkBwdF7ALzwRZ/KH7B/53ARsGHAohCAUKFQ2cEvIrO1pte35yMFRRJO7uBtQL09PUXuOP3jrVQrmUreu0XcBB0HbrzhcaMKBErUUdSM006yhiIg4Z5BpEIqAkyQ2U6VDABahIl1yX5agyvEPRu9id4NrmMOlk9VcEmCHgPDxR3lv8XYhXAj03JHIVVwlU+TXviuzW3SrLFrXKp5qiS62vyMDnYf+aDwomJy7xKdgk0it+Lj4yJTcBLiQdzghR717TMcZ5zs3X5d7P6iPz3Pcf7/rvPfmvBxsSyA/9EwgQuQWA+DTyTvLe/GIBsfyE/RT5mP3g/RIBzA05GKYkWDS1SxVz/39NaCtOKx+f7PrVScvyzaPHrcStwjCsgasBsUnAMtBD8CMVYjRrS2pOLFeLTMY8SiFCDsARlBWJFLAC3OJfxVqwTJH4hTuW+7Mizk3a/+3h/1USEBb0D14h0TxHST9NG1BdUnBKAy9FDvL0/eHu1YHRvMlayo/KisdkwuDG+tly8q8JPhwuLe04VUFJOSsp+hmxEXAIlgHY+PPvaOeg1WLMXca+zpDgCfAnBU0SbholGwcWWBAVCQQDgv1D/TX2TvIK7/Lnu+fI7fH1L/8hCiQI/QcaEc0XHR0wJMAz30vobyB/UG1aWU4sHeYauSSmN6b0sDfEK9E1woC/88JAyXnRx+pZFtg/mlmJYY9mx1fjP3QfegYU+b/2gf2V+1/pr87stLKa+Yhni9KlRMgq4pj/dxwLKgct5CThIoUoMDX1R2tQxFWOTcMtjQl06oTKHbidtny2Wb7DwlLOLN1955PxjPr+DNIi3DMzRH1La0KlMjAcFQrb/of0jOY63xHcONb4063XlOPZ6o3zsQg8Fr8baBvjEM4Cwfm98sbtKfCV8dPzyfVX8hHp+u4XAUkJMxCnF4sY9BUCHMEo4DSHTppvp3U+Y9xSAyAx4HK6d6KXoe+jArS1v1K/UMW6zzHb+t4u+qAdSEJwX0RvWnJQYbtHURzH+cDn/d+D3jnfg9ZTxvq1c52SkI+QFqezxvfeW/xVHpc+iUfSQas8rTVaMwU6Kj45Pyk7SCbKAmnfR8Omr36oHbPTwLHCXtZ26sPzWAVFF9MlUDF5PztHl0VBQJUxKxaP+KXph9uK0OLLnNHK2E3ZU+Rk78f4oQK3EWEfQCc5J0UjlxcpBWzye+K44erfUuaj79vxs/PU7v7zP/vz//kImBMCF4AhMDaKRK5XR3EjdqxjClHOGw3b5LPBnfmcO6Glrw25h7aQuurJH+Cu61AHESzHSIhevW5UeNdu9VTnLo4G+OUf1frKacdCvxe2ALAknuiQiZFapS7BQtXb+CUmC0w+YEBiS1zdTRZAXjaNLnsxnDJEHrYC+uGjvcSiRI8kkimkd7eD1wjtJv/4GHYo8C/4NzdAFEgjSelEGj99KccIKOlzywm2y7VwyPfZA+SZ8B38oQPECMEPQR++JIsdmhxmFcgFkvDk44niwt3b4D/sQffz/9QHrQOj/r755fsyBDoGiBsMONtOOGSOev92W2TcUkIbltjqrZ6Umo6KlaKiP7FzuNW+pcyg3r/r9glELShHOWA1dR5+7HIjYR5EDBRH6CbMh7lItkqxyqtqrDyieZNDlfWgvrT/0235xSQ0TrtpqXP7bwBkhE07MZgheyINJTcUpP6Y6DzCw56Zi3+G9ZWLslzZZfnMEL0oCjSFOa08zTyFN/M0kTLsKUsbVwMA8VjXArwcuCXFttXo5d39NBH9GOkYShcEG/8YWhFNFC0SwQLw8lrjh9QV0Rja3ObR92sGbhTTENsE/AWpBI8GJw+kIgdAVVhhcNN93nC+YdBFZgHLwmOeUodiiP2TaqFYrLS8ANFb28Dtg/9XGT80FEZLWohvxXf1axhZLjW/B8Tatb1Yq4SjPqeEpx2rJavfqhSwQLwm0y/pQwNyJBtHnGAocLJygmPRTHEzSR8NDv0FT/xc7F/bhcCApV+bdZlopHm8+9sQ/fYVhSyoPKREfELVPmY0zCpvIFITDwph9gXnvtYKwvK8qcjb2VHsvwQgGIsihyNcI5Yi+xryDjgGcAB897jrDt/e1xXRXNZW4TTx2QjlF0gbgxhZE4MHwACFAisNrSZtQEZde3hxehxpTFjxLaPlTLBalMCJ3YrUmFWu3b1pzMTaSutn+7YJLR1pLpI/TVJKahd4Wm47WIY0igHL0GW1kKQdlwOUmqHGq7uxx72mxYTQGdrz43D7Eh2TQ05jVHX3dkxq+FAnNMIcsQlm/FLum964zMq46ayyrGasmq5bwUbdi/ksGZUx/0JNSQVCVDY9Jk0adg4PBP37m+/U4n/Xb9Ne2KTgOOl/90oFcRG1GO4XHBv2G4YWcwkj/m/7WfSk5oHhv+GE3szgUut1/FcMjhc+GO8SKBTxCHD6IwETDmUdxz0LWxx1kH0jbZleFSuT4n6wnJPqh2OHgJaCsiLCgNUC7979MApMDj8acCvqORNKRFxxZldeMk2BK+r/V9vowNaqh5ZPl8ahr6lBr1e9ls0X2AHjhvEjB+8g+D9IVUpe+WLIZLJWz0BCKcgRWfsl4Q7KqLiEr8SvjLYlu6XCI9NA6RX8kQ92KWw550GnQtI59S7pIL0SLwMD9jjmrdeq04vWL91m6JL2ZP8hBlkNwRaNHBcaSRtRGvgOOAQ0+kDppt9i2hnXidsi5BvzwQOIFJ8eMCa5Kn0gqw9UBNP0pO0v5yjgTuj1+ssjuEcwYVJ2E3FaYvlReRgG2Wy0mpUUhTuTVKoRu1/S2+iG/bwCxgaEBgEHnhTaKQ4/y1BXW0lUJEBaHo36PNa/wzS3D6sarICugrXTvoLHL9OA3gDplvcjCE8h2UIPYVh4B3vWbWhVnS5MCR3t5tKHwQ65C6ylqJ6t/rFLvGTW4/DcBiQm1zxRSaRR/UkkMI8YtwX28p7qROh85D/kG+l96nLst/QhAQsJOxHEGFAZtRYPE/ULK/9+9Pzpl+Ij4JnlVu0V9Qr8/wC5By4PbBmNIMUmsCWnHNUOBQBP98rxKOvE6Sfpx+fv65rv6POm/WkFCROSMRZSwWvYb6RmKUqTG6fvxM72ui62nbW8uITL6dY63nvr4fzBA9MEAQiqDJQOpQ9tGRQglyCzF4kK7/zR7nzhEdci083Rh9C603TdO+cH8Dn54wB4CJcMxBA3GDkl9yneI58i1RRX/2jvj+Ja1WrQc9EV1Vzjge5X96X9AgVjCsENJRR0GPIeuiDnHpQZnhK0CEX/ufYu753us++r97H9KwRhCbAGgwJ7/1/8uvtJ/zQBDwNfAmgBpgBFAbIDeQTxBjwMCQ5/DwsSWBNGFcMQsAgiBAL/lviK9NvzxvIm8m325fgt/KUHBA8zDvgTsBJFCYMJAAq/BewFXgZE/l74pvgF+hj5NPhl+nv+RQIPB4YMXw+cD1cJ9QJaAaf7gvoI/Y/3FvKG8ffueu6R87fxyvTs+jv6Hvq5AEIFCQMHBQoC1QBaBFsCGv/h/ov3je8q75DtePMf9RfzOPfM9kv0i/Ti+En5kv7ABesGiAfxBwIIOAO0Axn/Vfuk/Kn6GP0L/zEDyQTcAMr9Ev18+Av2jPbd9fb6LPwV/Y39ZPtq/lX/6gFYBiwI+Ao0DpINWQ6nEWIPEQ8NDLIFFgGv+0b5wfTb8p71nPaG+ob/EwNzB8sJcwvmDZ4NAg6RDpcMrwsMCUkGAgVPAL78r/tv+xD9UP7G/+EChAWFB48J5AY3BX4F1QF1/1b/wwJtBjcItgluCQgJYQXv/ir5FvUa8gLw3PGD9qv9fAUSCekIHQaJAfT7GvnA/QYEeQe5CQMKqgZmAKz6nvY38grvQ/Gg9Bb4F/3FAsQGsQN8/jz7Wvi99gn6iv2V/+gEAwaSAzECrwE2/5L5uPYo9CXyyPEm8hD1jvZ697z4BPlw+Vv5sPgJ+Xb8GQE4BmQLEw1PC+oHwATI/0z7Ffsx+lj6ivsw+5f74fw9/dr8tf3U/gAAvwCKBEIIVwkCC4MK3gjOBU0FqgUfBIQEwgMuAuMBWAGJ/pL+dgCNAPwBVwMsBtYIXgoqDHkMSAyVCl8I4QbzBLgByf6s+9X49Pe79Tn2svkm/GP+pABcAwYGRQjOCSwLlwwKDJkHuQPIAZX+qfw4/Cr7u/m9+S37f/vE/CUAuQDH/2MB2gFoAbsB5f/I/T38Rvtj+7L8ev51/54AAAC+/Ez5SPer9MXzkfSk9dz3dvh6+VP5wfjU+fD6E/2s/pP/dQAtAGz+TP3B/En7w/qf+kT6tvr4+yn9Uf4uAZ8Byf9H/1b+wvyS/D3+O/+m/7D/AwAgAUwCbAQoBjsG1QYwB/0DPgEHAVX/9f7M/+r/LgG6AsoDIwTHBkkHSgaZB3UIwQaYBIQEDAGS/vz87/sz+xH7hPwI/I39BP/GAfUEtAfwCcEM6g21DD0NpwvzCCgGIATVAG7+w/6d/gz9p/3F/sf9Qf60/Vn+ZwDNAE4BaAJyA3oEMARFBPwDQwIFAhgAxP0g/mz9k/t/+6X6fPns+EL4F/gh+eD5vvrC/mYAagHJA2QDaAGSAOH+Qvus+Lv45fjX+HT6efon+5f75Pld+TH7of18/2sCpAT4BKgEiALk/m797PuT+tf6q/sB/Xf9yP2P/fT9NP7s/cH+ugEDA+8D5wYuBz4GRwbgBlYFrAQZBA0B2P6t+975Z/mK+bD7jfsQ/Kn83vtP/Of94f/hAVsFzgcWC2gNKwzOCmMJQQaJArz/sf5o/pv+dv8R/vz+v/9S/t7+pP5B/j/+1/9+AZQC1gV/BiAFwQM3Atb/fP4p/m78/fx0/dT+tP+sAJICAAJMAeD/bv6C/9H//f9+AjcCbwJ0AWH/5P2D/ZL+vfw9/En9+f2x/j3/YAA8AHb/t/54/fH9dv5Q/5AA/wGaAS0B2P/V/Vn9RfwE/P38g/5I/73/b/+q/z3/dP5V/iz///9jAMMBAgQeBUoFZAVcBBkCUwCI//L9hf4B/zz+R/wO/CH7Rfrf/Jf74f3q/7b+cv91ARgBWwFNBKsDmQNLBSoFAwSkBDsDcANYAOP/i/5N/QD+gv25/0/9MP80/zD94P7aAV0BhAWeA8oB7gJlAKoAMfsiAdH9cPwl/hX7hv0r/LH+I/wmAHUB6gG9AVEDKQb2//YCdwEk/7/+4v6z/RH7sv2Y/GH67Pz/AXP67gA1Azf/6ACuAZIDJf+aA6cDqP2+ARwHM/azAmUBOfdb/4n6oPxr/ED/Lf8P/XYDOf+dANwE4wGKBgUFegfq/2AJ1QGk/LwHjfjT/sYBwvRxA672hPpbAJXxFgZw+vr9+gkX/VkEVwpU/foHQgZP/qEE9AXG+qgCxAKo9lMDU/mY/QsAtvw2Bl3+GwK2Bq/68QQkAdH8hQYs/qIHpgDhAA0HifoS/5T+Vv7p9AIJv/eC+S4JY/UUBMT8i//VAg7+zACcAxQC7wLTAh4GNPuGBQf90/SSBnb1hfsUA4H+Ev2uAVIFCPcPA4ED5PJGCg/9Ov56Ckr/1gQWBQUAAPs1Bkj56fQrCiT0b/s3Bbz6VvtaBDr95PfSCV370gH9BeIGYAHFBuMEF/9nA9oBA/jsA5v9X/jzBkfxMAjR98f6dwMi9xQGJP7t/ygDzgRL/tADHQcH+m8K6/2V/xsEQPp8BrT7ofvAB5X3aP6jA6b4EQWV+t8GTv66AoUD/f6iCez51AEjB/73sASH/t7+uAFB+00EdvMmC6j2OAE5Bg37WQcwACIGR/Y9Dqf7mfajEDzy4gc0AOb6rQmM9WECnP5s/Bn5uwFy/Df8D/9gBaX72QDbBoT3iAd8+jMFSAC7AUsAWwQu/sj73QSP+BT++gTM8VcEcQe863IStfhZ/UYHVf3JAdv/oweY+vADJgfi9n8GRwN/9AYIkfu3+RwBo/93+TACDQId9y0MLPi4AT8MCvFAD1cAffvDBNIFx/5p9nEWPe5HAeYPqOyOBs4GVfOO/98EUfkX/9b8uQfH9n8D/QQ6920MwvwmA4AFnfpRCE/+t/cxCeH8e/fNBJD+C/UNDI/1kP/CB836+QGIALMEx/oDCeX4iwWGAPD/ZQKH/DgKIPamA7sBLvzQ+2oA3P7y9bkFXP4m+EcCTAUw90ECwQVb/YAAiwbBAl72MBFm+/77awvb90ECx/2d/BoBGfnK+pMFWvOSAo0DMfvHArwAkwaI+fAFOgEO/WH+nwbf++P6YAqc+a79VALk/6P38wH0Ahf4ZAHfAbb8DgAtA579PP/+Bon8TAKzA2oCwf7tAtIC+vjpBlT6z/7X/1kA5vjMAsD+0friBqL6lwXq/SwI/vsMBHkG7/0iAzgANwW7+2YCIv7OAjv9zPqSBMf7YfpYBvb4vP6RCFv7tQAGB0T+ef+fByn/cgSsAl8Baf/kAf8A9fvn/Wv/pPpn/Yn7Lv1jAAf73v9PAEAAcP9VAwIAnwQfAXoBhwHUBSP8aQLBAj757v/A/ev9Pfm1BGD35f8l/3n+gP3N/iMC9P2IA9T/3AJgARAHdvkVCzj/I/ukCnb1QgOk/2H5WwK3/Nz9wf/g+vEAVPneBh777gBeCbz5HwlR+1gLifl3AUQD7PtBAcP4KglZ9TMAwAYk+CT9zATh/OH+WwA6BRX8MQSEA1j78AfT+wUBrwHb/F//1/98/gb+yP++ACz+kAOF/W4BowJW/o4AVALw/jkCYQLz/0AE9v1SAjf+KvquAMv9evoUAxf7TQD2AVb/KgBmAsT9qwF7AaUBTQUdAOEGCP6oBGb9c/8K//z8svuq/j8A8vuoAqH+xAHk/GQAtAFU/DL/+AQPATD6mQpF/gr7Iwgs+zgBmv7iBIb7MAGoA6v6Rwal+xL+0QIy/lz7dgOW/3z9ygMhAJH+1gK5/9kAhvvYBIoBlfcvCn767f1KBa/68v/6Aon8KAKeAAL8swaq+wMFwv2T/TMFXvxJAVn+q/9VAXv85/7/BPv2Igas+wgAdf4RAr0BZPqaB5v8cAcW+EMHAgEA/0b7LAj0/Hn37AuE8mMFvvxp/4H9gf7TBHX31gPbAiX+1AHe/2gGpP2LAigCTv8DA0P/XAJi+n4EYPuI/vEB9PibA+b+d/sH/4UGXPmw/JkJmvvF/n4CLwcy+H8G+QR5+LEHjvzxANX7WAM+/Q8B0P/n+60G5/sV/3YB8P8p/LYCAP6OA3z79QQjAxz2lQ5o9/ABRQDd/LoHvvUjBbL/zf+3AuD3oAfb/hv7MwXn/Zn/iv+FBzn2OwM2Byz24gJk/oUBwvvjBQ/3fwOQCG30nQXC/7b/fgDoBST6TgH2Bpf8G/6hAf0ClvuJA/z2eALOBXHy1gZr/sv52Ak6+JMDGQMWAqUCWfnFDEX6BQEmAkD7kgaB/QD94v73Aur+of0x++EDMQLd9KIHQwEc9lEIMgDB+kIBsQVe/qf5Pwsz/Vz+dQbw+kIBUgCZ/wP+sgAi//n/PwKk/LECKwAQ/h8C9wJn+vwDlgNZ+NAF//zp/BMFkPmHABgC1/vDA6QA0wD//6EBMQLB/a/+rgMs/SP8hQVh+i4EqfuQAKcD+fncAgj8mwUA+RwBpgO++54IOPqY/nYECQEW/7kAOABt+6kGk/16/O4CAv5VAQD9sQDdAHz/DwBW/1T+FgSq/of8egTu/OUBJAL7/zn8ewOxAzj5pwJMAUgBQAB5+p0JTfrW/kkEl/Y9DKv2MQJQAqz7SAeA97sBOP+UA3T4tP8uBuX3dglH/OP9dAbz/BcHQviXBMsAHPyyBhr1swUA/kf9IAXn+wP/OAMN/+T8Uf9TBW39Qv5gAtX9+gV7+jP/4wGKBmn74ACwAkkBnP+C/TAGt/N0DsnzrQFGCKr04ws89twA0gOj+rT/UARF/CcEPAGM/cEBEv8iBh388fhhC9P8lft5CE72OQd0/Cz+BwHB+PAHE/tp+WAIggFT+68AIgim+x8BjAb18FwQK/pB/HUC6fpvDSvwlgF4BoD7r/76Aj0Bm/7QBTv2lwVYCdDtrgYCCV/1BgLX/04A7fx5ARECXvMFEZv1tPxpDGn1cwg2+q4Dg/9F/2v9Lgb2/Ej/vALq+roJufaxBCf9uQIK/Qb+CwZf/bb//f6NBjb9DABJAFX+hwDw/6wB+vpuAr8CqfwcALP9hwaU/P8B8fxGAx4FpfdsAQEGxv1U94IIh/uFAVb8fQKBAXz59AnS9cwGrAEC9s8Lov0p92wHhATe8sUHFPxLAG4BfvojCrzyhgtn/rD8ef0ICl37IfkbD8PwbweM/pT96QDZ/6MAwP3+AJUF/fnS/0MDagFM+UoKQABa8Z8XnPGvBI3/rwCdAh36eQOx+nIGCPzOAVX65QdC+A8I4PvX+HcSqeqJEZz3jABhCBfzCwkv+RANwuwSCm3/5/ZkDuPy4QK5Ah3/WP/nBIzxlQwqAKv6aQVJ/FsGof2w/bv/eAXv+9/6rwU9+2X+sgb79JILb/Z1BxD/MPn/C8P1VwyG85EHKAFM/MUG4e73DCUEb/CNB1X/8wEK/cEAtgGJ+ToOk/bM/cAF7gHJ/CT8ZQkT9pcF3//t+pALrvXzBT4EU/zn+tsOpfnC7zIVDvIBBcH5YPyuCCj90f4/+RANafsl/EMM4Phb+i8PVvdI/MsJm/sLAKQAw/yR/1kB9PntAdL/g//wBGD8ZwYF+r8GGP7292cJYfwj/gAEpAQS78oSLvlt+eoG2PdWB9/6MwVF9fQN9vgnAI8H8faFCTv9qAEU/IAHefvD/a4FNfctBNYCo/elClT9FPnnCdn66f9q/PsF2/zd/hUCpvtvCCf3GQTXARr9FANS++4DdP+w+4cEFvwVBKT7jQAABynz4Qx3+bMDffp4AKwNl+03CZv8GgVG+tABigJQ+D8GavuMA0z7pgJ//ucGLvYHBfECyPvCAkz8GQdG9AgRavJbBOz96wFAClXrohBP+vgEY/hGALv/iAJTA9Dy3QtN/AUDkgDk/NwAwAAVAzj8BvoQCDT7TASs/yT6vgnq9nYIg/nr+zQFTwI5/CsCYwLY+y4K3/zg+rcBQgVJ+BEDlfoYAw36lANpA3Dy4BAn954Ezf0F/0cFpfrTBCv+lvw2CBUAyvf2BXf/g/6E/cgCbfcVBiQA4v7TAPb7agu49A8FpwFB+MIGAgOG9hEIV/1UAU4C/fvgBerzfAmf+UcCrv6+/uoDLv8ZA+38UwPw/HEE/PwhAKT9Ggd5+60Bw/sjAk8KbPRyA7j8kQyC903/iQHj+wQCM/u1AA3/QAgP/LYCRvyT/noAkgId+XkA8wV4/aEFjPooAFP7XAlP/iH3NQKS/jYCvAFR+QIECAUN+20JK/qVAUkBGPoFBB4CNviz/s0JKv80/Lz+kgMT/zUCO/95+WQH5AEQ9JAFBv/UATYDbP2OBC7+kwOq+BwEWv0P/SEDcv2FAQT+PgGrAoQDN/paBCQBAf4o/x8CVgB1/yH+pACeBT39qgR/+eUDrP7rAFcDr/cGBUH+DgDY+wj7NABhAd3+afz4AkEAJf7gANT+agAaAJwAyACMAZn/SQFaAmL9hgEH/GcGPf9U+QwESQM9AOX72QHL/rUA2P+k+10CkgHl/RUC6/6nASb+eAJCAU39RgQB/RgD7P1AAgD+A/25BL79PwLb/VkCowB2/64B0fwRAakBEwLf/Ev+AAPP/7gAi/2pAJAAWQD7/Jr+GwPy/BsCY/9OAf77cwQF/9z8WASW+KQFRv1h/vkAYwKu/qv96ASH/UX/SQLy/9r/+v4FAEL/vwALAPL6Awj++xcBCv84/w8EfP9OAAH+yQPo/mIAMwCM//j8nwKC/J0Eavuh//cDOPyuAT78iQPz+isHrv+//msCSfxfAA8BUQGt+tAEIwCOAbL+t/+9APP8XQL3+9EAhv+7/sz+qQPJ/MEAQgQuAGECzfxlBAAAbP6Z/Yn/HQHw/sAB7/+F/PsCfv9aAFz+7P0n/3kBCAAd+w8ELP8UBID/xQDDAc79Pf3HAeL8MAKaAKT+YwHK/UMCnPw8BcP70AGv/1H+CAE//cIAAwKG/wz/oQBm/QoAN/9vBVH/mADB/l7/xwMN/qP8CALEAUz+hwNc/DUA+gDy/vsAiPvpA7UArwD5/2//+gPo/kgAAf5j/ygAKQHb/t/9GATj/R0BvAN/+tgEcf3T/4MCJ/zTAd794wKQ/U8ChwFd/C0CYwF6/2f+cv4HANMApP6E/gT/eADM/kUALgKtAFgA3v1YAa0CIv7S/pQAmQKI/jz+CgHz/bkAUQIc/CwB1wGH/hwCJ/+//93/6gHAAVP/l/4AA5gBLf2YAAT9/wMV/f79wgIf/o8CJP2zApX/hABsAOEAPgAy/gkCHf3fAI//M//LAbf+OP+fAPL+kQLo/kf/wQBx/7v/RQDn/639nQNJ/iUApAAF/bwDeP2kAEn/bQAZAsr77gFw/84Auf0lAWL/+P8aAhv+bgEmAAcAiABj/+z9CQL3/a0B1v6Z/+L/OAAGAbX8BwP//rf/JwDR/qsBgQAc/iIC8ADO/y8AtP7jACYAJf/L/+IABgHW/8H+XgFH/yUARwEc/h4B//4SAsD+K/6DAWr+nAPh/OL/QgK3/0z/T//i/wEBMACh/W0BwP0jATH/pf+u/0n/zwEvAPr+mf/iAUH/oQAC/kcBhgA3/soA6f58AIMARABx/wYA4AGrACz/hQBgAO8AnwD1/i//VgB+Aa//TADd/iYBGQEK/vMAlP6MArf/jv8PAb38ZANt/eEAJQCt/+YBwv4EAkb9dgKD/6YA3v6r/sQBeP5gAEv/BgC8AOz/X/8fARr+ywAp/14BqP+q/nkB7/54AkL+LADGAOL/4gFq/asAwQAY/ycBHP5iAf//Fv7SAEP+0f9DAsD+OwEx/pUAygHD/lD/BwD9AXP/JADr/QcCOf6AAMr+LQBgAAb+UAAv/xMB2f5bAR//0QDD/vEBgv8k/64AugBpAfP9x/9QAdT/7P4bAUb//P8sAdr+RABhAQH+ywEC/6cAWwDr/hQCNP/8/twBvP7g/wIBZf4pAX8APv9mAN7/nP5WAyX9YwGe/zL+BQKe/vb/w/62AVT/jQDg/+/+KgEbAH3/QwDjAKf+ZgFs/yf/QAFU/sAC4P2TAIEAvf5XAs7+1/56ARUBK/71ACf/cQEu/6QAEgB2/9//dAAtAUj91wIK/6IAmP9h/yMBxv81ASD9RAInANT+JQGP/qQAVgCE/isBRv/U/5ABvf1DAvn92QHQ/w/+xwGJ/mYCr/2QADwAmgB/AKH9fwFN/+7/RQBF/l8Bj/8hACgAT/8WAFUAWADW/6EAyf7/ANP/zQAd/wkBrf9HAfX/2P66Ag798wJ2/WEBtv/T/ooDzPuwAkj+EwBHAgz9JwJ4/moAZQF7/SwC9f0YAvn+T/8aAt/7UAM1/j4A6P+O/28BJf+6/8T/7gDU/jUBOP4xAYf/BQAtACX/NAGN/r8BTP6GAI0A0P6EADT/ZABBAW7/x/70AAMAov8l/87//AClAHf/uv/K/3sAlQB7/sMAxP+q/yYB5/6W/6AAJgCz/xAAPwAn/w4BbAC+/lwBUf/ZAB4A7P6bAW7+WQEn/0sA3/+A/owCb/3XAev95gHl/xT/+QGO/HwEsfzWAc3/+v67ARX/DQF5/8AAy/4KAgD/ugBh/3QBd/6xAHAAcf6+AuL8fQPJ/c8BhP92/0sCZ/01AyP+iQHU/7r++QFJ//j/Nv8+ADIBLf5fAZL+YAFfAEX9LgO7/fYBWP4zAJEBNv3EApn+MgCaAL7+oQEy/23/KgCbADIAU/7bAez98ACPADL/jACo/7gAG/+4AEz+iAHo/oEAPgCy/mcB9v4sAQj/Vf+9AHb/SwDS/x7/AgGg/4z/kP8VAZz+v/8uAfn90gFq/rIAHgAXAPz/xv8EARb+2AFs/jkALwDY/q0Bq/04As7/nP6zAfT9WwIz/dMB5P/K/g8CMf0TA8n9RAEo/6AAYwCK/lYB1v51ANT/hgDD/k0BMf+uAID/tQBB/8gA/QBi/mcBG//GAFv/pQB6//3/pwCY/5b/VgEz/tsByP5hAO8By/zeAq/9kQIz/qkASAD+/gQCUv6PAYb+zQDDAGP/vf/fAAf/oAEe/hQBOgDU/t0BBf5+ASb/tgD1/5r/7f+jAJ//ZADt/uwA6P9m/1IBR/2VA938jQFTANr9qQIV/uAAOP9CAYT/YP+uAXD+0wCW/wAAswDK/s0BU/6uAaH+a//iAdH9/QCn/vABbP7N/7MAlP7IARX/GQAqAMb/BgBFAEH/IwCt/6IAs/8i/7EAeP9mALP+cQH2/n8ACAEl/iYBHP+8AEH/HABeAA7/FgHf/27/nAEj/lQBYgBs/qQCtfzAAlz+qADeAAP+AAO2/R8CeP65/0sB7v69AIj+JQHg/zIATQAI/qkCAf+lAFn/q/8pApv9KAL5/WsBv/8VAHIAkv5yAm/9tAIc/ucAwf8fAYn/Sf7PAzT8IAOB/dQANwAJAPH/4v3qArb97QHi/QEBsv81AHQADf6GArP9igFh//v/8v+B//4AFf91AAn/IQG//uAAVv8oAGYAVf+yAKL+cAE3/+r/BQCY/5kAfQCg/gUBMwA//xwB7f7JAF7/dgANAO7/NADw/tABMf9xADP/iwBAAM7+ewGH/twAz//s/9r/ZQAJANH/jQDA/2f/vACc/z//VgHR/pYAZgCZ/+z/pACB/2gAMgABALcAn/+rAKD/rgCo/1kARQBT/wMBV/9fAL7/FQAgAOL/v/9ZAMz/YAAPAEv/qQCG/wMBy/7rAPX+6QDp/3v/1gDP/mABzf7XAC//lQA1ANb+kADP/18AOf/u/+j/oQAP/y0ANgD0/i8Bk/6x/98Az/68//sAgf5OAXn/kwCx/5kAVgAL/p4CW/1cATL/AwAx/3cAsAAF/jMCRv7UABkAzP/K/3YA6f+e/4MAT/8rAcL+lABJAIv/3v/i/xcAev8zAK7/xwCx/83/WP9lAVb+twB9/9z/bwDb/iUB9v2WAbD+6ABZ/w4ApQCw/9r/l/99AFD/SAEY/pkBmP+aAMX/qP/LAYr+5wFy/lgB0f88AHYAMf9UASP/sgCi/woBb/8NAbP/DAEkAGH/3AH0/nIAZAAx/1kBJ//n/wsBvv9iAHH/0wED/qcBUP9PAEAAZf9YAUn+swH7/nkAHQAdAL3/kACS/38AFwAm/10B0/5UAQP/RgBEAFz/8//1/6b/xv8zANz+kgEb/jQBi/8aAJcAPP/uAM7+OQFO/t0AAv+DAJn/T/81AXD+SwF0/toA0f5cAFH/XP9rAYj91AHy/c8BE/6CAIIABP6cAnj8GQNi/fcATP9s/6wAfv62AY79dwKS/eYBy/6S/+YAff7EAdL9kgHC/rUAmv+f/3YAzv4aAmX+FQGV/4cAegB1/7MAjP9aAbP+OQEa/3UAeADc/uIBKv5CAZv/SABzANr+1gGZ/g0Cuv7GAFcAUf+SAYz+SAFM/6YA5P9a/9EAoP+eACoAT/9bAdL/BQAaAC0An/+xACsAZ//yAJj/HwED/5AAEwCC/7kAn/8/ABAAmQAX/90AeP+w/08BEP+QAIUAr/9pAL//q//DAGj+CgF6/9j/SgBB/54ATv/rAPH+WwDo/1X/fAD1/h8ACQBb/5EABf/MAN/+FQDFAAL+QAGj/p0AQ/+V/1wAO//1AA7/hAC+/yP/VgAQ/yUAGP8hALT/fv9PAWn+DgHY/18AAADP/7//aQAC/zsAaQC1/isBCv8rAXH+bwHe/nYAFQAo/woBF/+7AOL/dwDc/04Bof+dAMH/jQA6AMb/WQBMAJ//jgDb//cANv82AVgAKf/GAQH/UQHT/m8Bm/7pAGMAZP8GAaX/TgDkAC4Ahf9bAUL/xwBo/4AAAAC8/r8Btf0kAbH/Xf/eAKb+dwGH/mMBuf6MATf+YAFI/wr/vQFs/Z0Bo/7nAL7+4wDz/psAnf+f/wUAv/9yAL/+CAHu/7//AwB2ANX+qAAK/x4Asf8h/7IANf/g/4QAdP8DAAIBWv66AZ3+SwA4/13/3wCu/ZoCmv0TAsn+FwF7/wUA2wDg/ZECefwlA8H9MAC8ACT+rQHZ/uwAfP9XAM//uAAfAEYAyf9+ACoB+/07Am3+iwAnAM//VQDZ/8AA0f5gAvj9YQK+/2wAzwGJ/mEB6v8R/xEB9/58ABMAOv8LAj/+CAF2AD4AnQATAUH/3gC6//T+AwGa/RoBWAD8/mMBXf+nALABu/5BAWkA1f/cADf/JwDW/2n///8h/+//yQCI/qr/TgFx/p4A9wBo/o4B1/+6//cAFv/HAD//RP96Aef9lwCaAEn+sgF0/vz/1AAL/zX/MQHN/sP/5//T/psAz/7bAAgABAAc/9sASP3VAfz9qv/tARr9FQPq/J4AJwGg/rUADAHo/4QBAwAo/7AAZ//j/hQBjP2hAOsBr/yuBDP8vwKgAOT8bQVA+rcDdP+h/eABYf6s/4YA7f/s/dADrPuRA/v9T/+KAgH8SwRY/DABOAGc/h8AvAFT/lQBJQCE/lgCef3vAU//0P+zAJkAov+1AA8Bb/+8AbP+mQGy/lwA4QAC/n4Cpf+q/08BWABS/2oB5v+2/6UB+f4AAdn/4ABaAEsB8wPx/+IBLQBQ/i795/23/DX9MP8//a//OwC+AFsBIwEIAucBoADQAYD/HQDF/7/+EACP/4v/dwDAAAAAOAFbAbgA0wDLACgAyACe/w0BWP8SAMEA2f78AIT+FQAr/7z+w/8k/8//iv83AOb+oQB0/hkAVP9w/k4BNv4FAN3/Iv+y//X/9P7P/2j/yf9L/wT/yQCe/goA+//Y/pwAJP8dAAAAzv4YAfH+iQBI/xsAZwBm/14AgP9IAG3/ngAk/+cAvv+j/14Bev4WASoADQDbAOv/rACG/zQAIwC3/y0ALgBU/4wAi/8BAPAANf8uAR0ArAB5AC0AzwDS/5QBPP/zAI4AwP9EAQH/LgFKAL4AcACvAI0Awf98AX//zAAxAJ7/lACG/7EAnf8cAJoA8v/w/6kA7v+DACMAJACbAIX/TwEG/wsBxf+l//oA+/4lAMr/y//p/1oAif9OACQAk/8UALr/AgDJ/6r/0f+5/xj/lwD5/k8ASQCu/osBP/4fAG8AIP8LAaD/LABTAKz/rf9OAK//xP9pAFP/gAD8/hgA6v82/2IBFv9wAKgAff85AKAAMf+UAA4Ax//5AEj/TADu/+v/cf/q/xUAWP/6/xr/WP8XAB7/5//Q/33/agB5/wEAawCD/6b/EADL/of/nP+c/uz/h/8EAJEA9/9cAJcABwBSAC0AOgAKAP//VwC//2gA2f/4/yQA+/8tAGwAHQFsAAIBZwHl/1cB5/9FAEMBrP/uAND/8ADt/7gAlgDQ/x8B3v9+AC0A/P86APL/KgCMACoA4wDF/8EAWwAHANgASQCaAez/aQHGAEcA6wBD/yEAhP9k/5X/ef9l/zX/D//i/tn+nf4W///+n/6w/23+rv7w/6H+eAC7/9T+FgFM/6H/yQBv/ycBqgC0AGsBcQGiAcsBHgNBApoDOgPmAi0DtgLLAnkByQFrAPr/aP8f/qH9Ov3D/PD7T/y2+/374/s7/Cz8TPxF/YD88fwa/bP8jvxy/W/8y/xw/Wz8y/2A/Qb+Nf6l/pX/Mf97AI4AdgCEARkC9wFBAhEDRgKuAosCtAErAt0BlgFOAdgB9wBMAYEB6QCCAY8BDAJhAYcCDgLxAZECRAIbAm4CXgJuAZUCVgEQAn4BuwHtATYBQALfAPgB6QG5AY0B8wG7AeAAvwF4AMMAAgH7/5sAAwDk/+3/IP98/wD/wv7j/nH+af6g/lX+av59/kL+/f6R/nj+Hf+b/pL+jP6b/qL+t/7j/pL+1P4i//7+c/9f//r+ov9d/5n+1/7r/jD+nf7M/gz+3/7Z/kb+/P5I/2T/owBJAS0CawNKBOgFOwbRB0oIsghpCVYISAghB9gFUQQvAg8Aof5W/JX6WvkQ+KT3evZZ9jn2TvYQ9/D2O/cW+D34Tvgl+Pz3N/iP94j3bveg94v4L/i0+Zj65PvL/RT/HQGHApoEFQY4B2sIZgmsCf0JvQl5CTEJcAiwB9kGTQZSBQQFTATbA/AD1QPRA68D5gPhA4oD0gMsA64CvwKTATYBOAB5/x7/Sf5y/ZX9V/03/c/9av3g/rL+aP9fABoAUwHCAdIB+QETAs8BLQJ9AYgBowFaAWQBJwANAUoAKv/d/+j+Sv5g/gn+Bv0+/TD92/xZ/W79Sv3y/fP9ov1r/mf+FP6R/v/+6f2n/gn/NP4q/1j/PP/5/y4AAQCYACABtQBZAV4B+gCUAToB8QDIAPIAXAA7ACIApv+E/1v/Of/G/jP/Hv+f/gH/C//+/g3/BP8K//P+bf8k/93+dv9C/3b/UACQAN4BLgP6A4EFtgchCewJewtXDFEMmQzgC+sJ+AisBtEDTQGk/iv8n/kG9z/1tPSF85jycfIK80PzY/Ms9E30APVh9d70sPTy9OD0t/Pz89HzAfT79FL11fYI+d369vzG/zgCEQVmB68JhQviDA0OoA6dDmYOsQ3VDEkMlgq8CbUIkgf7BgAG0QWYBR8FawXkBKoEpAQ2BHQDVAJfAjMBNACt/4L+Mv6U/Un9QP1z/dr9J/7Q/i//EwBpAOcADwFWAXYBRQEaAYEAjQCs/73/JP+e/hH/af50/nz+Xv4Y/+v+B/+s/2n/Y/+C/x7/Fv8A/33+M/7m/dP9ef1w/X39cf27/fD9Uf7k/hP/Zv/L/w8A8f9MAIMABQALACIAxP/E/wMAkf/J/5X/cf/N/8D/g//C/+r/dv+V/9f/Z/8q/1f/8f6l/rb+t/5F/kP+Y/4r/n3+aP5r/qf+bv5v/sv+0P5+/qf+2/6//j//5P9kAKcBHwMsBBQGXAgjCuYL3wzoDZgOkw6MDcELDAqbBzYE+AAo/hH7tvjD9dDzifPK8u3yB/OQ83z0FPVW9V71n/Uq9YD0lfMa853yP/Lx8dXx2PI09N/1U/gY+9D96AAMBB0H1AmdCy8NYg5vDoMOKA5ODUkMugqPCaYImAcmB1IG5AUIBvUFTgZMBmIGSwaqBRUFfAR+AwkC3QDO/57+ZP1Z/V39Av2+/Xf+U/+cAO0BdAJLAwgEAwQGBO4DHQM8AiwBDQBt/6X+2f2h/cv9qP19/lj/9P+yAFABLgFxAdYBBQEYAGL/WP4T/Uv8yPsX+6f6tPr3+t37wvyv/Yj+9f7C/2UAWACHAAwAwf+G/5r+R/4g/mP+ov3T/Pn9d/6D/dv+Bv/t/gAABAB3AM0A7AA/AKsB5P8TAMAAwf48/8z+V/4q/tj+af4G//z+kv8AAKr/+P/z/6//6P7K/m3+lP7g/az9iv5H/7EAYQK7BK0H8wl0DD0POBKVFDcVpBNtEskQhw2ICTQEkf+x+v/1b/Lq72nu4e367CztVO9b8VDytvIc80Lz0fLy8b/xLPEp8VrxDPPa9o76Sv6MAuYGCAu9DncQ2xEtEhsQtA09C6QIxwWKAlgAsv8y//7+u/8VAbgBZgFUASYBuwDi/jj8Ffst+kD5+fhR+p/89f6xAecEzwgHDFUNWg70Dq0Otw1xC/YK0AmoB48HAgjQB9sH2QceB3EFcQOSAZL9ffnA9j3z3u/R7yTw6O/n8qP2tfms/dEBNgXVBd4GGAgnBmsESgOHAa3/nf4y/47/bf9dASsCxQFUAsUB9f/b/db70PmC9+j1CvZ/9p732Pky/L3+zQBeAsQDUQP9AVsBof+m/eD8dfxp/Ib9MP+wAKwCUgSeBdcF9wQDBF4CewDT/h399Pvl+8j70vx2/q7/BQEBAq0CEAO8Ak0CyAFXAC4A8/8nAPUBdAKUAq4DQwQ2BYYE/gKDAkL/2/0U/tv84f5UAS4DBgiRDHISZRdkFmEV7xPbDmkJewHo+LryHeuv5szl/eV76bvrZO3h8sD3xfl8+ab3S/cY9QvxGPDX8Ijy3/T79+X9YQX+CmgOLBBmEc4R7Q1YCdEFSwEY/Z354/ij+qX7dv0LAFACbQR6BPsC8wGW/937B/k/9773GvlM+zz/hANcCCgNxBDuEvMSsRG6DysNyAkzBlAEAwMVAmMC/wPaBXoHTgiECBsI+gbbBIIBwP71+y/5ffdB98P3TfiY+df7qv0+/wUBJgHvABEBgQDR//f+Qf6b/nL+bf4FAGsA/gB4Ae4A8QCc/0n+nf19+0j6zPnN+Fj54vnu+kn8s/zU/iIALgBaAeAAgwCPAFr/PP/E/o/+9f5d/vr+j/+g/1sAMAD4/3P/Dv44/R78JPsg+0H6ifoc+4z7rP1t/qD/ZAFzAVMCKwOCA58EfQTpBMEFzgWxBgYHvgY5ByQGLQRZAyMCPQF6/1v9Ef1U/HT81vwU+1j86Pxg+xb8Ffu0+iP7vvnA+3T+KwFWBxkLPBDcF2YbiB0IHOwX4xTcDMADFvxi8/ztzejZ5O7mJenM64furO9t9Dr2hvNB8ojwkO847pfsr+9o9PP48/4yBKYKHhFrEloSLBKcD7cL+QUDApEA6v0I/ff9Lf8RAsQDSgSyBJEC1/97/Cr41PVL89/xqfOv9fX51//dBFsK+w1AEEAS1xHuD3cNwwokCQsH5QVDBx0IfwmSCvcKEAzvCsoItAbWAuv/Mv04+rL5G/nh+ND5zflM+7b89fvg++D68vn8+dz4o/mt+iP7Kf6R/58BxQT/BL4FcQXfBEIE9gC8/9L+WPw1/E77u/og/E/87/zH/Mr7d/z5+jz5iPnG+Ez53/nA+oj9Rv9QAZkDhASRBXIFrwQ9BEgCFAE2AMH+LP+E/7n/lgCXAPkAOwHRACEAm/7T/bH9iPx0/Ev90f1c//MAzwFQA5cE5ARdBNEC0QJKAt4AfwFuAc4BtgJ4AosDngMYAygDVAGSADX/+vwf/ab73voJ/HT8i/4fALYAIgIoAYIA2QAl/5D+AP7L/6sFjApsEE4WeRh4GVUYTxWbEBcHGv3L8+vqOeYr44jirOWV6B7tafJM9pn5qfir9d/yr+5G7HDrweu07//0i/vHA+4KxRENFvsVixTsENYLsQYjAU39ovoc+fb6Kv6VARYFHQbvBcsEbgGh/WH5//Sg8aXvCPHl9DH5qf/tBbkKdg8rEiMTDRIRDzgMuQhNBhgGQwZcCLgKcAwZD2wQrxCKDzwMYwi5AnL9Ovqn9vj0ZvTP9OX2QPi4+tb8JP0h/cb7kvq6+YT4mvhF+eH6pf2AAMoDzAZxCCEJ+wh9BxIFWwLu/279NPuJ+vP6T/tA/Lj9vv4O/5f+ef2p+7v59fde9tP1A/cX+TL7of3/AFsEvQYQCMkH5AaEBZMDpQHD//X+Nf70/Fv95/7n/wkAqP90/6/+4Pw/+675QPja98P3SPgo+kb8oP4XAVkDogW3BuwGCwdaBlYFtgT0A+4DNgS6A9MDzQOdA7kD/gJbAgkBg/4I/a37P/oR+tT53PmM+hv7mfz9/Zv+o/9g/6z+aP/C/7ABbgVNCewOPhNVFk8Z5BjfFg8TYAwHBsv9rvXU8PfrLepT6h/rvO7M8LryzvT68wjzevAv7bTr0ekn6qXsEPAJ9jL8PQJFCGAMWg+JEJoP4g3ACmoHEQVuA3IDXgSXBYUHJgn7CasJFghvBWcBf/w2+O/01PJ+8nfz9vWh+Zj9VwJnBmIJ1woACi4JpAfzBVQF2wTPBUQHOwkaDT8QYhK9EyAT6hHNDpQK9QbdAUT9+vlh98n2ava09un3XPjy+AX5O/ji9+D24fUX9kj2YPdN+dD7Ff+CAcsDSgb9Bg8HgwYPBbwDUQGx//r+Pv6G/j3++v3Q/jr/b//n/rH92PwL+3D5C/lh+BT4CviP+Kb62vwu/x8BnAK6BMYFiQUWBaEEAwTHAs4BWgHWAJkArgAOAVoBGwGWANj/MP8u/rH8kPu3+kn6OPrv+kT8lf0L/1wAiQGfAloD0APqA3YDKgO8Ai8CZgKUAiEDuwPxA7gEgwT9A5MDUQJrAOz9mfti+vf56fni+t37F/2i/rf/6QDFAdcBCQIPAmwCFgQGBhUJggwBD8UQmRBND8gNbQroBUUAUPp59Qjxke797Sruve9L8cDyQvS79A/18PPz8evvW+0a7EzsDO6F8WH1q/lK/uMCkQfwCuMMbg2FDNYK6QhNB04GrAXJBX0GhAcmCY0KqQtSC5wJYwcbBJMAP/0G+hH4BPfg9vj3yvnc/NP/NQJtBNIFAQZrBYIEkQPpAmYC1AJmBJEGDgl4C8cNiw9ZEMQPHg6YCyMInwTdAJH98Pq4+BD4cfj4+Pb5o/pH++b7MPuM+sr5pfj390f3rvfk+C76svw+/0oBVQNaBFgF2AUQBR8ETgKPAHP/WP4k/rf9av1G/sb+SP/O/+7/JQBN/xr+aP0y/Bz7cPor+vf6x/sP/SP/2AC/AhIEzAQxBY8EhgNRAgwBAwAF/zn+z/2d/fT9mP4b/0T/BP+9/kb+Q/1p/Lb7D/vf+sr6Tvs//Lv9vf9iARYDKQSCBNkEBgXCBPMDdAMCA5wCjwLHAiMDAAPPAq0CCQILAfX/z/7o/b78t/tq+z/7qvt2/Cv9Nf7k/mD/SAC6AHoBdwKAA4MFLgcoCXsLtwybDV4NTQztChUI4wRvAYD9V/p39271uvQo9E30k/S09Ej13vQs9JrzevJ08QTwE++P74DwefI09TH40vsj/5sCAwZaCC4K0AqkCkgKhgkdCdYIswjoCPsIXwkSCoUKzQpXCvoIGgfZBJgCMAD1/UT8xfrg+d75efp8+8H8G/4U/+L/kgDSAAUBAwEHAS4BwAEWAwgEOAXKBvUHIgmsCekJzgnCCJgH9QUBBEYCPgC5/sr9vfwb/L77uvsk/C38cPye/B38z/tQ+936n/oV+iD6dvrU+oj7M/xT/aD+dP8lAK0A+wATAcUAaQA1AKr/If+4/l3+p/74/mT/5v8yAL8A0gDkACABxQBGAIb/7f6X/kj+fv7R/l7/CgBlANsAWgG6AbQBZQEHAUoAbf/D/nD+Lf4Q/kj+lf4L/4z/KQCoANsA9gDJAKQAhABsAHAARgA/AFYAxgCNARYCjgK0Aq8CmQIpAtIBSgGNAN3/Lf/f/qX+dv6U/q/+nP4x/sL9m/2k/a/9mP2o/ej9Xv76/pT/agD6ADUBewGQAcwB0AG9ATECqwKpAwAFNQa1B5gILwl6CZ4IfQeiBToDpwA3/Ur6BPgd9jb1hfSp9IL1Cfb29u/3qfgJ+S/4K/ds9lv12/TI9HD1E/eY+Or67P3CAMcD6wWWB+YI1ghnCH0HjwYRBgsFjQSYBNQEqgV+BoIHbwiCCAwIGAe/BUkEcAKWACL/1P0A/dH8R/1e/nX/lQDaAcUCLQMhA+sCmwIFAloBGwEhAQYBMwG5AYkCYgOuA/kDIgTcA4gDygIiAoIBbwC9/0L/0v6u/m7+lv7d/qz+r/5y/ij+/P05/ZL88/tB++z6kPqM+vD6HPuO+yf85Pzt/YP+Mv/Q/wMAQAAWAAIAOwAfACIAOwBgALkA3wBJAa8BuQHJAZQBMwH3AHoAAQCu/zb/4/57/kf+if55/mj+nP6b/tr+2P7H/hL/+/73/t3+rf7s/un++P5t/5f/8v9OAKEAQwFuAZEB7QHgAeEBtwF3AXgBAwGnAF4A7v/F/2z/Tv9g/yj/G/8D/9f+0/7O/sP+y/7N/tb+5/74/kX/qf8AAFgAlgDsAGYBlgHMAckBlwGxAa0BpQGxAZgBqgHPAcIB/QEjAkACaQIYAjUCcgJxAvcCRQN0A3ED8QL2Aq8C5wE7ARIA7P6s/Sv8bfvs+oL6efpf+or6vvqp+h37g/t++2r7z/qg+pL6Tvqr+uT6cPta/Pn8B/4F/wkAKQGjATMCiQKDAsMCyALxAkcDVwOkA+kDNQS8BOgEMQV1BUUFAAV9BAkEnQPWAiAChgHyAH4AFQDe//D/8v/S/87/2//d/+L/5/9DAJcAegCqAAYBmAEdAiMCfQK4Ao4CXwLOAXQBKwFYAPP/sP9d/zr/1v4S/0n///70/qX+iP52/tX9cv0R/bH8jfw1/E78qPzc/HD9Dv6k/jj/a//O/zQARQBeACgAAAALANT/7v8jAFsA2AAMAVABhwGWAckBqwFVAQABhAARALj/Yf9c/zb/Bf8s/0j/fv+v/8z/CADq/6r/jP9R/17/N//6/gr/EP8s/07/jf/V//b/8f/m/8f/oP99/zr/NP81/wX/BP8M/2T/wf/g/yEAFQAgABQA5P/y/+D/wP96/z7/Mf9N/4L/6v9ZAJAAtgDHAPkAGQH/AL0AXgANALf/kf+Y/7z/GQBaAKUA+QBXAcsB/gEkAiQC7AG/AZMBcAFtAUQBNAE+AUwBdAFjAYYBpAGFAXYBSAEzAT0B/AC3AFAA7P+z/yD/rf4t/q39Wv3o/LP8i/xh/GD8Zvx7/I38hfyw/Nf87/wP/Rv9PP1l/Z/98P1T/tf+aP/2/4UA9gBLAYYB2wEqAkcCdgJ9AnQCkQKxAucCMwN0A68DxwPnAwUE9wPpA7wDfAP/AnIC5gFiASIBxgBvAFEAJQAGABQAUQDjAC0BJAEOAZkAEABW/5r+JP6K/f38gPxk/L78Hf2x/Vf+Dv+j/7v/t/+J/y3/9v6S/jP+EP7G/c39Kv62/oz/FQB3AL0ArACcAGwAMgD//6P/Z/8t/y//hf/i/3MA+ABjAbQBoQF/AUUB+ADHAGgADgDv/8f/zf8cAGUAyQD+ABUBOwEPAc8AeQAkAOD/gP8y/wv/+v72/hT/W/+y/9b/y/+6/4H/Wf8R/7H+pf6P/p7+uv7k/lP/tP8hAJEA4wANAR4B/AD6APsAxACkAJ0ArQCYAFoASgBeAFsAQwD7/7X/Wf/x/pj+dP6Z/rb+B/9o/7//BAA5AHMArADZANIAtQC2ALsA4gATAUEBsQETAl0CdgJNAjIC6QGEAQkBYADZ/2T/If8d/zf/Wv9q/4P/Y//9/pT+IP7f/bD9ff2b/e/9f/4//wAAvAB1AcEBzQGuAQUBTQAv/yj+Xf2C/Ej8HPx2/Bf9zP27/lb/IgCAALYAsABWAAYAfv8P/3v+Fv7D/ZD9f/2H/Q7+hP4o/9n/YwAYAZUB+AEUAgEC4QGUAW4BNQE3AV4BkwEEAlYC2wJIA38DswOJA1ED6AJlAucBdQFJARoBTAGJAcUBJQJCAmgCaAI9Av8BgwERAa8AWwAsABMADwAiAE0AbwCXAJcAegBMAN7/cf/q/nX+KP7a/dH9t/3V/QT+Cf5V/mj+cP5V/jH+Jf4P/gn+Dv5Q/oj+3v4Y/1X/ov+x/9P/yv+5/43/Rv8o/yr/WP9s/4j/pP/M/+3/3P/a/9H/1//B/5f/gf+G/4//mf+1/9f/8f/w//z/+v8HAAUA8v/o//H/7f/k/wQAFQBDAFcAVABSAC8AIwD4/+f/8v/f/97/3P/t/wkAHwAsAEUASgAuAPz/1//Y/8z/wf+x/8L/z//X/9f/5v/4//L/8v/4/xYAOQBSAGUAogDLANIA1wDUANYAwQCTAG0APAAiAP//1P/m/+3/5//y////AwDj/8L/tP+c/4b/b/+F/7D/y//e/+//AAAeABsAEQALAPT/7f/Z//D//P8KACkAQwB6AKgAvQDPAOMA9gD/AP8A/ADwAOsA0QDBAL0AsgCXAIUAdABWAEQANgA7AD4ANgAoAAoAAgDz/+n/8f/k//D/2P/D/8P/qP+l/5v/hf9w/0j/Rv83/0T/ZP90/5X/m//D/9T/7//y/+f/8v/a/8//uv+w/7T/n/+P/5X/jP9//3T/ev+G/33/f/+Q/5r/pv+m/5T/pP+5/8L/zv/L/+//8////xIABwAmAAkAAwD4/+z/7//D/77/xP/S/+H/5/8DAB4AJgBCAFsAYwB/AI0AgQCKAI4AoACaAJIAmgCBAHkAeQCAAIMAdgBpAGAAUAAzABkAAwDw/+//4//d/93/y/+3/63/tv+0/6f/rf+x/7X/xv/R/+P/6P/v//v/BwAUABwAEwAQACMAGQARAAwAEwAXAA4ACgD+/+f/3f/P/77/uP+s/7D/oP+L/4f/dP9i/2H/X/9e/1n/Vf9r/4L/iv+d/6f/tP+7/8T/y//F/9H/0v/m//r/FgAZAA4AIwAvADsAMgAoACkAIAAQAAUA5v/j/9X/vP/I/7X/v//M/9z/GQAqADsAZAB1AI4ApgC2ANYA5ADlAPIA4wDfANQAuwC7AMMAuAC6AK4AnQClAIkAngCOAGgAYgBKAD8ANAApABkAHAASAA0AEgAIACEAGAAIABUACgAVAB0AGwAwAEMAOQA4ACQAFAADAOr/7//N/7P/p/+T/4L/Xf9O/0T/Iv8M/+z+3v7f/t3+6P7t/gD/Hv87/13/cP97/5T/pf+6/7v/sv+j/6D/pv+m/6v/rf/I/9H/2f/4/w8AKAAyACwANQAtABUA///m/9H/1P/I/8v/zf/H/9v/2f/i/+v/7P/v/+n/5P8DAAEAEwAwADIAVABYAG8AggB6AIUAjgCHAHsAawBXAFMAWABLAEAAMQAuACQAFAAdACAAIAAsAEIAVABmAGoAagBsAHUAbwBtAHEAdgB9AH8AfAB6AHEAWwBjAFkATQA8AC4AMAApACoAJgATABEAAwD2//P/0f+7/6D/hf93/27/YP9P/1z/Yf9q/3n/lP+9/8f/4P8BAAoADgALAAYACQADAP7/+P/g/9P/yf+7/7P/rv+o/57/of+b/5r/ov+d/53/qv+t/6r/s/+1/7r/xf/S/+z/8f/1/wUACwAmADQARQBaAFUAXgBnAGcAbQBtAGcAbwBuAHIAdgBuAG4AZgBcAGIAYgBPAFMASwBIAEEAJQAmABAAAQATABQADAADAPj/8f/t//P/9f/o//r/BAAHAA0A//8TABwAMwBNAF4AaQBiAGsAXwBfAFcARQA1ACIACgDz/+T/3P/R/8X/w/+7/7n/u/+t/67/rf+l/6b/jv+Y/6D/o/+y/7T/vv/C/83/8P8AAAAADAAKAAsACwAHAP3/CAASABQAEwAKAAoAAgD6/+v/3P/Y/8j/wv/E/7X/sP+v/7v/vv/F/7f/sf+x/7f/tP+m/8L/tv++/8j/0v/g/+H/8P/4/wQADgAcABoAFAAgABQABgAEAA4AFgD9/wIADAAaACkALgBHAFYATQBGADwAMgA2ACQAKwAqAC8AKwAzAEEANQA6ADoAPgBAAEcAQwBAADUANgA/AEYARABUAFgAVgBdAGUAZwBhAFMARwA5ABwAOQAwAEQAOQAkACQAEQAiACQALgA7ADcANAAkACEAGwD///L/3v/k/9f/1/+7/7//yv/G/8L/xf/Q/8P/vv+w/8L/tf+1/7D/tP+v/6r/s//G/8v/zP/Z/8P/v/+1/7b/vP+y/7r/wP+9/8j/u//P/9b/zf/F/7L/nv+e/5n/nP+t/7P/vv+4/77/sf+5/9H/6v/y//7/+v8AAAUA+v8BAPj/9P/8/wAADwAgABYAGAARAAYAAQD9//b/8f/0//7/BAAhACEAIQAXAP7/3v/H/+3/DgAdABIAAADq/9r/wf/p/wYAHgASAAMAHQAbADQAKAAjABsAHAAvAEgAbABaAE8APgBLAH4AhACEAFsAUgBGAC0ATQBRAFQAVABCAEMAQAA6AFYAUAA8ACwAGgAUAA0ANgAgABAAEgAzAFcAVQBOAA4ACgAAAD0ASwBAAPz/qf99/7X/PgB1AIQAWAAYACIAkwGlA+EDogGU/k/7ivr3+zj+nQC+ADH/J/0H/Rv+TADcAaIAPgCN/67/t/9EAEoAZ/65/Rr+TP+JAIYBVgBtAXsCUwUlBvcCCP/h+rz6SPwM/5wAYAEG/pD8L/2v/j8AA/+e/0b+kf9CAeMBPwFQAPv+Yv3B/q3+sQBm/48ArgL0AzkEFARCA5T/0wHbAPgC9gHIATsBKAICBf8CYgPn/4j/Rf3j/1cA+QB0AIv9ff1J/Er9oPoi/LT7r/xO/bj+2/4t/vz+mP2b/vr+DwBG/6MA3wHkAtkDOwKDAYMBhAFYAlsCgwK6AjkCtgKlAuABowGmAEL/3/+JALAACQABAMP/mP+r/nz9xfxr/BD9rf08/oX+b/58/XL9jP1W/ij/4/53/qj+9f4VABQB8gAZAYsACgDg/yYA9gC+AcEBSQFaAfoA/wAbAd8AGwAEANn/xf/iAJcAgwAp/5b+n/6+/iX/5v7p/nP+Qv+1/wAA0v/h/hf+Xf60/6sAAQF7ACgAIQCXAN8AcAEtAYAAqgAQAQkCLAKbAr4BNQENAQEB+gBNAHwA5v+dAEEA9P/h/+X+Nv/q/hj/Mv9o/1D/X//Y/1T/YP8M/wX/Bf9O/+j/8f8yAFIAXACQAEwAMQCeAKwA0AD1AAgB5gDnAAEBvgDgAMEAJQDf/7b/GQAlAA4AAABz/z3/vP7R/i3/AP8W/73+2P5A/2r/ff90/3P/jf9C/1z/sf8AADoAEgAgAE8A7wBPADgA7f++/0EAWgCHAJIAVQDV/5X/n//m/wUA1P+I/3L/mf/Z/8n/8P+P/3n/aP+h/8D/2P/W/7T/zf/r/ycA5v/H/4r/of8kAG8AhgAqAK3/+/8VAIQAuADSAIEAIADY/8//ewDfAO8AWADD/57/GwB5ANYAnABRAAAAz/9LAFcASgDz/woAOwAyAKQAWgCEAHkANABZAFIAiAAFAOr/tf8JAJAAmwB6AM7/ff+G/xgAggB5AOn/vf+g/73/0f/F/4v/Vv+u/+z/NgAJADwA7f/8//z/6/9aACEACgDH/+v/DwBLABMAkv+V/6b/LAArAHT/9P5A/wAAjgBMAIj/9f4L/67/MgBsANL/VP8I/4r/YABDANz/F/8L/1z/tP8KAP7//v/G/+z/QAALAPH/Yv8b/7L/WgAPAZMAEgCm/7f/RABdAIgARgAwACoAhACcAEMACwAFAPj/vf+q/9T/KAB0AJcAPQDQ/6n/rf/I/w4A+//6/+X/x/8bACgAMQD8/7H/pf/h/5YAuwCXADkA/f9mAHsAqgBNAPf/DwAaALgA/gDaAHQAHQBDAJAAmABQABgAPwBVAIgAcAAwACUApP/P/+D/+P8pACoAKQDq/xcA7f8eACQA1P/C/4n/z/8CABYAVAA4AP7/rP+M/8D/wP8ZAA0AFAD+/9//CgDC/93/fv9v/4b/of8KACMAHgDM/93/2//d/83/ev+//+T/EQApALn/jv9w/5r/xf/G/4X/Wv+r/+v/PwAjAP//u/+A/6r/uv/X/9L/0P8eAF0AcgAkALz/sf/H/zAATgBPAD4AJAA6AD0ASwA7AA8AxP+y//r/UQBHADsAKwAXAAsAFQD2/9L/2//f/1sAfwB2AAoA4f/p/+j/DwD4/xsADgA4AEgAUABdACUA7//X/2MAmwBaAHkA3v8pAFUAOQCqAD0AUwDS/xUAKABHAFgABwBBAOj/NwDs/w8A6f/e/wkA7f8sAPn/0f+0/8//vv8LANf/vf+a/4f/+v8BACwAxP+X/3//n//G/7z/4v+e/7X/jP+h/7//sf/F/6D/nv+v/77/x//f/7//zf+8/9b/6v/8/+b/0P/8//X/IQAVAA4A7//3/xkAFQAGAA8A7//s/xoAHQArACgADwAGABEACgAvACEARwA5ABQAGwAKAC4ALQA1AD0AMgBFAEoAQABRAEMAQwAwADIALAAlAD0AHQApACkAKABDADQAKgAeABgAFgAnACgADgALAOD/8f8UAA4A+//d/8z/7v8GAAQACQD3/+v/3P/t//T/CwACAAIAAAD+/w0ABwASABcAEQATACYAEwAmAAUAEAASAP3/GQAEAAgA+f/1//7/8//j/87/z//V/83/wv+4/8X/yf+7/8T/v/+y/7b/tP/C/73/uv+7/73/yf/M/9D/yv/W/9H/3v/v/wEA8v/r/+n//P8hABoAHAD7//j/CwAhADAAIwAFAA8AGAAtAC8AHgAJAPP/DAARABcADwAHAPv/+/8GABcAHQATAAoA+v8KAAoAIgAjABcAIQACAA8AFgAmACUAJgAlAC4ALgAoACQAFAAoABkAIQAaABoAEgAQABMAEgANAAkACgAEAAoACAAEAPv/BQACAP3/9v/+/wMACQACAAAABgAFABUAEQASAAIAAAAEAAUACwALAAEA/v8AAAAA/P/p/+z/9v/+//j/8//r/+X/5v/f/+D/6v/j/9r/0P/R/+P/7v/v/+v/6P/i/97/5P/x/wAAAwDr/+v/5P/0//X/9/8AAPj/BQD7//7//f/5//D/+//7//j/9v/j/+v/9f/5////8//o/+j/6//8//7/BwAAAPb/9f/0//n/CgATAPv//v/1/wQAFQANAA0A/v8LAAsACwAKAAMAAAD//wgAEwAWAAYAAAD6/woAFQANAAIA//8AAAAAAwANAAoA/v/4//j/CgAPAAgACwAIAA0AFQAMAAUABgAKABAAGQAZABgAEAAMAAsABQAHAAUABgAMAAkABAAFAAIACQAEAAcA/P/z//7//v8BAP7/AQD+/wQA/f/1//7//f8AAAQAAAD+//v/9/8AAPv//v////z/AgADAAQA/v8AAP7/AAD///r/+f/3//v/+P/8//3//v/4/+//7//3//n/9v/z//D/9P/2/wAAAAD2/+7/8v8AAAAACAAAAPv/AQAAAAMA+//0//j/AQAGAAwA///6//r/AAALAAQAAwD7//n//f8GAAoABgD6//j//v8EAAYAAAD///j/+//9/wYABAADAPr//P8GAAsAEQAIAAUABAALAAkACgALAAEABQAFAAsAEAANAAwABQAMAAwADAAEAPz//f/8/wEAAAD///3/9//x//X/9v/7//n/9//2//j/+//z//T/8//1//j/+////wIAAAD///j/+v/3//X/9P/v//z//f8AAP7/+v/3//f/9f/4//b/9f/6//n/AQAAAAIA/P/2//v/+f/9/wAAAAAEAAYAAQD8//r/+v/+/wUADAALAAcAAwAGAAgACAAIAAUABwAHABAADAALAAQABAAJAAUABgAAAAAA+/8EAAcADQAIAPz////9/wIAAgAFAAAAAAAAAAEADAAIAAUA/P///wUABwARAAwADgAMAAwADgAQAA4ACAAKAAcADQAMAAwACAAHAAgABgAIAAgACQAGAAcABQAEAAEA+f/7//3/+f/6//z//f/9//v/+P/3//P/9f/1//f/+f/1//r/+P/3//j/+v/6//n/9//4//n/+v/7//P/8v/z//T/9v/5//j/+f/1//n////7//v/+//4//n//f/9/wAA/P/9/wIAAQAEAAEA////////AQAFAAMAAgABAPv/+v/6/wEAAgAAAAgABgAEAAcACQAGAAMAAAAAAAIAAgAGAAQABAABAAEAAgD9//z//v8CAAUAAAAAAP//+//9//3/+////wAAAAACAAEAAQD///7/+f/8/wAAAAAEAAUABwAJAAcAAwADAAcACQAHAAgACAAGAAgABwAHAAYABAAHAAYACAAHAAMAAgACAAcAAwACAAUABAAFAAcABgAIAAUAAwADAP///v8BAAQAAgADAAMAAwAIAAcAAgADAP7/+v/6//v////8////9//4//v/+f/+//n/+f/6//n//P/+//7/+//8//n/+//6//j/9//4//z/+v/9//n//P/7//z//f/6//3//f/9//r//v/8//z/+v/7/wIAAgAAAAEA/v/9//7//f////b/9v/4//7/AAD///z/+//9//3/AAAAAAAA/f///wEA//8CAAMAAgADAAAAAwAGAAIAAgAEAAIABQAFAAAAAwABAAEA///+/wMAAgACAAAAAAAEAAMAAgAHAAYAAQAHAAMABgAHAAIABQAAAAEAAwAGAAYACAAEAAcABgABAAIA/v////z//////wAAAAD8//z//P/9//r//P///wEAAQADAAkACAADAAAABgAIAAUABAAFAAQABAADAAIAAgADAAEAAwACAAIAAwD+/wAAAQAEAAUAAwAEAAAAAQAAAAAAAQD//////P/+/wEAAAD+//7//v8BAAAA/v8AAP3/+//7//j/+f/8/////f/9//3//v/9//v//v/+/wAAAgAAAAMAAQADAAAA//8BAAAAAAAAAAIAAAAAAAAA/v/9//7///8AAP//AgADAAAAAwAEAAQAAAAAAP///v/8//v//P/7//n/+v/5//f/+f/5//r/+v/5//b//P/9//r/AAD+//3//f/6/////f8AAAQAAgAFAAYAAAAEAAIA/f8AAAAA//8AAAAAAAABAP//AgACAAAA//8AAAIAAAAAAAEAAQAAAAMABgAFAAMAAQABAAQAAgAEAAQA/f/7//7/AAD8/////v///wIA/v/+/wIAAAAAAAMAAgAEAAQAAAD+/wEA//8DAAQA//8DAP3/AgAFAP//BQAFAAAAAAD7//v/AAAAAAUABwADAAIAAQAAAAQAAgABAAIA///+//3/AAAAAP3//v///wAAAAD//////f/9//3//v/+//v/AAADAAYABgADAAQAAAD+/wAAAAABAAIAAQAAAAMABgAFAAcAAgADAAIAAwAEAAMAAwABAAIAAAAAAAEAAQACAAQABAAEAAAAAwACAAMACAAGAAcACAAHAAYABAABAAMAAAD+/wAAAAD+//3/+//8//r/+P/8//j/+v/4//b/+P/y//j/+v/4//z//P/8//r//f/+//f/9//5//r//P/+////AQACAAAAAAD//wIAAAAAAAAA/v/+//3////+//7/AwAAAP////8BAAIABAALAAkACQAFAAAABAAFAAMACQAGAAEAAQAAAAEAAQAAAAMA+//7/////v8DAP7//v8BAP3/+//7//r//f/5//z/+v/7//v/9//4//r//P/9/wEA/f////7/+f/+//z//v/8//r/AAD///3////8//7//f///wIAAAABAAIAAwAEAAUACQALAAgADAANAAsADQAHAAkACQAJAAsADgAMAAwADQALAAwABwAJAAcACAAHAAUABAAAAP3/+P/9//7//v/8//v/+//8//r/9//3//f/+f/5//v/+//7//z/9//2//j/9f/3//T/9f/4//T/+f/2//b/+P/9//v/+v/8//z////5//v//v/9/wEA//8AAAMAAAAFAAIAAAAAAAAAAQAAAAUABgAFAAMAAAABAAIABAAEAAUABwAIAAgABgAGAAUABQABAAAAAAABAAMAAgADAAAAAAAEAAIAAgAAAP3////8//v//f/6//3//f8AAAAA/v/+/////v////r/+P/5//n/+v/4//j/9f/7//z/+/////////8AAP///////wAAAAACAAQABQAGAAgACAAHAAUACAAKAAgADQAJAAsACgAJAAwACQAKAAkACwAJAAgACQAGAAcACAAHAAgACAAJAAkABwADAAEAAgAEAAcABAABAAIAAAD//wIAAQAAAP//AAADAAMAAAABAPr/+v/+//v/AAAAAAAAAAD///7//v/6//z/+P/6//v//P/+//z//f/7//v/+//9//z//f/8//v//P/7//v/+//8//3//v/9/wAA/v/9//7//f/9/wAA/v8AAAAA//8BAAEAAQD+//////8AAAAA/v///////f/7/wAAAgD//wIAAQAAAAEA//8AAAAAAAD//wAAAwAFAAYABAABAAMAAAAAAAMAAgACAAEAAAD///7///8AAAEAAwD///7/AAD///3//f/9////AAD//////v/8/wAA///+/wMA///8//7//P////z/+f/9//j//f/6//b//P/6//n/+P/5//r/+//6//v//P/+/wAAAAABAAAAAQAEAAEABQAFAAEAAQAAAAIABAAFAAUABgAHAAkAAwABAAYABgAHAAgABwAIAAYACAAGAAYACAAHAAcABgAFAAIAAQD+/wAAAQABAAQAAgADAAIAAAAAAAAAAgD///3////5///////9//v/+//8//3//////wEABAABAAEAAgAAAAAAAAABAAIAAAAAAP7/AAABAP//AAD//wMABAAAAAIAAAAAAAIAAAAAAAEAAQADAAAA///9//3/AAD+/wAA///+//7//v/8//v//f/6//3/AAD8/wAA/P/7//v/+P/7//j//v/+//r//f/7//b/9f/3//f//P///wAAAQAAAAEAAgABAAIABAACAAMAAgACAAAA/v/8//z///8DAAIA//////3//v////3//v8CAAAA//8BAAAAAQADAAEABAAFAAQA//////7//f8AAAEAAAD+/wAAAgABAAIABAAFAAUABgAHAAUABQAFAAYAAgACAAcACAAGAAYABAAFAAYABgAGAAAABAAFAAMABAADAAIAAwADAAAAAgABAAAA/f/+/wEAAQADAAEAAAABAAEAAQADAAMABAAIAAcABwAGAAIAAQD9////AAAAAP///f8AAPz//v8AAP//AAD///7/AAD//////f/8/wAA/v/+//7//f/8//r/+v/5//f//P/5//j//f/6//v////+//7////9//r/+//6//n//P/4//v//P/+/wEA///+//7/AAAAAPz//v8AAAAAAgADAAAAAgAAAAAAAAD////////+////AQAAAP////8AAAAAAAABAAMAAgD//wAAAAACAAIAAwABAAAAAgD//wAA/v/5//v/+//5//7//P/8//7/+v/9//3///8AAP3/AAD///3/AQAAAAAAAQAAAAIAAAD9/////P/9/wIA//8DAAMAAAAGAAMAAQADAAMAAwD///3////+/wIABwADAAQABgAGAAgABgAHAAcABAAHAAcABgAFAAMABAAEAAcABgAJAAgABAAAAAAAAAD9/wAAAAAAAAMAAAD8//////8CAAYABAAHAAUABAABAP//AAAAAAMABAADAAQAAwAAAAEAAgACAAQABgAJAAcAAAAAAAAA//8AAAIAAwAEAAIAAgAAAP3/AAD///7/AAD//////f/7//z//f8AAAAA//8AAPz/+//8//f/+v/7//r/+f/8//3//f////7//f/+/wAA/f/+/wAA/P8AAAEA/v8AAP7//v////z/AgACAAEABQADAAEAAAD/////AgACAAAAAQAAAAAA///+//3//v////z/+v/7//r/+f/7//n/+//8//r//f/7//j//P/6//b/+f/4//b/+//6//n//P/9//v//f8BAAIAAAD//wAAAAAAAP7/AAAAAP3//P///wEAAAD//wAA/v///wAA/v8AAAQABwACAAEAAwAAAAEAAgADAAAAAAAAAPr//f/9/wAAAQAEAAgACAAJAAgABQAGAAgABAAJAAgACwALAAgABgAEAAYAAwAEAAkACQAHAAYACAAFAAUACAAFAAUAAwABAAEA///8//7///////7///8AAP///P/4//f/9v/4//T/9//7//r/+f/4//v///8BAAAAAAD+//7//f/9//7/AAD9/wAAAgAAAAUAAwACAAQABAAFAAIAAQADAAQAAwAFAAMAAgADAAEAAgAAAP7//v/5//3//P/4//7//P/5//z//P/7//3/+f/9//3/+v/9//v/+v////3/AAD+//j///////7/AgAFAAMABQAGAAcAAwAFAAcABQAHAAcABgAGAAQABAAHAAUACAAIAAoABwAGAAgABAAEAAEAAwACAAAAAgD///7/AAD+//7/+//8//3/+//9//r/+v/9//n/+//9//v//f/+////AAD9//7/AAD+/////v/9/wAAAAAAAP//AAAEAAMABQADAAUABgADAAUABAABAAIAAwADAAQABAAGAAcABgAFAAUABwAIAAgADAAIAAYAAgD+////AAADAAEAAwABAAEA///8//j/9v/4//b/9f/2//n/9//4//j/9P/0//j/9v/5//n//P/8//v//P/7/wAAAAD+/wIAAwAEAAMAAAACAP7/////////AAACAAIA//8DAAEAAQABAAEABAAGAAUABAADAAQAAwAHAAUACAALAAgABwABAAMABAAGAAUABgAHAAYAAwD///3//f/9/wAAAAAAAP/////+//n/+f/2//j/+f/6//n/9//2//n/+P/7//z//P/9//v//f/5//n//P/7//v//v8AAAAA/v/9//z//v/7//7/+/8AAAIAAAAEAAIABAABAAIABAABAAAAAAAAAAAAAAAHAAMAAgACAP///v8AAP7////7//r/+v/4//r/9//8//7/AwADAP//AAAAAAAABQAGAAUABwAGAAQABgAHAAcABwAIAAwACAALAAsACgAIAAgACgAJAA0ACQAHAAgABQAIAAMAAQAFAAUABgAFAAMAAAD+/wAAAQABAAUABAAFAAIAAgADAAMABgAFAAYABwAGAAYABgAEAAQABQAIAAcAAwAAAP////8AAP7///////3/AQD9/wAA///9/wAA+v/8//3////+//3//P/8//r//f/+//3//P/8//v/+f/6//z//f/7//v/+P/2//f/9//6//f/+P/9//r//P/5//n//f/+//3//f/7//r/+//3//j/+//9//3/+//+//z/+f/+////AAD9//z/AAAAAAIAAAAAAAEAAQD+/wAAAAD//wIA///8/wAA/////wAAAAADAAQABQAGAAIAAwADAAAAAAAAAP7/AAD///z//v/8////AQACAAAABAACAAEABwAHAAUACAAMAAsADgAPAA0ACgALAAYACQAIAAcACgAHAAgABgAHAAYABQAKAAkACgAHAAMABQAEAAMAAAADAAcABAADAAAA/f/+//3//f/7//v/+//7//7//P/6//r//P/8//3//P/8//r/+v/8//r///8AAP/////9/wAA/v/8//3//P////7///8AAAAAAwACAP7///8AAP7////+//v/+P/7//r/+P/4//z/+//4//v/+f/5//n/9v/6//v/+//7//j/+//7//r////8//v//f/5//r/+//9/wIAAQAAAP////8DAAkACgALAA0ACQAHAAUAAwADAAAABAAFAAIAAgD//wIABAAEAAsACAAFAAcACQAHAAgACgAJAAoABwAIAAgACQAHAAUABAACAP3///8EAAAAAQD///z/+v/7//z////9//v/+f/4//v/+f/6//r//f8AAAAAAQAEAAIABAAFAAMAAwADAAQAAQADAAcABAAAAAEAAQACAAAAAAAAAAAA/v/6//z//v/8/wEAAQACAAQAAQADAAEAAAAAAP3//f8AAAAA//8AAP7//v/+//n/+v/8//n/+/////v//f8AAPz//v/8///////9/wIAAAAAAAEAAQADAAEAAAAAAP7//v///wAAAwADAAMABQACAAMABwABAAIAAgADAAUAAwACAAcACAAJAAoABgAGAAYABQAFAAQABQAIAAEAAQD+//3//P/5//3//f/9//7//v/8//3/+//9//z/+v/+//v/+v/6//r/+v/6////AAD+/wAA+//4//n/+P/6//z//v/+//v/+//3//r/+v/5//r/+v/+//z/+v/4//j/+v/8//z////9//z/+v/1//n/+v/7//v/+//+//7/AAABAP3//v/+/wAAAgAAAAIABQADAAMA/v/8//7/+v/9//r/+//9//z/+/////z//f8AAP7/AAD+/wAA/f///wAA/P8AAAAAAAACAAUABQACAAAAAQADAAQAAwAFAAgACwAOAAkACgAKAAcACgANAA4AEAAOAAsADQAKABAAEAAOAA8ADAANAAgACQAIAAYACAAIAAgACQANAA4ADQAKAAkACwALAAsADAAJAAcABAAEAAUAAgABAAAAAAAEAAQAAAAAAP3//P/9//v//f/+//j/9v/3//X/8//1//X/9f/1//P/8//z//f/8//1//j/8//1//P/8f/y//P/9f/z//L/8v/v//D/8f/0//H/9P/0//L/8v/z//j/9f/5//j/9//6//n/+//7//v/+//3//b/+P/2//j/9P/y//X/9f/6//n/+f/7//v//f/+//z/AAD/////AAD//wAAAAAFAAQABgAJAAoACgAKAA4ADAAOABAADAAPAA0ADAAKAAUABgAHAAgACwAKAAkADAAJAAgACwAGAAoACwAJAA0ACgAKAAoACgALAAoACQAHAAcABwAIAAcABwADAAIABgAEAAUAAwABAAQAAwABAAAAAAACAAIABQAGAAIABAACAP7//f/9//3//P/9//v//v/8//r//f/6//v/9f/2//r/9//5//v/+//7//n/+P/6//f/+f/5//f/+v/2//X/9P/0//n/9v/2//n/9v/3//P/9f/z//L/9v/1//f/9f/1//n/+v/5//3//f///wAA///9//3//P///wIABAAEAAIABQABAAAAAAAAAAQAAwAFAAoABwAGAAUABQAKAAsACgAKAAsACwAMAAwACgAJAAsACAAKAAsACwAMAAoACQAGAAkACQAIAAsACgAIAAkABwAIAAcABwAIAAoACAAHAAkABQAEAAIAAgAEAAUAAgAAAPz//P/8//r//v/9//7/AwAAAP///P/6//7//P/9//7/+//9//z//v/9//j/9//4//f/+P/7//j/+P/0//b/9//z//f/9//6//n/9f/3//X/9v/3//P/9P/y//X/9P/x//T/8//2//X/9f/4//b/9v/5//v/+v/9//3//f8AAAAAAAAAAAEAAAAAAAAA/f/+/wEAAQACAAIAAgAEAAQABwAIAAcACQAMAAwAEwAQABAAEQASABAADgASABMAEQASABEAEQAWABQAEwAOAA4AEwAPAA0ADAAMAAwADQAMAAoACAAHAAYABwADAAAAAgD+/////v/7//r/+f/7//j/+v/3//r/+f/4//n/+P/5//f/+P/1//b/9f/3//f/9//4//f/9//2//b/9v/6//n/+P/5//f/+f/4//r/+f/4////+v/5//j/9//4//T/9P/1//X/9P/2//T/9P/z//b/+P/3//r/+f/2//T/9f/2//X/9f/0//X/9//1//f/+f/3//f/+P/6//7//v8AAAEA//8DAAYABwAJAAcACQAFAAIABQAHAAkACAAIAAkACwALAAoACAAKAAsACwAJAAwAEAAPABEADwASABIADgANAA4AEAARAA0ADgAPAA0AEQAOAA0ADQANAA0ADQAMAAwADQAMAAsACwAMAAoACwAMAA0ACQAIAAgACgAJAAkADQAKAAwACQAJAAoABAAFAAEAAwAEAAMAAAD+//3/+P/5//f/9f/3//L/8v/x//D/8f/w/+//7f/t/+v/7v/s/+n/6//p/+3/6//t//H/8v/z//H/8P/y//T/8//1//X/9P/1//b/9//z//n/+v/4//n/+P/6//r//P/7//3//f/+/wAAAAABAAEAAwAEAAYABQAEAAYABgAEAAcABQAEAAgABQAEAAQACAAIAAYACQAIAAgABwAKAAsACwAMAAoADQAOABAADgAOAA0ACgALAAkACQAHAAUABQAEAAMAAgADAAYACAAJAAgACQAIAAkACgAHAAkABgAEAAUAAgADAAUAAAACAAEAAQADAAUACAAEAAYABAACAAUABQAFAAUABQAGAAMAAwAEAAIABwAEAAEAAAABAPz/+P/8//v/+//7//z//f/+//3//P/6//n/9v/1//b/+f/4//n/+v/3//b/9P/2//P/+P/3//X/9//0//T/9P/y//L/8f/v/+7/7v/s/+z/7f/r//D/8f/v//L/8P/0//j/9f/1//T/9f/1//f/+v/4//r//P/9//z//f///wAAAwAIAAcACAAMAAkACAALAAkADgAQABAAFAAQAA4ADQAPAA0ADAAPABEAEAAMAAwADQAKAAwABwAHAAwACAAMAAgABwAKAAoACwAHAAcACAAJAAgABgAFAAQAAgAFAAcACQAGAAQAAAADAAEAAAADAAIABQABAAAAAAD//wAA/P/5//z/+f/3//T/9f/4//f/9//1//n/9//2//T/9P/4//T/9f/6//b/9f/1//T/9v/z//L/9P/2//r/+f/6//r/+f/7//z//P/7/////P/8//3//f/7//j//f/7//n/+v/6//z//P/9//z/+v/8//r/+/8AAAIAAAABAAAA//8AAP//AgACAAIABgAHAAcABgAIAAkACgAKAAkACgAJAAcACAAHAAYACgAJAA0ADQAMAA8ADAAOAAwACwAJAAoACwAJAAoABwAJAAcABgAKAAkABwAHAAcABAAEAAQAAAAFAAQAAQAFAAAAAQD//wAAAgABAAAAAAD//wAAAAD8/////P/7//7//P/9//3//f8BAP3///8AAPz////8//r//f/7//n/9//4//n/9v/6//j/+//+//v//v/6//v/+v/2//f/9f/z//X/9f/2//T/8v/z//X/8P/y//L/7v/x//H/9f/x//H/9v/2//b/9f/3//n/9//3//f/+v/7//j/9v/4//v/+//7//z//P/7//z/AAABAAAAAwAFAAQABgAJAAcABwAHAAoACwAKAA0ACgALAA0AEAAPAA4AEAAQABEAEwATABEADgANAA8AEAANAA4ADQANAAwACgAPAA4ADgANAAsADQAJAAgACAAGAAYABwAJAAUACAAIAAUABgAGAAQABAAEAAMAAgD+/////v/8/wAA/P/9/wAA/v////z//P/8//v//f/7//n/+f/6//f/+P/4//r//v/+//v/+//6//j/+P/2//f/+P/3//f/9P/1//X/9P/0//f/9f/3//r/+f/5//f/+v/6//X/+f/6//j/9//5//r/+//8//7////9/wAA/P/+/wEA/f8AAP7//f8AAP7/AAAAAP7/AAD//wAA/f/6/wAA/v/+/wAAAAADAAcABgACAAMAAwACAAQABQADAAQAAAABAAIAAwAEAAIAAwAGAAUAAgADAAEABAACAAEAAQACAAUABwAJAAkADAALAAcACAAJAAgACgAIAAwADAAKAA4ACAAKAA4ACQAIAAYAAgADAAMAAgAEAAQABwAEAAIAAQACAAIAAgAEAAQABQAFAAMAAwAEAP//AQACAP7/AQD9//n////+//v/+//3//r/+//5//n/+f/5//X/9v/5//f/+f/5//n/9v/z//P/8f/y//L/8P/z//T/8v/y//b/9//1//n//v/8//z//P/3//n/+//9/wAA//8AAAAA//8AAAAAAAACAAAAAAAFAAQAAwADAAUABQAFAAQAAwAFAAUABQADAAQAAwADAAAAAQAGAAYACQAFAAcABgAGAAYABwAHAAMABAAEAAcABQAHAAYAAwAGAAYACAAJAAYABgAGAAUAAAD9//7/AAAAAP7//P/6//v/+v/5//n/+v/+/wAAAQAAAP///v/+/wAAAAAAAAAA/////wAAAAD9//r/+//8/wAAAwACAAMAAgABAAMAAQACAAEAAAABAAAA/////////v/9//3/+//9//r/+v/7//j/9//3//n/+P/6//n/+P/6//r/9v/3//7//P/7//v/+v/5//f/+v/3//j/+v/6////AQADAAcABgACAAMAAgABAAMAAwAAAAEABQACAAIABAADAAYACQAHAAsACwAMAAsACQAMAAoADAALAAoACAAJAAkACQAIAAUABgACAAMAAgACAAQABQADAAMABQAHAAUAAwAEAAMAAwADAAEAAgAIAAcAAwAEAAMAAwAEAAEABgADAAEAAAAAAAEA/f8AAAAAAAD//wAA/f/+/wAA+//6//r/+f/6//z/+//5//v//v///////v/8//r//P/7//z/+f/6//n/9//5//r/+//7//j/9f/1//L/8f/y//X/9v/z//P/9P/1//D/7P/t/+3/7//y//b/9v/5//n/+v/5//r//f/7///////+//7/AwABAAMAAwAEAAUABAAEAAQABQADAAIABQAIAAYACQAJAAsADQALAAoACwANAAsACgALAAcABgAJAAoACgAKAA0ACwANAA4AEQANAAoADAAGAAkACQAKAAkADAAIAAQACAAGAAUAAwABAAAAAQACAAMAAAD+////AAABAAIAAAAAAAAAAAD+/////v/7/wMAAQABAAIA/v/+//7/+//+/wMAAQADAAQAAAAAAP7//v/9//7//v/8//n/+f/9//j/+f/8//3/AgAAAAAAAAD9//z/+P/6//r/9//5//b/+P/3//b/+P/3//X/+P/1//L/8P/s//L/9f/1//X/9v/2//f/9v/4//f/9P/4//r/9//3//f/+f/6//z///8AAP///f8BAAAA/P8AAP///f8BAAAAAQAAAAIABAADAAIAAgAEAAQABgACAAYABgAHAAkADAALAAsADwAMABAADwAQAA4ACQAJAAcABQAHAAcACgAGAAQAAwAEAAYAAQAGAAYAAgADAAMAAgAFAAMAAQAFAAUABAAFAAAAAgADAAEAAQAAAAYABQABAAIABwAGAAUACAAHAAUABQACAAMAAwAEAAUAAAACAAAAAQD///z//f/8//z/+//1//T/9f/y//X/9f/2//f/9f/2//P/8f/z//L/8//0//P/9P/z//H/7//s/+z/7//v//H/8//0//T/8//z//T/9v/4//f/+f/6//z//f/+//7/AgAFAAUABgAFAAsACAAIAAgABgAHAAcACwANAA0ADQANAAsACwAMAAoADQAOAA4AEAAOAA4ADgAOAA8AEAANAAkACQALAAgABAACAAEABgAEAAIAAQADAAAA/f/9//v//f/+//z///8AAPv//v/8//3/AAD+/wAAAQAAAAAAAAD8/wAA/v/9//////8AAAAA/v/6//3//P/8//3//f////3/+//8//3/+//7//z//v///wAA/P/8//v/+f/7//j/+//8//r/+v/4//3//v/6//z//P/6//r/+v/3//f/9v/2//j/9v/5//j/9//3//b/+v/1//b/9v/y//b/9f/0//v/+//7//z/+//8//3/AgAAAP3///8AAP///f8AAAAABgAEAAQABwAGAAkABwAHAAkACAAKAAkACgANAA8ADQANABEAFAATABQAFAARABQAEgASABIAEgAUABMAEQAQAA4AEAAOAA0AEAAPAA4ADgAOAAoABgAGAAkABgAIAAUAAwAEAAMAAwACAAIAAQD+//7//v/5//v/+f/3//f/9f/1//X/8//z//j/9//2//X/8//z//D/8P/y//T/9f/z//P/9v/0//D/9P/3//f/9P/2//P/8v/3//X/9//4//r//P/5//b/9v/1//X/9v/3//n/+P/5//v/+f/6//j/+f/6//n//P/8//3//f////////8AAP//AgABAAAAAAAAAAIAAAADAAYABgAKAAoACgALAAsADAAMAA0ACgALAA8ADwAPAA0ADwARABAAEgAPAA4AEgAPAA0AEQAMAA0ADQANAA4ADQAOAA4ADAAHAAgABwAIAAoABwAJAAgABQAHAAUABAABAP////8AAAEAAQAAAAAAAQACAAIABQAEAAQAAgACAAMAAAAAAP7//f/8//7/+//6//n/9v/6//f/+f/6//r/+P/2//X/8//z//b/9//5//z//P/5//r/+P/2//X/9P/2//j/9f/0//b/8//z//H/9P/1//P/8f/z//P/8v/w//L/9P/y//T/8v/0//P/7v/w//L/8f/2//X/9f/2//T/9//3//T/+//8//7//v8AAAEA//8DAAIAAQAAAAIAAQAEAAMABAAIAAMABQAGAAUACQAHAAgACQAFAAsACwALAAwACQALAA4ACwAOABAADwARAA8AEgATAA8ADgAPABEADwAMAA4ADQAOAA0ADQALAAsACwAKAAsACwALAAkACAAKAAkAAwAFAAYABgAEAAMABAAEAAIABAADAAAA///8//z/9//3//b/9P/2//T/9//0//L/8f/s//D/8//1//f/9//6//n/+P/2//D/8f/z//P/8f/w//P/9f/0//f/+v/5//f/+v/2//T/+v/5//r/+v/9/wAA/f/8//7//v/9//z//v/+/////v/+//z/+//9/wAAAQACAAEAAQAFAAEAAwADAAIABQAEAAUABAAGAAQAAgAGAAYACAAHAAUABgAHAAQABgAIAAYACAAIAAcABwAFAAQABQAEAAQABQAHAAYACAAHAAgABwACAAQAAQADAAQABQAHAAYABgAEAAIAAgADAAUAAwABAAYAAwADAAQABAAFAAMAAgADAAMAAQAAAP7/AAD7//r//P/4//n/+f/2//j/9v/5//r/+f/7//z/+//5//z/+P/2//T/+v/6//n////7//j/+//6//n//f/4//n/+f/4//v/9//8//z/9//7//j/+f/8//n/+v/4//j/+P/1//f/+f/4//r/+v/5//v/+v/6//7//v///wAA/v8CAAMAAgADAAAAAgAEAAIAAwACAAUABgAEAAQABQAHAAYABwAKAA0ACQAMAAsACQAMAA0ADwAOABAADgAMAAwACwANABEAEQAOABIAEQAMABEAEAAMAAsACwAJAAcACAAHAAgABQAEAAQABgADAAAAAAD9/wAAAAD//wAAAAAAAP3//f/5//j/9v/1//j/9P/4//b/9P/z//T/9f/z//f/9f/z//b/9v/2//f/9P/x//L/8f/t/+3/7f/w//H/8f/y//L/8//w//L/9f/x//P/9f/z//b/8//0//n/+//8//3///////r//v////r/AAAAAAAAAgD+/wAA/////wEA/P8AAAEAAQACAAwAEwAOABMAFgAPAAwAEgABAAAABADs//v/9v/x/wAA+v8FAAUAEAAKAAYAFgAAAAgACAD6/wcA/v/8/wYABAACAAYADAAIABMAEwAPABYAEQASABMAEwARABIAEgAOABEACQALAAsACQAPAAsAEwAPAA0ACgAJAA8ABQAMAAwABwAOAAoADQAKAAkACgAFAAgABgAEAAIABQACAP/////8////+//+//7/+v/8//b/+P/2//L/8//u/+//7v/r/+//6//s//L/7//y//X/8v/z//D/7v/u/+3/6//w//H/7v/w/+//8P/v//L/9f/1//X/9P/2//P/8//6//r//v8EAP//AgAAAPr//v/8////AAD//wEABQADAAUACQADAAQABAADAAQAAwAAAPv/AgACAAAABwAAAAIACQAGAAcABgAHAAcADgALAAoAFgAMABMAFAAPABMADAAPAAUACgALAAUADgAHAAgACQAEAA0ABwAHAAcAAwAIAAAABQAFAAMABQAFAAUAAgAEAAAA///+//v/AAD9//7/+//+/wAA/P////r//v/8//n////6//7////6//z//P/+//3//v/6//z//P/3//b/9P/5//X/9//4//n////6//3////8/wAA+//8//r/+//8//n////9//r//v/9////BwAGAAgAAgACAAEABAAJAAUACQAKAAQABQD///3/AQD6/wAA+//9//3//P////z/AQAAAAAAAAD+/wIAAAAAAAMAAQADAAYABQAFAA0ABAAIAAkAAAAGAAEAAgACAAUABgAAAAkABwAEAAYA//8BAAAA//8BAPz//f/9/wAAAAACAAUABwAJAAgABgACAAIA/v8AAAIAAAAGAP//AwAEAPz//v/7//z/+//7//z/+//9//j/+//9//f/+//7//f/+P/8//f/9v/5//T//P/4//f/9//0//P/8f/y/+v/8v/3//X//P/4//b/+//6/////f////7//f/9///////9/wEA+/8DAAIAAgAGAAIABgAAAP///v///wIAAQAFAAMAAwACAAIACAADAAkABQAIAAkAAgALAAMABwAGAAIACAAGAAYABwAFAP//AAAFAAIABwADAAgADgAJAAoACwAJAAUABQAJAAcACAAJAAQABgAJAAcACwAKAAUADwANAAsADAAIAAsACQALAAUAAQADAP//AgAAAPv//f/7//v//P/8//3//v/+//n/+v/7//z/+//9/wAA/P/9//j/+v8AAPj/+f/7//n/+f/3//j/+f/6//n/+v/7//v/+v/6//n/9f/3//r/9P/2//n/+/8AAP7/AQAAAP///v/5//7//v/6//7/+f/4//3/+v/5//f/+v/4//j/9//2//j/+/8AAP7/AAD/////AQABAAAA///9/wAAAgAEAP3//v8DAAAAAQAAAAMAAwAHAAcABwAHAAUACQAIAA4ACwAMAA0ABwALAAgACgAJAAQABwAEAAkABAAEAAYAAwAFAAIACAAEAAgADAAKAAwABAAIAAcACAAFAAcABgAAAAMAAAABAAMAAAAAAAEAAgABAAIAAAD+/wAA+/8AAPz/AwAFAAEABAD9/wAA/f/9//r/+f////z////8////AAD+/wAA+v8AAAAAAAD///X//f/6//7//v/6//3/9//+//n/9//1//H/+f/0//j/+P/5/wAA/v/6//T/9//1//b//P/5//r/+f/6//v//f/9//r//P///wAAAQABAAQAAAABAAQAAAAAAAMABwAGAAYABQABAAIAAQAFAAUAAgADAAYACQAGAAcABgAGAAcABwAIAAMAAQAAAAEAAQD+/wIAAgAAAAQAAwAEAAIAAAAAAAAAAAAAAAAABQACAP//AAD//wQAAgABAAQAAwAEAAAA////////AgAAAAEA/v/7//7/+//8////AQABAP7//P/9//7//P/6//z//P/6//z/+v/3//X//v8DAP//AAD+/wAA/P8AAP///f////j/+f/4//r/+f/5//f/9f8AAPn/+/8AAPj//f/8//3/AAAGAAMA//8CAPr/AAAAAAgADQALAAYA5P/e/wMAKwBjAFAAoP/J//D/tP9kADkAAQAHANP/BAD//x4AGgABAAEA9v8HABYACQAMAA8ABQAIAAcAAAD//xMAEwAVAAYA//8AAPb/AgAFAAEAAQD//wAAAgADAAgA+f/7/wAABwAQAAEADAD+//r/BwAAAP7/AwAIAAkADwACAP7/+//9/w0ABQAHAAAA7f/7////+f/+/+n/5P/u/+z/AwD1//T/7f/o//j/8v8CAPX/9v/8//b/BAD3//r/7//o//n/8/8AAP3/+v/0//X////6/wMA///9//z/+P/2//L/9v/9/wIAAAABAPz//v8EAAAACQAGAP7/AAD//wUAAwAAAAoABQAAAAcABwAGAAkAAwAEAAwAAgAFAAMA/v8EAP7///8CAP//CwAHAAUADQAEAAYAAwAAAP3//f///wQACQALAA4ABQAFAAQAAAAEAPr/+P/8/wAAAAD5//X/9v/7//j//P/+////AwAFAAQABQAGAAIACQABAPz//f/6/wUABwAGAAcA/f/6//f/AAAHAAkACgAGAAcACAAHAAMAAAAIAAAAAwAGAPv/AwD7/wAAAwD+/wMA//////v//P8AAPj//f/6//f/+//3//f/+P/3//j/8//0//f/9/8AAPj/9v/t//H/+P/y//j/9v/6////CQAGAPv/BAABAAEACgD///7/8//3/wIA/v8AAAMA//8AAAgABQAHAAMABQAIAAUAAwD8//z///8CAAQAAAD+//z/+//7////AQAFAAkADAAIAAoAAAAAAAQACAAPAA4ADAADAAUABAAEAAgABQAAAAMAAgACAAUAAgAGAAUABwABAP//AQAAAAIAAwD+//3//f///wMABAACAPz/+v/4//f/+v/7/wAABAABAAQA/v/8/wQABgALAAwABwAEAAMAAgAAAAIAAAD//wAA/v8AAAAABQAGAAIABAD///3//v/9/wAAAAD9/wAA+v/6//z/+f/9//7/+v/8//r/+f/9//r/+//9//v//f/6//L/9f/3//j/+//6//z//P/+//3/+v/6//r/+/8AAAUA/f8CAP///f8CAP//AQABAAkACQAJAAYABgAFAP/////+/wAABAAAAAAA///+//3/AAAHAAUACAAJAAgABQAJAAYABAAHAAMABgACAAIAAAD//wUAAgACAAMAAgAAAP//AwAFAAMABgAFAAAAAAACAAAAAQD+//3/AAD//wEAAAADAAAA/v8BAAEAAwACAAAAAAABAP7////+//7//v/+//v/+f/2//f/+v/7/wAA/P/7//r/+v/+//7////7//n/+f/5//X/9f/3//n//P/6//3//v/9/wAAAQACAAEAAAAAAAAAAwD//wAA/P/7/wAA/P////3///8BAAAAAgAAAAAAAgACAAIABAADAAUABgADAAYABAAAAP///P/8//v/+v/7//7/AAAAAAMAAgABAAUABAAEAAQAAwADAAIABgAFAAUABwAEAAQAAwAEAAQABgAFAAYACAAIAAgABwAEAAMAAgADAAQABAAEAAAAAAAAAP//AAACAAAABAAGAAYABgAKAAwACwAMAAUAAgAAAP7//P/9//v/+f/5//r//P///wAAAQAAAP7/AAD9//v/+//9//z/+//7//r/+P/2//X/9f/0//T/8f/x/+//8P/y//L/9f/z//X/9f/2//X/9v/3//b/+v/5//v//f/+/wAA/////wIAAAACAAIAAAACAAMAAgAAAAMAAQADAP//AQACAAEABAD8//3////9/wIAAgACAAMAAwAAAPr/+v/8/wAAAAACAAIAAQAAAP//BAADAAUACQAIAAkABwAHAAUABAAEAAUACwAKAAoADgAPAA8ACwAIAA0ACwAPAA4ACwAMAAgACQAFAAYABAAEAAUAAgACAAIAAQABAAEAAQAAAAAAAAACAAEAAQAFAAQAAgAAAAIAAAAAAAIAAQACAAUAAgADAAYA//8EAAEAAAABAPv//P/4//X/9v/1//b/9v/1//T/9v/3//n/+f/6//r/9//2//X/9f/5//X/9f/5//f/+f/2//j/9v/1//j/9v/4//X/9P/0//P/8//z//f/+f/8//z/+f/6//z//P/+/wAAAQABAAEAAgAFAAYAAwADAAIAAwAAAP///f/7/wEAAAAAAP7/AAD//wAAAwACAAcAAgAFAAUAAQABAAEAAQADAAcACAAFAAQAAgACAAUABAAEAAYACQAHAAgABgAEAAcABQACAAMABAADAAQABAAFAAUAAwABAAIABAAEAAQABAAAAAIAAAD//wEAAAAAAAAABAAAAAEAAAD//wEAAQADAAUABAAEAAgACQAGAAUAAgABAAAAAAD///v//P/8//r/+//7//v//P/5//z/+//5//v/+f/5//n/+f/5//f/+f/5//T/9v/2//f/9P/0//f/+P/4//b/+v/5//r///8AAAAA/v/+/wAA+f/9//7//f8AAP3//v/+//v//P//////AwAEAAQAAgABAAYAAgD+/wMABAAFAAMAAgAFAAQABAAAAAEAAgAFAAQABAAEAAIABAAGAAUACQAMAAQACAADAAoACgAFAAcABAAFAAUABgAFAAkABgAEAAYAAAD+/wcAAgABAAIA/P/+//3//P/6//3/+v/+//3//v/8//j/AAD7////BAD7//z/+v/4//v/+f/7//z//v/6//3//P///wAA/P/9//j/+v/2//b/+P/6//v/9//4//n/AAACAAAAAAAAAAAAAAAAAAAAAAAAAAAAAAAAAAAAAAAAAAAAAAAAAAAAAAAAAAAAAAAAAAAAAAAAAAAAAAAAAAAAAAAAAAAAAAAAAAAAAAAAAAAAAAAAAAAAAAAAAAAAAAAAAAAAAAAAAAAAAAAAAAAAAAAAAAAAAAAAAAAAAAAAAAAAAAAAAAAAAAAAAAAAAAAAAAAAAAAAAAAAAAAAAAAAAAA=\" type=\"audio/wav\" />\n",
       "                    Your browser does not support the audio element.\n",
       "                </audio>\n",
       "              "
      ],
      "text/plain": [
       "<IPython.lib.display.Audio object>"
      ]
     },
     "execution_count": 16,
     "metadata": {},
     "output_type": "execute_result"
    }
   ],
   "source": [
    "rand_int = random.randint(0, len(common_voice_train)-1)\n",
    "\n",
    "print(\"Target text:\", common_voice_train[rand_int][\"text\"])\n",
    "print(\"Input array shape:\", common_voice_train[rand_int][\"audio\"][\"array\"].shape)\n",
    "print(\"Sampling rate:\", common_voice_train[rand_int][\"audio\"][\"sampling_rate\"])\n",
    "print(\"\\n\")\n",
    "ipd.Audio(data=common_voice_train[rand_int][\"audio\"][\"array\"], autoplay=True, rate=16000)"
   ]
  },
  {
   "cell_type": "markdown",
   "id": "881bb68a-7c9b-4e4d-890e-1727c564aad7",
   "metadata": {},
   "source": [
    "## Tokenizer"
   ]
  },
  {
   "cell_type": "markdown",
   "id": "abeb7b2a-d3f8-4d41-861b-5e5d85cd6958",
   "metadata": {},
   "source": [
    "### Building vocabulary"
   ]
  },
  {
   "cell_type": "markdown",
   "id": "218e6af1-216a-448d-88c5-67333468ac18",
   "metadata": {},
   "source": [
    "In Wav2Vec2 ASR models, the vocabulary is typically composed of characters or subword units, not whole words.\n",
    "\n",
    "A user recommends characters' vocabulary:\n",
    "[Wav2Vec2ForCTC fine-tuning best practices](https://github.com/huggingface/transformers/issues/15196)\n",
    "\n",
    "We use a mapping function to build the vocabulary from the training data."
   ]
  },
  {
   "cell_type": "code",
   "execution_count": 17,
   "id": "a89c14a2-5dc3-444e-b4e7-510156241d6e",
   "metadata": {},
   "outputs": [],
   "source": [
    "def extract_all_chars(batch):\n",
    "    all_text = \" \".join(batch[\"text\"])\n",
    "    vocab = list(set(all_text))\n",
    "    return {\"vocab\": [vocab]}"
   ]
  },
  {
   "cell_type": "code",
   "execution_count": 18,
   "id": "ea07c0e4-9a69-4f7a-b270-7746fcce1e0e",
   "metadata": {},
   "outputs": [
    {
     "name": "stderr",
     "output_type": "stream",
     "text": [
      "Map: 100%|██████████████████████████████████████████████████████████████████████████████████████████████████████████████████████████████████████████████████| 133647/133647 [00:00<00:00, 278868.12 examples/s]\n"
     ]
    }
   ],
   "source": [
    "vocab_train = common_voice_train.map(extract_all_chars, batched=True, batch_size=-1, keep_in_memory=True, remove_columns=common_voice_train.column_names)"
   ]
  },
  {
   "cell_type": "markdown",
   "id": "a6cc7159-b998-47b4-b209-9d9c993b8e49",
   "metadata": {},
   "source": [
    "The order of the alphabet is fixed to ensure that the input ids from the cached dataset (see later steps) can match with the vocabulary even with re-run."
   ]
  },
  {
   "cell_type": "code",
   "execution_count": 19,
   "id": "929c8459-facc-4e2a-a56f-316add916fd4",
   "metadata": {},
   "outputs": [
    {
     "data": {
      "text/plain": [
       "[' ',\n",
       " \"'\",\n",
       " 'A',\n",
       " 'B',\n",
       " 'C',\n",
       " 'D',\n",
       " 'E',\n",
       " 'F',\n",
       " 'G',\n",
       " 'H',\n",
       " 'I',\n",
       " 'J',\n",
       " 'K',\n",
       " 'L',\n",
       " 'M',\n",
       " 'N',\n",
       " 'O',\n",
       " 'P',\n",
       " 'Q',\n",
       " 'R',\n",
       " 'S',\n",
       " 'T',\n",
       " 'U',\n",
       " 'V',\n",
       " 'W',\n",
       " 'X',\n",
       " 'Y',\n",
       " 'Z']"
      ]
     },
     "execution_count": 19,
     "metadata": {},
     "output_type": "execute_result"
    }
   ],
   "source": [
    "vocab_list = list(set(vocab_train[\"vocab\"][0]))\n",
    "vocab_list.sort()\n",
    "vocab_list"
   ]
  },
  {
   "cell_type": "code",
   "execution_count": 20,
   "id": "bd91307c-c1db-4e57-ae37-7f95edfd3015",
   "metadata": {},
   "outputs": [
    {
     "data": {
      "text/plain": [
       "{' ': 0,\n",
       " \"'\": 1,\n",
       " 'A': 2,\n",
       " 'B': 3,\n",
       " 'C': 4,\n",
       " 'D': 5,\n",
       " 'E': 6,\n",
       " 'F': 7,\n",
       " 'G': 8,\n",
       " 'H': 9,\n",
       " 'I': 10,\n",
       " 'J': 11,\n",
       " 'K': 12,\n",
       " 'L': 13,\n",
       " 'M': 14,\n",
       " 'N': 15,\n",
       " 'O': 16,\n",
       " 'P': 17,\n",
       " 'Q': 18,\n",
       " 'R': 19,\n",
       " 'S': 20,\n",
       " 'T': 21,\n",
       " 'U': 22,\n",
       " 'V': 23,\n",
       " 'W': 24,\n",
       " 'X': 25,\n",
       " 'Y': 26,\n",
       " 'Z': 27}"
      ]
     },
     "execution_count": 20,
     "metadata": {},
     "output_type": "execute_result"
    }
   ],
   "source": [
    "vocab_dict = {v: k for k, v in enumerate(vocab_list)}\n",
    "vocab_dict"
   ]
  },
  {
   "cell_type": "markdown",
   "id": "a275cb39-1789-4e62-bd3c-9396ff7cbdf6",
   "metadata": {},
   "source": [
    "To avoid ambiguity for \" \" token class, we give it a more visible character \"|\"."
   ]
  },
  {
   "cell_type": "code",
   "execution_count": 21,
   "id": "9e9f87f9-f0ed-49b2-a2af-63c059aeae0b",
   "metadata": {},
   "outputs": [],
   "source": [
    "vocab_dict[\"|\"] = vocab_dict[\" \"]\n",
    "del vocab_dict[\" \"]"
   ]
  },
  {
   "cell_type": "markdown",
   "id": "6ddeb689-9d5c-4545-805b-94312949c22c",
   "metadata": {},
   "source": [
    "Finally, add unknown and padding tokens as well."
   ]
  },
  {
   "cell_type": "code",
   "execution_count": 22,
   "id": "62cdd7e2-9333-41fd-98f3-21386f39811c",
   "metadata": {},
   "outputs": [
    {
     "data": {
      "text/plain": [
       "{\"'\": 1,\n",
       " 'A': 2,\n",
       " 'B': 3,\n",
       " 'C': 4,\n",
       " 'D': 5,\n",
       " 'E': 6,\n",
       " 'F': 7,\n",
       " 'G': 8,\n",
       " 'H': 9,\n",
       " 'I': 10,\n",
       " 'J': 11,\n",
       " 'K': 12,\n",
       " 'L': 13,\n",
       " 'M': 14,\n",
       " 'N': 15,\n",
       " 'O': 16,\n",
       " 'P': 17,\n",
       " 'Q': 18,\n",
       " 'R': 19,\n",
       " 'S': 20,\n",
       " 'T': 21,\n",
       " 'U': 22,\n",
       " 'V': 23,\n",
       " 'W': 24,\n",
       " 'X': 25,\n",
       " 'Y': 26,\n",
       " 'Z': 27,\n",
       " '|': 0,\n",
       " '[UNK]': 28,\n",
       " '[PAD]': 29}"
      ]
     },
     "execution_count": 22,
     "metadata": {},
     "output_type": "execute_result"
    }
   ],
   "source": [
    "vocab_dict[\"[UNK]\"] = len(vocab_dict)\n",
    "vocab_dict[\"[PAD]\"] = len(vocab_dict)\n",
    "vocab_dict"
   ]
  },
  {
   "cell_type": "markdown",
   "id": "8aa55f15-7efa-4ad5-ae3b-afa946eb23f1",
   "metadata": {},
   "source": [
    "Save the vocabulary file so that it can be used by the ```Wav2Vec2CTCTokenizer```."
   ]
  },
  {
   "cell_type": "code",
   "execution_count": 23,
   "id": "a5263caf-9a8d-473e-ac03-89e253b0cf70",
   "metadata": {},
   "outputs": [],
   "source": [
    "with open('vocab.json', 'w') as vocab_file:\n",
    "    json.dump(vocab_dict, vocab_file)"
   ]
  },
  {
   "cell_type": "markdown",
   "id": "979d7c8a-a00c-4968-81ee-f3e76361964f",
   "metadata": {},
   "source": [
    "### Instantiate the tokenizer"
   ]
  },
  {
   "cell_type": "markdown",
   "id": "c01b4f1d-a1ca-4f32-9587-30200551714d",
   "metadata": {},
   "source": [
    "```Wav2Vec2CTCTokenizer``` is used because:\n",
    "- The Wav2Vec2 model we are using is trained with Connectionist Temporal Classification (CTC) loss.\n",
    "- Our vocabulary is character-based, which is required by CTC.\n",
    "- It is compatible with ```Wav2Vec2Processor```."
   ]
  },
  {
   "cell_type": "code",
   "execution_count": 24,
   "id": "b7aaf43a-80f7-4c6a-b187-2071364398e3",
   "metadata": {},
   "outputs": [],
   "source": [
    "tokenizer = Wav2Vec2CTCTokenizer(\"./vocab.json\", unk_token=\"[UNK]\", pad_token=\"[PAD]\", word_delimiter_token=\"|\")"
   ]
  },
  {
   "cell_type": "markdown",
   "id": "0d0339f6-a90e-47f1-91d2-7f7426217136",
   "metadata": {},
   "source": [
    "## Feature Extraction"
   ]
  },
  {
   "cell_type": "markdown",
   "id": "e605b536-d0c0-422c-a42b-a34fb07af30d",
   "metadata": {},
   "source": [
    "Before we can create the ```Wav2Vec2Processor``` object, we need a ```Wav2Vec2FeatureExtractor``` beside the ```Wav2Vec2CTCTokenizer```.\n",
    "\n",
    "The following parameters for the ```Wav2Vec2FeatureExtractor``` is used:\n",
    "- **feature_size**: Set to 1 as Wav2Vec2 model is trained on single-channel waveforms\n",
    "- **sampling_rate**: Set to 16000 Hz to match the input data sampling rate requirement\n",
    "- **padding_value**: Set to 0.0, conventional\n",
    "- **do_normalize**: Set to *true* as it helps with model stability and consistency\n",
    "- **return_attention_mask**: Set to *true* as Wav2Vec2 generally make use of the attention mask"
   ]
  },
  {
   "cell_type": "markdown",
   "id": "23f58a14-36ba-42aa-9aaf-8261a7af7ee8",
   "metadata": {},
   "source": [
    "### Instantiate the feature extractor"
   ]
  },
  {
   "cell_type": "code",
   "execution_count": 25,
   "id": "f7a02a81-2316-4475-8f0c-5cdae4f1b9bb",
   "metadata": {},
   "outputs": [],
   "source": [
    "feature_extractor = Wav2Vec2FeatureExtractor(feature_size=1, sampling_rate=16000, padding_value=0.0, do_normalize=True, return_attention_mask=True)"
   ]
  },
  {
   "cell_type": "markdown",
   "id": "00be894d-b9c9-4358-b85e-0c1ca065463d",
   "metadata": {},
   "source": [
    "## Wav2Vec2 Processor"
   ]
  },
  {
   "cell_type": "markdown",
   "id": "27ffd66f-4637-42f9-8e8c-28469e582484",
   "metadata": {},
   "source": [
    "### Instantiate the processor"
   ]
  },
  {
   "cell_type": "code",
   "execution_count": 26,
   "id": "faed8aaf-3540-4dab-b0d5-51e22bbccfa3",
   "metadata": {},
   "outputs": [],
   "source": [
    "processor = Wav2Vec2Processor(feature_extractor=feature_extractor, tokenizer=tokenizer)"
   ]
  },
  {
   "cell_type": "markdown",
   "id": "8ac8db14-98fb-45a5-8448-787cc7cc9f17",
   "metadata": {},
   "source": [
    "## Data Preparation"
   ]
  },
  {
   "cell_type": "markdown",
   "id": "6d3e677d-6041-450d-a296-d152a4f62707",
   "metadata": {},
   "source": [
    "### Split dataset"
   ]
  },
  {
   "cell_type": "markdown",
   "id": "37a56a45-fe84-4909-8faa-07670e4d62b9",
   "metadata": {},
   "source": [
    "We have to split the 'cv-valid-train' dataset further down into 70-30 ratio, where 30% is kept for validation."
   ]
  },
  {
   "cell_type": "code",
   "execution_count": 27,
   "id": "b9371b90-a213-43fb-a03d-ce6adbd7dcb7",
   "metadata": {},
   "outputs": [],
   "source": [
    "split = common_voice_train.train_test_split(test_size=0.3, seed=42)\n",
    "\n",
    "common_voice_train_train = split['train']\n",
    "common_voice_train_validation = split['test']"
   ]
  },
  {
   "cell_type": "markdown",
   "id": "8fb48f4d-fd93-44a4-8f3c-a473dbbff49e",
   "metadata": {},
   "source": [
    "Inspect the ```training_dataset```"
   ]
  },
  {
   "cell_type": "code",
   "execution_count": 28,
   "id": "44d1ecea-e8dc-4eeb-b0fd-0fa60c160e09",
   "metadata": {},
   "outputs": [
    {
     "data": {
      "text/plain": [
       "Dataset({\n",
       "    features: ['filename', 'text', 'audio'],\n",
       "    num_rows: 93552\n",
       "})"
      ]
     },
     "execution_count": 28,
     "metadata": {},
     "output_type": "execute_result"
    }
   ],
   "source": [
    "common_voice_train_train"
   ]
  },
  {
   "cell_type": "markdown",
   "id": "faf755a4-2f37-43dd-b373-02e6f5aa1333",
   "metadata": {},
   "source": [
    "Inspect the ```validation_dataset```"
   ]
  },
  {
   "cell_type": "code",
   "execution_count": 29,
   "id": "c11b77df-1485-4ea6-a408-9c7bc1c54c64",
   "metadata": {},
   "outputs": [
    {
     "data": {
      "text/plain": [
       "Dataset({\n",
       "    features: ['filename', 'text', 'audio'],\n",
       "    num_rows: 40095\n",
       "})"
      ]
     },
     "execution_count": 29,
     "metadata": {},
     "output_type": "execute_result"
    }
   ],
   "source": [
    "common_voice_train_validation"
   ]
  },
  {
   "cell_type": "markdown",
   "id": "f06cdbde-b203-42b4-ba4c-9693ccac6661",
   "metadata": {},
   "source": [
    "### Map data to be used by processor"
   ]
  },
  {
   "cell_type": "markdown",
   "id": "42f169a9-61b3-4cfd-9dcb-493f1f33be23",
   "metadata": {},
   "source": [
    "Inside the ```prepare_dataset``` function, more complex feature extraction methods can be added inside."
   ]
  },
  {
   "cell_type": "code",
   "execution_count": 30,
   "id": "28de6d7e-ec16-4a13-8cb9-0d7d7d7f49b7",
   "metadata": {},
   "outputs": [],
   "source": [
    "def prepare_dataset(batch):\n",
    "    audio = batch[\"audio\"]\n",
    "\n",
    "    batch[\"input_values\"] = processor(audio[\"array\"], sampling_rate=audio[\"sampling_rate\"]).input_values[0]\n",
    "    \n",
    "    with processor.as_target_processor():\n",
    "        batch[\"labels\"] = processor(batch[\"text\"]).input_ids\n",
    "        \n",
    "    return batch"
   ]
  },
  {
   "cell_type": "code",
   "execution_count": 31,
   "id": "8b926245-ed76-43c4-bd72-6622fb0129b5",
   "metadata": {},
   "outputs": [],
   "source": [
    "training_dataset_cache_dir = \"./caches/training\"\n",
    "validation_dataset_cache_dir = \"./caches/validation\""
   ]
  },
  {
   "cell_type": "markdown",
   "id": "f772e3d7-1411-4c7c-a4d5-a11ad483c33d",
   "metadata": {},
   "source": [
    "Apply the ```prepare_dataset``` to training and validation dataset. The mapped output will be saved under the *./caches* directory. This helps to save a lot of time and memory when the notebook is re-run again. This will take a bit of time and a lot of memory...\n",
    "\n",
    "Uncomment the cells below to prepare the data again."
   ]
  },
  {
   "cell_type": "code",
   "execution_count": 32,
   "id": "d723f345-32b6-4473-9c3d-7eb34fb7b7c0",
   "metadata": {},
   "outputs": [
    {
     "name": "stderr",
     "output_type": "stream",
     "text": [
      "Map:   0%|                                                                                                                                                                    | 0/93552 [00:00<?, ? examples/s]/Users/gordon.oh/Desktop/htx-xdata-asr/venv/lib/python3.13/site-packages/transformers/models/wav2vec2/processing_wav2vec2.py:174: UserWarning: `as_target_processor` is deprecated and will be removed in v5 of Transformers. You can process your labels by using the argument `text` of the regular `__call__` method (either in the same call as your audio inputs, or in a separate call.\n",
      "  warnings.warn(\n",
      "Map: 100%|███████████████████████████████████████████████████████████████████████████████████████████████████████████████████████████████████████████████████████| 93552/93552 [07:57<00:00, 195.89 examples/s]\n"
     ]
    }
   ],
   "source": [
    "training_dataset = common_voice_train_train.map(prepare_dataset, remove_columns=common_voice_train_train.column_names, batched=False)"
   ]
  },
  {
   "cell_type": "code",
   "execution_count": 33,
   "id": "532931f5-d51e-420c-832f-f8f834ce6a8a",
   "metadata": {},
   "outputs": [
    {
     "name": "stderr",
     "output_type": "stream",
     "text": [
      "Saving the dataset (42/42 shards): 100%|█████████████████████████████████████████████████████████████████████████████████████████████████████████████████████████| 93552/93552 [03:20<00:00, 466.07 examples/s]\n"
     ]
    }
   ],
   "source": [
    "os.makedirs(training_dataset_cache_dir, exist_ok=True)\n",
    "training_dataset.save_to_disk(training_dataset_cache_dir)"
   ]
  },
  {
   "cell_type": "code",
   "execution_count": 34,
   "id": "b33327c5-8784-4fdb-974f-211b678685b0",
   "metadata": {},
   "outputs": [
    {
     "name": "stderr",
     "output_type": "stream",
     "text": [
      "Map: 100%|███████████████████████████████████████████████████████████████████████████████████████████████████████████████████████████████████████████████████████| 40095/40095 [03:56<00:00, 169.53 examples/s]\n"
     ]
    }
   ],
   "source": [
    "validation_dataset = common_voice_train_validation.map(prepare_dataset, remove_columns=common_voice_train_validation.column_names, batched=False)"
   ]
  },
  {
   "cell_type": "code",
   "execution_count": 35,
   "id": "e3416101-40ab-4016-b364-c2a9dd70dd67",
   "metadata": {},
   "outputs": [
    {
     "name": "stderr",
     "output_type": "stream",
     "text": [
      "Saving the dataset (18/18 shards): 100%|█████████████████████████████████████████████████████████████████████████████████████████████████████████████████████████| 40095/40095 [01:20<00:00, 498.14 examples/s]\n"
     ]
    }
   ],
   "source": [
    "os.makedirs(validation_dataset_cache_dir, exist_ok=True)\n",
    "validation_dataset.save_to_disk(validation_dataset_cache_dir)"
   ]
  },
  {
   "cell_type": "markdown",
   "id": "96e11d59-7e99-4c8c-8c8f-f03cabb803e3",
   "metadata": {},
   "source": [
    "### Load cached dataset"
   ]
  },
  {
   "cell_type": "markdown",
   "id": "893f04d4-1e93-447d-ae1b-6921a4b00a6c",
   "metadata": {},
   "source": [
    "If ```training_dataset``` and ```validation_dataset``` are saved in the previous steps, we can skip the data mapping and go directly to load the dataset."
   ]
  },
  {
   "cell_type": "code",
   "execution_count": 36,
   "id": "996d76e2-f0f7-4961-be8d-fc35513a1206",
   "metadata": {},
   "outputs": [],
   "source": [
    "training_dataset = load_from_disk(training_dataset_cache_dir)\n",
    "validation_dataset = load_from_disk(validation_dataset_cache_dir)"
   ]
  },
  {
   "cell_type": "markdown",
   "id": "09ae6d05-b8b6-4799-85bb-53e4b34d9557",
   "metadata": {},
   "source": [
    "Sanity check"
   ]
  },
  {
   "cell_type": "code",
   "execution_count": 37,
   "id": "b6cacac4-03b5-4431-ab05-4f12934f5d52",
   "metadata": {},
   "outputs": [
    {
     "data": {
      "text/plain": [
       "Dataset({\n",
       "    features: ['input_values', 'labels'],\n",
       "    num_rows: 93552\n",
       "})"
      ]
     },
     "execution_count": 37,
     "metadata": {},
     "output_type": "execute_result"
    }
   ],
   "source": [
    "training_dataset"
   ]
  },
  {
   "cell_type": "code",
   "execution_count": 38,
   "id": "a33a154f-0a0b-4810-8c93-f46b85bfec93",
   "metadata": {},
   "outputs": [
    {
     "data": {
      "text/plain": [
       "Dataset({\n",
       "    features: ['input_values', 'labels'],\n",
       "    num_rows: 40095\n",
       "})"
      ]
     },
     "execution_count": 38,
     "metadata": {},
     "output_type": "execute_result"
    }
   ],
   "source": [
    "validation_dataset"
   ]
  },
  {
   "cell_type": "markdown",
   "id": "57d90169-e56c-4e8c-8e71-abed2ae48db5",
   "metadata": {},
   "source": [
    "## Training"
   ]
  },
  {
   "cell_type": "markdown",
   "id": "98638fb3-60f7-45ce-a290-22bb8ef5aa19",
   "metadata": {},
   "source": [
    "### Instantiate a data collator"
   ]
  },
  {
   "cell_type": "markdown",
   "id": "693d9338-eb78-45ce-89b9-8085cb529310",
   "metadata": {},
   "source": [
    "This is taken from [transformers/.../wav2vec2/run_asr.py](https://github.com/huggingface/transformers/blob/9a06b6b11bdfc42eea08fa91d0c737d1863c99e3/examples/research_projects/wav2vec2/run_asr.py#L81)."
   ]
  },
  {
   "cell_type": "code",
   "execution_count": 39,
   "id": "5ac0d26a-4dda-491c-a676-d196d0846668",
   "metadata": {},
   "outputs": [],
   "source": [
    "@dataclass\n",
    "class DataCollatorCTCWithPadding:\n",
    "    \"\"\"\n",
    "    Data collator that will dynamically pad the inputs received.\n",
    "    Args:\n",
    "        processor (:class:`~transformers.Wav2Vec2Processor`)\n",
    "            The processor used for proccessing the data.\n",
    "        padding (:obj:`bool`, :obj:`str` or :class:`~transformers.tokenization_utils_base.PaddingStrategy`, `optional`, defaults to :obj:`True`):\n",
    "            Select a strategy to pad the returned sequences (according to the model's padding side and padding index)\n",
    "            among:\n",
    "            * :obj:`True` or :obj:`'longest'`: Pad to the longest sequence in the batch (or no padding if only a single\n",
    "              sequence if provided).\n",
    "            * :obj:`'max_length'`: Pad to a maximum length specified with the argument :obj:`max_length` or to the\n",
    "              maximum acceptable input length for the model if that argument is not provided.\n",
    "            * :obj:`False` or :obj:`'do_not_pad'` (default): No padding (i.e., can output a batch with sequences of\n",
    "              different lengths).\n",
    "        max_length (:obj:`int`, `optional`):\n",
    "            Maximum length of the ``input_values`` of the returned list and optionally padding length (see above).\n",
    "        max_length_labels (:obj:`int`, `optional`):\n",
    "            Maximum length of the ``labels`` returned list and optionally padding length (see above).\n",
    "        pad_to_multiple_of (:obj:`int`, `optional`):\n",
    "            If set will pad the sequence to a multiple of the provided value.\n",
    "            This is especially useful to enable the use of Tensor Cores on NVIDIA hardware with compute capability >=\n",
    "            7.5 (Volta).\n",
    "    \"\"\"\n",
    "\n",
    "    processor: Wav2Vec2Processor\n",
    "    padding: Union[bool, str] = True\n",
    "    max_length: Optional[int] = None\n",
    "    max_length_labels: Optional[int] = None\n",
    "    pad_to_multiple_of: Optional[int] = None\n",
    "    pad_to_multiple_of_labels: Optional[int] = None\n",
    "\n",
    "    def __call__(self, features: List[Dict[str, Union[List[int], torch.Tensor]]]) -> Dict[str, torch.Tensor]:\n",
    "        # split inputs and labels since they have to be of different lenghts and need\n",
    "        # different padding methods\n",
    "        input_features = [{\"input_values\": feature[\"input_values\"]} for feature in features]\n",
    "        label_features = [{\"input_ids\": feature[\"labels\"]} for feature in features]\n",
    "\n",
    "        batch = self.processor.pad(\n",
    "            input_features,\n",
    "            padding=self.padding,\n",
    "            max_length=self.max_length,\n",
    "            pad_to_multiple_of=self.pad_to_multiple_of,\n",
    "            return_tensors=\"pt\",\n",
    "        )\n",
    "        with self.processor.as_target_processor():\n",
    "            labels_batch = self.processor.pad(\n",
    "                label_features,\n",
    "                padding=self.padding,\n",
    "                max_length=self.max_length_labels,\n",
    "                pad_to_multiple_of=self.pad_to_multiple_of_labels,\n",
    "                return_tensors=\"pt\",\n",
    "            )\n",
    "\n",
    "        # replace padding with -100 to ignore loss correctly\n",
    "        labels = labels_batch[\"input_ids\"].masked_fill(labels_batch.attention_mask.ne(1), -100)\n",
    "\n",
    "        batch[\"labels\"] = labels\n",
    "\n",
    "        return batch"
   ]
  },
  {
   "cell_type": "code",
   "execution_count": 40,
   "id": "4b770504-1be4-495e-84a5-6255f0ab86e3",
   "metadata": {},
   "outputs": [],
   "source": [
    "data_collator = DataCollatorCTCWithPadding(processor=processor, padding=True)"
   ]
  },
  {
   "cell_type": "markdown",
   "id": "09f91f2c-acfb-45be-8258-2c64f452511e",
   "metadata": {},
   "source": [
    "### Define evaluation metrics"
   ]
  },
  {
   "cell_type": "markdown",
   "id": "704caa89-0a20-4ab0-9321-cd65b8cd173b",
   "metadata": {},
   "source": [
    "The predominant metric in ASR is the word error rate (WER). Character error rate (CER) is often reported as a secondary metric to show finer error details. We will show these two metrics."
   ]
  },
  {
   "cell_type": "code",
   "execution_count": 41,
   "id": "db1d72a0-9cb2-454c-b675-3a98373c8991",
   "metadata": {},
   "outputs": [],
   "source": [
    "def compute_metrics(pred):\n",
    "    pred_logits = pred.predictions\n",
    "    pred_ids = np.argmax(pred_logits, axis=-1)\n",
    "\n",
    "    pred.label_ids[pred.label_ids == -100] = processor.tokenizer.pad_token_id\n",
    "\n",
    "    pred_str = processor.batch_decode(pred_ids)\n",
    "    label_str = processor.batch_decode(pred.label_ids, group_tokens=False)\n",
    "\n",
    "    wer_score = wer(label_str, pred_str)\n",
    "    cer_score = cer(label_str, pred_str)\n",
    "\n",
    "    return {\"wer\": wer_score, \"cer\": cer_score}"
   ]
  },
  {
   "cell_type": "markdown",
   "id": "3e172450-dc6e-4a09-9afd-7d5730052806",
   "metadata": {},
   "source": [
    "### Load pretrained Wav2Vec2 model"
   ]
  },
  {
   "cell_type": "markdown",
   "id": "377dc97b-3a6c-4a41-850b-0d3f9eb62b3c",
   "metadata": {},
   "source": [
    "The \"facebook/wav2vec2-large-960h\"'s Wav2Vec2 model is selected to be finetuned with the Common Voice dataset. This pretrained model will be compared with the finetuned model later.\n",
    "\n",
    "Rationale for the hyperparameter settings:\n",
    "- Set *ctc_loss_reduction=\"mean\"* to average the CTC loss over the batch. This normalization helps stabilize training by preventing loss values from becoming disproportionately large on longer sequences or batches, ensuring consistent gradient scales during optimization.\n",
    "- Keep to default hyperparameter values as the checkpoint \"facebook/wav2vec2-large-960h\" already includes carefully tuned values optimized for robust training on large English speech datasets.\n",
    "- Since we are training on CPU, the training speed is slower, and we cannot afford to run extensive hyperparameter tuning experiments.\n",
    "- Keeping these hyperparameters at their defaults reduces complexity, training time, and the risk of destabilizing the model during finetuning."
   ]
  },
  {
   "cell_type": "code",
   "execution_count": 42,
   "id": "9ef8c291-de3d-475c-b876-b33613414a15",
   "metadata": {},
   "outputs": [
    {
     "name": "stderr",
     "output_type": "stream",
     "text": [
      "Some weights of Wav2Vec2ForCTC were not initialized from the model checkpoint at facebook/wav2vec2-large-960h and are newly initialized: ['wav2vec2.masked_spec_embed']\n",
      "You should probably TRAIN this model on a down-stream task to be able to use it for predictions and inference.\n"
     ]
    }
   ],
   "source": [
    "model = Wav2Vec2ForCTC.from_pretrained(\n",
    "    \"facebook/wav2vec2-large-960h\", \n",
    "    ctc_loss_reduction=\"mean\", \n",
    "    pad_token_id=processor.tokenizer.pad_token_id,\n",
    "    vocab_size=len(processor.tokenizer)\n",
    ")"
   ]
  },
  {
   "cell_type": "markdown",
   "id": "381e7376-737c-41df-b5cf-6456889ea9ac",
   "metadata": {},
   "source": [
    "### Freezing pretrained weights"
   ]
  },
  {
   "cell_type": "markdown",
   "id": "d83cefb0-2a1b-4012-8a17-c8d75cc7fa0f",
   "metadata": {},
   "source": [
    "Rationale for Freezing the Feature Extractor:\n",
    "- The feature extractor has been pretrained on large speech data to learn robust low-level audio representations, which are generally transferable across datasets.\n",
    "- Freezing it reduces the number of trainable parameters, which lowers the computational cost and speeds up training. This is important since we are using a CPU."
   ]
  },
  {
   "cell_type": "code",
   "execution_count": 43,
   "id": "b1417d03-aae7-4e95-b71c-d22d6755288b",
   "metadata": {},
   "outputs": [
    {
     "name": "stderr",
     "output_type": "stream",
     "text": [
      "/Users/gordon.oh/Desktop/htx-xdata-asr/venv/lib/python3.13/site-packages/transformers/models/wav2vec2/modeling_wav2vec2.py:2084: FutureWarning: The method `freeze_feature_extractor` is deprecated and will be removed in Transformers v5. Please use the equivalent `freeze_feature_encoder` method instead.\n",
      "  warnings.warn(\n"
     ]
    }
   ],
   "source": [
    "model.freeze_feature_extractor()"
   ]
  },
  {
   "cell_type": "markdown",
   "id": "26628aa2-615a-4768-b384-3a9a55e34130",
   "metadata": {},
   "source": [
    "### Defining training arguments"
   ]
  },
  {
   "cell_type": "markdown",
   "id": "61eb3a0c-8769-43cb-8755-ba98acbadce9",
   "metadata": {},
   "source": [
    "Rationale for TrainingArguments settings:\n",
    "- Due to limited computational resources (using a CPU with limited memory), we set the batch size to 1 to avoid out-of-memory errors. To compensate for the small batch size and maintain effective batch gradient updates, we use a higher gradient accumulation step to simulate a larger batch size during training.\n",
    "- For learning rate, weight decay, and warmup steps, we can follow [Fine-Tune Wav2Vec2 for English ASR with 🤗 Transformers](https://huggingface.co/blog/fine-tune-wav2vec2-english), which fine-tunes the base Wav2Vec2 model using another English dataset. These values are based on prior successful experiments documented there. Due to limited resources and time constraints, we will not perform an extensive hyperparameter search, and we should opt to start with these experimentally validated settings.\n",
    "- *gradient_checkpointing=True* helps reduce memory usage during training."
   ]
  },
  {
   "cell_type": "code",
   "execution_count": 54,
   "id": "a4490a77-b67b-4081-8e63-93acddea1e4e",
   "metadata": {},
   "outputs": [],
   "source": [
    "training_args = TrainingArguments(\n",
    "    output_dir='./checkpoints',\n",
    "    group_by_length=True,\n",
    "    use_cpu=True,\n",
    "    per_device_train_batch_size=1,\n",
    "    gradient_accumulation_steps=16,\n",
    "    eval_strategy=\"steps\",\n",
    "    dataloader_num_workers=0,\n",
    "    num_train_epochs=1,\n",
    "    gradient_checkpointing=True,\n",
    "    save_steps=100,\n",
    "    eval_steps=100,\n",
    "    logging_steps=100,\n",
    "    learning_rate=1e-4,\n",
    "    weight_decay=0.005,\n",
    "    warmup_steps=1000,\n",
    "    save_total_limit=2,\n",
    "    push_to_hub=False,\n",
    ")"
   ]
  },
  {
   "cell_type": "code",
   "execution_count": 45,
   "id": "8b9a69a8-2a5c-4d2b-ac64-c8868f983745",
   "metadata": {},
   "outputs": [],
   "source": [
    "small_train_dataset = training_dataset.select(range(4))\n",
    "small_validation_dataset = validation_dataset.select(range(4))"
   ]
  },
  {
   "cell_type": "code",
   "execution_count": 46,
   "id": "c338373d-1cb1-4621-b996-b54ddc4ffbd6",
   "metadata": {},
   "outputs": [
    {
     "data": {
      "text/plain": [
       "Wav2Vec2ForCTC(\n",
       "  (wav2vec2): Wav2Vec2Model(\n",
       "    (feature_extractor): Wav2Vec2FeatureEncoder(\n",
       "      (conv_layers): ModuleList(\n",
       "        (0): Wav2Vec2GroupNormConvLayer(\n",
       "          (conv): Conv1d(1, 512, kernel_size=(10,), stride=(5,), bias=False)\n",
       "          (activation): GELUActivation()\n",
       "          (layer_norm): GroupNorm(512, 512, eps=1e-05, affine=True)\n",
       "        )\n",
       "        (1-4): 4 x Wav2Vec2NoLayerNormConvLayer(\n",
       "          (conv): Conv1d(512, 512, kernel_size=(3,), stride=(2,), bias=False)\n",
       "          (activation): GELUActivation()\n",
       "        )\n",
       "        (5-6): 2 x Wav2Vec2NoLayerNormConvLayer(\n",
       "          (conv): Conv1d(512, 512, kernel_size=(2,), stride=(2,), bias=False)\n",
       "          (activation): GELUActivation()\n",
       "        )\n",
       "      )\n",
       "    )\n",
       "    (feature_projection): Wav2Vec2FeatureProjection(\n",
       "      (layer_norm): LayerNorm((512,), eps=1e-05, elementwise_affine=True)\n",
       "      (projection): Linear(in_features=512, out_features=1024, bias=True)\n",
       "      (dropout): Dropout(p=0.0, inplace=False)\n",
       "    )\n",
       "    (encoder): Wav2Vec2Encoder(\n",
       "      (pos_conv_embed): Wav2Vec2PositionalConvEmbedding(\n",
       "        (conv): ParametrizedConv1d(\n",
       "          1024, 1024, kernel_size=(128,), stride=(1,), padding=(64,), groups=16\n",
       "          (parametrizations): ModuleDict(\n",
       "            (weight): ParametrizationList(\n",
       "              (0): _WeightNorm()\n",
       "            )\n",
       "          )\n",
       "        )\n",
       "        (padding): Wav2Vec2SamePadLayer()\n",
       "        (activation): GELUActivation()\n",
       "      )\n",
       "      (layer_norm): LayerNorm((1024,), eps=1e-05, elementwise_affine=True)\n",
       "      (dropout): Dropout(p=0.1, inplace=False)\n",
       "      (layers): ModuleList(\n",
       "        (0-23): 24 x Wav2Vec2EncoderLayer(\n",
       "          (attention): Wav2Vec2SdpaAttention(\n",
       "            (k_proj): Linear(in_features=1024, out_features=1024, bias=True)\n",
       "            (v_proj): Linear(in_features=1024, out_features=1024, bias=True)\n",
       "            (q_proj): Linear(in_features=1024, out_features=1024, bias=True)\n",
       "            (out_proj): Linear(in_features=1024, out_features=1024, bias=True)\n",
       "          )\n",
       "          (dropout): Dropout(p=0.1, inplace=False)\n",
       "          (layer_norm): LayerNorm((1024,), eps=1e-05, elementwise_affine=True)\n",
       "          (feed_forward): Wav2Vec2FeedForward(\n",
       "            (intermediate_dropout): Dropout(p=0.1, inplace=False)\n",
       "            (intermediate_dense): Linear(in_features=1024, out_features=4096, bias=True)\n",
       "            (intermediate_act_fn): GELUActivation()\n",
       "            (output_dense): Linear(in_features=4096, out_features=1024, bias=True)\n",
       "            (output_dropout): Dropout(p=0.1, inplace=False)\n",
       "          )\n",
       "          (final_layer_norm): LayerNorm((1024,), eps=1e-05, elementwise_affine=True)\n",
       "        )\n",
       "      )\n",
       "    )\n",
       "  )\n",
       "  (dropout): Dropout(p=0.1, inplace=False)\n",
       "  (lm_head): Linear(in_features=1024, out_features=32, bias=True)\n",
       ")"
      ]
     },
     "execution_count": 46,
     "metadata": {},
     "output_type": "execute_result"
    }
   ],
   "source": [
    "device = torch.device(\"cpu\")\n",
    "model.to(device)"
   ]
  },
  {
   "cell_type": "code",
   "execution_count": 56,
   "id": "f27232f6-68d2-48bc-be7c-ffae0e9c6114",
   "metadata": {},
   "outputs": [],
   "source": [
    "trainer = Trainer(\n",
    "    model=model,\n",
    "    data_collator=data_collator,\n",
    "    args=training_args,\n",
    "    compute_metrics=compute_metrics,\n",
    "    train_dataset=training_dataset,\n",
    "    eval_dataset=validation_dataset,\n",
    "    processing_class=processor,\n",
    ")"
   ]
  },
  {
   "cell_type": "code",
   "execution_count": 57,
   "id": "85419893-f805-4321-87c0-06f76b7aa2b0",
   "metadata": {},
   "outputs": [
    {
     "name": "stderr",
     "output_type": "stream",
     "text": [
      "/Users/gordon.oh/Desktop/htx-xdata-asr/venv/lib/python3.13/site-packages/transformers/models/wav2vec2/processing_wav2vec2.py:174: UserWarning: `as_target_processor` is deprecated and will be removed in v5 of Transformers. You can process your labels by using the argument `text` of the regular `__call__` method (either in the same call as your audio inputs, or in a separate call.\n",
      "  warnings.warn(\n"
     ]
    },
    {
     "data": {
      "text/html": [
       "\n",
       "    <div>\n",
       "      \n",
       "      <progress value='190' max='5847' style='width:300px; height:20px; vertical-align: middle;'></progress>\n",
       "      [ 190/5847 4:23:34 < 132:11:13, 0.01 it/s, Epoch 0.03/1]\n",
       "    </div>\n",
       "    <table border=\"1\" class=\"dataframe\">\n",
       "  <thead>\n",
       " <tr style=\"text-align: left;\">\n",
       "      <th>Step</th>\n",
       "      <th>Training Loss</th>\n",
       "      <th>Validation Loss</th>\n",
       "      <th>Wer</th>\n",
       "      <th>Cer</th>\n",
       "    </tr>\n",
       "  </thead>\n",
       "  <tbody>\n",
       "    <tr>\n",
       "      <td>100</td>\n",
       "      <td>0.000000</td>\n",
       "      <td>nan</td>\n",
       "      <td>1.000000</td>\n",
       "      <td>1.000000</td>\n",
       "    </tr>\n",
       "  </tbody>\n",
       "</table><p>"
      ],
      "text/plain": [
       "<IPython.core.display.HTML object>"
      ]
     },
     "metadata": {},
     "output_type": "display_data"
    },
    {
     "name": "stderr",
     "output_type": "stream",
     "text": [
      "/Users/gordon.oh/Desktop/htx-xdata-asr/venv/lib/python3.13/site-packages/transformers/models/wav2vec2/processing_wav2vec2.py:174: UserWarning: `as_target_processor` is deprecated and will be removed in v5 of Transformers. You can process your labels by using the argument `text` of the regular `__call__` method (either in the same call as your audio inputs, or in a separate call.\n",
      "  warnings.warn(\n"
     ]
    },
    {
     "ename": "KeyboardInterrupt",
     "evalue": "",
     "output_type": "error",
     "traceback": [
      "\u001b[31m---------------------------------------------------------------------------\u001b[39m",
      "\u001b[31mKeyboardInterrupt\u001b[39m                         Traceback (most recent call last)",
      "\u001b[36mCell\u001b[39m\u001b[36m \u001b[39m\u001b[32mIn[57]\u001b[39m\u001b[32m, line 1\u001b[39m\n\u001b[32m----> \u001b[39m\u001b[32m1\u001b[39m \u001b[43mtrainer\u001b[49m\u001b[43m.\u001b[49m\u001b[43mtrain\u001b[49m\u001b[43m(\u001b[49m\u001b[43m)\u001b[49m\n",
      "\u001b[36mFile \u001b[39m\u001b[32m~/Desktop/htx-xdata-asr/venv/lib/python3.13/site-packages/transformers/trainer.py:2240\u001b[39m, in \u001b[36mTrainer.train\u001b[39m\u001b[34m(self, resume_from_checkpoint, trial, ignore_keys_for_eval, **kwargs)\u001b[39m\n\u001b[32m   2238\u001b[39m         hf_hub_utils.enable_progress_bars()\n\u001b[32m   2239\u001b[39m \u001b[38;5;28;01melse\u001b[39;00m:\n\u001b[32m-> \u001b[39m\u001b[32m2240\u001b[39m     \u001b[38;5;28;01mreturn\u001b[39;00m \u001b[43minner_training_loop\u001b[49m\u001b[43m(\u001b[49m\n\u001b[32m   2241\u001b[39m \u001b[43m        \u001b[49m\u001b[43margs\u001b[49m\u001b[43m=\u001b[49m\u001b[43margs\u001b[49m\u001b[43m,\u001b[49m\n\u001b[32m   2242\u001b[39m \u001b[43m        \u001b[49m\u001b[43mresume_from_checkpoint\u001b[49m\u001b[43m=\u001b[49m\u001b[43mresume_from_checkpoint\u001b[49m\u001b[43m,\u001b[49m\n\u001b[32m   2243\u001b[39m \u001b[43m        \u001b[49m\u001b[43mtrial\u001b[49m\u001b[43m=\u001b[49m\u001b[43mtrial\u001b[49m\u001b[43m,\u001b[49m\n\u001b[32m   2244\u001b[39m \u001b[43m        \u001b[49m\u001b[43mignore_keys_for_eval\u001b[49m\u001b[43m=\u001b[49m\u001b[43mignore_keys_for_eval\u001b[49m\u001b[43m,\u001b[49m\n\u001b[32m   2245\u001b[39m \u001b[43m    \u001b[49m\u001b[43m)\u001b[49m\n",
      "\u001b[36mFile \u001b[39m\u001b[32m~/Desktop/htx-xdata-asr/venv/lib/python3.13/site-packages/transformers/trainer.py:2555\u001b[39m, in \u001b[36mTrainer._inner_training_loop\u001b[39m\u001b[34m(self, batch_size, args, resume_from_checkpoint, trial, ignore_keys_for_eval)\u001b[39m\n\u001b[32m   2548\u001b[39m context = (\n\u001b[32m   2549\u001b[39m     functools.partial(\u001b[38;5;28mself\u001b[39m.accelerator.no_sync, model=model)\n\u001b[32m   2550\u001b[39m     \u001b[38;5;28;01mif\u001b[39;00m i != \u001b[38;5;28mlen\u001b[39m(batch_samples) - \u001b[32m1\u001b[39m\n\u001b[32m   2551\u001b[39m     \u001b[38;5;129;01mand\u001b[39;00m \u001b[38;5;28mself\u001b[39m.accelerator.distributed_type != DistributedType.DEEPSPEED\n\u001b[32m   2552\u001b[39m     \u001b[38;5;28;01melse\u001b[39;00m contextlib.nullcontext\n\u001b[32m   2553\u001b[39m )\n\u001b[32m   2554\u001b[39m \u001b[38;5;28;01mwith\u001b[39;00m context():\n\u001b[32m-> \u001b[39m\u001b[32m2555\u001b[39m     tr_loss_step = \u001b[38;5;28;43mself\u001b[39;49m\u001b[43m.\u001b[49m\u001b[43mtraining_step\u001b[49m\u001b[43m(\u001b[49m\u001b[43mmodel\u001b[49m\u001b[43m,\u001b[49m\u001b[43m \u001b[49m\u001b[43minputs\u001b[49m\u001b[43m,\u001b[49m\u001b[43m \u001b[49m\u001b[43mnum_items_in_batch\u001b[49m\u001b[43m)\u001b[49m\n\u001b[32m   2557\u001b[39m \u001b[38;5;28;01mif\u001b[39;00m (\n\u001b[32m   2558\u001b[39m     args.logging_nan_inf_filter\n\u001b[32m   2559\u001b[39m     \u001b[38;5;129;01mand\u001b[39;00m \u001b[38;5;129;01mnot\u001b[39;00m is_torch_xla_available()\n\u001b[32m   2560\u001b[39m     \u001b[38;5;129;01mand\u001b[39;00m (torch.isnan(tr_loss_step) \u001b[38;5;129;01mor\u001b[39;00m torch.isinf(tr_loss_step))\n\u001b[32m   2561\u001b[39m ):\n\u001b[32m   2562\u001b[39m     \u001b[38;5;66;03m# if loss is nan or inf simply add the average of previous logged losses\u001b[39;00m\n\u001b[32m   2563\u001b[39m     tr_loss = tr_loss + tr_loss / (\u001b[32m1\u001b[39m + \u001b[38;5;28mself\u001b[39m.state.global_step - \u001b[38;5;28mself\u001b[39m._globalstep_last_logged)\n",
      "\u001b[36mFile \u001b[39m\u001b[32m~/Desktop/htx-xdata-asr/venv/lib/python3.13/site-packages/transformers/trainer.py:3791\u001b[39m, in \u001b[36mTrainer.training_step\u001b[39m\u001b[34m(***failed resolving arguments***)\u001b[39m\n\u001b[32m   3788\u001b[39m \u001b[38;5;28;01mif\u001b[39;00m \u001b[38;5;28mself\u001b[39m.accelerator.distributed_type == DistributedType.DEEPSPEED:\n\u001b[32m   3789\u001b[39m     kwargs[\u001b[33m\"\u001b[39m\u001b[33mscale_wrt_gas\u001b[39m\u001b[33m\"\u001b[39m] = \u001b[38;5;28;01mFalse\u001b[39;00m\n\u001b[32m-> \u001b[39m\u001b[32m3791\u001b[39m \u001b[38;5;28;43mself\u001b[39;49m\u001b[43m.\u001b[49m\u001b[43maccelerator\u001b[49m\u001b[43m.\u001b[49m\u001b[43mbackward\u001b[49m\u001b[43m(\u001b[49m\u001b[43mloss\u001b[49m\u001b[43m,\u001b[49m\u001b[43m \u001b[49m\u001b[43m*\u001b[49m\u001b[43m*\u001b[49m\u001b[43mkwargs\u001b[49m\u001b[43m)\u001b[49m\n\u001b[32m   3793\u001b[39m \u001b[38;5;28;01mreturn\u001b[39;00m loss.detach()\n",
      "\u001b[36mFile \u001b[39m\u001b[32m~/Desktop/htx-xdata-asr/venv/lib/python3.13/site-packages/accelerate/accelerator.py:2473\u001b[39m, in \u001b[36mAccelerator.backward\u001b[39m\u001b[34m(self, loss, **kwargs)\u001b[39m\n\u001b[32m   2471\u001b[39m     \u001b[38;5;28mself\u001b[39m.lomo_backward(loss, learning_rate)\n\u001b[32m   2472\u001b[39m \u001b[38;5;28;01melse\u001b[39;00m:\n\u001b[32m-> \u001b[39m\u001b[32m2473\u001b[39m     \u001b[43mloss\u001b[49m\u001b[43m.\u001b[49m\u001b[43mbackward\u001b[49m\u001b[43m(\u001b[49m\u001b[43m*\u001b[49m\u001b[43m*\u001b[49m\u001b[43mkwargs\u001b[49m\u001b[43m)\u001b[49m\n",
      "\u001b[36mFile \u001b[39m\u001b[32m~/Desktop/htx-xdata-asr/venv/lib/python3.13/site-packages/torch/_tensor.py:648\u001b[39m, in \u001b[36mTensor.backward\u001b[39m\u001b[34m(self, gradient, retain_graph, create_graph, inputs)\u001b[39m\n\u001b[32m    638\u001b[39m \u001b[38;5;28;01mif\u001b[39;00m has_torch_function_unary(\u001b[38;5;28mself\u001b[39m):\n\u001b[32m    639\u001b[39m     \u001b[38;5;28;01mreturn\u001b[39;00m handle_torch_function(\n\u001b[32m    640\u001b[39m         Tensor.backward,\n\u001b[32m    641\u001b[39m         (\u001b[38;5;28mself\u001b[39m,),\n\u001b[32m   (...)\u001b[39m\u001b[32m    646\u001b[39m         inputs=inputs,\n\u001b[32m    647\u001b[39m     )\n\u001b[32m--> \u001b[39m\u001b[32m648\u001b[39m \u001b[43mtorch\u001b[49m\u001b[43m.\u001b[49m\u001b[43mautograd\u001b[49m\u001b[43m.\u001b[49m\u001b[43mbackward\u001b[49m\u001b[43m(\u001b[49m\n\u001b[32m    649\u001b[39m \u001b[43m    \u001b[49m\u001b[38;5;28;43mself\u001b[39;49m\u001b[43m,\u001b[49m\u001b[43m \u001b[49m\u001b[43mgradient\u001b[49m\u001b[43m,\u001b[49m\u001b[43m \u001b[49m\u001b[43mretain_graph\u001b[49m\u001b[43m,\u001b[49m\u001b[43m \u001b[49m\u001b[43mcreate_graph\u001b[49m\u001b[43m,\u001b[49m\u001b[43m \u001b[49m\u001b[43minputs\u001b[49m\u001b[43m=\u001b[49m\u001b[43minputs\u001b[49m\n\u001b[32m    650\u001b[39m \u001b[43m\u001b[49m\u001b[43m)\u001b[49m\n",
      "\u001b[36mFile \u001b[39m\u001b[32m~/Desktop/htx-xdata-asr/venv/lib/python3.13/site-packages/torch/autograd/__init__.py:353\u001b[39m, in \u001b[36mbackward\u001b[39m\u001b[34m(tensors, grad_tensors, retain_graph, create_graph, grad_variables, inputs)\u001b[39m\n\u001b[32m    348\u001b[39m     retain_graph = create_graph\n\u001b[32m    350\u001b[39m \u001b[38;5;66;03m# The reason we repeat the same comment below is that\u001b[39;00m\n\u001b[32m    351\u001b[39m \u001b[38;5;66;03m# some Python versions print out the first line of a multi-line function\u001b[39;00m\n\u001b[32m    352\u001b[39m \u001b[38;5;66;03m# calls in the traceback and some print out the last line\u001b[39;00m\n\u001b[32m--> \u001b[39m\u001b[32m353\u001b[39m \u001b[43m_engine_run_backward\u001b[49m\u001b[43m(\u001b[49m\n\u001b[32m    354\u001b[39m \u001b[43m    \u001b[49m\u001b[43mtensors\u001b[49m\u001b[43m,\u001b[49m\n\u001b[32m    355\u001b[39m \u001b[43m    \u001b[49m\u001b[43mgrad_tensors_\u001b[49m\u001b[43m,\u001b[49m\n\u001b[32m    356\u001b[39m \u001b[43m    \u001b[49m\u001b[43mretain_graph\u001b[49m\u001b[43m,\u001b[49m\n\u001b[32m    357\u001b[39m \u001b[43m    \u001b[49m\u001b[43mcreate_graph\u001b[49m\u001b[43m,\u001b[49m\n\u001b[32m    358\u001b[39m \u001b[43m    \u001b[49m\u001b[43minputs\u001b[49m\u001b[43m,\u001b[49m\n\u001b[32m    359\u001b[39m \u001b[43m    \u001b[49m\u001b[43mallow_unreachable\u001b[49m\u001b[43m=\u001b[49m\u001b[38;5;28;43;01mTrue\u001b[39;49;00m\u001b[43m,\u001b[49m\n\u001b[32m    360\u001b[39m \u001b[43m    \u001b[49m\u001b[43maccumulate_grad\u001b[49m\u001b[43m=\u001b[49m\u001b[38;5;28;43;01mTrue\u001b[39;49;00m\u001b[43m,\u001b[49m\n\u001b[32m    361\u001b[39m \u001b[43m\u001b[49m\u001b[43m)\u001b[49m\n",
      "\u001b[36mFile \u001b[39m\u001b[32m~/Desktop/htx-xdata-asr/venv/lib/python3.13/site-packages/torch/autograd/graph.py:824\u001b[39m, in \u001b[36m_engine_run_backward\u001b[39m\u001b[34m(t_outputs, *args, **kwargs)\u001b[39m\n\u001b[32m    822\u001b[39m     unregister_hooks = _register_logging_hooks_on_whole_graph(t_outputs)\n\u001b[32m    823\u001b[39m \u001b[38;5;28;01mtry\u001b[39;00m:\n\u001b[32m--> \u001b[39m\u001b[32m824\u001b[39m     \u001b[38;5;28;01mreturn\u001b[39;00m \u001b[43mVariable\u001b[49m\u001b[43m.\u001b[49m\u001b[43m_execution_engine\u001b[49m\u001b[43m.\u001b[49m\u001b[43mrun_backward\u001b[49m\u001b[43m(\u001b[49m\u001b[43m  \u001b[49m\u001b[38;5;66;43;03m# Calls into the C++ engine to run the backward pass\u001b[39;49;00m\n\u001b[32m    825\u001b[39m \u001b[43m        \u001b[49m\u001b[43mt_outputs\u001b[49m\u001b[43m,\u001b[49m\u001b[43m \u001b[49m\u001b[43m*\u001b[49m\u001b[43margs\u001b[49m\u001b[43m,\u001b[49m\u001b[43m \u001b[49m\u001b[43m*\u001b[49m\u001b[43m*\u001b[49m\u001b[43mkwargs\u001b[49m\n\u001b[32m    826\u001b[39m \u001b[43m    \u001b[49m\u001b[43m)\u001b[49m  \u001b[38;5;66;03m# Calls into the C++ engine to run the backward pass\u001b[39;00m\n\u001b[32m    827\u001b[39m \u001b[38;5;28;01mfinally\u001b[39;00m:\n\u001b[32m    828\u001b[39m     \u001b[38;5;28;01mif\u001b[39;00m attach_logging_hooks:\n",
      "\u001b[36mFile \u001b[39m\u001b[32m~/Desktop/htx-xdata-asr/venv/lib/python3.13/site-packages/torch/autograd/function.py:307\u001b[39m, in \u001b[36mBackwardCFunction.apply\u001b[39m\u001b[34m(self, *args)\u001b[39m\n\u001b[32m    301\u001b[39m     \u001b[38;5;28;01mraise\u001b[39;00m \u001b[38;5;167;01mRuntimeError\u001b[39;00m(\n\u001b[32m    302\u001b[39m         \u001b[33m\"\u001b[39m\u001b[33mImplementing both \u001b[39m\u001b[33m'\u001b[39m\u001b[33mbackward\u001b[39m\u001b[33m'\u001b[39m\u001b[33m and \u001b[39m\u001b[33m'\u001b[39m\u001b[33mvjp\u001b[39m\u001b[33m'\u001b[39m\u001b[33m for a custom \u001b[39m\u001b[33m\"\u001b[39m\n\u001b[32m    303\u001b[39m         \u001b[33m\"\u001b[39m\u001b[33mFunction is not allowed. You should only implement one \u001b[39m\u001b[33m\"\u001b[39m\n\u001b[32m    304\u001b[39m         \u001b[33m\"\u001b[39m\u001b[33mof them.\u001b[39m\u001b[33m\"\u001b[39m\n\u001b[32m    305\u001b[39m     )\n\u001b[32m    306\u001b[39m user_fn = vjp_fn \u001b[38;5;28;01mif\u001b[39;00m vjp_fn \u001b[38;5;129;01mis\u001b[39;00m \u001b[38;5;129;01mnot\u001b[39;00m Function.vjp \u001b[38;5;28;01melse\u001b[39;00m backward_fn\n\u001b[32m--> \u001b[39m\u001b[32m307\u001b[39m \u001b[38;5;28;01mreturn\u001b[39;00m \u001b[43muser_fn\u001b[49m\u001b[43m(\u001b[49m\u001b[38;5;28;43mself\u001b[39;49m\u001b[43m,\u001b[49m\u001b[43m \u001b[49m\u001b[43m*\u001b[49m\u001b[43margs\u001b[49m\u001b[43m)\u001b[49m\n",
      "\u001b[36mFile \u001b[39m\u001b[32m~/Desktop/htx-xdata-asr/venv/lib/python3.13/site-packages/torch/utils/checkpoint.py:320\u001b[39m, in \u001b[36mCheckpointFunction.backward\u001b[39m\u001b[34m(ctx, *args)\u001b[39m\n\u001b[32m    315\u001b[39m \u001b[38;5;28;01mif\u001b[39;00m \u001b[38;5;28mlen\u001b[39m(outputs_with_grad) == \u001b[32m0\u001b[39m:\n\u001b[32m    316\u001b[39m     \u001b[38;5;28;01mraise\u001b[39;00m \u001b[38;5;167;01mRuntimeError\u001b[39;00m(\n\u001b[32m    317\u001b[39m         \u001b[33m\"\u001b[39m\u001b[33mnone of output has requires_grad=True,\u001b[39m\u001b[33m\"\u001b[39m\n\u001b[32m    318\u001b[39m         \u001b[33m\"\u001b[39m\u001b[33m this checkpoint() is not necessary\u001b[39m\u001b[33m\"\u001b[39m\n\u001b[32m    319\u001b[39m     )\n\u001b[32m--> \u001b[39m\u001b[32m320\u001b[39m \u001b[43mtorch\u001b[49m\u001b[43m.\u001b[49m\u001b[43mautograd\u001b[49m\u001b[43m.\u001b[49m\u001b[43mbackward\u001b[49m\u001b[43m(\u001b[49m\u001b[43moutputs_with_grad\u001b[49m\u001b[43m,\u001b[49m\u001b[43m \u001b[49m\u001b[43margs_with_grad\u001b[49m\u001b[43m)\u001b[49m\n\u001b[32m    321\u001b[39m grads = \u001b[38;5;28mtuple\u001b[39m(\n\u001b[32m    322\u001b[39m     inp.grad \u001b[38;5;28;01mif\u001b[39;00m \u001b[38;5;28misinstance\u001b[39m(inp, torch.Tensor) \u001b[38;5;28;01melse\u001b[39;00m \u001b[38;5;28;01mNone\u001b[39;00m\n\u001b[32m    323\u001b[39m     \u001b[38;5;28;01mfor\u001b[39;00m inp \u001b[38;5;129;01min\u001b[39;00m detached_inputs\n\u001b[32m    324\u001b[39m )\n\u001b[32m    326\u001b[39m \u001b[38;5;28;01mreturn\u001b[39;00m (\u001b[38;5;28;01mNone\u001b[39;00m, \u001b[38;5;28;01mNone\u001b[39;00m) + grads\n",
      "\u001b[36mFile \u001b[39m\u001b[32m~/Desktop/htx-xdata-asr/venv/lib/python3.13/site-packages/torch/autograd/__init__.py:353\u001b[39m, in \u001b[36mbackward\u001b[39m\u001b[34m(tensors, grad_tensors, retain_graph, create_graph, grad_variables, inputs)\u001b[39m\n\u001b[32m    348\u001b[39m     retain_graph = create_graph\n\u001b[32m    350\u001b[39m \u001b[38;5;66;03m# The reason we repeat the same comment below is that\u001b[39;00m\n\u001b[32m    351\u001b[39m \u001b[38;5;66;03m# some Python versions print out the first line of a multi-line function\u001b[39;00m\n\u001b[32m    352\u001b[39m \u001b[38;5;66;03m# calls in the traceback and some print out the last line\u001b[39;00m\n\u001b[32m--> \u001b[39m\u001b[32m353\u001b[39m \u001b[43m_engine_run_backward\u001b[49m\u001b[43m(\u001b[49m\n\u001b[32m    354\u001b[39m \u001b[43m    \u001b[49m\u001b[43mtensors\u001b[49m\u001b[43m,\u001b[49m\n\u001b[32m    355\u001b[39m \u001b[43m    \u001b[49m\u001b[43mgrad_tensors_\u001b[49m\u001b[43m,\u001b[49m\n\u001b[32m    356\u001b[39m \u001b[43m    \u001b[49m\u001b[43mretain_graph\u001b[49m\u001b[43m,\u001b[49m\n\u001b[32m    357\u001b[39m \u001b[43m    \u001b[49m\u001b[43mcreate_graph\u001b[49m\u001b[43m,\u001b[49m\n\u001b[32m    358\u001b[39m \u001b[43m    \u001b[49m\u001b[43minputs\u001b[49m\u001b[43m,\u001b[49m\n\u001b[32m    359\u001b[39m \u001b[43m    \u001b[49m\u001b[43mallow_unreachable\u001b[49m\u001b[43m=\u001b[49m\u001b[38;5;28;43;01mTrue\u001b[39;49;00m\u001b[43m,\u001b[49m\n\u001b[32m    360\u001b[39m \u001b[43m    \u001b[49m\u001b[43maccumulate_grad\u001b[49m\u001b[43m=\u001b[49m\u001b[38;5;28;43;01mTrue\u001b[39;49;00m\u001b[43m,\u001b[49m\n\u001b[32m    361\u001b[39m \u001b[43m\u001b[49m\u001b[43m)\u001b[49m\n",
      "\u001b[36mFile \u001b[39m\u001b[32m~/Desktop/htx-xdata-asr/venv/lib/python3.13/site-packages/torch/autograd/graph.py:824\u001b[39m, in \u001b[36m_engine_run_backward\u001b[39m\u001b[34m(t_outputs, *args, **kwargs)\u001b[39m\n\u001b[32m    822\u001b[39m     unregister_hooks = _register_logging_hooks_on_whole_graph(t_outputs)\n\u001b[32m    823\u001b[39m \u001b[38;5;28;01mtry\u001b[39;00m:\n\u001b[32m--> \u001b[39m\u001b[32m824\u001b[39m     \u001b[38;5;28;01mreturn\u001b[39;00m \u001b[43mVariable\u001b[49m\u001b[43m.\u001b[49m\u001b[43m_execution_engine\u001b[49m\u001b[43m.\u001b[49m\u001b[43mrun_backward\u001b[49m\u001b[43m(\u001b[49m\u001b[43m  \u001b[49m\u001b[38;5;66;43;03m# Calls into the C++ engine to run the backward pass\u001b[39;49;00m\n\u001b[32m    825\u001b[39m \u001b[43m        \u001b[49m\u001b[43mt_outputs\u001b[49m\u001b[43m,\u001b[49m\u001b[43m \u001b[49m\u001b[43m*\u001b[49m\u001b[43margs\u001b[49m\u001b[43m,\u001b[49m\u001b[43m \u001b[49m\u001b[43m*\u001b[49m\u001b[43m*\u001b[49m\u001b[43mkwargs\u001b[49m\n\u001b[32m    826\u001b[39m \u001b[43m    \u001b[49m\u001b[43m)\u001b[49m  \u001b[38;5;66;03m# Calls into the C++ engine to run the backward pass\u001b[39;00m\n\u001b[32m    827\u001b[39m \u001b[38;5;28;01mfinally\u001b[39;00m:\n\u001b[32m    828\u001b[39m     \u001b[38;5;28;01mif\u001b[39;00m attach_logging_hooks:\n",
      "\u001b[31mKeyboardInterrupt\u001b[39m: "
     ]
    }
   ],
   "source": [
    "trainer.train()"
   ]
  },
  {
   "cell_type": "markdown",
   "id": "abd723a7-1240-4c96-8dc7-386619f7471e",
   "metadata": {},
   "source": [
    "## Inference"
   ]
  },
  {
   "cell_type": "markdown",
   "id": "22d24fa8-7f81-4a51-89c7-70abe20e2bbe",
   "metadata": {},
   "source": [
    "### Load finetuned model"
   ]
  },
  {
   "cell_type": "code",
   "execution_count": 51,
   "id": "491e365f-0f5e-4522-9511-5040cef799f8",
   "metadata": {},
   "outputs": [],
   "source": [
    "model = Wav2Vec2ForCTC.from_pretrained('./checkpoints/checkpoint-1')\n",
    "processor = Wav2Vec2Processor.from_pretrained('./checkpoints/checkpoint-1')"
   ]
  },
  {
   "cell_type": "markdown",
   "id": "1d6d1b58-d507-4410-9346-6ad728f44c72",
   "metadata": {},
   "source": [
    "### Perform an inference"
   ]
  },
  {
   "cell_type": "code",
   "execution_count": 50,
   "id": "5f94c634-63b4-4890-b87d-71488523b3d4",
   "metadata": {},
   "outputs": [
    {
     "name": "stderr",
     "output_type": "stream",
     "text": [
      "/Users/gordon.oh/Desktop/htx-xdata-asr/venv/lib/python3.13/site-packages/transformers/models/wav2vec2/processing_wav2vec2.py:61: FutureWarning: Loading a tokenizer inside Wav2Vec2Processor from a config that does not include a `tokenizer_class` attribute is deprecated and will be removed in v5. Please add `'tokenizer_class': 'Wav2Vec2CTCTokenizer'` attribute to either your `config.json` or `tokenizer_config.json` file to suppress this warning: \n",
      "  warnings.warn(\n"
     ]
    },
    {
     "ename": "ConnectionError",
     "evalue": "HTTPSConnectionPool(host='huggingface.co', port=443): Max retries exceeded with url: /api/models/facebook/wav2vec2-large-960h/tree/main/additional_chat_templates?recursive=False&expand=False (Caused by NameResolutionError(\"<urllib3.connection.HTTPSConnection object at 0x3157b9a90>: Failed to resolve 'huggingface.co' ([Errno 8] nodename nor servname provided, or not known)\"))",
     "output_type": "error",
     "traceback": [
      "\u001b[31m---------------------------------------------------------------------------\u001b[39m",
      "\u001b[31mgaierror\u001b[39m                                  Traceback (most recent call last)",
      "\u001b[36mFile \u001b[39m\u001b[32m~/Desktop/htx-xdata-asr/venv/lib/python3.13/site-packages/urllib3/connection.py:198\u001b[39m, in \u001b[36mHTTPConnection._new_conn\u001b[39m\u001b[34m(self)\u001b[39m\n\u001b[32m    197\u001b[39m \u001b[38;5;28;01mtry\u001b[39;00m:\n\u001b[32m--> \u001b[39m\u001b[32m198\u001b[39m     sock = \u001b[43mconnection\u001b[49m\u001b[43m.\u001b[49m\u001b[43mcreate_connection\u001b[49m\u001b[43m(\u001b[49m\n\u001b[32m    199\u001b[39m \u001b[43m        \u001b[49m\u001b[43m(\u001b[49m\u001b[38;5;28;43mself\u001b[39;49m\u001b[43m.\u001b[49m\u001b[43m_dns_host\u001b[49m\u001b[43m,\u001b[49m\u001b[43m \u001b[49m\u001b[38;5;28;43mself\u001b[39;49m\u001b[43m.\u001b[49m\u001b[43mport\u001b[49m\u001b[43m)\u001b[49m\u001b[43m,\u001b[49m\n\u001b[32m    200\u001b[39m \u001b[43m        \u001b[49m\u001b[38;5;28;43mself\u001b[39;49m\u001b[43m.\u001b[49m\u001b[43mtimeout\u001b[49m\u001b[43m,\u001b[49m\n\u001b[32m    201\u001b[39m \u001b[43m        \u001b[49m\u001b[43msource_address\u001b[49m\u001b[43m=\u001b[49m\u001b[38;5;28;43mself\u001b[39;49m\u001b[43m.\u001b[49m\u001b[43msource_address\u001b[49m\u001b[43m,\u001b[49m\n\u001b[32m    202\u001b[39m \u001b[43m        \u001b[49m\u001b[43msocket_options\u001b[49m\u001b[43m=\u001b[49m\u001b[38;5;28;43mself\u001b[39;49m\u001b[43m.\u001b[49m\u001b[43msocket_options\u001b[49m\u001b[43m,\u001b[49m\n\u001b[32m    203\u001b[39m \u001b[43m    \u001b[49m\u001b[43m)\u001b[49m\n\u001b[32m    204\u001b[39m \u001b[38;5;28;01mexcept\u001b[39;00m socket.gaierror \u001b[38;5;28;01mas\u001b[39;00m e:\n",
      "\u001b[36mFile \u001b[39m\u001b[32m~/Desktop/htx-xdata-asr/venv/lib/python3.13/site-packages/urllib3/util/connection.py:60\u001b[39m, in \u001b[36mcreate_connection\u001b[39m\u001b[34m(address, timeout, source_address, socket_options)\u001b[39m\n\u001b[32m     58\u001b[39m     \u001b[38;5;28;01mraise\u001b[39;00m LocationParseError(\u001b[33mf\u001b[39m\u001b[33m\"\u001b[39m\u001b[33m'\u001b[39m\u001b[38;5;132;01m{\u001b[39;00mhost\u001b[38;5;132;01m}\u001b[39;00m\u001b[33m'\u001b[39m\u001b[33m, label empty or too long\u001b[39m\u001b[33m\"\u001b[39m) \u001b[38;5;28;01mfrom\u001b[39;00m\u001b[38;5;250m \u001b[39m\u001b[38;5;28;01mNone\u001b[39;00m\n\u001b[32m---> \u001b[39m\u001b[32m60\u001b[39m \u001b[38;5;28;01mfor\u001b[39;00m res \u001b[38;5;129;01min\u001b[39;00m \u001b[43msocket\u001b[49m\u001b[43m.\u001b[49m\u001b[43mgetaddrinfo\u001b[49m\u001b[43m(\u001b[49m\u001b[43mhost\u001b[49m\u001b[43m,\u001b[49m\u001b[43m \u001b[49m\u001b[43mport\u001b[49m\u001b[43m,\u001b[49m\u001b[43m \u001b[49m\u001b[43mfamily\u001b[49m\u001b[43m,\u001b[49m\u001b[43m \u001b[49m\u001b[43msocket\u001b[49m\u001b[43m.\u001b[49m\u001b[43mSOCK_STREAM\u001b[49m\u001b[43m)\u001b[49m:\n\u001b[32m     61\u001b[39m     af, socktype, proto, canonname, sa = res\n",
      "\u001b[36mFile \u001b[39m\u001b[32m/opt/homebrew/Cellar/python@3.13/3.13.3_1/Frameworks/Python.framework/Versions/3.13/lib/python3.13/socket.py:977\u001b[39m, in \u001b[36mgetaddrinfo\u001b[39m\u001b[34m(host, port, family, type, proto, flags)\u001b[39m\n\u001b[32m    976\u001b[39m addrlist = []\n\u001b[32m--> \u001b[39m\u001b[32m977\u001b[39m \u001b[38;5;28;01mfor\u001b[39;00m res \u001b[38;5;129;01min\u001b[39;00m \u001b[43m_socket\u001b[49m\u001b[43m.\u001b[49m\u001b[43mgetaddrinfo\u001b[49m\u001b[43m(\u001b[49m\u001b[43mhost\u001b[49m\u001b[43m,\u001b[49m\u001b[43m \u001b[49m\u001b[43mport\u001b[49m\u001b[43m,\u001b[49m\u001b[43m \u001b[49m\u001b[43mfamily\u001b[49m\u001b[43m,\u001b[49m\u001b[43m \u001b[49m\u001b[38;5;28;43mtype\u001b[39;49m\u001b[43m,\u001b[49m\u001b[43m \u001b[49m\u001b[43mproto\u001b[49m\u001b[43m,\u001b[49m\u001b[43m \u001b[49m\u001b[43mflags\u001b[49m\u001b[43m)\u001b[49m:\n\u001b[32m    978\u001b[39m     af, socktype, proto, canonname, sa = res\n",
      "\u001b[31mgaierror\u001b[39m: [Errno 8] nodename nor servname provided, or not known",
      "\nThe above exception was the direct cause of the following exception:\n",
      "\u001b[31mNameResolutionError\u001b[39m                       Traceback (most recent call last)",
      "\u001b[36mFile \u001b[39m\u001b[32m~/Desktop/htx-xdata-asr/venv/lib/python3.13/site-packages/urllib3/connectionpool.py:787\u001b[39m, in \u001b[36mHTTPConnectionPool.urlopen\u001b[39m\u001b[34m(self, method, url, body, headers, retries, redirect, assert_same_host, timeout, pool_timeout, release_conn, chunked, body_pos, preload_content, decode_content, **response_kw)\u001b[39m\n\u001b[32m    786\u001b[39m \u001b[38;5;66;03m# Make the request on the HTTPConnection object\u001b[39;00m\n\u001b[32m--> \u001b[39m\u001b[32m787\u001b[39m response = \u001b[38;5;28;43mself\u001b[39;49m\u001b[43m.\u001b[49m\u001b[43m_make_request\u001b[49m\u001b[43m(\u001b[49m\n\u001b[32m    788\u001b[39m \u001b[43m    \u001b[49m\u001b[43mconn\u001b[49m\u001b[43m,\u001b[49m\n\u001b[32m    789\u001b[39m \u001b[43m    \u001b[49m\u001b[43mmethod\u001b[49m\u001b[43m,\u001b[49m\n\u001b[32m    790\u001b[39m \u001b[43m    \u001b[49m\u001b[43murl\u001b[49m\u001b[43m,\u001b[49m\n\u001b[32m    791\u001b[39m \u001b[43m    \u001b[49m\u001b[43mtimeout\u001b[49m\u001b[43m=\u001b[49m\u001b[43mtimeout_obj\u001b[49m\u001b[43m,\u001b[49m\n\u001b[32m    792\u001b[39m \u001b[43m    \u001b[49m\u001b[43mbody\u001b[49m\u001b[43m=\u001b[49m\u001b[43mbody\u001b[49m\u001b[43m,\u001b[49m\n\u001b[32m    793\u001b[39m \u001b[43m    \u001b[49m\u001b[43mheaders\u001b[49m\u001b[43m=\u001b[49m\u001b[43mheaders\u001b[49m\u001b[43m,\u001b[49m\n\u001b[32m    794\u001b[39m \u001b[43m    \u001b[49m\u001b[43mchunked\u001b[49m\u001b[43m=\u001b[49m\u001b[43mchunked\u001b[49m\u001b[43m,\u001b[49m\n\u001b[32m    795\u001b[39m \u001b[43m    \u001b[49m\u001b[43mretries\u001b[49m\u001b[43m=\u001b[49m\u001b[43mretries\u001b[49m\u001b[43m,\u001b[49m\n\u001b[32m    796\u001b[39m \u001b[43m    \u001b[49m\u001b[43mresponse_conn\u001b[49m\u001b[43m=\u001b[49m\u001b[43mresponse_conn\u001b[49m\u001b[43m,\u001b[49m\n\u001b[32m    797\u001b[39m \u001b[43m    \u001b[49m\u001b[43mpreload_content\u001b[49m\u001b[43m=\u001b[49m\u001b[43mpreload_content\u001b[49m\u001b[43m,\u001b[49m\n\u001b[32m    798\u001b[39m \u001b[43m    \u001b[49m\u001b[43mdecode_content\u001b[49m\u001b[43m=\u001b[49m\u001b[43mdecode_content\u001b[49m\u001b[43m,\u001b[49m\n\u001b[32m    799\u001b[39m \u001b[43m    \u001b[49m\u001b[43m*\u001b[49m\u001b[43m*\u001b[49m\u001b[43mresponse_kw\u001b[49m\u001b[43m,\u001b[49m\n\u001b[32m    800\u001b[39m \u001b[43m\u001b[49m\u001b[43m)\u001b[49m\n\u001b[32m    802\u001b[39m \u001b[38;5;66;03m# Everything went great!\u001b[39;00m\n",
      "\u001b[36mFile \u001b[39m\u001b[32m~/Desktop/htx-xdata-asr/venv/lib/python3.13/site-packages/urllib3/connectionpool.py:488\u001b[39m, in \u001b[36mHTTPConnectionPool._make_request\u001b[39m\u001b[34m(self, conn, method, url, body, headers, retries, timeout, chunked, response_conn, preload_content, decode_content, enforce_content_length)\u001b[39m\n\u001b[32m    487\u001b[39m         new_e = _wrap_proxy_error(new_e, conn.proxy.scheme)\n\u001b[32m--> \u001b[39m\u001b[32m488\u001b[39m     \u001b[38;5;28;01mraise\u001b[39;00m new_e\n\u001b[32m    490\u001b[39m \u001b[38;5;66;03m# conn.request() calls http.client.*.request, not the method in\u001b[39;00m\n\u001b[32m    491\u001b[39m \u001b[38;5;66;03m# urllib3.request. It also calls makefile (recv) on the socket.\u001b[39;00m\n",
      "\u001b[36mFile \u001b[39m\u001b[32m~/Desktop/htx-xdata-asr/venv/lib/python3.13/site-packages/urllib3/connectionpool.py:464\u001b[39m, in \u001b[36mHTTPConnectionPool._make_request\u001b[39m\u001b[34m(self, conn, method, url, body, headers, retries, timeout, chunked, response_conn, preload_content, decode_content, enforce_content_length)\u001b[39m\n\u001b[32m    463\u001b[39m \u001b[38;5;28;01mtry\u001b[39;00m:\n\u001b[32m--> \u001b[39m\u001b[32m464\u001b[39m     \u001b[38;5;28;43mself\u001b[39;49m\u001b[43m.\u001b[49m\u001b[43m_validate_conn\u001b[49m\u001b[43m(\u001b[49m\u001b[43mconn\u001b[49m\u001b[43m)\u001b[49m\n\u001b[32m    465\u001b[39m \u001b[38;5;28;01mexcept\u001b[39;00m (SocketTimeout, BaseSSLError) \u001b[38;5;28;01mas\u001b[39;00m e:\n",
      "\u001b[36mFile \u001b[39m\u001b[32m~/Desktop/htx-xdata-asr/venv/lib/python3.13/site-packages/urllib3/connectionpool.py:1093\u001b[39m, in \u001b[36mHTTPSConnectionPool._validate_conn\u001b[39m\u001b[34m(self, conn)\u001b[39m\n\u001b[32m   1092\u001b[39m \u001b[38;5;28;01mif\u001b[39;00m conn.is_closed:\n\u001b[32m-> \u001b[39m\u001b[32m1093\u001b[39m     \u001b[43mconn\u001b[49m\u001b[43m.\u001b[49m\u001b[43mconnect\u001b[49m\u001b[43m(\u001b[49m\u001b[43m)\u001b[49m\n\u001b[32m   1095\u001b[39m \u001b[38;5;66;03m# TODO revise this, see https://github.com/urllib3/urllib3/issues/2791\u001b[39;00m\n",
      "\u001b[36mFile \u001b[39m\u001b[32m~/Desktop/htx-xdata-asr/venv/lib/python3.13/site-packages/urllib3/connection.py:704\u001b[39m, in \u001b[36mHTTPSConnection.connect\u001b[39m\u001b[34m(self)\u001b[39m\n\u001b[32m    703\u001b[39m sock: socket.socket | ssl.SSLSocket\n\u001b[32m--> \u001b[39m\u001b[32m704\u001b[39m \u001b[38;5;28mself\u001b[39m.sock = sock = \u001b[38;5;28;43mself\u001b[39;49m\u001b[43m.\u001b[49m\u001b[43m_new_conn\u001b[49m\u001b[43m(\u001b[49m\u001b[43m)\u001b[49m\n\u001b[32m    705\u001b[39m server_hostname: \u001b[38;5;28mstr\u001b[39m = \u001b[38;5;28mself\u001b[39m.host\n",
      "\u001b[36mFile \u001b[39m\u001b[32m~/Desktop/htx-xdata-asr/venv/lib/python3.13/site-packages/urllib3/connection.py:205\u001b[39m, in \u001b[36mHTTPConnection._new_conn\u001b[39m\u001b[34m(self)\u001b[39m\n\u001b[32m    204\u001b[39m \u001b[38;5;28;01mexcept\u001b[39;00m socket.gaierror \u001b[38;5;28;01mas\u001b[39;00m e:\n\u001b[32m--> \u001b[39m\u001b[32m205\u001b[39m     \u001b[38;5;28;01mraise\u001b[39;00m NameResolutionError(\u001b[38;5;28mself\u001b[39m.host, \u001b[38;5;28mself\u001b[39m, e) \u001b[38;5;28;01mfrom\u001b[39;00m\u001b[38;5;250m \u001b[39m\u001b[34;01me\u001b[39;00m\n\u001b[32m    206\u001b[39m \u001b[38;5;28;01mexcept\u001b[39;00m SocketTimeout \u001b[38;5;28;01mas\u001b[39;00m e:\n",
      "\u001b[31mNameResolutionError\u001b[39m: <urllib3.connection.HTTPSConnection object at 0x3157b8b90>: Failed to resolve 'huggingface.co' ([Errno 8] nodename nor servname provided, or not known)",
      "\nThe above exception was the direct cause of the following exception:\n",
      "\u001b[31mMaxRetryError\u001b[39m                             Traceback (most recent call last)",
      "\u001b[36mFile \u001b[39m\u001b[32m~/Desktop/htx-xdata-asr/venv/lib/python3.13/site-packages/requests/adapters.py:667\u001b[39m, in \u001b[36mHTTPAdapter.send\u001b[39m\u001b[34m(self, request, stream, timeout, verify, cert, proxies)\u001b[39m\n\u001b[32m    666\u001b[39m \u001b[38;5;28;01mtry\u001b[39;00m:\n\u001b[32m--> \u001b[39m\u001b[32m667\u001b[39m     resp = \u001b[43mconn\u001b[49m\u001b[43m.\u001b[49m\u001b[43murlopen\u001b[49m\u001b[43m(\u001b[49m\n\u001b[32m    668\u001b[39m \u001b[43m        \u001b[49m\u001b[43mmethod\u001b[49m\u001b[43m=\u001b[49m\u001b[43mrequest\u001b[49m\u001b[43m.\u001b[49m\u001b[43mmethod\u001b[49m\u001b[43m,\u001b[49m\n\u001b[32m    669\u001b[39m \u001b[43m        \u001b[49m\u001b[43murl\u001b[49m\u001b[43m=\u001b[49m\u001b[43murl\u001b[49m\u001b[43m,\u001b[49m\n\u001b[32m    670\u001b[39m \u001b[43m        \u001b[49m\u001b[43mbody\u001b[49m\u001b[43m=\u001b[49m\u001b[43mrequest\u001b[49m\u001b[43m.\u001b[49m\u001b[43mbody\u001b[49m\u001b[43m,\u001b[49m\n\u001b[32m    671\u001b[39m \u001b[43m        \u001b[49m\u001b[43mheaders\u001b[49m\u001b[43m=\u001b[49m\u001b[43mrequest\u001b[49m\u001b[43m.\u001b[49m\u001b[43mheaders\u001b[49m\u001b[43m,\u001b[49m\n\u001b[32m    672\u001b[39m \u001b[43m        \u001b[49m\u001b[43mredirect\u001b[49m\u001b[43m=\u001b[49m\u001b[38;5;28;43;01mFalse\u001b[39;49;00m\u001b[43m,\u001b[49m\n\u001b[32m    673\u001b[39m \u001b[43m        \u001b[49m\u001b[43massert_same_host\u001b[49m\u001b[43m=\u001b[49m\u001b[38;5;28;43;01mFalse\u001b[39;49;00m\u001b[43m,\u001b[49m\n\u001b[32m    674\u001b[39m \u001b[43m        \u001b[49m\u001b[43mpreload_content\u001b[49m\u001b[43m=\u001b[49m\u001b[38;5;28;43;01mFalse\u001b[39;49;00m\u001b[43m,\u001b[49m\n\u001b[32m    675\u001b[39m \u001b[43m        \u001b[49m\u001b[43mdecode_content\u001b[49m\u001b[43m=\u001b[49m\u001b[38;5;28;43;01mFalse\u001b[39;49;00m\u001b[43m,\u001b[49m\n\u001b[32m    676\u001b[39m \u001b[43m        \u001b[49m\u001b[43mretries\u001b[49m\u001b[43m=\u001b[49m\u001b[38;5;28;43mself\u001b[39;49m\u001b[43m.\u001b[49m\u001b[43mmax_retries\u001b[49m\u001b[43m,\u001b[49m\n\u001b[32m    677\u001b[39m \u001b[43m        \u001b[49m\u001b[43mtimeout\u001b[49m\u001b[43m=\u001b[49m\u001b[43mtimeout\u001b[49m\u001b[43m,\u001b[49m\n\u001b[32m    678\u001b[39m \u001b[43m        \u001b[49m\u001b[43mchunked\u001b[49m\u001b[43m=\u001b[49m\u001b[43mchunked\u001b[49m\u001b[43m,\u001b[49m\n\u001b[32m    679\u001b[39m \u001b[43m    \u001b[49m\u001b[43m)\u001b[49m\n\u001b[32m    681\u001b[39m \u001b[38;5;28;01mexcept\u001b[39;00m (ProtocolError, \u001b[38;5;167;01mOSError\u001b[39;00m) \u001b[38;5;28;01mas\u001b[39;00m err:\n",
      "\u001b[36mFile \u001b[39m\u001b[32m~/Desktop/htx-xdata-asr/venv/lib/python3.13/site-packages/urllib3/connectionpool.py:841\u001b[39m, in \u001b[36mHTTPConnectionPool.urlopen\u001b[39m\u001b[34m(self, method, url, body, headers, retries, redirect, assert_same_host, timeout, pool_timeout, release_conn, chunked, body_pos, preload_content, decode_content, **response_kw)\u001b[39m\n\u001b[32m    839\u001b[39m     new_e = ProtocolError(\u001b[33m\"\u001b[39m\u001b[33mConnection aborted.\u001b[39m\u001b[33m\"\u001b[39m, new_e)\n\u001b[32m--> \u001b[39m\u001b[32m841\u001b[39m retries = \u001b[43mretries\u001b[49m\u001b[43m.\u001b[49m\u001b[43mincrement\u001b[49m\u001b[43m(\u001b[49m\n\u001b[32m    842\u001b[39m \u001b[43m    \u001b[49m\u001b[43mmethod\u001b[49m\u001b[43m,\u001b[49m\u001b[43m \u001b[49m\u001b[43murl\u001b[49m\u001b[43m,\u001b[49m\u001b[43m \u001b[49m\u001b[43merror\u001b[49m\u001b[43m=\u001b[49m\u001b[43mnew_e\u001b[49m\u001b[43m,\u001b[49m\u001b[43m \u001b[49m\u001b[43m_pool\u001b[49m\u001b[43m=\u001b[49m\u001b[38;5;28;43mself\u001b[39;49m\u001b[43m,\u001b[49m\u001b[43m \u001b[49m\u001b[43m_stacktrace\u001b[49m\u001b[43m=\u001b[49m\u001b[43msys\u001b[49m\u001b[43m.\u001b[49m\u001b[43mexc_info\u001b[49m\u001b[43m(\u001b[49m\u001b[43m)\u001b[49m\u001b[43m[\u001b[49m\u001b[32;43m2\u001b[39;49m\u001b[43m]\u001b[49m\n\u001b[32m    843\u001b[39m \u001b[43m\u001b[49m\u001b[43m)\u001b[49m\n\u001b[32m    844\u001b[39m retries.sleep()\n",
      "\u001b[36mFile \u001b[39m\u001b[32m~/Desktop/htx-xdata-asr/venv/lib/python3.13/site-packages/urllib3/util/retry.py:519\u001b[39m, in \u001b[36mRetry.increment\u001b[39m\u001b[34m(self, method, url, response, error, _pool, _stacktrace)\u001b[39m\n\u001b[32m    518\u001b[39m     reason = error \u001b[38;5;129;01mor\u001b[39;00m ResponseError(cause)\n\u001b[32m--> \u001b[39m\u001b[32m519\u001b[39m     \u001b[38;5;28;01mraise\u001b[39;00m MaxRetryError(_pool, url, reason) \u001b[38;5;28;01mfrom\u001b[39;00m\u001b[38;5;250m \u001b[39m\u001b[34;01mreason\u001b[39;00m  \u001b[38;5;66;03m# type: ignore[arg-type]\u001b[39;00m\n\u001b[32m    521\u001b[39m log.debug(\u001b[33m\"\u001b[39m\u001b[33mIncremented Retry for (url=\u001b[39m\u001b[33m'\u001b[39m\u001b[38;5;132;01m%s\u001b[39;00m\u001b[33m'\u001b[39m\u001b[33m): \u001b[39m\u001b[38;5;132;01m%r\u001b[39;00m\u001b[33m\"\u001b[39m, url, new_retry)\n",
      "\u001b[31mMaxRetryError\u001b[39m: HTTPSConnectionPool(host='huggingface.co', port=443): Max retries exceeded with url: /api/models/facebook/wav2vec2-large-960h/tree/main/additional_chat_templates?recursive=False&expand=False (Caused by NameResolutionError(\"<urllib3.connection.HTTPSConnection object at 0x3157b8b90>: Failed to resolve 'huggingface.co' ([Errno 8] nodename nor servname provided, or not known)\"))",
      "\nDuring handling of the above exception, another exception occurred:\n",
      "\u001b[31mConnectionError\u001b[39m                           Traceback (most recent call last)",
      "\u001b[36mFile \u001b[39m\u001b[32m~/Desktop/htx-xdata-asr/venv/lib/python3.13/site-packages/transformers/models/wav2vec2/processing_wav2vec2.py:59\u001b[39m, in \u001b[36mWav2Vec2Processor.from_pretrained\u001b[39m\u001b[34m(cls, pretrained_model_name_or_path, **kwargs)\u001b[39m\n\u001b[32m     58\u001b[39m \u001b[38;5;28;01mtry\u001b[39;00m:\n\u001b[32m---> \u001b[39m\u001b[32m59\u001b[39m     \u001b[38;5;28;01mreturn\u001b[39;00m \u001b[38;5;28;43msuper\u001b[39;49m\u001b[43m(\u001b[49m\u001b[43m)\u001b[49m\u001b[43m.\u001b[49m\u001b[43mfrom_pretrained\u001b[49m\u001b[43m(\u001b[49m\u001b[43mpretrained_model_name_or_path\u001b[49m\u001b[43m,\u001b[49m\u001b[43m \u001b[49m\u001b[43m*\u001b[49m\u001b[43m*\u001b[49m\u001b[43mkwargs\u001b[49m\u001b[43m)\u001b[49m\n\u001b[32m     60\u001b[39m \u001b[38;5;28;01mexcept\u001b[39;00m (\u001b[38;5;167;01mOSError\u001b[39;00m, \u001b[38;5;167;01mValueError\u001b[39;00m):\n",
      "\u001b[36mFile \u001b[39m\u001b[32m~/Desktop/htx-xdata-asr/venv/lib/python3.13/site-packages/transformers/processing_utils.py:1185\u001b[39m, in \u001b[36mProcessorMixin.from_pretrained\u001b[39m\u001b[34m(cls, pretrained_model_name_or_path, cache_dir, force_download, local_files_only, token, revision, **kwargs)\u001b[39m\n\u001b[32m   1183\u001b[39m     kwargs[\u001b[33m\"\u001b[39m\u001b[33mtoken\u001b[39m\u001b[33m\"\u001b[39m] = token\n\u001b[32m-> \u001b[39m\u001b[32m1185\u001b[39m args = \u001b[38;5;28;43mcls\u001b[39;49m\u001b[43m.\u001b[49m\u001b[43m_get_arguments_from_pretrained\u001b[49m\u001b[43m(\u001b[49m\u001b[43mpretrained_model_name_or_path\u001b[49m\u001b[43m,\u001b[49m\u001b[43m \u001b[49m\u001b[43m*\u001b[49m\u001b[43m*\u001b[49m\u001b[43mkwargs\u001b[49m\u001b[43m)\u001b[49m\n\u001b[32m   1186\u001b[39m processor_dict, kwargs = \u001b[38;5;28mcls\u001b[39m.get_processor_dict(pretrained_model_name_or_path, **kwargs)\n",
      "\u001b[36mFile \u001b[39m\u001b[32m~/Desktop/htx-xdata-asr/venv/lib/python3.13/site-packages/transformers/processing_utils.py:1248\u001b[39m, in \u001b[36mProcessorMixin._get_arguments_from_pretrained\u001b[39m\u001b[34m(cls, pretrained_model_name_or_path, **kwargs)\u001b[39m\n\u001b[32m   1246\u001b[39m         attribute_class = \u001b[38;5;28mcls\u001b[39m.get_possibly_dynamic_module(class_name)\n\u001b[32m-> \u001b[39m\u001b[32m1248\u001b[39m     args.append(\u001b[43mattribute_class\u001b[49m\u001b[43m.\u001b[49m\u001b[43mfrom_pretrained\u001b[49m\u001b[43m(\u001b[49m\u001b[43mpretrained_model_name_or_path\u001b[49m\u001b[43m,\u001b[49m\u001b[43m \u001b[49m\u001b[43m*\u001b[49m\u001b[43m*\u001b[49m\u001b[43mkwargs\u001b[49m\u001b[43m)\u001b[49m)\n\u001b[32m   1249\u001b[39m \u001b[38;5;28;01mreturn\u001b[39;00m args\n",
      "\u001b[36mFile \u001b[39m\u001b[32m~/Desktop/htx-xdata-asr/venv/lib/python3.13/site-packages/transformers/models/auto/tokenization_auto.py:1035\u001b[39m, in \u001b[36mAutoTokenizer.from_pretrained\u001b[39m\u001b[34m(cls, pretrained_model_name_or_path, *inputs, **kwargs)\u001b[39m\n\u001b[32m   1034\u001b[39m \u001b[38;5;28;01mif\u001b[39;00m tokenizer_class_py \u001b[38;5;129;01mis\u001b[39;00m \u001b[38;5;129;01mnot\u001b[39;00m \u001b[38;5;28;01mNone\u001b[39;00m:\n\u001b[32m-> \u001b[39m\u001b[32m1035\u001b[39m     \u001b[38;5;28;01mreturn\u001b[39;00m \u001b[43mtokenizer_class_py\u001b[49m\u001b[43m.\u001b[49m\u001b[43mfrom_pretrained\u001b[49m\u001b[43m(\u001b[49m\u001b[43mpretrained_model_name_or_path\u001b[49m\u001b[43m,\u001b[49m\u001b[43m \u001b[49m\u001b[43m*\u001b[49m\u001b[43minputs\u001b[49m\u001b[43m,\u001b[49m\u001b[43m \u001b[49m\u001b[43m*\u001b[49m\u001b[43m*\u001b[49m\u001b[43mkwargs\u001b[49m\u001b[43m)\u001b[49m\n\u001b[32m   1036\u001b[39m \u001b[38;5;28;01melse\u001b[39;00m:\n",
      "\u001b[36mFile \u001b[39m\u001b[32m~/Desktop/htx-xdata-asr/venv/lib/python3.13/site-packages/transformers/tokenization_utils_base.py:1968\u001b[39m, in \u001b[36mPreTrainedTokenizerBase.from_pretrained\u001b[39m\u001b[34m(cls, pretrained_model_name_or_path, cache_dir, force_download, local_files_only, token, revision, trust_remote_code, *init_inputs, **kwargs)\u001b[39m\n\u001b[32m   1967\u001b[39m \u001b[38;5;28;01melse\u001b[39;00m:\n\u001b[32m-> \u001b[39m\u001b[32m1968\u001b[39m     \u001b[38;5;28;01mfor\u001b[39;00m template \u001b[38;5;129;01min\u001b[39;00m \u001b[43mlist_repo_templates\u001b[49m\u001b[43m(\u001b[49m\n\u001b[32m   1969\u001b[39m \u001b[43m        \u001b[49m\u001b[43mpretrained_model_name_or_path\u001b[49m\u001b[43m,\u001b[49m\n\u001b[32m   1970\u001b[39m \u001b[43m        \u001b[49m\u001b[43mlocal_files_only\u001b[49m\u001b[43m=\u001b[49m\u001b[43mlocal_files_only\u001b[49m\u001b[43m,\u001b[49m\n\u001b[32m   1971\u001b[39m \u001b[43m        \u001b[49m\u001b[43mrevision\u001b[49m\u001b[43m=\u001b[49m\u001b[43mrevision\u001b[49m\u001b[43m,\u001b[49m\n\u001b[32m   1972\u001b[39m \u001b[43m        \u001b[49m\u001b[43mcache_dir\u001b[49m\u001b[43m=\u001b[49m\u001b[43mcache_dir\u001b[49m\u001b[43m,\u001b[49m\n\u001b[32m   1973\u001b[39m \u001b[43m    \u001b[49m\u001b[43m)\u001b[49m:\n\u001b[32m   1974\u001b[39m         vocab_files[\u001b[33mf\u001b[39m\u001b[33m\"\u001b[39m\u001b[33mchat_template_\u001b[39m\u001b[38;5;132;01m{\u001b[39;00mtemplate\u001b[38;5;132;01m}\u001b[39;00m\u001b[33m\"\u001b[39m] = \u001b[33mf\u001b[39m\u001b[33m\"\u001b[39m\u001b[38;5;132;01m{\u001b[39;00mCHAT_TEMPLATE_DIR\u001b[38;5;132;01m}\u001b[39;00m\u001b[33m/\u001b[39m\u001b[38;5;132;01m{\u001b[39;00mtemplate\u001b[38;5;132;01m}\u001b[39;00m\u001b[33m.jinja\u001b[39m\u001b[33m\"\u001b[39m\n",
      "\u001b[36mFile \u001b[39m\u001b[32m~/Desktop/htx-xdata-asr/venv/lib/python3.13/site-packages/transformers/utils/hub.py:163\u001b[39m, in \u001b[36mlist_repo_templates\u001b[39m\u001b[34m(repo_id, local_files_only, revision, cache_dir)\u001b[39m\n\u001b[32m    160\u001b[39m \u001b[38;5;28;01mtry\u001b[39;00m:\n\u001b[32m    161\u001b[39m     \u001b[38;5;28;01mreturn\u001b[39;00m \u001b[43m[\u001b[49m\n\u001b[32m    162\u001b[39m \u001b[43m        \u001b[49m\u001b[43mentry\u001b[49m\u001b[43m.\u001b[49m\u001b[43mpath\u001b[49m\u001b[43m.\u001b[49m\u001b[43mremoveprefix\u001b[49m\u001b[43m(\u001b[49m\u001b[33;43mf\u001b[39;49m\u001b[33;43m\"\u001b[39;49m\u001b[38;5;132;43;01m{\u001b[39;49;00m\u001b[43mCHAT_TEMPLATE_DIR\u001b[49m\u001b[38;5;132;43;01m}\u001b[39;49;00m\u001b[33;43m/\u001b[39;49m\u001b[33;43m\"\u001b[39;49m\u001b[43m)\u001b[49m\n\u001b[32m--> \u001b[39m\u001b[32m163\u001b[39m \u001b[43m        \u001b[49m\u001b[38;5;28;43;01mfor\u001b[39;49;00m\u001b[43m \u001b[49m\u001b[43mentry\u001b[49m\u001b[43m \u001b[49m\u001b[38;5;129;43;01min\u001b[39;49;00m\u001b[43m \u001b[49m\u001b[43mlist_repo_tree\u001b[49m\u001b[43m(\u001b[49m\n\u001b[32m    164\u001b[39m \u001b[43m            \u001b[49m\u001b[43mrepo_id\u001b[49m\u001b[43m=\u001b[49m\u001b[43mrepo_id\u001b[49m\u001b[43m,\u001b[49m\u001b[43m \u001b[49m\u001b[43mrevision\u001b[49m\u001b[43m=\u001b[49m\u001b[43mrevision\u001b[49m\u001b[43m,\u001b[49m\u001b[43m \u001b[49m\u001b[43mpath_in_repo\u001b[49m\u001b[43m=\u001b[49m\u001b[43mCHAT_TEMPLATE_DIR\u001b[49m\u001b[43m,\u001b[49m\u001b[43m \u001b[49m\u001b[43mrecursive\u001b[49m\u001b[43m=\u001b[49m\u001b[38;5;28;43;01mFalse\u001b[39;49;00m\n\u001b[32m    165\u001b[39m \u001b[43m        \u001b[49m\u001b[43m)\u001b[49m\n\u001b[32m    166\u001b[39m \u001b[43m        \u001b[49m\u001b[38;5;28;43;01mif\u001b[39;49;00m\u001b[43m \u001b[49m\u001b[43mentry\u001b[49m\u001b[43m.\u001b[49m\u001b[43mpath\u001b[49m\u001b[43m.\u001b[49m\u001b[43mendswith\u001b[49m\u001b[43m(\u001b[49m\u001b[33;43m\"\u001b[39;49m\u001b[33;43m.jinja\u001b[39;49m\u001b[33;43m\"\u001b[39;49m\u001b[43m)\u001b[49m\n\u001b[32m    167\u001b[39m \u001b[43m    \u001b[49m\u001b[43m]\u001b[49m\n\u001b[32m    168\u001b[39m \u001b[38;5;28;01mexcept\u001b[39;00m (GatedRepoError, RepositoryNotFoundError, RevisionNotFoundError):\n",
      "\u001b[36mFile \u001b[39m\u001b[32m~/Desktop/htx-xdata-asr/venv/lib/python3.13/site-packages/huggingface_hub/hf_api.py:3140\u001b[39m, in \u001b[36mHfApi.list_repo_tree\u001b[39m\u001b[34m(self, repo_id, path_in_repo, recursive, expand, revision, repo_type, token)\u001b[39m\n\u001b[32m   3139\u001b[39m tree_url = \u001b[33mf\u001b[39m\u001b[33m\"\u001b[39m\u001b[38;5;132;01m{\u001b[39;00m\u001b[38;5;28mself\u001b[39m.endpoint\u001b[38;5;132;01m}\u001b[39;00m\u001b[33m/api/\u001b[39m\u001b[38;5;132;01m{\u001b[39;00mrepo_type\u001b[38;5;132;01m}\u001b[39;00m\u001b[33ms/\u001b[39m\u001b[38;5;132;01m{\u001b[39;00mrepo_id\u001b[38;5;132;01m}\u001b[39;00m\u001b[33m/tree/\u001b[39m\u001b[38;5;132;01m{\u001b[39;00mrevision\u001b[38;5;132;01m}\u001b[39;00m\u001b[38;5;132;01m{\u001b[39;00mencoded_path_in_repo\u001b[38;5;132;01m}\u001b[39;00m\u001b[33m\"\u001b[39m\n\u001b[32m-> \u001b[39m\u001b[32m3140\u001b[39m \u001b[43m\u001b[49m\u001b[38;5;28;43;01mfor\u001b[39;49;00m\u001b[43m \u001b[49m\u001b[43mpath_info\u001b[49m\u001b[43m \u001b[49m\u001b[38;5;129;43;01min\u001b[39;49;00m\u001b[43m \u001b[49m\u001b[43mpaginate\u001b[49m\u001b[43m(\u001b[49m\u001b[43mpath\u001b[49m\u001b[43m=\u001b[49m\u001b[43mtree_url\u001b[49m\u001b[43m,\u001b[49m\u001b[43m \u001b[49m\u001b[43mheaders\u001b[49m\u001b[43m=\u001b[49m\u001b[43mheaders\u001b[49m\u001b[43m,\u001b[49m\u001b[43m \u001b[49m\u001b[43mparams\u001b[49m\u001b[43m=\u001b[49m\u001b[43m{\u001b[49m\u001b[33;43m\"\u001b[39;49m\u001b[33;43mrecursive\u001b[39;49m\u001b[33;43m\"\u001b[39;49m\u001b[43m:\u001b[49m\u001b[43m \u001b[49m\u001b[43mrecursive\u001b[49m\u001b[43m,\u001b[49m\u001b[43m \u001b[49m\u001b[33;43m\"\u001b[39;49m\u001b[33;43mexpand\u001b[39;49m\u001b[33;43m\"\u001b[39;49m\u001b[43m:\u001b[49m\u001b[43m \u001b[49m\u001b[43mexpand\u001b[49m\u001b[43m}\u001b[49m\u001b[43m)\u001b[49m\u001b[43m:\u001b[49m\n\u001b[32m   3141\u001b[39m \u001b[43m    \u001b[49m\u001b[38;5;28;43;01myield\u001b[39;49;00m\u001b[43m \u001b[49m\u001b[43m(\u001b[49m\u001b[43mRepoFile\u001b[49m\u001b[43m(\u001b[49m\u001b[43m*\u001b[49m\u001b[43m*\u001b[49m\u001b[43mpath_info\u001b[49m\u001b[43m)\u001b[49m\u001b[43m \u001b[49m\u001b[38;5;28;43;01mif\u001b[39;49;00m\u001b[43m \u001b[49m\u001b[43mpath_info\u001b[49m\u001b[43m[\u001b[49m\u001b[33;43m\"\u001b[39;49m\u001b[33;43mtype\u001b[39;49m\u001b[33;43m\"\u001b[39;49m\u001b[43m]\u001b[49m\u001b[43m \u001b[49m\u001b[43m==\u001b[49m\u001b[43m \u001b[49m\u001b[33;43m\"\u001b[39;49m\u001b[33;43mfile\u001b[39;49m\u001b[33;43m\"\u001b[39;49m\u001b[43m \u001b[49m\u001b[38;5;28;43;01melse\u001b[39;49;00m\u001b[43m \u001b[49m\u001b[43mRepoFolder\u001b[49m\u001b[43m(\u001b[49m\u001b[43m*\u001b[49m\u001b[43m*\u001b[49m\u001b[43mpath_info\u001b[49m\u001b[43m)\u001b[49m\u001b[43m)\u001b[49m\n",
      "\u001b[36mFile \u001b[39m\u001b[32m~/Desktop/htx-xdata-asr/venv/lib/python3.13/site-packages/huggingface_hub/utils/_pagination.py:36\u001b[39m, in \u001b[36mpaginate\u001b[39m\u001b[34m(path, params, headers)\u001b[39m\n\u001b[32m     35\u001b[39m session = get_session()\n\u001b[32m---> \u001b[39m\u001b[32m36\u001b[39m r = \u001b[43msession\u001b[49m\u001b[43m.\u001b[49m\u001b[43mget\u001b[49m\u001b[43m(\u001b[49m\u001b[43mpath\u001b[49m\u001b[43m,\u001b[49m\u001b[43m \u001b[49m\u001b[43mparams\u001b[49m\u001b[43m=\u001b[49m\u001b[43mparams\u001b[49m\u001b[43m,\u001b[49m\u001b[43m \u001b[49m\u001b[43mheaders\u001b[49m\u001b[43m=\u001b[49m\u001b[43mheaders\u001b[49m\u001b[43m)\u001b[49m\n\u001b[32m     37\u001b[39m hf_raise_for_status(r)\n",
      "\u001b[36mFile \u001b[39m\u001b[32m~/Desktop/htx-xdata-asr/venv/lib/python3.13/site-packages/requests/sessions.py:602\u001b[39m, in \u001b[36mSession.get\u001b[39m\u001b[34m(self, url, **kwargs)\u001b[39m\n\u001b[32m    601\u001b[39m kwargs.setdefault(\u001b[33m\"\u001b[39m\u001b[33mallow_redirects\u001b[39m\u001b[33m\"\u001b[39m, \u001b[38;5;28;01mTrue\u001b[39;00m)\n\u001b[32m--> \u001b[39m\u001b[32m602\u001b[39m \u001b[38;5;28;01mreturn\u001b[39;00m \u001b[38;5;28;43mself\u001b[39;49m\u001b[43m.\u001b[49m\u001b[43mrequest\u001b[49m\u001b[43m(\u001b[49m\u001b[33;43m\"\u001b[39;49m\u001b[33;43mGET\u001b[39;49m\u001b[33;43m\"\u001b[39;49m\u001b[43m,\u001b[49m\u001b[43m \u001b[49m\u001b[43murl\u001b[49m\u001b[43m,\u001b[49m\u001b[43m \u001b[49m\u001b[43m*\u001b[49m\u001b[43m*\u001b[49m\u001b[43mkwargs\u001b[49m\u001b[43m)\u001b[49m\n",
      "\u001b[36mFile \u001b[39m\u001b[32m~/Desktop/htx-xdata-asr/venv/lib/python3.13/site-packages/requests/sessions.py:589\u001b[39m, in \u001b[36mSession.request\u001b[39m\u001b[34m(self, method, url, params, data, headers, cookies, files, auth, timeout, allow_redirects, proxies, hooks, stream, verify, cert, json)\u001b[39m\n\u001b[32m    588\u001b[39m send_kwargs.update(settings)\n\u001b[32m--> \u001b[39m\u001b[32m589\u001b[39m resp = \u001b[38;5;28;43mself\u001b[39;49m\u001b[43m.\u001b[49m\u001b[43msend\u001b[49m\u001b[43m(\u001b[49m\u001b[43mprep\u001b[49m\u001b[43m,\u001b[49m\u001b[43m \u001b[49m\u001b[43m*\u001b[49m\u001b[43m*\u001b[49m\u001b[43msend_kwargs\u001b[49m\u001b[43m)\u001b[49m\n\u001b[32m    591\u001b[39m \u001b[38;5;28;01mreturn\u001b[39;00m resp\n",
      "\u001b[36mFile \u001b[39m\u001b[32m~/Desktop/htx-xdata-asr/venv/lib/python3.13/site-packages/requests/sessions.py:703\u001b[39m, in \u001b[36mSession.send\u001b[39m\u001b[34m(self, request, **kwargs)\u001b[39m\n\u001b[32m    702\u001b[39m \u001b[38;5;66;03m# Send the request\u001b[39;00m\n\u001b[32m--> \u001b[39m\u001b[32m703\u001b[39m r = \u001b[43madapter\u001b[49m\u001b[43m.\u001b[49m\u001b[43msend\u001b[49m\u001b[43m(\u001b[49m\u001b[43mrequest\u001b[49m\u001b[43m,\u001b[49m\u001b[43m \u001b[49m\u001b[43m*\u001b[49m\u001b[43m*\u001b[49m\u001b[43mkwargs\u001b[49m\u001b[43m)\u001b[49m\n\u001b[32m    705\u001b[39m \u001b[38;5;66;03m# Total elapsed time of the request (approximately)\u001b[39;00m\n",
      "\u001b[36mFile \u001b[39m\u001b[32m~/Desktop/htx-xdata-asr/venv/lib/python3.13/site-packages/requests/adapters.py:700\u001b[39m, in \u001b[36mHTTPAdapter.send\u001b[39m\u001b[34m(self, request, stream, timeout, verify, cert, proxies)\u001b[39m\n\u001b[32m    698\u001b[39m         \u001b[38;5;28;01mraise\u001b[39;00m SSLError(e, request=request)\n\u001b[32m--> \u001b[39m\u001b[32m700\u001b[39m     \u001b[38;5;28;01mraise\u001b[39;00m \u001b[38;5;167;01mConnectionError\u001b[39;00m(e, request=request)\n\u001b[32m    702\u001b[39m \u001b[38;5;28;01mexcept\u001b[39;00m ClosedPoolError \u001b[38;5;28;01mas\u001b[39;00m e:\n",
      "\u001b[31mConnectionError\u001b[39m: HTTPSConnectionPool(host='huggingface.co', port=443): Max retries exceeded with url: /api/models/facebook/wav2vec2-large-960h/tree/main/additional_chat_templates?recursive=False&expand=False (Caused by NameResolutionError(\"<urllib3.connection.HTTPSConnection object at 0x3157b8b90>: Failed to resolve 'huggingface.co' ([Errno 8] nodename nor servname provided, or not known)\"))",
      "\nDuring handling of the above exception, another exception occurred:\n",
      "\u001b[31mgaierror\u001b[39m                                  Traceback (most recent call last)",
      "\u001b[36mFile \u001b[39m\u001b[32m~/Desktop/htx-xdata-asr/venv/lib/python3.13/site-packages/urllib3/connection.py:198\u001b[39m, in \u001b[36mHTTPConnection._new_conn\u001b[39m\u001b[34m(self)\u001b[39m\n\u001b[32m    197\u001b[39m \u001b[38;5;28;01mtry\u001b[39;00m:\n\u001b[32m--> \u001b[39m\u001b[32m198\u001b[39m     sock = \u001b[43mconnection\u001b[49m\u001b[43m.\u001b[49m\u001b[43mcreate_connection\u001b[49m\u001b[43m(\u001b[49m\n\u001b[32m    199\u001b[39m \u001b[43m        \u001b[49m\u001b[43m(\u001b[49m\u001b[38;5;28;43mself\u001b[39;49m\u001b[43m.\u001b[49m\u001b[43m_dns_host\u001b[49m\u001b[43m,\u001b[49m\u001b[43m \u001b[49m\u001b[38;5;28;43mself\u001b[39;49m\u001b[43m.\u001b[49m\u001b[43mport\u001b[49m\u001b[43m)\u001b[49m\u001b[43m,\u001b[49m\n\u001b[32m    200\u001b[39m \u001b[43m        \u001b[49m\u001b[38;5;28;43mself\u001b[39;49m\u001b[43m.\u001b[49m\u001b[43mtimeout\u001b[49m\u001b[43m,\u001b[49m\n\u001b[32m    201\u001b[39m \u001b[43m        \u001b[49m\u001b[43msource_address\u001b[49m\u001b[43m=\u001b[49m\u001b[38;5;28;43mself\u001b[39;49m\u001b[43m.\u001b[49m\u001b[43msource_address\u001b[49m\u001b[43m,\u001b[49m\n\u001b[32m    202\u001b[39m \u001b[43m        \u001b[49m\u001b[43msocket_options\u001b[49m\u001b[43m=\u001b[49m\u001b[38;5;28;43mself\u001b[39;49m\u001b[43m.\u001b[49m\u001b[43msocket_options\u001b[49m\u001b[43m,\u001b[49m\n\u001b[32m    203\u001b[39m \u001b[43m    \u001b[49m\u001b[43m)\u001b[49m\n\u001b[32m    204\u001b[39m \u001b[38;5;28;01mexcept\u001b[39;00m socket.gaierror \u001b[38;5;28;01mas\u001b[39;00m e:\n",
      "\u001b[36mFile \u001b[39m\u001b[32m~/Desktop/htx-xdata-asr/venv/lib/python3.13/site-packages/urllib3/util/connection.py:60\u001b[39m, in \u001b[36mcreate_connection\u001b[39m\u001b[34m(address, timeout, source_address, socket_options)\u001b[39m\n\u001b[32m     58\u001b[39m     \u001b[38;5;28;01mraise\u001b[39;00m LocationParseError(\u001b[33mf\u001b[39m\u001b[33m\"\u001b[39m\u001b[33m'\u001b[39m\u001b[38;5;132;01m{\u001b[39;00mhost\u001b[38;5;132;01m}\u001b[39;00m\u001b[33m'\u001b[39m\u001b[33m, label empty or too long\u001b[39m\u001b[33m\"\u001b[39m) \u001b[38;5;28;01mfrom\u001b[39;00m\u001b[38;5;250m \u001b[39m\u001b[38;5;28;01mNone\u001b[39;00m\n\u001b[32m---> \u001b[39m\u001b[32m60\u001b[39m \u001b[38;5;28;01mfor\u001b[39;00m res \u001b[38;5;129;01min\u001b[39;00m \u001b[43msocket\u001b[49m\u001b[43m.\u001b[49m\u001b[43mgetaddrinfo\u001b[49m\u001b[43m(\u001b[49m\u001b[43mhost\u001b[49m\u001b[43m,\u001b[49m\u001b[43m \u001b[49m\u001b[43mport\u001b[49m\u001b[43m,\u001b[49m\u001b[43m \u001b[49m\u001b[43mfamily\u001b[49m\u001b[43m,\u001b[49m\u001b[43m \u001b[49m\u001b[43msocket\u001b[49m\u001b[43m.\u001b[49m\u001b[43mSOCK_STREAM\u001b[49m\u001b[43m)\u001b[49m:\n\u001b[32m     61\u001b[39m     af, socktype, proto, canonname, sa = res\n",
      "\u001b[36mFile \u001b[39m\u001b[32m/opt/homebrew/Cellar/python@3.13/3.13.3_1/Frameworks/Python.framework/Versions/3.13/lib/python3.13/socket.py:977\u001b[39m, in \u001b[36mgetaddrinfo\u001b[39m\u001b[34m(host, port, family, type, proto, flags)\u001b[39m\n\u001b[32m    976\u001b[39m addrlist = []\n\u001b[32m--> \u001b[39m\u001b[32m977\u001b[39m \u001b[38;5;28;01mfor\u001b[39;00m res \u001b[38;5;129;01min\u001b[39;00m \u001b[43m_socket\u001b[49m\u001b[43m.\u001b[49m\u001b[43mgetaddrinfo\u001b[49m\u001b[43m(\u001b[49m\u001b[43mhost\u001b[49m\u001b[43m,\u001b[49m\u001b[43m \u001b[49m\u001b[43mport\u001b[49m\u001b[43m,\u001b[49m\u001b[43m \u001b[49m\u001b[43mfamily\u001b[49m\u001b[43m,\u001b[49m\u001b[43m \u001b[49m\u001b[38;5;28;43mtype\u001b[39;49m\u001b[43m,\u001b[49m\u001b[43m \u001b[49m\u001b[43mproto\u001b[49m\u001b[43m,\u001b[49m\u001b[43m \u001b[49m\u001b[43mflags\u001b[49m\u001b[43m)\u001b[49m:\n\u001b[32m    978\u001b[39m     af, socktype, proto, canonname, sa = res\n",
      "\u001b[31mgaierror\u001b[39m: [Errno 8] nodename nor servname provided, or not known",
      "\nThe above exception was the direct cause of the following exception:\n",
      "\u001b[31mNameResolutionError\u001b[39m                       Traceback (most recent call last)",
      "\u001b[36mFile \u001b[39m\u001b[32m~/Desktop/htx-xdata-asr/venv/lib/python3.13/site-packages/urllib3/connectionpool.py:787\u001b[39m, in \u001b[36mHTTPConnectionPool.urlopen\u001b[39m\u001b[34m(self, method, url, body, headers, retries, redirect, assert_same_host, timeout, pool_timeout, release_conn, chunked, body_pos, preload_content, decode_content, **response_kw)\u001b[39m\n\u001b[32m    786\u001b[39m \u001b[38;5;66;03m# Make the request on the HTTPConnection object\u001b[39;00m\n\u001b[32m--> \u001b[39m\u001b[32m787\u001b[39m response = \u001b[38;5;28;43mself\u001b[39;49m\u001b[43m.\u001b[49m\u001b[43m_make_request\u001b[49m\u001b[43m(\u001b[49m\n\u001b[32m    788\u001b[39m \u001b[43m    \u001b[49m\u001b[43mconn\u001b[49m\u001b[43m,\u001b[49m\n\u001b[32m    789\u001b[39m \u001b[43m    \u001b[49m\u001b[43mmethod\u001b[49m\u001b[43m,\u001b[49m\n\u001b[32m    790\u001b[39m \u001b[43m    \u001b[49m\u001b[43murl\u001b[49m\u001b[43m,\u001b[49m\n\u001b[32m    791\u001b[39m \u001b[43m    \u001b[49m\u001b[43mtimeout\u001b[49m\u001b[43m=\u001b[49m\u001b[43mtimeout_obj\u001b[49m\u001b[43m,\u001b[49m\n\u001b[32m    792\u001b[39m \u001b[43m    \u001b[49m\u001b[43mbody\u001b[49m\u001b[43m=\u001b[49m\u001b[43mbody\u001b[49m\u001b[43m,\u001b[49m\n\u001b[32m    793\u001b[39m \u001b[43m    \u001b[49m\u001b[43mheaders\u001b[49m\u001b[43m=\u001b[49m\u001b[43mheaders\u001b[49m\u001b[43m,\u001b[49m\n\u001b[32m    794\u001b[39m \u001b[43m    \u001b[49m\u001b[43mchunked\u001b[49m\u001b[43m=\u001b[49m\u001b[43mchunked\u001b[49m\u001b[43m,\u001b[49m\n\u001b[32m    795\u001b[39m \u001b[43m    \u001b[49m\u001b[43mretries\u001b[49m\u001b[43m=\u001b[49m\u001b[43mretries\u001b[49m\u001b[43m,\u001b[49m\n\u001b[32m    796\u001b[39m \u001b[43m    \u001b[49m\u001b[43mresponse_conn\u001b[49m\u001b[43m=\u001b[49m\u001b[43mresponse_conn\u001b[49m\u001b[43m,\u001b[49m\n\u001b[32m    797\u001b[39m \u001b[43m    \u001b[49m\u001b[43mpreload_content\u001b[49m\u001b[43m=\u001b[49m\u001b[43mpreload_content\u001b[49m\u001b[43m,\u001b[49m\n\u001b[32m    798\u001b[39m \u001b[43m    \u001b[49m\u001b[43mdecode_content\u001b[49m\u001b[43m=\u001b[49m\u001b[43mdecode_content\u001b[49m\u001b[43m,\u001b[49m\n\u001b[32m    799\u001b[39m \u001b[43m    \u001b[49m\u001b[43m*\u001b[49m\u001b[43m*\u001b[49m\u001b[43mresponse_kw\u001b[49m\u001b[43m,\u001b[49m\n\u001b[32m    800\u001b[39m \u001b[43m\u001b[49m\u001b[43m)\u001b[49m\n\u001b[32m    802\u001b[39m \u001b[38;5;66;03m# Everything went great!\u001b[39;00m\n",
      "\u001b[36mFile \u001b[39m\u001b[32m~/Desktop/htx-xdata-asr/venv/lib/python3.13/site-packages/urllib3/connectionpool.py:488\u001b[39m, in \u001b[36mHTTPConnectionPool._make_request\u001b[39m\u001b[34m(self, conn, method, url, body, headers, retries, timeout, chunked, response_conn, preload_content, decode_content, enforce_content_length)\u001b[39m\n\u001b[32m    487\u001b[39m         new_e = _wrap_proxy_error(new_e, conn.proxy.scheme)\n\u001b[32m--> \u001b[39m\u001b[32m488\u001b[39m     \u001b[38;5;28;01mraise\u001b[39;00m new_e\n\u001b[32m    490\u001b[39m \u001b[38;5;66;03m# conn.request() calls http.client.*.request, not the method in\u001b[39;00m\n\u001b[32m    491\u001b[39m \u001b[38;5;66;03m# urllib3.request. It also calls makefile (recv) on the socket.\u001b[39;00m\n",
      "\u001b[36mFile \u001b[39m\u001b[32m~/Desktop/htx-xdata-asr/venv/lib/python3.13/site-packages/urllib3/connectionpool.py:464\u001b[39m, in \u001b[36mHTTPConnectionPool._make_request\u001b[39m\u001b[34m(self, conn, method, url, body, headers, retries, timeout, chunked, response_conn, preload_content, decode_content, enforce_content_length)\u001b[39m\n\u001b[32m    463\u001b[39m \u001b[38;5;28;01mtry\u001b[39;00m:\n\u001b[32m--> \u001b[39m\u001b[32m464\u001b[39m     \u001b[38;5;28;43mself\u001b[39;49m\u001b[43m.\u001b[49m\u001b[43m_validate_conn\u001b[49m\u001b[43m(\u001b[49m\u001b[43mconn\u001b[49m\u001b[43m)\u001b[49m\n\u001b[32m    465\u001b[39m \u001b[38;5;28;01mexcept\u001b[39;00m (SocketTimeout, BaseSSLError) \u001b[38;5;28;01mas\u001b[39;00m e:\n",
      "\u001b[36mFile \u001b[39m\u001b[32m~/Desktop/htx-xdata-asr/venv/lib/python3.13/site-packages/urllib3/connectionpool.py:1093\u001b[39m, in \u001b[36mHTTPSConnectionPool._validate_conn\u001b[39m\u001b[34m(self, conn)\u001b[39m\n\u001b[32m   1092\u001b[39m \u001b[38;5;28;01mif\u001b[39;00m conn.is_closed:\n\u001b[32m-> \u001b[39m\u001b[32m1093\u001b[39m     \u001b[43mconn\u001b[49m\u001b[43m.\u001b[49m\u001b[43mconnect\u001b[49m\u001b[43m(\u001b[49m\u001b[43m)\u001b[49m\n\u001b[32m   1095\u001b[39m \u001b[38;5;66;03m# TODO revise this, see https://github.com/urllib3/urllib3/issues/2791\u001b[39;00m\n",
      "\u001b[36mFile \u001b[39m\u001b[32m~/Desktop/htx-xdata-asr/venv/lib/python3.13/site-packages/urllib3/connection.py:704\u001b[39m, in \u001b[36mHTTPSConnection.connect\u001b[39m\u001b[34m(self)\u001b[39m\n\u001b[32m    703\u001b[39m sock: socket.socket | ssl.SSLSocket\n\u001b[32m--> \u001b[39m\u001b[32m704\u001b[39m \u001b[38;5;28mself\u001b[39m.sock = sock = \u001b[38;5;28;43mself\u001b[39;49m\u001b[43m.\u001b[49m\u001b[43m_new_conn\u001b[49m\u001b[43m(\u001b[49m\u001b[43m)\u001b[49m\n\u001b[32m    705\u001b[39m server_hostname: \u001b[38;5;28mstr\u001b[39m = \u001b[38;5;28mself\u001b[39m.host\n",
      "\u001b[36mFile \u001b[39m\u001b[32m~/Desktop/htx-xdata-asr/venv/lib/python3.13/site-packages/urllib3/connection.py:205\u001b[39m, in \u001b[36mHTTPConnection._new_conn\u001b[39m\u001b[34m(self)\u001b[39m\n\u001b[32m    204\u001b[39m \u001b[38;5;28;01mexcept\u001b[39;00m socket.gaierror \u001b[38;5;28;01mas\u001b[39;00m e:\n\u001b[32m--> \u001b[39m\u001b[32m205\u001b[39m     \u001b[38;5;28;01mraise\u001b[39;00m NameResolutionError(\u001b[38;5;28mself\u001b[39m.host, \u001b[38;5;28mself\u001b[39m, e) \u001b[38;5;28;01mfrom\u001b[39;00m\u001b[38;5;250m \u001b[39m\u001b[34;01me\u001b[39;00m\n\u001b[32m    206\u001b[39m \u001b[38;5;28;01mexcept\u001b[39;00m SocketTimeout \u001b[38;5;28;01mas\u001b[39;00m e:\n",
      "\u001b[31mNameResolutionError\u001b[39m: <urllib3.connection.HTTPSConnection object at 0x3157b9a90>: Failed to resolve 'huggingface.co' ([Errno 8] nodename nor servname provided, or not known)",
      "\nThe above exception was the direct cause of the following exception:\n",
      "\u001b[31mMaxRetryError\u001b[39m                             Traceback (most recent call last)",
      "\u001b[36mFile \u001b[39m\u001b[32m~/Desktop/htx-xdata-asr/venv/lib/python3.13/site-packages/requests/adapters.py:667\u001b[39m, in \u001b[36mHTTPAdapter.send\u001b[39m\u001b[34m(self, request, stream, timeout, verify, cert, proxies)\u001b[39m\n\u001b[32m    666\u001b[39m \u001b[38;5;28;01mtry\u001b[39;00m:\n\u001b[32m--> \u001b[39m\u001b[32m667\u001b[39m     resp = \u001b[43mconn\u001b[49m\u001b[43m.\u001b[49m\u001b[43murlopen\u001b[49m\u001b[43m(\u001b[49m\n\u001b[32m    668\u001b[39m \u001b[43m        \u001b[49m\u001b[43mmethod\u001b[49m\u001b[43m=\u001b[49m\u001b[43mrequest\u001b[49m\u001b[43m.\u001b[49m\u001b[43mmethod\u001b[49m\u001b[43m,\u001b[49m\n\u001b[32m    669\u001b[39m \u001b[43m        \u001b[49m\u001b[43murl\u001b[49m\u001b[43m=\u001b[49m\u001b[43murl\u001b[49m\u001b[43m,\u001b[49m\n\u001b[32m    670\u001b[39m \u001b[43m        \u001b[49m\u001b[43mbody\u001b[49m\u001b[43m=\u001b[49m\u001b[43mrequest\u001b[49m\u001b[43m.\u001b[49m\u001b[43mbody\u001b[49m\u001b[43m,\u001b[49m\n\u001b[32m    671\u001b[39m \u001b[43m        \u001b[49m\u001b[43mheaders\u001b[49m\u001b[43m=\u001b[49m\u001b[43mrequest\u001b[49m\u001b[43m.\u001b[49m\u001b[43mheaders\u001b[49m\u001b[43m,\u001b[49m\n\u001b[32m    672\u001b[39m \u001b[43m        \u001b[49m\u001b[43mredirect\u001b[49m\u001b[43m=\u001b[49m\u001b[38;5;28;43;01mFalse\u001b[39;49;00m\u001b[43m,\u001b[49m\n\u001b[32m    673\u001b[39m \u001b[43m        \u001b[49m\u001b[43massert_same_host\u001b[49m\u001b[43m=\u001b[49m\u001b[38;5;28;43;01mFalse\u001b[39;49;00m\u001b[43m,\u001b[49m\n\u001b[32m    674\u001b[39m \u001b[43m        \u001b[49m\u001b[43mpreload_content\u001b[49m\u001b[43m=\u001b[49m\u001b[38;5;28;43;01mFalse\u001b[39;49;00m\u001b[43m,\u001b[49m\n\u001b[32m    675\u001b[39m \u001b[43m        \u001b[49m\u001b[43mdecode_content\u001b[49m\u001b[43m=\u001b[49m\u001b[38;5;28;43;01mFalse\u001b[39;49;00m\u001b[43m,\u001b[49m\n\u001b[32m    676\u001b[39m \u001b[43m        \u001b[49m\u001b[43mretries\u001b[49m\u001b[43m=\u001b[49m\u001b[38;5;28;43mself\u001b[39;49m\u001b[43m.\u001b[49m\u001b[43mmax_retries\u001b[49m\u001b[43m,\u001b[49m\n\u001b[32m    677\u001b[39m \u001b[43m        \u001b[49m\u001b[43mtimeout\u001b[49m\u001b[43m=\u001b[49m\u001b[43mtimeout\u001b[49m\u001b[43m,\u001b[49m\n\u001b[32m    678\u001b[39m \u001b[43m        \u001b[49m\u001b[43mchunked\u001b[49m\u001b[43m=\u001b[49m\u001b[43mchunked\u001b[49m\u001b[43m,\u001b[49m\n\u001b[32m    679\u001b[39m \u001b[43m    \u001b[49m\u001b[43m)\u001b[49m\n\u001b[32m    681\u001b[39m \u001b[38;5;28;01mexcept\u001b[39;00m (ProtocolError, \u001b[38;5;167;01mOSError\u001b[39;00m) \u001b[38;5;28;01mas\u001b[39;00m err:\n",
      "\u001b[36mFile \u001b[39m\u001b[32m~/Desktop/htx-xdata-asr/venv/lib/python3.13/site-packages/urllib3/connectionpool.py:841\u001b[39m, in \u001b[36mHTTPConnectionPool.urlopen\u001b[39m\u001b[34m(self, method, url, body, headers, retries, redirect, assert_same_host, timeout, pool_timeout, release_conn, chunked, body_pos, preload_content, decode_content, **response_kw)\u001b[39m\n\u001b[32m    839\u001b[39m     new_e = ProtocolError(\u001b[33m\"\u001b[39m\u001b[33mConnection aborted.\u001b[39m\u001b[33m\"\u001b[39m, new_e)\n\u001b[32m--> \u001b[39m\u001b[32m841\u001b[39m retries = \u001b[43mretries\u001b[49m\u001b[43m.\u001b[49m\u001b[43mincrement\u001b[49m\u001b[43m(\u001b[49m\n\u001b[32m    842\u001b[39m \u001b[43m    \u001b[49m\u001b[43mmethod\u001b[49m\u001b[43m,\u001b[49m\u001b[43m \u001b[49m\u001b[43murl\u001b[49m\u001b[43m,\u001b[49m\u001b[43m \u001b[49m\u001b[43merror\u001b[49m\u001b[43m=\u001b[49m\u001b[43mnew_e\u001b[49m\u001b[43m,\u001b[49m\u001b[43m \u001b[49m\u001b[43m_pool\u001b[49m\u001b[43m=\u001b[49m\u001b[38;5;28;43mself\u001b[39;49m\u001b[43m,\u001b[49m\u001b[43m \u001b[49m\u001b[43m_stacktrace\u001b[49m\u001b[43m=\u001b[49m\u001b[43msys\u001b[49m\u001b[43m.\u001b[49m\u001b[43mexc_info\u001b[49m\u001b[43m(\u001b[49m\u001b[43m)\u001b[49m\u001b[43m[\u001b[49m\u001b[32;43m2\u001b[39;49m\u001b[43m]\u001b[49m\n\u001b[32m    843\u001b[39m \u001b[43m\u001b[49m\u001b[43m)\u001b[49m\n\u001b[32m    844\u001b[39m retries.sleep()\n",
      "\u001b[36mFile \u001b[39m\u001b[32m~/Desktop/htx-xdata-asr/venv/lib/python3.13/site-packages/urllib3/util/retry.py:519\u001b[39m, in \u001b[36mRetry.increment\u001b[39m\u001b[34m(self, method, url, response, error, _pool, _stacktrace)\u001b[39m\n\u001b[32m    518\u001b[39m     reason = error \u001b[38;5;129;01mor\u001b[39;00m ResponseError(cause)\n\u001b[32m--> \u001b[39m\u001b[32m519\u001b[39m     \u001b[38;5;28;01mraise\u001b[39;00m MaxRetryError(_pool, url, reason) \u001b[38;5;28;01mfrom\u001b[39;00m\u001b[38;5;250m \u001b[39m\u001b[34;01mreason\u001b[39;00m  \u001b[38;5;66;03m# type: ignore[arg-type]\u001b[39;00m\n\u001b[32m    521\u001b[39m log.debug(\u001b[33m\"\u001b[39m\u001b[33mIncremented Retry for (url=\u001b[39m\u001b[33m'\u001b[39m\u001b[38;5;132;01m%s\u001b[39;00m\u001b[33m'\u001b[39m\u001b[33m): \u001b[39m\u001b[38;5;132;01m%r\u001b[39;00m\u001b[33m\"\u001b[39m, url, new_retry)\n",
      "\u001b[31mMaxRetryError\u001b[39m: HTTPSConnectionPool(host='huggingface.co', port=443): Max retries exceeded with url: /api/models/facebook/wav2vec2-large-960h/tree/main/additional_chat_templates?recursive=False&expand=False (Caused by NameResolutionError(\"<urllib3.connection.HTTPSConnection object at 0x3157b9a90>: Failed to resolve 'huggingface.co' ([Errno 8] nodename nor servname provided, or not known)\"))",
      "\nDuring handling of the above exception, another exception occurred:\n",
      "\u001b[31mConnectionError\u001b[39m                           Traceback (most recent call last)",
      "\u001b[36mCell\u001b[39m\u001b[36m \u001b[39m\u001b[32mIn[50]\u001b[39m\u001b[32m, line 1\u001b[39m\n\u001b[32m----> \u001b[39m\u001b[32m1\u001b[39m processor = \u001b[43mWav2Vec2Processor\u001b[49m\u001b[43m.\u001b[49m\u001b[43mfrom_pretrained\u001b[49m\u001b[43m(\u001b[49m\u001b[33;43m\"\u001b[39;49m\u001b[33;43mfacebook/wav2vec2-large-960h\u001b[39;49m\u001b[33;43m\"\u001b[39;49m\u001b[43m)\u001b[49m\n\u001b[32m      2\u001b[39m model = Wav2Vec2ForCTC.from_pretrained(\u001b[33m\"\u001b[39m\u001b[33mfacebook/wav2vec2-large-960h\u001b[39m\u001b[33m\"\u001b[39m)\n",
      "\u001b[36mFile \u001b[39m\u001b[32m~/Desktop/htx-xdata-asr/venv/lib/python3.13/site-packages/transformers/models/wav2vec2/processing_wav2vec2.py:71\u001b[39m, in \u001b[36mWav2Vec2Processor.from_pretrained\u001b[39m\u001b[34m(cls, pretrained_model_name_or_path, **kwargs)\u001b[39m\n\u001b[32m     61\u001b[39m warnings.warn(\n\u001b[32m     62\u001b[39m     \u001b[33mf\u001b[39m\u001b[33m\"\u001b[39m\u001b[33mLoading a tokenizer inside \u001b[39m\u001b[38;5;132;01m{\u001b[39;00m\u001b[38;5;28mcls\u001b[39m.\u001b[34m__name__\u001b[39m\u001b[38;5;132;01m}\u001b[39;00m\u001b[33m from a config that does not\u001b[39m\u001b[33m\"\u001b[39m\n\u001b[32m     63\u001b[39m     \u001b[33m\"\u001b[39m\u001b[33m include a `tokenizer_class` attribute is deprecated and will be \u001b[39m\u001b[33m\"\u001b[39m\n\u001b[32m   (...)\u001b[39m\u001b[32m     67\u001b[39m     \u001b[38;5;167;01mFutureWarning\u001b[39;00m,\n\u001b[32m     68\u001b[39m )\n\u001b[32m     70\u001b[39m feature_extractor = Wav2Vec2FeatureExtractor.from_pretrained(pretrained_model_name_or_path, **kwargs)\n\u001b[32m---> \u001b[39m\u001b[32m71\u001b[39m tokenizer = \u001b[43mWav2Vec2CTCTokenizer\u001b[49m\u001b[43m.\u001b[49m\u001b[43mfrom_pretrained\u001b[49m\u001b[43m(\u001b[49m\u001b[43mpretrained_model_name_or_path\u001b[49m\u001b[43m,\u001b[49m\u001b[43m \u001b[49m\u001b[43m*\u001b[49m\u001b[43m*\u001b[49m\u001b[43mkwargs\u001b[49m\u001b[43m)\u001b[49m\n\u001b[32m     73\u001b[39m \u001b[38;5;28;01mreturn\u001b[39;00m \u001b[38;5;28mcls\u001b[39m(feature_extractor=feature_extractor, tokenizer=tokenizer)\n",
      "\u001b[36mFile \u001b[39m\u001b[32m~/Desktop/htx-xdata-asr/venv/lib/python3.13/site-packages/transformers/tokenization_utils_base.py:1968\u001b[39m, in \u001b[36mPreTrainedTokenizerBase.from_pretrained\u001b[39m\u001b[34m(cls, pretrained_model_name_or_path, cache_dir, force_download, local_files_only, token, revision, trust_remote_code, *init_inputs, **kwargs)\u001b[39m\n\u001b[32m   1964\u001b[39m                         vocab_files[\u001b[33mf\u001b[39m\u001b[33m\"\u001b[39m\u001b[33mchat_template_\u001b[39m\u001b[38;5;132;01m{\u001b[39;00mtemplate_name\u001b[38;5;132;01m}\u001b[39;00m\u001b[33m\"\u001b[39m] = (\n\u001b[32m   1965\u001b[39m                             \u001b[33mf\u001b[39m\u001b[33m\"\u001b[39m\u001b[38;5;132;01m{\u001b[39;00mCHAT_TEMPLATE_DIR\u001b[38;5;132;01m}\u001b[39;00m\u001b[33m/\u001b[39m\u001b[38;5;132;01m{\u001b[39;00mtemplate_file.name\u001b[38;5;132;01m}\u001b[39;00m\u001b[33m\"\u001b[39m\n\u001b[32m   1966\u001b[39m                         )\n\u001b[32m   1967\u001b[39m             \u001b[38;5;28;01melse\u001b[39;00m:\n\u001b[32m-> \u001b[39m\u001b[32m1968\u001b[39m                 \u001b[38;5;28;01mfor\u001b[39;00m template \u001b[38;5;129;01min\u001b[39;00m \u001b[43mlist_repo_templates\u001b[49m\u001b[43m(\u001b[49m\n\u001b[32m   1969\u001b[39m \u001b[43m                    \u001b[49m\u001b[43mpretrained_model_name_or_path\u001b[49m\u001b[43m,\u001b[49m\n\u001b[32m   1970\u001b[39m \u001b[43m                    \u001b[49m\u001b[43mlocal_files_only\u001b[49m\u001b[43m=\u001b[49m\u001b[43mlocal_files_only\u001b[49m\u001b[43m,\u001b[49m\n\u001b[32m   1971\u001b[39m \u001b[43m                    \u001b[49m\u001b[43mrevision\u001b[49m\u001b[43m=\u001b[49m\u001b[43mrevision\u001b[49m\u001b[43m,\u001b[49m\n\u001b[32m   1972\u001b[39m \u001b[43m                    \u001b[49m\u001b[43mcache_dir\u001b[49m\u001b[43m=\u001b[49m\u001b[43mcache_dir\u001b[49m\u001b[43m,\u001b[49m\n\u001b[32m   1973\u001b[39m \u001b[43m                \u001b[49m\u001b[43m)\u001b[49m:\n\u001b[32m   1974\u001b[39m                     vocab_files[\u001b[33mf\u001b[39m\u001b[33m\"\u001b[39m\u001b[33mchat_template_\u001b[39m\u001b[38;5;132;01m{\u001b[39;00mtemplate\u001b[38;5;132;01m}\u001b[39;00m\u001b[33m\"\u001b[39m] = \u001b[33mf\u001b[39m\u001b[33m\"\u001b[39m\u001b[38;5;132;01m{\u001b[39;00mCHAT_TEMPLATE_DIR\u001b[38;5;132;01m}\u001b[39;00m\u001b[33m/\u001b[39m\u001b[38;5;132;01m{\u001b[39;00mtemplate\u001b[38;5;132;01m}\u001b[39;00m\u001b[33m.jinja\u001b[39m\u001b[33m\"\u001b[39m\n\u001b[32m   1976\u001b[39m \u001b[38;5;66;03m# Get files from url, cache, or disk depending on the case\u001b[39;00m\n",
      "\u001b[36mFile \u001b[39m\u001b[32m~/Desktop/htx-xdata-asr/venv/lib/python3.13/site-packages/transformers/utils/hub.py:163\u001b[39m, in \u001b[36mlist_repo_templates\u001b[39m\u001b[34m(repo_id, local_files_only, revision, cache_dir)\u001b[39m\n\u001b[32m    159\u001b[39m \u001b[38;5;28;01mif\u001b[39;00m \u001b[38;5;129;01mnot\u001b[39;00m local_files_only:\n\u001b[32m    160\u001b[39m     \u001b[38;5;28;01mtry\u001b[39;00m:\n\u001b[32m    161\u001b[39m         \u001b[38;5;28;01mreturn\u001b[39;00m \u001b[43m[\u001b[49m\n\u001b[32m    162\u001b[39m \u001b[43m            \u001b[49m\u001b[43mentry\u001b[49m\u001b[43m.\u001b[49m\u001b[43mpath\u001b[49m\u001b[43m.\u001b[49m\u001b[43mremoveprefix\u001b[49m\u001b[43m(\u001b[49m\u001b[33;43mf\u001b[39;49m\u001b[33;43m\"\u001b[39;49m\u001b[38;5;132;43;01m{\u001b[39;49;00m\u001b[43mCHAT_TEMPLATE_DIR\u001b[49m\u001b[38;5;132;43;01m}\u001b[39;49;00m\u001b[33;43m/\u001b[39;49m\u001b[33;43m\"\u001b[39;49m\u001b[43m)\u001b[49m\n\u001b[32m--> \u001b[39m\u001b[32m163\u001b[39m \u001b[43m            \u001b[49m\u001b[38;5;28;43;01mfor\u001b[39;49;00m\u001b[43m \u001b[49m\u001b[43mentry\u001b[49m\u001b[43m \u001b[49m\u001b[38;5;129;43;01min\u001b[39;49;00m\u001b[43m \u001b[49m\u001b[43mlist_repo_tree\u001b[49m\u001b[43m(\u001b[49m\n\u001b[32m    164\u001b[39m \u001b[43m                \u001b[49m\u001b[43mrepo_id\u001b[49m\u001b[43m=\u001b[49m\u001b[43mrepo_id\u001b[49m\u001b[43m,\u001b[49m\u001b[43m \u001b[49m\u001b[43mrevision\u001b[49m\u001b[43m=\u001b[49m\u001b[43mrevision\u001b[49m\u001b[43m,\u001b[49m\u001b[43m \u001b[49m\u001b[43mpath_in_repo\u001b[49m\u001b[43m=\u001b[49m\u001b[43mCHAT_TEMPLATE_DIR\u001b[49m\u001b[43m,\u001b[49m\u001b[43m \u001b[49m\u001b[43mrecursive\u001b[49m\u001b[43m=\u001b[49m\u001b[38;5;28;43;01mFalse\u001b[39;49;00m\n\u001b[32m    165\u001b[39m \u001b[43m            \u001b[49m\u001b[43m)\u001b[49m\n\u001b[32m    166\u001b[39m \u001b[43m            \u001b[49m\u001b[38;5;28;43;01mif\u001b[39;49;00m\u001b[43m \u001b[49m\u001b[43mentry\u001b[49m\u001b[43m.\u001b[49m\u001b[43mpath\u001b[49m\u001b[43m.\u001b[49m\u001b[43mendswith\u001b[49m\u001b[43m(\u001b[49m\u001b[33;43m\"\u001b[39;49m\u001b[33;43m.jinja\u001b[39;49m\u001b[33;43m\"\u001b[39;49m\u001b[43m)\u001b[49m\n\u001b[32m    167\u001b[39m \u001b[43m        \u001b[49m\u001b[43m]\u001b[49m\n\u001b[32m    168\u001b[39m     \u001b[38;5;28;01mexcept\u001b[39;00m (GatedRepoError, RepositoryNotFoundError, RevisionNotFoundError):\n\u001b[32m    169\u001b[39m         \u001b[38;5;28;01mraise\u001b[39;00m  \u001b[38;5;66;03m# valid errors => do not catch\u001b[39;00m\n",
      "\u001b[36mFile \u001b[39m\u001b[32m~/Desktop/htx-xdata-asr/venv/lib/python3.13/site-packages/huggingface_hub/hf_api.py:3140\u001b[39m, in \u001b[36mHfApi.list_repo_tree\u001b[39m\u001b[34m(self, repo_id, path_in_repo, recursive, expand, revision, repo_type, token)\u001b[39m\n\u001b[32m   3138\u001b[39m encoded_path_in_repo = \u001b[33m\"\u001b[39m\u001b[33m/\u001b[39m\u001b[33m\"\u001b[39m + quote(path_in_repo, safe=\u001b[33m\"\u001b[39m\u001b[33m\"\u001b[39m) \u001b[38;5;28;01mif\u001b[39;00m path_in_repo \u001b[38;5;28;01melse\u001b[39;00m \u001b[33m\"\u001b[39m\u001b[33m\"\u001b[39m\n\u001b[32m   3139\u001b[39m tree_url = \u001b[33mf\u001b[39m\u001b[33m\"\u001b[39m\u001b[38;5;132;01m{\u001b[39;00m\u001b[38;5;28mself\u001b[39m.endpoint\u001b[38;5;132;01m}\u001b[39;00m\u001b[33m/api/\u001b[39m\u001b[38;5;132;01m{\u001b[39;00mrepo_type\u001b[38;5;132;01m}\u001b[39;00m\u001b[33ms/\u001b[39m\u001b[38;5;132;01m{\u001b[39;00mrepo_id\u001b[38;5;132;01m}\u001b[39;00m\u001b[33m/tree/\u001b[39m\u001b[38;5;132;01m{\u001b[39;00mrevision\u001b[38;5;132;01m}\u001b[39;00m\u001b[38;5;132;01m{\u001b[39;00mencoded_path_in_repo\u001b[38;5;132;01m}\u001b[39;00m\u001b[33m\"\u001b[39m\n\u001b[32m-> \u001b[39m\u001b[32m3140\u001b[39m \u001b[43m\u001b[49m\u001b[38;5;28;43;01mfor\u001b[39;49;00m\u001b[43m \u001b[49m\u001b[43mpath_info\u001b[49m\u001b[43m \u001b[49m\u001b[38;5;129;43;01min\u001b[39;49;00m\u001b[43m \u001b[49m\u001b[43mpaginate\u001b[49m\u001b[43m(\u001b[49m\u001b[43mpath\u001b[49m\u001b[43m=\u001b[49m\u001b[43mtree_url\u001b[49m\u001b[43m,\u001b[49m\u001b[43m \u001b[49m\u001b[43mheaders\u001b[49m\u001b[43m=\u001b[49m\u001b[43mheaders\u001b[49m\u001b[43m,\u001b[49m\u001b[43m \u001b[49m\u001b[43mparams\u001b[49m\u001b[43m=\u001b[49m\u001b[43m{\u001b[49m\u001b[33;43m\"\u001b[39;49m\u001b[33;43mrecursive\u001b[39;49m\u001b[33;43m\"\u001b[39;49m\u001b[43m:\u001b[49m\u001b[43m \u001b[49m\u001b[43mrecursive\u001b[49m\u001b[43m,\u001b[49m\u001b[43m \u001b[49m\u001b[33;43m\"\u001b[39;49m\u001b[33;43mexpand\u001b[39;49m\u001b[33;43m\"\u001b[39;49m\u001b[43m:\u001b[49m\u001b[43m \u001b[49m\u001b[43mexpand\u001b[49m\u001b[43m}\u001b[49m\u001b[43m)\u001b[49m\u001b[43m:\u001b[49m\n\u001b[32m   3141\u001b[39m \u001b[43m    \u001b[49m\u001b[38;5;28;43;01myield\u001b[39;49;00m\u001b[43m \u001b[49m\u001b[43m(\u001b[49m\u001b[43mRepoFile\u001b[49m\u001b[43m(\u001b[49m\u001b[43m*\u001b[49m\u001b[43m*\u001b[49m\u001b[43mpath_info\u001b[49m\u001b[43m)\u001b[49m\u001b[43m \u001b[49m\u001b[38;5;28;43;01mif\u001b[39;49;00m\u001b[43m \u001b[49m\u001b[43mpath_info\u001b[49m\u001b[43m[\u001b[49m\u001b[33;43m\"\u001b[39;49m\u001b[33;43mtype\u001b[39;49m\u001b[33;43m\"\u001b[39;49m\u001b[43m]\u001b[49m\u001b[43m \u001b[49m\u001b[43m==\u001b[49m\u001b[43m \u001b[49m\u001b[33;43m\"\u001b[39;49m\u001b[33;43mfile\u001b[39;49m\u001b[33;43m\"\u001b[39;49m\u001b[43m \u001b[49m\u001b[38;5;28;43;01melse\u001b[39;49;00m\u001b[43m \u001b[49m\u001b[43mRepoFolder\u001b[49m\u001b[43m(\u001b[49m\u001b[43m*\u001b[49m\u001b[43m*\u001b[49m\u001b[43mpath_info\u001b[49m\u001b[43m)\u001b[49m\u001b[43m)\u001b[49m\n",
      "\u001b[36mFile \u001b[39m\u001b[32m~/Desktop/htx-xdata-asr/venv/lib/python3.13/site-packages/huggingface_hub/utils/_pagination.py:36\u001b[39m, in \u001b[36mpaginate\u001b[39m\u001b[34m(path, params, headers)\u001b[39m\n\u001b[32m     28\u001b[39m \u001b[38;5;250m\u001b[39m\u001b[33;03m\"\"\"Fetch a list of models/datasets/spaces and paginate through results.\u001b[39;00m\n\u001b[32m     29\u001b[39m \n\u001b[32m     30\u001b[39m \u001b[33;03mThis is using the same \"Link\" header format as GitHub.\u001b[39;00m\n\u001b[32m   (...)\u001b[39m\u001b[32m     33\u001b[39m \u001b[33;03m- https://docs.github.com/en/rest/guides/traversing-with-pagination#link-header\u001b[39;00m\n\u001b[32m     34\u001b[39m \u001b[33;03m\"\"\"\u001b[39;00m\n\u001b[32m     35\u001b[39m session = get_session()\n\u001b[32m---> \u001b[39m\u001b[32m36\u001b[39m r = \u001b[43msession\u001b[49m\u001b[43m.\u001b[49m\u001b[43mget\u001b[49m\u001b[43m(\u001b[49m\u001b[43mpath\u001b[49m\u001b[43m,\u001b[49m\u001b[43m \u001b[49m\u001b[43mparams\u001b[49m\u001b[43m=\u001b[49m\u001b[43mparams\u001b[49m\u001b[43m,\u001b[49m\u001b[43m \u001b[49m\u001b[43mheaders\u001b[49m\u001b[43m=\u001b[49m\u001b[43mheaders\u001b[49m\u001b[43m)\u001b[49m\n\u001b[32m     37\u001b[39m hf_raise_for_status(r)\n\u001b[32m     38\u001b[39m \u001b[38;5;28;01myield from\u001b[39;00m r.json()\n",
      "\u001b[36mFile \u001b[39m\u001b[32m~/Desktop/htx-xdata-asr/venv/lib/python3.13/site-packages/requests/sessions.py:602\u001b[39m, in \u001b[36mSession.get\u001b[39m\u001b[34m(self, url, **kwargs)\u001b[39m\n\u001b[32m    594\u001b[39m \u001b[38;5;250m\u001b[39m\u001b[33mr\u001b[39m\u001b[33;03m\"\"\"Sends a GET request. Returns :class:`Response` object.\u001b[39;00m\n\u001b[32m    595\u001b[39m \n\u001b[32m    596\u001b[39m \u001b[33;03m:param url: URL for the new :class:`Request` object.\u001b[39;00m\n\u001b[32m    597\u001b[39m \u001b[33;03m:param \\*\\*kwargs: Optional arguments that ``request`` takes.\u001b[39;00m\n\u001b[32m    598\u001b[39m \u001b[33;03m:rtype: requests.Response\u001b[39;00m\n\u001b[32m    599\u001b[39m \u001b[33;03m\"\"\"\u001b[39;00m\n\u001b[32m    601\u001b[39m kwargs.setdefault(\u001b[33m\"\u001b[39m\u001b[33mallow_redirects\u001b[39m\u001b[33m\"\u001b[39m, \u001b[38;5;28;01mTrue\u001b[39;00m)\n\u001b[32m--> \u001b[39m\u001b[32m602\u001b[39m \u001b[38;5;28;01mreturn\u001b[39;00m \u001b[38;5;28;43mself\u001b[39;49m\u001b[43m.\u001b[49m\u001b[43mrequest\u001b[49m\u001b[43m(\u001b[49m\u001b[33;43m\"\u001b[39;49m\u001b[33;43mGET\u001b[39;49m\u001b[33;43m\"\u001b[39;49m\u001b[43m,\u001b[49m\u001b[43m \u001b[49m\u001b[43murl\u001b[49m\u001b[43m,\u001b[49m\u001b[43m \u001b[49m\u001b[43m*\u001b[49m\u001b[43m*\u001b[49m\u001b[43mkwargs\u001b[49m\u001b[43m)\u001b[49m\n",
      "\u001b[36mFile \u001b[39m\u001b[32m~/Desktop/htx-xdata-asr/venv/lib/python3.13/site-packages/requests/sessions.py:589\u001b[39m, in \u001b[36mSession.request\u001b[39m\u001b[34m(self, method, url, params, data, headers, cookies, files, auth, timeout, allow_redirects, proxies, hooks, stream, verify, cert, json)\u001b[39m\n\u001b[32m    584\u001b[39m send_kwargs = {\n\u001b[32m    585\u001b[39m     \u001b[33m\"\u001b[39m\u001b[33mtimeout\u001b[39m\u001b[33m\"\u001b[39m: timeout,\n\u001b[32m    586\u001b[39m     \u001b[33m\"\u001b[39m\u001b[33mallow_redirects\u001b[39m\u001b[33m\"\u001b[39m: allow_redirects,\n\u001b[32m    587\u001b[39m }\n\u001b[32m    588\u001b[39m send_kwargs.update(settings)\n\u001b[32m--> \u001b[39m\u001b[32m589\u001b[39m resp = \u001b[38;5;28;43mself\u001b[39;49m\u001b[43m.\u001b[49m\u001b[43msend\u001b[49m\u001b[43m(\u001b[49m\u001b[43mprep\u001b[49m\u001b[43m,\u001b[49m\u001b[43m \u001b[49m\u001b[43m*\u001b[49m\u001b[43m*\u001b[49m\u001b[43msend_kwargs\u001b[49m\u001b[43m)\u001b[49m\n\u001b[32m    591\u001b[39m \u001b[38;5;28;01mreturn\u001b[39;00m resp\n",
      "\u001b[36mFile \u001b[39m\u001b[32m~/Desktop/htx-xdata-asr/venv/lib/python3.13/site-packages/requests/sessions.py:703\u001b[39m, in \u001b[36mSession.send\u001b[39m\u001b[34m(self, request, **kwargs)\u001b[39m\n\u001b[32m    700\u001b[39m start = preferred_clock()\n\u001b[32m    702\u001b[39m \u001b[38;5;66;03m# Send the request\u001b[39;00m\n\u001b[32m--> \u001b[39m\u001b[32m703\u001b[39m r = \u001b[43madapter\u001b[49m\u001b[43m.\u001b[49m\u001b[43msend\u001b[49m\u001b[43m(\u001b[49m\u001b[43mrequest\u001b[49m\u001b[43m,\u001b[49m\u001b[43m \u001b[49m\u001b[43m*\u001b[49m\u001b[43m*\u001b[49m\u001b[43mkwargs\u001b[49m\u001b[43m)\u001b[49m\n\u001b[32m    705\u001b[39m \u001b[38;5;66;03m# Total elapsed time of the request (approximately)\u001b[39;00m\n\u001b[32m    706\u001b[39m elapsed = preferred_clock() - start\n",
      "\u001b[36mFile \u001b[39m\u001b[32m~/Desktop/htx-xdata-asr/venv/lib/python3.13/site-packages/requests/adapters.py:700\u001b[39m, in \u001b[36mHTTPAdapter.send\u001b[39m\u001b[34m(self, request, stream, timeout, verify, cert, proxies)\u001b[39m\n\u001b[32m    696\u001b[39m     \u001b[38;5;28;01mif\u001b[39;00m \u001b[38;5;28misinstance\u001b[39m(e.reason, _SSLError):\n\u001b[32m    697\u001b[39m         \u001b[38;5;66;03m# This branch is for urllib3 v1.22 and later.\u001b[39;00m\n\u001b[32m    698\u001b[39m         \u001b[38;5;28;01mraise\u001b[39;00m SSLError(e, request=request)\n\u001b[32m--> \u001b[39m\u001b[32m700\u001b[39m     \u001b[38;5;28;01mraise\u001b[39;00m \u001b[38;5;167;01mConnectionError\u001b[39;00m(e, request=request)\n\u001b[32m    702\u001b[39m \u001b[38;5;28;01mexcept\u001b[39;00m ClosedPoolError \u001b[38;5;28;01mas\u001b[39;00m e:\n\u001b[32m    703\u001b[39m     \u001b[38;5;28;01mraise\u001b[39;00m \u001b[38;5;167;01mConnectionError\u001b[39;00m(e, request=request)\n",
      "\u001b[31mConnectionError\u001b[39m: HTTPSConnectionPool(host='huggingface.co', port=443): Max retries exceeded with url: /api/models/facebook/wav2vec2-large-960h/tree/main/additional_chat_templates?recursive=False&expand=False (Caused by NameResolutionError(\"<urllib3.connection.HTTPSConnection object at 0x3157b9a90>: Failed to resolve 'huggingface.co' ([Errno 8] nodename nor servname provided, or not known)\"))"
     ]
    }
   ],
   "source": [
    "processor = Wav2Vec2Processor.from_pretrained(\"facebook/wav2vec2-large-960h\")\n",
    "model = Wav2Vec2ForCTC.from_pretrained(\"facebook/wav2vec2-large-960h\")"
   ]
  },
  {
   "cell_type": "code",
   "execution_count": 53,
   "id": "8d9d70b6-6a11-4b23-9f74-a67a6ea2ded6",
   "metadata": {},
   "outputs": [
    {
     "name": "stdout",
     "output_type": "stream",
     "text": [
      "Prediction:  \n",
      "Reference:  THEY MOUNTED THEIR HORSES\n"
     ]
    }
   ],
   "source": [
    "input_dict = processor(validation_dataset[0][\"input_values\"], sampling_rate=16_000, return_tensors=\"pt\", padding=True)\n",
    "logits = model(input_dict.input_values).logits\n",
    "pred_ids = torch.argmax(logits, dim=-1)[0]\n",
    "\n",
    "print(\"Prediction: \", processor.decode(pred_ids))\n",
    "print(\"Reference: \", common_voice_train_validation[0][\"text\"])"
   ]
  },
  {
   "cell_type": "markdown",
   "id": "1f33f667-59ac-4330-b34d-e2960d6579d3",
   "metadata": {},
   "source": [
    "## Evaluation"
   ]
  },
  {
   "cell_type": "code",
   "execution_count": null,
   "id": "718a8a93-64db-415e-b24e-20349c1b0e34",
   "metadata": {},
   "outputs": [],
   "source": []
  }
 ],
 "metadata": {
  "kernelspec": {
   "display_name": "Python 3 (ipykernel)",
   "language": "python",
   "name": "python3"
  },
  "language_info": {
   "codemirror_mode": {
    "name": "ipython",
    "version": 3
   },
   "file_extension": ".py",
   "mimetype": "text/x-python",
   "name": "python",
   "nbconvert_exporter": "python",
   "pygments_lexer": "ipython3",
   "version": "3.13.3"
  }
 },
 "nbformat": 4,
 "nbformat_minor": 5
}
