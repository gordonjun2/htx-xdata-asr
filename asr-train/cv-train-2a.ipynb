{
 "cells": [
  {
   "cell_type": "markdown",
   "id": "dc2a6108-f0cd-428f-bd23-9ad75926fbe9",
   "metadata": {},
   "source": [
    "## Setup"
   ]
  },
  {
   "cell_type": "markdown",
   "id": "883bd111-59e5-4f28-9b5d-86f8df20f186",
   "metadata": {},
   "source": [
    "### Install required libraries"
   ]
  },
  {
   "cell_type": "markdown",
   "id": "a4e29225-f373-4129-bdba-fa99bbe5ad8a",
   "metadata": {},
   "source": [
    "The libraries should already be installed in the terminal after running \n",
    "```\n",
    "pip install -r requirements.txt\n",
    "```\n",
    "in the root directory, but this will be useful if the notebook is used in other environments."
   ]
  },
  {
   "cell_type": "code",
   "execution_count": 1,
   "id": "b4962a06-0646-452f-8e76-d3795be3350b",
   "metadata": {},
   "outputs": [],
   "source": [
    "%%capture\n",
    "!pip install datasets==3.6.0\n",
    "!pip install transformers==4.52.4\n",
    "!pip install huggingface-hub==0.32.3\n",
    "!pip install torchaudio==2.7.0\n",
    "!pip install librosa==0.11.0\n",
    "!pip install jiwer==3.1.0\n",
    "!pip install evaluate==0.4.3"
   ]
  },
  {
   "cell_type": "markdown",
   "id": "c7d4b488-41ba-44ad-9833-b3cfcb647cfe",
   "metadata": {},
   "source": [
    "### Import required libraries"
   ]
  },
  {
   "cell_type": "code",
   "execution_count": 4,
   "id": "39d0204c-a57c-4abc-8f30-222fa0d2d625",
   "metadata": {},
   "outputs": [],
   "source": [
    "from datasets import Dataset, Audio, load_from_disk\n",
    "import random\n",
    "import evaluate\n",
    "import pandas as pd\n",
    "import IPython.display as ipd\n",
    "import re\n",
    "import json\n",
    "from transformers import (Wav2Vec2ForCTC, Wav2Vec2CTCTokenizer, Wav2Vec2FeatureExtractor, Wav2Vec2Processor, \n",
    "                            TrainingArguments, Trainer, AutoModelForCTC)\n",
    "import numpy as np\n",
    "import torch\n",
    "from dataclasses import dataclass, field\n",
    "from typing import Any, Dict, List, Optional, Union\n",
    "import os\n",
    "\n",
    "pd.set_option('display.max_colwidth', 100)"
   ]
  },
  {
   "cell_type": "markdown",
   "id": "38a01bfa-563e-4d14-bd46-eb6ab87dfc0c",
   "metadata": {},
   "source": [
    "### Defining helper functions"
   ]
  },
  {
   "cell_type": "markdown",
   "id": "7fd910af-720d-487a-9147-3b504aea28a2",
   "metadata": {},
   "source": [
    "## Data Preprocessing"
   ]
  },
  {
   "cell_type": "markdown",
   "id": "38a96540-7cb5-4d99-b576-03661502a1d3",
   "metadata": {},
   "source": [
    "Instead of using ```load_dataset``` from\n",
    "```\n",
    "from datasets import load_dataset\n",
    "```\n",
    "to load Common Voice data, we load the data directly from our project directory since it is already copied inside."
   ]
  },
  {
   "cell_type": "markdown",
   "id": "16a154c8-25e3-4ab4-ba13-49745a99876f",
   "metadata": {},
   "source": [
    "### Load labels"
   ]
  },
  {
   "cell_type": "code",
   "execution_count": 5,
   "id": "0cb41e95-b3fc-42bc-b276-b9c7cf36f520",
   "metadata": {},
   "outputs": [
    {
     "data": {
      "text/html": [
       "<div>\n",
       "<style scoped>\n",
       "    .dataframe tbody tr th:only-of-type {\n",
       "        vertical-align: middle;\n",
       "    }\n",
       "\n",
       "    .dataframe tbody tr th {\n",
       "        vertical-align: top;\n",
       "    }\n",
       "\n",
       "    .dataframe thead th {\n",
       "        text-align: right;\n",
       "    }\n",
       "</style>\n",
       "<table border=\"1\" class=\"dataframe\">\n",
       "  <thead>\n",
       "    <tr style=\"text-align: right;\">\n",
       "      <th></th>\n",
       "      <th>filename</th>\n",
       "      <th>text</th>\n",
       "      <th>up_votes</th>\n",
       "      <th>down_votes</th>\n",
       "      <th>age</th>\n",
       "      <th>gender</th>\n",
       "      <th>accent</th>\n",
       "      <th>duration</th>\n",
       "    </tr>\n",
       "  </thead>\n",
       "  <tbody>\n",
       "    <tr>\n",
       "      <th>0</th>\n",
       "      <td>cv-valid-train/sample-000000.mp3</td>\n",
       "      <td>learn to recognize omens and follow them the old king had said</td>\n",
       "      <td>1</td>\n",
       "      <td>0</td>\n",
       "      <td>NaN</td>\n",
       "      <td>NaN</td>\n",
       "      <td>NaN</td>\n",
       "      <td>NaN</td>\n",
       "    </tr>\n",
       "    <tr>\n",
       "      <th>1</th>\n",
       "      <td>cv-valid-train/sample-000001.mp3</td>\n",
       "      <td>everything in the universe evolved he said</td>\n",
       "      <td>1</td>\n",
       "      <td>0</td>\n",
       "      <td>NaN</td>\n",
       "      <td>NaN</td>\n",
       "      <td>NaN</td>\n",
       "      <td>NaN</td>\n",
       "    </tr>\n",
       "    <tr>\n",
       "      <th>2</th>\n",
       "      <td>cv-valid-train/sample-000002.mp3</td>\n",
       "      <td>you came so that you could learn about your dreams said the old woman</td>\n",
       "      <td>1</td>\n",
       "      <td>0</td>\n",
       "      <td>NaN</td>\n",
       "      <td>NaN</td>\n",
       "      <td>NaN</td>\n",
       "      <td>NaN</td>\n",
       "    </tr>\n",
       "    <tr>\n",
       "      <th>3</th>\n",
       "      <td>cv-valid-train/sample-000003.mp3</td>\n",
       "      <td>so now i fear nothing because it was those omens that brought you to me</td>\n",
       "      <td>1</td>\n",
       "      <td>0</td>\n",
       "      <td>NaN</td>\n",
       "      <td>NaN</td>\n",
       "      <td>NaN</td>\n",
       "      <td>NaN</td>\n",
       "    </tr>\n",
       "    <tr>\n",
       "      <th>4</th>\n",
       "      <td>cv-valid-train/sample-000004.mp3</td>\n",
       "      <td>if you start your emails with greetings let me be the first to welcome you to earth</td>\n",
       "      <td>3</td>\n",
       "      <td>2</td>\n",
       "      <td>NaN</td>\n",
       "      <td>NaN</td>\n",
       "      <td>NaN</td>\n",
       "      <td>NaN</td>\n",
       "    </tr>\n",
       "  </tbody>\n",
       "</table>\n",
       "</div>"
      ],
      "text/plain": [
       "                           filename  \\\n",
       "0  cv-valid-train/sample-000000.mp3   \n",
       "1  cv-valid-train/sample-000001.mp3   \n",
       "2  cv-valid-train/sample-000002.mp3   \n",
       "3  cv-valid-train/sample-000003.mp3   \n",
       "4  cv-valid-train/sample-000004.mp3   \n",
       "\n",
       "                                                                                  text  \\\n",
       "0                       learn to recognize omens and follow them the old king had said   \n",
       "1                                           everything in the universe evolved he said   \n",
       "2                you came so that you could learn about your dreams said the old woman   \n",
       "3              so now i fear nothing because it was those omens that brought you to me   \n",
       "4  if you start your emails with greetings let me be the first to welcome you to earth   \n",
       "\n",
       "   up_votes  down_votes  age gender accent  duration  \n",
       "0         1           0  NaN    NaN    NaN       NaN  \n",
       "1         1           0  NaN    NaN    NaN       NaN  \n",
       "2         1           0  NaN    NaN    NaN       NaN  \n",
       "3         1           0  NaN    NaN    NaN       NaN  \n",
       "4         3           2  NaN    NaN    NaN       NaN  "
      ]
     },
     "execution_count": 5,
     "metadata": {},
     "output_type": "execute_result"
    }
   ],
   "source": [
    "dataset_split = 'cv-valid-train'\n",
    "cv_csv_file = f'../datasets/common_voice/{dataset_split}.csv'\n",
    "train_df = pd.read_csv(cv_csv_file)\n",
    "train_df.head(5)"
   ]
  },
  {
   "cell_type": "markdown",
   "id": "d1a24b78-4839-4d4b-a4e9-2c92bedd5cda",
   "metadata": {},
   "source": [
    "### Clean labels"
   ]
  },
  {
   "cell_type": "code",
   "execution_count": 6,
   "id": "2ee9b9e5-3436-4a51-b0f9-4a433feeccdb",
   "metadata": {},
   "outputs": [
    {
     "data": {
      "text/html": [
       "<div>\n",
       "<style scoped>\n",
       "    .dataframe tbody tr th:only-of-type {\n",
       "        vertical-align: middle;\n",
       "    }\n",
       "\n",
       "    .dataframe tbody tr th {\n",
       "        vertical-align: top;\n",
       "    }\n",
       "\n",
       "    .dataframe thead th {\n",
       "        text-align: right;\n",
       "    }\n",
       "</style>\n",
       "<table border=\"1\" class=\"dataframe\">\n",
       "  <thead>\n",
       "    <tr style=\"text-align: right;\">\n",
       "      <th></th>\n",
       "      <th>filename</th>\n",
       "      <th>text</th>\n",
       "      <th>path</th>\n",
       "    </tr>\n",
       "  </thead>\n",
       "  <tbody>\n",
       "    <tr>\n",
       "      <th>0</th>\n",
       "      <td>cv-valid-train/sample-000000.mp3</td>\n",
       "      <td>learn to recognize omens and follow them the old king had said</td>\n",
       "      <td>../datasets/common_voice/cv-valid-train/cv-valid-train/sample-000000.mp3</td>\n",
       "    </tr>\n",
       "    <tr>\n",
       "      <th>1</th>\n",
       "      <td>cv-valid-train/sample-000001.mp3</td>\n",
       "      <td>everything in the universe evolved he said</td>\n",
       "      <td>../datasets/common_voice/cv-valid-train/cv-valid-train/sample-000001.mp3</td>\n",
       "    </tr>\n",
       "    <tr>\n",
       "      <th>2</th>\n",
       "      <td>cv-valid-train/sample-000002.mp3</td>\n",
       "      <td>you came so that you could learn about your dreams said the old woman</td>\n",
       "      <td>../datasets/common_voice/cv-valid-train/cv-valid-train/sample-000002.mp3</td>\n",
       "    </tr>\n",
       "    <tr>\n",
       "      <th>3</th>\n",
       "      <td>cv-valid-train/sample-000003.mp3</td>\n",
       "      <td>so now i fear nothing because it was those omens that brought you to me</td>\n",
       "      <td>../datasets/common_voice/cv-valid-train/cv-valid-train/sample-000003.mp3</td>\n",
       "    </tr>\n",
       "    <tr>\n",
       "      <th>4</th>\n",
       "      <td>cv-valid-train/sample-000004.mp3</td>\n",
       "      <td>if you start your emails with greetings let me be the first to welcome you to earth</td>\n",
       "      <td>../datasets/common_voice/cv-valid-train/cv-valid-train/sample-000004.mp3</td>\n",
       "    </tr>\n",
       "  </tbody>\n",
       "</table>\n",
       "</div>"
      ],
      "text/plain": [
       "                           filename  \\\n",
       "0  cv-valid-train/sample-000000.mp3   \n",
       "1  cv-valid-train/sample-000001.mp3   \n",
       "2  cv-valid-train/sample-000002.mp3   \n",
       "3  cv-valid-train/sample-000003.mp3   \n",
       "4  cv-valid-train/sample-000004.mp3   \n",
       "\n",
       "                                                                                  text  \\\n",
       "0                       learn to recognize omens and follow them the old king had said   \n",
       "1                                           everything in the universe evolved he said   \n",
       "2                you came so that you could learn about your dreams said the old woman   \n",
       "3              so now i fear nothing because it was those omens that brought you to me   \n",
       "4  if you start your emails with greetings let me be the first to welcome you to earth   \n",
       "\n",
       "                                                                       path  \n",
       "0  ../datasets/common_voice/cv-valid-train/cv-valid-train/sample-000000.mp3  \n",
       "1  ../datasets/common_voice/cv-valid-train/cv-valid-train/sample-000001.mp3  \n",
       "2  ../datasets/common_voice/cv-valid-train/cv-valid-train/sample-000002.mp3  \n",
       "3  ../datasets/common_voice/cv-valid-train/cv-valid-train/sample-000003.mp3  \n",
       "4  ../datasets/common_voice/cv-valid-train/cv-valid-train/sample-000004.mp3  "
      ]
     },
     "execution_count": 6,
     "metadata": {},
     "output_type": "execute_result"
    }
   ],
   "source": [
    "cleaned_train_df = train_df.drop(['up_votes', 'down_votes', 'age', 'gender', 'accent', 'duration'], axis=1)\n",
    "audio_files_directory = f'../datasets/common_voice/{dataset_split}'\n",
    "cleaned_train_df[\"path\"] = cleaned_train_df[\"filename\"].apply(lambda x: os.path.join(audio_files_directory, x))\n",
    "cleaned_train_df.head(5)"
   ]
  },
  {
   "cell_type": "markdown",
   "id": "ca631761-8f15-4402-82e2-fea4281d24b0",
   "metadata": {},
   "source": [
    "### Inspect text"
   ]
  },
  {
   "cell_type": "markdown",
   "id": "26c84827-962a-4f93-b46a-f5ef84c96e64",
   "metadata": {},
   "source": [
    "Check if 'text' contains uppercase alphabets and special characters that cannot be transcribed (eg. colon, comma, percentage, etc). We want to keep whitespaces because the model has to learn to predict when a full word is finished. If not, the output will be a sequence of characters with no spacing. Also, the apostrophes are kept because of pronounciation difference. The output shows that there is none, so the data is cleaned."
   ]
  },
  {
   "cell_type": "code",
   "execution_count": 7,
   "id": "afc5362c-5769-4f2c-8b8f-1208e7878378",
   "metadata": {},
   "outputs": [
    {
     "name": "stdout",
     "output_type": "stream",
     "text": [
      "Empty DataFrame\n",
      "Columns: [filename, text, path]\n",
      "Index: []\n"
     ]
    }
   ],
   "source": [
    "# This pattern keeps only rows with characters that are NOT lowercase letter, whitespace character, or a single quote '.\n",
    "special_chars_pattern = r\"[^a-z\\s']\"\n",
    "\n",
    "df_with_special_chars = cleaned_train_df[cleaned_train_df['text'].str.contains(special_chars_pattern, regex=True, na=False)]\n",
    "\n",
    "print(df_with_special_chars.head(5))"
   ]
  },
  {
   "cell_type": "markdown",
   "id": "5c6c9ac4-4aa5-4e2e-b472-db04b26fab7f",
   "metadata": {},
   "source": [
    "### Load and decode audio"
   ]
  },
  {
   "cell_type": "code",
   "execution_count": 8,
   "id": "83acc7be-342b-4624-a297-e2420ea95d91",
   "metadata": {},
   "outputs": [],
   "source": [
    "cleaned_train_df = cleaned_train_df.rename(columns={\"path\": \"audio\"})\n",
    "common_voice_train_original = Dataset.from_pandas(cleaned_train_df)\n",
    "common_voice_train_temp = common_voice_train_original.cast_column(\"audio\", Audio())"
   ]
  },
  {
   "cell_type": "code",
   "execution_count": 9,
   "id": "d6fa82e1-9de1-4664-a412-b3bcc511ca5a",
   "metadata": {},
   "outputs": [
    {
     "data": {
      "text/plain": [
       "{'path': '../datasets/common_voice/cv-valid-train/cv-valid-train/sample-000000.mp3',\n",
       " 'array': array([ 0.00000000e+00, -2.39675359e-13, -2.89490112e-14, ...,\n",
       "         4.10622742e-04,  7.94679625e-04,  7.57523230e-04], shape=(196992,)),\n",
       " 'sampling_rate': 48000}"
      ]
     },
     "execution_count": 9,
     "metadata": {},
     "output_type": "execute_result"
    }
   ],
   "source": [
    "common_voice_train_temp[0][\"audio\"]"
   ]
  },
  {
   "cell_type": "markdown",
   "id": "829b6049-1a6a-4a53-b63e-71ef6d6276aa",
   "metadata": {},
   "source": [
    "The output of the cell above shows that the audio data is loaded with a sampling rate of 48 kHz, but 16 kHz is expected by the ```wav2vec2-large-960h``` model. Hence, we have to resample the audio data."
   ]
  },
  {
   "cell_type": "code",
   "execution_count": 10,
   "id": "34400d1a-c6a2-4ea5-a15a-cd465853d023",
   "metadata": {},
   "outputs": [],
   "source": [
    "common_voice_train_temp = common_voice_train_original.cast_column(\"audio\", Audio(sampling_rate=16_000))"
   ]
  },
  {
   "cell_type": "code",
   "execution_count": 11,
   "id": "4773d1ab-5150-4c1f-99c3-326b0952e8f4",
   "metadata": {},
   "outputs": [
    {
     "data": {
      "text/plain": [
       "{'path': '../datasets/common_voice/cv-valid-train/cv-valid-train/sample-000000.mp3',\n",
       " 'array': array([-4.36557457e-11,  9.09494702e-12,  4.00177669e-11, ...,\n",
       "         1.25038787e-04,  7.30113825e-04,  7.36902468e-04], shape=(65664,)),\n",
       " 'sampling_rate': 16000}"
      ]
     },
     "execution_count": 11,
     "metadata": {},
     "output_type": "execute_result"
    }
   ],
   "source": [
    "common_voice_train_temp[0][\"audio\"]"
   ]
  },
  {
   "cell_type": "code",
   "execution_count": 12,
   "id": "dd566f37-202f-490e-88d4-64899d20b2ea",
   "metadata": {},
   "outputs": [
    {
     "data": {
      "text/plain": [
       "Dataset({\n",
       "    features: ['filename', 'text', 'audio'],\n",
       "    num_rows: 195776\n",
       "})"
      ]
     },
     "execution_count": 12,
     "metadata": {},
     "output_type": "execute_result"
    }
   ],
   "source": [
    "common_voice_train_temp"
   ]
  },
  {
   "cell_type": "markdown",
   "id": "0be52f6b-d892-4143-ba8e-76346c2e4545",
   "metadata": {},
   "source": [
    "### Filter out long audio sequences"
   ]
  },
  {
   "cell_type": "markdown",
   "id": "c39b4428-f5ce-4693-ba34-bd82798b3ed1",
   "metadata": {},
   "source": [
    "Long audio sequences require a lot of memory. As the training will be done locally with limited computational resources, it is best to filter away these sequences."
   ]
  },
  {
   "cell_type": "code",
   "execution_count": 13,
   "id": "36ebb35f-005b-41bd-b1d7-ce9879805932",
   "metadata": {},
   "outputs": [],
   "source": [
    "def filter_short_audio_sequences(data, max_seconds=5):\n",
    "    max_samples = 16000 * max_seconds\n",
    "    return len(data[\"audio\"][\"array\"]) <= max_samples"
   ]
  },
  {
   "cell_type": "code",
   "execution_count": 14,
   "id": "4f88e940-204c-47b6-81db-6bc944fe1d72",
   "metadata": {},
   "outputs": [
    {
     "name": "stderr",
     "output_type": "stream",
     "text": [
      "Filter: 100%|██████████████████████████████████████████████████████████████████████████████████████████████████████████████████████████████████████████████████████████████████████████████| 195776/195776 [09:09<00:00, 356.37 examples/s]\n"
     ]
    }
   ],
   "source": [
    "common_voice_train = common_voice_train_temp.filter(filter_short_audio_sequences)"
   ]
  },
  {
   "cell_type": "code",
   "execution_count": 15,
   "id": "75bceb06-e307-4084-9398-d00fc7212988",
   "metadata": {},
   "outputs": [
    {
     "data": {
      "text/plain": [
       "Dataset({\n",
       "    features: ['filename', 'text', 'audio'],\n",
       "    num_rows: 133647\n",
       "})"
      ]
     },
     "execution_count": 15,
     "metadata": {},
     "output_type": "execute_result"
    }
   ],
   "source": [
    "common_voice_train"
   ]
  },
  {
   "cell_type": "markdown",
   "id": "7ec8e875-174f-406a-ae45-a8659a7348e9",
   "metadata": {},
   "source": [
    "### Check data"
   ]
  },
  {
   "cell_type": "code",
   "execution_count": 16,
   "id": "0724b0b4-6a1a-4281-8c3f-89158b7e4966",
   "metadata": {},
   "outputs": [
    {
     "name": "stdout",
     "output_type": "stream",
     "text": [
      "Target text: let me see it\n",
      "Input array shape: (52224,)\n",
      "Sampling rate: 16000\n",
      "\n",
      "\n"
     ]
    },
    {
     "data": {
      "text/html": [
       "\n",
       "                <audio  controls=\"controls\" autoplay=\"autoplay\">\n",
       "                    <source src=\"data:audio/wav;base64,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\" type=\"audio/wav\" />\n",
       "                    Your browser does not support the audio element.\n",
       "                </audio>\n",
       "              "
      ],
      "text/plain": [
       "<IPython.lib.display.Audio object>"
      ]
     },
     "execution_count": 16,
     "metadata": {},
     "output_type": "execute_result"
    }
   ],
   "source": [
    "rand_int = random.randint(0, len(common_voice_train)-1)\n",
    "\n",
    "print(\"Target text:\", common_voice_train[rand_int][\"text\"])\n",
    "print(\"Input array shape:\", common_voice_train[rand_int][\"audio\"][\"array\"].shape)\n",
    "print(\"Sampling rate:\", common_voice_train[rand_int][\"audio\"][\"sampling_rate\"])\n",
    "print(\"\\n\")\n",
    "ipd.Audio(data=common_voice_train[rand_int][\"audio\"][\"array\"], autoplay=True, rate=16000)"
   ]
  },
  {
   "cell_type": "markdown",
   "id": "881bb68a-7c9b-4e4d-890e-1727c564aad7",
   "metadata": {},
   "source": [
    "## Tokenizer"
   ]
  },
  {
   "cell_type": "markdown",
   "id": "abeb7b2a-d3f8-4d41-861b-5e5d85cd6958",
   "metadata": {},
   "source": [
    "### Building vocabulary"
   ]
  },
  {
   "cell_type": "markdown",
   "id": "218e6af1-216a-448d-88c5-67333468ac18",
   "metadata": {},
   "source": [
    "In Wav2Vec2 ASR models, the vocabulary is typically composed of characters or subword units, not whole words.\n",
    "\n",
    "A user recommends characters' vocabulary:\n",
    "[Wav2Vec2ForCTC fine-tuning best practices](https://github.com/huggingface/transformers/issues/15196)\n",
    "\n",
    "We use a mapping function to build the vocabulary from the training data."
   ]
  },
  {
   "cell_type": "code",
   "execution_count": 17,
   "id": "a89c14a2-5dc3-444e-b4e7-510156241d6e",
   "metadata": {},
   "outputs": [],
   "source": [
    "def extract_all_chars(batch):\n",
    "    all_text = \" \".join(batch[\"text\"])\n",
    "    vocab = list(set(all_text))\n",
    "    return {\"vocab\": [vocab]}"
   ]
  },
  {
   "cell_type": "code",
   "execution_count": 18,
   "id": "ea07c0e4-9a69-4f7a-b270-7746fcce1e0e",
   "metadata": {},
   "outputs": [
    {
     "name": "stderr",
     "output_type": "stream",
     "text": [
      "Map: 100%|██████████████████████████████████████████████████████████████████████████████████████████████████████████████████████████████████████████████████████████████████████████████| 133647/133647 [00:00<00:00, 204670.90 examples/s]\n"
     ]
    }
   ],
   "source": [
    "vocab_train = common_voice_train.map(extract_all_chars, batched=True, batch_size=-1, keep_in_memory=True, remove_columns=common_voice_train.column_names)"
   ]
  },
  {
   "cell_type": "code",
   "execution_count": 19,
   "id": "929c8459-facc-4e2a-a56f-316add916fd4",
   "metadata": {},
   "outputs": [],
   "source": [
    "vocab_list = list(set(vocab_train[\"vocab\"][0]))"
   ]
  },
  {
   "cell_type": "code",
   "execution_count": 20,
   "id": "bd91307c-c1db-4e57-ae37-7f95edfd3015",
   "metadata": {},
   "outputs": [
    {
     "data": {
      "text/plain": [
       "{'c': 0,\n",
       " 'b': 1,\n",
       " ' ': 2,\n",
       " 'l': 3,\n",
       " 'f': 4,\n",
       " 'r': 5,\n",
       " 'g': 6,\n",
       " 'k': 7,\n",
       " 'o': 8,\n",
       " 'v': 9,\n",
       " 'h': 10,\n",
       " 'z': 11,\n",
       " \"'\": 12,\n",
       " 's': 13,\n",
       " 'i': 14,\n",
       " 'p': 15,\n",
       " 'm': 16,\n",
       " 'n': 17,\n",
       " 'y': 18,\n",
       " 'q': 19,\n",
       " 'x': 20,\n",
       " 'j': 21,\n",
       " 'u': 22,\n",
       " 'a': 23,\n",
       " 'e': 24,\n",
       " 't': 25,\n",
       " 'd': 26,\n",
       " 'w': 27}"
      ]
     },
     "execution_count": 20,
     "metadata": {},
     "output_type": "execute_result"
    }
   ],
   "source": [
    "vocab_dict = {v: k for k, v in enumerate(vocab_list)}\n",
    "vocab_dict"
   ]
  },
  {
   "cell_type": "markdown",
   "id": "a275cb39-1789-4e62-bd3c-9396ff7cbdf6",
   "metadata": {},
   "source": [
    "To avoid ambiguity for \" \" token class, we give it a more visible character \"|\"."
   ]
  },
  {
   "cell_type": "code",
   "execution_count": 21,
   "id": "9e9f87f9-f0ed-49b2-a2af-63c059aeae0b",
   "metadata": {},
   "outputs": [],
   "source": [
    "vocab_dict[\"|\"] = vocab_dict[\" \"]\n",
    "del vocab_dict[\" \"]"
   ]
  },
  {
   "cell_type": "markdown",
   "id": "6ddeb689-9d5c-4545-805b-94312949c22c",
   "metadata": {},
   "source": [
    "Finally, add unknown and padding tokens as well."
   ]
  },
  {
   "cell_type": "code",
   "execution_count": 22,
   "id": "62cdd7e2-9333-41fd-98f3-21386f39811c",
   "metadata": {},
   "outputs": [
    {
     "data": {
      "text/plain": [
       "{'c': 0,\n",
       " 'b': 1,\n",
       " 'l': 3,\n",
       " 'f': 4,\n",
       " 'r': 5,\n",
       " 'g': 6,\n",
       " 'k': 7,\n",
       " 'o': 8,\n",
       " 'v': 9,\n",
       " 'h': 10,\n",
       " 'z': 11,\n",
       " \"'\": 12,\n",
       " 's': 13,\n",
       " 'i': 14,\n",
       " 'p': 15,\n",
       " 'm': 16,\n",
       " 'n': 17,\n",
       " 'y': 18,\n",
       " 'q': 19,\n",
       " 'x': 20,\n",
       " 'j': 21,\n",
       " 'u': 22,\n",
       " 'a': 23,\n",
       " 'e': 24,\n",
       " 't': 25,\n",
       " 'd': 26,\n",
       " 'w': 27,\n",
       " '|': 2,\n",
       " '[UNK]': 28,\n",
       " '[PAD]': 29}"
      ]
     },
     "execution_count": 22,
     "metadata": {},
     "output_type": "execute_result"
    }
   ],
   "source": [
    "vocab_dict[\"[UNK]\"] = len(vocab_dict)\n",
    "vocab_dict[\"[PAD]\"] = len(vocab_dict)\n",
    "vocab_dict"
   ]
  },
  {
   "cell_type": "markdown",
   "id": "8aa55f15-7efa-4ad5-ae3b-afa946eb23f1",
   "metadata": {},
   "source": [
    "Save the vocabulary file so that it can be used by the ```Wav2Vec2CTCTokenizer```."
   ]
  },
  {
   "cell_type": "code",
   "execution_count": 23,
   "id": "a5263caf-9a8d-473e-ac03-89e253b0cf70",
   "metadata": {},
   "outputs": [],
   "source": [
    "with open('vocab.json', 'w') as vocab_file:\n",
    "    json.dump(vocab_dict, vocab_file)"
   ]
  },
  {
   "cell_type": "markdown",
   "id": "979d7c8a-a00c-4968-81ee-f3e76361964f",
   "metadata": {},
   "source": [
    "### Instantiate the tokenizer"
   ]
  },
  {
   "cell_type": "markdown",
   "id": "c01b4f1d-a1ca-4f32-9587-30200551714d",
   "metadata": {},
   "source": [
    "```Wav2Vec2CTCTokenizer``` is used because:\n",
    "- The Wav2Vec2 model we are using is trained with Connectionist Temporal Classification (CTC) loss.\n",
    "- Our vocabulary is character-based, which is required by CTC.\n",
    "- It is compatible with ```Wav2Vec2Processor```."
   ]
  },
  {
   "cell_type": "code",
   "execution_count": 24,
   "id": "b7aaf43a-80f7-4c6a-b187-2071364398e3",
   "metadata": {},
   "outputs": [],
   "source": [
    "tokenizer = Wav2Vec2CTCTokenizer(\"./vocab.json\", unk_token=\"[UNK]\", pad_token=\"[PAD]\", word_delimiter_token=\"|\")"
   ]
  },
  {
   "cell_type": "markdown",
   "id": "0d0339f6-a90e-47f1-91d2-7f7426217136",
   "metadata": {},
   "source": [
    "## Feature Extraction"
   ]
  },
  {
   "cell_type": "markdown",
   "id": "e605b536-d0c0-422c-a42b-a34fb07af30d",
   "metadata": {},
   "source": [
    "Before we can create the ```Wav2Vec2Processor``` object, we need a ```Wav2Vec2FeatureExtractor``` beside the ```Wav2Vec2CTCTokenizer```.\n",
    "\n",
    "The following parameters for the ```Wav2Vec2FeatureExtractor``` is used:\n",
    "- **feature_size**: Set to 1 as Wav2Vec2 model is trained on single-channel waveforms\n",
    "- **sampling_rate**: Set to 16000 Hz to match the input data sampling rate requirement\n",
    "- **padding_value**: Set to 0.0, conventional\n",
    "- **do_normalize**: Set to *true* as it helps with model stability and consistency\n",
    "- **return_attention_mask**: Set to *true* as Wav2Vec2 generally make use of the attention mask"
   ]
  },
  {
   "cell_type": "markdown",
   "id": "23f58a14-36ba-42aa-9aaf-8261a7af7ee8",
   "metadata": {},
   "source": [
    "### Instantiate the feature extractor"
   ]
  },
  {
   "cell_type": "code",
   "execution_count": 25,
   "id": "f7a02a81-2316-4475-8f0c-5cdae4f1b9bb",
   "metadata": {},
   "outputs": [],
   "source": [
    "feature_extractor = Wav2Vec2FeatureExtractor(feature_size=1, sampling_rate=16000, padding_value=0.0, do_normalize=True, return_attention_mask=True)"
   ]
  },
  {
   "cell_type": "markdown",
   "id": "00be894d-b9c9-4358-b85e-0c1ca065463d",
   "metadata": {},
   "source": [
    "## Wav2Vec2 Processor"
   ]
  },
  {
   "cell_type": "markdown",
   "id": "27ffd66f-4637-42f9-8e8c-28469e582484",
   "metadata": {},
   "source": [
    "### Instantiate the processor"
   ]
  },
  {
   "cell_type": "code",
   "execution_count": 26,
   "id": "faed8aaf-3540-4dab-b0d5-51e22bbccfa3",
   "metadata": {},
   "outputs": [],
   "source": [
    "processor = Wav2Vec2Processor(feature_extractor=feature_extractor, tokenizer=tokenizer)"
   ]
  },
  {
   "cell_type": "markdown",
   "id": "8ac8db14-98fb-45a5-8448-787cc7cc9f17",
   "metadata": {},
   "source": [
    "## Data Preparation"
   ]
  },
  {
   "cell_type": "markdown",
   "id": "6d3e677d-6041-450d-a296-d152a4f62707",
   "metadata": {},
   "source": [
    "### Split dataset"
   ]
  },
  {
   "cell_type": "markdown",
   "id": "37a56a45-fe84-4909-8faa-07670e4d62b9",
   "metadata": {},
   "source": [
    "We have to split the 'cv-valid-train' dataset further down into 70-30 ratio, where 30% is kept for validation."
   ]
  },
  {
   "cell_type": "code",
   "execution_count": 27,
   "id": "b9371b90-a213-43fb-a03d-ce6adbd7dcb7",
   "metadata": {},
   "outputs": [],
   "source": [
    "split = common_voice_train.train_test_split(test_size=0.3, seed=42)\n",
    "\n",
    "common_voice_train_train = split['train']\n",
    "common_voice_train_validation = split['test']"
   ]
  },
  {
   "cell_type": "markdown",
   "id": "8fb48f4d-fd93-44a4-8f3c-a473dbbff49e",
   "metadata": {},
   "source": [
    "Inspect the ```training_dataset```"
   ]
  },
  {
   "cell_type": "code",
   "execution_count": 28,
   "id": "44d1ecea-e8dc-4eeb-b0fd-0fa60c160e09",
   "metadata": {},
   "outputs": [
    {
     "data": {
      "text/plain": [
       "Dataset({\n",
       "    features: ['filename', 'text', 'audio'],\n",
       "    num_rows: 93552\n",
       "})"
      ]
     },
     "execution_count": 28,
     "metadata": {},
     "output_type": "execute_result"
    }
   ],
   "source": [
    "common_voice_train_train"
   ]
  },
  {
   "cell_type": "markdown",
   "id": "faf755a4-2f37-43dd-b373-02e6f5aa1333",
   "metadata": {},
   "source": [
    "Inspect the ```validation_dataset```"
   ]
  },
  {
   "cell_type": "code",
   "execution_count": 29,
   "id": "c11b77df-1485-4ea6-a408-9c7bc1c54c64",
   "metadata": {},
   "outputs": [
    {
     "data": {
      "text/plain": [
       "Dataset({\n",
       "    features: ['filename', 'text', 'audio'],\n",
       "    num_rows: 40095\n",
       "})"
      ]
     },
     "execution_count": 29,
     "metadata": {},
     "output_type": "execute_result"
    }
   ],
   "source": [
    "common_voice_train_validation"
   ]
  },
  {
   "cell_type": "markdown",
   "id": "f06cdbde-b203-42b4-ba4c-9693ccac6661",
   "metadata": {},
   "source": [
    "### Map data to be used by processor"
   ]
  },
  {
   "cell_type": "markdown",
   "id": "42f169a9-61b3-4cfd-9dcb-493f1f33be23",
   "metadata": {},
   "source": [
    "Inside the ```prepare_dataset``` function, more complex feature extraction methods can be added inside."
   ]
  },
  {
   "cell_type": "code",
   "execution_count": 30,
   "id": "28de6d7e-ec16-4a13-8cb9-0d7d7d7f49b7",
   "metadata": {},
   "outputs": [],
   "source": [
    "def prepare_dataset(batch):\n",
    "    audio = batch[\"audio\"]\n",
    "\n",
    "    batch[\"input_values\"] = processor(audio[\"array\"], sampling_rate=audio[\"sampling_rate\"]).input_values[0]\n",
    "    \n",
    "    with processor.as_target_processor():\n",
    "        batch[\"labels\"] = processor(batch[\"text\"]).input_ids\n",
    "        \n",
    "    return batch"
   ]
  },
  {
   "cell_type": "markdown",
   "id": "f772e3d7-1411-4c7c-a4d5-a11ad483c33d",
   "metadata": {},
   "source": [
    "Apply the ```prepare_dataset``` to training and validation dataset."
   ]
  },
  {
   "cell_type": "markdown",
   "id": "e4598da5-1297-4b6e-a32b-0f1386154c1a",
   "metadata": {},
   "source": [
    "Process a large dataset in chunks to avoid memory/kernel crashes,\n",
    "then concatenate all processed chunks and save the final dataset once."
   ]
  },
  {
   "cell_type": "code",
   "execution_count": 31,
   "id": "d723f345-32b6-4473-9c3d-7eb34fb7b7c0",
   "metadata": {},
   "outputs": [
    {
     "name": "stderr",
     "output_type": "stream",
     "text": [
      "Map:   0%|                                                                                                                                                                                                | 0/93552 [00:00<?, ? examples/s]/Users/gordon.oh/Desktop/htx-xdata-asr/venv/lib/python3.13/site-packages/transformers/models/wav2vec2/processing_wav2vec2.py:174: UserWarning: `as_target_processor` is deprecated and will be removed in v5 of Transformers. You can process your labels by using the argument `text` of the regular `__call__` method (either in the same call as your audio inputs, or in a separate call.\n",
      "  warnings.warn(\n",
      "Map: 100%|███████████████████████████████████████████████████████████████████████████████████████████████████████████████████████████████████████████████████████████████████████████████████| 93552/93552 [11:10<00:00, 139.50 examples/s]\n"
     ]
    }
   ],
   "source": [
    "training_dataset = common_voice_train_train.map(prepare_dataset, remove_columns=common_voice_train_train.column_names, batched=False)"
   ]
  },
  {
   "cell_type": "code",
   "execution_count": 32,
   "id": "532931f5-d51e-420c-832f-f8f834ce6a8a",
   "metadata": {},
   "outputs": [
    {
     "name": "stderr",
     "output_type": "stream",
     "text": [
      "Saving the dataset (42/42 shards): 100%|█████████████████████████████████████████████████████████████████████████████████████████████████████████████████████████████████████████████████████| 93552/93552 [05:22<00:00, 290.22 examples/s]\n"
     ]
    }
   ],
   "source": [
    "training_dataset_cache_dir = \"./caches/training\"\n",
    "os.makedirs(training_dataset_cache_dir, exist_ok=True)\n",
    "training_dataset.save_to_disk(training_dataset_cache_dir)"
   ]
  },
  {
   "cell_type": "code",
   "execution_count": null,
   "id": "b33327c5-8784-4fdb-974f-211b678685b0",
   "metadata": {},
   "outputs": [
    {
     "name": "stderr",
     "output_type": "stream",
     "text": [
      "Map:  97%|██████████████████████████████████████████████████████████████████████████████████████████████████████████████████████████████████████████████████████████████████████████████     | 38997/40095 [04:46<00:06, 160.28 examples/s]"
     ]
    }
   ],
   "source": [
    "validation_dataset = common_voice_train_validation.map(prepare_dataset, remove_columns=common_voice_train_validation.column_names, batched=False)"
   ]
  },
  {
   "cell_type": "code",
   "execution_count": null,
   "id": "e3416101-40ab-4016-b364-c2a9dd70dd67",
   "metadata": {},
   "outputs": [],
   "source": [
    "validation_dataset_cache_dir = \"./caches/validation\"\n",
    "os.makedirs(validation_dataset_cache_dir, exist_ok=True)\n",
    "validation_dataset.save_to_disk(validation_dataset_cache_dir)"
   ]
  },
  {
   "cell_type": "markdown",
   "id": "8e442379-5a52-4d3c-8c52-300719082347",
   "metadata": {},
   "source": [
    "## Training"
   ]
  },
  {
   "cell_type": "markdown",
   "id": "1f33f667-59ac-4330-b34d-e2960d6579d3",
   "metadata": {},
   "source": [
    "## Validation"
   ]
  },
  {
   "cell_type": "code",
   "execution_count": null,
   "id": "6f40cc62-c027-40c9-9dd1-567b2d897127",
   "metadata": {},
   "outputs": [],
   "source": []
  }
 ],
 "metadata": {
  "kernelspec": {
   "display_name": "Python 3 (ipykernel)",
   "language": "python",
   "name": "python3"
  },
  "language_info": {
   "codemirror_mode": {
    "name": "ipython",
    "version": 3
   },
   "file_extension": ".py",
   "mimetype": "text/x-python",
   "name": "python",
   "nbconvert_exporter": "python",
   "pygments_lexer": "ipython3",
   "version": "3.13.3"
  }
 },
 "nbformat": 4,
 "nbformat_minor": 5
}
