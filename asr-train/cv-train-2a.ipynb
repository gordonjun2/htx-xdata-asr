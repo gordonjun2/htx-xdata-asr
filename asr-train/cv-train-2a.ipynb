{
 "cells": [
  {
   "cell_type": "markdown",
   "id": "dc2a6108-f0cd-428f-bd23-9ad75926fbe9",
   "metadata": {},
   "source": [
    "## Setup"
   ]
  },
  {
   "cell_type": "markdown",
   "id": "883bd111-59e5-4f28-9b5d-86f8df20f186",
   "metadata": {},
   "source": [
    "### Install required libraries"
   ]
  },
  {
   "cell_type": "markdown",
   "id": "a4e29225-f373-4129-bdba-fa99bbe5ad8a",
   "metadata": {},
   "source": [
    "The libraries should already be installed in the terminal after running \n",
    "```\n",
    "pip install -r requirements.txt\n",
    "```\n",
    "in the root directory, but this will be useful if the notebook is used in other environments."
   ]
  },
  {
   "cell_type": "markdown",
   "id": "3fc9280f-85e9-4b06-ab2c-99077ce3fc72",
   "metadata": {},
   "source": [
    "If there is insufficient space, try purging the pip cache first."
   ]
  },
  {
   "cell_type": "code",
   "execution_count": 147,
   "id": "bc6ab2fd-2074-4b06-83a2-9c9848900d2f",
   "metadata": {},
   "outputs": [],
   "source": [
    "# !pip cache purge"
   ]
  },
  {
   "cell_type": "code",
   "execution_count": 145,
   "id": "b4962a06-0646-452f-8e76-d3795be3350b",
   "metadata": {},
   "outputs": [],
   "source": [
    "%%capture\n",
    "# !pip uninstall torch torchvision torchaudio -y\n",
    "!pip install --pre torch torchvision torchaudio --index-url https://download.pytorch.org/whl/nightly/cu128\n",
    "!pip install datasets==3.6.0\n",
    "!pip install transformers==4.52.4\n",
    "!pip install huggingface-hub==0.32.3\n",
    "!pip install librosa==0.11.0\n",
    "!pip install jiwer==3.1.0\n",
    "!pip install evaluate==0.4.3\n",
    "!pip install matplotlib==3.10.3\n",
    "!pip install jiwer==3.1.0\n",
    "!pip install requests==2.32.3\n",
    "!pip install huggingface-hub==0.32.3\n",
    "!pip install accelerate==1.7.0"
   ]
  },
  {
   "cell_type": "markdown",
   "id": "c7d4b488-41ba-44ad-9833-b3cfcb647cfe",
   "metadata": {},
   "source": [
    "### Import required libraries"
   ]
  },
  {
   "cell_type": "code",
   "execution_count": 220,
   "id": "39d0204c-a57c-4abc-8f30-222fa0d2d625",
   "metadata": {},
   "outputs": [],
   "source": [
    "from datasets import load_dataset, Dataset, Audio, load_from_disk\n",
    "import random\n",
    "import evaluate\n",
    "import pandas as pd\n",
    "import IPython.display as ipd\n",
    "import re\n",
    "import json\n",
    "from transformers import (Wav2Vec2ForCTC, Wav2Vec2CTCTokenizer, Wav2Vec2FeatureExtractor, Wav2Vec2Processor, \n",
    "                            TrainingArguments, Trainer)\n",
    "import numpy as np\n",
    "import torch\n",
    "import torchaudio\n",
    "from torch.utils.data import DataLoader\n",
    "from dataclasses import dataclass, field\n",
    "from typing import Any, Dict, List, Optional, Union\n",
    "import os\n",
    "import matplotlib.pyplot as plt\n",
    "from jiwer import wer, cer\n",
    "import requests\n",
    "from huggingface_hub import configure_http_backend\n",
    "import urllib3\n",
    "\n",
    "pd.set_option('display.max_colwidth', 100)"
   ]
  },
  {
   "cell_type": "markdown",
   "id": "1c7cb218-9cb9-4642-ad58-82c123e1e9c4",
   "metadata": {},
   "source": [
    "### Check Torch version"
   ]
  },
  {
   "cell_type": "code",
   "execution_count": 149,
   "id": "6dd5c2f0-1071-4184-8950-23e2fe47e9f9",
   "metadata": {},
   "outputs": [
    {
     "name": "stdout",
     "output_type": "stream",
     "text": [
      "Torch Version:  12.8\n",
      "Is CUDA available:  True\n",
      "CUDA Device Name:  NVIDIA GeForce RTX 5070 Ti\n"
     ]
    }
   ],
   "source": [
    "print(\"Torch Version: \", torch.version.cuda)\n",
    "print(\"Is CUDA available: \", torch.cuda.is_available())\n",
    "print(\"CUDA Device Name: \", torch.cuda.get_device_name(0))"
   ]
  },
  {
   "cell_type": "markdown",
   "id": "a58cee2b-74f1-4535-89ee-64cd1750b6c9",
   "metadata": {},
   "source": [
    "### Check GPU"
   ]
  },
  {
   "cell_type": "markdown",
   "id": "e590314e-3503-437c-aac3-6276f9c002bb",
   "metadata": {},
   "source": [
    "The notebook is being hosted by a server."
   ]
  },
  {
   "cell_type": "code",
   "execution_count": 150,
   "id": "944f1678-1b38-4f98-8055-a60c13628504",
   "metadata": {},
   "outputs": [
    {
     "name": "stdout",
     "output_type": "stream",
     "text": [
      "Tue Jun  3 06:33:56 2025       \n",
      "+-----------------------------------------------------------------------------------------+\n",
      "| NVIDIA-SMI 570.133.07             Driver Version: 570.133.07     CUDA Version: 12.8     |\n",
      "|-----------------------------------------+------------------------+----------------------+\n",
      "| GPU  Name                 Persistence-M | Bus-Id          Disp.A | Volatile Uncorr. ECC |\n",
      "| Fan  Temp   Perf          Pwr:Usage/Cap |           Memory-Usage | GPU-Util  Compute M. |\n",
      "|                                         |                        |               MIG M. |\n",
      "|=========================================+========================+======================|\n",
      "|   0  NVIDIA GeForce RTX 5070 Ti     On  |   00000000:02:00.0 Off |                  N/A |\n",
      "|  0%   47C    P8             35W /  300W |    5381MiB /  16303MiB |      0%      Default |\n",
      "|                                         |                        |                  N/A |\n",
      "+-----------------------------------------+------------------------+----------------------+\n",
      "                                                                                         \n",
      "+-----------------------------------------------------------------------------------------+\n",
      "| Processes:                                                                              |\n",
      "|  GPU   GI   CI              PID   Type   Process name                        GPU Memory |\n",
      "|        ID   ID                                                               Usage      |\n",
      "|=========================================================================================|\n",
      "|    0   N/A  N/A           34734      C   ...xdata-asr/venv/bin/python3.12       5372MiB |\n",
      "+-----------------------------------------------------------------------------------------+\n"
     ]
    }
   ],
   "source": [
    "gpu_info = !nvidia-smi\n",
    "gpu_info = '\\n'.join(gpu_info)\n",
    "if gpu_info.find('failed') >= 0:\n",
    "  print('Not connected to a GPU')\n",
    "else:\n",
    "  print(gpu_info)"
   ]
  },
  {
   "cell_type": "markdown",
   "id": "38a01bfa-563e-4d14-bd46-eb6ab87dfc0c",
   "metadata": {},
   "source": [
    "### Other configurations"
   ]
  },
  {
   "cell_type": "code",
   "execution_count": 151,
   "id": "8c64aec8-1964-4700-99eb-13663fc3d6f0",
   "metadata": {},
   "outputs": [],
   "source": [
    "urllib3.disable_warnings(urllib3.exceptions.InsecureRequestWarning)\n",
    "\n",
    "# [OPTIONAL] Use if there is SSL certificate verification issues\n",
    "def backend_factory() -> requests.Session:\n",
    "    session = requests.Session()\n",
    "    session.verify = False\n",
    "    return session\n",
    "\n",
    "\n",
    "configure_http_backend(backend_factory=backend_factory)"
   ]
  },
  {
   "cell_type": "markdown",
   "id": "7fd910af-720d-487a-9147-3b504aea28a2",
   "metadata": {},
   "source": [
    "## Data Preprocessing"
   ]
  },
  {
   "cell_type": "markdown",
   "id": "38a96540-7cb5-4d99-b576-03661502a1d3",
   "metadata": {},
   "source": [
    "Instead of using ```load_dataset``` from\n",
    "```\n",
    "from datasets import load_dataset\n",
    "```\n",
    "to load Common Voice data, we load the data directly from our project directory since it is already copied inside."
   ]
  },
  {
   "cell_type": "markdown",
   "id": "16a154c8-25e3-4ab4-ba13-49745a99876f",
   "metadata": {},
   "source": [
    "### Load labels"
   ]
  },
  {
   "cell_type": "code",
   "execution_count": 5,
   "id": "0cb41e95-b3fc-42bc-b276-b9c7cf36f520",
   "metadata": {},
   "outputs": [
    {
     "data": {
      "text/html": [
       "<div>\n",
       "<style scoped>\n",
       "    .dataframe tbody tr th:only-of-type {\n",
       "        vertical-align: middle;\n",
       "    }\n",
       "\n",
       "    .dataframe tbody tr th {\n",
       "        vertical-align: top;\n",
       "    }\n",
       "\n",
       "    .dataframe thead th {\n",
       "        text-align: right;\n",
       "    }\n",
       "</style>\n",
       "<table border=\"1\" class=\"dataframe\">\n",
       "  <thead>\n",
       "    <tr style=\"text-align: right;\">\n",
       "      <th></th>\n",
       "      <th>filename</th>\n",
       "      <th>text</th>\n",
       "      <th>up_votes</th>\n",
       "      <th>down_votes</th>\n",
       "      <th>age</th>\n",
       "      <th>gender</th>\n",
       "      <th>accent</th>\n",
       "      <th>duration</th>\n",
       "    </tr>\n",
       "  </thead>\n",
       "  <tbody>\n",
       "    <tr>\n",
       "      <th>0</th>\n",
       "      <td>cv-valid-train/sample-000000.mp3</td>\n",
       "      <td>learn to recognize omens and follow them the old king had said</td>\n",
       "      <td>1</td>\n",
       "      <td>0</td>\n",
       "      <td>NaN</td>\n",
       "      <td>NaN</td>\n",
       "      <td>NaN</td>\n",
       "      <td>NaN</td>\n",
       "    </tr>\n",
       "    <tr>\n",
       "      <th>1</th>\n",
       "      <td>cv-valid-train/sample-000001.mp3</td>\n",
       "      <td>everything in the universe evolved he said</td>\n",
       "      <td>1</td>\n",
       "      <td>0</td>\n",
       "      <td>NaN</td>\n",
       "      <td>NaN</td>\n",
       "      <td>NaN</td>\n",
       "      <td>NaN</td>\n",
       "    </tr>\n",
       "    <tr>\n",
       "      <th>2</th>\n",
       "      <td>cv-valid-train/sample-000002.mp3</td>\n",
       "      <td>you came so that you could learn about your dreams said the old woman</td>\n",
       "      <td>1</td>\n",
       "      <td>0</td>\n",
       "      <td>NaN</td>\n",
       "      <td>NaN</td>\n",
       "      <td>NaN</td>\n",
       "      <td>NaN</td>\n",
       "    </tr>\n",
       "    <tr>\n",
       "      <th>3</th>\n",
       "      <td>cv-valid-train/sample-000003.mp3</td>\n",
       "      <td>so now i fear nothing because it was those omens that brought you to me</td>\n",
       "      <td>1</td>\n",
       "      <td>0</td>\n",
       "      <td>NaN</td>\n",
       "      <td>NaN</td>\n",
       "      <td>NaN</td>\n",
       "      <td>NaN</td>\n",
       "    </tr>\n",
       "    <tr>\n",
       "      <th>4</th>\n",
       "      <td>cv-valid-train/sample-000004.mp3</td>\n",
       "      <td>if you start your emails with greetings let me be the first to welcome you to earth</td>\n",
       "      <td>3</td>\n",
       "      <td>2</td>\n",
       "      <td>NaN</td>\n",
       "      <td>NaN</td>\n",
       "      <td>NaN</td>\n",
       "      <td>NaN</td>\n",
       "    </tr>\n",
       "  </tbody>\n",
       "</table>\n",
       "</div>"
      ],
      "text/plain": [
       "                           filename  \\\n",
       "0  cv-valid-train/sample-000000.mp3   \n",
       "1  cv-valid-train/sample-000001.mp3   \n",
       "2  cv-valid-train/sample-000002.mp3   \n",
       "3  cv-valid-train/sample-000003.mp3   \n",
       "4  cv-valid-train/sample-000004.mp3   \n",
       "\n",
       "                                                                                  text  \\\n",
       "0                       learn to recognize omens and follow them the old king had said   \n",
       "1                                           everything in the universe evolved he said   \n",
       "2                you came so that you could learn about your dreams said the old woman   \n",
       "3              so now i fear nothing because it was those omens that brought you to me   \n",
       "4  if you start your emails with greetings let me be the first to welcome you to earth   \n",
       "\n",
       "   up_votes  down_votes  age gender accent  duration  \n",
       "0         1           0  NaN    NaN    NaN       NaN  \n",
       "1         1           0  NaN    NaN    NaN       NaN  \n",
       "2         1           0  NaN    NaN    NaN       NaN  \n",
       "3         1           0  NaN    NaN    NaN       NaN  \n",
       "4         3           2  NaN    NaN    NaN       NaN  "
      ]
     },
     "execution_count": 5,
     "metadata": {},
     "output_type": "execute_result"
    }
   ],
   "source": [
    "dataset_split = 'cv-valid-train'\n",
    "cv_csv_file = f'../datasets/common_voice/{dataset_split}.csv'\n",
    "train_df = pd.read_csv(cv_csv_file)\n",
    "train_df.head(5)"
   ]
  },
  {
   "cell_type": "markdown",
   "id": "d1a24b78-4839-4d4b-a4e9-2c92bedd5cda",
   "metadata": {},
   "source": [
    "### Clean labels' table"
   ]
  },
  {
   "cell_type": "markdown",
   "id": "7c068309-d9dc-46a9-b914-c00a4b694c80",
   "metadata": {},
   "source": [
    "Make the text label uppercase because the model we are finetuning \"facebook/wav2vec2-large-960h\" is pretrained using Librispeech dataset, which are uppercased. Removed all the other unnecessary columns."
   ]
  },
  {
   "cell_type": "code",
   "execution_count": 6,
   "id": "2ee9b9e5-3436-4a51-b0f9-4a433feeccdb",
   "metadata": {},
   "outputs": [
    {
     "data": {
      "text/html": [
       "<div>\n",
       "<style scoped>\n",
       "    .dataframe tbody tr th:only-of-type {\n",
       "        vertical-align: middle;\n",
       "    }\n",
       "\n",
       "    .dataframe tbody tr th {\n",
       "        vertical-align: top;\n",
       "    }\n",
       "\n",
       "    .dataframe thead th {\n",
       "        text-align: right;\n",
       "    }\n",
       "</style>\n",
       "<table border=\"1\" class=\"dataframe\">\n",
       "  <thead>\n",
       "    <tr style=\"text-align: right;\">\n",
       "      <th></th>\n",
       "      <th>filename</th>\n",
       "      <th>text</th>\n",
       "      <th>path</th>\n",
       "    </tr>\n",
       "  </thead>\n",
       "  <tbody>\n",
       "    <tr>\n",
       "      <th>0</th>\n",
       "      <td>cv-valid-train/sample-000000.mp3</td>\n",
       "      <td>LEARN TO RECOGNIZE OMENS AND FOLLOW THEM THE OLD KING HAD SAID</td>\n",
       "      <td>../datasets/common_voice/cv-valid-train/cv-valid-train/sample-000000.mp3</td>\n",
       "    </tr>\n",
       "    <tr>\n",
       "      <th>1</th>\n",
       "      <td>cv-valid-train/sample-000001.mp3</td>\n",
       "      <td>EVERYTHING IN THE UNIVERSE EVOLVED HE SAID</td>\n",
       "      <td>../datasets/common_voice/cv-valid-train/cv-valid-train/sample-000001.mp3</td>\n",
       "    </tr>\n",
       "    <tr>\n",
       "      <th>2</th>\n",
       "      <td>cv-valid-train/sample-000002.mp3</td>\n",
       "      <td>YOU CAME SO THAT YOU COULD LEARN ABOUT YOUR DREAMS SAID THE OLD WOMAN</td>\n",
       "      <td>../datasets/common_voice/cv-valid-train/cv-valid-train/sample-000002.mp3</td>\n",
       "    </tr>\n",
       "    <tr>\n",
       "      <th>3</th>\n",
       "      <td>cv-valid-train/sample-000003.mp3</td>\n",
       "      <td>SO NOW I FEAR NOTHING BECAUSE IT WAS THOSE OMENS THAT BROUGHT YOU TO ME</td>\n",
       "      <td>../datasets/common_voice/cv-valid-train/cv-valid-train/sample-000003.mp3</td>\n",
       "    </tr>\n",
       "    <tr>\n",
       "      <th>4</th>\n",
       "      <td>cv-valid-train/sample-000004.mp3</td>\n",
       "      <td>IF YOU START YOUR EMAILS WITH GREETINGS LET ME BE THE FIRST TO WELCOME YOU TO EARTH</td>\n",
       "      <td>../datasets/common_voice/cv-valid-train/cv-valid-train/sample-000004.mp3</td>\n",
       "    </tr>\n",
       "  </tbody>\n",
       "</table>\n",
       "</div>"
      ],
      "text/plain": [
       "                           filename  \\\n",
       "0  cv-valid-train/sample-000000.mp3   \n",
       "1  cv-valid-train/sample-000001.mp3   \n",
       "2  cv-valid-train/sample-000002.mp3   \n",
       "3  cv-valid-train/sample-000003.mp3   \n",
       "4  cv-valid-train/sample-000004.mp3   \n",
       "\n",
       "                                                                                  text  \\\n",
       "0                       LEARN TO RECOGNIZE OMENS AND FOLLOW THEM THE OLD KING HAD SAID   \n",
       "1                                           EVERYTHING IN THE UNIVERSE EVOLVED HE SAID   \n",
       "2                YOU CAME SO THAT YOU COULD LEARN ABOUT YOUR DREAMS SAID THE OLD WOMAN   \n",
       "3              SO NOW I FEAR NOTHING BECAUSE IT WAS THOSE OMENS THAT BROUGHT YOU TO ME   \n",
       "4  IF YOU START YOUR EMAILS WITH GREETINGS LET ME BE THE FIRST TO WELCOME YOU TO EARTH   \n",
       "\n",
       "                                                                       path  \n",
       "0  ../datasets/common_voice/cv-valid-train/cv-valid-train/sample-000000.mp3  \n",
       "1  ../datasets/common_voice/cv-valid-train/cv-valid-train/sample-000001.mp3  \n",
       "2  ../datasets/common_voice/cv-valid-train/cv-valid-train/sample-000002.mp3  \n",
       "3  ../datasets/common_voice/cv-valid-train/cv-valid-train/sample-000003.mp3  \n",
       "4  ../datasets/common_voice/cv-valid-train/cv-valid-train/sample-000004.mp3  "
      ]
     },
     "execution_count": 6,
     "metadata": {},
     "output_type": "execute_result"
    }
   ],
   "source": [
    "train_df['text'] = train_df['text'].str.upper()\n",
    "cleaned_train_df = train_df.drop(['up_votes', 'down_votes', 'age', 'gender', 'accent', 'duration'], axis=1)\n",
    "audio_files_directory = f'../datasets/common_voice/{dataset_split}'\n",
    "cleaned_train_df[\"path\"] = cleaned_train_df[\"filename\"].apply(lambda x: os.path.join(audio_files_directory, x))\n",
    "cleaned_train_df.head(5)"
   ]
  },
  {
   "cell_type": "markdown",
   "id": "ca631761-8f15-4402-82e2-fea4281d24b0",
   "metadata": {},
   "source": [
    "### Inspect text"
   ]
  },
  {
   "cell_type": "markdown",
   "id": "26c84827-962a-4f93-b46a-f5ef84c96e64",
   "metadata": {},
   "source": [
    "Check if 'text' contains special characters that cannot be transcribed (eg. colon, comma, percentage, etc). We want to keep whitespaces because the model has to learn to predict when a full word is finished. If not, the output will be a sequence of characters with no spacing. Also, the apostrophes are kept because of pronounciation difference. The output shows that there is none, so the data is cleaned."
   ]
  },
  {
   "cell_type": "code",
   "execution_count": 7,
   "id": "afc5362c-5769-4f2c-8b8f-1208e7878378",
   "metadata": {},
   "outputs": [
    {
     "name": "stdout",
     "output_type": "stream",
     "text": [
      "Empty DataFrame\n",
      "Columns: [filename, text, path]\n",
      "Index: []\n"
     ]
    }
   ],
   "source": [
    "# This pattern keeps only rows with characters that are NOT uppercase letter, whitespace character, or a single quote '.\n",
    "special_chars_pattern = r\"[^A-Z\\s']\"\n",
    "\n",
    "df_with_special_chars = cleaned_train_df[cleaned_train_df['text'].str.contains(special_chars_pattern, regex=True, na=False)]\n",
    "\n",
    "print(df_with_special_chars.head(5))"
   ]
  },
  {
   "cell_type": "markdown",
   "id": "5c6c9ac4-4aa5-4e2e-b472-db04b26fab7f",
   "metadata": {},
   "source": [
    "### Load and decode audio"
   ]
  },
  {
   "cell_type": "code",
   "execution_count": 8,
   "id": "83acc7be-342b-4624-a297-e2420ea95d91",
   "metadata": {},
   "outputs": [],
   "source": [
    "cleaned_train_df = cleaned_train_df.rename(columns={\"path\": \"audio\"})\n",
    "common_voice_train_original = Dataset.from_pandas(cleaned_train_df)\n",
    "common_voice_train_temp = common_voice_train_original.cast_column(\"audio\", Audio())"
   ]
  },
  {
   "cell_type": "code",
   "execution_count": 9,
   "id": "d6fa82e1-9de1-4664-a412-b3bcc511ca5a",
   "metadata": {},
   "outputs": [
    {
     "data": {
      "text/plain": [
       "{'path': '../datasets/common_voice/cv-valid-train/cv-valid-train/sample-000000.mp3',\n",
       " 'array': array([ 0.00000000e+00, -2.39675413e-13, -2.89491331e-14, ...,\n",
       "         4.10622597e-04,  7.94679159e-04,  7.57522532e-04], shape=(196992,)),\n",
       " 'sampling_rate': 48000}"
      ]
     },
     "execution_count": 9,
     "metadata": {},
     "output_type": "execute_result"
    }
   ],
   "source": [
    "common_voice_train_temp[0][\"audio\"]"
   ]
  },
  {
   "cell_type": "markdown",
   "id": "829b6049-1a6a-4a53-b63e-71ef6d6276aa",
   "metadata": {},
   "source": [
    "The output of the cell above shows that the audio data is loaded with a sampling rate of 48 kHz, but 16 kHz is expected by the ```wav2vec2-large-960h``` model. Hence, we have to resample the audio data."
   ]
  },
  {
   "cell_type": "code",
   "execution_count": 10,
   "id": "34400d1a-c6a2-4ea5-a15a-cd465853d023",
   "metadata": {},
   "outputs": [],
   "source": [
    "common_voice_train = common_voice_train_original.cast_column(\"audio\", Audio(sampling_rate=16_000))"
   ]
  },
  {
   "cell_type": "code",
   "execution_count": 11,
   "id": "4773d1ab-5150-4c1f-99c3-326b0952e8f4",
   "metadata": {},
   "outputs": [
    {
     "data": {
      "text/plain": [
       "{'path': '../datasets/common_voice/cv-valid-train/cv-valid-train/sample-000000.mp3',\n",
       " 'array': array([-1.09139364e-11, -3.63797881e-12,  2.91038305e-11, ...,\n",
       "         1.25038670e-04,  7.30113941e-04,  7.36901653e-04], shape=(65664,)),\n",
       " 'sampling_rate': 16000}"
      ]
     },
     "execution_count": 11,
     "metadata": {},
     "output_type": "execute_result"
    }
   ],
   "source": [
    "common_voice_train[0][\"audio\"]"
   ]
  },
  {
   "cell_type": "code",
   "execution_count": 12,
   "id": "dd566f37-202f-490e-88d4-64899d20b2ea",
   "metadata": {},
   "outputs": [
    {
     "data": {
      "text/plain": [
       "Dataset({\n",
       "    features: ['filename', 'text', 'audio'],\n",
       "    num_rows: 195776\n",
       "})"
      ]
     },
     "execution_count": 12,
     "metadata": {},
     "output_type": "execute_result"
    }
   ],
   "source": [
    "common_voice_train"
   ]
  },
  {
   "cell_type": "markdown",
   "id": "983b01ed-4b2c-42cd-b72d-95f6faf88204",
   "metadata": {},
   "source": [
    "### Understand the statistics of the audio sequences"
   ]
  },
  {
   "cell_type": "markdown",
   "id": "d9b642ca-4bc9-463a-b49c-cc37b2e3ce12",
   "metadata": {},
   "source": [
    "The cell below calculate the 25th, 50th, and 75th percentile duration of the audio sequences. It plots the distribution as well. In order to reduce memory usage, we can remove data from the right tail."
   ]
  },
  {
   "cell_type": "code",
   "execution_count": 13,
   "id": "8fdcfb14-aade-4ba8-aed5-2e9dafbb0afe",
   "metadata": {},
   "outputs": [
    {
     "name": "stdout",
     "output_type": "stream",
     "text": [
      "25th percentile duration: 3.14 seconds\n",
      "50th percentile duration: 4.13 seconds\n",
      "75th percentile duration: 5.54 seconds\n",
      "\n",
      "\n"
     ]
    },
    {
     "data": {
      "image/png": "[encoded data removed]",
      "text/plain": [
       "<Figure size 1000x600 with 1 Axes>"
      ]
     },
     "metadata": {},
     "output_type": "display_data"
    }
   ],
   "source": [
    "sample_dataset = common_voice_train[:1000]\n",
    "audio_lengths = [len(sample[\"array\"]) for sample in sample_dataset[\"audio\"]]\n",
    "sampling_rate = sample_dataset[\"audio\"][0][\"sampling_rate\"]\n",
    "audio_lengths_np = np.array(audio_lengths)\n",
    "durations_seconds = audio_lengths_np / sampling_rate\n",
    "\n",
    "for p in [25, 50, 75]:\n",
    "    print(f\"{p}th percentile duration: {np.percentile(durations_seconds, p):.2f} seconds\")\n",
    "print(\"\\n\")\n",
    "\n",
    "plt.figure(figsize=(10, 6))\n",
    "plt.hist(durations_seconds, bins=100, color='blue', edgecolor='black')\n",
    "plt.title(\"Histogram of Audio Durations (in seconds)\")\n",
    "plt.xlabel(\"Duration (seconds)\")\n",
    "plt.ylabel(\"Number of Samples\")\n",
    "plt.grid(True)\n",
    "plt.tight_layout()\n",
    "plt.show()"
   ]
  },
  {
   "cell_type": "markdown",
   "id": "0be52f6b-d892-4143-ba8e-76346c2e4545",
   "metadata": {},
   "source": [
    "### Filter out long audio sequences"
   ]
  },
  {
   "cell_type": "markdown",
   "id": "c39b4428-f5ce-4693-ba34-bd82798b3ed1",
   "metadata": {},
   "source": [
    "Long audio sequences require a lot of memory. As the training will be done locally with limited computational resources, it is best to filter away these sequences."
   ]
  },
  {
   "cell_type": "code",
   "execution_count": 14,
   "id": "36ebb35f-005b-41bd-b1d7-ce9879805932",
   "metadata": {},
   "outputs": [],
   "source": [
    "def filter_short_audio_sequences(data, max_seconds=5):\n",
    "    max_samples = 16000 * max_seconds\n",
    "    return len(data[\"audio\"][\"array\"]) <= max_samples"
   ]
  },
  {
   "cell_type": "code",
   "execution_count": 15,
   "id": "4f88e940-204c-47b6-81db-6bc944fe1d72",
   "metadata": {},
   "outputs": [
    {
     "name": "stderr",
     "output_type": "stream",
     "text": [
      "Filter: 100%|███████████████████████████████████████████| 195776/195776 [08:39<00:00, 376.66 examples/s]\n"
     ]
    }
   ],
   "source": [
    "common_voice_train = common_voice_train.filter(filter_short_audio_sequences)"
   ]
  },
  {
   "cell_type": "code",
   "execution_count": 16,
   "id": "75bceb06-e307-4084-9398-d00fc7212988",
   "metadata": {},
   "outputs": [
    {
     "data": {
      "text/plain": [
       "Dataset({\n",
       "    features: ['filename', 'text', 'audio'],\n",
       "    num_rows: 133647\n",
       "})"
      ]
     },
     "execution_count": 16,
     "metadata": {},
     "output_type": "execute_result"
    }
   ],
   "source": [
    "common_voice_train"
   ]
  },
  {
   "cell_type": "markdown",
   "id": "7ec8e875-174f-406a-ae45-a8659a7348e9",
   "metadata": {},
   "source": [
    "### Check data"
   ]
  },
  {
   "cell_type": "code",
   "execution_count": 17,
   "id": "0724b0b4-6a1a-4281-8c3f-89158b7e4966",
   "metadata": {},
   "outputs": [
    {
     "name": "stdout",
     "output_type": "stream",
     "text": [
      "Target text: I JUST WANT TO DREAM ABOUT MECCA\n",
      "Input array shape: (55296,)\n",
      "Sampling rate: 16000\n",
      "\n",
      "\n"
     ]
    },
    {
     "data": {
      "text/html": [
       "\n",
       "                <audio  controls=\"controls\" autoplay=\"autoplay\">\n",
       "                    <source src=\"data:audio/wav;base64,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\" type=\"audio/wav\" />\n",
       "                    Your browser does not support the audio element.\n",
       "                </audio>\n",
       "              "
      ],
      "text/plain": [
       "<IPython.lib.display.Audio object>"
      ]
     },
     "execution_count": 17,
     "metadata": {},
     "output_type": "execute_result"
    }
   ],
   "source": [
    "rand_int = random.randint(0, len(common_voice_train)-1)\n",
    "\n",
    "print(\"Target text:\", common_voice_train[rand_int][\"text\"])\n",
    "print(\"Input array shape:\", common_voice_train[rand_int][\"audio\"][\"array\"].shape)\n",
    "print(\"Sampling rate:\", common_voice_train[rand_int][\"audio\"][\"sampling_rate\"])\n",
    "print(\"\\n\")\n",
    "ipd.Audio(data=common_voice_train[rand_int][\"audio\"][\"array\"], autoplay=True, rate=16000)"
   ]
  },
  {
   "cell_type": "markdown",
   "id": "881bb68a-7c9b-4e4d-890e-1727c564aad7",
   "metadata": {},
   "source": [
    "## Tokenizer"
   ]
  },
  {
   "cell_type": "markdown",
   "id": "abeb7b2a-d3f8-4d41-861b-5e5d85cd6958",
   "metadata": {},
   "source": [
    "### Building vocabulary"
   ]
  },
  {
   "cell_type": "markdown",
   "id": "218e6af1-216a-448d-88c5-67333468ac18",
   "metadata": {},
   "source": [
    "In Wav2Vec2 ASR models, the vocabulary is typically composed of characters or subword units, not whole words.\n",
    "\n",
    "Since the \"facebook/wav2vec2-large-960h\" Wav2Vec2 model was pretrained using character-based vocabulary, we should stick to it.\n",
    "\n",
    "We use a mapping function to build the vocabulary from the training data."
   ]
  },
  {
   "cell_type": "code",
   "execution_count": 18,
   "id": "a89c14a2-5dc3-444e-b4e7-510156241d6e",
   "metadata": {},
   "outputs": [],
   "source": [
    "def extract_all_chars(batch):\n",
    "    all_text = \" \".join(batch[\"text\"])\n",
    "    vocab = list(set(all_text))\n",
    "    return {\"vocab\": [vocab]}"
   ]
  },
  {
   "cell_type": "code",
   "execution_count": 19,
   "id": "ea07c0e4-9a69-4f7a-b270-7746fcce1e0e",
   "metadata": {},
   "outputs": [
    {
     "name": "stderr",
     "output_type": "stream",
     "text": [
      "Map: 100%|███████████████████████████████████████████| 133647/133647 [00:00<00:00, 371772.37 examples/s]\n"
     ]
    }
   ],
   "source": [
    "vocab_train = common_voice_train.map(extract_all_chars, batched=True, batch_size=-1, keep_in_memory=True, remove_columns=common_voice_train.column_names)"
   ]
  },
  {
   "cell_type": "markdown",
   "id": "a6cc7159-b998-47b4-b209-9d9c993b8e49",
   "metadata": {},
   "source": [
    "The order of the alphabet is fixed to ensure that the input ids from the cached dataset (see later steps) can match with the vocabulary even with re-run."
   ]
  },
  {
   "cell_type": "code",
   "execution_count": 20,
   "id": "929c8459-facc-4e2a-a56f-316add916fd4",
   "metadata": {},
   "outputs": [
    {
     "data": {
      "text/plain": [
       "[' ',\n",
       " \"'\",\n",
       " 'A',\n",
       " 'B',\n",
       " 'C',\n",
       " 'D',\n",
       " 'E',\n",
       " 'F',\n",
       " 'G',\n",
       " 'H',\n",
       " 'I',\n",
       " 'J',\n",
       " 'K',\n",
       " 'L',\n",
       " 'M',\n",
       " 'N',\n",
       " 'O',\n",
       " 'P',\n",
       " 'Q',\n",
       " 'R',\n",
       " 'S',\n",
       " 'T',\n",
       " 'U',\n",
       " 'V',\n",
       " 'W',\n",
       " 'X',\n",
       " 'Y',\n",
       " 'Z']"
      ]
     },
     "execution_count": 20,
     "metadata": {},
     "output_type": "execute_result"
    }
   ],
   "source": [
    "vocab_list = list(set(vocab_train[\"vocab\"][0]))\n",
    "vocab_list.sort()\n",
    "vocab_list"
   ]
  },
  {
   "cell_type": "code",
   "execution_count": 152,
   "id": "bd91307c-c1db-4e57-ae37-7f95edfd3015",
   "metadata": {},
   "outputs": [
    {
     "data": {
      "text/plain": [
       "{\"'\": 1,\n",
       " 'A': 2,\n",
       " 'B': 3,\n",
       " 'C': 4,\n",
       " 'D': 5,\n",
       " 'E': 6,\n",
       " 'F': 7,\n",
       " 'G': 8,\n",
       " 'H': 9,\n",
       " 'I': 10,\n",
       " 'J': 11,\n",
       " 'K': 12,\n",
       " 'L': 13,\n",
       " 'M': 14,\n",
       " 'N': 15,\n",
       " 'O': 16,\n",
       " 'P': 17,\n",
       " 'Q': 18,\n",
       " 'R': 19,\n",
       " 'S': 20,\n",
       " 'T': 21,\n",
       " 'U': 22,\n",
       " 'V': 23,\n",
       " 'W': 24,\n",
       " 'X': 25,\n",
       " 'Y': 26,\n",
       " 'Z': 27,\n",
       " '|': 0}"
      ]
     },
     "execution_count": 152,
     "metadata": {},
     "output_type": "execute_result"
    }
   ],
   "source": [
    "vocab_dict = {v: k for k, v in enumerate(vocab_list)}\n",
    "\n",
    "# To avoid ambiguity for \" \" token class, we give it a more visible character \"|\".\n",
    "vocab_dict[\"|\"] = vocab_dict[\" \"]\n",
    "del vocab_dict[\" \"]\n",
    "\n",
    "vocab_dict"
   ]
  },
  {
   "cell_type": "markdown",
   "id": "ff8a3fc3-b482-45ad-be1f-7ee920dbda78",
   "metadata": {},
   "source": [
    "We should check the pretrained processor to see the vocabulary it was trained on as well."
   ]
  },
  {
   "cell_type": "markdown",
   "id": "bf5361ee-df3b-43f9-a8b8-03135e84f0c8",
   "metadata": {},
   "source": [
    "### Instantiate the pretrained processor"
   ]
  },
  {
   "cell_type": "code",
   "execution_count": 153,
   "id": "f0024e10-7d8e-47d5-bbf4-3f208429cabb",
   "metadata": {},
   "outputs": [],
   "source": [
    "processor = Wav2Vec2Processor.from_pretrained(\"facebook/wav2vec2-large-960h\")"
   ]
  },
  {
   "cell_type": "code",
   "execution_count": 154,
   "id": "f18d2664-a1c9-4166-902c-f5cb7c855898",
   "metadata": {},
   "outputs": [
    {
     "data": {
      "text/plain": [
       "{'<pad>': 0,\n",
       " '<s>': 1,\n",
       " '</s>': 2,\n",
       " '<unk>': 3,\n",
       " '|': 4,\n",
       " 'E': 5,\n",
       " 'T': 6,\n",
       " 'A': 7,\n",
       " 'O': 8,\n",
       " 'N': 9,\n",
       " 'I': 10,\n",
       " 'H': 11,\n",
       " 'S': 12,\n",
       " 'R': 13,\n",
       " 'D': 14,\n",
       " 'L': 15,\n",
       " 'U': 16,\n",
       " 'M': 17,\n",
       " 'W': 18,\n",
       " 'C': 19,\n",
       " 'F': 20,\n",
       " 'G': 21,\n",
       " 'Y': 22,\n",
       " 'P': 23,\n",
       " 'B': 24,\n",
       " 'V': 25,\n",
       " 'K': 26,\n",
       " \"'\": 27,\n",
       " 'X': 28,\n",
       " 'J': 29,\n",
       " 'Q': 30,\n",
       " 'Z': 31}"
      ]
     },
     "execution_count": 154,
     "metadata": {},
     "output_type": "execute_result"
    }
   ],
   "source": [
    "# Get the vocab dictionary from the tokenizer\n",
    "vocab_dict = processor.tokenizer.get_vocab()\n",
    "vocab_dict = dict(sorted(vocab_dict.items(), key=lambda item: item[1]))\n",
    "vocab_dict"
   ]
  },
  {
   "cell_type": "markdown",
   "id": "de41efd9-87b1-4c15-8fc2-eba2658e84dc",
   "metadata": {},
   "source": [
    "Notice that the vocabulary is the same, except for the additional special tokens, eg. unknown and padding tokens. Since we are finetuning the pretrained model, we should stick to the vocabulary and the corresponding indexes the model is trained on. If we use our own generated vocabulary instead, this will cause the training loss to be higher at the start. This is due to mismatch between the embedding layer, which maps token IDs (from the vocabulary) to learned vectors."
   ]
  },
  {
   "cell_type": "markdown",
   "id": "a8d47ada-db2a-4c2d-a2bd-25e36bf269ca",
   "metadata": {},
   "source": [
    "### Save vocabulary"
   ]
  },
  {
   "cell_type": "code",
   "execution_count": 155,
   "id": "ef41fa94-4371-4b0e-8ef9-47f0e191f181",
   "metadata": {},
   "outputs": [],
   "source": [
    "with open('vocab.json', 'w') as vocab_file:\n",
    "    json.dump(vocab_dict, vocab_file)"
   ]
  },
  {
   "cell_type": "markdown",
   "id": "4124a3c4-4f8e-4ab3-a51c-bf2dcbbbd523",
   "metadata": {},
   "source": [
    "### Instantiate the tokenizer and the feature extractor"
   ]
  },
  {
   "cell_type": "markdown",
   "id": "042d3ac3-980e-49c5-a58a-3dd9c9f83f57",
   "metadata": {},
   "source": [
    "The processor contains the tokenizer, but there is a problem if we use the imported processor directly later. See [Issue “got multiple values for keyword argument” for Wav2Vec2 tokenizer](https://discuss.huggingface.co/t/issue-got-multiple-values-for-keyword-argument-for-wav2vec2-tokenizer/155931/2). Hence, we will need to instantiate the tokenizer and the feature extractor to build the processor."
   ]
  },
  {
   "cell_type": "code",
   "execution_count": 156,
   "id": "0297c257-b487-4e88-a2b8-f1dcf4970b5b",
   "metadata": {},
   "outputs": [],
   "source": [
    "tokenizer = Wav2Vec2CTCTokenizer(\"./vocab.json\", unk_token=\"<unk>\", pad_token=\"<pad>\", bos_token = '<s>', eos_token = '</s>', word_delimiter_token=\"|\")"
   ]
  },
  {
   "cell_type": "code",
   "execution_count": 157,
   "id": "856ba163-a307-49b4-940c-7eb698733e34",
   "metadata": {},
   "outputs": [],
   "source": [
    "feature_extractor = Wav2Vec2FeatureExtractor(feature_size=1, sampling_rate=16000, padding_value=0.0, do_normalize=True, return_attention_mask=True)"
   ]
  },
  {
   "cell_type": "markdown",
   "id": "e4bec562-1551-40f6-81f6-1d9428f670a5",
   "metadata": {},
   "source": [
    "### Instantiate the processor"
   ]
  },
  {
   "cell_type": "code",
   "execution_count": 158,
   "id": "3362179b-a9f6-450c-897e-7c5c69c0916a",
   "metadata": {},
   "outputs": [],
   "source": [
    "processor = Wav2Vec2Processor(feature_extractor=feature_extractor, tokenizer=tokenizer)"
   ]
  },
  {
   "cell_type": "markdown",
   "id": "8ac8db14-98fb-45a5-8448-787cc7cc9f17",
   "metadata": {},
   "source": [
    "## Data Preparation"
   ]
  },
  {
   "cell_type": "markdown",
   "id": "6d3e677d-6041-450d-a296-d152a4f62707",
   "metadata": {},
   "source": [
    "### Split dataset"
   ]
  },
  {
   "cell_type": "markdown",
   "id": "37a56a45-fe84-4909-8faa-07670e4d62b9",
   "metadata": {},
   "source": [
    "We have to split the 'cv-valid-train' dataset further down into 70-30 ratio, where 30% is kept for validation."
   ]
  },
  {
   "cell_type": "code",
   "execution_count": 110,
   "id": "b9371b90-a213-43fb-a03d-ce6adbd7dcb7",
   "metadata": {},
   "outputs": [],
   "source": [
    "split = common_voice_train.train_test_split(test_size=0.3, seed=42)\n",
    "\n",
    "common_voice_train_train = split['train']\n",
    "common_voice_train_validation = split['test']"
   ]
  },
  {
   "cell_type": "markdown",
   "id": "8fb48f4d-fd93-44a4-8f3c-a473dbbff49e",
   "metadata": {},
   "source": [
    "Inspect the ```training_dataset```"
   ]
  },
  {
   "cell_type": "code",
   "execution_count": 111,
   "id": "44d1ecea-e8dc-4eeb-b0fd-0fa60c160e09",
   "metadata": {},
   "outputs": [
    {
     "data": {
      "text/plain": [
       "Dataset({\n",
       "    features: ['filename', 'text', 'audio'],\n",
       "    num_rows: 93552\n",
       "})"
      ]
     },
     "execution_count": 111,
     "metadata": {},
     "output_type": "execute_result"
    }
   ],
   "source": [
    "common_voice_train_train"
   ]
  },
  {
   "cell_type": "markdown",
   "id": "faf755a4-2f37-43dd-b373-02e6f5aa1333",
   "metadata": {},
   "source": [
    "Inspect the ```validation_dataset```"
   ]
  },
  {
   "cell_type": "code",
   "execution_count": 112,
   "id": "c11b77df-1485-4ea6-a408-9c7bc1c54c64",
   "metadata": {},
   "outputs": [
    {
     "data": {
      "text/plain": [
       "Dataset({\n",
       "    features: ['filename', 'text', 'audio'],\n",
       "    num_rows: 40095\n",
       "})"
      ]
     },
     "execution_count": 112,
     "metadata": {},
     "output_type": "execute_result"
    }
   ],
   "source": [
    "common_voice_train_validation"
   ]
  },
  {
   "cell_type": "markdown",
   "id": "f06cdbde-b203-42b4-ba4c-9693ccac6661",
   "metadata": {},
   "source": [
    "### Map data to be used by processor"
   ]
  },
  {
   "cell_type": "markdown",
   "id": "42f169a9-61b3-4cfd-9dcb-493f1f33be23",
   "metadata": {},
   "source": [
    "Inside the ```prepare_dataset``` function, more complex feature extraction methods can be added inside."
   ]
  },
  {
   "cell_type": "code",
   "execution_count": 31,
   "id": "28de6d7e-ec16-4a13-8cb9-0d7d7d7f49b7",
   "metadata": {},
   "outputs": [],
   "source": [
    "def prepare_dataset(batch):\n",
    "    audio = batch[\"audio\"]\n",
    "\n",
    "    batch[\"input_values\"] = processor(audio[\"array\"], sampling_rate=audio[\"sampling_rate\"]).input_values[0]\n",
    "    \n",
    "    with processor.as_target_processor():\n",
    "        batch[\"labels\"] = processor(batch[\"text\"]).input_ids\n",
    "        \n",
    "    return batch"
   ]
  },
  {
   "cell_type": "code",
   "execution_count": 32,
   "id": "8b926245-ed76-43c4-bd72-6622fb0129b5",
   "metadata": {},
   "outputs": [],
   "source": [
    "# training_dataset_cache_dir = \"./caches/training\"\n",
    "# validation_dataset_cache_dir = \"./caches/validation\""
   ]
  },
  {
   "cell_type": "markdown",
   "id": "f772e3d7-1411-4c7c-a4d5-a11ad483c33d",
   "metadata": {},
   "source": [
    "Apply the ```prepare_dataset``` to training and validation dataset. The mapped output will be saved under the *./caches* directory. This helps to save a lot of time and memory when the notebook is re-run again. This will take a bit of time and a lot of memory...\n",
    "\n",
    "Uncomment the cells below to prepare the data again."
   ]
  },
  {
   "cell_type": "code",
   "execution_count": 33,
   "id": "d723f345-32b6-4473-9c3d-7eb34fb7b7c0",
   "metadata": {},
   "outputs": [
    {
     "name": "stderr",
     "output_type": "stream",
     "text": [
      "Map:   0%|                                                             | 0/93552 [00:00<?, ? examples/s]/workspace/htx-xdata-asr/venv/lib/python3.12/site-packages/transformers/models/wav2vec2/processing_wav2vec2.py:174: UserWarning: `as_target_processor` is deprecated and will be removed in v5 of Transformers. You can process your labels by using the argument `text` of the regular `__call__` method (either in the same call as your audio inputs, or in a separate call.\n",
      "  warnings.warn(\n",
      "Map: 100%|████████████████████████████████████████████████| 93552/93552 [03:56<00:00, 396.36 examples/s]\n"
     ]
    }
   ],
   "source": [
    "training_dataset = common_voice_train_train.map(prepare_dataset, remove_columns=common_voice_train_train.column_names, batched=False)"
   ]
  },
  {
   "cell_type": "code",
   "execution_count": 34,
   "id": "532931f5-d51e-420c-832f-f8f834ce6a8a",
   "metadata": {},
   "outputs": [],
   "source": [
    "# os.makedirs(training_dataset_cache_dir, exist_ok=True)\n",
    "# training_dataset.save_to_disk(training_dataset_cache_dir)"
   ]
  },
  {
   "cell_type": "code",
   "execution_count": 35,
   "id": "b33327c5-8784-4fdb-974f-211b678685b0",
   "metadata": {},
   "outputs": [
    {
     "name": "stderr",
     "output_type": "stream",
     "text": [
      "Map: 100%|████████████████████████████████████████████████| 40095/40095 [01:45<00:00, 378.94 examples/s]\n"
     ]
    }
   ],
   "source": [
    "validation_dataset = common_voice_train_validation.map(prepare_dataset, remove_columns=common_voice_train_validation.column_names, batched=False)"
   ]
  },
  {
   "cell_type": "code",
   "execution_count": 36,
   "id": "e3416101-40ab-4016-b364-c2a9dd70dd67",
   "metadata": {},
   "outputs": [],
   "source": [
    "# os.makedirs(validation_dataset_cache_dir, exist_ok=True)\n",
    "# validation_dataset.save_to_disk(validation_dataset_cache_dir)"
   ]
  },
  {
   "cell_type": "markdown",
   "id": "96e11d59-7e99-4c8c-8c8f-f03cabb803e3",
   "metadata": {},
   "source": [
    "### Load cached dataset"
   ]
  },
  {
   "cell_type": "markdown",
   "id": "893f04d4-1e93-447d-ae1b-6921a4b00a6c",
   "metadata": {},
   "source": [
    "If ```training_dataset``` and ```validation_dataset``` are saved in the previous steps, we can skip the data mapping and go directly to load the dataset."
   ]
  },
  {
   "cell_type": "code",
   "execution_count": 37,
   "id": "996d76e2-f0f7-4961-be8d-fc35513a1206",
   "metadata": {},
   "outputs": [],
   "source": [
    "# training_dataset = load_from_disk(training_dataset_cache_dir)\n",
    "# validation_dataset = load_from_disk(validation_dataset_cache_dir)"
   ]
  },
  {
   "cell_type": "markdown",
   "id": "09ae6d05-b8b6-4799-85bb-53e4b34d9557",
   "metadata": {},
   "source": [
    "Sanity check"
   ]
  },
  {
   "cell_type": "code",
   "execution_count": 159,
   "id": "b6cacac4-03b5-4431-ab05-4f12934f5d52",
   "metadata": {},
   "outputs": [
    {
     "data": {
      "text/plain": [
       "Dataset({\n",
       "    features: ['input_values', 'labels'],\n",
       "    num_rows: 93552\n",
       "})"
      ]
     },
     "execution_count": 159,
     "metadata": {},
     "output_type": "execute_result"
    }
   ],
   "source": [
    "training_dataset"
   ]
  },
  {
   "cell_type": "code",
   "execution_count": 160,
   "id": "a33a154f-0a0b-4810-8c93-f46b85bfec93",
   "metadata": {},
   "outputs": [
    {
     "data": {
      "text/plain": [
       "Dataset({\n",
       "    features: ['input_values', 'labels'],\n",
       "    num_rows: 40095\n",
       "})"
      ]
     },
     "execution_count": 160,
     "metadata": {},
     "output_type": "execute_result"
    }
   ],
   "source": [
    "validation_dataset"
   ]
  },
  {
   "cell_type": "markdown",
   "id": "57d90169-e56c-4e8c-8e71-abed2ae48db5",
   "metadata": {},
   "source": [
    "## Training"
   ]
  },
  {
   "cell_type": "markdown",
   "id": "98638fb3-60f7-45ce-a290-22bb8ef5aa19",
   "metadata": {},
   "source": [
    "### Instantiate a data collator"
   ]
  },
  {
   "cell_type": "markdown",
   "id": "693d9338-eb78-45ce-89b9-8085cb529310",
   "metadata": {},
   "source": [
    "This is taken from [transformers/.../wav2vec2/run_asr.py](https://github.com/huggingface/transformers/blob/9a06b6b11bdfc42eea08fa91d0c737d1863c99e3/examples/research_projects/wav2vec2/run_asr.py#L81)."
   ]
  },
  {
   "cell_type": "code",
   "execution_count": 161,
   "id": "5ac0d26a-4dda-491c-a676-d196d0846668",
   "metadata": {},
   "outputs": [],
   "source": [
    "@dataclass\n",
    "class DataCollatorCTCWithPadding:\n",
    "    \"\"\"\n",
    "    Data collator that will dynamically pad the inputs received.\n",
    "    Args:\n",
    "        processor (:class:`~transformers.Wav2Vec2Processor`)\n",
    "            The processor used for proccessing the data.\n",
    "        padding (:obj:`bool`, :obj:`str` or :class:`~transformers.tokenization_utils_base.PaddingStrategy`, `optional`, defaults to :obj:`True`):\n",
    "            Select a strategy to pad the returned sequences (according to the model's padding side and padding index)\n",
    "            among:\n",
    "            * :obj:`True` or :obj:`'longest'`: Pad to the longest sequence in the batch (or no padding if only a single\n",
    "              sequence if provided).\n",
    "            * :obj:`'max_length'`: Pad to a maximum length specified with the argument :obj:`max_length` or to the\n",
    "              maximum acceptable input length for the model if that argument is not provided.\n",
    "            * :obj:`False` or :obj:`'do_not_pad'` (default): No padding (i.e., can output a batch with sequences of\n",
    "              different lengths).\n",
    "        max_length (:obj:`int`, `optional`):\n",
    "            Maximum length of the ``input_values`` of the returned list and optionally padding length (see above).\n",
    "        max_length_labels (:obj:`int`, `optional`):\n",
    "            Maximum length of the ``labels`` returned list and optionally padding length (see above).\n",
    "        pad_to_multiple_of (:obj:`int`, `optional`):\n",
    "            If set will pad the sequence to a multiple of the provided value.\n",
    "            This is especially useful to enable the use of Tensor Cores on NVIDIA hardware with compute capability >=\n",
    "            7.5 (Volta).\n",
    "    \"\"\"\n",
    "\n",
    "    processor: Wav2Vec2Processor\n",
    "    padding: Union[bool, str] = True\n",
    "    max_length: Optional[int] = None\n",
    "    max_length_labels: Optional[int] = None\n",
    "    pad_to_multiple_of: Optional[int] = None\n",
    "    pad_to_multiple_of_labels: Optional[int] = None\n",
    "\n",
    "    def __call__(self, features: List[Dict[str, Union[List[int], torch.Tensor]]]) -> Dict[str, torch.Tensor]:\n",
    "        # split inputs and labels since they have to be of different lenghts and need\n",
    "        # different padding methods\n",
    "        input_features = [{\"input_values\": feature[\"input_values\"]} for feature in features]\n",
    "        label_features = [{\"input_ids\": feature[\"labels\"]} for feature in features]\n",
    "\n",
    "        batch = self.processor.pad(\n",
    "            input_features,\n",
    "            padding=self.padding,\n",
    "            max_length=self.max_length,\n",
    "            pad_to_multiple_of=self.pad_to_multiple_of,\n",
    "            return_tensors=\"pt\",\n",
    "        )\n",
    "        with self.processor.as_target_processor():\n",
    "            labels_batch = self.processor.pad(\n",
    "                label_features,\n",
    "                padding=self.padding,\n",
    "                max_length=self.max_length_labels,\n",
    "                pad_to_multiple_of=self.pad_to_multiple_of_labels,\n",
    "                return_tensors=\"pt\",\n",
    "            )\n",
    "\n",
    "        # replace padding with -100 to ignore loss correctly\n",
    "        labels = labels_batch[\"input_ids\"].masked_fill(labels_batch.attention_mask.ne(1), -100)\n",
    "\n",
    "        batch[\"labels\"] = labels\n",
    "\n",
    "        return batch"
   ]
  },
  {
   "cell_type": "code",
   "execution_count": 162,
   "id": "4b770504-1be4-495e-84a5-6255f0ab86e3",
   "metadata": {},
   "outputs": [],
   "source": [
    "data_collator = DataCollatorCTCWithPadding(processor=processor, padding=True)"
   ]
  },
  {
   "cell_type": "markdown",
   "id": "09f91f2c-acfb-45be-8258-2c64f452511e",
   "metadata": {},
   "source": [
    "### Define evaluation metrics"
   ]
  },
  {
   "cell_type": "markdown",
   "id": "704caa89-0a20-4ab0-9321-cd65b8cd173b",
   "metadata": {},
   "source": [
    "The predominant metric in ASR is the word error rate (WER). Character error rate (CER) is often reported as a secondary metric to show finer error details. We will show these two metrics."
   ]
  },
  {
   "cell_type": "code",
   "execution_count": 163,
   "id": "db1d72a0-9cb2-454c-b675-3a98373c8991",
   "metadata": {},
   "outputs": [],
   "source": [
    "def compute_metrics(pred):\n",
    "    pred_logits = pred.predictions\n",
    "    pred_ids = np.argmax(pred_logits, axis=-1)\n",
    "\n",
    "    pred.label_ids[pred.label_ids == -100] = processor.tokenizer.pad_token_id\n",
    "\n",
    "    pred_str = processor.batch_decode(pred_ids)\n",
    "    label_str = processor.batch_decode(pred.label_ids, group_tokens=False)\n",
    "\n",
    "    wer_score = wer(label_str, pred_str)\n",
    "    cer_score = cer(label_str, pred_str)\n",
    "\n",
    "    return {\"wer\": wer_score, \"cer\": cer_score}"
   ]
  },
  {
   "cell_type": "markdown",
   "id": "3e172450-dc6e-4a09-9afd-7d5730052806",
   "metadata": {},
   "source": [
    "### Load pretrained Wav2Vec2 model"
   ]
  },
  {
   "cell_type": "markdown",
   "id": "377dc97b-3a6c-4a41-850b-0d3f9eb62b3c",
   "metadata": {},
   "source": [
    "The \"facebook/wav2vec2-large-960h\"'s Wav2Vec2 model is selected to be finetuned with the Common Voice dataset. This pretrained model will be compared with the finetuned model later.\n",
    "\n",
    "Rationale for the hyperparameter settings:\n",
    "- Keep to default hyperparameter values as the checkpoint \"facebook/wav2vec2-large-960h\" already includes carefully tuned values optimized for robust training on large English speech datasets.\n",
    "- Since the training time is tight, we cannot afford to run extensive hyperparameter tuning experiments.\n",
    "- Keeping these hyperparameters at their defaults reduces complexity, training time, and the risk of destabilizing the model during finetuning.\n",
    "\n",
    "Link to the default configurations: https://huggingface.co/facebook/wav2vec2-large-960h/blob/main/config.json"
   ]
  },
  {
   "cell_type": "code",
   "execution_count": 164,
   "id": "9ef8c291-de3d-475c-b876-b33613414a15",
   "metadata": {},
   "outputs": [
    {
     "name": "stderr",
     "output_type": "stream",
     "text": [
      "Some weights of Wav2Vec2ForCTC were not initialized from the model checkpoint at facebook/wav2vec2-large-960h and are newly initialized: ['wav2vec2.masked_spec_embed']\n",
      "You should probably TRAIN this model on a down-stream task to be able to use it for predictions and inference.\n"
     ]
    }
   ],
   "source": [
    "model = Wav2Vec2ForCTC.from_pretrained(\"facebook/wav2vec2-large-960h\")"
   ]
  },
  {
   "cell_type": "markdown",
   "id": "654ec6b5-ae64-4153-af47-0cdc2d9e26b1",
   "metadata": {},
   "source": [
    "### Inspect model"
   ]
  },
  {
   "cell_type": "code",
   "execution_count": 165,
   "id": "ac42d4dc-0f19-4a0c-8319-ca9f8bfe7305",
   "metadata": {},
   "outputs": [
    {
     "name": "stdout",
     "output_type": "stream",
     "text": [
      "Parameter Name                                                                   | Requires Grad\n",
      "----------------------------------------------------------------------------------------------------\n",
      "wav2vec2.masked_spec_embed                                                       | True\n",
      "wav2vec2.feature_extractor.conv_layers.0.conv.weight                             | True\n",
      "wav2vec2.feature_extractor.conv_layers.0.layer_norm.weight                       | True\n",
      "wav2vec2.feature_extractor.conv_layers.0.layer_norm.bias                         | True\n",
      "wav2vec2.feature_extractor.conv_layers.1.conv.weight                             | True\n",
      "wav2vec2.feature_extractor.conv_layers.2.conv.weight                             | True\n",
      "wav2vec2.feature_extractor.conv_layers.3.conv.weight                             | True\n",
      "wav2vec2.feature_extractor.conv_layers.4.conv.weight                             | True\n",
      "wav2vec2.feature_extractor.conv_layers.5.conv.weight                             | True\n",
      "wav2vec2.feature_extractor.conv_layers.6.conv.weight                             | True\n",
      "wav2vec2.feature_projection.layer_norm.weight                                    | True\n",
      "wav2vec2.feature_projection.layer_norm.bias                                      | True\n",
      "wav2vec2.feature_projection.projection.weight                                    | True\n",
      "wav2vec2.feature_projection.projection.bias                                      | True\n",
      "wav2vec2.encoder.pos_conv_embed.conv.bias                                        | True\n",
      "wav2vec2.encoder.pos_conv_embed.conv.parametrizations.weight.original0           | True\n",
      "wav2vec2.encoder.pos_conv_embed.conv.parametrizations.weight.original1           | True\n",
      "wav2vec2.encoder.layer_norm.weight                                               | True\n",
      "wav2vec2.encoder.layer_norm.bias                                                 | True\n",
      "wav2vec2.encoder.layers.0.attention.k_proj.weight                                | True\n",
      "wav2vec2.encoder.layers.0.attention.k_proj.bias                                  | True\n",
      "wav2vec2.encoder.layers.0.attention.v_proj.weight                                | True\n",
      "wav2vec2.encoder.layers.0.attention.v_proj.bias                                  | True\n",
      "wav2vec2.encoder.layers.0.attention.q_proj.weight                                | True\n",
      "wav2vec2.encoder.layers.0.attention.q_proj.bias                                  | True\n",
      "wav2vec2.encoder.layers.0.attention.out_proj.weight                              | True\n",
      "wav2vec2.encoder.layers.0.attention.out_proj.bias                                | True\n",
      "wav2vec2.encoder.layers.0.layer_norm.weight                                      | True\n",
      "wav2vec2.encoder.layers.0.layer_norm.bias                                        | True\n",
      "wav2vec2.encoder.layers.0.feed_forward.intermediate_dense.weight                 | True\n",
      "wav2vec2.encoder.layers.0.feed_forward.intermediate_dense.bias                   | True\n",
      "wav2vec2.encoder.layers.0.feed_forward.output_dense.weight                       | True\n",
      "wav2vec2.encoder.layers.0.feed_forward.output_dense.bias                         | True\n",
      "wav2vec2.encoder.layers.0.final_layer_norm.weight                                | True\n",
      "wav2vec2.encoder.layers.0.final_layer_norm.bias                                  | True\n",
      "wav2vec2.encoder.layers.1.attention.k_proj.weight                                | True\n",
      "wav2vec2.encoder.layers.1.attention.k_proj.bias                                  | True\n",
      "wav2vec2.encoder.layers.1.attention.v_proj.weight                                | True\n",
      "wav2vec2.encoder.layers.1.attention.v_proj.bias                                  | True\n",
      "wav2vec2.encoder.layers.1.attention.q_proj.weight                                | True\n",
      "wav2vec2.encoder.layers.1.attention.q_proj.bias                                  | True\n",
      "wav2vec2.encoder.layers.1.attention.out_proj.weight                              | True\n",
      "wav2vec2.encoder.layers.1.attention.out_proj.bias                                | True\n",
      "wav2vec2.encoder.layers.1.layer_norm.weight                                      | True\n",
      "wav2vec2.encoder.layers.1.layer_norm.bias                                        | True\n",
      "wav2vec2.encoder.layers.1.feed_forward.intermediate_dense.weight                 | True\n",
      "wav2vec2.encoder.layers.1.feed_forward.intermediate_dense.bias                   | True\n",
      "wav2vec2.encoder.layers.1.feed_forward.output_dense.weight                       | True\n",
      "wav2vec2.encoder.layers.1.feed_forward.output_dense.bias                         | True\n",
      "wav2vec2.encoder.layers.1.final_layer_norm.weight                                | True\n",
      "wav2vec2.encoder.layers.1.final_layer_norm.bias                                  | True\n",
      "wav2vec2.encoder.layers.2.attention.k_proj.weight                                | True\n",
      "wav2vec2.encoder.layers.2.attention.k_proj.bias                                  | True\n",
      "wav2vec2.encoder.layers.2.attention.v_proj.weight                                | True\n",
      "wav2vec2.encoder.layers.2.attention.v_proj.bias                                  | True\n",
      "wav2vec2.encoder.layers.2.attention.q_proj.weight                                | True\n",
      "wav2vec2.encoder.layers.2.attention.q_proj.bias                                  | True\n",
      "wav2vec2.encoder.layers.2.attention.out_proj.weight                              | True\n",
      "wav2vec2.encoder.layers.2.attention.out_proj.bias                                | True\n",
      "wav2vec2.encoder.layers.2.layer_norm.weight                                      | True\n",
      "wav2vec2.encoder.layers.2.layer_norm.bias                                        | True\n",
      "wav2vec2.encoder.layers.2.feed_forward.intermediate_dense.weight                 | True\n",
      "wav2vec2.encoder.layers.2.feed_forward.intermediate_dense.bias                   | True\n",
      "wav2vec2.encoder.layers.2.feed_forward.output_dense.weight                       | True\n",
      "wav2vec2.encoder.layers.2.feed_forward.output_dense.bias                         | True\n",
      "wav2vec2.encoder.layers.2.final_layer_norm.weight                                | True\n",
      "wav2vec2.encoder.layers.2.final_layer_norm.bias                                  | True\n",
      "wav2vec2.encoder.layers.3.attention.k_proj.weight                                | True\n",
      "wav2vec2.encoder.layers.3.attention.k_proj.bias                                  | True\n",
      "wav2vec2.encoder.layers.3.attention.v_proj.weight                                | True\n",
      "wav2vec2.encoder.layers.3.attention.v_proj.bias                                  | True\n",
      "wav2vec2.encoder.layers.3.attention.q_proj.weight                                | True\n",
      "wav2vec2.encoder.layers.3.attention.q_proj.bias                                  | True\n",
      "wav2vec2.encoder.layers.3.attention.out_proj.weight                              | True\n",
      "wav2vec2.encoder.layers.3.attention.out_proj.bias                                | True\n",
      "wav2vec2.encoder.layers.3.layer_norm.weight                                      | True\n",
      "wav2vec2.encoder.layers.3.layer_norm.bias                                        | True\n",
      "wav2vec2.encoder.layers.3.feed_forward.intermediate_dense.weight                 | True\n",
      "wav2vec2.encoder.layers.3.feed_forward.intermediate_dense.bias                   | True\n",
      "wav2vec2.encoder.layers.3.feed_forward.output_dense.weight                       | True\n",
      "wav2vec2.encoder.layers.3.feed_forward.output_dense.bias                         | True\n",
      "wav2vec2.encoder.layers.3.final_layer_norm.weight                                | True\n",
      "wav2vec2.encoder.layers.3.final_layer_norm.bias                                  | True\n",
      "wav2vec2.encoder.layers.4.attention.k_proj.weight                                | True\n",
      "wav2vec2.encoder.layers.4.attention.k_proj.bias                                  | True\n",
      "wav2vec2.encoder.layers.4.attention.v_proj.weight                                | True\n",
      "wav2vec2.encoder.layers.4.attention.v_proj.bias                                  | True\n",
      "wav2vec2.encoder.layers.4.attention.q_proj.weight                                | True\n",
      "wav2vec2.encoder.layers.4.attention.q_proj.bias                                  | True\n",
      "wav2vec2.encoder.layers.4.attention.out_proj.weight                              | True\n",
      "wav2vec2.encoder.layers.4.attention.out_proj.bias                                | True\n",
      "wav2vec2.encoder.layers.4.layer_norm.weight                                      | True\n",
      "wav2vec2.encoder.layers.4.layer_norm.bias                                        | True\n",
      "wav2vec2.encoder.layers.4.feed_forward.intermediate_dense.weight                 | True\n",
      "wav2vec2.encoder.layers.4.feed_forward.intermediate_dense.bias                   | True\n",
      "wav2vec2.encoder.layers.4.feed_forward.output_dense.weight                       | True\n",
      "wav2vec2.encoder.layers.4.feed_forward.output_dense.bias                         | True\n",
      "wav2vec2.encoder.layers.4.final_layer_norm.weight                                | True\n",
      "wav2vec2.encoder.layers.4.final_layer_norm.bias                                  | True\n",
      "wav2vec2.encoder.layers.5.attention.k_proj.weight                                | True\n",
      "wav2vec2.encoder.layers.5.attention.k_proj.bias                                  | True\n",
      "wav2vec2.encoder.layers.5.attention.v_proj.weight                                | True\n",
      "wav2vec2.encoder.layers.5.attention.v_proj.bias                                  | True\n",
      "wav2vec2.encoder.layers.5.attention.q_proj.weight                                | True\n",
      "wav2vec2.encoder.layers.5.attention.q_proj.bias                                  | True\n",
      "wav2vec2.encoder.layers.5.attention.out_proj.weight                              | True\n",
      "wav2vec2.encoder.layers.5.attention.out_proj.bias                                | True\n",
      "wav2vec2.encoder.layers.5.layer_norm.weight                                      | True\n",
      "wav2vec2.encoder.layers.5.layer_norm.bias                                        | True\n",
      "wav2vec2.encoder.layers.5.feed_forward.intermediate_dense.weight                 | True\n",
      "wav2vec2.encoder.layers.5.feed_forward.intermediate_dense.bias                   | True\n",
      "wav2vec2.encoder.layers.5.feed_forward.output_dense.weight                       | True\n",
      "wav2vec2.encoder.layers.5.feed_forward.output_dense.bias                         | True\n",
      "wav2vec2.encoder.layers.5.final_layer_norm.weight                                | True\n",
      "wav2vec2.encoder.layers.5.final_layer_norm.bias                                  | True\n",
      "wav2vec2.encoder.layers.6.attention.k_proj.weight                                | True\n",
      "wav2vec2.encoder.layers.6.attention.k_proj.bias                                  | True\n",
      "wav2vec2.encoder.layers.6.attention.v_proj.weight                                | True\n",
      "wav2vec2.encoder.layers.6.attention.v_proj.bias                                  | True\n",
      "wav2vec2.encoder.layers.6.attention.q_proj.weight                                | True\n",
      "wav2vec2.encoder.layers.6.attention.q_proj.bias                                  | True\n",
      "wav2vec2.encoder.layers.6.attention.out_proj.weight                              | True\n",
      "wav2vec2.encoder.layers.6.attention.out_proj.bias                                | True\n",
      "wav2vec2.encoder.layers.6.layer_norm.weight                                      | True\n",
      "wav2vec2.encoder.layers.6.layer_norm.bias                                        | True\n",
      "wav2vec2.encoder.layers.6.feed_forward.intermediate_dense.weight                 | True\n",
      "wav2vec2.encoder.layers.6.feed_forward.intermediate_dense.bias                   | True\n",
      "wav2vec2.encoder.layers.6.feed_forward.output_dense.weight                       | True\n",
      "wav2vec2.encoder.layers.6.feed_forward.output_dense.bias                         | True\n",
      "wav2vec2.encoder.layers.6.final_layer_norm.weight                                | True\n",
      "wav2vec2.encoder.layers.6.final_layer_norm.bias                                  | True\n",
      "wav2vec2.encoder.layers.7.attention.k_proj.weight                                | True\n",
      "wav2vec2.encoder.layers.7.attention.k_proj.bias                                  | True\n",
      "wav2vec2.encoder.layers.7.attention.v_proj.weight                                | True\n",
      "wav2vec2.encoder.layers.7.attention.v_proj.bias                                  | True\n",
      "wav2vec2.encoder.layers.7.attention.q_proj.weight                                | True\n",
      "wav2vec2.encoder.layers.7.attention.q_proj.bias                                  | True\n",
      "wav2vec2.encoder.layers.7.attention.out_proj.weight                              | True\n",
      "wav2vec2.encoder.layers.7.attention.out_proj.bias                                | True\n",
      "wav2vec2.encoder.layers.7.layer_norm.weight                                      | True\n",
      "wav2vec2.encoder.layers.7.layer_norm.bias                                        | True\n",
      "wav2vec2.encoder.layers.7.feed_forward.intermediate_dense.weight                 | True\n",
      "wav2vec2.encoder.layers.7.feed_forward.intermediate_dense.bias                   | True\n",
      "wav2vec2.encoder.layers.7.feed_forward.output_dense.weight                       | True\n",
      "wav2vec2.encoder.layers.7.feed_forward.output_dense.bias                         | True\n",
      "wav2vec2.encoder.layers.7.final_layer_norm.weight                                | True\n",
      "wav2vec2.encoder.layers.7.final_layer_norm.bias                                  | True\n",
      "wav2vec2.encoder.layers.8.attention.k_proj.weight                                | True\n",
      "wav2vec2.encoder.layers.8.attention.k_proj.bias                                  | True\n",
      "wav2vec2.encoder.layers.8.attention.v_proj.weight                                | True\n",
      "wav2vec2.encoder.layers.8.attention.v_proj.bias                                  | True\n",
      "wav2vec2.encoder.layers.8.attention.q_proj.weight                                | True\n",
      "wav2vec2.encoder.layers.8.attention.q_proj.bias                                  | True\n",
      "wav2vec2.encoder.layers.8.attention.out_proj.weight                              | True\n",
      "wav2vec2.encoder.layers.8.attention.out_proj.bias                                | True\n",
      "wav2vec2.encoder.layers.8.layer_norm.weight                                      | True\n",
      "wav2vec2.encoder.layers.8.layer_norm.bias                                        | True\n",
      "wav2vec2.encoder.layers.8.feed_forward.intermediate_dense.weight                 | True\n",
      "wav2vec2.encoder.layers.8.feed_forward.intermediate_dense.bias                   | True\n",
      "wav2vec2.encoder.layers.8.feed_forward.output_dense.weight                       | True\n",
      "wav2vec2.encoder.layers.8.feed_forward.output_dense.bias                         | True\n",
      "wav2vec2.encoder.layers.8.final_layer_norm.weight                                | True\n",
      "wav2vec2.encoder.layers.8.final_layer_norm.bias                                  | True\n",
      "wav2vec2.encoder.layers.9.attention.k_proj.weight                                | True\n",
      "wav2vec2.encoder.layers.9.attention.k_proj.bias                                  | True\n",
      "wav2vec2.encoder.layers.9.attention.v_proj.weight                                | True\n",
      "wav2vec2.encoder.layers.9.attention.v_proj.bias                                  | True\n",
      "wav2vec2.encoder.layers.9.attention.q_proj.weight                                | True\n",
      "wav2vec2.encoder.layers.9.attention.q_proj.bias                                  | True\n",
      "wav2vec2.encoder.layers.9.attention.out_proj.weight                              | True\n",
      "wav2vec2.encoder.layers.9.attention.out_proj.bias                                | True\n",
      "wav2vec2.encoder.layers.9.layer_norm.weight                                      | True\n",
      "wav2vec2.encoder.layers.9.layer_norm.bias                                        | True\n",
      "wav2vec2.encoder.layers.9.feed_forward.intermediate_dense.weight                 | True\n",
      "wav2vec2.encoder.layers.9.feed_forward.intermediate_dense.bias                   | True\n",
      "wav2vec2.encoder.layers.9.feed_forward.output_dense.weight                       | True\n",
      "wav2vec2.encoder.layers.9.feed_forward.output_dense.bias                         | True\n",
      "wav2vec2.encoder.layers.9.final_layer_norm.weight                                | True\n",
      "wav2vec2.encoder.layers.9.final_layer_norm.bias                                  | True\n",
      "wav2vec2.encoder.layers.10.attention.k_proj.weight                               | True\n",
      "wav2vec2.encoder.layers.10.attention.k_proj.bias                                 | True\n",
      "wav2vec2.encoder.layers.10.attention.v_proj.weight                               | True\n",
      "wav2vec2.encoder.layers.10.attention.v_proj.bias                                 | True\n",
      "wav2vec2.encoder.layers.10.attention.q_proj.weight                               | True\n",
      "wav2vec2.encoder.layers.10.attention.q_proj.bias                                 | True\n",
      "wav2vec2.encoder.layers.10.attention.out_proj.weight                             | True\n",
      "wav2vec2.encoder.layers.10.attention.out_proj.bias                               | True\n",
      "wav2vec2.encoder.layers.10.layer_norm.weight                                     | True\n",
      "wav2vec2.encoder.layers.10.layer_norm.bias                                       | True\n",
      "wav2vec2.encoder.layers.10.feed_forward.intermediate_dense.weight                | True\n",
      "wav2vec2.encoder.layers.10.feed_forward.intermediate_dense.bias                  | True\n",
      "wav2vec2.encoder.layers.10.feed_forward.output_dense.weight                      | True\n",
      "wav2vec2.encoder.layers.10.feed_forward.output_dense.bias                        | True\n",
      "wav2vec2.encoder.layers.10.final_layer_norm.weight                               | True\n",
      "wav2vec2.encoder.layers.10.final_layer_norm.bias                                 | True\n",
      "wav2vec2.encoder.layers.11.attention.k_proj.weight                               | True\n",
      "wav2vec2.encoder.layers.11.attention.k_proj.bias                                 | True\n",
      "wav2vec2.encoder.layers.11.attention.v_proj.weight                               | True\n",
      "wav2vec2.encoder.layers.11.attention.v_proj.bias                                 | True\n",
      "wav2vec2.encoder.layers.11.attention.q_proj.weight                               | True\n",
      "wav2vec2.encoder.layers.11.attention.q_proj.bias                                 | True\n",
      "wav2vec2.encoder.layers.11.attention.out_proj.weight                             | True\n",
      "wav2vec2.encoder.layers.11.attention.out_proj.bias                               | True\n",
      "wav2vec2.encoder.layers.11.layer_norm.weight                                     | True\n",
      "wav2vec2.encoder.layers.11.layer_norm.bias                                       | True\n",
      "wav2vec2.encoder.layers.11.feed_forward.intermediate_dense.weight                | True\n",
      "wav2vec2.encoder.layers.11.feed_forward.intermediate_dense.bias                  | True\n",
      "wav2vec2.encoder.layers.11.feed_forward.output_dense.weight                      | True\n",
      "wav2vec2.encoder.layers.11.feed_forward.output_dense.bias                        | True\n",
      "wav2vec2.encoder.layers.11.final_layer_norm.weight                               | True\n",
      "wav2vec2.encoder.layers.11.final_layer_norm.bias                                 | True\n",
      "wav2vec2.encoder.layers.12.attention.k_proj.weight                               | True\n",
      "wav2vec2.encoder.layers.12.attention.k_proj.bias                                 | True\n",
      "wav2vec2.encoder.layers.12.attention.v_proj.weight                               | True\n",
      "wav2vec2.encoder.layers.12.attention.v_proj.bias                                 | True\n",
      "wav2vec2.encoder.layers.12.attention.q_proj.weight                               | True\n",
      "wav2vec2.encoder.layers.12.attention.q_proj.bias                                 | True\n",
      "wav2vec2.encoder.layers.12.attention.out_proj.weight                             | True\n",
      "wav2vec2.encoder.layers.12.attention.out_proj.bias                               | True\n",
      "wav2vec2.encoder.layers.12.layer_norm.weight                                     | True\n",
      "wav2vec2.encoder.layers.12.layer_norm.bias                                       | True\n",
      "wav2vec2.encoder.layers.12.feed_forward.intermediate_dense.weight                | True\n",
      "wav2vec2.encoder.layers.12.feed_forward.intermediate_dense.bias                  | True\n",
      "wav2vec2.encoder.layers.12.feed_forward.output_dense.weight                      | True\n",
      "wav2vec2.encoder.layers.12.feed_forward.output_dense.bias                        | True\n",
      "wav2vec2.encoder.layers.12.final_layer_norm.weight                               | True\n",
      "wav2vec2.encoder.layers.12.final_layer_norm.bias                                 | True\n",
      "wav2vec2.encoder.layers.13.attention.k_proj.weight                               | True\n",
      "wav2vec2.encoder.layers.13.attention.k_proj.bias                                 | True\n",
      "wav2vec2.encoder.layers.13.attention.v_proj.weight                               | True\n",
      "wav2vec2.encoder.layers.13.attention.v_proj.bias                                 | True\n",
      "wav2vec2.encoder.layers.13.attention.q_proj.weight                               | True\n",
      "wav2vec2.encoder.layers.13.attention.q_proj.bias                                 | True\n",
      "wav2vec2.encoder.layers.13.attention.out_proj.weight                             | True\n",
      "wav2vec2.encoder.layers.13.attention.out_proj.bias                               | True\n",
      "wav2vec2.encoder.layers.13.layer_norm.weight                                     | True\n",
      "wav2vec2.encoder.layers.13.layer_norm.bias                                       | True\n",
      "wav2vec2.encoder.layers.13.feed_forward.intermediate_dense.weight                | True\n",
      "wav2vec2.encoder.layers.13.feed_forward.intermediate_dense.bias                  | True\n",
      "wav2vec2.encoder.layers.13.feed_forward.output_dense.weight                      | True\n",
      "wav2vec2.encoder.layers.13.feed_forward.output_dense.bias                        | True\n",
      "wav2vec2.encoder.layers.13.final_layer_norm.weight                               | True\n",
      "wav2vec2.encoder.layers.13.final_layer_norm.bias                                 | True\n",
      "wav2vec2.encoder.layers.14.attention.k_proj.weight                               | True\n",
      "wav2vec2.encoder.layers.14.attention.k_proj.bias                                 | True\n",
      "wav2vec2.encoder.layers.14.attention.v_proj.weight                               | True\n",
      "wav2vec2.encoder.layers.14.attention.v_proj.bias                                 | True\n",
      "wav2vec2.encoder.layers.14.attention.q_proj.weight                               | True\n",
      "wav2vec2.encoder.layers.14.attention.q_proj.bias                                 | True\n",
      "wav2vec2.encoder.layers.14.attention.out_proj.weight                             | True\n",
      "wav2vec2.encoder.layers.14.attention.out_proj.bias                               | True\n",
      "wav2vec2.encoder.layers.14.layer_norm.weight                                     | True\n",
      "wav2vec2.encoder.layers.14.layer_norm.bias                                       | True\n",
      "wav2vec2.encoder.layers.14.feed_forward.intermediate_dense.weight                | True\n",
      "wav2vec2.encoder.layers.14.feed_forward.intermediate_dense.bias                  | True\n",
      "wav2vec2.encoder.layers.14.feed_forward.output_dense.weight                      | True\n",
      "wav2vec2.encoder.layers.14.feed_forward.output_dense.bias                        | True\n",
      "wav2vec2.encoder.layers.14.final_layer_norm.weight                               | True\n",
      "wav2vec2.encoder.layers.14.final_layer_norm.bias                                 | True\n",
      "wav2vec2.encoder.layers.15.attention.k_proj.weight                               | True\n",
      "wav2vec2.encoder.layers.15.attention.k_proj.bias                                 | True\n",
      "wav2vec2.encoder.layers.15.attention.v_proj.weight                               | True\n",
      "wav2vec2.encoder.layers.15.attention.v_proj.bias                                 | True\n",
      "wav2vec2.encoder.layers.15.attention.q_proj.weight                               | True\n",
      "wav2vec2.encoder.layers.15.attention.q_proj.bias                                 | True\n",
      "wav2vec2.encoder.layers.15.attention.out_proj.weight                             | True\n",
      "wav2vec2.encoder.layers.15.attention.out_proj.bias                               | True\n",
      "wav2vec2.encoder.layers.15.layer_norm.weight                                     | True\n",
      "wav2vec2.encoder.layers.15.layer_norm.bias                                       | True\n",
      "wav2vec2.encoder.layers.15.feed_forward.intermediate_dense.weight                | True\n",
      "wav2vec2.encoder.layers.15.feed_forward.intermediate_dense.bias                  | True\n",
      "wav2vec2.encoder.layers.15.feed_forward.output_dense.weight                      | True\n",
      "wav2vec2.encoder.layers.15.feed_forward.output_dense.bias                        | True\n",
      "wav2vec2.encoder.layers.15.final_layer_norm.weight                               | True\n",
      "wav2vec2.encoder.layers.15.final_layer_norm.bias                                 | True\n",
      "wav2vec2.encoder.layers.16.attention.k_proj.weight                               | True\n",
      "wav2vec2.encoder.layers.16.attention.k_proj.bias                                 | True\n",
      "wav2vec2.encoder.layers.16.attention.v_proj.weight                               | True\n",
      "wav2vec2.encoder.layers.16.attention.v_proj.bias                                 | True\n",
      "wav2vec2.encoder.layers.16.attention.q_proj.weight                               | True\n",
      "wav2vec2.encoder.layers.16.attention.q_proj.bias                                 | True\n",
      "wav2vec2.encoder.layers.16.attention.out_proj.weight                             | True\n",
      "wav2vec2.encoder.layers.16.attention.out_proj.bias                               | True\n",
      "wav2vec2.encoder.layers.16.layer_norm.weight                                     | True\n",
      "wav2vec2.encoder.layers.16.layer_norm.bias                                       | True\n",
      "wav2vec2.encoder.layers.16.feed_forward.intermediate_dense.weight                | True\n",
      "wav2vec2.encoder.layers.16.feed_forward.intermediate_dense.bias                  | True\n",
      "wav2vec2.encoder.layers.16.feed_forward.output_dense.weight                      | True\n",
      "wav2vec2.encoder.layers.16.feed_forward.output_dense.bias                        | True\n",
      "wav2vec2.encoder.layers.16.final_layer_norm.weight                               | True\n",
      "wav2vec2.encoder.layers.16.final_layer_norm.bias                                 | True\n",
      "wav2vec2.encoder.layers.17.attention.k_proj.weight                               | True\n",
      "wav2vec2.encoder.layers.17.attention.k_proj.bias                                 | True\n",
      "wav2vec2.encoder.layers.17.attention.v_proj.weight                               | True\n",
      "wav2vec2.encoder.layers.17.attention.v_proj.bias                                 | True\n",
      "wav2vec2.encoder.layers.17.attention.q_proj.weight                               | True\n",
      "wav2vec2.encoder.layers.17.attention.q_proj.bias                                 | True\n",
      "wav2vec2.encoder.layers.17.attention.out_proj.weight                             | True\n",
      "wav2vec2.encoder.layers.17.attention.out_proj.bias                               | True\n",
      "wav2vec2.encoder.layers.17.layer_norm.weight                                     | True\n",
      "wav2vec2.encoder.layers.17.layer_norm.bias                                       | True\n",
      "wav2vec2.encoder.layers.17.feed_forward.intermediate_dense.weight                | True\n",
      "wav2vec2.encoder.layers.17.feed_forward.intermediate_dense.bias                  | True\n",
      "wav2vec2.encoder.layers.17.feed_forward.output_dense.weight                      | True\n",
      "wav2vec2.encoder.layers.17.feed_forward.output_dense.bias                        | True\n",
      "wav2vec2.encoder.layers.17.final_layer_norm.weight                               | True\n",
      "wav2vec2.encoder.layers.17.final_layer_norm.bias                                 | True\n",
      "wav2vec2.encoder.layers.18.attention.k_proj.weight                               | True\n",
      "wav2vec2.encoder.layers.18.attention.k_proj.bias                                 | True\n",
      "wav2vec2.encoder.layers.18.attention.v_proj.weight                               | True\n",
      "wav2vec2.encoder.layers.18.attention.v_proj.bias                                 | True\n",
      "wav2vec2.encoder.layers.18.attention.q_proj.weight                               | True\n",
      "wav2vec2.encoder.layers.18.attention.q_proj.bias                                 | True\n",
      "wav2vec2.encoder.layers.18.attention.out_proj.weight                             | True\n",
      "wav2vec2.encoder.layers.18.attention.out_proj.bias                               | True\n",
      "wav2vec2.encoder.layers.18.layer_norm.weight                                     | True\n",
      "wav2vec2.encoder.layers.18.layer_norm.bias                                       | True\n",
      "wav2vec2.encoder.layers.18.feed_forward.intermediate_dense.weight                | True\n",
      "wav2vec2.encoder.layers.18.feed_forward.intermediate_dense.bias                  | True\n",
      "wav2vec2.encoder.layers.18.feed_forward.output_dense.weight                      | True\n",
      "wav2vec2.encoder.layers.18.feed_forward.output_dense.bias                        | True\n",
      "wav2vec2.encoder.layers.18.final_layer_norm.weight                               | True\n",
      "wav2vec2.encoder.layers.18.final_layer_norm.bias                                 | True\n",
      "wav2vec2.encoder.layers.19.attention.k_proj.weight                               | True\n",
      "wav2vec2.encoder.layers.19.attention.k_proj.bias                                 | True\n",
      "wav2vec2.encoder.layers.19.attention.v_proj.weight                               | True\n",
      "wav2vec2.encoder.layers.19.attention.v_proj.bias                                 | True\n",
      "wav2vec2.encoder.layers.19.attention.q_proj.weight                               | True\n",
      "wav2vec2.encoder.layers.19.attention.q_proj.bias                                 | True\n",
      "wav2vec2.encoder.layers.19.attention.out_proj.weight                             | True\n",
      "wav2vec2.encoder.layers.19.attention.out_proj.bias                               | True\n",
      "wav2vec2.encoder.layers.19.layer_norm.weight                                     | True\n",
      "wav2vec2.encoder.layers.19.layer_norm.bias                                       | True\n",
      "wav2vec2.encoder.layers.19.feed_forward.intermediate_dense.weight                | True\n",
      "wav2vec2.encoder.layers.19.feed_forward.intermediate_dense.bias                  | True\n",
      "wav2vec2.encoder.layers.19.feed_forward.output_dense.weight                      | True\n",
      "wav2vec2.encoder.layers.19.feed_forward.output_dense.bias                        | True\n",
      "wav2vec2.encoder.layers.19.final_layer_norm.weight                               | True\n",
      "wav2vec2.encoder.layers.19.final_layer_norm.bias                                 | True\n",
      "wav2vec2.encoder.layers.20.attention.k_proj.weight                               | True\n",
      "wav2vec2.encoder.layers.20.attention.k_proj.bias                                 | True\n",
      "wav2vec2.encoder.layers.20.attention.v_proj.weight                               | True\n",
      "wav2vec2.encoder.layers.20.attention.v_proj.bias                                 | True\n",
      "wav2vec2.encoder.layers.20.attention.q_proj.weight                               | True\n",
      "wav2vec2.encoder.layers.20.attention.q_proj.bias                                 | True\n",
      "wav2vec2.encoder.layers.20.attention.out_proj.weight                             | True\n",
      "wav2vec2.encoder.layers.20.attention.out_proj.bias                               | True\n",
      "wav2vec2.encoder.layers.20.layer_norm.weight                                     | True\n",
      "wav2vec2.encoder.layers.20.layer_norm.bias                                       | True\n",
      "wav2vec2.encoder.layers.20.feed_forward.intermediate_dense.weight                | True\n",
      "wav2vec2.encoder.layers.20.feed_forward.intermediate_dense.bias                  | True\n",
      "wav2vec2.encoder.layers.20.feed_forward.output_dense.weight                      | True\n",
      "wav2vec2.encoder.layers.20.feed_forward.output_dense.bias                        | True\n",
      "wav2vec2.encoder.layers.20.final_layer_norm.weight                               | True\n",
      "wav2vec2.encoder.layers.20.final_layer_norm.bias                                 | True\n",
      "wav2vec2.encoder.layers.21.attention.k_proj.weight                               | True\n",
      "wav2vec2.encoder.layers.21.attention.k_proj.bias                                 | True\n",
      "wav2vec2.encoder.layers.21.attention.v_proj.weight                               | True\n",
      "wav2vec2.encoder.layers.21.attention.v_proj.bias                                 | True\n",
      "wav2vec2.encoder.layers.21.attention.q_proj.weight                               | True\n",
      "wav2vec2.encoder.layers.21.attention.q_proj.bias                                 | True\n",
      "wav2vec2.encoder.layers.21.attention.out_proj.weight                             | True\n",
      "wav2vec2.encoder.layers.21.attention.out_proj.bias                               | True\n",
      "wav2vec2.encoder.layers.21.layer_norm.weight                                     | True\n",
      "wav2vec2.encoder.layers.21.layer_norm.bias                                       | True\n",
      "wav2vec2.encoder.layers.21.feed_forward.intermediate_dense.weight                | True\n",
      "wav2vec2.encoder.layers.21.feed_forward.intermediate_dense.bias                  | True\n",
      "wav2vec2.encoder.layers.21.feed_forward.output_dense.weight                      | True\n",
      "wav2vec2.encoder.layers.21.feed_forward.output_dense.bias                        | True\n",
      "wav2vec2.encoder.layers.21.final_layer_norm.weight                               | True\n",
      "wav2vec2.encoder.layers.21.final_layer_norm.bias                                 | True\n",
      "wav2vec2.encoder.layers.22.attention.k_proj.weight                               | True\n",
      "wav2vec2.encoder.layers.22.attention.k_proj.bias                                 | True\n",
      "wav2vec2.encoder.layers.22.attention.v_proj.weight                               | True\n",
      "wav2vec2.encoder.layers.22.attention.v_proj.bias                                 | True\n",
      "wav2vec2.encoder.layers.22.attention.q_proj.weight                               | True\n",
      "wav2vec2.encoder.layers.22.attention.q_proj.bias                                 | True\n",
      "wav2vec2.encoder.layers.22.attention.out_proj.weight                             | True\n",
      "wav2vec2.encoder.layers.22.attention.out_proj.bias                               | True\n",
      "wav2vec2.encoder.layers.22.layer_norm.weight                                     | True\n",
      "wav2vec2.encoder.layers.22.layer_norm.bias                                       | True\n",
      "wav2vec2.encoder.layers.22.feed_forward.intermediate_dense.weight                | True\n",
      "wav2vec2.encoder.layers.22.feed_forward.intermediate_dense.bias                  | True\n",
      "wav2vec2.encoder.layers.22.feed_forward.output_dense.weight                      | True\n",
      "wav2vec2.encoder.layers.22.feed_forward.output_dense.bias                        | True\n",
      "wav2vec2.encoder.layers.22.final_layer_norm.weight                               | True\n",
      "wav2vec2.encoder.layers.22.final_layer_norm.bias                                 | True\n",
      "wav2vec2.encoder.layers.23.attention.k_proj.weight                               | True\n",
      "wav2vec2.encoder.layers.23.attention.k_proj.bias                                 | True\n",
      "wav2vec2.encoder.layers.23.attention.v_proj.weight                               | True\n",
      "wav2vec2.encoder.layers.23.attention.v_proj.bias                                 | True\n",
      "wav2vec2.encoder.layers.23.attention.q_proj.weight                               | True\n",
      "wav2vec2.encoder.layers.23.attention.q_proj.bias                                 | True\n",
      "wav2vec2.encoder.layers.23.attention.out_proj.weight                             | True\n",
      "wav2vec2.encoder.layers.23.attention.out_proj.bias                               | True\n",
      "wav2vec2.encoder.layers.23.layer_norm.weight                                     | True\n",
      "wav2vec2.encoder.layers.23.layer_norm.bias                                       | True\n",
      "wav2vec2.encoder.layers.23.feed_forward.intermediate_dense.weight                | True\n",
      "wav2vec2.encoder.layers.23.feed_forward.intermediate_dense.bias                  | True\n",
      "wav2vec2.encoder.layers.23.feed_forward.output_dense.weight                      | True\n",
      "wav2vec2.encoder.layers.23.feed_forward.output_dense.bias                        | True\n",
      "wav2vec2.encoder.layers.23.final_layer_norm.weight                               | True\n",
      "wav2vec2.encoder.layers.23.final_layer_norm.bias                                 | True\n",
      "lm_head.weight                                                                   | True\n",
      "lm_head.bias                                                                     | True\n"
     ]
    }
   ],
   "source": [
    "print(f\"{'Parameter Name':<80} | {'Requires Grad'}\")\n",
    "print(\"-\" * 100)\n",
    "\n",
    "for name, param in model.named_parameters():\n",
    "    print(f\"{name:<80} | {param.requires_grad}\")"
   ]
  },
  {
   "cell_type": "markdown",
   "id": "381e7376-737c-41df-b5cf-6456889ea9ac",
   "metadata": {},
   "source": [
    "### Freezing pretrained weights"
   ]
  },
  {
   "cell_type": "markdown",
   "id": "d83cefb0-2a1b-4012-8a17-c8d75cc7fa0f",
   "metadata": {},
   "source": [
    "In this finetuning experiment, we can freeze the convolutional feature extractor.\n",
    "\n",
    "Rationale for Freezing the Feature Extractor:\n",
    "- The feature extractor has been pretrained on large speech data to learn robust low-level audio representations, which are generally transferable across datasets.\n",
    "- Freezing it reduces the number of trainable parameters, which lowers the computational cost and speeds up training. This is important since the training time is tight."
   ]
  },
  {
   "cell_type": "code",
   "execution_count": 166,
   "id": "b1417d03-aae7-4e95-b71c-d22d6755288b",
   "metadata": {},
   "outputs": [
    {
     "name": "stderr",
     "output_type": "stream",
     "text": [
      "/workspace/htx-xdata-asr/venv/lib/python3.12/site-packages/transformers/models/wav2vec2/modeling_wav2vec2.py:2084: FutureWarning: The method `freeze_feature_extractor` is deprecated and will be removed in Transformers v5. Please use the equivalent `freeze_feature_encoder` method instead.\n",
      "  warnings.warn(\n"
     ]
    }
   ],
   "source": [
    "model.freeze_feature_extractor()"
   ]
  },
  {
   "cell_type": "markdown",
   "id": "f9e15f50-e2a7-4817-884c-788f01e24c63",
   "metadata": {},
   "source": [
    "In addition to the convolutional feature extractor, we can also freeze early encoder layers.\n",
    "\n",
    "Rationale for Freezing early Encoder Layers:\n",
    "- The early layers contain learnt general audio representations and may not need re-training, especially for same language finetuning.\n",
    "- Ensure later encoder layers are trained so that higher level features adapts better to our dataset."
   ]
  },
  {
   "cell_type": "code",
   "execution_count": 167,
   "id": "0755dcac-db06-4473-a7e0-b17ef58e6a45",
   "metadata": {},
   "outputs": [],
   "source": [
    "# Freeze first 6 transformer layers\n",
    "N = 6\n",
    "for i in range(N):\n",
    "    for param in model.wav2vec2.encoder.layers[i].parameters():\n",
    "        param.requires_grad = False"
   ]
  },
  {
   "cell_type": "markdown",
   "id": "11fcfe31-2439-4cc8-877a-6d373eaee0aa",
   "metadata": {},
   "source": [
    "Inspect the model again"
   ]
  },
  {
   "cell_type": "code",
   "execution_count": 168,
   "id": "58d51a71-18cc-4725-bca9-7687f320dd9c",
   "metadata": {},
   "outputs": [
    {
     "name": "stdout",
     "output_type": "stream",
     "text": [
      "Parameter Name                                                                   | Requires Grad\n",
      "----------------------------------------------------------------------------------------------------\n",
      "wav2vec2.masked_spec_embed                                                       | True\n",
      "wav2vec2.feature_extractor.conv_layers.0.conv.weight                             | False\n",
      "wav2vec2.feature_extractor.conv_layers.0.layer_norm.weight                       | False\n",
      "wav2vec2.feature_extractor.conv_layers.0.layer_norm.bias                         | False\n",
      "wav2vec2.feature_extractor.conv_layers.1.conv.weight                             | False\n",
      "wav2vec2.feature_extractor.conv_layers.2.conv.weight                             | False\n",
      "wav2vec2.feature_extractor.conv_layers.3.conv.weight                             | False\n",
      "wav2vec2.feature_extractor.conv_layers.4.conv.weight                             | False\n",
      "wav2vec2.feature_extractor.conv_layers.5.conv.weight                             | False\n",
      "wav2vec2.feature_extractor.conv_layers.6.conv.weight                             | False\n",
      "wav2vec2.feature_projection.layer_norm.weight                                    | True\n",
      "wav2vec2.feature_projection.layer_norm.bias                                      | True\n",
      "wav2vec2.feature_projection.projection.weight                                    | True\n",
      "wav2vec2.feature_projection.projection.bias                                      | True\n",
      "wav2vec2.encoder.pos_conv_embed.conv.bias                                        | True\n",
      "wav2vec2.encoder.pos_conv_embed.conv.parametrizations.weight.original0           | True\n",
      "wav2vec2.encoder.pos_conv_embed.conv.parametrizations.weight.original1           | True\n",
      "wav2vec2.encoder.layer_norm.weight                                               | True\n",
      "wav2vec2.encoder.layer_norm.bias                                                 | True\n",
      "wav2vec2.encoder.layers.0.attention.k_proj.weight                                | False\n",
      "wav2vec2.encoder.layers.0.attention.k_proj.bias                                  | False\n",
      "wav2vec2.encoder.layers.0.attention.v_proj.weight                                | False\n",
      "wav2vec2.encoder.layers.0.attention.v_proj.bias                                  | False\n",
      "wav2vec2.encoder.layers.0.attention.q_proj.weight                                | False\n",
      "wav2vec2.encoder.layers.0.attention.q_proj.bias                                  | False\n",
      "wav2vec2.encoder.layers.0.attention.out_proj.weight                              | False\n",
      "wav2vec2.encoder.layers.0.attention.out_proj.bias                                | False\n",
      "wav2vec2.encoder.layers.0.layer_norm.weight                                      | False\n",
      "wav2vec2.encoder.layers.0.layer_norm.bias                                        | False\n",
      "wav2vec2.encoder.layers.0.feed_forward.intermediate_dense.weight                 | False\n",
      "wav2vec2.encoder.layers.0.feed_forward.intermediate_dense.bias                   | False\n",
      "wav2vec2.encoder.layers.0.feed_forward.output_dense.weight                       | False\n",
      "wav2vec2.encoder.layers.0.feed_forward.output_dense.bias                         | False\n",
      "wav2vec2.encoder.layers.0.final_layer_norm.weight                                | False\n",
      "wav2vec2.encoder.layers.0.final_layer_norm.bias                                  | False\n",
      "wav2vec2.encoder.layers.1.attention.k_proj.weight                                | False\n",
      "wav2vec2.encoder.layers.1.attention.k_proj.bias                                  | False\n",
      "wav2vec2.encoder.layers.1.attention.v_proj.weight                                | False\n",
      "wav2vec2.encoder.layers.1.attention.v_proj.bias                                  | False\n",
      "wav2vec2.encoder.layers.1.attention.q_proj.weight                                | False\n",
      "wav2vec2.encoder.layers.1.attention.q_proj.bias                                  | False\n",
      "wav2vec2.encoder.layers.1.attention.out_proj.weight                              | False\n",
      "wav2vec2.encoder.layers.1.attention.out_proj.bias                                | False\n",
      "wav2vec2.encoder.layers.1.layer_norm.weight                                      | False\n",
      "wav2vec2.encoder.layers.1.layer_norm.bias                                        | False\n",
      "wav2vec2.encoder.layers.1.feed_forward.intermediate_dense.weight                 | False\n",
      "wav2vec2.encoder.layers.1.feed_forward.intermediate_dense.bias                   | False\n",
      "wav2vec2.encoder.layers.1.feed_forward.output_dense.weight                       | False\n",
      "wav2vec2.encoder.layers.1.feed_forward.output_dense.bias                         | False\n",
      "wav2vec2.encoder.layers.1.final_layer_norm.weight                                | False\n",
      "wav2vec2.encoder.layers.1.final_layer_norm.bias                                  | False\n",
      "wav2vec2.encoder.layers.2.attention.k_proj.weight                                | False\n",
      "wav2vec2.encoder.layers.2.attention.k_proj.bias                                  | False\n",
      "wav2vec2.encoder.layers.2.attention.v_proj.weight                                | False\n",
      "wav2vec2.encoder.layers.2.attention.v_proj.bias                                  | False\n",
      "wav2vec2.encoder.layers.2.attention.q_proj.weight                                | False\n",
      "wav2vec2.encoder.layers.2.attention.q_proj.bias                                  | False\n",
      "wav2vec2.encoder.layers.2.attention.out_proj.weight                              | False\n",
      "wav2vec2.encoder.layers.2.attention.out_proj.bias                                | False\n",
      "wav2vec2.encoder.layers.2.layer_norm.weight                                      | False\n",
      "wav2vec2.encoder.layers.2.layer_norm.bias                                        | False\n",
      "wav2vec2.encoder.layers.2.feed_forward.intermediate_dense.weight                 | False\n",
      "wav2vec2.encoder.layers.2.feed_forward.intermediate_dense.bias                   | False\n",
      "wav2vec2.encoder.layers.2.feed_forward.output_dense.weight                       | False\n",
      "wav2vec2.encoder.layers.2.feed_forward.output_dense.bias                         | False\n",
      "wav2vec2.encoder.layers.2.final_layer_norm.weight                                | False\n",
      "wav2vec2.encoder.layers.2.final_layer_norm.bias                                  | False\n",
      "wav2vec2.encoder.layers.3.attention.k_proj.weight                                | False\n",
      "wav2vec2.encoder.layers.3.attention.k_proj.bias                                  | False\n",
      "wav2vec2.encoder.layers.3.attention.v_proj.weight                                | False\n",
      "wav2vec2.encoder.layers.3.attention.v_proj.bias                                  | False\n",
      "wav2vec2.encoder.layers.3.attention.q_proj.weight                                | False\n",
      "wav2vec2.encoder.layers.3.attention.q_proj.bias                                  | False\n",
      "wav2vec2.encoder.layers.3.attention.out_proj.weight                              | False\n",
      "wav2vec2.encoder.layers.3.attention.out_proj.bias                                | False\n",
      "wav2vec2.encoder.layers.3.layer_norm.weight                                      | False\n",
      "wav2vec2.encoder.layers.3.layer_norm.bias                                        | False\n",
      "wav2vec2.encoder.layers.3.feed_forward.intermediate_dense.weight                 | False\n",
      "wav2vec2.encoder.layers.3.feed_forward.intermediate_dense.bias                   | False\n",
      "wav2vec2.encoder.layers.3.feed_forward.output_dense.weight                       | False\n",
      "wav2vec2.encoder.layers.3.feed_forward.output_dense.bias                         | False\n",
      "wav2vec2.encoder.layers.3.final_layer_norm.weight                                | False\n",
      "wav2vec2.encoder.layers.3.final_layer_norm.bias                                  | False\n",
      "wav2vec2.encoder.layers.4.attention.k_proj.weight                                | False\n",
      "wav2vec2.encoder.layers.4.attention.k_proj.bias                                  | False\n",
      "wav2vec2.encoder.layers.4.attention.v_proj.weight                                | False\n",
      "wav2vec2.encoder.layers.4.attention.v_proj.bias                                  | False\n",
      "wav2vec2.encoder.layers.4.attention.q_proj.weight                                | False\n",
      "wav2vec2.encoder.layers.4.attention.q_proj.bias                                  | False\n",
      "wav2vec2.encoder.layers.4.attention.out_proj.weight                              | False\n",
      "wav2vec2.encoder.layers.4.attention.out_proj.bias                                | False\n",
      "wav2vec2.encoder.layers.4.layer_norm.weight                                      | False\n",
      "wav2vec2.encoder.layers.4.layer_norm.bias                                        | False\n",
      "wav2vec2.encoder.layers.4.feed_forward.intermediate_dense.weight                 | False\n",
      "wav2vec2.encoder.layers.4.feed_forward.intermediate_dense.bias                   | False\n",
      "wav2vec2.encoder.layers.4.feed_forward.output_dense.weight                       | False\n",
      "wav2vec2.encoder.layers.4.feed_forward.output_dense.bias                         | False\n",
      "wav2vec2.encoder.layers.4.final_layer_norm.weight                                | False\n",
      "wav2vec2.encoder.layers.4.final_layer_norm.bias                                  | False\n",
      "wav2vec2.encoder.layers.5.attention.k_proj.weight                                | False\n",
      "wav2vec2.encoder.layers.5.attention.k_proj.bias                                  | False\n",
      "wav2vec2.encoder.layers.5.attention.v_proj.weight                                | False\n",
      "wav2vec2.encoder.layers.5.attention.v_proj.bias                                  | False\n",
      "wav2vec2.encoder.layers.5.attention.q_proj.weight                                | False\n",
      "wav2vec2.encoder.layers.5.attention.q_proj.bias                                  | False\n",
      "wav2vec2.encoder.layers.5.attention.out_proj.weight                              | False\n",
      "wav2vec2.encoder.layers.5.attention.out_proj.bias                                | False\n",
      "wav2vec2.encoder.layers.5.layer_norm.weight                                      | False\n",
      "wav2vec2.encoder.layers.5.layer_norm.bias                                        | False\n",
      "wav2vec2.encoder.layers.5.feed_forward.intermediate_dense.weight                 | False\n",
      "wav2vec2.encoder.layers.5.feed_forward.intermediate_dense.bias                   | False\n",
      "wav2vec2.encoder.layers.5.feed_forward.output_dense.weight                       | False\n",
      "wav2vec2.encoder.layers.5.feed_forward.output_dense.bias                         | False\n",
      "wav2vec2.encoder.layers.5.final_layer_norm.weight                                | False\n",
      "wav2vec2.encoder.layers.5.final_layer_norm.bias                                  | False\n",
      "wav2vec2.encoder.layers.6.attention.k_proj.weight                                | True\n",
      "wav2vec2.encoder.layers.6.attention.k_proj.bias                                  | True\n",
      "wav2vec2.encoder.layers.6.attention.v_proj.weight                                | True\n",
      "wav2vec2.encoder.layers.6.attention.v_proj.bias                                  | True\n",
      "wav2vec2.encoder.layers.6.attention.q_proj.weight                                | True\n",
      "wav2vec2.encoder.layers.6.attention.q_proj.bias                                  | True\n",
      "wav2vec2.encoder.layers.6.attention.out_proj.weight                              | True\n",
      "wav2vec2.encoder.layers.6.attention.out_proj.bias                                | True\n",
      "wav2vec2.encoder.layers.6.layer_norm.weight                                      | True\n",
      "wav2vec2.encoder.layers.6.layer_norm.bias                                        | True\n",
      "wav2vec2.encoder.layers.6.feed_forward.intermediate_dense.weight                 | True\n",
      "wav2vec2.encoder.layers.6.feed_forward.intermediate_dense.bias                   | True\n",
      "wav2vec2.encoder.layers.6.feed_forward.output_dense.weight                       | True\n",
      "wav2vec2.encoder.layers.6.feed_forward.output_dense.bias                         | True\n",
      "wav2vec2.encoder.layers.6.final_layer_norm.weight                                | True\n",
      "wav2vec2.encoder.layers.6.final_layer_norm.bias                                  | True\n",
      "wav2vec2.encoder.layers.7.attention.k_proj.weight                                | True\n",
      "wav2vec2.encoder.layers.7.attention.k_proj.bias                                  | True\n",
      "wav2vec2.encoder.layers.7.attention.v_proj.weight                                | True\n",
      "wav2vec2.encoder.layers.7.attention.v_proj.bias                                  | True\n",
      "wav2vec2.encoder.layers.7.attention.q_proj.weight                                | True\n",
      "wav2vec2.encoder.layers.7.attention.q_proj.bias                                  | True\n",
      "wav2vec2.encoder.layers.7.attention.out_proj.weight                              | True\n",
      "wav2vec2.encoder.layers.7.attention.out_proj.bias                                | True\n",
      "wav2vec2.encoder.layers.7.layer_norm.weight                                      | True\n",
      "wav2vec2.encoder.layers.7.layer_norm.bias                                        | True\n",
      "wav2vec2.encoder.layers.7.feed_forward.intermediate_dense.weight                 | True\n",
      "wav2vec2.encoder.layers.7.feed_forward.intermediate_dense.bias                   | True\n",
      "wav2vec2.encoder.layers.7.feed_forward.output_dense.weight                       | True\n",
      "wav2vec2.encoder.layers.7.feed_forward.output_dense.bias                         | True\n",
      "wav2vec2.encoder.layers.7.final_layer_norm.weight                                | True\n",
      "wav2vec2.encoder.layers.7.final_layer_norm.bias                                  | True\n",
      "wav2vec2.encoder.layers.8.attention.k_proj.weight                                | True\n",
      "wav2vec2.encoder.layers.8.attention.k_proj.bias                                  | True\n",
      "wav2vec2.encoder.layers.8.attention.v_proj.weight                                | True\n",
      "wav2vec2.encoder.layers.8.attention.v_proj.bias                                  | True\n",
      "wav2vec2.encoder.layers.8.attention.q_proj.weight                                | True\n",
      "wav2vec2.encoder.layers.8.attention.q_proj.bias                                  | True\n",
      "wav2vec2.encoder.layers.8.attention.out_proj.weight                              | True\n",
      "wav2vec2.encoder.layers.8.attention.out_proj.bias                                | True\n",
      "wav2vec2.encoder.layers.8.layer_norm.weight                                      | True\n",
      "wav2vec2.encoder.layers.8.layer_norm.bias                                        | True\n",
      "wav2vec2.encoder.layers.8.feed_forward.intermediate_dense.weight                 | True\n",
      "wav2vec2.encoder.layers.8.feed_forward.intermediate_dense.bias                   | True\n",
      "wav2vec2.encoder.layers.8.feed_forward.output_dense.weight                       | True\n",
      "wav2vec2.encoder.layers.8.feed_forward.output_dense.bias                         | True\n",
      "wav2vec2.encoder.layers.8.final_layer_norm.weight                                | True\n",
      "wav2vec2.encoder.layers.8.final_layer_norm.bias                                  | True\n",
      "wav2vec2.encoder.layers.9.attention.k_proj.weight                                | True\n",
      "wav2vec2.encoder.layers.9.attention.k_proj.bias                                  | True\n",
      "wav2vec2.encoder.layers.9.attention.v_proj.weight                                | True\n",
      "wav2vec2.encoder.layers.9.attention.v_proj.bias                                  | True\n",
      "wav2vec2.encoder.layers.9.attention.q_proj.weight                                | True\n",
      "wav2vec2.encoder.layers.9.attention.q_proj.bias                                  | True\n",
      "wav2vec2.encoder.layers.9.attention.out_proj.weight                              | True\n",
      "wav2vec2.encoder.layers.9.attention.out_proj.bias                                | True\n",
      "wav2vec2.encoder.layers.9.layer_norm.weight                                      | True\n",
      "wav2vec2.encoder.layers.9.layer_norm.bias                                        | True\n",
      "wav2vec2.encoder.layers.9.feed_forward.intermediate_dense.weight                 | True\n",
      "wav2vec2.encoder.layers.9.feed_forward.intermediate_dense.bias                   | True\n",
      "wav2vec2.encoder.layers.9.feed_forward.output_dense.weight                       | True\n",
      "wav2vec2.encoder.layers.9.feed_forward.output_dense.bias                         | True\n",
      "wav2vec2.encoder.layers.9.final_layer_norm.weight                                | True\n",
      "wav2vec2.encoder.layers.9.final_layer_norm.bias                                  | True\n",
      "wav2vec2.encoder.layers.10.attention.k_proj.weight                               | True\n",
      "wav2vec2.encoder.layers.10.attention.k_proj.bias                                 | True\n",
      "wav2vec2.encoder.layers.10.attention.v_proj.weight                               | True\n",
      "wav2vec2.encoder.layers.10.attention.v_proj.bias                                 | True\n",
      "wav2vec2.encoder.layers.10.attention.q_proj.weight                               | True\n",
      "wav2vec2.encoder.layers.10.attention.q_proj.bias                                 | True\n",
      "wav2vec2.encoder.layers.10.attention.out_proj.weight                             | True\n",
      "wav2vec2.encoder.layers.10.attention.out_proj.bias                               | True\n",
      "wav2vec2.encoder.layers.10.layer_norm.weight                                     | True\n",
      "wav2vec2.encoder.layers.10.layer_norm.bias                                       | True\n",
      "wav2vec2.encoder.layers.10.feed_forward.intermediate_dense.weight                | True\n",
      "wav2vec2.encoder.layers.10.feed_forward.intermediate_dense.bias                  | True\n",
      "wav2vec2.encoder.layers.10.feed_forward.output_dense.weight                      | True\n",
      "wav2vec2.encoder.layers.10.feed_forward.output_dense.bias                        | True\n",
      "wav2vec2.encoder.layers.10.final_layer_norm.weight                               | True\n",
      "wav2vec2.encoder.layers.10.final_layer_norm.bias                                 | True\n",
      "wav2vec2.encoder.layers.11.attention.k_proj.weight                               | True\n",
      "wav2vec2.encoder.layers.11.attention.k_proj.bias                                 | True\n",
      "wav2vec2.encoder.layers.11.attention.v_proj.weight                               | True\n",
      "wav2vec2.encoder.layers.11.attention.v_proj.bias                                 | True\n",
      "wav2vec2.encoder.layers.11.attention.q_proj.weight                               | True\n",
      "wav2vec2.encoder.layers.11.attention.q_proj.bias                                 | True\n",
      "wav2vec2.encoder.layers.11.attention.out_proj.weight                             | True\n",
      "wav2vec2.encoder.layers.11.attention.out_proj.bias                               | True\n",
      "wav2vec2.encoder.layers.11.layer_norm.weight                                     | True\n",
      "wav2vec2.encoder.layers.11.layer_norm.bias                                       | True\n",
      "wav2vec2.encoder.layers.11.feed_forward.intermediate_dense.weight                | True\n",
      "wav2vec2.encoder.layers.11.feed_forward.intermediate_dense.bias                  | True\n",
      "wav2vec2.encoder.layers.11.feed_forward.output_dense.weight                      | True\n",
      "wav2vec2.encoder.layers.11.feed_forward.output_dense.bias                        | True\n",
      "wav2vec2.encoder.layers.11.final_layer_norm.weight                               | True\n",
      "wav2vec2.encoder.layers.11.final_layer_norm.bias                                 | True\n",
      "wav2vec2.encoder.layers.12.attention.k_proj.weight                               | True\n",
      "wav2vec2.encoder.layers.12.attention.k_proj.bias                                 | True\n",
      "wav2vec2.encoder.layers.12.attention.v_proj.weight                               | True\n",
      "wav2vec2.encoder.layers.12.attention.v_proj.bias                                 | True\n",
      "wav2vec2.encoder.layers.12.attention.q_proj.weight                               | True\n",
      "wav2vec2.encoder.layers.12.attention.q_proj.bias                                 | True\n",
      "wav2vec2.encoder.layers.12.attention.out_proj.weight                             | True\n",
      "wav2vec2.encoder.layers.12.attention.out_proj.bias                               | True\n",
      "wav2vec2.encoder.layers.12.layer_norm.weight                                     | True\n",
      "wav2vec2.encoder.layers.12.layer_norm.bias                                       | True\n",
      "wav2vec2.encoder.layers.12.feed_forward.intermediate_dense.weight                | True\n",
      "wav2vec2.encoder.layers.12.feed_forward.intermediate_dense.bias                  | True\n",
      "wav2vec2.encoder.layers.12.feed_forward.output_dense.weight                      | True\n",
      "wav2vec2.encoder.layers.12.feed_forward.output_dense.bias                        | True\n",
      "wav2vec2.encoder.layers.12.final_layer_norm.weight                               | True\n",
      "wav2vec2.encoder.layers.12.final_layer_norm.bias                                 | True\n",
      "wav2vec2.encoder.layers.13.attention.k_proj.weight                               | True\n",
      "wav2vec2.encoder.layers.13.attention.k_proj.bias                                 | True\n",
      "wav2vec2.encoder.layers.13.attention.v_proj.weight                               | True\n",
      "wav2vec2.encoder.layers.13.attention.v_proj.bias                                 | True\n",
      "wav2vec2.encoder.layers.13.attention.q_proj.weight                               | True\n",
      "wav2vec2.encoder.layers.13.attention.q_proj.bias                                 | True\n",
      "wav2vec2.encoder.layers.13.attention.out_proj.weight                             | True\n",
      "wav2vec2.encoder.layers.13.attention.out_proj.bias                               | True\n",
      "wav2vec2.encoder.layers.13.layer_norm.weight                                     | True\n",
      "wav2vec2.encoder.layers.13.layer_norm.bias                                       | True\n",
      "wav2vec2.encoder.layers.13.feed_forward.intermediate_dense.weight                | True\n",
      "wav2vec2.encoder.layers.13.feed_forward.intermediate_dense.bias                  | True\n",
      "wav2vec2.encoder.layers.13.feed_forward.output_dense.weight                      | True\n",
      "wav2vec2.encoder.layers.13.feed_forward.output_dense.bias                        | True\n",
      "wav2vec2.encoder.layers.13.final_layer_norm.weight                               | True\n",
      "wav2vec2.encoder.layers.13.final_layer_norm.bias                                 | True\n",
      "wav2vec2.encoder.layers.14.attention.k_proj.weight                               | True\n",
      "wav2vec2.encoder.layers.14.attention.k_proj.bias                                 | True\n",
      "wav2vec2.encoder.layers.14.attention.v_proj.weight                               | True\n",
      "wav2vec2.encoder.layers.14.attention.v_proj.bias                                 | True\n",
      "wav2vec2.encoder.layers.14.attention.q_proj.weight                               | True\n",
      "wav2vec2.encoder.layers.14.attention.q_proj.bias                                 | True\n",
      "wav2vec2.encoder.layers.14.attention.out_proj.weight                             | True\n",
      "wav2vec2.encoder.layers.14.attention.out_proj.bias                               | True\n",
      "wav2vec2.encoder.layers.14.layer_norm.weight                                     | True\n",
      "wav2vec2.encoder.layers.14.layer_norm.bias                                       | True\n",
      "wav2vec2.encoder.layers.14.feed_forward.intermediate_dense.weight                | True\n",
      "wav2vec2.encoder.layers.14.feed_forward.intermediate_dense.bias                  | True\n",
      "wav2vec2.encoder.layers.14.feed_forward.output_dense.weight                      | True\n",
      "wav2vec2.encoder.layers.14.feed_forward.output_dense.bias                        | True\n",
      "wav2vec2.encoder.layers.14.final_layer_norm.weight                               | True\n",
      "wav2vec2.encoder.layers.14.final_layer_norm.bias                                 | True\n",
      "wav2vec2.encoder.layers.15.attention.k_proj.weight                               | True\n",
      "wav2vec2.encoder.layers.15.attention.k_proj.bias                                 | True\n",
      "wav2vec2.encoder.layers.15.attention.v_proj.weight                               | True\n",
      "wav2vec2.encoder.layers.15.attention.v_proj.bias                                 | True\n",
      "wav2vec2.encoder.layers.15.attention.q_proj.weight                               | True\n",
      "wav2vec2.encoder.layers.15.attention.q_proj.bias                                 | True\n",
      "wav2vec2.encoder.layers.15.attention.out_proj.weight                             | True\n",
      "wav2vec2.encoder.layers.15.attention.out_proj.bias                               | True\n",
      "wav2vec2.encoder.layers.15.layer_norm.weight                                     | True\n",
      "wav2vec2.encoder.layers.15.layer_norm.bias                                       | True\n",
      "wav2vec2.encoder.layers.15.feed_forward.intermediate_dense.weight                | True\n",
      "wav2vec2.encoder.layers.15.feed_forward.intermediate_dense.bias                  | True\n",
      "wav2vec2.encoder.layers.15.feed_forward.output_dense.weight                      | True\n",
      "wav2vec2.encoder.layers.15.feed_forward.output_dense.bias                        | True\n",
      "wav2vec2.encoder.layers.15.final_layer_norm.weight                               | True\n",
      "wav2vec2.encoder.layers.15.final_layer_norm.bias                                 | True\n",
      "wav2vec2.encoder.layers.16.attention.k_proj.weight                               | True\n",
      "wav2vec2.encoder.layers.16.attention.k_proj.bias                                 | True\n",
      "wav2vec2.encoder.layers.16.attention.v_proj.weight                               | True\n",
      "wav2vec2.encoder.layers.16.attention.v_proj.bias                                 | True\n",
      "wav2vec2.encoder.layers.16.attention.q_proj.weight                               | True\n",
      "wav2vec2.encoder.layers.16.attention.q_proj.bias                                 | True\n",
      "wav2vec2.encoder.layers.16.attention.out_proj.weight                             | True\n",
      "wav2vec2.encoder.layers.16.attention.out_proj.bias                               | True\n",
      "wav2vec2.encoder.layers.16.layer_norm.weight                                     | True\n",
      "wav2vec2.encoder.layers.16.layer_norm.bias                                       | True\n",
      "wav2vec2.encoder.layers.16.feed_forward.intermediate_dense.weight                | True\n",
      "wav2vec2.encoder.layers.16.feed_forward.intermediate_dense.bias                  | True\n",
      "wav2vec2.encoder.layers.16.feed_forward.output_dense.weight                      | True\n",
      "wav2vec2.encoder.layers.16.feed_forward.output_dense.bias                        | True\n",
      "wav2vec2.encoder.layers.16.final_layer_norm.weight                               | True\n",
      "wav2vec2.encoder.layers.16.final_layer_norm.bias                                 | True\n",
      "wav2vec2.encoder.layers.17.attention.k_proj.weight                               | True\n",
      "wav2vec2.encoder.layers.17.attention.k_proj.bias                                 | True\n",
      "wav2vec2.encoder.layers.17.attention.v_proj.weight                               | True\n",
      "wav2vec2.encoder.layers.17.attention.v_proj.bias                                 | True\n",
      "wav2vec2.encoder.layers.17.attention.q_proj.weight                               | True\n",
      "wav2vec2.encoder.layers.17.attention.q_proj.bias                                 | True\n",
      "wav2vec2.encoder.layers.17.attention.out_proj.weight                             | True\n",
      "wav2vec2.encoder.layers.17.attention.out_proj.bias                               | True\n",
      "wav2vec2.encoder.layers.17.layer_norm.weight                                     | True\n",
      "wav2vec2.encoder.layers.17.layer_norm.bias                                       | True\n",
      "wav2vec2.encoder.layers.17.feed_forward.intermediate_dense.weight                | True\n",
      "wav2vec2.encoder.layers.17.feed_forward.intermediate_dense.bias                  | True\n",
      "wav2vec2.encoder.layers.17.feed_forward.output_dense.weight                      | True\n",
      "wav2vec2.encoder.layers.17.feed_forward.output_dense.bias                        | True\n",
      "wav2vec2.encoder.layers.17.final_layer_norm.weight                               | True\n",
      "wav2vec2.encoder.layers.17.final_layer_norm.bias                                 | True\n",
      "wav2vec2.encoder.layers.18.attention.k_proj.weight                               | True\n",
      "wav2vec2.encoder.layers.18.attention.k_proj.bias                                 | True\n",
      "wav2vec2.encoder.layers.18.attention.v_proj.weight                               | True\n",
      "wav2vec2.encoder.layers.18.attention.v_proj.bias                                 | True\n",
      "wav2vec2.encoder.layers.18.attention.q_proj.weight                               | True\n",
      "wav2vec2.encoder.layers.18.attention.q_proj.bias                                 | True\n",
      "wav2vec2.encoder.layers.18.attention.out_proj.weight                             | True\n",
      "wav2vec2.encoder.layers.18.attention.out_proj.bias                               | True\n",
      "wav2vec2.encoder.layers.18.layer_norm.weight                                     | True\n",
      "wav2vec2.encoder.layers.18.layer_norm.bias                                       | True\n",
      "wav2vec2.encoder.layers.18.feed_forward.intermediate_dense.weight                | True\n",
      "wav2vec2.encoder.layers.18.feed_forward.intermediate_dense.bias                  | True\n",
      "wav2vec2.encoder.layers.18.feed_forward.output_dense.weight                      | True\n",
      "wav2vec2.encoder.layers.18.feed_forward.output_dense.bias                        | True\n",
      "wav2vec2.encoder.layers.18.final_layer_norm.weight                               | True\n",
      "wav2vec2.encoder.layers.18.final_layer_norm.bias                                 | True\n",
      "wav2vec2.encoder.layers.19.attention.k_proj.weight                               | True\n",
      "wav2vec2.encoder.layers.19.attention.k_proj.bias                                 | True\n",
      "wav2vec2.encoder.layers.19.attention.v_proj.weight                               | True\n",
      "wav2vec2.encoder.layers.19.attention.v_proj.bias                                 | True\n",
      "wav2vec2.encoder.layers.19.attention.q_proj.weight                               | True\n",
      "wav2vec2.encoder.layers.19.attention.q_proj.bias                                 | True\n",
      "wav2vec2.encoder.layers.19.attention.out_proj.weight                             | True\n",
      "wav2vec2.encoder.layers.19.attention.out_proj.bias                               | True\n",
      "wav2vec2.encoder.layers.19.layer_norm.weight                                     | True\n",
      "wav2vec2.encoder.layers.19.layer_norm.bias                                       | True\n",
      "wav2vec2.encoder.layers.19.feed_forward.intermediate_dense.weight                | True\n",
      "wav2vec2.encoder.layers.19.feed_forward.intermediate_dense.bias                  | True\n",
      "wav2vec2.encoder.layers.19.feed_forward.output_dense.weight                      | True\n",
      "wav2vec2.encoder.layers.19.feed_forward.output_dense.bias                        | True\n",
      "wav2vec2.encoder.layers.19.final_layer_norm.weight                               | True\n",
      "wav2vec2.encoder.layers.19.final_layer_norm.bias                                 | True\n",
      "wav2vec2.encoder.layers.20.attention.k_proj.weight                               | True\n",
      "wav2vec2.encoder.layers.20.attention.k_proj.bias                                 | True\n",
      "wav2vec2.encoder.layers.20.attention.v_proj.weight                               | True\n",
      "wav2vec2.encoder.layers.20.attention.v_proj.bias                                 | True\n",
      "wav2vec2.encoder.layers.20.attention.q_proj.weight                               | True\n",
      "wav2vec2.encoder.layers.20.attention.q_proj.bias                                 | True\n",
      "wav2vec2.encoder.layers.20.attention.out_proj.weight                             | True\n",
      "wav2vec2.encoder.layers.20.attention.out_proj.bias                               | True\n",
      "wav2vec2.encoder.layers.20.layer_norm.weight                                     | True\n",
      "wav2vec2.encoder.layers.20.layer_norm.bias                                       | True\n",
      "wav2vec2.encoder.layers.20.feed_forward.intermediate_dense.weight                | True\n",
      "wav2vec2.encoder.layers.20.feed_forward.intermediate_dense.bias                  | True\n",
      "wav2vec2.encoder.layers.20.feed_forward.output_dense.weight                      | True\n",
      "wav2vec2.encoder.layers.20.feed_forward.output_dense.bias                        | True\n",
      "wav2vec2.encoder.layers.20.final_layer_norm.weight                               | True\n",
      "wav2vec2.encoder.layers.20.final_layer_norm.bias                                 | True\n",
      "wav2vec2.encoder.layers.21.attention.k_proj.weight                               | True\n",
      "wav2vec2.encoder.layers.21.attention.k_proj.bias                                 | True\n",
      "wav2vec2.encoder.layers.21.attention.v_proj.weight                               | True\n",
      "wav2vec2.encoder.layers.21.attention.v_proj.bias                                 | True\n",
      "wav2vec2.encoder.layers.21.attention.q_proj.weight                               | True\n",
      "wav2vec2.encoder.layers.21.attention.q_proj.bias                                 | True\n",
      "wav2vec2.encoder.layers.21.attention.out_proj.weight                             | True\n",
      "wav2vec2.encoder.layers.21.attention.out_proj.bias                               | True\n",
      "wav2vec2.encoder.layers.21.layer_norm.weight                                     | True\n",
      "wav2vec2.encoder.layers.21.layer_norm.bias                                       | True\n",
      "wav2vec2.encoder.layers.21.feed_forward.intermediate_dense.weight                | True\n",
      "wav2vec2.encoder.layers.21.feed_forward.intermediate_dense.bias                  | True\n",
      "wav2vec2.encoder.layers.21.feed_forward.output_dense.weight                      | True\n",
      "wav2vec2.encoder.layers.21.feed_forward.output_dense.bias                        | True\n",
      "wav2vec2.encoder.layers.21.final_layer_norm.weight                               | True\n",
      "wav2vec2.encoder.layers.21.final_layer_norm.bias                                 | True\n",
      "wav2vec2.encoder.layers.22.attention.k_proj.weight                               | True\n",
      "wav2vec2.encoder.layers.22.attention.k_proj.bias                                 | True\n",
      "wav2vec2.encoder.layers.22.attention.v_proj.weight                               | True\n",
      "wav2vec2.encoder.layers.22.attention.v_proj.bias                                 | True\n",
      "wav2vec2.encoder.layers.22.attention.q_proj.weight                               | True\n",
      "wav2vec2.encoder.layers.22.attention.q_proj.bias                                 | True\n",
      "wav2vec2.encoder.layers.22.attention.out_proj.weight                             | True\n",
      "wav2vec2.encoder.layers.22.attention.out_proj.bias                               | True\n",
      "wav2vec2.encoder.layers.22.layer_norm.weight                                     | True\n",
      "wav2vec2.encoder.layers.22.layer_norm.bias                                       | True\n",
      "wav2vec2.encoder.layers.22.feed_forward.intermediate_dense.weight                | True\n",
      "wav2vec2.encoder.layers.22.feed_forward.intermediate_dense.bias                  | True\n",
      "wav2vec2.encoder.layers.22.feed_forward.output_dense.weight                      | True\n",
      "wav2vec2.encoder.layers.22.feed_forward.output_dense.bias                        | True\n",
      "wav2vec2.encoder.layers.22.final_layer_norm.weight                               | True\n",
      "wav2vec2.encoder.layers.22.final_layer_norm.bias                                 | True\n",
      "wav2vec2.encoder.layers.23.attention.k_proj.weight                               | True\n",
      "wav2vec2.encoder.layers.23.attention.k_proj.bias                                 | True\n",
      "wav2vec2.encoder.layers.23.attention.v_proj.weight                               | True\n",
      "wav2vec2.encoder.layers.23.attention.v_proj.bias                                 | True\n",
      "wav2vec2.encoder.layers.23.attention.q_proj.weight                               | True\n",
      "wav2vec2.encoder.layers.23.attention.q_proj.bias                                 | True\n",
      "wav2vec2.encoder.layers.23.attention.out_proj.weight                             | True\n",
      "wav2vec2.encoder.layers.23.attention.out_proj.bias                               | True\n",
      "wav2vec2.encoder.layers.23.layer_norm.weight                                     | True\n",
      "wav2vec2.encoder.layers.23.layer_norm.bias                                       | True\n",
      "wav2vec2.encoder.layers.23.feed_forward.intermediate_dense.weight                | True\n",
      "wav2vec2.encoder.layers.23.feed_forward.intermediate_dense.bias                  | True\n",
      "wav2vec2.encoder.layers.23.feed_forward.output_dense.weight                      | True\n",
      "wav2vec2.encoder.layers.23.feed_forward.output_dense.bias                        | True\n",
      "wav2vec2.encoder.layers.23.final_layer_norm.weight                               | True\n",
      "wav2vec2.encoder.layers.23.final_layer_norm.bias                                 | True\n",
      "lm_head.weight                                                                   | True\n",
      "lm_head.bias                                                                     | True\n"
     ]
    }
   ],
   "source": [
    "print(f\"{'Parameter Name':<80} | {'Requires Grad'}\")\n",
    "print(\"-\" * 100)\n",
    "\n",
    "for name, param in model.named_parameters():\n",
    "    print(f\"{name:<80} | {param.requires_grad}\")"
   ]
  },
  {
   "cell_type": "markdown",
   "id": "26628aa2-615a-4768-b384-3a9a55e34130",
   "metadata": {},
   "source": [
    "### Defining training arguments"
   ]
  },
  {
   "cell_type": "markdown",
   "id": "61eb3a0c-8769-43cb-8755-ba98acbadce9",
   "metadata": {},
   "source": [
    "Rationale for TrainingArguments settings:\n",
    "- Briefly experimented with the batch size and found that a batch size of 16 uses more than half of the GPU RAM available but lower than the max limit. Hence, we keep it at 16.\n",
    "- The *num_train_epochs* is kept to 5 first. The decision is made purely on logistics (eg. credit spending time, overnight training, etc). 5 epochs should also be good enough to show if the finetuning works.\n",
    "- The *gradient_accumulation_steps* is set to 2, just to simulate higher batch size.\n",
    "- Based on other references online, a learning rate between 1e-5 to 4e4 were used as the starting learning rate for finetuning on Wav2Vec2 models. We can start the experimentation by setting the learning rate to the middle range. It is chosen to be 1e-4 as we freezed extra encoder layers above. A slightly higher learning rate may help with bigger updates in the later stage of the encoders.\n",
    "- *gradient_checkpointing=True* helps reduce memory usage during training."
   ]
  },
  {
   "cell_type": "code",
   "execution_count": 189,
   "id": "a4490a77-b67b-4081-8e63-93acddea1e4e",
   "metadata": {},
   "outputs": [],
   "source": [
    "training_args = TrainingArguments(\n",
    "    output_dir='./checkpoints',\n",
    "    logging_dir=\"./logs\",\n",
    "    group_by_length=True,\n",
    "    # use_cpu=True,\n",
    "    # per_device_train_batch_size=1,\n",
    "    per_device_train_batch_size=16,\n",
    "    per_device_eval_batch_size=16,\n",
    "    gradient_accumulation_steps=2,\n",
    "    eval_strategy=\"steps\",\n",
    "    num_train_epochs=5,\n",
    "    gradient_checkpointing=True,\n",
    "    fp16=True,\n",
    "    save_steps=500,\n",
    "    eval_steps=500,\n",
    "    logging_steps=500,\n",
    "    learning_rate=1e-4,\n",
    "    warmup_steps=500,\n",
    "    max_grad_norm=1.0,\n",
    "    save_total_limit=1,\n",
    "    push_to_hub=False,\n",
    ")"
   ]
  },
  {
   "cell_type": "markdown",
   "id": "a5e87f0b-5ce8-485b-9b3f-774db903137e",
   "metadata": {},
   "source": [
    "Test training with small subset of dataset first. Ensure that the training and validation results look ok before proceeding with the full dataset."
   ]
  },
  {
   "cell_type": "code",
   "execution_count": 200,
   "id": "8b9a69a8-2a5c-4d2b-ac64-c8868f983745",
   "metadata": {},
   "outputs": [],
   "source": [
    "# small_training_dataset = training_dataset.select(range(1000))\n",
    "# small_validation_dataset = validation_dataset.select(range(100))"
   ]
  },
  {
   "cell_type": "code",
   "execution_count": 201,
   "id": "832382be-502e-498b-bf6f-5a9bc4a6bc77",
   "metadata": {},
   "outputs": [],
   "source": [
    "# trainer = Trainer(\n",
    "#     model=model,\n",
    "#     data_collator=data_collator,\n",
    "#     args=training_args,\n",
    "#     compute_metrics=compute_metrics,\n",
    "#     train_dataset=small_training_dataset,\n",
    "#     eval_dataset=small_validation_dataset,\n",
    "#     processing_class=processor,\n",
    "# )"
   ]
  },
  {
   "cell_type": "code",
   "execution_count": 191,
   "id": "2d88e73f-dad0-4ad5-9634-e6d2f8f258f1",
   "metadata": {},
   "outputs": [],
   "source": [
    "trainer = Trainer(\n",
    "    model=model,\n",
    "    data_collator=data_collator,\n",
    "    args=training_args,\n",
    "    compute_metrics=compute_metrics,\n",
    "    train_dataset=training_dataset,\n",
    "    eval_dataset=validation_dataset,\n",
    "    processing_class=processor,\n",
    ")"
   ]
  },
  {
   "cell_type": "markdown",
   "id": "1e21d03a-24ed-4559-9bac-21df01574487",
   "metadata": {},
   "source": [
    "Training starts here..."
   ]
  },
  {
   "cell_type": "code",
   "execution_count": 192,
   "id": "85419893-f805-4321-87c0-06f76b7aa2b0",
   "metadata": {},
   "outputs": [
    {
     "name": "stderr",
     "output_type": "stream",
     "text": [
      "/workspace/htx-xdata-asr/venv/lib/python3.12/site-packages/transformers/models/wav2vec2/processing_wav2vec2.py:174: UserWarning: `as_target_processor` is deprecated and will be removed in v5 of Transformers. You can process your labels by using the argument `text` of the regular `__call__` method (either in the same call as your audio inputs, or in a separate call.\n",
      "  warnings.warn(\n"
     ]
    },
    {
     "data": {
      "text/html": [
       "\n",
       "    <div>\n",
       "      \n",
       "      <progress value='14620' max='14620' style='width:300px; height:20px; vertical-align: middle;'></progress>\n",
       "      [14620/14620 11:49:05, Epoch 5/5]\n",
       "    </div>\n",
       "    <table border=\"1\" class=\"dataframe\">\n",
       "  <thead>\n",
       " <tr style=\"text-align: left;\">\n",
       "      <th>Step</th>\n",
       "      <th>Training Loss</th>\n",
       "      <th>Validation Loss</th>\n",
       "      <th>Wer</th>\n",
       "      <th>Cer</th>\n",
       "    </tr>\n",
       "  </thead>\n",
       "  <tbody>\n",
       "    <tr>\n",
       "      <td>500</td>\n",
       "      <td>353.271700</td>\n",
       "      <td>145.843903</td>\n",
       "      <td>0.126987</td>\n",
       "      <td>0.049092</td>\n",
       "    </tr>\n",
       "    <tr>\n",
       "      <td>1000</td>\n",
       "      <td>268.986200</td>\n",
       "      <td>145.761429</td>\n",
       "      <td>0.104738</td>\n",
       "      <td>0.044101</td>\n",
       "    </tr>\n",
       "    <tr>\n",
       "      <td>1500</td>\n",
       "      <td>247.769400</td>\n",
       "      <td>120.227608</td>\n",
       "      <td>0.097185</td>\n",
       "      <td>0.039661</td>\n",
       "    </tr>\n",
       "    <tr>\n",
       "      <td>2000</td>\n",
       "      <td>227.707300</td>\n",
       "      <td>116.604027</td>\n",
       "      <td>0.091093</td>\n",
       "      <td>0.037372</td>\n",
       "    </tr>\n",
       "    <tr>\n",
       "      <td>2500</td>\n",
       "      <td>214.067800</td>\n",
       "      <td>101.417854</td>\n",
       "      <td>0.086905</td>\n",
       "      <td>0.035600</td>\n",
       "    </tr>\n",
       "    <tr>\n",
       "      <td>3000</td>\n",
       "      <td>208.016400</td>\n",
       "      <td>95.438957</td>\n",
       "      <td>0.077425</td>\n",
       "      <td>0.032199</td>\n",
       "    </tr>\n",
       "    <tr>\n",
       "      <td>3500</td>\n",
       "      <td>185.521100</td>\n",
       "      <td>92.321434</td>\n",
       "      <td>0.076824</td>\n",
       "      <td>0.031896</td>\n",
       "    </tr>\n",
       "    <tr>\n",
       "      <td>4000</td>\n",
       "      <td>177.826000</td>\n",
       "      <td>91.636467</td>\n",
       "      <td>0.072222</td>\n",
       "      <td>0.029916</td>\n",
       "    </tr>\n",
       "    <tr>\n",
       "      <td>4500</td>\n",
       "      <td>172.237600</td>\n",
       "      <td>92.544373</td>\n",
       "      <td>0.071264</td>\n",
       "      <td>0.029822</td>\n",
       "    </tr>\n",
       "    <tr>\n",
       "      <td>5000</td>\n",
       "      <td>165.090000</td>\n",
       "      <td>77.422501</td>\n",
       "      <td>0.065554</td>\n",
       "      <td>0.027261</td>\n",
       "    </tr>\n",
       "    <tr>\n",
       "      <td>5500</td>\n",
       "      <td>164.520500</td>\n",
       "      <td>73.775223</td>\n",
       "      <td>0.062054</td>\n",
       "      <td>0.025671</td>\n",
       "    </tr>\n",
       "    <tr>\n",
       "      <td>6000</td>\n",
       "      <td>154.026100</td>\n",
       "      <td>78.044991</td>\n",
       "      <td>0.060309</td>\n",
       "      <td>0.025266</td>\n",
       "    </tr>\n",
       "    <tr>\n",
       "      <td>6500</td>\n",
       "      <td>143.669100</td>\n",
       "      <td>76.197754</td>\n",
       "      <td>0.056854</td>\n",
       "      <td>0.023812</td>\n",
       "    </tr>\n",
       "    <tr>\n",
       "      <td>7000</td>\n",
       "      <td>135.291000</td>\n",
       "      <td>63.597404</td>\n",
       "      <td>0.053211</td>\n",
       "      <td>0.022207</td>\n",
       "    </tr>\n",
       "    <tr>\n",
       "      <td>7500</td>\n",
       "      <td>131.175100</td>\n",
       "      <td>64.894241</td>\n",
       "      <td>0.052450</td>\n",
       "      <td>0.021840</td>\n",
       "    </tr>\n",
       "    <tr>\n",
       "      <td>8000</td>\n",
       "      <td>132.210800</td>\n",
       "      <td>62.081470</td>\n",
       "      <td>0.051482</td>\n",
       "      <td>0.021648</td>\n",
       "    </tr>\n",
       "    <tr>\n",
       "      <td>8500</td>\n",
       "      <td>126.902100</td>\n",
       "      <td>57.874130</td>\n",
       "      <td>0.050001</td>\n",
       "      <td>0.020932</td>\n",
       "    </tr>\n",
       "    <tr>\n",
       "      <td>9000</td>\n",
       "      <td>118.165400</td>\n",
       "      <td>55.936802</td>\n",
       "      <td>0.047346</td>\n",
       "      <td>0.019924</td>\n",
       "    </tr>\n",
       "    <tr>\n",
       "      <td>9500</td>\n",
       "      <td>110.708500</td>\n",
       "      <td>58.223122</td>\n",
       "      <td>0.046858</td>\n",
       "      <td>0.019833</td>\n",
       "    </tr>\n",
       "    <tr>\n",
       "      <td>10000</td>\n",
       "      <td>105.411900</td>\n",
       "      <td>57.918114</td>\n",
       "      <td>0.043935</td>\n",
       "      <td>0.018631</td>\n",
       "    </tr>\n",
       "    <tr>\n",
       "      <td>10500</td>\n",
       "      <td>106.250400</td>\n",
       "      <td>55.758884</td>\n",
       "      <td>0.042821</td>\n",
       "      <td>0.018200</td>\n",
       "    </tr>\n",
       "    <tr>\n",
       "      <td>11000</td>\n",
       "      <td>98.420500</td>\n",
       "      <td>53.327179</td>\n",
       "      <td>0.041840</td>\n",
       "      <td>0.017493</td>\n",
       "    </tr>\n",
       "    <tr>\n",
       "      <td>11500</td>\n",
       "      <td>101.748800</td>\n",
       "      <td>51.072792</td>\n",
       "      <td>0.039432</td>\n",
       "      <td>0.016664</td>\n",
       "    </tr>\n",
       "    <tr>\n",
       "      <td>12000</td>\n",
       "      <td>91.504000</td>\n",
       "      <td>51.046658</td>\n",
       "      <td>0.038503</td>\n",
       "      <td>0.016456</td>\n",
       "    </tr>\n",
       "    <tr>\n",
       "      <td>12500</td>\n",
       "      <td>85.124900</td>\n",
       "      <td>51.135433</td>\n",
       "      <td>0.038034</td>\n",
       "      <td>0.016188</td>\n",
       "    </tr>\n",
       "    <tr>\n",
       "      <td>13000</td>\n",
       "      <td>84.287100</td>\n",
       "      <td>48.254765</td>\n",
       "      <td>0.036980</td>\n",
       "      <td>0.015766</td>\n",
       "    </tr>\n",
       "    <tr>\n",
       "      <td>13500</td>\n",
       "      <td>82.468100</td>\n",
       "      <td>46.249924</td>\n",
       "      <td>0.035786</td>\n",
       "      <td>0.015308</td>\n",
       "    </tr>\n",
       "    <tr>\n",
       "      <td>14000</td>\n",
       "      <td>86.403700</td>\n",
       "      <td>46.217583</td>\n",
       "      <td>0.035780</td>\n",
       "      <td>0.015310</td>\n",
       "    </tr>\n",
       "    <tr>\n",
       "      <td>14500</td>\n",
       "      <td>84.747700</td>\n",
       "      <td>46.039181</td>\n",
       "      <td>0.035127</td>\n",
       "      <td>0.015072</td>\n",
       "    </tr>\n",
       "  </tbody>\n",
       "</table><p>"
      ],
      "text/plain": [
       "<IPython.core.display.HTML object>"
      ]
     },
     "metadata": {},
     "output_type": "display_data"
    },
    {
     "name": "stderr",
     "output_type": "stream",
     "text": [
      "/workspace/htx-xdata-asr/venv/lib/python3.12/site-packages/transformers/models/wav2vec2/processing_wav2vec2.py:174: UserWarning: `as_target_processor` is deprecated and will be removed in v5 of Transformers. You can process your labels by using the argument `text` of the regular `__call__` method (either in the same call as your audio inputs, or in a separate call.\n",
      "  warnings.warn(\n",
      "/workspace/htx-xdata-asr/venv/lib/python3.12/site-packages/transformers/models/wav2vec2/processing_wav2vec2.py:174: UserWarning: `as_target_processor` is deprecated and will be removed in v5 of Transformers. You can process your labels by using the argument `text` of the regular `__call__` method (either in the same call as your audio inputs, or in a separate call.\n",
      "  warnings.warn(\n",
      "/workspace/htx-xdata-asr/venv/lib/python3.12/site-packages/transformers/models/wav2vec2/processing_wav2vec2.py:174: UserWarning: `as_target_processor` is deprecated and will be removed in v5 of Transformers. You can process your labels by using the argument `text` of the regular `__call__` method (either in the same call as your audio inputs, or in a separate call.\n",
      "  warnings.warn(\n",
      "/workspace/htx-xdata-asr/venv/lib/python3.12/site-packages/transformers/models/wav2vec2/processing_wav2vec2.py:174: UserWarning: `as_target_processor` is deprecated and will be removed in v5 of Transformers. You can process your labels by using the argument `text` of the regular `__call__` method (either in the same call as your audio inputs, or in a separate call.\n",
      "  warnings.warn(\n",
      "/workspace/htx-xdata-asr/venv/lib/python3.12/site-packages/transformers/models/wav2vec2/processing_wav2vec2.py:174: UserWarning: `as_target_processor` is deprecated and will be removed in v5 of Transformers. You can process your labels by using the argument `text` of the regular `__call__` method (either in the same call as your audio inputs, or in a separate call.\n",
      "  warnings.warn(\n",
      "/workspace/htx-xdata-asr/venv/lib/python3.12/site-packages/transformers/models/wav2vec2/processing_wav2vec2.py:174: UserWarning: `as_target_processor` is deprecated and will be removed in v5 of Transformers. You can process your labels by using the argument `text` of the regular `__call__` method (either in the same call as your audio inputs, or in a separate call.\n",
      "  warnings.warn(\n",
      "/workspace/htx-xdata-asr/venv/lib/python3.12/site-packages/transformers/models/wav2vec2/processing_wav2vec2.py:174: UserWarning: `as_target_processor` is deprecated and will be removed in v5 of Transformers. You can process your labels by using the argument `text` of the regular `__call__` method (either in the same call as your audio inputs, or in a separate call.\n",
      "  warnings.warn(\n",
      "/workspace/htx-xdata-asr/venv/lib/python3.12/site-packages/transformers/models/wav2vec2/processing_wav2vec2.py:174: UserWarning: `as_target_processor` is deprecated and will be removed in v5 of Transformers. You can process your labels by using the argument `text` of the regular `__call__` method (either in the same call as your audio inputs, or in a separate call.\n",
      "  warnings.warn(\n",
      "/workspace/htx-xdata-asr/venv/lib/python3.12/site-packages/transformers/models/wav2vec2/processing_wav2vec2.py:174: UserWarning: `as_target_processor` is deprecated and will be removed in v5 of Transformers. You can process your labels by using the argument `text` of the regular `__call__` method (either in the same call as your audio inputs, or in a separate call.\n",
      "  warnings.warn(\n",
      "/workspace/htx-xdata-asr/venv/lib/python3.12/site-packages/transformers/models/wav2vec2/processing_wav2vec2.py:174: UserWarning: `as_target_processor` is deprecated and will be removed in v5 of Transformers. You can process your labels by using the argument `text` of the regular `__call__` method (either in the same call as your audio inputs, or in a separate call.\n",
      "  warnings.warn(\n",
      "/workspace/htx-xdata-asr/venv/lib/python3.12/site-packages/transformers/models/wav2vec2/processing_wav2vec2.py:174: UserWarning: `as_target_processor` is deprecated and will be removed in v5 of Transformers. You can process your labels by using the argument `text` of the regular `__call__` method (either in the same call as your audio inputs, or in a separate call.\n",
      "  warnings.warn(\n",
      "/workspace/htx-xdata-asr/venv/lib/python3.12/site-packages/transformers/models/wav2vec2/processing_wav2vec2.py:174: UserWarning: `as_target_processor` is deprecated and will be removed in v5 of Transformers. You can process your labels by using the argument `text` of the regular `__call__` method (either in the same call as your audio inputs, or in a separate call.\n",
      "  warnings.warn(\n",
      "/workspace/htx-xdata-asr/venv/lib/python3.12/site-packages/transformers/models/wav2vec2/processing_wav2vec2.py:174: UserWarning: `as_target_processor` is deprecated and will be removed in v5 of Transformers. You can process your labels by using the argument `text` of the regular `__call__` method (either in the same call as your audio inputs, or in a separate call.\n",
      "  warnings.warn(\n",
      "/workspace/htx-xdata-asr/venv/lib/python3.12/site-packages/transformers/models/wav2vec2/processing_wav2vec2.py:174: UserWarning: `as_target_processor` is deprecated and will be removed in v5 of Transformers. You can process your labels by using the argument `text` of the regular `__call__` method (either in the same call as your audio inputs, or in a separate call.\n",
      "  warnings.warn(\n",
      "/workspace/htx-xdata-asr/venv/lib/python3.12/site-packages/transformers/models/wav2vec2/processing_wav2vec2.py:174: UserWarning: `as_target_processor` is deprecated and will be removed in v5 of Transformers. You can process your labels by using the argument `text` of the regular `__call__` method (either in the same call as your audio inputs, or in a separate call.\n",
      "  warnings.warn(\n",
      "/workspace/htx-xdata-asr/venv/lib/python3.12/site-packages/transformers/models/wav2vec2/processing_wav2vec2.py:174: UserWarning: `as_target_processor` is deprecated and will be removed in v5 of Transformers. You can process your labels by using the argument `text` of the regular `__call__` method (either in the same call as your audio inputs, or in a separate call.\n",
      "  warnings.warn(\n",
      "/workspace/htx-xdata-asr/venv/lib/python3.12/site-packages/transformers/models/wav2vec2/processing_wav2vec2.py:174: UserWarning: `as_target_processor` is deprecated and will be removed in v5 of Transformers. You can process your labels by using the argument `text` of the regular `__call__` method (either in the same call as your audio inputs, or in a separate call.\n",
      "  warnings.warn(\n",
      "/workspace/htx-xdata-asr/venv/lib/python3.12/site-packages/transformers/models/wav2vec2/processing_wav2vec2.py:174: UserWarning: `as_target_processor` is deprecated and will be removed in v5 of Transformers. You can process your labels by using the argument `text` of the regular `__call__` method (either in the same call as your audio inputs, or in a separate call.\n",
      "  warnings.warn(\n",
      "/workspace/htx-xdata-asr/venv/lib/python3.12/site-packages/transformers/models/wav2vec2/processing_wav2vec2.py:174: UserWarning: `as_target_processor` is deprecated and will be removed in v5 of Transformers. You can process your labels by using the argument `text` of the regular `__call__` method (either in the same call as your audio inputs, or in a separate call.\n",
      "  warnings.warn(\n",
      "/workspace/htx-xdata-asr/venv/lib/python3.12/site-packages/transformers/models/wav2vec2/processing_wav2vec2.py:174: UserWarning: `as_target_processor` is deprecated and will be removed in v5 of Transformers. You can process your labels by using the argument `text` of the regular `__call__` method (either in the same call as your audio inputs, or in a separate call.\n",
      "  warnings.warn(\n",
      "/workspace/htx-xdata-asr/venv/lib/python3.12/site-packages/transformers/models/wav2vec2/processing_wav2vec2.py:174: UserWarning: `as_target_processor` is deprecated and will be removed in v5 of Transformers. You can process your labels by using the argument `text` of the regular `__call__` method (either in the same call as your audio inputs, or in a separate call.\n",
      "  warnings.warn(\n",
      "/workspace/htx-xdata-asr/venv/lib/python3.12/site-packages/transformers/models/wav2vec2/processing_wav2vec2.py:174: UserWarning: `as_target_processor` is deprecated and will be removed in v5 of Transformers. You can process your labels by using the argument `text` of the regular `__call__` method (either in the same call as your audio inputs, or in a separate call.\n",
      "  warnings.warn(\n",
      "/workspace/htx-xdata-asr/venv/lib/python3.12/site-packages/transformers/models/wav2vec2/processing_wav2vec2.py:174: UserWarning: `as_target_processor` is deprecated and will be removed in v5 of Transformers. You can process your labels by using the argument `text` of the regular `__call__` method (either in the same call as your audio inputs, or in a separate call.\n",
      "  warnings.warn(\n",
      "/workspace/htx-xdata-asr/venv/lib/python3.12/site-packages/transformers/models/wav2vec2/processing_wav2vec2.py:174: UserWarning: `as_target_processor` is deprecated and will be removed in v5 of Transformers. You can process your labels by using the argument `text` of the regular `__call__` method (either in the same call as your audio inputs, or in a separate call.\n",
      "  warnings.warn(\n",
      "/workspace/htx-xdata-asr/venv/lib/python3.12/site-packages/transformers/models/wav2vec2/processing_wav2vec2.py:174: UserWarning: `as_target_processor` is deprecated and will be removed in v5 of Transformers. You can process your labels by using the argument `text` of the regular `__call__` method (either in the same call as your audio inputs, or in a separate call.\n",
      "  warnings.warn(\n",
      "/workspace/htx-xdata-asr/venv/lib/python3.12/site-packages/transformers/models/wav2vec2/processing_wav2vec2.py:174: UserWarning: `as_target_processor` is deprecated and will be removed in v5 of Transformers. You can process your labels by using the argument `text` of the regular `__call__` method (either in the same call as your audio inputs, or in a separate call.\n",
      "  warnings.warn(\n",
      "/workspace/htx-xdata-asr/venv/lib/python3.12/site-packages/transformers/models/wav2vec2/processing_wav2vec2.py:174: UserWarning: `as_target_processor` is deprecated and will be removed in v5 of Transformers. You can process your labels by using the argument `text` of the regular `__call__` method (either in the same call as your audio inputs, or in a separate call.\n",
      "  warnings.warn(\n",
      "/workspace/htx-xdata-asr/venv/lib/python3.12/site-packages/transformers/models/wav2vec2/processing_wav2vec2.py:174: UserWarning: `as_target_processor` is deprecated and will be removed in v5 of Transformers. You can process your labels by using the argument `text` of the regular `__call__` method (either in the same call as your audio inputs, or in a separate call.\n",
      "  warnings.warn(\n",
      "/workspace/htx-xdata-asr/venv/lib/python3.12/site-packages/transformers/models/wav2vec2/processing_wav2vec2.py:174: UserWarning: `as_target_processor` is deprecated and will be removed in v5 of Transformers. You can process your labels by using the argument `text` of the regular `__call__` method (either in the same call as your audio inputs, or in a separate call.\n",
      "  warnings.warn(\n"
     ]
    },
    {
     "data": {
      "text/plain": [
       "TrainOutput(global_step=14620, training_loss=149.90172301160652, metrics={'train_runtime': 42547.1764, 'train_samples_per_second': 10.994, 'train_steps_per_second': 0.344, 'total_flos': 4.9155314333082845e+19, 'train_loss': 149.90172301160652, 'epoch': 5.0})"
      ]
     },
     "execution_count": 192,
     "metadata": {},
     "output_type": "execute_result"
    }
   ],
   "source": [
    "trainer.train()"
   ]
  },
  {
   "cell_type": "markdown",
   "id": "dd91eae9-377a-4c84-a3ba-4e1ee7894546",
   "metadata": {},
   "source": [
    "### Training and Validation Results"
   ]
  },
  {
   "cell_type": "markdown",
   "id": "ea11b155-2391-43b0-a80d-bd5c700d0afa",
   "metadata": {},
   "source": [
    "The cell below plots the losses and metrics against training steps. The following metrics are plotted:\n",
    "- Training Loss and Validation loss vs Training Steps\n",
    "- Validation WER vs Training Steps\n",
    "- Validation CER vs Training Steps"
   ]
  },
  {
   "cell_type": "code",
   "execution_count": 193,
   "id": "88cbace9-c8a8-41dd-8aef-7e690f27b6c9",
   "metadata": {},
   "outputs": [
    {
     "data": {
      "image/png": "[encoded data removed]",
      "text/plain": [
       "<Figure size 1000x500 with 1 Axes>"
      ]
     },
     "metadata": {},
     "output_type": "display_data"
    },
    {
     "data": {
      "image/png": "[encoded data removed]",
      "text/plain": [
       "<Figure size 1000x500 with 1 Axes>"
      ]
     },
     "metadata": {},
     "output_type": "display_data"
    },
    {
     "data": {
      "image/png": "[encoded data removed]",
      "text/plain": [
       "<Figure size 1000x500 with 1 Axes>"
      ]
     },
     "metadata": {},
     "output_type": "display_data"
    }
   ],
   "source": [
    "# Extract log history\n",
    "log_history = trainer.state.log_history\n",
    "\n",
    "# Prepare plot data\n",
    "train_loss = [entry[\"loss\"] for entry in log_history if \"loss\" in entry]\n",
    "eval_loss = [entry[\"eval_loss\"] for entry in log_history if \"eval_loss\" in entry]\n",
    "steps_train_loss = [entry[\"step\"] for entry in log_history if \"loss\" in entry]\n",
    "steps_eval_loss = [entry[\"step\"] for entry in log_history if \"eval_loss\" in entry]\n",
    "\n",
    "steps_wer = [entry[\"step\"] for entry in log_history if \"eval_wer\" in entry]\n",
    "eval_wer = [entry[\"eval_wer\"] for entry in log_history if \"eval_wer\" in entry]\n",
    "\n",
    "steps_cer = [entry[\"step\"] for entry in log_history if \"eval_cer\" in entry]\n",
    "eval_cer = [entry[\"eval_cer\"] for entry in log_history if \"eval_cer\" in entry]\n",
    "\n",
    "# Plot 1: Training Loss & Validation Loss\n",
    "plt.figure(figsize=(10, 5))\n",
    "plt.plot(steps_train_loss, train_loss, label=\"Train Loss\", marker=\"o\")\n",
    "plt.plot(steps_eval_loss, eval_loss, label=\"Validation Loss\", marker=\"x\")\n",
    "plt.xlabel(\"Step\")\n",
    "plt.ylabel(\"Loss\")\n",
    "plt.title(\"Training Loss and Validation Loss vs Step\")\n",
    "plt.legend()\n",
    "plt.grid(True)\n",
    "plt.tight_layout()\n",
    "plt.show()\n",
    "\n",
    "# Plot 2: Validation WER\n",
    "plt.figure(figsize=(10, 5))\n",
    "plt.plot(steps_wer, eval_wer, label=\"Validation WER\", color=\"orange\", marker=\"o\")\n",
    "plt.xlabel(\"Step\")\n",
    "plt.ylabel(\"Word Error Rate (WER)\")\n",
    "plt.title(\"Validation WER vs Step\")\n",
    "plt.legend()\n",
    "plt.grid(True)\n",
    "plt.tight_layout()\n",
    "plt.show()\n",
    "\n",
    "# Plot 3: Validation CER\n",
    "plt.figure(figsize=(10, 5))\n",
    "plt.plot(steps_cer, eval_cer, label=\"Validation CER\", color=\"green\", marker=\"o\")\n",
    "plt.xlabel(\"Step\")\n",
    "plt.ylabel(\"Character Error Rate (CER)\")\n",
    "plt.title(\"Validation CER vs Step\")\n",
    "plt.legend()\n",
    "plt.grid(True)\n",
    "plt.tight_layout()\n",
    "plt.show()"
   ]
  },
  {
   "cell_type": "markdown",
   "id": "b238ee29-044b-4d3c-88a4-5e74c54b6d3f",
   "metadata": {},
   "source": [
    "### Interpretation of Training and Validation Results"
   ]
  },
  {
   "cell_type": "markdown",
   "id": "dc47a43a-8dc1-45a7-a440-2865ac94fb10",
   "metadata": {},
   "source": [
    "Training Loss and Validation Loss vs Training Steps:\n",
    "- Both training loss and validation loss are steadily decreasing. This shows that the training is doing well.\n",
    "- The reason why the training loss is higher than the validation loss may be due to having dropout active only in training, thereby introducing noise and increasing loss. The dropout should be inactive during evaluation.\n",
    "- Both training loss and validation loss decline over time without sharp spikes or divergence. This suggests stable optimisation.\n",
    "- Validation loss keeps decreasing along with training loss, so overfitting does not seem to be present.\n",
    "- Loss reduction becomes more gradual after ~12,000 steps. The number of epochs can be increased to confirm this.\n",
    "\n",
    "Validation WER vs Training Steps:\n",
    "- The WER are dropping well, the model is clearly learning.\n",
    "- The number of epochs can be increased to see if the metric continues to lower.\n",
    "\n",
    "Validation CER vs Training Steps:\n",
    "- The CER are dropping well, the model is clearly learning.\n",
    "- The number of epochs can be increased to see if the metric continues to lower."
   ]
  },
  {
   "cell_type": "markdown",
   "id": "abd723a7-1240-4c96-8dc7-386619f7471e",
   "metadata": {},
   "source": [
    "## Inference"
   ]
  },
  {
   "cell_type": "markdown",
   "id": "ca7cb935-984c-4bd3-a1f1-88fb76cd7c67",
   "metadata": {},
   "source": [
    "We can visually check the output of the finetuned model.\n",
    "\n",
    "Before that, we move the finetuned model out of the *./checkpoints* directory and into a new *./saved_models* directory. Then, we rename the model to \"wav2vec2-large-960h-cv\"."
   ]
  },
  {
   "cell_type": "markdown",
   "id": "22d24fa8-7f81-4a51-89c7-70abe20e2bbe",
   "metadata": {},
   "source": [
    "### Load finetuned model"
   ]
  },
  {
   "cell_type": "code",
   "execution_count": 202,
   "id": "491e365f-0f5e-4522-9511-5040cef799f8",
   "metadata": {},
   "outputs": [],
   "source": [
    "finetuned_model = Wav2Vec2ForCTC.from_pretrained('./saved_models/wav2vec2-large-960h-cv')\n",
    "finetuned_processor = Wav2Vec2Processor.from_pretrained('./saved_models/wav2vec2-large-960h-cv')"
   ]
  },
  {
   "cell_type": "markdown",
   "id": "1d6d1b58-d507-4410-9346-6ad728f44c72",
   "metadata": {},
   "source": [
    "### Perform an inference"
   ]
  },
  {
   "cell_type": "code",
   "execution_count": 203,
   "id": "8d9d70b6-6a11-4b23-9f74-a67a6ea2ded6",
   "metadata": {},
   "outputs": [
    {
     "name": "stdout",
     "output_type": "stream",
     "text": [
      "Prediction:  THEY MOUNTED THEIR HORSES\n",
      "Reference:  THEY MOUNTED THEIR HORSES\n"
     ]
    }
   ],
   "source": [
    "input_dict = finetuned_processor(validation_dataset[0][\"input_values\"], sampling_rate=16_000, return_tensors=\"pt\", padding=True)\n",
    "logits = finetuned_model(input_dict.input_values).logits\n",
    "pred_ids = torch.argmax(logits, dim=-1)[0]\n",
    "\n",
    "print(\"Prediction: \", finetuned_processor.decode(pred_ids))\n",
    "print(\"Reference: \", common_voice_train_validation[0][\"text\"])"
   ]
  },
  {
   "cell_type": "markdown",
   "id": "f64e8726-0a37-4b85-9da6-1503d8a29004",
   "metadata": {},
   "source": [
    "The prediction is correct!"
   ]
  },
  {
   "cell_type": "markdown",
   "id": "1f33f667-59ac-4330-b34d-e2960d6579d3",
   "metadata": {},
   "source": [
    "## Evaluation"
   ]
  },
  {
   "cell_type": "markdown",
   "id": "5a14c97d-18f9-4152-9c0e-7cf82cdc0f9b",
   "metadata": {},
   "source": [
    "In this section, we can evaluate the original model and the finetuned model using the test dataset."
   ]
  },
  {
   "cell_type": "markdown",
   "id": "d8e7ab43-1e68-44c3-be28-e8fcaab64795",
   "metadata": {},
   "source": [
    "### Load test dataset"
   ]
  },
  {
   "cell_type": "markdown",
   "id": "8c8d6ab6-6953-4135-a8f5-d4ce01c7399f",
   "metadata": {},
   "source": [
    "For evaluation, we can use the test dataset. We will prepare the test dataset like how we prepare the training dataset."
   ]
  },
  {
   "cell_type": "code",
   "execution_count": 204,
   "id": "96a34212-a0f8-4f42-945d-b6e7c6c3c4ea",
   "metadata": {},
   "outputs": [],
   "source": [
    "dataset_split = 'cv-valid-test'\n",
    "cv_csv_file = f'../datasets/common_voice/{dataset_split}.csv'\n",
    "test_df = pd.read_csv(cv_csv_file)\n",
    "\n",
    "test_df['text'] = test_df['text'].str.upper()\n",
    "cleaned_test_df = test_df.drop(['up_votes', 'down_votes', 'age', 'gender', 'accent', 'duration'], axis=1)\n",
    "audio_files_directory = f'../datasets/common_voice/{dataset_split}'\n",
    "cleaned_test_df[\"path\"] = cleaned_test_df[\"filename\"].apply(lambda x: os.path.join(audio_files_directory, x))\n",
    "\n",
    "cleaned_test_df = cleaned_test_df.rename(columns={\"path\": \"audio\"})\n",
    "common_voice_test_original = Dataset.from_pandas(cleaned_test_df)\n",
    "common_voice_test = common_voice_test_original.cast_column(\"audio\", Audio(sampling_rate=16_000))"
   ]
  },
  {
   "cell_type": "code",
   "execution_count": 205,
   "id": "0b9b0741-acc4-4e4a-98d4-438a562d10eb",
   "metadata": {},
   "outputs": [
    {
     "data": {
      "text/plain": [
       "Dataset({\n",
       "    features: ['filename', 'text', 'audio'],\n",
       "    num_rows: 3995\n",
       "})"
      ]
     },
     "execution_count": 205,
     "metadata": {},
     "output_type": "execute_result"
    }
   ],
   "source": [
    "common_voice_test"
   ]
  },
  {
   "cell_type": "code",
   "execution_count": 206,
   "id": "20285ec5-f24a-435a-b369-7e9f988bace7",
   "metadata": {},
   "outputs": [
    {
     "name": "stderr",
     "output_type": "stream",
     "text": [
      "Map:   0%|                                                              | 0/3995 [00:00<?, ? examples/s]/workspace/htx-xdata-asr/venv/lib/python3.12/site-packages/transformers/models/wav2vec2/processing_wav2vec2.py:174: UserWarning: `as_target_processor` is deprecated and will be removed in v5 of Transformers. You can process your labels by using the argument `text` of the regular `__call__` method (either in the same call as your audio inputs, or in a separate call.\n",
      "  warnings.warn(\n",
      "Map: 100%|██████████████████████████████████████████████████| 3995/3995 [00:12<00:00, 323.22 examples/s]\n"
     ]
    }
   ],
   "source": [
    "test_dataset = common_voice_test.map(prepare_dataset, remove_columns=common_voice_test.column_names, batched=False)"
   ]
  },
  {
   "cell_type": "markdown",
   "id": "01dfa272-0133-4d12-8bb5-b76e3f749337",
   "metadata": {},
   "source": [
    "### Evaluate and compare a set of models"
   ]
  },
  {
   "cell_type": "code",
   "execution_count": 207,
   "id": "3dd76daf-c7c6-434f-80e9-bdd0eb38893c",
   "metadata": {},
   "outputs": [
    {
     "name": "stderr",
     "output_type": "stream",
     "text": [
      "/workspace/htx-xdata-asr/venv/lib/python3.12/site-packages/transformers/models/wav2vec2/processing_wav2vec2.py:174: UserWarning: `as_target_processor` is deprecated and will be removed in v5 of Transformers. You can process your labels by using the argument `text` of the regular `__call__` method (either in the same call as your audio inputs, or in a separate call.\n",
      "  warnings.warn(\n"
     ]
    },
    {
     "data": {
      "text/html": [
       "\n",
       "    <div>\n",
       "      \n",
       "      <progress value='500' max='500' style='width:300px; height:20px; vertical-align: middle;'></progress>\n",
       "      [500/500 01:32]\n",
       "    </div>\n",
       "    "
      ],
      "text/plain": [
       "<IPython.core.display.HTML object>"
      ]
     },
     "metadata": {},
     "output_type": "display_data"
    },
    {
     "name": "stdout",
     "output_type": "stream",
     "text": [
      "Results for ./saved_models/wav2vec2-large-960h-cv: {'eval_loss': 64.5927734375, 'eval_model_preparation_time': 0.0019, 'eval_wer': 0.09860718344477627, 'eval_cer': 0.0473034793980967, 'eval_runtime': 94.1848, 'eval_samples_per_second': 42.417, 'eval_steps_per_second': 5.309}\n"
     ]
    },
    {
     "name": "stderr",
     "output_type": "stream",
     "text": [
      "Some weights of Wav2Vec2ForCTC were not initialized from the model checkpoint at facebook/wav2vec2-large-960h and are newly initialized: ['wav2vec2.masked_spec_embed']\n",
      "You should probably TRAIN this model on a down-stream task to be able to use it for predictions and inference.\n",
      "/workspace/htx-xdata-asr/venv/lib/python3.12/site-packages/transformers/models/wav2vec2/processing_wav2vec2.py:174: UserWarning: `as_target_processor` is deprecated and will be removed in v5 of Transformers. You can process your labels by using the argument `text` of the regular `__call__` method (either in the same call as your audio inputs, or in a separate call.\n",
      "  warnings.warn(\n"
     ]
    },
    {
     "data": {
      "text/html": [
       "\n",
       "    <div>\n",
       "      \n",
       "      <progress value='500' max='500' style='width:300px; height:20px; vertical-align: middle;'></progress>\n",
       "      [500/500 01:31]\n",
       "    </div>\n",
       "    "
      ],
      "text/plain": [
       "<IPython.core.display.HTML object>"
      ]
     },
     "metadata": {},
     "output_type": "display_data"
    },
    {
     "name": "stdout",
     "output_type": "stream",
     "text": [
      "Results for facebook/wav2vec2-large-960h: {'eval_loss': 606.0673217773438, 'eval_model_preparation_time': 0.0018, 'eval_wer': 0.20569812617279382, 'eval_cer': 0.10760753257897267, 'eval_runtime': 94.1671, 'eval_samples_per_second': 42.425, 'eval_steps_per_second': 5.31}\n"
     ]
    }
   ],
   "source": [
    "models_to_eval = [\n",
    "    \"./saved_models/wav2vec2-large-960h-cv\",\n",
    "    \"facebook/wav2vec2-large-960h\",  # baseline model\n",
    "]\n",
    "\n",
    "for model_path in models_to_eval:\n",
    "    finetuned_model = Wav2Vec2ForCTC.from_pretrained(model_path)\n",
    "    finetuned_processor = Wav2Vec2Processor.from_pretrained(model_path)\n",
    "\n",
    "    finetuned_trainer = Trainer(\n",
    "        model=finetuned_model,\n",
    "        data_collator=data_collator,\n",
    "        compute_metrics=compute_metrics,\n",
    "        processing_class=finetuned_processor,\n",
    "        eval_dataset=test_dataset\n",
    "    )\n",
    "\n",
    "    result = finetuned_trainer.evaluate()\n",
    "    print(f\"Results for {model_path}: {result}\")"
   ]
  },
  {
   "cell_type": "markdown",
   "id": "c62b9cd8-3f48-4549-b61b-583811525b91",
   "metadata": {},
   "source": [
    "The evaluation shows that the finetuned model is better than the original model. This is definitely the case because the training was successful, and we are comparing a baseline model with a finetuned model trained on the same dataset (Common Voice)."
   ]
  },
  {
   "cell_type": "markdown",
   "id": "463ef6ff-922b-4c8a-8dc9-ad2789b611c3",
   "metadata": {},
   "source": [
    "## Transcribe the Test Dataset"
   ]
  },
  {
   "cell_type": "markdown",
   "id": "6870649d-f3d1-4bfa-bdb8-5eee93798bef",
   "metadata": {},
   "source": [
    "This section attempts Task 3c.\n",
    "\n",
    "We use the same method used in Task 2d."
   ]
  },
  {
   "cell_type": "markdown",
   "id": "4d134a9b-7df3-4ac0-86a2-315627fb2c8a",
   "metadata": {},
   "source": [
    "### Import functions used in Task 2"
   ]
  },
  {
   "cell_type": "code",
   "execution_count": 259,
   "id": "88fc5daf-d2f5-43c8-a7c9-cf62df408bbd",
   "metadata": {},
   "outputs": [],
   "source": [
    "def list_files_in_directory(directory_path):\n",
    "    try:\n",
    "        files = [\n",
    "            os.path.join(directory_path, f) for f in os.listdir(directory_path)\n",
    "            if os.path.isfile(os.path.join(directory_path, f)) and not f.startswith(\"._\")\n",
    "        ]\n",
    "        return files\n",
    "    except Exception as e:\n",
    "        logger.error(f\"Error reading directory {directory_path}: {e}\")\n",
    "        return []\n",
    "\n",
    "def transcribe_audio(waveform, sampling_rate, processor, model, REQUIRED_SAMPLING_RATE=16000):\n",
    "\n",
    "    # Resample if needed\n",
    "    if sampling_rate != REQUIRED_SAMPLING_RATE:\n",
    "        resampler = torchaudio.transforms.Resample(\n",
    "            orig_freq=sampling_rate, new_freq=REQUIRED_SAMPLING_RATE)\n",
    "        waveform = resampler(waveform)\n",
    "\n",
    "    # Convert to mono (not required using common-voice dataset)\n",
    "    if waveform.shape[0] > 1:\n",
    "        waveform = waveform.mean(dim=0, keepdim=True)\n",
    "\n",
    "    # Inference\n",
    "    input_values = processor(waveform.squeeze().numpy(),\n",
    "                             return_tensors=\"pt\",\n",
    "                             padding=True,\n",
    "                             sampling_rate=REQUIRED_SAMPLING_RATE).input_values\n",
    "\n",
    "    device = torch.device(\"cuda\" if torch.cuda.is_available() else \"cpu\")\n",
    "    input_values = input_values.to(torch.float16).to(device)\n",
    "\n",
    "    logits = model(input_values).logits\n",
    "    predicted_ids = torch.argmax(logits, dim=-1)\n",
    "    transcription = processor.batch_decode(predicted_ids)[0]\n",
    "\n",
    "    return transcription"
   ]
  },
  {
   "cell_type": "markdown",
   "id": "8fdeb555-028a-4652-a84c-d4baffc8bd9b",
   "metadata": {},
   "source": [
    "### Load test dataset to perform transcription"
   ]
  },
  {
   "cell_type": "code",
   "execution_count": 260,
   "id": "8b115b2f-d3ec-410a-afeb-ab01f07ef647",
   "metadata": {},
   "outputs": [
    {
     "data": {
      "text/plain": [
       "['../datasets/common_voice/cv-valid-test/cv-valid-test/sample-000551.mp3',\n",
       " '../datasets/common_voice/cv-valid-test/cv-valid-test/sample-001897.mp3',\n",
       " '../datasets/common_voice/cv-valid-test/cv-valid-test/sample-003058.mp3',\n",
       " '../datasets/common_voice/cv-valid-test/cv-valid-test/sample-002346.mp3',\n",
       " '../datasets/common_voice/cv-valid-test/cv-valid-test/sample-002420.mp3']"
      ]
     },
     "execution_count": 260,
     "metadata": {},
     "output_type": "execute_result"
    }
   ],
   "source": [
    "dataset_split = 'cv-valid-test'\n",
    "files_directory = f'../datasets/common_voice/{dataset_split}/{dataset_split}'\n",
    "files = list_files_in_directory(files_directory)\n",
    "files[:5]"
   ]
  },
  {
   "cell_type": "code",
   "execution_count": 261,
   "id": "6cfc2a45-e1a6-4dda-a5af-881257a3f748",
   "metadata": {},
   "outputs": [
    {
     "data": {
      "text/html": [
       "<div>\n",
       "<style scoped>\n",
       "    .dataframe tbody tr th:only-of-type {\n",
       "        vertical-align: middle;\n",
       "    }\n",
       "\n",
       "    .dataframe tbody tr th {\n",
       "        vertical-align: top;\n",
       "    }\n",
       "\n",
       "    .dataframe thead th {\n",
       "        text-align: right;\n",
       "    }\n",
       "</style>\n",
       "<table border=\"1\" class=\"dataframe\">\n",
       "  <thead>\n",
       "    <tr style=\"text-align: right;\">\n",
       "      <th></th>\n",
       "      <th>filename</th>\n",
       "      <th>text</th>\n",
       "      <th>up_votes</th>\n",
       "      <th>down_votes</th>\n",
       "      <th>age</th>\n",
       "      <th>gender</th>\n",
       "      <th>accent</th>\n",
       "      <th>duration</th>\n",
       "    </tr>\n",
       "  </thead>\n",
       "  <tbody>\n",
       "    <tr>\n",
       "      <th>0</th>\n",
       "      <td>cv-valid-test/sample-000000.mp3</td>\n",
       "      <td>without the dataset the article is useless</td>\n",
       "      <td>1</td>\n",
       "      <td>0</td>\n",
       "      <td>NaN</td>\n",
       "      <td>NaN</td>\n",
       "      <td>NaN</td>\n",
       "      <td>NaN</td>\n",
       "    </tr>\n",
       "    <tr>\n",
       "      <th>1</th>\n",
       "      <td>cv-valid-test/sample-000001.mp3</td>\n",
       "      <td>i've got to go to him</td>\n",
       "      <td>1</td>\n",
       "      <td>0</td>\n",
       "      <td>twenties</td>\n",
       "      <td>male</td>\n",
       "      <td>NaN</td>\n",
       "      <td>NaN</td>\n",
       "    </tr>\n",
       "    <tr>\n",
       "      <th>2</th>\n",
       "      <td>cv-valid-test/sample-000002.mp3</td>\n",
       "      <td>and you know it</td>\n",
       "      <td>1</td>\n",
       "      <td>0</td>\n",
       "      <td>NaN</td>\n",
       "      <td>NaN</td>\n",
       "      <td>NaN</td>\n",
       "      <td>NaN</td>\n",
       "    </tr>\n",
       "    <tr>\n",
       "      <th>3</th>\n",
       "      <td>cv-valid-test/sample-000003.mp3</td>\n",
       "      <td>down below in the darkness were hundreds of people sleeping in peace</td>\n",
       "      <td>4</td>\n",
       "      <td>0</td>\n",
       "      <td>twenties</td>\n",
       "      <td>male</td>\n",
       "      <td>us</td>\n",
       "      <td>NaN</td>\n",
       "    </tr>\n",
       "    <tr>\n",
       "      <th>4</th>\n",
       "      <td>cv-valid-test/sample-000004.mp3</td>\n",
       "      <td>hold your nose to keep the smell from disabling your motor functions</td>\n",
       "      <td>2</td>\n",
       "      <td>0</td>\n",
       "      <td>NaN</td>\n",
       "      <td>NaN</td>\n",
       "      <td>NaN</td>\n",
       "      <td>NaN</td>\n",
       "    </tr>\n",
       "  </tbody>\n",
       "</table>\n",
       "</div>"
      ],
      "text/plain": [
       "                          filename  \\\n",
       "0  cv-valid-test/sample-000000.mp3   \n",
       "1  cv-valid-test/sample-000001.mp3   \n",
       "2  cv-valid-test/sample-000002.mp3   \n",
       "3  cv-valid-test/sample-000003.mp3   \n",
       "4  cv-valid-test/sample-000004.mp3   \n",
       "\n",
       "                                                                   text  \\\n",
       "0                            without the dataset the article is useless   \n",
       "1                                                 i've got to go to him   \n",
       "2                                                       and you know it   \n",
       "3  down below in the darkness were hundreds of people sleeping in peace   \n",
       "4  hold your nose to keep the smell from disabling your motor functions   \n",
       "\n",
       "   up_votes  down_votes       age gender accent  duration  \n",
       "0         1           0       NaN    NaN    NaN       NaN  \n",
       "1         1           0  twenties   male    NaN       NaN  \n",
       "2         1           0       NaN    NaN    NaN       NaN  \n",
       "3         4           0  twenties   male     us       NaN  \n",
       "4         2           0       NaN    NaN    NaN       NaN  "
      ]
     },
     "execution_count": 261,
     "metadata": {},
     "output_type": "execute_result"
    }
   ],
   "source": [
    "cv_csv_file = f'../datasets/common_voice/{dataset_split}.csv'\n",
    "test_df = pd.read_csv(cv_csv_file)\n",
    "test_df.head(5)"
   ]
  },
  {
   "cell_type": "code",
   "execution_count": 262,
   "id": "a446c906-0f3a-479a-bcc7-0da0cf0c3d8b",
   "metadata": {},
   "outputs": [
    {
     "data": {
      "text/html": [
       "<div>\n",
       "<style scoped>\n",
       "    .dataframe tbody tr th:only-of-type {\n",
       "        vertical-align: middle;\n",
       "    }\n",
       "\n",
       "    .dataframe tbody tr th {\n",
       "        vertical-align: top;\n",
       "    }\n",
       "\n",
       "    .dataframe thead th {\n",
       "        text-align: right;\n",
       "    }\n",
       "</style>\n",
       "<table border=\"1\" class=\"dataframe\">\n",
       "  <thead>\n",
       "    <tr style=\"text-align: right;\">\n",
       "      <th></th>\n",
       "      <th>filename</th>\n",
       "      <th>text</th>\n",
       "      <th>up_votes</th>\n",
       "      <th>down_votes</th>\n",
       "      <th>age</th>\n",
       "      <th>gender</th>\n",
       "      <th>accent</th>\n",
       "      <th>duration</th>\n",
       "      <th>exact_filename</th>\n",
       "      <th>generated_text</th>\n",
       "    </tr>\n",
       "  </thead>\n",
       "  <tbody>\n",
       "    <tr>\n",
       "      <th>0</th>\n",
       "      <td>cv-valid-test/sample-000000.mp3</td>\n",
       "      <td>without the dataset the article is useless</td>\n",
       "      <td>1</td>\n",
       "      <td>0</td>\n",
       "      <td>NaN</td>\n",
       "      <td>NaN</td>\n",
       "      <td>NaN</td>\n",
       "      <td>NaN</td>\n",
       "      <td>sample-000000.mp3</td>\n",
       "      <td></td>\n",
       "    </tr>\n",
       "    <tr>\n",
       "      <th>1</th>\n",
       "      <td>cv-valid-test/sample-000001.mp3</td>\n",
       "      <td>i've got to go to him</td>\n",
       "      <td>1</td>\n",
       "      <td>0</td>\n",
       "      <td>twenties</td>\n",
       "      <td>male</td>\n",
       "      <td>NaN</td>\n",
       "      <td>NaN</td>\n",
       "      <td>sample-000001.mp3</td>\n",
       "      <td></td>\n",
       "    </tr>\n",
       "    <tr>\n",
       "      <th>2</th>\n",
       "      <td>cv-valid-test/sample-000002.mp3</td>\n",
       "      <td>and you know it</td>\n",
       "      <td>1</td>\n",
       "      <td>0</td>\n",
       "      <td>NaN</td>\n",
       "      <td>NaN</td>\n",
       "      <td>NaN</td>\n",
       "      <td>NaN</td>\n",
       "      <td>sample-000002.mp3</td>\n",
       "      <td></td>\n",
       "    </tr>\n",
       "    <tr>\n",
       "      <th>3</th>\n",
       "      <td>cv-valid-test/sample-000003.mp3</td>\n",
       "      <td>down below in the darkness were hundreds of people sleeping in peace</td>\n",
       "      <td>4</td>\n",
       "      <td>0</td>\n",
       "      <td>twenties</td>\n",
       "      <td>male</td>\n",
       "      <td>us</td>\n",
       "      <td>NaN</td>\n",
       "      <td>sample-000003.mp3</td>\n",
       "      <td></td>\n",
       "    </tr>\n",
       "    <tr>\n",
       "      <th>4</th>\n",
       "      <td>cv-valid-test/sample-000004.mp3</td>\n",
       "      <td>hold your nose to keep the smell from disabling your motor functions</td>\n",
       "      <td>2</td>\n",
       "      <td>0</td>\n",
       "      <td>NaN</td>\n",
       "      <td>NaN</td>\n",
       "      <td>NaN</td>\n",
       "      <td>NaN</td>\n",
       "      <td>sample-000004.mp3</td>\n",
       "      <td></td>\n",
       "    </tr>\n",
       "  </tbody>\n",
       "</table>\n",
       "</div>"
      ],
      "text/plain": [
       "                          filename  \\\n",
       "0  cv-valid-test/sample-000000.mp3   \n",
       "1  cv-valid-test/sample-000001.mp3   \n",
       "2  cv-valid-test/sample-000002.mp3   \n",
       "3  cv-valid-test/sample-000003.mp3   \n",
       "4  cv-valid-test/sample-000004.mp3   \n",
       "\n",
       "                                                                   text  \\\n",
       "0                            without the dataset the article is useless   \n",
       "1                                                 i've got to go to him   \n",
       "2                                                       and you know it   \n",
       "3  down below in the darkness were hundreds of people sleeping in peace   \n",
       "4  hold your nose to keep the smell from disabling your motor functions   \n",
       "\n",
       "   up_votes  down_votes       age gender accent  duration     exact_filename  \\\n",
       "0         1           0       NaN    NaN    NaN       NaN  sample-000000.mp3   \n",
       "1         1           0  twenties   male    NaN       NaN  sample-000001.mp3   \n",
       "2         1           0       NaN    NaN    NaN       NaN  sample-000002.mp3   \n",
       "3         4           0  twenties   male     us       NaN  sample-000003.mp3   \n",
       "4         2           0       NaN    NaN    NaN       NaN  sample-000004.mp3   \n",
       "\n",
       "  generated_text  \n",
       "0                 \n",
       "1                 \n",
       "2                 \n",
       "3                 \n",
       "4                 "
      ]
     },
     "execution_count": 262,
     "metadata": {},
     "output_type": "execute_result"
    }
   ],
   "source": [
    "test_df['exact_filename'] = test_df['filename'].str.split('/').str[-1]\n",
    "test_df['generated_text'] = ''\n",
    "test_df.head(5)"
   ]
  },
  {
   "cell_type": "markdown",
   "id": "ee749a55-d6c1-40db-8c02-45a7905df664",
   "metadata": {},
   "source": [
    "### Perform transcription"
   ]
  },
  {
   "cell_type": "code",
   "execution_count": 264,
   "id": "6dde2bee-cea7-434b-8bd1-b12811579354",
   "metadata": {},
   "outputs": [
    {
     "name": "stdout",
     "output_type": "stream",
     "text": [
      "Performing transcription on cv-valid-test...\n",
      "\n",
      "Transcription done!\n"
     ]
    }
   ],
   "source": [
    "print(f\"Performing transcription on {dataset_split}...\\n\")\n",
    "\n",
    "for file_path in files:\n",
    "    try:\n",
    "        waveform, sampling_rate = torchaudio.load(file_path)\n",
    "    except Exception as e:\n",
    "        print(\"Error: \", e)\n",
    "        break\n",
    "\n",
    "    transcription = transcribe_audio(waveform, sampling_rate, finetuned_processor, finetuned_model)\n",
    "        \n",
    "    current_exact_filename = file_path.split('/')[-1]\n",
    "    test_df.loc[test_df['exact_filename'] == current_exact_filename,\n",
    "           'generated_text'] = transcription\n",
    "\n",
    "print(\"Transcription done!\")"
   ]
  },
  {
   "cell_type": "code",
   "execution_count": 265,
   "id": "3b0fe30a-d435-4562-9c3c-a024fa4d6940",
   "metadata": {},
   "outputs": [
    {
     "data": {
      "text/html": [
       "<div>\n",
       "<style scoped>\n",
       "    .dataframe tbody tr th:only-of-type {\n",
       "        vertical-align: middle;\n",
       "    }\n",
       "\n",
       "    .dataframe tbody tr th {\n",
       "        vertical-align: top;\n",
       "    }\n",
       "\n",
       "    .dataframe thead th {\n",
       "        text-align: right;\n",
       "    }\n",
       "</style>\n",
       "<table border=\"1\" class=\"dataframe\">\n",
       "  <thead>\n",
       "    <tr style=\"text-align: right;\">\n",
       "      <th></th>\n",
       "      <th>filename</th>\n",
       "      <th>text</th>\n",
       "      <th>up_votes</th>\n",
       "      <th>down_votes</th>\n",
       "      <th>age</th>\n",
       "      <th>gender</th>\n",
       "      <th>accent</th>\n",
       "      <th>duration</th>\n",
       "      <th>exact_filename</th>\n",
       "      <th>generated_text</th>\n",
       "    </tr>\n",
       "  </thead>\n",
       "  <tbody>\n",
       "    <tr>\n",
       "      <th>0</th>\n",
       "      <td>cv-valid-test/sample-000000.mp3</td>\n",
       "      <td>WITHOUT THE DATASET THE ARTICLE IS USELESS</td>\n",
       "      <td>1</td>\n",
       "      <td>0</td>\n",
       "      <td>NaN</td>\n",
       "      <td>NaN</td>\n",
       "      <td>NaN</td>\n",
       "      <td>NaN</td>\n",
       "      <td>sample-000000.mp3</td>\n",
       "      <td>WITHOUT THE DATASET THE ARTICLEAS USELESS</td>\n",
       "    </tr>\n",
       "    <tr>\n",
       "      <th>1</th>\n",
       "      <td>cv-valid-test/sample-000001.mp3</td>\n",
       "      <td>I'VE GOT TO GO TO HIM</td>\n",
       "      <td>1</td>\n",
       "      <td>0</td>\n",
       "      <td>twenties</td>\n",
       "      <td>male</td>\n",
       "      <td>NaN</td>\n",
       "      <td>NaN</td>\n",
       "      <td>sample-000001.mp3</td>\n",
       "      <td>F CATEGIL TO HIM</td>\n",
       "    </tr>\n",
       "    <tr>\n",
       "      <th>2</th>\n",
       "      <td>cv-valid-test/sample-000002.mp3</td>\n",
       "      <td>AND YOU KNOW IT</td>\n",
       "      <td>1</td>\n",
       "      <td>0</td>\n",
       "      <td>NaN</td>\n",
       "      <td>NaN</td>\n",
       "      <td>NaN</td>\n",
       "      <td>NaN</td>\n",
       "      <td>sample-000002.mp3</td>\n",
       "      <td>AND YOU KNOW IT</td>\n",
       "    </tr>\n",
       "    <tr>\n",
       "      <th>3</th>\n",
       "      <td>cv-valid-test/sample-000003.mp3</td>\n",
       "      <td>DOWN BELOW IN THE DARKNESS WERE HUNDREDS OF PEOPLE SLEEPING IN PEACE</td>\n",
       "      <td>4</td>\n",
       "      <td>0</td>\n",
       "      <td>twenties</td>\n",
       "      <td>male</td>\n",
       "      <td>us</td>\n",
       "      <td>NaN</td>\n",
       "      <td>sample-000003.mp3</td>\n",
       "      <td>DOWN BELOW IN THE DARKNESS WERE HUNDREDS OF PEOPLE SLEEPING IN PEACE</td>\n",
       "    </tr>\n",
       "    <tr>\n",
       "      <th>4</th>\n",
       "      <td>cv-valid-test/sample-000004.mp3</td>\n",
       "      <td>HOLD YOUR NOSE TO KEEP THE SMELL FROM DISABLING YOUR MOTOR FUNCTIONS</td>\n",
       "      <td>2</td>\n",
       "      <td>0</td>\n",
       "      <td>NaN</td>\n",
       "      <td>NaN</td>\n",
       "      <td>NaN</td>\n",
       "      <td>NaN</td>\n",
       "      <td>sample-000004.mp3</td>\n",
       "      <td>HOLD YOUR NOSE TO KEEP THE SMELL FROM DISABLING YOUR MOTIVE FUNCTIONS</td>\n",
       "    </tr>\n",
       "  </tbody>\n",
       "</table>\n",
       "</div>"
      ],
      "text/plain": [
       "                          filename  \\\n",
       "0  cv-valid-test/sample-000000.mp3   \n",
       "1  cv-valid-test/sample-000001.mp3   \n",
       "2  cv-valid-test/sample-000002.mp3   \n",
       "3  cv-valid-test/sample-000003.mp3   \n",
       "4  cv-valid-test/sample-000004.mp3   \n",
       "\n",
       "                                                                   text  \\\n",
       "0                            WITHOUT THE DATASET THE ARTICLE IS USELESS   \n",
       "1                                                 I'VE GOT TO GO TO HIM   \n",
       "2                                                       AND YOU KNOW IT   \n",
       "3  DOWN BELOW IN THE DARKNESS WERE HUNDREDS OF PEOPLE SLEEPING IN PEACE   \n",
       "4  HOLD YOUR NOSE TO KEEP THE SMELL FROM DISABLING YOUR MOTOR FUNCTIONS   \n",
       "\n",
       "   up_votes  down_votes       age gender accent  duration     exact_filename  \\\n",
       "0         1           0       NaN    NaN    NaN       NaN  sample-000000.mp3   \n",
       "1         1           0  twenties   male    NaN       NaN  sample-000001.mp3   \n",
       "2         1           0       NaN    NaN    NaN       NaN  sample-000002.mp3   \n",
       "3         4           0  twenties   male     us       NaN  sample-000003.mp3   \n",
       "4         2           0       NaN    NaN    NaN       NaN  sample-000004.mp3   \n",
       "\n",
       "                                                          generated_text  \n",
       "0                              WITHOUT THE DATASET THE ARTICLEAS USELESS  \n",
       "1                                                       F CATEGIL TO HIM  \n",
       "2                                                        AND YOU KNOW IT  \n",
       "3   DOWN BELOW IN THE DARKNESS WERE HUNDREDS OF PEOPLE SLEEPING IN PEACE  \n",
       "4  HOLD YOUR NOSE TO KEEP THE SMELL FROM DISABLING YOUR MOTIVE FUNCTIONS  "
      ]
     },
     "execution_count": 265,
     "metadata": {},
     "output_type": "execute_result"
    }
   ],
   "source": [
    "test_df['text'] = test_df['text'].str.upper()\n",
    "test_df.head(5)"
   ]
  },
  {
   "cell_type": "markdown",
   "id": "760b66ce-8f91-4514-8770-7ba63c6e09ce",
   "metadata": {},
   "source": [
    "### Get transcription performance"
   ]
  },
  {
   "cell_type": "markdown",
   "id": "5f968fda-8f6f-434c-aefb-0564f03e5174",
   "metadata": {},
   "source": [
    "We compute the WER and CER for every row of data."
   ]
  },
  {
   "cell_type": "code",
   "execution_count": 266,
   "id": "5a0cb66b-da39-41c1-9ca4-771862d5bfe6",
   "metadata": {},
   "outputs": [],
   "source": [
    "def compute_scores(row):\n",
    "    label = row['text']\n",
    "    pred = row['generated_text']\n",
    "    return pd.Series({\n",
    "        'wer_score': wer(label, pred),\n",
    "        'cer_score': cer(label, pred)\n",
    "    })"
   ]
  },
  {
   "cell_type": "code",
   "execution_count": 269,
   "id": "d3e49dda-d7b0-4b45-9289-1f265f5feeca",
   "metadata": {},
   "outputs": [
    {
     "name": "stdout",
     "output_type": "stream",
     "text": [
      "Overall WER: 0.1134\n",
      "Overall CER: 0.0486\n"
     ]
    }
   ],
   "source": [
    "test_df[['wer_score', 'cer_score']] = test_df.apply(compute_scores, axis=1)\n",
    "\n",
    "overall_wer = test_df['wer_score'].mean()\n",
    "overall_cer = test_df['cer_score'].mean()\n",
    "\n",
    "print(f\"Overall WER: {overall_wer:.4f}\")\n",
    "print(f\"Overall CER: {overall_cer:.4f}\")"
   ]
  },
  {
   "cell_type": "markdown",
   "id": "3d5a8b53-d9e4-4aac-a840-2f387caf60e0",
   "metadata": {},
   "source": [
    "### Save the updated CSV"
   ]
  },
  {
   "cell_type": "code",
   "execution_count": 270,
   "id": "a1ec4ff3-b88d-4020-bd6a-c36d35000c5b",
   "metadata": {},
   "outputs": [
    {
     "name": "stdout",
     "output_type": "stream",
     "text": [
      "Transcriptions saved to ./cv-valid-test-with-generated-text.csv\n"
     ]
    }
   ],
   "source": [
    "test_df = test_df.drop('exact_filename', axis=1)\n",
    "output_csv = f'./{dataset_split}-with-generated-text.csv'\n",
    "test_df.to_csv(output_csv, index=False)\n",
    "\n",
    "print(f\"Transcriptions saved to {output_csv}\")"
   ]
  },
  {
   "cell_type": "code",
   "execution_count": null,
   "id": "d66033a6-5477-41af-b87a-03864f09a08c",
   "metadata": {},
   "outputs": [],
   "source": []
  }
 ],
 "metadata": {
  "kernelspec": {
   "display_name": "Python 3 (ipykernel)",
   "language": "python",
   "name": "python3"
  },
  "language_info": {
   "codemirror_mode": {
    "name": "ipython",
    "version": 3
   },
   "file_extension": ".py",
   "mimetype": "text/x-python",
   "name": "python",
   "nbconvert_exporter": "python",
   "pygments_lexer": "ipython3",
   "version": "3.12.3"
  }
 },
 "nbformat": 4,
 "nbformat_minor": 5
}
