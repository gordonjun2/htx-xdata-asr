{
 "cells": [
  {
   "cell_type": "markdown",
   "id": "dc2a6108-f0cd-428f-bd23-9ad75926fbe9",
   "metadata": {},
   "source": [
    "## Setup"
   ]
  },
  {
   "cell_type": "markdown",
   "id": "883bd111-59e5-4f28-9b5d-86f8df20f186",
   "metadata": {},
   "source": [
    "### Install required libraries"
   ]
  },
  {
   "cell_type": "markdown",
   "id": "a4e29225-f373-4129-bdba-fa99bbe5ad8a",
   "metadata": {},
   "source": [
    "The libraries should already be installed in the terminal after running \n",
    "```\n",
    "pip install -r requirements.txt\n",
    "```\n",
    "in the root directory, but this will be useful if the notebook is used in other environments."
   ]
  },
  {
   "cell_type": "code",
   "execution_count": 1,
   "id": "b4962a06-0646-452f-8e76-d3795be3350b",
   "metadata": {},
   "outputs": [],
   "source": [
    "%%capture\n",
    "!pip install datasets==3.6.0\n",
    "!pip install transformers==4.52.4\n",
    "!pip install huggingface-hub==0.32.3\n",
    "!pip install torchaudio==2.7.0\n",
    "!pip install librosa==0.11.0\n",
    "!pip install jiwer==3.1.0\n",
    "!pip install evaluate==0.4.3\n",
    "!pip install matplotlib==3.10.3\n",
    "!pip install jiwer==3.1.0\n",
    "!pip install requests==2.32.3\n",
    "!pip install huggingface-hub==0.32.3\n",
    "!pip install accelerate==1.7.0"
   ]
  },
  {
   "cell_type": "markdown",
   "id": "c7d4b488-41ba-44ad-9833-b3cfcb647cfe",
   "metadata": {},
   "source": [
    "### Import required libraries"
   ]
  },
  {
   "cell_type": "code",
   "execution_count": 76,
   "id": "39d0204c-a57c-4abc-8f30-222fa0d2d625",
   "metadata": {},
   "outputs": [],
   "source": [
    "from datasets import load_dataset, Dataset, Audio, load_from_disk\n",
    "import random\n",
    "import evaluate\n",
    "import pandas as pd\n",
    "import IPython.display as ipd\n",
    "import re\n",
    "import json\n",
    "from transformers import (Wav2Vec2ForCTC, Wav2Vec2CTCTokenizer, Wav2Vec2FeatureExtractor, Wav2Vec2Processor, \n",
    "                            TrainingArguments, Trainer)\n",
    "import numpy as np\n",
    "import torch\n",
    "from dataclasses import dataclass, field\n",
    "from typing import Any, Dict, List, Optional, Union\n",
    "import os\n",
    "import matplotlib.pyplot as plt\n",
    "from jiwer import wer, cer\n",
    "import requests\n",
    "from huggingface_hub import configure_http_backend\n",
    "import urllib3\n",
    "\n",
    "pd.set_option('display.max_colwidth', 100)"
   ]
  },
  {
   "cell_type": "markdown",
   "id": "38a01bfa-563e-4d14-bd46-eb6ab87dfc0c",
   "metadata": {},
   "source": [
    "### Other configurations"
   ]
  },
  {
   "cell_type": "code",
   "execution_count": 3,
   "id": "8c64aec8-1964-4700-99eb-13663fc3d6f0",
   "metadata": {},
   "outputs": [],
   "source": [
    "urllib3.disable_warnings(urllib3.exceptions.InsecureRequestWarning)\n",
    "\n",
    "# [OPTIONAL] Use if there is SSL certificate verification issues\n",
    "def backend_factory() -> requests.Session:\n",
    "    session = requests.Session()\n",
    "    session.verify = False\n",
    "    return session\n",
    "\n",
    "\n",
    "configure_http_backend(backend_factory=backend_factory)"
   ]
  },
  {
   "cell_type": "markdown",
   "id": "7fd910af-720d-487a-9147-3b504aea28a2",
   "metadata": {},
   "source": [
    "## Data Preprocessing"
   ]
  },
  {
   "cell_type": "markdown",
   "id": "38a96540-7cb5-4d99-b576-03661502a1d3",
   "metadata": {},
   "source": [
    "Instead of using ```load_dataset``` from\n",
    "```\n",
    "from datasets import load_dataset\n",
    "```\n",
    "to load Common Voice data, we load the data directly from our project directory since it is already copied inside."
   ]
  },
  {
   "cell_type": "markdown",
   "id": "16a154c8-25e3-4ab4-ba13-49745a99876f",
   "metadata": {},
   "source": [
    "### Load labels"
   ]
  },
  {
   "cell_type": "code",
   "execution_count": 4,
   "id": "0cb41e95-b3fc-42bc-b276-b9c7cf36f520",
   "metadata": {},
   "outputs": [
    {
     "data": {
      "text/html": [
       "<div>\n",
       "<style scoped>\n",
       "    .dataframe tbody tr th:only-of-type {\n",
       "        vertical-align: middle;\n",
       "    }\n",
       "\n",
       "    .dataframe tbody tr th {\n",
       "        vertical-align: top;\n",
       "    }\n",
       "\n",
       "    .dataframe thead th {\n",
       "        text-align: right;\n",
       "    }\n",
       "</style>\n",
       "<table border=\"1\" class=\"dataframe\">\n",
       "  <thead>\n",
       "    <tr style=\"text-align: right;\">\n",
       "      <th></th>\n",
       "      <th>filename</th>\n",
       "      <th>text</th>\n",
       "      <th>up_votes</th>\n",
       "      <th>down_votes</th>\n",
       "      <th>age</th>\n",
       "      <th>gender</th>\n",
       "      <th>accent</th>\n",
       "      <th>duration</th>\n",
       "    </tr>\n",
       "  </thead>\n",
       "  <tbody>\n",
       "    <tr>\n",
       "      <th>0</th>\n",
       "      <td>cv-valid-train/sample-000000.mp3</td>\n",
       "      <td>learn to recognize omens and follow them the old king had said</td>\n",
       "      <td>1</td>\n",
       "      <td>0</td>\n",
       "      <td>NaN</td>\n",
       "      <td>NaN</td>\n",
       "      <td>NaN</td>\n",
       "      <td>NaN</td>\n",
       "    </tr>\n",
       "    <tr>\n",
       "      <th>1</th>\n",
       "      <td>cv-valid-train/sample-000001.mp3</td>\n",
       "      <td>everything in the universe evolved he said</td>\n",
       "      <td>1</td>\n",
       "      <td>0</td>\n",
       "      <td>NaN</td>\n",
       "      <td>NaN</td>\n",
       "      <td>NaN</td>\n",
       "      <td>NaN</td>\n",
       "    </tr>\n",
       "    <tr>\n",
       "      <th>2</th>\n",
       "      <td>cv-valid-train/sample-000002.mp3</td>\n",
       "      <td>you came so that you could learn about your dreams said the old woman</td>\n",
       "      <td>1</td>\n",
       "      <td>0</td>\n",
       "      <td>NaN</td>\n",
       "      <td>NaN</td>\n",
       "      <td>NaN</td>\n",
       "      <td>NaN</td>\n",
       "    </tr>\n",
       "    <tr>\n",
       "      <th>3</th>\n",
       "      <td>cv-valid-train/sample-000003.mp3</td>\n",
       "      <td>so now i fear nothing because it was those omens that brought you to me</td>\n",
       "      <td>1</td>\n",
       "      <td>0</td>\n",
       "      <td>NaN</td>\n",
       "      <td>NaN</td>\n",
       "      <td>NaN</td>\n",
       "      <td>NaN</td>\n",
       "    </tr>\n",
       "    <tr>\n",
       "      <th>4</th>\n",
       "      <td>cv-valid-train/sample-000004.mp3</td>\n",
       "      <td>if you start your emails with greetings let me be the first to welcome you to earth</td>\n",
       "      <td>3</td>\n",
       "      <td>2</td>\n",
       "      <td>NaN</td>\n",
       "      <td>NaN</td>\n",
       "      <td>NaN</td>\n",
       "      <td>NaN</td>\n",
       "    </tr>\n",
       "  </tbody>\n",
       "</table>\n",
       "</div>"
      ],
      "text/plain": [
       "                           filename  \\\n",
       "0  cv-valid-train/sample-000000.mp3   \n",
       "1  cv-valid-train/sample-000001.mp3   \n",
       "2  cv-valid-train/sample-000002.mp3   \n",
       "3  cv-valid-train/sample-000003.mp3   \n",
       "4  cv-valid-train/sample-000004.mp3   \n",
       "\n",
       "                                                                                  text  \\\n",
       "0                       learn to recognize omens and follow them the old king had said   \n",
       "1                                           everything in the universe evolved he said   \n",
       "2                you came so that you could learn about your dreams said the old woman   \n",
       "3              so now i fear nothing because it was those omens that brought you to me   \n",
       "4  if you start your emails with greetings let me be the first to welcome you to earth   \n",
       "\n",
       "   up_votes  down_votes  age gender accent  duration  \n",
       "0         1           0  NaN    NaN    NaN       NaN  \n",
       "1         1           0  NaN    NaN    NaN       NaN  \n",
       "2         1           0  NaN    NaN    NaN       NaN  \n",
       "3         1           0  NaN    NaN    NaN       NaN  \n",
       "4         3           2  NaN    NaN    NaN       NaN  "
      ]
     },
     "execution_count": 4,
     "metadata": {},
     "output_type": "execute_result"
    }
   ],
   "source": [
    "dataset_split = 'cv-valid-train'\n",
    "cv_csv_file = f'../datasets/common_voice/{dataset_split}.csv'\n",
    "train_df = pd.read_csv(cv_csv_file)\n",
    "train_df.head(5)"
   ]
  },
  {
   "cell_type": "markdown",
   "id": "d1a24b78-4839-4d4b-a4e9-2c92bedd5cda",
   "metadata": {},
   "source": [
    "### Clean labels' table"
   ]
  },
  {
   "cell_type": "markdown",
   "id": "7c068309-d9dc-46a9-b914-c00a4b694c80",
   "metadata": {},
   "source": [
    "Make the text label uppercase because the model we are finetuning \"facebook/wav2vec2-large-960h\" is pretrained using Librispeech dataset, which are uppercased. Removed all the other unnecessary columns."
   ]
  },
  {
   "cell_type": "code",
   "execution_count": 5,
   "id": "2ee9b9e5-3436-4a51-b0f9-4a433feeccdb",
   "metadata": {},
   "outputs": [
    {
     "data": {
      "text/html": [
       "<div>\n",
       "<style scoped>\n",
       "    .dataframe tbody tr th:only-of-type {\n",
       "        vertical-align: middle;\n",
       "    }\n",
       "\n",
       "    .dataframe tbody tr th {\n",
       "        vertical-align: top;\n",
       "    }\n",
       "\n",
       "    .dataframe thead th {\n",
       "        text-align: right;\n",
       "    }\n",
       "</style>\n",
       "<table border=\"1\" class=\"dataframe\">\n",
       "  <thead>\n",
       "    <tr style=\"text-align: right;\">\n",
       "      <th></th>\n",
       "      <th>filename</th>\n",
       "      <th>text</th>\n",
       "      <th>path</th>\n",
       "    </tr>\n",
       "  </thead>\n",
       "  <tbody>\n",
       "    <tr>\n",
       "      <th>0</th>\n",
       "      <td>cv-valid-train/sample-000000.mp3</td>\n",
       "      <td>LEARN TO RECOGNIZE OMENS AND FOLLOW THEM THE OLD KING HAD SAID</td>\n",
       "      <td>../datasets/common_voice/cv-valid-train/cv-valid-train/sample-000000.mp3</td>\n",
       "    </tr>\n",
       "    <tr>\n",
       "      <th>1</th>\n",
       "      <td>cv-valid-train/sample-000001.mp3</td>\n",
       "      <td>EVERYTHING IN THE UNIVERSE EVOLVED HE SAID</td>\n",
       "      <td>../datasets/common_voice/cv-valid-train/cv-valid-train/sample-000001.mp3</td>\n",
       "    </tr>\n",
       "    <tr>\n",
       "      <th>2</th>\n",
       "      <td>cv-valid-train/sample-000002.mp3</td>\n",
       "      <td>YOU CAME SO THAT YOU COULD LEARN ABOUT YOUR DREAMS SAID THE OLD WOMAN</td>\n",
       "      <td>../datasets/common_voice/cv-valid-train/cv-valid-train/sample-000002.mp3</td>\n",
       "    </tr>\n",
       "    <tr>\n",
       "      <th>3</th>\n",
       "      <td>cv-valid-train/sample-000003.mp3</td>\n",
       "      <td>SO NOW I FEAR NOTHING BECAUSE IT WAS THOSE OMENS THAT BROUGHT YOU TO ME</td>\n",
       "      <td>../datasets/common_voice/cv-valid-train/cv-valid-train/sample-000003.mp3</td>\n",
       "    </tr>\n",
       "    <tr>\n",
       "      <th>4</th>\n",
       "      <td>cv-valid-train/sample-000004.mp3</td>\n",
       "      <td>IF YOU START YOUR EMAILS WITH GREETINGS LET ME BE THE FIRST TO WELCOME YOU TO EARTH</td>\n",
       "      <td>../datasets/common_voice/cv-valid-train/cv-valid-train/sample-000004.mp3</td>\n",
       "    </tr>\n",
       "  </tbody>\n",
       "</table>\n",
       "</div>"
      ],
      "text/plain": [
       "                           filename  \\\n",
       "0  cv-valid-train/sample-000000.mp3   \n",
       "1  cv-valid-train/sample-000001.mp3   \n",
       "2  cv-valid-train/sample-000002.mp3   \n",
       "3  cv-valid-train/sample-000003.mp3   \n",
       "4  cv-valid-train/sample-000004.mp3   \n",
       "\n",
       "                                                                                  text  \\\n",
       "0                       LEARN TO RECOGNIZE OMENS AND FOLLOW THEM THE OLD KING HAD SAID   \n",
       "1                                           EVERYTHING IN THE UNIVERSE EVOLVED HE SAID   \n",
       "2                YOU CAME SO THAT YOU COULD LEARN ABOUT YOUR DREAMS SAID THE OLD WOMAN   \n",
       "3              SO NOW I FEAR NOTHING BECAUSE IT WAS THOSE OMENS THAT BROUGHT YOU TO ME   \n",
       "4  IF YOU START YOUR EMAILS WITH GREETINGS LET ME BE THE FIRST TO WELCOME YOU TO EARTH   \n",
       "\n",
       "                                                                       path  \n",
       "0  ../datasets/common_voice/cv-valid-train/cv-valid-train/sample-000000.mp3  \n",
       "1  ../datasets/common_voice/cv-valid-train/cv-valid-train/sample-000001.mp3  \n",
       "2  ../datasets/common_voice/cv-valid-train/cv-valid-train/sample-000002.mp3  \n",
       "3  ../datasets/common_voice/cv-valid-train/cv-valid-train/sample-000003.mp3  \n",
       "4  ../datasets/common_voice/cv-valid-train/cv-valid-train/sample-000004.mp3  "
      ]
     },
     "execution_count": 5,
     "metadata": {},
     "output_type": "execute_result"
    }
   ],
   "source": [
    "train_df['text'] = train_df['text'].str.upper()\n",
    "cleaned_train_df = train_df.drop(['up_votes', 'down_votes', 'age', 'gender', 'accent', 'duration'], axis=1)\n",
    "audio_files_directory = f'../datasets/common_voice/{dataset_split}'\n",
    "cleaned_train_df[\"path\"] = cleaned_train_df[\"filename\"].apply(lambda x: os.path.join(audio_files_directory, x))\n",
    "cleaned_train_df.head(5)"
   ]
  },
  {
   "cell_type": "markdown",
   "id": "ca631761-8f15-4402-82e2-fea4281d24b0",
   "metadata": {},
   "source": [
    "### Inspect text"
   ]
  },
  {
   "cell_type": "markdown",
   "id": "26c84827-962a-4f93-b46a-f5ef84c96e64",
   "metadata": {},
   "source": [
    "Check if 'text' contains special characters that cannot be transcribed (eg. colon, comma, percentage, etc). We want to keep whitespaces because the model has to learn to predict when a full word is finished. If not, the output will be a sequence of characters with no spacing. Also, the apostrophes are kept because of pronounciation difference. The output shows that there is none, so the data is cleaned."
   ]
  },
  {
   "cell_type": "code",
   "execution_count": 6,
   "id": "afc5362c-5769-4f2c-8b8f-1208e7878378",
   "metadata": {},
   "outputs": [
    {
     "name": "stdout",
     "output_type": "stream",
     "text": [
      "Empty DataFrame\n",
      "Columns: [filename, text, path]\n",
      "Index: []\n"
     ]
    }
   ],
   "source": [
    "# This pattern keeps only rows with characters that are NOT uppercase letter, whitespace character, or a single quote '.\n",
    "special_chars_pattern = r\"[^A-Z\\s']\"\n",
    "\n",
    "df_with_special_chars = cleaned_train_df[cleaned_train_df['text'].str.contains(special_chars_pattern, regex=True, na=False)]\n",
    "\n",
    "print(df_with_special_chars.head(5))"
   ]
  },
  {
   "cell_type": "markdown",
   "id": "5c6c9ac4-4aa5-4e2e-b472-db04b26fab7f",
   "metadata": {},
   "source": [
    "### Load and decode audio"
   ]
  },
  {
   "cell_type": "code",
   "execution_count": 7,
   "id": "83acc7be-342b-4624-a297-e2420ea95d91",
   "metadata": {},
   "outputs": [],
   "source": [
    "cleaned_train_df = cleaned_train_df.rename(columns={\"path\": \"audio\"})\n",
    "common_voice_train_original = Dataset.from_pandas(cleaned_train_df)\n",
    "common_voice_train_temp = common_voice_train_original.cast_column(\"audio\", Audio())"
   ]
  },
  {
   "cell_type": "code",
   "execution_count": 8,
   "id": "d6fa82e1-9de1-4664-a412-b3bcc511ca5a",
   "metadata": {},
   "outputs": [
    {
     "data": {
      "text/plain": [
       "{'path': '../datasets/common_voice/cv-valid-train/cv-valid-train/sample-000000.mp3',\n",
       " 'array': array([ 0.00000000e+00, -2.39675359e-13, -2.89490112e-14, ...,\n",
       "         4.10622742e-04,  7.94679625e-04,  7.57523230e-04], shape=(196992,)),\n",
       " 'sampling_rate': 48000}"
      ]
     },
     "execution_count": 8,
     "metadata": {},
     "output_type": "execute_result"
    }
   ],
   "source": [
    "common_voice_train_temp[0][\"audio\"]"
   ]
  },
  {
   "cell_type": "markdown",
   "id": "829b6049-1a6a-4a53-b63e-71ef6d6276aa",
   "metadata": {},
   "source": [
    "The output of the cell above shows that the audio data is loaded with a sampling rate of 48 kHz, but 16 kHz is expected by the ```wav2vec2-large-960h``` model. Hence, we have to resample the audio data."
   ]
  },
  {
   "cell_type": "code",
   "execution_count": 9,
   "id": "34400d1a-c6a2-4ea5-a15a-cd465853d023",
   "metadata": {},
   "outputs": [],
   "source": [
    "common_voice_train = common_voice_train_original.cast_column(\"audio\", Audio(sampling_rate=16_000))"
   ]
  },
  {
   "cell_type": "code",
   "execution_count": 10,
   "id": "4773d1ab-5150-4c1f-99c3-326b0952e8f4",
   "metadata": {},
   "outputs": [
    {
     "data": {
      "text/plain": [
       "{'path': '../datasets/common_voice/cv-valid-train/cv-valid-train/sample-000000.mp3',\n",
       " 'array': array([-4.36557457e-11,  9.09494702e-12,  4.00177669e-11, ...,\n",
       "         1.25038787e-04,  7.30113825e-04,  7.36902468e-04], shape=(65664,)),\n",
       " 'sampling_rate': 16000}"
      ]
     },
     "execution_count": 10,
     "metadata": {},
     "output_type": "execute_result"
    }
   ],
   "source": [
    "common_voice_train[0][\"audio\"]"
   ]
  },
  {
   "cell_type": "code",
   "execution_count": 11,
   "id": "dd566f37-202f-490e-88d4-64899d20b2ea",
   "metadata": {},
   "outputs": [
    {
     "data": {
      "text/plain": [
       "Dataset({\n",
       "    features: ['filename', 'text', 'audio'],\n",
       "    num_rows: 195776\n",
       "})"
      ]
     },
     "execution_count": 11,
     "metadata": {},
     "output_type": "execute_result"
    }
   ],
   "source": [
    "common_voice_train"
   ]
  },
  {
   "cell_type": "markdown",
   "id": "983b01ed-4b2c-42cd-b72d-95f6faf88204",
   "metadata": {},
   "source": [
    "### Understand the statistics of the audio sequences"
   ]
  },
  {
   "cell_type": "markdown",
   "id": "d9b642ca-4bc9-463a-b49c-cc37b2e3ce12",
   "metadata": {},
   "source": [
    "The cell below calculate the 25th, 50th, and 75th percentile duration of the audio sequences. It plots the distribution as well. In order to reduce memory usage, we can let to remove top 25% of the data (~ duration >= 5 seconds)."
   ]
  },
  {
   "cell_type": "code",
   "execution_count": 12,
   "id": "8fdcfb14-aade-4ba8-aed5-2e9dafbb0afe",
   "metadata": {},
   "outputs": [
    {
     "name": "stdout",
     "output_type": "stream",
     "text": [
      "25th percentile duration: 3.14 seconds\n",
      "50th percentile duration: 4.13 seconds\n",
      "75th percentile duration: 5.54 seconds\n",
      "\n",
      "\n"
     ]
    },
    {
     "data": {
      "image/png": "[encoded data removed]",
      "text/plain": [
       "<Figure size 1000x600 with 1 Axes>"
      ]
     },
     "metadata": {},
     "output_type": "display_data"
    }
   ],
   "source": [
    "sample_dataset = common_voice_train[:1000]\n",
    "audio_lengths = [len(sample[\"array\"]) for sample in sample_dataset[\"audio\"]]\n",
    "sampling_rate = sample_dataset[\"audio\"][0][\"sampling_rate\"]\n",
    "audio_lengths_np = np.array(audio_lengths)\n",
    "durations_seconds = audio_lengths_np / sampling_rate\n",
    "\n",
    "for p in [25, 50, 75]:\n",
    "    print(f\"{p}th percentile duration: {np.percentile(durations_seconds, p):.2f} seconds\")\n",
    "print(\"\\n\")\n",
    "\n",
    "plt.figure(figsize=(10, 6))\n",
    "plt.hist(durations_seconds, bins=100, color='blue', edgecolor='black')\n",
    "plt.title(\"Histogram of Audio Durations (in seconds)\")\n",
    "plt.xlabel(\"Duration (seconds)\")\n",
    "plt.ylabel(\"Number of Samples\")\n",
    "plt.grid(True)\n",
    "plt.tight_layout()\n",
    "plt.show()"
   ]
  },
  {
   "cell_type": "markdown",
   "id": "0be52f6b-d892-4143-ba8e-76346c2e4545",
   "metadata": {},
   "source": [
    "### Filter out long audio sequences"
   ]
  },
  {
   "cell_type": "markdown",
   "id": "c39b4428-f5ce-4693-ba34-bd82798b3ed1",
   "metadata": {},
   "source": [
    "Long audio sequences require a lot of memory. As the training will be done locally with limited computational resources, it is best to filter away these sequences."
   ]
  },
  {
   "cell_type": "code",
   "execution_count": 13,
   "id": "36ebb35f-005b-41bd-b1d7-ce9879805932",
   "metadata": {},
   "outputs": [],
   "source": [
    "def filter_short_audio_sequences(data, max_seconds=5):\n",
    "    max_samples = 16000 * max_seconds\n",
    "    return len(data[\"audio\"][\"array\"]) <= max_samples"
   ]
  },
  {
   "cell_type": "code",
   "execution_count": 14,
   "id": "4f88e940-204c-47b6-81db-6bc944fe1d72",
   "metadata": {},
   "outputs": [
    {
     "name": "stderr",
     "output_type": "stream",
     "text": [
      "Filter: 100%|██████████████████████████████████████████████████████████████████████████████████████████████████████████████████████████████████████████████████| 195776/195776 [08:02<00:00, 405.81 examples/s]\n"
     ]
    }
   ],
   "source": [
    "common_voice_train = common_voice_train.filter(filter_short_audio_sequences)"
   ]
  },
  {
   "cell_type": "code",
   "execution_count": 15,
   "id": "75bceb06-e307-4084-9398-d00fc7212988",
   "metadata": {},
   "outputs": [
    {
     "data": {
      "text/plain": [
       "Dataset({\n",
       "    features: ['filename', 'text', 'audio'],\n",
       "    num_rows: 133647\n",
       "})"
      ]
     },
     "execution_count": 15,
     "metadata": {},
     "output_type": "execute_result"
    }
   ],
   "source": [
    "common_voice_train"
   ]
  },
  {
   "cell_type": "markdown",
   "id": "7ec8e875-174f-406a-ae45-a8659a7348e9",
   "metadata": {},
   "source": [
    "### Check data"
   ]
  },
  {
   "cell_type": "code",
   "execution_count": 13,
   "id": "0724b0b4-6a1a-4281-8c3f-89158b7e4966",
   "metadata": {},
   "outputs": [
    {
     "name": "stdout",
     "output_type": "stream",
     "text": [
      "Target text: THE HEATHER WAS ON FIRE AND YOU COULD SEE A THIN BLUE SMOKE RISING UP SLOWLY\n",
      "Input array shape: (74496,)\n",
      "Sampling rate: 16000\n",
      "\n",
      "\n"
     ]
    },
    {
     "data": {
      "text/html": [
       "\n",
       "                <audio  controls=\"controls\" autoplay=\"autoplay\">\n",
       "                    <source src=\"data:audio/wav;base64,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\" type=\"audio/wav\" />\n",
       "                    Your browser does not support the audio element.\n",
       "                </audio>\n",
       "              "
      ],
      "text/plain": [
       "<IPython.lib.display.Audio object>"
      ]
     },
     "execution_count": 13,
     "metadata": {},
     "output_type": "execute_result"
    }
   ],
   "source": [
    "rand_int = random.randint(0, len(common_voice_train)-1)\n",
    "\n",
    "print(\"Target text:\", common_voice_train[rand_int][\"text\"])\n",
    "print(\"Input array shape:\", common_voice_train[rand_int][\"audio\"][\"array\"].shape)\n",
    "print(\"Sampling rate:\", common_voice_train[rand_int][\"audio\"][\"sampling_rate\"])\n",
    "print(\"\\n\")\n",
    "ipd.Audio(data=common_voice_train[rand_int][\"audio\"][\"array\"], autoplay=True, rate=16000)"
   ]
  },
  {
   "cell_type": "markdown",
   "id": "881bb68a-7c9b-4e4d-890e-1727c564aad7",
   "metadata": {},
   "source": [
    "## Tokenizer"
   ]
  },
  {
   "cell_type": "markdown",
   "id": "abeb7b2a-d3f8-4d41-861b-5e5d85cd6958",
   "metadata": {},
   "source": [
    "### Building vocabulary"
   ]
  },
  {
   "cell_type": "markdown",
   "id": "218e6af1-216a-448d-88c5-67333468ac18",
   "metadata": {},
   "source": [
    "In Wav2Vec2 ASR models, the vocabulary is typically composed of characters or subword units, not whole words.\n",
    "\n",
    "Since the \"facebook/wav2vec2-large-960h\" Wav2Vec2 model was pretrained using character-based vocabulary, we should stick to it.\n",
    "\n",
    "We use a mapping function to build the vocabulary from the training data."
   ]
  },
  {
   "cell_type": "code",
   "execution_count": 14,
   "id": "a89c14a2-5dc3-444e-b4e7-510156241d6e",
   "metadata": {},
   "outputs": [],
   "source": [
    "def extract_all_chars(batch):\n",
    "    all_text = \" \".join(batch[\"text\"])\n",
    "    vocab = list(set(all_text))\n",
    "    return {\"vocab\": [vocab]}"
   ]
  },
  {
   "cell_type": "code",
   "execution_count": 15,
   "id": "ea07c0e4-9a69-4f7a-b270-7746fcce1e0e",
   "metadata": {},
   "outputs": [
    {
     "name": "stderr",
     "output_type": "stream",
     "text": [
      "Map: 100%|███████████████████████████████████████████████████████████| 195776/195776 [00:00<00:00, 956802.37 examples/s]\n"
     ]
    }
   ],
   "source": [
    "vocab_train = common_voice_train.map(extract_all_chars, batched=True, batch_size=-1, keep_in_memory=True, remove_columns=common_voice_train.column_names)"
   ]
  },
  {
   "cell_type": "markdown",
   "id": "a6cc7159-b998-47b4-b209-9d9c993b8e49",
   "metadata": {},
   "source": [
    "The order of the alphabet is fixed to ensure that the input ids from the cached dataset (see later steps) can match with the vocabulary even with re-run."
   ]
  },
  {
   "cell_type": "code",
   "execution_count": 16,
   "id": "929c8459-facc-4e2a-a56f-316add916fd4",
   "metadata": {},
   "outputs": [
    {
     "data": {
      "text/plain": [
       "[' ',\n",
       " \"'\",\n",
       " 'A',\n",
       " 'B',\n",
       " 'C',\n",
       " 'D',\n",
       " 'E',\n",
       " 'F',\n",
       " 'G',\n",
       " 'H',\n",
       " 'I',\n",
       " 'J',\n",
       " 'K',\n",
       " 'L',\n",
       " 'M',\n",
       " 'N',\n",
       " 'O',\n",
       " 'P',\n",
       " 'Q',\n",
       " 'R',\n",
       " 'S',\n",
       " 'T',\n",
       " 'U',\n",
       " 'V',\n",
       " 'W',\n",
       " 'X',\n",
       " 'Y',\n",
       " 'Z']"
      ]
     },
     "execution_count": 16,
     "metadata": {},
     "output_type": "execute_result"
    }
   ],
   "source": [
    "vocab_list = list(set(vocab_train[\"vocab\"][0]))\n",
    "vocab_list.sort()\n",
    "vocab_list"
   ]
  },
  {
   "cell_type": "code",
   "execution_count": 17,
   "id": "bd91307c-c1db-4e57-ae37-7f95edfd3015",
   "metadata": {},
   "outputs": [
    {
     "data": {
      "text/plain": [
       "{' ': 0,\n",
       " \"'\": 1,\n",
       " 'A': 2,\n",
       " 'B': 3,\n",
       " 'C': 4,\n",
       " 'D': 5,\n",
       " 'E': 6,\n",
       " 'F': 7,\n",
       " 'G': 8,\n",
       " 'H': 9,\n",
       " 'I': 10,\n",
       " 'J': 11,\n",
       " 'K': 12,\n",
       " 'L': 13,\n",
       " 'M': 14,\n",
       " 'N': 15,\n",
       " 'O': 16,\n",
       " 'P': 17,\n",
       " 'Q': 18,\n",
       " 'R': 19,\n",
       " 'S': 20,\n",
       " 'T': 21,\n",
       " 'U': 22,\n",
       " 'V': 23,\n",
       " 'W': 24,\n",
       " 'X': 25,\n",
       " 'Y': 26,\n",
       " 'Z': 27}"
      ]
     },
     "execution_count": 17,
     "metadata": {},
     "output_type": "execute_result"
    }
   ],
   "source": [
    "vocab_dict = {v: k for k, v in enumerate(vocab_list)}\n",
    "\n",
    "# To avoid ambiguity for \" \" token class, we give it a more visible character \"|\".\n",
    "vocab_dict[\"|\"] = vocab_dict[\" \"]\n",
    "del vocab_dict[\" \"]\n",
    "\n",
    "vocab_dict"
   ]
  },
  {
   "cell_type": "markdown",
   "id": "ff8a3fc3-b482-45ad-be1f-7ee920dbda78",
   "metadata": {},
   "source": [
    "We should check the pretrained processor to see the vocabulary it was trained on as well."
   ]
  },
  {
   "cell_type": "markdown",
   "id": "bf5361ee-df3b-43f9-a8b8-03135e84f0c8",
   "metadata": {},
   "source": [
    "### Instantiate the pretrained processor"
   ]
  },
  {
   "cell_type": "code",
   "execution_count": 73,
   "id": "f0024e10-7d8e-47d5-bbf4-3f208429cabb",
   "metadata": {},
   "outputs": [],
   "source": [
    "processor = Wav2Vec2Processor.from_pretrained(\"facebook/wav2vec2-large-960h\")"
   ]
  },
  {
   "cell_type": "code",
   "execution_count": 74,
   "id": "f18d2664-a1c9-4166-902c-f5cb7c855898",
   "metadata": {},
   "outputs": [
    {
     "data": {
      "text/plain": [
       "{'<pad>': 0,\n",
       " '<s>': 1,\n",
       " '</s>': 2,\n",
       " '<unk>': 3,\n",
       " '|': 4,\n",
       " 'E': 5,\n",
       " 'T': 6,\n",
       " 'A': 7,\n",
       " 'O': 8,\n",
       " 'N': 9,\n",
       " 'I': 10,\n",
       " 'H': 11,\n",
       " 'S': 12,\n",
       " 'R': 13,\n",
       " 'D': 14,\n",
       " 'L': 15,\n",
       " 'U': 16,\n",
       " 'M': 17,\n",
       " 'W': 18,\n",
       " 'C': 19,\n",
       " 'F': 20,\n",
       " 'G': 21,\n",
       " 'Y': 22,\n",
       " 'P': 23,\n",
       " 'B': 24,\n",
       " 'V': 25,\n",
       " 'K': 26,\n",
       " \"'\": 27,\n",
       " 'X': 28,\n",
       " 'J': 29,\n",
       " 'Q': 30,\n",
       " 'Z': 31}"
      ]
     },
     "execution_count": 74,
     "metadata": {},
     "output_type": "execute_result"
    }
   ],
   "source": [
    "# Get the vocab dictionary from the tokenizer\n",
    "vocab_dict = processor.tokenizer.get_vocab()\n",
    "vocab_dict = dict(sorted(vocab_dict.items(), key=lambda item: item[1]))\n",
    "vocab_dict"
   ]
  },
  {
   "cell_type": "markdown",
   "id": "de41efd9-87b1-4c15-8fc2-eba2658e84dc",
   "metadata": {},
   "source": [
    "Notice that the vocabulary is the same, except for the additional special tokens, eg. unknown and padding tokens. Since we are finetuning the pretrained model, we should stick to the vocabulary and the corresponding indexes the model is trained on. If we use our own generated vocabulary instead, this will cause the training loss to be higher at the start. This is due to mismatch between the embedding layer, which maps token IDs (from the vocabulary) to learned vectors."
   ]
  },
  {
   "cell_type": "markdown",
   "id": "8ac8db14-98fb-45a5-8448-787cc7cc9f17",
   "metadata": {},
   "source": [
    "## Data Preparation"
   ]
  },
  {
   "cell_type": "markdown",
   "id": "6d3e677d-6041-450d-a296-d152a4f62707",
   "metadata": {},
   "source": [
    "### Split dataset"
   ]
  },
  {
   "cell_type": "markdown",
   "id": "37a56a45-fe84-4909-8faa-07670e4d62b9",
   "metadata": {},
   "source": [
    "We have to split the 'cv-valid-train' dataset further down into 70-30 ratio, where 30% is kept for validation."
   ]
  },
  {
   "cell_type": "code",
   "execution_count": 24,
   "id": "b9371b90-a213-43fb-a03d-ce6adbd7dcb7",
   "metadata": {},
   "outputs": [],
   "source": [
    "split = common_voice_train.train_test_split(test_size=0.3, seed=42)\n",
    "\n",
    "common_voice_train_train = split['train']\n",
    "common_voice_train_validation = split['test']"
   ]
  },
  {
   "cell_type": "markdown",
   "id": "8fb48f4d-fd93-44a4-8f3c-a473dbbff49e",
   "metadata": {},
   "source": [
    "Inspect the ```training_dataset```"
   ]
  },
  {
   "cell_type": "code",
   "execution_count": 25,
   "id": "44d1ecea-e8dc-4eeb-b0fd-0fa60c160e09",
   "metadata": {},
   "outputs": [
    {
     "data": {
      "text/plain": [
       "Dataset({\n",
       "    features: ['filename', 'text', 'audio'],\n",
       "    num_rows: 137043\n",
       "})"
      ]
     },
     "execution_count": 25,
     "metadata": {},
     "output_type": "execute_result"
    }
   ],
   "source": [
    "common_voice_train_train"
   ]
  },
  {
   "cell_type": "markdown",
   "id": "faf755a4-2f37-43dd-b373-02e6f5aa1333",
   "metadata": {},
   "source": [
    "Inspect the ```validation_dataset```"
   ]
  },
  {
   "cell_type": "code",
   "execution_count": 26,
   "id": "c11b77df-1485-4ea6-a408-9c7bc1c54c64",
   "metadata": {},
   "outputs": [
    {
     "data": {
      "text/plain": [
       "Dataset({\n",
       "    features: ['filename', 'text', 'audio'],\n",
       "    num_rows: 58733\n",
       "})"
      ]
     },
     "execution_count": 26,
     "metadata": {},
     "output_type": "execute_result"
    }
   ],
   "source": [
    "common_voice_train_validation"
   ]
  },
  {
   "cell_type": "markdown",
   "id": "f06cdbde-b203-42b4-ba4c-9693ccac6661",
   "metadata": {},
   "source": [
    "### Map data to be used by processor"
   ]
  },
  {
   "cell_type": "markdown",
   "id": "42f169a9-61b3-4cfd-9dcb-493f1f33be23",
   "metadata": {},
   "source": [
    "Inside the ```prepare_dataset``` function, more complex feature extraction methods can be added inside."
   ]
  },
  {
   "cell_type": "code",
   "execution_count": 27,
   "id": "28de6d7e-ec16-4a13-8cb9-0d7d7d7f49b7",
   "metadata": {},
   "outputs": [],
   "source": [
    "def prepare_dataset(batch):\n",
    "    audio = batch[\"audio\"]\n",
    "\n",
    "    batch[\"input_values\"] = processor(audio[\"array\"], sampling_rate=audio[\"sampling_rate\"]).input_values[0]\n",
    "    \n",
    "    with processor.as_target_processor():\n",
    "        batch[\"labels\"] = processor(batch[\"text\"]).input_ids\n",
    "        \n",
    "    return batch"
   ]
  },
  {
   "cell_type": "code",
   "execution_count": 28,
   "id": "8b926245-ed76-43c4-bd72-6622fb0129b5",
   "metadata": {},
   "outputs": [],
   "source": [
    "training_dataset_cache_dir = \"./caches/training\"\n",
    "validation_dataset_cache_dir = \"./caches/validation\""
   ]
  },
  {
   "cell_type": "markdown",
   "id": "f772e3d7-1411-4c7c-a4d5-a11ad483c33d",
   "metadata": {},
   "source": [
    "Apply the ```prepare_dataset``` to training and validation dataset. The mapped output will be saved under the *./caches* directory. This helps to save a lot of time and memory when the notebook is re-run again. This will take a bit of time and a lot of memory...\n",
    "\n",
    "Uncomment the cells below to prepare the data again."
   ]
  },
  {
   "cell_type": "code",
   "execution_count": 29,
   "id": "d723f345-32b6-4473-9c3d-7eb34fb7b7c0",
   "metadata": {},
   "outputs": [],
   "source": [
    "# training_dataset = common_voice_train_train.map(prepare_dataset, remove_columns=common_voice_train_train.column_names, batched=False)"
   ]
  },
  {
   "cell_type": "code",
   "execution_count": 30,
   "id": "532931f5-d51e-420c-832f-f8f834ce6a8a",
   "metadata": {},
   "outputs": [],
   "source": [
    "# os.makedirs(training_dataset_cache_dir, exist_ok=True)\n",
    "# training_dataset.save_to_disk(training_dataset_cache_dir)"
   ]
  },
  {
   "cell_type": "code",
   "execution_count": 31,
   "id": "b33327c5-8784-4fdb-974f-211b678685b0",
   "metadata": {},
   "outputs": [],
   "source": [
    "# validation_dataset = common_voice_train_validation.map(prepare_dataset, remove_columns=common_voice_train_validation.column_names, batched=False)"
   ]
  },
  {
   "cell_type": "code",
   "execution_count": 32,
   "id": "e3416101-40ab-4016-b364-c2a9dd70dd67",
   "metadata": {},
   "outputs": [],
   "source": [
    "# os.makedirs(validation_dataset_cache_dir, exist_ok=True)\n",
    "# validation_dataset.save_to_disk(validation_dataset_cache_dir)"
   ]
  },
  {
   "cell_type": "markdown",
   "id": "96e11d59-7e99-4c8c-8c8f-f03cabb803e3",
   "metadata": {},
   "source": [
    "### Load cached dataset"
   ]
  },
  {
   "cell_type": "markdown",
   "id": "893f04d4-1e93-447d-ae1b-6921a4b00a6c",
   "metadata": {},
   "source": [
    "If ```training_dataset``` and ```validation_dataset``` are saved in the previous steps, we can skip the data mapping and go directly to load the dataset."
   ]
  },
  {
   "cell_type": "code",
   "execution_count": 33,
   "id": "996d76e2-f0f7-4961-be8d-fc35513a1206",
   "metadata": {},
   "outputs": [],
   "source": [
    "training_dataset = load_from_disk(training_dataset_cache_dir)\n",
    "validation_dataset = load_from_disk(validation_dataset_cache_dir)"
   ]
  },
  {
   "cell_type": "markdown",
   "id": "09ae6d05-b8b6-4799-85bb-53e4b34d9557",
   "metadata": {},
   "source": [
    "Sanity check"
   ]
  },
  {
   "cell_type": "code",
   "execution_count": 34,
   "id": "b6cacac4-03b5-4431-ab05-4f12934f5d52",
   "metadata": {},
   "outputs": [
    {
     "data": {
      "text/plain": [
       "Dataset({\n",
       "    features: ['input_values', 'labels'],\n",
       "    num_rows: 93552\n",
       "})"
      ]
     },
     "execution_count": 34,
     "metadata": {},
     "output_type": "execute_result"
    }
   ],
   "source": [
    "training_dataset"
   ]
  },
  {
   "cell_type": "code",
   "execution_count": 35,
   "id": "a33a154f-0a0b-4810-8c93-f46b85bfec93",
   "metadata": {},
   "outputs": [
    {
     "data": {
      "text/plain": [
       "Dataset({\n",
       "    features: ['input_values', 'labels'],\n",
       "    num_rows: 40095\n",
       "})"
      ]
     },
     "execution_count": 35,
     "metadata": {},
     "output_type": "execute_result"
    }
   ],
   "source": [
    "validation_dataset"
   ]
  },
  {
   "cell_type": "markdown",
   "id": "57d90169-e56c-4e8c-8e71-abed2ae48db5",
   "metadata": {},
   "source": [
    "## Training"
   ]
  },
  {
   "cell_type": "markdown",
   "id": "98638fb3-60f7-45ce-a290-22bb8ef5aa19",
   "metadata": {},
   "source": [
    "### Instantiate a data collator"
   ]
  },
  {
   "cell_type": "markdown",
   "id": "693d9338-eb78-45ce-89b9-8085cb529310",
   "metadata": {},
   "source": [
    "This is taken from [transformers/.../wav2vec2/run_asr.py](https://github.com/huggingface/transformers/blob/9a06b6b11bdfc42eea08fa91d0c737d1863c99e3/examples/research_projects/wav2vec2/run_asr.py#L81)."
   ]
  },
  {
   "cell_type": "code",
   "execution_count": 36,
   "id": "5ac0d26a-4dda-491c-a676-d196d0846668",
   "metadata": {},
   "outputs": [],
   "source": [
    "@dataclass\n",
    "class DataCollatorCTCWithPadding:\n",
    "    \"\"\"\n",
    "    Data collator that will dynamically pad the inputs received.\n",
    "    Args:\n",
    "        processor (:class:`~transformers.Wav2Vec2Processor`)\n",
    "            The processor used for proccessing the data.\n",
    "        padding (:obj:`bool`, :obj:`str` or :class:`~transformers.tokenization_utils_base.PaddingStrategy`, `optional`, defaults to :obj:`True`):\n",
    "            Select a strategy to pad the returned sequences (according to the model's padding side and padding index)\n",
    "            among:\n",
    "            * :obj:`True` or :obj:`'longest'`: Pad to the longest sequence in the batch (or no padding if only a single\n",
    "              sequence if provided).\n",
    "            * :obj:`'max_length'`: Pad to a maximum length specified with the argument :obj:`max_length` or to the\n",
    "              maximum acceptable input length for the model if that argument is not provided.\n",
    "            * :obj:`False` or :obj:`'do_not_pad'` (default): No padding (i.e., can output a batch with sequences of\n",
    "              different lengths).\n",
    "        max_length (:obj:`int`, `optional`):\n",
    "            Maximum length of the ``input_values`` of the returned list and optionally padding length (see above).\n",
    "        max_length_labels (:obj:`int`, `optional`):\n",
    "            Maximum length of the ``labels`` returned list and optionally padding length (see above).\n",
    "        pad_to_multiple_of (:obj:`int`, `optional`):\n",
    "            If set will pad the sequence to a multiple of the provided value.\n",
    "            This is especially useful to enable the use of Tensor Cores on NVIDIA hardware with compute capability >=\n",
    "            7.5 (Volta).\n",
    "    \"\"\"\n",
    "\n",
    "    processor: Wav2Vec2Processor\n",
    "    padding: Union[bool, str] = True\n",
    "    max_length: Optional[int] = None\n",
    "    max_length_labels: Optional[int] = None\n",
    "    pad_to_multiple_of: Optional[int] = None\n",
    "    pad_to_multiple_of_labels: Optional[int] = None\n",
    "\n",
    "    def __call__(self, features: List[Dict[str, Union[List[int], torch.Tensor]]]) -> Dict[str, torch.Tensor]:\n",
    "        # split inputs and labels since they have to be of different lenghts and need\n",
    "        # different padding methods\n",
    "        input_features = [{\"input_values\": feature[\"input_values\"]} for feature in features]\n",
    "        label_features = [{\"input_ids\": feature[\"labels\"]} for feature in features]\n",
    "\n",
    "        batch = self.processor.pad(\n",
    "            input_features,\n",
    "            padding=self.padding,\n",
    "            max_length=self.max_length,\n",
    "            pad_to_multiple_of=self.pad_to_multiple_of,\n",
    "            return_tensors=\"pt\",\n",
    "        )\n",
    "        with self.processor.as_target_processor():\n",
    "            labels_batch = self.processor.pad(\n",
    "                label_features,\n",
    "                padding=self.padding,\n",
    "                max_length=self.max_length_labels,\n",
    "                pad_to_multiple_of=self.pad_to_multiple_of_labels,\n",
    "                return_tensors=\"pt\",\n",
    "            )\n",
    "\n",
    "        # replace padding with -100 to ignore loss correctly\n",
    "        labels = labels_batch[\"input_ids\"].masked_fill(labels_batch.attention_mask.ne(1), -100)\n",
    "\n",
    "        batch[\"labels\"] = labels\n",
    "\n",
    "        return batch"
   ]
  },
  {
   "cell_type": "code",
   "execution_count": 37,
   "id": "4b770504-1be4-495e-84a5-6255f0ab86e3",
   "metadata": {},
   "outputs": [],
   "source": [
    "data_collator = DataCollatorCTCWithPadding(processor=processor, padding=True)"
   ]
  },
  {
   "cell_type": "markdown",
   "id": "09f91f2c-acfb-45be-8258-2c64f452511e",
   "metadata": {},
   "source": [
    "### Define evaluation metrics"
   ]
  },
  {
   "cell_type": "markdown",
   "id": "704caa89-0a20-4ab0-9321-cd65b8cd173b",
   "metadata": {},
   "source": [
    "The predominant metric in ASR is the word error rate (WER). Character error rate (CER) is often reported as a secondary metric to show finer error details. We will show these two metrics."
   ]
  },
  {
   "cell_type": "code",
   "execution_count": 38,
   "id": "db1d72a0-9cb2-454c-b675-3a98373c8991",
   "metadata": {},
   "outputs": [],
   "source": [
    "def compute_metrics(pred):\n",
    "    pred_logits = pred.predictions\n",
    "    pred_ids = np.argmax(pred_logits, axis=-1)\n",
    "\n",
    "    pred.label_ids[pred.label_ids == -100] = processor.tokenizer.pad_token_id\n",
    "\n",
    "    pred_str = processor.batch_decode(pred_ids)\n",
    "    label_str = processor.batch_decode(pred.label_ids, group_tokens=False)\n",
    "\n",
    "    wer_score = wer(label_str, pred_str)\n",
    "    cer_score = cer(label_str, pred_str)\n",
    "\n",
    "    return {\"wer\": wer_score, \"cer\": cer_score}"
   ]
  },
  {
   "cell_type": "markdown",
   "id": "3e172450-dc6e-4a09-9afd-7d5730052806",
   "metadata": {},
   "source": [
    "### Load pretrained Wav2Vec2 model"
   ]
  },
  {
   "cell_type": "markdown",
   "id": "377dc97b-3a6c-4a41-850b-0d3f9eb62b3c",
   "metadata": {},
   "source": [
    "The \"facebook/wav2vec2-large-960h\"'s Wav2Vec2 model is selected to be finetuned with the Common Voice dataset. This pretrained model will be compared with the finetuned model later.\n",
    "\n",
    "Rationale for the hyperparameter settings:\n",
    "- Keep to default hyperparameter values as the checkpoint \"facebook/wav2vec2-large-960h\" already includes carefully tuned values optimized for robust training on large English speech datasets.\n",
    "- Since we are training on CPU, the training speed is slower, and we cannot afford to run extensive hyperparameter tuning experiments.\n",
    "- Keeping these hyperparameters at their defaults reduces complexity, training time, and the risk of destabilizing the model during finetuning."
   ]
  },
  {
   "cell_type": "code",
   "execution_count": 43,
   "id": "9ef8c291-de3d-475c-b876-b33613414a15",
   "metadata": {},
   "outputs": [
    {
     "name": "stderr",
     "output_type": "stream",
     "text": [
      "Some weights of Wav2Vec2ForCTC were not initialized from the model checkpoint at facebook/wav2vec2-large-960h and are newly initialized: ['wav2vec2.masked_spec_embed']\n",
      "You should probably TRAIN this model on a down-stream task to be able to use it for predictions and inference.\n"
     ]
    }
   ],
   "source": [
    "model = Wav2Vec2ForCTC.from_pretrained(\"facebook/wav2vec2-large-960h\")"
   ]
  },
  {
   "cell_type": "markdown",
   "id": "654ec6b5-ae64-4153-af47-0cdc2d9e26b1",
   "metadata": {},
   "source": [
    "### Inspect model"
   ]
  },
  {
   "cell_type": "code",
   "execution_count": null,
   "id": "ac42d4dc-0f19-4a0c-8319-ca9f8bfe7305",
   "metadata": {},
   "outputs": [],
   "source": [
    "print(f\"{'Parameter Name':<80} | {'Requires Grad'}\")\n",
    "print(\"-\" * 100)\n",
    "\n",
    "for name, param in model.named_parameters():\n",
    "    print(f\"{name:<80} | {param.requires_grad}\")"
   ]
  },
  {
   "cell_type": "markdown",
   "id": "381e7376-737c-41df-b5cf-6456889ea9ac",
   "metadata": {},
   "source": [
    "### Freezing pretrained weights"
   ]
  },
  {
   "cell_type": "markdown",
   "id": "d83cefb0-2a1b-4012-8a17-c8d75cc7fa0f",
   "metadata": {},
   "source": [
    "In this finetuning experiment, we can freeze the convolutional feature extractor.\n",
    "\n",
    "Rationale for Freezing the Feature Extractor:\n",
    "- The feature extractor has been pretrained on large speech data to learn robust low-level audio representations, which are generally transferable across datasets.\n",
    "- Freezing it reduces the number of trainable parameters, which lowers the computational cost and speeds up training. This is important since we are using a CPU."
   ]
  },
  {
   "cell_type": "code",
   "execution_count": 43,
   "id": "b1417d03-aae7-4e95-b71c-d22d6755288b",
   "metadata": {},
   "outputs": [
    {
     "name": "stderr",
     "output_type": "stream",
     "text": [
      "/Users/gordon.oh/Desktop/htx-xdata-asr/venv/lib/python3.13/site-packages/transformers/models/wav2vec2/modeling_wav2vec2.py:2084: FutureWarning: The method `freeze_feature_extractor` is deprecated and will be removed in Transformers v5. Please use the equivalent `freeze_feature_encoder` method instead.\n",
      "  warnings.warn(\n"
     ]
    }
   ],
   "source": [
    "model.freeze_feature_extractor()"
   ]
  },
  {
   "cell_type": "markdown",
   "id": "f9e15f50-e2a7-4817-884c-788f01e24c63",
   "metadata": {},
   "source": [
    "In addition to the convolutional feature extractor, we can also freeze early encoder layers.\n",
    "\n",
    "Rationale for Freezing early Encoder Layers:\n",
    "- The early layers contain learnt general audio representations and may not need re-training, especially for same language finetuning.\n",
    "- Ensure later encoder layers are trained so that higher level features adapts better to our dataset."
   ]
  },
  {
   "cell_type": "code",
   "execution_count": null,
   "id": "0755dcac-db06-4473-a7e0-b17ef58e6a45",
   "metadata": {},
   "outputs": [],
   "source": [
    "# Freeze first 6 transformer layers\n",
    "N = 6\n",
    "for i in range(N):\n",
    "    for param in model.wav2vec2.encoder.layers[i].parameters():\n",
    "        param.requires_grad = False"
   ]
  },
  {
   "cell_type": "markdown",
   "id": "11fcfe31-2439-4cc8-877a-6d373eaee0aa",
   "metadata": {},
   "source": [
    "Inspect the model again"
   ]
  },
  {
   "cell_type": "code",
   "execution_count": null,
   "id": "58d51a71-18cc-4725-bca9-7687f320dd9c",
   "metadata": {},
   "outputs": [],
   "source": [
    "print(f\"{'Parameter Name':<80} | {'Requires Grad'}\")\n",
    "print(\"-\" * 100)\n",
    "\n",
    "for name, param in model.named_parameters():\n",
    "    print(f\"{name:<80} | {param.requires_grad}\")"
   ]
  },
  {
   "cell_type": "markdown",
   "id": "26628aa2-615a-4768-b384-3a9a55e34130",
   "metadata": {},
   "source": [
    "### Defining training arguments"
   ]
  },
  {
   "cell_type": "markdown",
   "id": "61eb3a0c-8769-43cb-8755-ba98acbadce9",
   "metadata": {},
   "source": [
    "Rationale for TrainingArguments settings:\n",
    "- Due to limited computational resources (using a CPU with limited memory), we set the batch size to 1 to avoid out-of-memory errors. To compensate for the small batch size and maintain effective batch gradient updates, we use a higher gradient accumulation step to simulate a larger batch size during training.\n",
    "- For learning rate and warmup steps, we can follow [Practical Guide on Fine-Tuning Wav2Vec2](https://medium.com/@heyamit10/practical-guide-on-fine-tuning-wav2vec2-7c343d5d7f3b), which finetunes the \"facebook/wav2vec2-large-960h\" Wav2Vec2 model using another English dataset. These values are based on prior successful experiments documented there. Due to limited resources and time constraints, we will not perform an extensive hyperparameter search, and we should opt to start with these experimentally validated settings.\n",
    "- *gradient_checkpointing=True* helps reduce memory usage during training."
   ]
  },
  {
   "cell_type": "code",
   "execution_count": 54,
   "id": "a4490a77-b67b-4081-8e63-93acddea1e4e",
   "metadata": {},
   "outputs": [],
   "source": [
    "training_args = TrainingArguments(\n",
    "    output_dir='./checkpoints',\n",
    "    group_by_length=True,\n",
    "    use_cpu=True,\n",
    "    per_device_train_batch_size=1,\n",
    "    gradient_accumulation_steps=16,\n",
    "    eval_strategy=\"steps\",\n",
    "    dataloader_num_workers=0,\n",
    "    num_train_epochs=30,\n",
    "    gradient_checkpointing=True,\n",
    "    save_steps=100,\n",
    "    eval_steps=100,\n",
    "    logging_steps=100,\n",
    "    learning_rate=3e-4,\n",
    "    weight_decay=0.005,\n",
    "    warmup_steps=500,\n",
    "    save_total_limit=2,\n",
    "    push_to_hub=False,\n",
    ")"
   ]
  },
  {
   "cell_type": "code",
   "execution_count": 45,
   "id": "8b9a69a8-2a5c-4d2b-ac64-c8868f983745",
   "metadata": {},
   "outputs": [],
   "source": [
    "small_train_dataset = training_dataset.select(range(4))\n",
    "small_validation_dataset = validation_dataset.select(range(4))"
   ]
  },
  {
   "cell_type": "code",
   "execution_count": 46,
   "id": "c338373d-1cb1-4621-b996-b54ddc4ffbd6",
   "metadata": {},
   "outputs": [
    {
     "data": {
      "text/plain": [
       "Wav2Vec2ForCTC(\n",
       "  (wav2vec2): Wav2Vec2Model(\n",
       "    (feature_extractor): Wav2Vec2FeatureEncoder(\n",
       "      (conv_layers): ModuleList(\n",
       "        (0): Wav2Vec2GroupNormConvLayer(\n",
       "          (conv): Conv1d(1, 512, kernel_size=(10,), stride=(5,), bias=False)\n",
       "          (activation): GELUActivation()\n",
       "          (layer_norm): GroupNorm(512, 512, eps=1e-05, affine=True)\n",
       "        )\n",
       "        (1-4): 4 x Wav2Vec2NoLayerNormConvLayer(\n",
       "          (conv): Conv1d(512, 512, kernel_size=(3,), stride=(2,), bias=False)\n",
       "          (activation): GELUActivation()\n",
       "        )\n",
       "        (5-6): 2 x Wav2Vec2NoLayerNormConvLayer(\n",
       "          (conv): Conv1d(512, 512, kernel_size=(2,), stride=(2,), bias=False)\n",
       "          (activation): GELUActivation()\n",
       "        )\n",
       "      )\n",
       "    )\n",
       "    (feature_projection): Wav2Vec2FeatureProjection(\n",
       "      (layer_norm): LayerNorm((512,), eps=1e-05, elementwise_affine=True)\n",
       "      (projection): Linear(in_features=512, out_features=1024, bias=True)\n",
       "      (dropout): Dropout(p=0.0, inplace=False)\n",
       "    )\n",
       "    (encoder): Wav2Vec2Encoder(\n",
       "      (pos_conv_embed): Wav2Vec2PositionalConvEmbedding(\n",
       "        (conv): ParametrizedConv1d(\n",
       "          1024, 1024, kernel_size=(128,), stride=(1,), padding=(64,), groups=16\n",
       "          (parametrizations): ModuleDict(\n",
       "            (weight): ParametrizationList(\n",
       "              (0): _WeightNorm()\n",
       "            )\n",
       "          )\n",
       "        )\n",
       "        (padding): Wav2Vec2SamePadLayer()\n",
       "        (activation): GELUActivation()\n",
       "      )\n",
       "      (layer_norm): LayerNorm((1024,), eps=1e-05, elementwise_affine=True)\n",
       "      (dropout): Dropout(p=0.1, inplace=False)\n",
       "      (layers): ModuleList(\n",
       "        (0-23): 24 x Wav2Vec2EncoderLayer(\n",
       "          (attention): Wav2Vec2SdpaAttention(\n",
       "            (k_proj): Linear(in_features=1024, out_features=1024, bias=True)\n",
       "            (v_proj): Linear(in_features=1024, out_features=1024, bias=True)\n",
       "            (q_proj): Linear(in_features=1024, out_features=1024, bias=True)\n",
       "            (out_proj): Linear(in_features=1024, out_features=1024, bias=True)\n",
       "          )\n",
       "          (dropout): Dropout(p=0.1, inplace=False)\n",
       "          (layer_norm): LayerNorm((1024,), eps=1e-05, elementwise_affine=True)\n",
       "          (feed_forward): Wav2Vec2FeedForward(\n",
       "            (intermediate_dropout): Dropout(p=0.1, inplace=False)\n",
       "            (intermediate_dense): Linear(in_features=1024, out_features=4096, bias=True)\n",
       "            (intermediate_act_fn): GELUActivation()\n",
       "            (output_dense): Linear(in_features=4096, out_features=1024, bias=True)\n",
       "            (output_dropout): Dropout(p=0.1, inplace=False)\n",
       "          )\n",
       "          (final_layer_norm): LayerNorm((1024,), eps=1e-05, elementwise_affine=True)\n",
       "        )\n",
       "      )\n",
       "    )\n",
       "  )\n",
       "  (dropout): Dropout(p=0.1, inplace=False)\n",
       "  (lm_head): Linear(in_features=1024, out_features=32, bias=True)\n",
       ")"
      ]
     },
     "execution_count": 46,
     "metadata": {},
     "output_type": "execute_result"
    }
   ],
   "source": [
    "device = torch.device(\"cpu\")\n",
    "model.to(device)"
   ]
  },
  {
   "cell_type": "code",
   "execution_count": 56,
   "id": "f27232f6-68d2-48bc-be7c-ffae0e9c6114",
   "metadata": {},
   "outputs": [],
   "source": [
    "trainer = Trainer(\n",
    "    model=model,\n",
    "    data_collator=data_collator,\n",
    "    args=training_args,\n",
    "    compute_metrics=compute_metrics,\n",
    "    train_dataset=training_dataset,\n",
    "    eval_dataset=validation_dataset,\n",
    "    processing_class=processor,\n",
    ")"
   ]
  },
  {
   "cell_type": "code",
   "execution_count": 57,
   "id": "85419893-f805-4321-87c0-06f76b7aa2b0",
   "metadata": {},
   "outputs": [
    {
     "name": "stderr",
     "output_type": "stream",
     "text": [
      "/Users/gordon.oh/Desktop/htx-xdata-asr/venv/lib/python3.13/site-packages/transformers/models/wav2vec2/processing_wav2vec2.py:174: UserWarning: `as_target_processor` is deprecated and will be removed in v5 of Transformers. You can process your labels by using the argument `text` of the regular `__call__` method (either in the same call as your audio inputs, or in a separate call.\n",
      "  warnings.warn(\n"
     ]
    },
    {
     "data": {
      "text/html": [
       "\n",
       "    <div>\n",
       "      \n",
       "      <progress value='190' max='5847' style='width:300px; height:20px; vertical-align: middle;'></progress>\n",
       "      [ 190/5847 4:23:34 < 132:11:13, 0.01 it/s, Epoch 0.03/1]\n",
       "    </div>\n",
       "    <table border=\"1\" class=\"dataframe\">\n",
       "  <thead>\n",
       " <tr style=\"text-align: left;\">\n",
       "      <th>Step</th>\n",
       "      <th>Training Loss</th>\n",
       "      <th>Validation Loss</th>\n",
       "      <th>Wer</th>\n",
       "      <th>Cer</th>\n",
       "    </tr>\n",
       "  </thead>\n",
       "  <tbody>\n",
       "    <tr>\n",
       "      <td>100</td>\n",
       "      <td>0.000000</td>\n",
       "      <td>nan</td>\n",
       "      <td>1.000000</td>\n",
       "      <td>1.000000</td>\n",
       "    </tr>\n",
       "  </tbody>\n",
       "</table><p>"
      ],
      "text/plain": [
       "<IPython.core.display.HTML object>"
      ]
     },
     "metadata": {},
     "output_type": "display_data"
    },
    {
     "name": "stderr",
     "output_type": "stream",
     "text": [
      "/Users/gordon.oh/Desktop/htx-xdata-asr/venv/lib/python3.13/site-packages/transformers/models/wav2vec2/processing_wav2vec2.py:174: UserWarning: `as_target_processor` is deprecated and will be removed in v5 of Transformers. You can process your labels by using the argument `text` of the regular `__call__` method (either in the same call as your audio inputs, or in a separate call.\n",
      "  warnings.warn(\n"
     ]
    },
    {
     "ename": "KeyboardInterrupt",
     "evalue": "",
     "output_type": "error",
     "traceback": [
      "\u001b[31m---------------------------------------------------------------------------\u001b[39m",
      "\u001b[31mKeyboardInterrupt\u001b[39m                         Traceback (most recent call last)",
      "\u001b[36mCell\u001b[39m\u001b[36m \u001b[39m\u001b[32mIn[57]\u001b[39m\u001b[32m, line 1\u001b[39m\n\u001b[32m----> \u001b[39m\u001b[32m1\u001b[39m \u001b[43mtrainer\u001b[49m\u001b[43m.\u001b[49m\u001b[43mtrain\u001b[49m\u001b[43m(\u001b[49m\u001b[43m)\u001b[49m\n",
      "\u001b[36mFile \u001b[39m\u001b[32m~/Desktop/htx-xdata-asr/venv/lib/python3.13/site-packages/transformers/trainer.py:2240\u001b[39m, in \u001b[36mTrainer.train\u001b[39m\u001b[34m(self, resume_from_checkpoint, trial, ignore_keys_for_eval, **kwargs)\u001b[39m\n\u001b[32m   2238\u001b[39m         hf_hub_utils.enable_progress_bars()\n\u001b[32m   2239\u001b[39m \u001b[38;5;28;01melse\u001b[39;00m:\n\u001b[32m-> \u001b[39m\u001b[32m2240\u001b[39m     \u001b[38;5;28;01mreturn\u001b[39;00m \u001b[43minner_training_loop\u001b[49m\u001b[43m(\u001b[49m\n\u001b[32m   2241\u001b[39m \u001b[43m        \u001b[49m\u001b[43margs\u001b[49m\u001b[43m=\u001b[49m\u001b[43margs\u001b[49m\u001b[43m,\u001b[49m\n\u001b[32m   2242\u001b[39m \u001b[43m        \u001b[49m\u001b[43mresume_from_checkpoint\u001b[49m\u001b[43m=\u001b[49m\u001b[43mresume_from_checkpoint\u001b[49m\u001b[43m,\u001b[49m\n\u001b[32m   2243\u001b[39m \u001b[43m        \u001b[49m\u001b[43mtrial\u001b[49m\u001b[43m=\u001b[49m\u001b[43mtrial\u001b[49m\u001b[43m,\u001b[49m\n\u001b[32m   2244\u001b[39m \u001b[43m        \u001b[49m\u001b[43mignore_keys_for_eval\u001b[49m\u001b[43m=\u001b[49m\u001b[43mignore_keys_for_eval\u001b[49m\u001b[43m,\u001b[49m\n\u001b[32m   2245\u001b[39m \u001b[43m    \u001b[49m\u001b[43m)\u001b[49m\n",
      "\u001b[36mFile \u001b[39m\u001b[32m~/Desktop/htx-xdata-asr/venv/lib/python3.13/site-packages/transformers/trainer.py:2555\u001b[39m, in \u001b[36mTrainer._inner_training_loop\u001b[39m\u001b[34m(self, batch_size, args, resume_from_checkpoint, trial, ignore_keys_for_eval)\u001b[39m\n\u001b[32m   2548\u001b[39m context = (\n\u001b[32m   2549\u001b[39m     functools.partial(\u001b[38;5;28mself\u001b[39m.accelerator.no_sync, model=model)\n\u001b[32m   2550\u001b[39m     \u001b[38;5;28;01mif\u001b[39;00m i != \u001b[38;5;28mlen\u001b[39m(batch_samples) - \u001b[32m1\u001b[39m\n\u001b[32m   2551\u001b[39m     \u001b[38;5;129;01mand\u001b[39;00m \u001b[38;5;28mself\u001b[39m.accelerator.distributed_type != DistributedType.DEEPSPEED\n\u001b[32m   2552\u001b[39m     \u001b[38;5;28;01melse\u001b[39;00m contextlib.nullcontext\n\u001b[32m   2553\u001b[39m )\n\u001b[32m   2554\u001b[39m \u001b[38;5;28;01mwith\u001b[39;00m context():\n\u001b[32m-> \u001b[39m\u001b[32m2555\u001b[39m     tr_loss_step = \u001b[38;5;28;43mself\u001b[39;49m\u001b[43m.\u001b[49m\u001b[43mtraining_step\u001b[49m\u001b[43m(\u001b[49m\u001b[43mmodel\u001b[49m\u001b[43m,\u001b[49m\u001b[43m \u001b[49m\u001b[43minputs\u001b[49m\u001b[43m,\u001b[49m\u001b[43m \u001b[49m\u001b[43mnum_items_in_batch\u001b[49m\u001b[43m)\u001b[49m\n\u001b[32m   2557\u001b[39m \u001b[38;5;28;01mif\u001b[39;00m (\n\u001b[32m   2558\u001b[39m     args.logging_nan_inf_filter\n\u001b[32m   2559\u001b[39m     \u001b[38;5;129;01mand\u001b[39;00m \u001b[38;5;129;01mnot\u001b[39;00m is_torch_xla_available()\n\u001b[32m   2560\u001b[39m     \u001b[38;5;129;01mand\u001b[39;00m (torch.isnan(tr_loss_step) \u001b[38;5;129;01mor\u001b[39;00m torch.isinf(tr_loss_step))\n\u001b[32m   2561\u001b[39m ):\n\u001b[32m   2562\u001b[39m     \u001b[38;5;66;03m# if loss is nan or inf simply add the average of previous logged losses\u001b[39;00m\n\u001b[32m   2563\u001b[39m     tr_loss = tr_loss + tr_loss / (\u001b[32m1\u001b[39m + \u001b[38;5;28mself\u001b[39m.state.global_step - \u001b[38;5;28mself\u001b[39m._globalstep_last_logged)\n",
      "\u001b[36mFile \u001b[39m\u001b[32m~/Desktop/htx-xdata-asr/venv/lib/python3.13/site-packages/transformers/trainer.py:3791\u001b[39m, in \u001b[36mTrainer.training_step\u001b[39m\u001b[34m(***failed resolving arguments***)\u001b[39m\n\u001b[32m   3788\u001b[39m \u001b[38;5;28;01mif\u001b[39;00m \u001b[38;5;28mself\u001b[39m.accelerator.distributed_type == DistributedType.DEEPSPEED:\n\u001b[32m   3789\u001b[39m     kwargs[\u001b[33m\"\u001b[39m\u001b[33mscale_wrt_gas\u001b[39m\u001b[33m\"\u001b[39m] = \u001b[38;5;28;01mFalse\u001b[39;00m\n\u001b[32m-> \u001b[39m\u001b[32m3791\u001b[39m \u001b[38;5;28;43mself\u001b[39;49m\u001b[43m.\u001b[49m\u001b[43maccelerator\u001b[49m\u001b[43m.\u001b[49m\u001b[43mbackward\u001b[49m\u001b[43m(\u001b[49m\u001b[43mloss\u001b[49m\u001b[43m,\u001b[49m\u001b[43m \u001b[49m\u001b[43m*\u001b[49m\u001b[43m*\u001b[49m\u001b[43mkwargs\u001b[49m\u001b[43m)\u001b[49m\n\u001b[32m   3793\u001b[39m \u001b[38;5;28;01mreturn\u001b[39;00m loss.detach()\n",
      "\u001b[36mFile \u001b[39m\u001b[32m~/Desktop/htx-xdata-asr/venv/lib/python3.13/site-packages/accelerate/accelerator.py:2473\u001b[39m, in \u001b[36mAccelerator.backward\u001b[39m\u001b[34m(self, loss, **kwargs)\u001b[39m\n\u001b[32m   2471\u001b[39m     \u001b[38;5;28mself\u001b[39m.lomo_backward(loss, learning_rate)\n\u001b[32m   2472\u001b[39m \u001b[38;5;28;01melse\u001b[39;00m:\n\u001b[32m-> \u001b[39m\u001b[32m2473\u001b[39m     \u001b[43mloss\u001b[49m\u001b[43m.\u001b[49m\u001b[43mbackward\u001b[49m\u001b[43m(\u001b[49m\u001b[43m*\u001b[49m\u001b[43m*\u001b[49m\u001b[43mkwargs\u001b[49m\u001b[43m)\u001b[49m\n",
      "\u001b[36mFile \u001b[39m\u001b[32m~/Desktop/htx-xdata-asr/venv/lib/python3.13/site-packages/torch/_tensor.py:648\u001b[39m, in \u001b[36mTensor.backward\u001b[39m\u001b[34m(self, gradient, retain_graph, create_graph, inputs)\u001b[39m\n\u001b[32m    638\u001b[39m \u001b[38;5;28;01mif\u001b[39;00m has_torch_function_unary(\u001b[38;5;28mself\u001b[39m):\n\u001b[32m    639\u001b[39m     \u001b[38;5;28;01mreturn\u001b[39;00m handle_torch_function(\n\u001b[32m    640\u001b[39m         Tensor.backward,\n\u001b[32m    641\u001b[39m         (\u001b[38;5;28mself\u001b[39m,),\n\u001b[32m   (...)\u001b[39m\u001b[32m    646\u001b[39m         inputs=inputs,\n\u001b[32m    647\u001b[39m     )\n\u001b[32m--> \u001b[39m\u001b[32m648\u001b[39m \u001b[43mtorch\u001b[49m\u001b[43m.\u001b[49m\u001b[43mautograd\u001b[49m\u001b[43m.\u001b[49m\u001b[43mbackward\u001b[49m\u001b[43m(\u001b[49m\n\u001b[32m    649\u001b[39m \u001b[43m    \u001b[49m\u001b[38;5;28;43mself\u001b[39;49m\u001b[43m,\u001b[49m\u001b[43m \u001b[49m\u001b[43mgradient\u001b[49m\u001b[43m,\u001b[49m\u001b[43m \u001b[49m\u001b[43mretain_graph\u001b[49m\u001b[43m,\u001b[49m\u001b[43m \u001b[49m\u001b[43mcreate_graph\u001b[49m\u001b[43m,\u001b[49m\u001b[43m \u001b[49m\u001b[43minputs\u001b[49m\u001b[43m=\u001b[49m\u001b[43minputs\u001b[49m\n\u001b[32m    650\u001b[39m \u001b[43m\u001b[49m\u001b[43m)\u001b[49m\n",
      "\u001b[36mFile \u001b[39m\u001b[32m~/Desktop/htx-xdata-asr/venv/lib/python3.13/site-packages/torch/autograd/__init__.py:353\u001b[39m, in \u001b[36mbackward\u001b[39m\u001b[34m(tensors, grad_tensors, retain_graph, create_graph, grad_variables, inputs)\u001b[39m\n\u001b[32m    348\u001b[39m     retain_graph = create_graph\n\u001b[32m    350\u001b[39m \u001b[38;5;66;03m# The reason we repeat the same comment below is that\u001b[39;00m\n\u001b[32m    351\u001b[39m \u001b[38;5;66;03m# some Python versions print out the first line of a multi-line function\u001b[39;00m\n\u001b[32m    352\u001b[39m \u001b[38;5;66;03m# calls in the traceback and some print out the last line\u001b[39;00m\n\u001b[32m--> \u001b[39m\u001b[32m353\u001b[39m \u001b[43m_engine_run_backward\u001b[49m\u001b[43m(\u001b[49m\n\u001b[32m    354\u001b[39m \u001b[43m    \u001b[49m\u001b[43mtensors\u001b[49m\u001b[43m,\u001b[49m\n\u001b[32m    355\u001b[39m \u001b[43m    \u001b[49m\u001b[43mgrad_tensors_\u001b[49m\u001b[43m,\u001b[49m\n\u001b[32m    356\u001b[39m \u001b[43m    \u001b[49m\u001b[43mretain_graph\u001b[49m\u001b[43m,\u001b[49m\n\u001b[32m    357\u001b[39m \u001b[43m    \u001b[49m\u001b[43mcreate_graph\u001b[49m\u001b[43m,\u001b[49m\n\u001b[32m    358\u001b[39m \u001b[43m    \u001b[49m\u001b[43minputs\u001b[49m\u001b[43m,\u001b[49m\n\u001b[32m    359\u001b[39m \u001b[43m    \u001b[49m\u001b[43mallow_unreachable\u001b[49m\u001b[43m=\u001b[49m\u001b[38;5;28;43;01mTrue\u001b[39;49;00m\u001b[43m,\u001b[49m\n\u001b[32m    360\u001b[39m \u001b[43m    \u001b[49m\u001b[43maccumulate_grad\u001b[49m\u001b[43m=\u001b[49m\u001b[38;5;28;43;01mTrue\u001b[39;49;00m\u001b[43m,\u001b[49m\n\u001b[32m    361\u001b[39m \u001b[43m\u001b[49m\u001b[43m)\u001b[49m\n",
      "\u001b[36mFile \u001b[39m\u001b[32m~/Desktop/htx-xdata-asr/venv/lib/python3.13/site-packages/torch/autograd/graph.py:824\u001b[39m, in \u001b[36m_engine_run_backward\u001b[39m\u001b[34m(t_outputs, *args, **kwargs)\u001b[39m\n\u001b[32m    822\u001b[39m     unregister_hooks = _register_logging_hooks_on_whole_graph(t_outputs)\n\u001b[32m    823\u001b[39m \u001b[38;5;28;01mtry\u001b[39;00m:\n\u001b[32m--> \u001b[39m\u001b[32m824\u001b[39m     \u001b[38;5;28;01mreturn\u001b[39;00m \u001b[43mVariable\u001b[49m\u001b[43m.\u001b[49m\u001b[43m_execution_engine\u001b[49m\u001b[43m.\u001b[49m\u001b[43mrun_backward\u001b[49m\u001b[43m(\u001b[49m\u001b[43m  \u001b[49m\u001b[38;5;66;43;03m# Calls into the C++ engine to run the backward pass\u001b[39;49;00m\n\u001b[32m    825\u001b[39m \u001b[43m        \u001b[49m\u001b[43mt_outputs\u001b[49m\u001b[43m,\u001b[49m\u001b[43m \u001b[49m\u001b[43m*\u001b[49m\u001b[43margs\u001b[49m\u001b[43m,\u001b[49m\u001b[43m \u001b[49m\u001b[43m*\u001b[49m\u001b[43m*\u001b[49m\u001b[43mkwargs\u001b[49m\n\u001b[32m    826\u001b[39m \u001b[43m    \u001b[49m\u001b[43m)\u001b[49m  \u001b[38;5;66;03m# Calls into the C++ engine to run the backward pass\u001b[39;00m\n\u001b[32m    827\u001b[39m \u001b[38;5;28;01mfinally\u001b[39;00m:\n\u001b[32m    828\u001b[39m     \u001b[38;5;28;01mif\u001b[39;00m attach_logging_hooks:\n",
      "\u001b[36mFile \u001b[39m\u001b[32m~/Desktop/htx-xdata-asr/venv/lib/python3.13/site-packages/torch/autograd/function.py:307\u001b[39m, in \u001b[36mBackwardCFunction.apply\u001b[39m\u001b[34m(self, *args)\u001b[39m\n\u001b[32m    301\u001b[39m     \u001b[38;5;28;01mraise\u001b[39;00m \u001b[38;5;167;01mRuntimeError\u001b[39;00m(\n\u001b[32m    302\u001b[39m         \u001b[33m\"\u001b[39m\u001b[33mImplementing both \u001b[39m\u001b[33m'\u001b[39m\u001b[33mbackward\u001b[39m\u001b[33m'\u001b[39m\u001b[33m and \u001b[39m\u001b[33m'\u001b[39m\u001b[33mvjp\u001b[39m\u001b[33m'\u001b[39m\u001b[33m for a custom \u001b[39m\u001b[33m\"\u001b[39m\n\u001b[32m    303\u001b[39m         \u001b[33m\"\u001b[39m\u001b[33mFunction is not allowed. You should only implement one \u001b[39m\u001b[33m\"\u001b[39m\n\u001b[32m    304\u001b[39m         \u001b[33m\"\u001b[39m\u001b[33mof them.\u001b[39m\u001b[33m\"\u001b[39m\n\u001b[32m    305\u001b[39m     )\n\u001b[32m    306\u001b[39m user_fn = vjp_fn \u001b[38;5;28;01mif\u001b[39;00m vjp_fn \u001b[38;5;129;01mis\u001b[39;00m \u001b[38;5;129;01mnot\u001b[39;00m Function.vjp \u001b[38;5;28;01melse\u001b[39;00m backward_fn\n\u001b[32m--> \u001b[39m\u001b[32m307\u001b[39m \u001b[38;5;28;01mreturn\u001b[39;00m \u001b[43muser_fn\u001b[49m\u001b[43m(\u001b[49m\u001b[38;5;28;43mself\u001b[39;49m\u001b[43m,\u001b[49m\u001b[43m \u001b[49m\u001b[43m*\u001b[49m\u001b[43margs\u001b[49m\u001b[43m)\u001b[49m\n",
      "\u001b[36mFile \u001b[39m\u001b[32m~/Desktop/htx-xdata-asr/venv/lib/python3.13/site-packages/torch/utils/checkpoint.py:320\u001b[39m, in \u001b[36mCheckpointFunction.backward\u001b[39m\u001b[34m(ctx, *args)\u001b[39m\n\u001b[32m    315\u001b[39m \u001b[38;5;28;01mif\u001b[39;00m \u001b[38;5;28mlen\u001b[39m(outputs_with_grad) == \u001b[32m0\u001b[39m:\n\u001b[32m    316\u001b[39m     \u001b[38;5;28;01mraise\u001b[39;00m \u001b[38;5;167;01mRuntimeError\u001b[39;00m(\n\u001b[32m    317\u001b[39m         \u001b[33m\"\u001b[39m\u001b[33mnone of output has requires_grad=True,\u001b[39m\u001b[33m\"\u001b[39m\n\u001b[32m    318\u001b[39m         \u001b[33m\"\u001b[39m\u001b[33m this checkpoint() is not necessary\u001b[39m\u001b[33m\"\u001b[39m\n\u001b[32m    319\u001b[39m     )\n\u001b[32m--> \u001b[39m\u001b[32m320\u001b[39m \u001b[43mtorch\u001b[49m\u001b[43m.\u001b[49m\u001b[43mautograd\u001b[49m\u001b[43m.\u001b[49m\u001b[43mbackward\u001b[49m\u001b[43m(\u001b[49m\u001b[43moutputs_with_grad\u001b[49m\u001b[43m,\u001b[49m\u001b[43m \u001b[49m\u001b[43margs_with_grad\u001b[49m\u001b[43m)\u001b[49m\n\u001b[32m    321\u001b[39m grads = \u001b[38;5;28mtuple\u001b[39m(\n\u001b[32m    322\u001b[39m     inp.grad \u001b[38;5;28;01mif\u001b[39;00m \u001b[38;5;28misinstance\u001b[39m(inp, torch.Tensor) \u001b[38;5;28;01melse\u001b[39;00m \u001b[38;5;28;01mNone\u001b[39;00m\n\u001b[32m    323\u001b[39m     \u001b[38;5;28;01mfor\u001b[39;00m inp \u001b[38;5;129;01min\u001b[39;00m detached_inputs\n\u001b[32m    324\u001b[39m )\n\u001b[32m    326\u001b[39m \u001b[38;5;28;01mreturn\u001b[39;00m (\u001b[38;5;28;01mNone\u001b[39;00m, \u001b[38;5;28;01mNone\u001b[39;00m) + grads\n",
      "\u001b[36mFile \u001b[39m\u001b[32m~/Desktop/htx-xdata-asr/venv/lib/python3.13/site-packages/torch/autograd/__init__.py:353\u001b[39m, in \u001b[36mbackward\u001b[39m\u001b[34m(tensors, grad_tensors, retain_graph, create_graph, grad_variables, inputs)\u001b[39m\n\u001b[32m    348\u001b[39m     retain_graph = create_graph\n\u001b[32m    350\u001b[39m \u001b[38;5;66;03m# The reason we repeat the same comment below is that\u001b[39;00m\n\u001b[32m    351\u001b[39m \u001b[38;5;66;03m# some Python versions print out the first line of a multi-line function\u001b[39;00m\n\u001b[32m    352\u001b[39m \u001b[38;5;66;03m# calls in the traceback and some print out the last line\u001b[39;00m\n\u001b[32m--> \u001b[39m\u001b[32m353\u001b[39m \u001b[43m_engine_run_backward\u001b[49m\u001b[43m(\u001b[49m\n\u001b[32m    354\u001b[39m \u001b[43m    \u001b[49m\u001b[43mtensors\u001b[49m\u001b[43m,\u001b[49m\n\u001b[32m    355\u001b[39m \u001b[43m    \u001b[49m\u001b[43mgrad_tensors_\u001b[49m\u001b[43m,\u001b[49m\n\u001b[32m    356\u001b[39m \u001b[43m    \u001b[49m\u001b[43mretain_graph\u001b[49m\u001b[43m,\u001b[49m\n\u001b[32m    357\u001b[39m \u001b[43m    \u001b[49m\u001b[43mcreate_graph\u001b[49m\u001b[43m,\u001b[49m\n\u001b[32m    358\u001b[39m \u001b[43m    \u001b[49m\u001b[43minputs\u001b[49m\u001b[43m,\u001b[49m\n\u001b[32m    359\u001b[39m \u001b[43m    \u001b[49m\u001b[43mallow_unreachable\u001b[49m\u001b[43m=\u001b[49m\u001b[38;5;28;43;01mTrue\u001b[39;49;00m\u001b[43m,\u001b[49m\n\u001b[32m    360\u001b[39m \u001b[43m    \u001b[49m\u001b[43maccumulate_grad\u001b[49m\u001b[43m=\u001b[49m\u001b[38;5;28;43;01mTrue\u001b[39;49;00m\u001b[43m,\u001b[49m\n\u001b[32m    361\u001b[39m \u001b[43m\u001b[49m\u001b[43m)\u001b[49m\n",
      "\u001b[36mFile \u001b[39m\u001b[32m~/Desktop/htx-xdata-asr/venv/lib/python3.13/site-packages/torch/autograd/graph.py:824\u001b[39m, in \u001b[36m_engine_run_backward\u001b[39m\u001b[34m(t_outputs, *args, **kwargs)\u001b[39m\n\u001b[32m    822\u001b[39m     unregister_hooks = _register_logging_hooks_on_whole_graph(t_outputs)\n\u001b[32m    823\u001b[39m \u001b[38;5;28;01mtry\u001b[39;00m:\n\u001b[32m--> \u001b[39m\u001b[32m824\u001b[39m     \u001b[38;5;28;01mreturn\u001b[39;00m \u001b[43mVariable\u001b[49m\u001b[43m.\u001b[49m\u001b[43m_execution_engine\u001b[49m\u001b[43m.\u001b[49m\u001b[43mrun_backward\u001b[49m\u001b[43m(\u001b[49m\u001b[43m  \u001b[49m\u001b[38;5;66;43;03m# Calls into the C++ engine to run the backward pass\u001b[39;49;00m\n\u001b[32m    825\u001b[39m \u001b[43m        \u001b[49m\u001b[43mt_outputs\u001b[49m\u001b[43m,\u001b[49m\u001b[43m \u001b[49m\u001b[43m*\u001b[49m\u001b[43margs\u001b[49m\u001b[43m,\u001b[49m\u001b[43m \u001b[49m\u001b[43m*\u001b[49m\u001b[43m*\u001b[49m\u001b[43mkwargs\u001b[49m\n\u001b[32m    826\u001b[39m \u001b[43m    \u001b[49m\u001b[43m)\u001b[49m  \u001b[38;5;66;03m# Calls into the C++ engine to run the backward pass\u001b[39;00m\n\u001b[32m    827\u001b[39m \u001b[38;5;28;01mfinally\u001b[39;00m:\n\u001b[32m    828\u001b[39m     \u001b[38;5;28;01mif\u001b[39;00m attach_logging_hooks:\n",
      "\u001b[31mKeyboardInterrupt\u001b[39m: "
     ]
    }
   ],
   "source": [
    "trainer.train()"
   ]
  },
  {
   "cell_type": "markdown",
   "id": "abd723a7-1240-4c96-8dc7-386619f7471e",
   "metadata": {},
   "source": [
    "## Inference"
   ]
  },
  {
   "cell_type": "markdown",
   "id": "22d24fa8-7f81-4a51-89c7-70abe20e2bbe",
   "metadata": {},
   "source": [
    "### Load finetuned model"
   ]
  },
  {
   "cell_type": "code",
   "execution_count": 49,
   "id": "491e365f-0f5e-4522-9511-5040cef799f8",
   "metadata": {},
   "outputs": [],
   "source": [
    "model = Wav2Vec2ForCTC.from_pretrained('./checkpoints/checkpoint-100')\n",
    "processor = Wav2Vec2Processor.from_pretrained('./checkpoints/checkpoint-100')"
   ]
  },
  {
   "cell_type": "markdown",
   "id": "1d6d1b58-d507-4410-9346-6ad728f44c72",
   "metadata": {},
   "source": [
    "### Perform an inference"
   ]
  },
  {
   "cell_type": "code",
   "execution_count": 50,
   "id": "8d9d70b6-6a11-4b23-9f74-a67a6ea2ded6",
   "metadata": {},
   "outputs": [
    {
     "name": "stdout",
     "output_type": "stream",
     "text": [
      "Prediction:  \n",
      "Reference:  IT'S EXTREMELY SUSPICIOUS THAT THERE'S NO INFORMATION ABOUT BRAINS THAT DIDN'T COME FROM A BRAIN\n"
     ]
    }
   ],
   "source": [
    "input_dict = processor(validation_dataset[0][\"input_values\"], sampling_rate=16_000, return_tensors=\"pt\", padding=True)\n",
    "logits = model(input_dict.input_values).logits\n",
    "pred_ids = torch.argmax(logits, dim=-1)[0]\n",
    "\n",
    "print(\"Prediction: \", processor.decode(pred_ids))\n",
    "print(\"Reference: \", common_voice_train_validation[0][\"text\"])"
   ]
  },
  {
   "cell_type": "markdown",
   "id": "1f33f667-59ac-4330-b34d-e2960d6579d3",
   "metadata": {},
   "source": [
    "## Evaluation"
   ]
  },
  {
   "cell_type": "code",
   "execution_count": null,
   "id": "96a34212-a0f8-4f42-945d-b6e7c6c3c4ea",
   "metadata": {},
   "outputs": [],
   "source": []
  }
 ],
 "metadata": {
  "kernelspec": {
   "display_name": "Python 3 (ipykernel)",
   "language": "python",
   "name": "python3"
  },
  "language_info": {
   "codemirror_mode": {
    "name": "ipython",
    "version": 3
   },
   "file_extension": ".py",
   "mimetype": "text/x-python",
   "name": "python",
   "nbconvert_exporter": "python",
   "pygments_lexer": "ipython3",
   "version": "3.13.3"
  }
 },
 "nbformat": 4,
 "nbformat_minor": 5
}
