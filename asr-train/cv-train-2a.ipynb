{
 "cells": [
  {
   "cell_type": "markdown",
   "id": "dc2a6108-f0cd-428f-bd23-9ad75926fbe9",
   "metadata": {},
   "source": [
    "## Setup"
   ]
  },
  {
   "cell_type": "markdown",
   "id": "883bd111-59e5-4f28-9b5d-86f8df20f186",
   "metadata": {},
   "source": [
    "### Install required libraries"
   ]
  },
  {
   "cell_type": "markdown",
   "id": "a4e29225-f373-4129-bdba-fa99bbe5ad8a",
   "metadata": {},
   "source": [
    "The libraries should already be installed in the terminal after running \n",
    "```\n",
    "pip install -r requirements.txt\n",
    "```\n",
    "in the root directory, but this will be useful if the notebook is used in other environments."
   ]
  },
  {
   "cell_type": "code",
   "execution_count": 3,
   "id": "b4962a06-0646-452f-8e76-d3795be3350b",
   "metadata": {},
   "outputs": [],
   "source": [
    "%%capture\n",
    "!pip install datasets==3.6.0\n",
    "!pip install transformers==4.52.4\n",
    "!pip install huggingface-hub==0.32.3\n",
    "!pip install torchaudio==2.7.0\n",
    "!pip install librosa==0.11.0\n",
    "!pip install jiwer==3.1.0\n",
    "!pip install evaluate==0.4.3\n",
    "!pip install matplotlib==3.10.3\n",
    "!pip install jiwer==3.1.0\n",
    "!pip install requests==2.32.3\n",
    "!pip install huggingface-hub==0.32.3\n",
    "!pip install accelerate==1.7.0"
   ]
  },
  {
   "cell_type": "markdown",
   "id": "c7d4b488-41ba-44ad-9833-b3cfcb647cfe",
   "metadata": {},
   "source": [
    "### Import required libraries"
   ]
  },
  {
   "cell_type": "code",
   "execution_count": 4,
   "id": "39d0204c-a57c-4abc-8f30-222fa0d2d625",
   "metadata": {},
   "outputs": [
    {
     "name": "stderr",
     "output_type": "stream",
     "text": [
      "/Users/gordon.oh/Desktop/htx-xdata-asr/venv/lib/python3.13/site-packages/tqdm/auto.py:21: TqdmWarning: IProgress not found. Please update jupyter and ipywidgets. See https://ipywidgets.readthedocs.io/en/stable/user_install.html\n",
      "  from .autonotebook import tqdm as notebook_tqdm\n"
     ]
    }
   ],
   "source": [
    "from datasets import Dataset, Audio, load_from_disk\n",
    "import random\n",
    "import evaluate\n",
    "import pandas as pd\n",
    "import IPython.display as ipd\n",
    "import re\n",
    "import json\n",
    "from transformers import (Wav2Vec2ForCTC, Wav2Vec2CTCTokenizer, Wav2Vec2FeatureExtractor, Wav2Vec2Processor, \n",
    "                            TrainingArguments, Trainer)\n",
    "import numpy as np\n",
    "import torch\n",
    "from dataclasses import dataclass, field\n",
    "from typing import Any, Dict, List, Optional, Union\n",
    "import os\n",
    "import matplotlib.pyplot as plt\n",
    "from jiwer import wer, cer\n",
    "import requests\n",
    "from huggingface_hub import configure_http_backend\n",
    "import urllib3\n",
    "\n",
    "pd.set_option('display.max_colwidth', 100)"
   ]
  },
  {
   "cell_type": "markdown",
   "id": "38a01bfa-563e-4d14-bd46-eb6ab87dfc0c",
   "metadata": {},
   "source": [
    "### Other configurations"
   ]
  },
  {
   "cell_type": "code",
   "execution_count": 5,
   "id": "8c64aec8-1964-4700-99eb-13663fc3d6f0",
   "metadata": {},
   "outputs": [],
   "source": [
    "urllib3.disable_warnings(urllib3.exceptions.InsecureRequestWarning)\n",
    "\n",
    "# [OPTIONAL] Use if there is SSL certificate verification issues\n",
    "def backend_factory() -> requests.Session:\n",
    "    session = requests.Session()\n",
    "    session.verify = False\n",
    "    return session\n",
    "\n",
    "\n",
    "configure_http_backend(backend_factory=backend_factory)"
   ]
  },
  {
   "cell_type": "markdown",
   "id": "7fd910af-720d-487a-9147-3b504aea28a2",
   "metadata": {},
   "source": [
    "## Data Preprocessing"
   ]
  },
  {
   "cell_type": "markdown",
   "id": "38a96540-7cb5-4d99-b576-03661502a1d3",
   "metadata": {},
   "source": [
    "Instead of using ```load_dataset``` from\n",
    "```\n",
    "from datasets import load_dataset\n",
    "```\n",
    "to load Common Voice data, we load the data directly from our project directory since it is already copied inside."
   ]
  },
  {
   "cell_type": "markdown",
   "id": "16a154c8-25e3-4ab4-ba13-49745a99876f",
   "metadata": {},
   "source": [
    "### Load labels"
   ]
  },
  {
   "cell_type": "code",
   "execution_count": 6,
   "id": "0cb41e95-b3fc-42bc-b276-b9c7cf36f520",
   "metadata": {},
   "outputs": [
    {
     "data": {
      "text/html": [
       "<div>\n",
       "<style scoped>\n",
       "    .dataframe tbody tr th:only-of-type {\n",
       "        vertical-align: middle;\n",
       "    }\n",
       "\n",
       "    .dataframe tbody tr th {\n",
       "        vertical-align: top;\n",
       "    }\n",
       "\n",
       "    .dataframe thead th {\n",
       "        text-align: right;\n",
       "    }\n",
       "</style>\n",
       "<table border=\"1\" class=\"dataframe\">\n",
       "  <thead>\n",
       "    <tr style=\"text-align: right;\">\n",
       "      <th></th>\n",
       "      <th>filename</th>\n",
       "      <th>text</th>\n",
       "      <th>up_votes</th>\n",
       "      <th>down_votes</th>\n",
       "      <th>age</th>\n",
       "      <th>gender</th>\n",
       "      <th>accent</th>\n",
       "      <th>duration</th>\n",
       "    </tr>\n",
       "  </thead>\n",
       "  <tbody>\n",
       "    <tr>\n",
       "      <th>0</th>\n",
       "      <td>cv-valid-train/sample-000000.mp3</td>\n",
       "      <td>learn to recognize omens and follow them the old king had said</td>\n",
       "      <td>1</td>\n",
       "      <td>0</td>\n",
       "      <td>NaN</td>\n",
       "      <td>NaN</td>\n",
       "      <td>NaN</td>\n",
       "      <td>NaN</td>\n",
       "    </tr>\n",
       "    <tr>\n",
       "      <th>1</th>\n",
       "      <td>cv-valid-train/sample-000001.mp3</td>\n",
       "      <td>everything in the universe evolved he said</td>\n",
       "      <td>1</td>\n",
       "      <td>0</td>\n",
       "      <td>NaN</td>\n",
       "      <td>NaN</td>\n",
       "      <td>NaN</td>\n",
       "      <td>NaN</td>\n",
       "    </tr>\n",
       "    <tr>\n",
       "      <th>2</th>\n",
       "      <td>cv-valid-train/sample-000002.mp3</td>\n",
       "      <td>you came so that you could learn about your dreams said the old woman</td>\n",
       "      <td>1</td>\n",
       "      <td>0</td>\n",
       "      <td>NaN</td>\n",
       "      <td>NaN</td>\n",
       "      <td>NaN</td>\n",
       "      <td>NaN</td>\n",
       "    </tr>\n",
       "    <tr>\n",
       "      <th>3</th>\n",
       "      <td>cv-valid-train/sample-000003.mp3</td>\n",
       "      <td>so now i fear nothing because it was those omens that brought you to me</td>\n",
       "      <td>1</td>\n",
       "      <td>0</td>\n",
       "      <td>NaN</td>\n",
       "      <td>NaN</td>\n",
       "      <td>NaN</td>\n",
       "      <td>NaN</td>\n",
       "    </tr>\n",
       "    <tr>\n",
       "      <th>4</th>\n",
       "      <td>cv-valid-train/sample-000004.mp3</td>\n",
       "      <td>if you start your emails with greetings let me be the first to welcome you to earth</td>\n",
       "      <td>3</td>\n",
       "      <td>2</td>\n",
       "      <td>NaN</td>\n",
       "      <td>NaN</td>\n",
       "      <td>NaN</td>\n",
       "      <td>NaN</td>\n",
       "    </tr>\n",
       "  </tbody>\n",
       "</table>\n",
       "</div>"
      ],
      "text/plain": [
       "                           filename  \\\n",
       "0  cv-valid-train/sample-000000.mp3   \n",
       "1  cv-valid-train/sample-000001.mp3   \n",
       "2  cv-valid-train/sample-000002.mp3   \n",
       "3  cv-valid-train/sample-000003.mp3   \n",
       "4  cv-valid-train/sample-000004.mp3   \n",
       "\n",
       "                                                                                  text  \\\n",
       "0                       learn to recognize omens and follow them the old king had said   \n",
       "1                                           everything in the universe evolved he said   \n",
       "2                you came so that you could learn about your dreams said the old woman   \n",
       "3              so now i fear nothing because it was those omens that brought you to me   \n",
       "4  if you start your emails with greetings let me be the first to welcome you to earth   \n",
       "\n",
       "   up_votes  down_votes  age gender accent  duration  \n",
       "0         1           0  NaN    NaN    NaN       NaN  \n",
       "1         1           0  NaN    NaN    NaN       NaN  \n",
       "2         1           0  NaN    NaN    NaN       NaN  \n",
       "3         1           0  NaN    NaN    NaN       NaN  \n",
       "4         3           2  NaN    NaN    NaN       NaN  "
      ]
     },
     "execution_count": 6,
     "metadata": {},
     "output_type": "execute_result"
    }
   ],
   "source": [
    "dataset_split = 'cv-valid-train'\n",
    "cv_csv_file = f'../datasets/common_voice/{dataset_split}.csv'\n",
    "train_df = pd.read_csv(cv_csv_file)\n",
    "train_df.head(5)"
   ]
  },
  {
   "cell_type": "markdown",
   "id": "d1a24b78-4839-4d4b-a4e9-2c92bedd5cda",
   "metadata": {},
   "source": [
    "### Clean labels' table"
   ]
  },
  {
   "cell_type": "markdown",
   "id": "7c068309-d9dc-46a9-b914-c00a4b694c80",
   "metadata": {},
   "source": [
    "Make the text label uppercase because the model we are finetuning \"facebook/wav2vec2-large-960h\" is pretrained using Librispeech dataset, which are uppercased. Removed all the other unnecessary columns."
   ]
  },
  {
   "cell_type": "code",
   "execution_count": 11,
   "id": "2ee9b9e5-3436-4a51-b0f9-4a433feeccdb",
   "metadata": {},
   "outputs": [
    {
     "data": {
      "text/html": [
       "<div>\n",
       "<style scoped>\n",
       "    .dataframe tbody tr th:only-of-type {\n",
       "        vertical-align: middle;\n",
       "    }\n",
       "\n",
       "    .dataframe tbody tr th {\n",
       "        vertical-align: top;\n",
       "    }\n",
       "\n",
       "    .dataframe thead th {\n",
       "        text-align: right;\n",
       "    }\n",
       "</style>\n",
       "<table border=\"1\" class=\"dataframe\">\n",
       "  <thead>\n",
       "    <tr style=\"text-align: right;\">\n",
       "      <th></th>\n",
       "      <th>filename</th>\n",
       "      <th>text</th>\n",
       "      <th>path</th>\n",
       "    </tr>\n",
       "  </thead>\n",
       "  <tbody>\n",
       "    <tr>\n",
       "      <th>0</th>\n",
       "      <td>cv-valid-train/sample-000000.mp3</td>\n",
       "      <td>LEARN TO RECOGNIZE OMENS AND FOLLOW THEM THE OLD KING HAD SAID</td>\n",
       "      <td>../datasets/common_voice/cv-valid-train/cv-valid-train/sample-000000.mp3</td>\n",
       "    </tr>\n",
       "    <tr>\n",
       "      <th>1</th>\n",
       "      <td>cv-valid-train/sample-000001.mp3</td>\n",
       "      <td>EVERYTHING IN THE UNIVERSE EVOLVED HE SAID</td>\n",
       "      <td>../datasets/common_voice/cv-valid-train/cv-valid-train/sample-000001.mp3</td>\n",
       "    </tr>\n",
       "    <tr>\n",
       "      <th>2</th>\n",
       "      <td>cv-valid-train/sample-000002.mp3</td>\n",
       "      <td>YOU CAME SO THAT YOU COULD LEARN ABOUT YOUR DREAMS SAID THE OLD WOMAN</td>\n",
       "      <td>../datasets/common_voice/cv-valid-train/cv-valid-train/sample-000002.mp3</td>\n",
       "    </tr>\n",
       "    <tr>\n",
       "      <th>3</th>\n",
       "      <td>cv-valid-train/sample-000003.mp3</td>\n",
       "      <td>SO NOW I FEAR NOTHING BECAUSE IT WAS THOSE OMENS THAT BROUGHT YOU TO ME</td>\n",
       "      <td>../datasets/common_voice/cv-valid-train/cv-valid-train/sample-000003.mp3</td>\n",
       "    </tr>\n",
       "    <tr>\n",
       "      <th>4</th>\n",
       "      <td>cv-valid-train/sample-000004.mp3</td>\n",
       "      <td>IF YOU START YOUR EMAILS WITH GREETINGS LET ME BE THE FIRST TO WELCOME YOU TO EARTH</td>\n",
       "      <td>../datasets/common_voice/cv-valid-train/cv-valid-train/sample-000004.mp3</td>\n",
       "    </tr>\n",
       "  </tbody>\n",
       "</table>\n",
       "</div>"
      ],
      "text/plain": [
       "                           filename  \\\n",
       "0  cv-valid-train/sample-000000.mp3   \n",
       "1  cv-valid-train/sample-000001.mp3   \n",
       "2  cv-valid-train/sample-000002.mp3   \n",
       "3  cv-valid-train/sample-000003.mp3   \n",
       "4  cv-valid-train/sample-000004.mp3   \n",
       "\n",
       "                                                                                  text  \\\n",
       "0                       LEARN TO RECOGNIZE OMENS AND FOLLOW THEM THE OLD KING HAD SAID   \n",
       "1                                           EVERYTHING IN THE UNIVERSE EVOLVED HE SAID   \n",
       "2                YOU CAME SO THAT YOU COULD LEARN ABOUT YOUR DREAMS SAID THE OLD WOMAN   \n",
       "3              SO NOW I FEAR NOTHING BECAUSE IT WAS THOSE OMENS THAT BROUGHT YOU TO ME   \n",
       "4  IF YOU START YOUR EMAILS WITH GREETINGS LET ME BE THE FIRST TO WELCOME YOU TO EARTH   \n",
       "\n",
       "                                                                       path  \n",
       "0  ../datasets/common_voice/cv-valid-train/cv-valid-train/sample-000000.mp3  \n",
       "1  ../datasets/common_voice/cv-valid-train/cv-valid-train/sample-000001.mp3  \n",
       "2  ../datasets/common_voice/cv-valid-train/cv-valid-train/sample-000002.mp3  \n",
       "3  ../datasets/common_voice/cv-valid-train/cv-valid-train/sample-000003.mp3  \n",
       "4  ../datasets/common_voice/cv-valid-train/cv-valid-train/sample-000004.mp3  "
      ]
     },
     "execution_count": 11,
     "metadata": {},
     "output_type": "execute_result"
    }
   ],
   "source": [
    "train_df['text'] = train_df['text'].str.upper()\n",
    "cleaned_train_df = train_df.drop(['up_votes', 'down_votes', 'age', 'gender', 'accent', 'duration'], axis=1)\n",
    "audio_files_directory = f'../datasets/common_voice/{dataset_split}'\n",
    "cleaned_train_df[\"path\"] = cleaned_train_df[\"filename\"].apply(lambda x: os.path.join(audio_files_directory, x))\n",
    "cleaned_train_df.head(5)"
   ]
  },
  {
   "cell_type": "markdown",
   "id": "ca631761-8f15-4402-82e2-fea4281d24b0",
   "metadata": {},
   "source": [
    "### Inspect text"
   ]
  },
  {
   "cell_type": "markdown",
   "id": "26c84827-962a-4f93-b46a-f5ef84c96e64",
   "metadata": {},
   "source": [
    "Check if 'text' contains special characters that cannot be transcribed (eg. colon, comma, percentage, etc). We want to keep whitespaces because the model has to learn to predict when a full word is finished. If not, the output will be a sequence of characters with no spacing. Also, the apostrophes are kept because of pronounciation difference. The output shows that there is none, so the data is cleaned."
   ]
  },
  {
   "cell_type": "code",
   "execution_count": 12,
   "id": "afc5362c-5769-4f2c-8b8f-1208e7878378",
   "metadata": {},
   "outputs": [
    {
     "name": "stdout",
     "output_type": "stream",
     "text": [
      "Empty DataFrame\n",
      "Columns: [filename, text, path]\n",
      "Index: []\n"
     ]
    }
   ],
   "source": [
    "# This pattern keeps only rows with characters that are NOT uppercase letter, whitespace character, or a single quote '.\n",
    "special_chars_pattern = r\"[^A-Z\\s']\"\n",
    "\n",
    "df_with_special_chars = cleaned_train_df[cleaned_train_df['text'].str.contains(special_chars_pattern, regex=True, na=False)]\n",
    "\n",
    "print(df_with_special_chars.head(5))"
   ]
  },
  {
   "cell_type": "markdown",
   "id": "5c6c9ac4-4aa5-4e2e-b472-db04b26fab7f",
   "metadata": {},
   "source": [
    "### Load and decode audio"
   ]
  },
  {
   "cell_type": "code",
   "execution_count": 13,
   "id": "83acc7be-342b-4624-a297-e2420ea95d91",
   "metadata": {},
   "outputs": [],
   "source": [
    "cleaned_train_df = cleaned_train_df.rename(columns={\"path\": \"audio\"})\n",
    "common_voice_train_original = Dataset.from_pandas(cleaned_train_df)\n",
    "common_voice_train_temp = common_voice_train_original.cast_column(\"audio\", Audio())"
   ]
  },
  {
   "cell_type": "code",
   "execution_count": 14,
   "id": "d6fa82e1-9de1-4664-a412-b3bcc511ca5a",
   "metadata": {},
   "outputs": [
    {
     "data": {
      "text/plain": [
       "{'path': '../datasets/common_voice/cv-valid-train/cv-valid-train/sample-000000.mp3',\n",
       " 'array': array([ 0.00000000e+00, -2.39675359e-13, -2.89490112e-14, ...,\n",
       "         4.10622742e-04,  7.94679625e-04,  7.57523230e-04], shape=(196992,)),\n",
       " 'sampling_rate': 48000}"
      ]
     },
     "execution_count": 14,
     "metadata": {},
     "output_type": "execute_result"
    }
   ],
   "source": [
    "common_voice_train_temp[0][\"audio\"]"
   ]
  },
  {
   "cell_type": "markdown",
   "id": "829b6049-1a6a-4a53-b63e-71ef6d6276aa",
   "metadata": {},
   "source": [
    "The output of the cell above shows that the audio data is loaded with a sampling rate of 48 kHz, but 16 kHz is expected by the ```wav2vec2-large-960h``` model. Hence, we have to resample the audio data."
   ]
  },
  {
   "cell_type": "code",
   "execution_count": 15,
   "id": "34400d1a-c6a2-4ea5-a15a-cd465853d023",
   "metadata": {},
   "outputs": [],
   "source": [
    "common_voice_train = common_voice_train_original.cast_column(\"audio\", Audio(sampling_rate=16_000))"
   ]
  },
  {
   "cell_type": "code",
   "execution_count": 16,
   "id": "4773d1ab-5150-4c1f-99c3-326b0952e8f4",
   "metadata": {},
   "outputs": [
    {
     "data": {
      "text/plain": [
       "{'path': '../datasets/common_voice/cv-valid-train/cv-valid-train/sample-000000.mp3',\n",
       " 'array': array([-4.36557457e-11,  9.09494702e-12,  4.00177669e-11, ...,\n",
       "         1.25038787e-04,  7.30113825e-04,  7.36902468e-04], shape=(65664,)),\n",
       " 'sampling_rate': 16000}"
      ]
     },
     "execution_count": 16,
     "metadata": {},
     "output_type": "execute_result"
    }
   ],
   "source": [
    "common_voice_train[0][\"audio\"]"
   ]
  },
  {
   "cell_type": "code",
   "execution_count": 17,
   "id": "dd566f37-202f-490e-88d4-64899d20b2ea",
   "metadata": {},
   "outputs": [
    {
     "data": {
      "text/plain": [
       "Dataset({\n",
       "    features: ['filename', 'text', 'audio'],\n",
       "    num_rows: 195776\n",
       "})"
      ]
     },
     "execution_count": 17,
     "metadata": {},
     "output_type": "execute_result"
    }
   ],
   "source": [
    "common_voice_train"
   ]
  },
  {
   "cell_type": "markdown",
   "id": "983b01ed-4b2c-42cd-b72d-95f6faf88204",
   "metadata": {},
   "source": [
    "### Understand the statistics of the audio sequences"
   ]
  },
  {
   "cell_type": "markdown",
   "id": "d9b642ca-4bc9-463a-b49c-cc37b2e3ce12",
   "metadata": {},
   "source": [
    "The cell below calculate the 25th, 50th, and 75th percentile duration of the audio sequences. It plots the distribution as well. In order to reduce memory usage, we can let to remove top 25% of the data (~ duration >= 5 seconds)."
   ]
  },
  {
   "cell_type": "code",
   "execution_count": 18,
   "id": "8fdcfb14-aade-4ba8-aed5-2e9dafbb0afe",
   "metadata": {},
   "outputs": [
    {
     "name": "stdout",
     "output_type": "stream",
     "text": [
      "25th percentile duration: 3.14 seconds\n",
      "50th percentile duration: 4.13 seconds\n",
      "75th percentile duration: 5.54 seconds\n",
      "\n",
      "\n"
     ]
    },
    {
     "data": {
      "image/png": "[encoded data removed]",
      "text/plain": [
       "<Figure size 1000x600 with 1 Axes>"
      ]
     },
     "metadata": {},
     "output_type": "display_data"
    }
   ],
   "source": [
    "sample_dataset = common_voice_train[:1000]\n",
    "audio_lengths = [len(sample[\"array\"]) for sample in sample_dataset[\"audio\"]]\n",
    "sampling_rate = sample_dataset[\"audio\"][0][\"sampling_rate\"]\n",
    "audio_lengths_np = np.array(audio_lengths)\n",
    "durations_seconds = audio_lengths_np / sampling_rate\n",
    "\n",
    "for p in [25, 50, 75]:\n",
    "    print(f\"{p}th percentile duration: {np.percentile(durations_seconds, p):.2f} seconds\")\n",
    "print(\"\\n\")\n",
    "\n",
    "plt.figure(figsize=(10, 6))\n",
    "plt.hist(durations_seconds, bins=100, color='blue', edgecolor='black')\n",
    "plt.title(\"Histogram of Audio Durations (in seconds)\")\n",
    "plt.xlabel(\"Duration (seconds)\")\n",
    "plt.ylabel(\"Number of Samples\")\n",
    "plt.grid(True)\n",
    "plt.tight_layout()\n",
    "plt.show()"
   ]
  },
  {
   "cell_type": "markdown",
   "id": "0be52f6b-d892-4143-ba8e-76346c2e4545",
   "metadata": {},
   "source": [
    "### Filter out long audio sequences"
   ]
  },
  {
   "cell_type": "markdown",
   "id": "c39b4428-f5ce-4693-ba34-bd82798b3ed1",
   "metadata": {},
   "source": [
    "Long audio sequences require a lot of memory. As the training will be done locally with limited computational resources, it is best to filter away these sequences."
   ]
  },
  {
   "cell_type": "code",
   "execution_count": 19,
   "id": "36ebb35f-005b-41bd-b1d7-ce9879805932",
   "metadata": {},
   "outputs": [],
   "source": [
    "def filter_short_audio_sequences(data, max_seconds=5):\n",
    "    max_samples = 16000 * max_seconds\n",
    "    return len(data[\"audio\"][\"array\"]) <= max_samples"
   ]
  },
  {
   "cell_type": "code",
   "execution_count": 20,
   "id": "4f88e940-204c-47b6-81db-6bc944fe1d72",
   "metadata": {},
   "outputs": [
    {
     "name": "stderr",
     "output_type": "stream",
     "text": [
      "Filter: 100%|██████████████████████████████████████████████████████████████████████████████████████████████████████████████████████████████████████████████████| 195776/195776 [08:20<00:00, 391.42 examples/s]\n"
     ]
    }
   ],
   "source": [
    "common_voice_train = common_voice_train.filter(filter_short_audio_sequences)"
   ]
  },
  {
   "cell_type": "code",
   "execution_count": 21,
   "id": "75bceb06-e307-4084-9398-d00fc7212988",
   "metadata": {},
   "outputs": [
    {
     "data": {
      "text/plain": [
       "Dataset({\n",
       "    features: ['filename', 'text', 'audio'],\n",
       "    num_rows: 133647\n",
       "})"
      ]
     },
     "execution_count": 21,
     "metadata": {},
     "output_type": "execute_result"
    }
   ],
   "source": [
    "common_voice_train"
   ]
  },
  {
   "cell_type": "markdown",
   "id": "7ec8e875-174f-406a-ae45-a8659a7348e9",
   "metadata": {},
   "source": [
    "### Check data"
   ]
  },
  {
   "cell_type": "code",
   "execution_count": 22,
   "id": "0724b0b4-6a1a-4281-8c3f-89158b7e4966",
   "metadata": {},
   "outputs": [
    {
     "name": "stdout",
     "output_type": "stream",
     "text": [
      "Target text: WHO ARE THESE PEOPLE\n",
      "Input array shape: (57984,)\n",
      "Sampling rate: 16000\n",
      "\n",
      "\n"
     ]
    },
    {
     "data": {
      "text/html": [
       "\n",
       "                <audio  controls=\"controls\" autoplay=\"autoplay\">\n",
       "                    <source src=\"data:audio/wav;base64,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\" type=\"audio/wav\" />\n",
       "                    Your browser does not support the audio element.\n",
       "                </audio>\n",
       "              "
      ],
      "text/plain": [
       "<IPython.lib.display.Audio object>"
      ]
     },
     "execution_count": 22,
     "metadata": {},
     "output_type": "execute_result"
    }
   ],
   "source": [
    "rand_int = random.randint(0, len(common_voice_train)-1)\n",
    "\n",
    "print(\"Target text:\", common_voice_train[rand_int][\"text\"])\n",
    "print(\"Input array shape:\", common_voice_train[rand_int][\"audio\"][\"array\"].shape)\n",
    "print(\"Sampling rate:\", common_voice_train[rand_int][\"audio\"][\"sampling_rate\"])\n",
    "print(\"\\n\")\n",
    "ipd.Audio(data=common_voice_train[rand_int][\"audio\"][\"array\"], autoplay=True, rate=16000)"
   ]
  },
  {
   "cell_type": "markdown",
   "id": "881bb68a-7c9b-4e4d-890e-1727c564aad7",
   "metadata": {},
   "source": [
    "## Tokenizer"
   ]
  },
  {
   "cell_type": "markdown",
   "id": "abeb7b2a-d3f8-4d41-861b-5e5d85cd6958",
   "metadata": {},
   "source": [
    "### Building vocabulary"
   ]
  },
  {
   "cell_type": "markdown",
   "id": "218e6af1-216a-448d-88c5-67333468ac18",
   "metadata": {},
   "source": [
    "In Wav2Vec2 ASR models, the vocabulary is typically composed of characters or subword units, not whole words.\n",
    "\n",
    "A user recommends characters' vocabulary:\n",
    "[Wav2Vec2ForCTC fine-tuning best practices](https://github.com/huggingface/transformers/issues/15196)\n",
    "\n",
    "We use a mapping function to build the vocabulary from the training data."
   ]
  },
  {
   "cell_type": "code",
   "execution_count": 23,
   "id": "a89c14a2-5dc3-444e-b4e7-510156241d6e",
   "metadata": {},
   "outputs": [],
   "source": [
    "def extract_all_chars(batch):\n",
    "    all_text = \" \".join(batch[\"text\"])\n",
    "    vocab = list(set(all_text))\n",
    "    return {\"vocab\": [vocab]}"
   ]
  },
  {
   "cell_type": "code",
   "execution_count": 24,
   "id": "ea07c0e4-9a69-4f7a-b270-7746fcce1e0e",
   "metadata": {},
   "outputs": [
    {
     "name": "stderr",
     "output_type": "stream",
     "text": [
      "Map: 100%|██████████████████████████████████████████████████████████████████████████████████████████████████████████████████████████████████████████████████| 133647/133647 [00:00<00:00, 259444.31 examples/s]\n"
     ]
    }
   ],
   "source": [
    "vocab_train = common_voice_train.map(extract_all_chars, batched=True, batch_size=-1, keep_in_memory=True, remove_columns=common_voice_train.column_names)"
   ]
  },
  {
   "cell_type": "markdown",
   "id": "a6cc7159-b998-47b4-b209-9d9c993b8e49",
   "metadata": {},
   "source": [
    "The order of the alphabet is fixed to ensure that the input ids from the cached dataset (see later steps) can match with the vocabulary even with re-run."
   ]
  },
  {
   "cell_type": "code",
   "execution_count": 25,
   "id": "929c8459-facc-4e2a-a56f-316add916fd4",
   "metadata": {},
   "outputs": [
    {
     "data": {
      "text/plain": [
       "[' ',\n",
       " \"'\",\n",
       " 'A',\n",
       " 'B',\n",
       " 'C',\n",
       " 'D',\n",
       " 'E',\n",
       " 'F',\n",
       " 'G',\n",
       " 'H',\n",
       " 'I',\n",
       " 'J',\n",
       " 'K',\n",
       " 'L',\n",
       " 'M',\n",
       " 'N',\n",
       " 'O',\n",
       " 'P',\n",
       " 'Q',\n",
       " 'R',\n",
       " 'S',\n",
       " 'T',\n",
       " 'U',\n",
       " 'V',\n",
       " 'W',\n",
       " 'X',\n",
       " 'Y',\n",
       " 'Z']"
      ]
     },
     "execution_count": 25,
     "metadata": {},
     "output_type": "execute_result"
    }
   ],
   "source": [
    "vocab_list = list(set(vocab_train[\"vocab\"][0]))\n",
    "vocab_list.sort()\n",
    "vocab_list"
   ]
  },
  {
   "cell_type": "code",
   "execution_count": 26,
   "id": "bd91307c-c1db-4e57-ae37-7f95edfd3015",
   "metadata": {},
   "outputs": [
    {
     "data": {
      "text/plain": [
       "{' ': 0,\n",
       " \"'\": 1,\n",
       " 'A': 2,\n",
       " 'B': 3,\n",
       " 'C': 4,\n",
       " 'D': 5,\n",
       " 'E': 6,\n",
       " 'F': 7,\n",
       " 'G': 8,\n",
       " 'H': 9,\n",
       " 'I': 10,\n",
       " 'J': 11,\n",
       " 'K': 12,\n",
       " 'L': 13,\n",
       " 'M': 14,\n",
       " 'N': 15,\n",
       " 'O': 16,\n",
       " 'P': 17,\n",
       " 'Q': 18,\n",
       " 'R': 19,\n",
       " 'S': 20,\n",
       " 'T': 21,\n",
       " 'U': 22,\n",
       " 'V': 23,\n",
       " 'W': 24,\n",
       " 'X': 25,\n",
       " 'Y': 26,\n",
       " 'Z': 27}"
      ]
     },
     "execution_count": 26,
     "metadata": {},
     "output_type": "execute_result"
    }
   ],
   "source": [
    "vocab_dict = {v: k for k, v in enumerate(vocab_list)}\n",
    "vocab_dict"
   ]
  },
  {
   "cell_type": "markdown",
   "id": "a275cb39-1789-4e62-bd3c-9396ff7cbdf6",
   "metadata": {},
   "source": [
    "To avoid ambiguity for \" \" token class, we give it a more visible character \"|\"."
   ]
  },
  {
   "cell_type": "code",
   "execution_count": 27,
   "id": "9e9f87f9-f0ed-49b2-a2af-63c059aeae0b",
   "metadata": {},
   "outputs": [],
   "source": [
    "vocab_dict[\"|\"] = vocab_dict[\" \"]\n",
    "del vocab_dict[\" \"]"
   ]
  },
  {
   "cell_type": "markdown",
   "id": "6ddeb689-9d5c-4545-805b-94312949c22c",
   "metadata": {},
   "source": [
    "Finally, add unknown and padding tokens as well."
   ]
  },
  {
   "cell_type": "code",
   "execution_count": 28,
   "id": "62cdd7e2-9333-41fd-98f3-21386f39811c",
   "metadata": {},
   "outputs": [
    {
     "data": {
      "text/plain": [
       "{\"'\": 1,\n",
       " 'A': 2,\n",
       " 'B': 3,\n",
       " 'C': 4,\n",
       " 'D': 5,\n",
       " 'E': 6,\n",
       " 'F': 7,\n",
       " 'G': 8,\n",
       " 'H': 9,\n",
       " 'I': 10,\n",
       " 'J': 11,\n",
       " 'K': 12,\n",
       " 'L': 13,\n",
       " 'M': 14,\n",
       " 'N': 15,\n",
       " 'O': 16,\n",
       " 'P': 17,\n",
       " 'Q': 18,\n",
       " 'R': 19,\n",
       " 'S': 20,\n",
       " 'T': 21,\n",
       " 'U': 22,\n",
       " 'V': 23,\n",
       " 'W': 24,\n",
       " 'X': 25,\n",
       " 'Y': 26,\n",
       " 'Z': 27,\n",
       " '|': 0,\n",
       " '[UNK]': 28,\n",
       " '[PAD]': 29}"
      ]
     },
     "execution_count": 28,
     "metadata": {},
     "output_type": "execute_result"
    }
   ],
   "source": [
    "vocab_dict[\"[UNK]\"] = len(vocab_dict)\n",
    "vocab_dict[\"[PAD]\"] = len(vocab_dict)\n",
    "vocab_dict"
   ]
  },
  {
   "cell_type": "markdown",
   "id": "8aa55f15-7efa-4ad5-ae3b-afa946eb23f1",
   "metadata": {},
   "source": [
    "Save the vocabulary file so that it can be used by the ```Wav2Vec2CTCTokenizer```."
   ]
  },
  {
   "cell_type": "code",
   "execution_count": 29,
   "id": "a5263caf-9a8d-473e-ac03-89e253b0cf70",
   "metadata": {},
   "outputs": [],
   "source": [
    "with open('vocab.json', 'w') as vocab_file:\n",
    "    json.dump(vocab_dict, vocab_file)"
   ]
  },
  {
   "cell_type": "markdown",
   "id": "979d7c8a-a00c-4968-81ee-f3e76361964f",
   "metadata": {},
   "source": [
    "### Instantiate the tokenizer"
   ]
  },
  {
   "cell_type": "markdown",
   "id": "c01b4f1d-a1ca-4f32-9587-30200551714d",
   "metadata": {},
   "source": [
    "```Wav2Vec2CTCTokenizer``` is used because:\n",
    "- The Wav2Vec2 model we are using is trained with Connectionist Temporal Classification (CTC) loss.\n",
    "- Our vocabulary is character-based, which is required by CTC.\n",
    "- It is compatible with ```Wav2Vec2Processor```."
   ]
  },
  {
   "cell_type": "code",
   "execution_count": 30,
   "id": "b7aaf43a-80f7-4c6a-b187-2071364398e3",
   "metadata": {},
   "outputs": [],
   "source": [
    "tokenizer = Wav2Vec2CTCTokenizer(\"./vocab.json\", unk_token=\"[UNK]\", pad_token=\"[PAD]\", word_delimiter_token=\"|\")"
   ]
  },
  {
   "cell_type": "markdown",
   "id": "0d0339f6-a90e-47f1-91d2-7f7426217136",
   "metadata": {},
   "source": [
    "## Feature Extraction"
   ]
  },
  {
   "cell_type": "markdown",
   "id": "e605b536-d0c0-422c-a42b-a34fb07af30d",
   "metadata": {},
   "source": [
    "Before we can create the ```Wav2Vec2Processor``` object, we need a ```Wav2Vec2FeatureExtractor``` beside the ```Wav2Vec2CTCTokenizer```.\n",
    "\n",
    "The following parameters for the ```Wav2Vec2FeatureExtractor``` is used:\n",
    "- **feature_size**: Set to 1 as Wav2Vec2 model is trained on single-channel waveforms\n",
    "- **sampling_rate**: Set to 16000 Hz to match the input data sampling rate requirement\n",
    "- **padding_value**: Set to 0.0, conventional\n",
    "- **do_normalize**: Set to *true* as it helps with model stability and consistency\n",
    "- **return_attention_mask**: Set to *true* as Wav2Vec2 generally make use of the attention mask"
   ]
  },
  {
   "cell_type": "markdown",
   "id": "23f58a14-36ba-42aa-9aaf-8261a7af7ee8",
   "metadata": {},
   "source": [
    "### Instantiate the feature extractor"
   ]
  },
  {
   "cell_type": "code",
   "execution_count": 31,
   "id": "f7a02a81-2316-4475-8f0c-5cdae4f1b9bb",
   "metadata": {},
   "outputs": [],
   "source": [
    "feature_extractor = Wav2Vec2FeatureExtractor(feature_size=1, sampling_rate=16000, padding_value=0.0, do_normalize=True, return_attention_mask=True)"
   ]
  },
  {
   "cell_type": "markdown",
   "id": "00be894d-b9c9-4358-b85e-0c1ca065463d",
   "metadata": {},
   "source": [
    "## Wav2Vec2 Processor"
   ]
  },
  {
   "cell_type": "markdown",
   "id": "27ffd66f-4637-42f9-8e8c-28469e582484",
   "metadata": {},
   "source": [
    "### Instantiate the processor"
   ]
  },
  {
   "cell_type": "code",
   "execution_count": 32,
   "id": "faed8aaf-3540-4dab-b0d5-51e22bbccfa3",
   "metadata": {},
   "outputs": [],
   "source": [
    "processor = Wav2Vec2Processor(feature_extractor=feature_extractor, tokenizer=tokenizer)"
   ]
  },
  {
   "cell_type": "markdown",
   "id": "8ac8db14-98fb-45a5-8448-787cc7cc9f17",
   "metadata": {},
   "source": [
    "## Data Preparation"
   ]
  },
  {
   "cell_type": "markdown",
   "id": "6d3e677d-6041-450d-a296-d152a4f62707",
   "metadata": {},
   "source": [
    "### Split dataset"
   ]
  },
  {
   "cell_type": "markdown",
   "id": "37a56a45-fe84-4909-8faa-07670e4d62b9",
   "metadata": {},
   "source": [
    "We have to split the 'cv-valid-train' dataset further down into 70-30 ratio, where 30% is kept for validation."
   ]
  },
  {
   "cell_type": "code",
   "execution_count": 33,
   "id": "b9371b90-a213-43fb-a03d-ce6adbd7dcb7",
   "metadata": {},
   "outputs": [],
   "source": [
    "split = common_voice_train.train_test_split(test_size=0.3, seed=42)\n",
    "\n",
    "common_voice_train_train = split['train']\n",
    "common_voice_train_validation = split['test']"
   ]
  },
  {
   "cell_type": "markdown",
   "id": "8fb48f4d-fd93-44a4-8f3c-a473dbbff49e",
   "metadata": {},
   "source": [
    "Inspect the ```training_dataset```"
   ]
  },
  {
   "cell_type": "code",
   "execution_count": 34,
   "id": "44d1ecea-e8dc-4eeb-b0fd-0fa60c160e09",
   "metadata": {},
   "outputs": [
    {
     "data": {
      "text/plain": [
       "Dataset({\n",
       "    features: ['filename', 'text', 'audio'],\n",
       "    num_rows: 93552\n",
       "})"
      ]
     },
     "execution_count": 34,
     "metadata": {},
     "output_type": "execute_result"
    }
   ],
   "source": [
    "common_voice_train_train"
   ]
  },
  {
   "cell_type": "markdown",
   "id": "faf755a4-2f37-43dd-b373-02e6f5aa1333",
   "metadata": {},
   "source": [
    "Inspect the ```validation_dataset```"
   ]
  },
  {
   "cell_type": "code",
   "execution_count": 35,
   "id": "c11b77df-1485-4ea6-a408-9c7bc1c54c64",
   "metadata": {},
   "outputs": [
    {
     "data": {
      "text/plain": [
       "Dataset({\n",
       "    features: ['filename', 'text', 'audio'],\n",
       "    num_rows: 40095\n",
       "})"
      ]
     },
     "execution_count": 35,
     "metadata": {},
     "output_type": "execute_result"
    }
   ],
   "source": [
    "common_voice_train_validation"
   ]
  },
  {
   "cell_type": "markdown",
   "id": "f06cdbde-b203-42b4-ba4c-9693ccac6661",
   "metadata": {},
   "source": [
    "### Map data to be used by processor"
   ]
  },
  {
   "cell_type": "markdown",
   "id": "42f169a9-61b3-4cfd-9dcb-493f1f33be23",
   "metadata": {},
   "source": [
    "Inside the ```prepare_dataset``` function, more complex feature extraction methods can be added inside."
   ]
  },
  {
   "cell_type": "code",
   "execution_count": 36,
   "id": "28de6d7e-ec16-4a13-8cb9-0d7d7d7f49b7",
   "metadata": {},
   "outputs": [],
   "source": [
    "def prepare_dataset(batch):\n",
    "    audio = batch[\"audio\"]\n",
    "\n",
    "    batch[\"input_values\"] = processor(audio[\"array\"], sampling_rate=audio[\"sampling_rate\"]).input_values[0]\n",
    "    \n",
    "    with processor.as_target_processor():\n",
    "        batch[\"labels\"] = processor(batch[\"text\"]).input_ids\n",
    "        \n",
    "    return batch"
   ]
  },
  {
   "cell_type": "code",
   "execution_count": 37,
   "id": "8b926245-ed76-43c4-bd72-6622fb0129b5",
   "metadata": {},
   "outputs": [],
   "source": [
    "training_dataset_cache_dir = \"./caches/training\"\n",
    "validation_dataset_cache_dir = \"./caches/validation\""
   ]
  },
  {
   "cell_type": "markdown",
   "id": "f772e3d7-1411-4c7c-a4d5-a11ad483c33d",
   "metadata": {},
   "source": [
    "Apply the ```prepare_dataset``` to training and validation dataset. The mapped output will be saved under the *./caches* directory. This helps to save a lot of time and memory when the notebook is re-run again. This will take a bit of time and a lot of memory...\n",
    "\n",
    "Uncomment the cells below to prepare the data again."
   ]
  },
  {
   "cell_type": "code",
   "execution_count": 38,
   "id": "d723f345-32b6-4473-9c3d-7eb34fb7b7c0",
   "metadata": {},
   "outputs": [
    {
     "name": "stderr",
     "output_type": "stream",
     "text": [
      "Map:   0%|                                                                                                                                                                    | 0/93552 [00:00<?, ? examples/s]/Users/gordon.oh/Desktop/htx-xdata-asr/venv/lib/python3.13/site-packages/transformers/models/wav2vec2/processing_wav2vec2.py:174: UserWarning: `as_target_processor` is deprecated and will be removed in v5 of Transformers. You can process your labels by using the argument `text` of the regular `__call__` method (either in the same call as your audio inputs, or in a separate call.\n",
      "  warnings.warn(\n",
      "Map: 100%|███████████████████████████████████████████████████████████████████████████████████████████████████████████████████████████████████████████████████████| 93552/93552 [10:10<00:00, 153.36 examples/s]\n"
     ]
    }
   ],
   "source": [
    "training_dataset = common_voice_train_train.map(prepare_dataset, remove_columns=common_voice_train_train.column_names, batched=False)"
   ]
  },
  {
   "cell_type": "code",
   "execution_count": 39,
   "id": "532931f5-d51e-420c-832f-f8f834ce6a8a",
   "metadata": {},
   "outputs": [
    {
     "name": "stderr",
     "output_type": "stream",
     "text": [
      "Saving the dataset (42/42 shards): 100%|█████████████████████████████████████████████████████████████████████████████████████████████████████████████████████████| 93552/93552 [04:29<00:00, 346.51 examples/s]\n"
     ]
    }
   ],
   "source": [
    "os.makedirs(training_dataset_cache_dir, exist_ok=True)\n",
    "training_dataset.save_to_disk(training_dataset_cache_dir)"
   ]
  },
  {
   "cell_type": "code",
   "execution_count": null,
   "id": "b33327c5-8784-4fdb-974f-211b678685b0",
   "metadata": {},
   "outputs": [
    {
     "name": "stderr",
     "output_type": "stream",
     "text": [
      "Map:  87%|███████████████████████████████████████████████████████████████████████████████████████████████████████████████████████████████████▊                   | 34984/40095 [03:12<00:14, 364.13 examples/s]"
     ]
    }
   ],
   "source": [
    "validation_dataset = common_voice_train_validation.map(prepare_dataset, remove_columns=common_voice_train_validation.column_names, batched=False)"
   ]
  },
  {
   "cell_type": "code",
   "execution_count": null,
   "id": "e3416101-40ab-4016-b364-c2a9dd70dd67",
   "metadata": {},
   "outputs": [],
   "source": [
    "os.makedirs(validation_dataset_cache_dir, exist_ok=True)\n",
    "validation_dataset.save_to_disk(validation_dataset_cache_dir)"
   ]
  },
  {
   "cell_type": "markdown",
   "id": "96e11d59-7e99-4c8c-8c8f-f03cabb803e3",
   "metadata": {},
   "source": [
    "### Load cached dataset"
   ]
  },
  {
   "cell_type": "markdown",
   "id": "893f04d4-1e93-447d-ae1b-6921a4b00a6c",
   "metadata": {},
   "source": [
    "If ```training_dataset``` and ```validation_dataset``` are saved in the previous steps, we can skip the data mapping and go directly to load the dataset."
   ]
  },
  {
   "cell_type": "code",
   "execution_count": null,
   "id": "996d76e2-f0f7-4961-be8d-fc35513a1206",
   "metadata": {},
   "outputs": [],
   "source": [
    "training_dataset = load_from_disk(training_dataset_cache_dir)\n",
    "validation_dataset = load_from_disk(validation_dataset_cache_dir)"
   ]
  },
  {
   "cell_type": "markdown",
   "id": "09ae6d05-b8b6-4799-85bb-53e4b34d9557",
   "metadata": {},
   "source": [
    "Sanity check"
   ]
  },
  {
   "cell_type": "code",
   "execution_count": null,
   "id": "b6cacac4-03b5-4431-ab05-4f12934f5d52",
   "metadata": {},
   "outputs": [],
   "source": [
    "training_dataset"
   ]
  },
  {
   "cell_type": "code",
   "execution_count": null,
   "id": "a33a154f-0a0b-4810-8c93-f46b85bfec93",
   "metadata": {},
   "outputs": [],
   "source": [
    "validation_dataset"
   ]
  },
  {
   "cell_type": "markdown",
   "id": "57d90169-e56c-4e8c-8e71-abed2ae48db5",
   "metadata": {},
   "source": [
    "## Training"
   ]
  },
  {
   "cell_type": "markdown",
   "id": "98638fb3-60f7-45ce-a290-22bb8ef5aa19",
   "metadata": {},
   "source": [
    "### Instantiate a data collator"
   ]
  },
  {
   "cell_type": "markdown",
   "id": "693d9338-eb78-45ce-89b9-8085cb529310",
   "metadata": {},
   "source": [
    "This is taken from [transformers/.../wav2vec2/run_asr.py](https://github.com/huggingface/transformers/blob/9a06b6b11bdfc42eea08fa91d0c737d1863c99e3/examples/research_projects/wav2vec2/run_asr.py#L81)."
   ]
  },
  {
   "cell_type": "code",
   "execution_count": null,
   "id": "5ac0d26a-4dda-491c-a676-d196d0846668",
   "metadata": {},
   "outputs": [],
   "source": [
    "@dataclass\n",
    "class DataCollatorCTCWithPadding:\n",
    "    \"\"\"\n",
    "    Data collator that will dynamically pad the inputs received.\n",
    "    Args:\n",
    "        processor (:class:`~transformers.Wav2Vec2Processor`)\n",
    "            The processor used for proccessing the data.\n",
    "        padding (:obj:`bool`, :obj:`str` or :class:`~transformers.tokenization_utils_base.PaddingStrategy`, `optional`, defaults to :obj:`True`):\n",
    "            Select a strategy to pad the returned sequences (according to the model's padding side and padding index)\n",
    "            among:\n",
    "            * :obj:`True` or :obj:`'longest'`: Pad to the longest sequence in the batch (or no padding if only a single\n",
    "              sequence if provided).\n",
    "            * :obj:`'max_length'`: Pad to a maximum length specified with the argument :obj:`max_length` or to the\n",
    "              maximum acceptable input length for the model if that argument is not provided.\n",
    "            * :obj:`False` or :obj:`'do_not_pad'` (default): No padding (i.e., can output a batch with sequences of\n",
    "              different lengths).\n",
    "        max_length (:obj:`int`, `optional`):\n",
    "            Maximum length of the ``input_values`` of the returned list and optionally padding length (see above).\n",
    "        max_length_labels (:obj:`int`, `optional`):\n",
    "            Maximum length of the ``labels`` returned list and optionally padding length (see above).\n",
    "        pad_to_multiple_of (:obj:`int`, `optional`):\n",
    "            If set will pad the sequence to a multiple of the provided value.\n",
    "            This is especially useful to enable the use of Tensor Cores on NVIDIA hardware with compute capability >=\n",
    "            7.5 (Volta).\n",
    "    \"\"\"\n",
    "\n",
    "    processor: Wav2Vec2Processor\n",
    "    padding: Union[bool, str] = True\n",
    "    max_length: Optional[int] = None\n",
    "    max_length_labels: Optional[int] = None\n",
    "    pad_to_multiple_of: Optional[int] = None\n",
    "    pad_to_multiple_of_labels: Optional[int] = None\n",
    "\n",
    "    def __call__(self, features: List[Dict[str, Union[List[int], torch.Tensor]]]) -> Dict[str, torch.Tensor]:\n",
    "        # split inputs and labels since they have to be of different lenghts and need\n",
    "        # different padding methods\n",
    "        input_features = [{\"input_values\": feature[\"input_values\"]} for feature in features]\n",
    "        label_features = [{\"input_ids\": feature[\"labels\"]} for feature in features]\n",
    "\n",
    "        batch = self.processor.pad(\n",
    "            input_features,\n",
    "            padding=self.padding,\n",
    "            max_length=self.max_length,\n",
    "            pad_to_multiple_of=self.pad_to_multiple_of,\n",
    "            return_tensors=\"pt\",\n",
    "        )\n",
    "        with self.processor.as_target_processor():\n",
    "            labels_batch = self.processor.pad(\n",
    "                label_features,\n",
    "                padding=self.padding,\n",
    "                max_length=self.max_length_labels,\n",
    "                pad_to_multiple_of=self.pad_to_multiple_of_labels,\n",
    "                return_tensors=\"pt\",\n",
    "            )\n",
    "\n",
    "        # replace padding with -100 to ignore loss correctly\n",
    "        labels = labels_batch[\"input_ids\"].masked_fill(labels_batch.attention_mask.ne(1), -100)\n",
    "\n",
    "        batch[\"labels\"] = labels\n",
    "\n",
    "        return batch"
   ]
  },
  {
   "cell_type": "code",
   "execution_count": null,
   "id": "4b770504-1be4-495e-84a5-6255f0ab86e3",
   "metadata": {},
   "outputs": [],
   "source": [
    "data_collator = DataCollatorCTCWithPadding(processor=processor, padding=True)"
   ]
  },
  {
   "cell_type": "markdown",
   "id": "09f91f2c-acfb-45be-8258-2c64f452511e",
   "metadata": {},
   "source": [
    "### Define evaluation metrics"
   ]
  },
  {
   "cell_type": "markdown",
   "id": "704caa89-0a20-4ab0-9321-cd65b8cd173b",
   "metadata": {},
   "source": [
    "The predominant metric in ASR is the word error rate (WER). Character error rate (CER) is often reported as a secondary metric to show finer error details. We will show these two metrics."
   ]
  },
  {
   "cell_type": "code",
   "execution_count": null,
   "id": "db1d72a0-9cb2-454c-b675-3a98373c8991",
   "metadata": {},
   "outputs": [],
   "source": [
    "def compute_metrics(pred):\n",
    "    pred_logits = pred.predictions\n",
    "    pred_ids = np.argmax(pred_logits, axis=-1)\n",
    "\n",
    "    pred.label_ids[pred.label_ids == -100] = processor.tokenizer.pad_token_id\n",
    "\n",
    "    pred_str = processor.batch_decode(pred_ids)\n",
    "    label_str = processor.batch_decode(pred.label_ids, group_tokens=False)\n",
    "\n",
    "    wer_score = wer(label_str, pred_str)\n",
    "    cer_score = cer(label_str, pred_str)\n",
    "\n",
    "    return {\"wer\": wer_score, \"cer\": cer_score}"
   ]
  },
  {
   "cell_type": "markdown",
   "id": "3e172450-dc6e-4a09-9afd-7d5730052806",
   "metadata": {},
   "source": [
    "### Load pretrained Wav2Vec2 model"
   ]
  },
  {
   "cell_type": "markdown",
   "id": "377dc97b-3a6c-4a41-850b-0d3f9eb62b3c",
   "metadata": {},
   "source": [
    "The \"facebook/wav2vec2-large-960h\"'s Wav2Vec2 model is selected to be finetuned with the Common Voice dataset. This pretrained model will be compared with the finetuned model later.\n",
    "\n",
    "Rationale for the hyperparameter settings:\n",
    "- Set *ctc_loss_reduction=\"mean\"* to average the CTC loss over the batch. This normalization helps stabilize training by preventing loss values from becoming disproportionately large on longer sequences or batches, ensuring consistent gradient scales during optimization.\n",
    "- Keep to default hyperparameter values as the checkpoint \"facebook/wav2vec2-large-960h\" already includes carefully tuned values optimized for robust training on large English speech datasets.\n",
    "- Since we are training on CPU, the training speed is slower, and we cannot afford to run extensive hyperparameter tuning experiments.\n",
    "- Keeping these hyperparameters at their defaults reduces complexity, training time, and the risk of destabilizing the model during finetuning."
   ]
  },
  {
   "cell_type": "code",
   "execution_count": null,
   "id": "9ef8c291-de3d-475c-b876-b33613414a15",
   "metadata": {},
   "outputs": [],
   "source": [
    "model = Wav2Vec2ForCTC.from_pretrained(\n",
    "    \"facebook/wav2vec2-large-960h\", \n",
    "    ctc_loss_reduction=\"mean\", \n",
    "    pad_token_id=processor.tokenizer.pad_token_id,\n",
    "    vocab_size=len(processor.tokenizer)\n",
    ")"
   ]
  },
  {
   "cell_type": "markdown",
   "id": "381e7376-737c-41df-b5cf-6456889ea9ac",
   "metadata": {},
   "source": [
    "### Freezing pretrained weights"
   ]
  },
  {
   "cell_type": "markdown",
   "id": "d83cefb0-2a1b-4012-8a17-c8d75cc7fa0f",
   "metadata": {},
   "source": [
    "Rationale for Freezing the Feature Extractor:\n",
    "- The feature extractor has been pretrained on large speech data to learn robust low-level audio representations, which are generally transferable across datasets.\n",
    "- Freezing it reduces the number of trainable parameters, which lowers the computational cost and speeds up training. This is important since we are using a CPU."
   ]
  },
  {
   "cell_type": "code",
   "execution_count": null,
   "id": "b1417d03-aae7-4e95-b71c-d22d6755288b",
   "metadata": {},
   "outputs": [],
   "source": [
    "model.freeze_feature_extractor()"
   ]
  },
  {
   "cell_type": "markdown",
   "id": "26628aa2-615a-4768-b384-3a9a55e34130",
   "metadata": {},
   "source": [
    "### Defining training arguments"
   ]
  },
  {
   "cell_type": "markdown",
   "id": "61eb3a0c-8769-43cb-8755-ba98acbadce9",
   "metadata": {},
   "source": [
    "Rationale for TrainingArguments settings:\n",
    "- Due to limited computational resources (using a CPU with limited memory), we set the batch size to 1 to avoid out-of-memory errors. To compensate for the small batch size and maintain effective batch gradient updates, we use a higher gradient accumulation step to simulate a larger batch size during training.\n",
    "- For learning rate, weight decay, and warmup steps, we can follow [Fine-Tune Wav2Vec2 for English ASR with 🤗 Transformers](https://huggingface.co/blog/fine-tune-wav2vec2-english), which fine-tunes the base Wav2Vec2 model using another English dataset. These values are based on prior successful experiments documented there. Due to limited resources and time constraints, we will not perform an extensive hyperparameter search, and we should opt to start with these experimentally validated settings.\n",
    "- *gradient_checkpointing=True* helps reduce memory usage during training."
   ]
  },
  {
   "cell_type": "code",
   "execution_count": null,
   "id": "a4490a77-b67b-4081-8e63-93acddea1e4e",
   "metadata": {},
   "outputs": [],
   "source": [
    "training_args = TrainingArguments(\n",
    "    output_dir='./checkpoints',\n",
    "    group_by_length=True,\n",
    "    use_cpu=True,\n",
    "    per_device_train_batch_size=1,\n",
    "    gradient_accumulation_steps=16,\n",
    "    eval_strategy=\"steps\",\n",
    "    dataloader_num_workers=0,\n",
    "    num_train_epochs=1,\n",
    "    gradient_checkpointing=True,\n",
    "    save_steps=2,\n",
    "    eval_steps=2,\n",
    "    logging_steps=2,\n",
    "    learning_rate=1e-4,\n",
    "    weight_decay=0.005,\n",
    "    warmup_steps=1000,\n",
    "    save_total_limit=2,\n",
    "    push_to_hub=False,\n",
    ")"
   ]
  },
  {
   "cell_type": "code",
   "execution_count": null,
   "id": "8b9a69a8-2a5c-4d2b-ac64-c8868f983745",
   "metadata": {},
   "outputs": [],
   "source": [
    "small_train_dataset = training_dataset.select(range(4))\n",
    "small_validation_dataset = validation_dataset.select(range(4))"
   ]
  },
  {
   "cell_type": "code",
   "execution_count": null,
   "id": "c338373d-1cb1-4621-b996-b54ddc4ffbd6",
   "metadata": {},
   "outputs": [],
   "source": [
    "device = torch.device(\"cpu\")\n",
    "model.to(device)"
   ]
  },
  {
   "cell_type": "code",
   "execution_count": null,
   "id": "f27232f6-68d2-48bc-be7c-ffae0e9c6114",
   "metadata": {},
   "outputs": [],
   "source": [
    "trainer = Trainer(\n",
    "    model=model,\n",
    "    data_collator=data_collator,\n",
    "    args=training_args,\n",
    "    compute_metrics=compute_metrics,\n",
    "    train_dataset=small_train_dataset,\n",
    "    eval_dataset=small_validation_dataset,\n",
    "    processing_class=processor,\n",
    ")"
   ]
  },
  {
   "cell_type": "code",
   "execution_count": null,
   "id": "85419893-f805-4321-87c0-06f76b7aa2b0",
   "metadata": {},
   "outputs": [],
   "source": [
    "trainer.train()"
   ]
  },
  {
   "cell_type": "markdown",
   "id": "abd723a7-1240-4c96-8dc7-386619f7471e",
   "metadata": {},
   "source": [
    "## Inference"
   ]
  },
  {
   "cell_type": "markdown",
   "id": "22d24fa8-7f81-4a51-89c7-70abe20e2bbe",
   "metadata": {},
   "source": [
    "### Load finetuned model"
   ]
  },
  {
   "cell_type": "code",
   "execution_count": null,
   "id": "491e365f-0f5e-4522-9511-5040cef799f8",
   "metadata": {},
   "outputs": [],
   "source": [
    "model = Wav2Vec2ForCTC.from_pretrained('./checkpoints/checkpoint-1')\n",
    "processor = Wav2Vec2Processor.from_pretrained('./checkpoints/checkpoint-1')"
   ]
  },
  {
   "cell_type": "markdown",
   "id": "1d6d1b58-d507-4410-9346-6ad728f44c72",
   "metadata": {},
   "source": [
    "### Perform an inference"
   ]
  },
  {
   "cell_type": "code",
   "execution_count": null,
   "id": "5f94c634-63b4-4890-b87d-71488523b3d4",
   "metadata": {},
   "outputs": [],
   "source": [
    "processor = Wav2Vec2Processor.from_pretrained(\"facebook/wav2vec2-large-960h\")\n",
    "model = Wav2Vec2ForCTC.from_pretrained(\"facebook/wav2vec2-large-960h\")"
   ]
  },
  {
   "cell_type": "code",
   "execution_count": null,
   "id": "8d9d70b6-6a11-4b23-9f74-a67a6ea2ded6",
   "metadata": {},
   "outputs": [],
   "source": [
    "input_dict = processor(validation_dataset[0][\"input_values\"], sampling_rate=16_000, return_tensors=\"pt\", padding=True)\n",
    "logits = model(input_dict.input_values).logits\n",
    "pred_ids = torch.argmax(logits, dim=-1)[0]\n",
    "\n",
    "print(\"Prediction: \", processor.decode(pred_ids))\n",
    "print(\"Reference: \", common_voice_train_validation[0][\"text\"].lower())"
   ]
  },
  {
   "cell_type": "markdown",
   "id": "1f33f667-59ac-4330-b34d-e2960d6579d3",
   "metadata": {},
   "source": [
    "## Evaluation"
   ]
  },
  {
   "cell_type": "code",
   "execution_count": null,
   "id": "718a8a93-64db-415e-b24e-20349c1b0e34",
   "metadata": {},
   "outputs": [],
   "source": []
  }
 ],
 "metadata": {
  "kernelspec": {
   "display_name": "Python 3 (ipykernel)",
   "language": "python",
   "name": "python3"
  },
  "language_info": {
   "codemirror_mode": {
    "name": "ipython",
    "version": 3
   },
   "file_extension": ".py",
   "mimetype": "text/x-python",
   "name": "python",
   "nbconvert_exporter": "python",
   "pygments_lexer": "ipython3",
   "version": "3.13.3"
  }
 },
 "nbformat": 4,
 "nbformat_minor": 5
}
