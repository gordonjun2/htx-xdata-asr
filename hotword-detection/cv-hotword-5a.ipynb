{
 "cells": [
  {
   "cell_type": "code",
   "execution_count": 2,
   "id": "cffdbd6d-3f1b-41e2-beed-95f5fb98640e",
   "metadata": {},
   "outputs": [],
   "source": [
    "import pandas as pd"
   ]
  },
  {
   "cell_type": "markdown",
   "id": "9139fa03-5e45-435b-8734-d655ca36d6f2",
   "metadata": {},
   "source": [
    "### Load file"
   ]
  },
  {
   "cell_type": "markdown",
   "id": "d60cb55a-46cd-4b93-97ab-77c13a7ab0d6",
   "metadata": {},
   "source": [
    "Load the modified *cv-valid-dev.csv* file that contains the transcribed text from the finetuned model."
   ]
  },
  {
   "cell_type": "code",
   "execution_count": 3,
   "id": "9d5fd879-4cc8-48b1-85d5-65f23c687514",
   "metadata": {},
   "outputs": [
    {
     "data": {
      "text/html": [
       "<div>\n",
       "<style scoped>\n",
       "    .dataframe tbody tr th:only-of-type {\n",
       "        vertical-align: middle;\n",
       "    }\n",
       "\n",
       "    .dataframe tbody tr th {\n",
       "        vertical-align: top;\n",
       "    }\n",
       "\n",
       "    .dataframe thead th {\n",
       "        text-align: right;\n",
       "    }\n",
       "</style>\n",
       "<table border=\"1\" class=\"dataframe\">\n",
       "  <thead>\n",
       "    <tr style=\"text-align: right;\">\n",
       "      <th></th>\n",
       "      <th>filename</th>\n",
       "      <th>text</th>\n",
       "      <th>up_votes</th>\n",
       "      <th>down_votes</th>\n",
       "      <th>age</th>\n",
       "      <th>gender</th>\n",
       "      <th>accent</th>\n",
       "      <th>duration</th>\n",
       "      <th>generated_text</th>\n",
       "    </tr>\n",
       "  </thead>\n",
       "  <tbody>\n",
       "    <tr>\n",
       "      <th>0</th>\n",
       "      <td>cv-valid-dev/sample-000000.mp3</td>\n",
       "      <td>be careful with your prognostications said the...</td>\n",
       "      <td>1</td>\n",
       "      <td>0</td>\n",
       "      <td>NaN</td>\n",
       "      <td>NaN</td>\n",
       "      <td>NaN</td>\n",
       "      <td>NaN</td>\n",
       "      <td>BE CAREFUL WITH YOUR PROGNOSTICATIONS SAID THE...</td>\n",
       "    </tr>\n",
       "    <tr>\n",
       "      <th>1</th>\n",
       "      <td>cv-valid-dev/sample-000001.mp3</td>\n",
       "      <td>then why should they be surprised when they se...</td>\n",
       "      <td>2</td>\n",
       "      <td>0</td>\n",
       "      <td>NaN</td>\n",
       "      <td>NaN</td>\n",
       "      <td>NaN</td>\n",
       "      <td>NaN</td>\n",
       "      <td>THEN WHY SHOULD THEY BE SURPRISED WHEN THEY SE...</td>\n",
       "    </tr>\n",
       "    <tr>\n",
       "      <th>2</th>\n",
       "      <td>cv-valid-dev/sample-000002.mp3</td>\n",
       "      <td>a young arab also loaded down with baggage ent...</td>\n",
       "      <td>2</td>\n",
       "      <td>0</td>\n",
       "      <td>NaN</td>\n",
       "      <td>NaN</td>\n",
       "      <td>NaN</td>\n",
       "      <td>NaN</td>\n",
       "      <td>A YOUNG ARAB ALSO LOADED DOWN WITH BAGGAGE ENT...</td>\n",
       "    </tr>\n",
       "    <tr>\n",
       "      <th>3</th>\n",
       "      <td>cv-valid-dev/sample-000003.mp3</td>\n",
       "      <td>i thought that everything i owned would be des...</td>\n",
       "      <td>3</td>\n",
       "      <td>0</td>\n",
       "      <td>NaN</td>\n",
       "      <td>NaN</td>\n",
       "      <td>NaN</td>\n",
       "      <td>NaN</td>\n",
       "      <td>I FELT THAT EVERYTHING I OWNED WOULD BE DESTROYED</td>\n",
       "    </tr>\n",
       "    <tr>\n",
       "      <th>4</th>\n",
       "      <td>cv-valid-dev/sample-000004.mp3</td>\n",
       "      <td>he moved about invisible but everyone could he...</td>\n",
       "      <td>1</td>\n",
       "      <td>0</td>\n",
       "      <td>fourties</td>\n",
       "      <td>female</td>\n",
       "      <td>england</td>\n",
       "      <td>NaN</td>\n",
       "      <td>HE MOVED ABOUT INVISIBLE BUT EVERY ONE COULD H...</td>\n",
       "    </tr>\n",
       "  </tbody>\n",
       "</table>\n",
       "</div>"
      ],
      "text/plain": [
       "                         filename  \\\n",
       "0  cv-valid-dev/sample-000000.mp3   \n",
       "1  cv-valid-dev/sample-000001.mp3   \n",
       "2  cv-valid-dev/sample-000002.mp3   \n",
       "3  cv-valid-dev/sample-000003.mp3   \n",
       "4  cv-valid-dev/sample-000004.mp3   \n",
       "\n",
       "                                                text  up_votes  down_votes  \\\n",
       "0  be careful with your prognostications said the...         1           0   \n",
       "1  then why should they be surprised when they se...         2           0   \n",
       "2  a young arab also loaded down with baggage ent...         2           0   \n",
       "3  i thought that everything i owned would be des...         3           0   \n",
       "4  he moved about invisible but everyone could he...         1           0   \n",
       "\n",
       "        age  gender   accent  duration  \\\n",
       "0       NaN     NaN      NaN       NaN   \n",
       "1       NaN     NaN      NaN       NaN   \n",
       "2       NaN     NaN      NaN       NaN   \n",
       "3       NaN     NaN      NaN       NaN   \n",
       "4  fourties  female  england       NaN   \n",
       "\n",
       "                                      generated_text  \n",
       "0  BE CAREFUL WITH YOUR PROGNOSTICATIONS SAID THE...  \n",
       "1  THEN WHY SHOULD THEY BE SURPRISED WHEN THEY SE...  \n",
       "2  A YOUNG ARAB ALSO LOADED DOWN WITH BAGGAGE ENT...  \n",
       "3  I FELT THAT EVERYTHING I OWNED WOULD BE DESTROYED  \n",
       "4  HE MOVED ABOUT INVISIBLE BUT EVERY ONE COULD H...  "
      ]
     },
     "execution_count": 3,
     "metadata": {},
     "output_type": "execute_result"
    }
   ],
   "source": [
    "cv_csv_file = f'../asr/cv-valid-dev-with-generated-text.csv'\n",
    "df = pd.read_csv(cv_csv_file)\n",
    "df.head(5)"
   ]
  },
  {
   "cell_type": "markdown",
   "id": "10c563a0-5fd3-4979-b112-051a37c43336",
   "metadata": {},
   "source": [
    "Since the generated text is all uppercased, we convert the hot words to uppercase as well."
   ]
  },
  {
   "cell_type": "code",
   "execution_count": 5,
   "id": "201b4a02-84a7-41a9-b862-0cc47ca902d7",
   "metadata": {},
   "outputs": [],
   "source": [
    "hot_words = ['BE CAREFUL', 'DESTROY', 'STRANGER']"
   ]
  },
  {
   "cell_type": "markdown",
   "id": "11d9f7e9-c8d3-4549-9c6f-9656b1fe87ba",
   "metadata": {},
   "source": [
    "Filter all the rows that contains the hot words."
   ]
  },
  {
   "cell_type": "code",
   "execution_count": 6,
   "id": "215a0cee-6c80-4936-87f9-db746e74a932",
   "metadata": {},
   "outputs": [
    {
     "data": {
      "text/html": [
       "<div>\n",
       "<style scoped>\n",
       "    .dataframe tbody tr th:only-of-type {\n",
       "        vertical-align: middle;\n",
       "    }\n",
       "\n",
       "    .dataframe tbody tr th {\n",
       "        vertical-align: top;\n",
       "    }\n",
       "\n",
       "    .dataframe thead th {\n",
       "        text-align: right;\n",
       "    }\n",
       "</style>\n",
       "<table border=\"1\" class=\"dataframe\">\n",
       "  <thead>\n",
       "    <tr style=\"text-align: right;\">\n",
       "      <th></th>\n",
       "      <th>filename</th>\n",
       "      <th>text</th>\n",
       "      <th>up_votes</th>\n",
       "      <th>down_votes</th>\n",
       "      <th>age</th>\n",
       "      <th>gender</th>\n",
       "      <th>accent</th>\n",
       "      <th>duration</th>\n",
       "      <th>generated_text</th>\n",
       "    </tr>\n",
       "  </thead>\n",
       "  <tbody>\n",
       "    <tr>\n",
       "      <th>0</th>\n",
       "      <td>cv-valid-dev/sample-000000.mp3</td>\n",
       "      <td>be careful with your prognostications said the...</td>\n",
       "      <td>1</td>\n",
       "      <td>0</td>\n",
       "      <td>NaN</td>\n",
       "      <td>NaN</td>\n",
       "      <td>NaN</td>\n",
       "      <td>NaN</td>\n",
       "      <td>BE CAREFUL WITH YOUR PROGNOSTICATIONS SAID THE...</td>\n",
       "    </tr>\n",
       "    <tr>\n",
       "      <th>3</th>\n",
       "      <td>cv-valid-dev/sample-000003.mp3</td>\n",
       "      <td>i thought that everything i owned would be des...</td>\n",
       "      <td>3</td>\n",
       "      <td>0</td>\n",
       "      <td>NaN</td>\n",
       "      <td>NaN</td>\n",
       "      <td>NaN</td>\n",
       "      <td>NaN</td>\n",
       "      <td>I FELT THAT EVERYTHING I OWNED WOULD BE DESTROYED</td>\n",
       "    </tr>\n",
       "    <tr>\n",
       "      <th>89</th>\n",
       "      <td>cv-valid-dev/sample-000089.mp3</td>\n",
       "      <td>the stranger seemed satisfied with the answer</td>\n",
       "      <td>3</td>\n",
       "      <td>0</td>\n",
       "      <td>NaN</td>\n",
       "      <td>NaN</td>\n",
       "      <td>NaN</td>\n",
       "      <td>NaN</td>\n",
       "      <td>THE STRANGER SEEMED SATISFIED IT THE ANSWER</td>\n",
       "    </tr>\n",
       "    <tr>\n",
       "      <th>508</th>\n",
       "      <td>cv-valid-dev/sample-000508.mp3</td>\n",
       "      <td>i had to test your courage the stranger said</td>\n",
       "      <td>3</td>\n",
       "      <td>0</td>\n",
       "      <td>NaN</td>\n",
       "      <td>NaN</td>\n",
       "      <td>NaN</td>\n",
       "      <td>NaN</td>\n",
       "      <td>I HAD TO TEST YOUR COURAGE THE STRANGER SAID</td>\n",
       "    </tr>\n",
       "    <tr>\n",
       "      <th>674</th>\n",
       "      <td>cv-valid-dev/sample-000674.mp3</td>\n",
       "      <td>i had to test your courage the stranger said</td>\n",
       "      <td>1</td>\n",
       "      <td>0</td>\n",
       "      <td>NaN</td>\n",
       "      <td>NaN</td>\n",
       "      <td>NaN</td>\n",
       "      <td>NaN</td>\n",
       "      <td>I HAD TO TEST YOUR COURAGE THE STRANGER SAID</td>\n",
       "    </tr>\n",
       "  </tbody>\n",
       "</table>\n",
       "</div>"
      ],
      "text/plain": [
       "                           filename  \\\n",
       "0    cv-valid-dev/sample-000000.mp3   \n",
       "3    cv-valid-dev/sample-000003.mp3   \n",
       "89   cv-valid-dev/sample-000089.mp3   \n",
       "508  cv-valid-dev/sample-000508.mp3   \n",
       "674  cv-valid-dev/sample-000674.mp3   \n",
       "\n",
       "                                                  text  up_votes  down_votes  \\\n",
       "0    be careful with your prognostications said the...         1           0   \n",
       "3    i thought that everything i owned would be des...         3           0   \n",
       "89       the stranger seemed satisfied with the answer         3           0   \n",
       "508       i had to test your courage the stranger said         3           0   \n",
       "674       i had to test your courage the stranger said         1           0   \n",
       "\n",
       "     age gender accent  duration  \\\n",
       "0    NaN    NaN    NaN       NaN   \n",
       "3    NaN    NaN    NaN       NaN   \n",
       "89   NaN    NaN    NaN       NaN   \n",
       "508  NaN    NaN    NaN       NaN   \n",
       "674  NaN    NaN    NaN       NaN   \n",
       "\n",
       "                                        generated_text  \n",
       "0    BE CAREFUL WITH YOUR PROGNOSTICATIONS SAID THE...  \n",
       "3    I FELT THAT EVERYTHING I OWNED WOULD BE DESTROYED  \n",
       "89         THE STRANGER SEEMED SATISFIED IT THE ANSWER  \n",
       "508       I HAD TO TEST YOUR COURAGE THE STRANGER SAID  \n",
       "674       I HAD TO TEST YOUR COURAGE THE STRANGER SAID  "
      ]
     },
     "execution_count": 6,
     "metadata": {},
     "output_type": "execute_result"
    }
   ],
   "source": [
    "pattern = '|'.join(hot_words)\n",
    "filtered_df = df[df['generated_text'].str.contains(pattern, case=False, na=False)]\n",
    "filtered_df.head(5)"
   ]
  },
  {
   "cell_type": "code",
   "execution_count": 7,
   "id": "c8c9c082-784e-46f5-9c5b-22035b13ddeb",
   "metadata": {},
   "outputs": [
    {
     "name": "stdout",
     "output_type": "stream",
     "text": [
      "Number of rows that contain the hot words:  15\n"
     ]
    }
   ],
   "source": [
    "print(\"Number of rows that contain the hot words: \", len(filtered_df))"
   ]
  },
  {
   "cell_type": "markdown",
   "id": "e4805d5a-276a-4ddc-8868-1d7c7208d2ba",
   "metadata": {},
   "source": [
    "Save the list of mp3 filenames with the hot words detected into *detected.txt*."
   ]
  },
  {
   "cell_type": "code",
   "execution_count": 8,
   "id": "d703450d-9fae-4acc-b347-0759b1dc7cfc",
   "metadata": {},
   "outputs": [],
   "source": [
    "filtered_df['filename'].to_csv('detected.txt', index=False, header=False)"
   ]
  }
 ],
 "metadata": {
  "kernelspec": {
   "display_name": "Python 3 (ipykernel)",
   "language": "python",
   "name": "python3"
  },
  "language_info": {
   "codemirror_mode": {
    "name": "ipython",
    "version": 3
   },
   "file_extension": ".py",
   "mimetype": "text/x-python",
   "name": "python",
   "nbconvert_exporter": "python",
   "pygments_lexer": "ipython3",
   "version": "3.13.3"
  }
 },
 "nbformat": 4,
 "nbformat_minor": 5
}
