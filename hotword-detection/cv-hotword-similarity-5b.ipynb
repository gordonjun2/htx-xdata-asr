{
 "cells": [
  {
   "cell_type": "markdown",
   "id": "3ff92bb3-ba96-478b-8ce2-a4c9693f2a92",
   "metadata": {},
   "source": [
    "## Setup"
   ]
  },
  {
   "cell_type": "markdown",
   "id": "0a6029d9-2579-4b50-b8ed-86ad9ef1e4c3",
   "metadata": {},
   "source": [
    "### Install required libraries"
   ]
  },
  {
   "cell_type": "markdown",
   "id": "04cc2407-04ee-416e-ac25-04d9af663eb9",
   "metadata": {},
   "source": [
    "The libraries should already be installed in the terminal after running \n",
    "```\n",
    "pip install -r requirements.txt\n",
    "```\n",
    "in the root directory, but this will be useful if the notebook is used in other environments."
   ]
  },
  {
   "cell_type": "code",
   "execution_count": 1,
   "id": "099baa83-fd38-4f7b-b784-fdef97746c14",
   "metadata": {},
   "outputs": [],
   "source": [
    "%%capture\n",
    "!pip install InstructorEmbedding==1.0.1\n",
    "!pip install scikit-learn==1.6.1\n",
    "!pip install pandas==2.2.3\n",
    "!pip install numpy==2.2.6\n",
    "!pip install sentence-transformers==2.2.2\n",
    "!pip install requests==2.32.3\n",
    "!pip install transformers==4.37.2\n",
    "!pip install huggingface-hub==0.25.2"
   ]
  },
  {
   "cell_type": "markdown",
   "id": "2769f81a-7918-40d8-b920-dc333d72c9c9",
   "metadata": {},
   "source": [
    "### Import required libraries"
   ]
  },
  {
   "cell_type": "code",
   "execution_count": 2,
   "id": "ede0d6ed-e489-46fe-b9c1-b1cc5e9cd4f0",
   "metadata": {},
   "outputs": [
    {
     "name": "stderr",
     "output_type": "stream",
     "text": [
      "/Users/gordon.oh/Desktop/htx-xdata-asr/venv/lib/python3.13/site-packages/InstructorEmbedding/instructor.py:7: TqdmWarning: IProgress not found. Please update jupyter and ipywidgets. See https://ipywidgets.readthedocs.io/en/stable/user_install.html\n",
      "  from tqdm.autonotebook import trange\n"
     ]
    }
   ],
   "source": [
    "import pandas as pd\n",
    "import numpy as np\n",
    "from InstructorEmbedding import INSTRUCTOR\n",
    "from sklearn.metrics.pairwise import cosine_similarity\n",
    "import requests\n",
    "from huggingface_hub import configure_http_backend\n",
    "import urllib3\n",
    "\n",
    "pd.set_option('display.max_colwidth', 100)"
   ]
  },
  {
   "cell_type": "markdown",
   "id": "85bbf9ca-5cc3-4c87-b4bb-d9b58198f773",
   "metadata": {},
   "source": [
    "### Other configurations"
   ]
  },
  {
   "cell_type": "code",
   "execution_count": 3,
   "id": "fefee4db-0450-4814-823d-11f5e7a17301",
   "metadata": {},
   "outputs": [],
   "source": [
    "urllib3.disable_warnings(urllib3.exceptions.InsecureRequestWarning)\n",
    "\n",
    "# [OPTIONAL] Use if there is SSL certificate verification issues\n",
    "def backend_factory() -> requests.Session:\n",
    "    session = requests.Session()\n",
    "    session.verify = False\n",
    "    return session\n",
    "\n",
    "\n",
    "configure_http_backend(backend_factory=backend_factory)"
   ]
  },
  {
   "cell_type": "markdown",
   "id": "0d18393e-a2d2-4ada-8e31-245816f51d8b",
   "metadata": {},
   "source": [
    "### Load the Instructor model"
   ]
  },
  {
   "cell_type": "code",
   "execution_count": 4,
   "id": "585cdcc9-71df-40a2-88dd-b78a4eef07b4",
   "metadata": {},
   "outputs": [
    {
     "name": "stdout",
     "output_type": "stream",
     "text": [
      "load INSTRUCTOR_Transformer\n",
      "max_seq_length  512\n"
     ]
    }
   ],
   "source": [
    "model = INSTRUCTOR('hkunlp/instructor-large')"
   ]
  },
  {
   "cell_type": "markdown",
   "id": "fa941b8f-d28c-45f7-98f6-a712de2527a9",
   "metadata": {},
   "source": [
    "### Load dataset"
   ]
  },
  {
   "cell_type": "code",
   "execution_count": 5,
   "id": "b8a241d3-ca3e-4aed-ae9f-c6b6541ac458",
   "metadata": {},
   "outputs": [
    {
     "data": {
      "text/html": [
       "<div>\n",
       "<style scoped>\n",
       "    .dataframe tbody tr th:only-of-type {\n",
       "        vertical-align: middle;\n",
       "    }\n",
       "\n",
       "    .dataframe tbody tr th {\n",
       "        vertical-align: top;\n",
       "    }\n",
       "\n",
       "    .dataframe thead th {\n",
       "        text-align: right;\n",
       "    }\n",
       "</style>\n",
       "<table border=\"1\" class=\"dataframe\">\n",
       "  <thead>\n",
       "    <tr style=\"text-align: right;\">\n",
       "      <th></th>\n",
       "      <th>filename</th>\n",
       "      <th>text</th>\n",
       "      <th>up_votes</th>\n",
       "      <th>down_votes</th>\n",
       "      <th>age</th>\n",
       "      <th>gender</th>\n",
       "      <th>accent</th>\n",
       "      <th>duration</th>\n",
       "    </tr>\n",
       "  </thead>\n",
       "  <tbody>\n",
       "    <tr>\n",
       "      <th>0</th>\n",
       "      <td>cv-valid-dev/sample-000000.mp3</td>\n",
       "      <td>be careful with your prognostications said the stranger</td>\n",
       "      <td>1</td>\n",
       "      <td>0</td>\n",
       "      <td>NaN</td>\n",
       "      <td>NaN</td>\n",
       "      <td>NaN</td>\n",
       "      <td>NaN</td>\n",
       "    </tr>\n",
       "    <tr>\n",
       "      <th>1</th>\n",
       "      <td>cv-valid-dev/sample-000001.mp3</td>\n",
       "      <td>then why should they be surprised when they see one</td>\n",
       "      <td>2</td>\n",
       "      <td>0</td>\n",
       "      <td>NaN</td>\n",
       "      <td>NaN</td>\n",
       "      <td>NaN</td>\n",
       "      <td>NaN</td>\n",
       "    </tr>\n",
       "    <tr>\n",
       "      <th>2</th>\n",
       "      <td>cv-valid-dev/sample-000002.mp3</td>\n",
       "      <td>a young arab also loaded down with baggage entered and greeted the englishman</td>\n",
       "      <td>2</td>\n",
       "      <td>0</td>\n",
       "      <td>NaN</td>\n",
       "      <td>NaN</td>\n",
       "      <td>NaN</td>\n",
       "      <td>NaN</td>\n",
       "    </tr>\n",
       "    <tr>\n",
       "      <th>3</th>\n",
       "      <td>cv-valid-dev/sample-000003.mp3</td>\n",
       "      <td>i thought that everything i owned would be destroyed</td>\n",
       "      <td>3</td>\n",
       "      <td>0</td>\n",
       "      <td>NaN</td>\n",
       "      <td>NaN</td>\n",
       "      <td>NaN</td>\n",
       "      <td>NaN</td>\n",
       "    </tr>\n",
       "    <tr>\n",
       "      <th>4</th>\n",
       "      <td>cv-valid-dev/sample-000004.mp3</td>\n",
       "      <td>he moved about invisible but everyone could hear him</td>\n",
       "      <td>1</td>\n",
       "      <td>0</td>\n",
       "      <td>fourties</td>\n",
       "      <td>female</td>\n",
       "      <td>england</td>\n",
       "      <td>NaN</td>\n",
       "    </tr>\n",
       "    <tr>\n",
       "      <th>5</th>\n",
       "      <td>cv-valid-dev/sample-000005.mp3</td>\n",
       "      <td>but everything had changed</td>\n",
       "      <td>3</td>\n",
       "      <td>0</td>\n",
       "      <td>teens</td>\n",
       "      <td>male</td>\n",
       "      <td>us</td>\n",
       "      <td>NaN</td>\n",
       "    </tr>\n",
       "    <tr>\n",
       "      <th>6</th>\n",
       "      <td>cv-valid-dev/sample-000006.mp3</td>\n",
       "      <td>are you sure this is claire</td>\n",
       "      <td>2</td>\n",
       "      <td>0</td>\n",
       "      <td>NaN</td>\n",
       "      <td>NaN</td>\n",
       "      <td>NaN</td>\n",
       "      <td>NaN</td>\n",
       "    </tr>\n",
       "    <tr>\n",
       "      <th>7</th>\n",
       "      <td>cv-valid-dev/sample-000007.mp3</td>\n",
       "      <td>it had told him to dig where his tears fell</td>\n",
       "      <td>1</td>\n",
       "      <td>0</td>\n",
       "      <td>NaN</td>\n",
       "      <td>NaN</td>\n",
       "      <td>NaN</td>\n",
       "      <td>NaN</td>\n",
       "    </tr>\n",
       "    <tr>\n",
       "      <th>8</th>\n",
       "      <td>cv-valid-dev/sample-000008.mp3</td>\n",
       "      <td>the shop folks were taking down their shutters and people were opening their bedroom windows</td>\n",
       "      <td>1</td>\n",
       "      <td>0</td>\n",
       "      <td>twenties</td>\n",
       "      <td>female</td>\n",
       "      <td>canada</td>\n",
       "      <td>NaN</td>\n",
       "    </tr>\n",
       "    <tr>\n",
       "      <th>9</th>\n",
       "      <td>cv-valid-dev/sample-000009.mp3</td>\n",
       "      <td>the teacher thought that he'd taught himself all he could</td>\n",
       "      <td>1</td>\n",
       "      <td>0</td>\n",
       "      <td>fifties</td>\n",
       "      <td>female</td>\n",
       "      <td>australia</td>\n",
       "      <td>NaN</td>\n",
       "    </tr>\n",
       "  </tbody>\n",
       "</table>\n",
       "</div>"
      ],
      "text/plain": [
       "                         filename  \\\n",
       "0  cv-valid-dev/sample-000000.mp3   \n",
       "1  cv-valid-dev/sample-000001.mp3   \n",
       "2  cv-valid-dev/sample-000002.mp3   \n",
       "3  cv-valid-dev/sample-000003.mp3   \n",
       "4  cv-valid-dev/sample-000004.mp3   \n",
       "5  cv-valid-dev/sample-000005.mp3   \n",
       "6  cv-valid-dev/sample-000006.mp3   \n",
       "7  cv-valid-dev/sample-000007.mp3   \n",
       "8  cv-valid-dev/sample-000008.mp3   \n",
       "9  cv-valid-dev/sample-000009.mp3   \n",
       "\n",
       "                                                                                           text  \\\n",
       "0                                       be careful with your prognostications said the stranger   \n",
       "1                                           then why should they be surprised when they see one   \n",
       "2                 a young arab also loaded down with baggage entered and greeted the englishman   \n",
       "3                                          i thought that everything i owned would be destroyed   \n",
       "4                                          he moved about invisible but everyone could hear him   \n",
       "5                                                                    but everything had changed   \n",
       "6                                                                   are you sure this is claire   \n",
       "7                                                   it had told him to dig where his tears fell   \n",
       "8  the shop folks were taking down their shutters and people were opening their bedroom windows   \n",
       "9                                     the teacher thought that he'd taught himself all he could   \n",
       "\n",
       "   up_votes  down_votes       age  gender     accent  duration  \n",
       "0         1           0       NaN     NaN        NaN       NaN  \n",
       "1         2           0       NaN     NaN        NaN       NaN  \n",
       "2         2           0       NaN     NaN        NaN       NaN  \n",
       "3         3           0       NaN     NaN        NaN       NaN  \n",
       "4         1           0  fourties  female    england       NaN  \n",
       "5         3           0     teens    male         us       NaN  \n",
       "6         2           0       NaN     NaN        NaN       NaN  \n",
       "7         1           0       NaN     NaN        NaN       NaN  \n",
       "8         1           0  twenties  female     canada       NaN  \n",
       "9         1           0   fifties  female  australia       NaN  "
      ]
     },
     "execution_count": 5,
     "metadata": {},
     "output_type": "execute_result"
    }
   ],
   "source": [
    "cv_csv_file = f'../datasets/common_voice/cv-valid-dev.csv'\n",
    "df = pd.read_csv(cv_csv_file)\n",
    "df.head(10)"
   ]
  },
  {
   "cell_type": "markdown",
   "id": "393da1d8-46be-46df-bb00-69e30ef03ef1",
   "metadata": {},
   "source": [
    "### Create hot words and instruction"
   ]
  },
  {
   "cell_type": "code",
   "execution_count": 6,
   "id": "93f2c627-e93a-46e2-bbef-2d4c5b50475c",
   "metadata": {},
   "outputs": [],
   "source": [
    "hot_words = ['be careful', 'destroy', 'stranger']"
   ]
  },
  {
   "cell_type": "code",
   "execution_count": 7,
   "id": "7fc2d5af-8196-4ba5-9997-bb865bcbf4e0",
   "metadata": {},
   "outputs": [],
   "source": [
    "instruction = \"Represent the warning concept:\""
   ]
  },
  {
   "cell_type": "markdown",
   "id": "ef5683b6-7f46-4c5a-9abb-852df71b72a3",
   "metadata": {},
   "source": [
    "### Create embeddings for the hot words"
   ]
  },
  {
   "cell_type": "code",
   "execution_count": 8,
   "id": "8731ac27-9eb9-4f18-9e14-6b253690d275",
   "metadata": {},
   "outputs": [],
   "source": [
    "hot_word_embeddings = model.encode([[instruction, hw] for hw in hot_words])"
   ]
  },
  {
   "cell_type": "markdown",
   "id": "25e47c5a-185a-4f1b-b51f-3906fcf51697",
   "metadata": {},
   "source": [
    "### Create embeddings for the text column"
   ]
  },
  {
   "cell_type": "code",
   "execution_count": 9,
   "id": "d5978842-d805-49e8-a69c-f0e2f141d920",
   "metadata": {},
   "outputs": [],
   "source": [
    "sentences = df['text'].tolist()\n",
    "sentence_embeddings = model.encode([[instruction, s] for s in sentences])"
   ]
  },
  {
   "cell_type": "markdown",
   "id": "0b21559e-173a-46c7-90cd-7b3dd71eae14",
   "metadata": {},
   "source": [
    "### Test the Instructor model using samples"
   ]
  },
  {
   "cell_type": "markdown",
   "id": "03eb78c7-4056-4a59-9486-1f9a05408e6d",
   "metadata": {},
   "source": [
    "We are using cosine similarity to check the similarity between the hot words embeddings and the sentence embeddings.\n",
    "\n",
    "We will check the results using some sample data."
   ]
  },
  {
   "cell_type": "code",
   "execution_count": 10,
   "id": "2e6941aa-5014-41d0-838c-e7682f25ca88",
   "metadata": {},
   "outputs": [
    {
     "name": "stdout",
     "output_type": "stream",
     "text": [
      "Sentence with index 0: be careful with your prognostications said the stranger\n",
      "Cosine Similarity with 'be careful': 0.8775918483734131\n",
      "Cosine Similarity with 'destroy': 0.7324599027633667\n",
      "Cosine Similarity with 'stranger': 0.8865888714790344\n",
      "\n",
      "\n",
      "Sentence with index 6: are you sure this is claire\n",
      "Cosine Similarity with 'be careful': 0.8151886463165283\n",
      "Cosine Similarity with 'destroy': 0.752497136592865\n",
      "Cosine Similarity with 'stranger': 0.8010200262069702\n",
      "\n",
      "\n",
      "Sentence with index 9: the teacher thought that he'd taught himself all he could\n",
      "Cosine Similarity with 'be careful': 0.7652658224105835\n",
      "Cosine Similarity with 'destroy': 0.7242734432220459\n",
      "Cosine Similarity with 'stranger': 0.7414363622665405\n",
      "\n",
      "\n",
      "Sentence with index 16: is that what you want me to tell vincent\n",
      "Cosine Similarity with 'be careful': 0.819640040397644\n",
      "Cosine Similarity with 'destroy': 0.7587750554084778\n",
      "Cosine Similarity with 'stranger': 0.7860390543937683\n",
      "\n",
      "\n"
     ]
    }
   ],
   "source": [
    "sample_idx_list = [0, 6, 9, 16]\n",
    "\n",
    "for sample_idx in sample_idx_list:\n",
    "    print(f\"Sentence with index {sample_idx}: {sentences[sample_idx]}\")\n",
    "    sims = cosine_similarity([sentence_embeddings[sample_idx]], hot_word_embeddings)[0]\n",
    "    for i, _ in enumerate(hot_words):\n",
    "        print(f\"Cosine Similarity with '{hot_words[i]}': {sims[i]}\")\n",
    "    print(\"\\n\")"
   ]
  },
  {
   "cell_type": "markdown",
   "id": "949ddce8-d308-41ae-8211-09c989e52fc3",
   "metadata": {},
   "source": [
    "Sample Sentence 1 (\"be careful with your prognostications said the stranger\"):\n",
    "- Similar to the \"be careful\" and \"stranger\" hot words\n",
    "- Little or no reference of the \"destroy\" hot word\n",
    "- Hence, cosine similarities are high for \"be careful\" and \"stranger\" hot words (above 0.80)\n",
    "\n",
    "Sample Sentence 2 (\"are you sure this is claire\"):\n",
    "- One can argue that this sentence implies and \"be careful\" and \"stranger\".\n",
    "- Little reference of the hot words\n",
    "- Hence, cosine similarities are higher for \"be careful\" and \"stranger\" hot words (above 0.80)\n",
    "  \n",
    "Sample Sentence 3 (\"the teacher thought that he'd taught himself all he could\"):\n",
    "- Little or no reference of the hot words\n",
    "- Hence, cosine similarities are low for all of the hot words (under 0.80)\n",
    "\n",
    "Sample Sentence 4 (\"is that what you want me to tell vincent\"):\n",
    "- Cosine similarity to \"be careful\" hot word is slightly higher even though the reference is more vague\n",
    "- Little reference of the hot words\n",
    "- Hence, cosine similarity is higher for \"be careful\" hot word (above 0.80)\n",
    "\n",
    "Using the scores as the reference, we set a threshold of *0.8* to determine if a sentence is similar to the 3 hot words."
   ]
  },
  {
   "cell_type": "markdown",
   "id": "d747c255-11a0-4223-a7cb-0d992d0112e3",
   "metadata": {},
   "source": [
    "### Perform similarity check"
   ]
  },
  {
   "cell_type": "code",
   "execution_count": 12,
   "id": "1a5dabf1-b96e-40d1-ae03-66094c6cf4da",
   "metadata": {},
   "outputs": [],
   "source": [
    "threshold = 0.80\n",
    "similarity_flags = []\n",
    "\n",
    "for emb in sentence_embeddings:\n",
    "    sims = cosine_similarity([emb], hot_word_embeddings)[0]\n",
    "    is_similar = any(sim >= threshold for sim in sims)\n",
    "    similarity_flags.append(is_similar)"
   ]
  },
  {
   "cell_type": "code",
   "execution_count": 13,
   "id": "7ed33e54-c155-41cf-a08e-b043cbfa10df",
   "metadata": {},
   "outputs": [
    {
     "name": "stdout",
     "output_type": "stream",
     "text": [
      "No. of sentences similar to the hot words:  1785\n"
     ]
    },
    {
     "data": {
      "text/html": [
       "<div>\n",
       "<style scoped>\n",
       "    .dataframe tbody tr th:only-of-type {\n",
       "        vertical-align: middle;\n",
       "    }\n",
       "\n",
       "    .dataframe tbody tr th {\n",
       "        vertical-align: top;\n",
       "    }\n",
       "\n",
       "    .dataframe thead th {\n",
       "        text-align: right;\n",
       "    }\n",
       "</style>\n",
       "<table border=\"1\" class=\"dataframe\">\n",
       "  <thead>\n",
       "    <tr style=\"text-align: right;\">\n",
       "      <th></th>\n",
       "      <th>filename</th>\n",
       "      <th>text</th>\n",
       "      <th>up_votes</th>\n",
       "      <th>down_votes</th>\n",
       "      <th>age</th>\n",
       "      <th>gender</th>\n",
       "      <th>accent</th>\n",
       "      <th>duration</th>\n",
       "      <th>similarity</th>\n",
       "    </tr>\n",
       "  </thead>\n",
       "  <tbody>\n",
       "    <tr>\n",
       "      <th>0</th>\n",
       "      <td>cv-valid-dev/sample-000000.mp3</td>\n",
       "      <td>be careful with your prognostications said the stranger</td>\n",
       "      <td>1</td>\n",
       "      <td>0</td>\n",
       "      <td>NaN</td>\n",
       "      <td>NaN</td>\n",
       "      <td>NaN</td>\n",
       "      <td>NaN</td>\n",
       "      <td>True</td>\n",
       "    </tr>\n",
       "    <tr>\n",
       "      <th>1</th>\n",
       "      <td>cv-valid-dev/sample-000001.mp3</td>\n",
       "      <td>then why should they be surprised when they see one</td>\n",
       "      <td>2</td>\n",
       "      <td>0</td>\n",
       "      <td>NaN</td>\n",
       "      <td>NaN</td>\n",
       "      <td>NaN</td>\n",
       "      <td>NaN</td>\n",
       "      <td>True</td>\n",
       "    </tr>\n",
       "    <tr>\n",
       "      <th>2</th>\n",
       "      <td>cv-valid-dev/sample-000002.mp3</td>\n",
       "      <td>a young arab also loaded down with baggage entered and greeted the englishman</td>\n",
       "      <td>2</td>\n",
       "      <td>0</td>\n",
       "      <td>NaN</td>\n",
       "      <td>NaN</td>\n",
       "      <td>NaN</td>\n",
       "      <td>NaN</td>\n",
       "      <td>True</td>\n",
       "    </tr>\n",
       "    <tr>\n",
       "      <th>3</th>\n",
       "      <td>cv-valid-dev/sample-000003.mp3</td>\n",
       "      <td>i thought that everything i owned would be destroyed</td>\n",
       "      <td>3</td>\n",
       "      <td>0</td>\n",
       "      <td>NaN</td>\n",
       "      <td>NaN</td>\n",
       "      <td>NaN</td>\n",
       "      <td>NaN</td>\n",
       "      <td>True</td>\n",
       "    </tr>\n",
       "    <tr>\n",
       "      <th>6</th>\n",
       "      <td>cv-valid-dev/sample-000006.mp3</td>\n",
       "      <td>are you sure this is claire</td>\n",
       "      <td>2</td>\n",
       "      <td>0</td>\n",
       "      <td>NaN</td>\n",
       "      <td>NaN</td>\n",
       "      <td>NaN</td>\n",
       "      <td>NaN</td>\n",
       "      <td>True</td>\n",
       "    </tr>\n",
       "    <tr>\n",
       "      <th>8</th>\n",
       "      <td>cv-valid-dev/sample-000008.mp3</td>\n",
       "      <td>the shop folks were taking down their shutters and people were opening their bedroom windows</td>\n",
       "      <td>1</td>\n",
       "      <td>0</td>\n",
       "      <td>twenties</td>\n",
       "      <td>female</td>\n",
       "      <td>canada</td>\n",
       "      <td>NaN</td>\n",
       "      <td>True</td>\n",
       "    </tr>\n",
       "    <tr>\n",
       "      <th>11</th>\n",
       "      <td>cv-valid-dev/sample-000011.mp3</td>\n",
       "      <td>you haven't seen anything yet</td>\n",
       "      <td>2</td>\n",
       "      <td>0</td>\n",
       "      <td>NaN</td>\n",
       "      <td>NaN</td>\n",
       "      <td>NaN</td>\n",
       "      <td>NaN</td>\n",
       "      <td>True</td>\n",
       "    </tr>\n",
       "    <tr>\n",
       "      <th>12</th>\n",
       "      <td>cv-valid-dev/sample-000012.mp3</td>\n",
       "      <td>but i found it difficult to get to work because of the investigations</td>\n",
       "      <td>2</td>\n",
       "      <td>0</td>\n",
       "      <td>NaN</td>\n",
       "      <td>NaN</td>\n",
       "      <td>NaN</td>\n",
       "      <td>NaN</td>\n",
       "      <td>True</td>\n",
       "    </tr>\n",
       "    <tr>\n",
       "      <th>16</th>\n",
       "      <td>cv-valid-dev/sample-000016.mp3</td>\n",
       "      <td>is that what you want me to tell vincent</td>\n",
       "      <td>2</td>\n",
       "      <td>0</td>\n",
       "      <td>NaN</td>\n",
       "      <td>NaN</td>\n",
       "      <td>NaN</td>\n",
       "      <td>NaN</td>\n",
       "      <td>True</td>\n",
       "    </tr>\n",
       "    <tr>\n",
       "      <th>17</th>\n",
       "      <td>cv-valid-dev/sample-000017.mp3</td>\n",
       "      <td>one of us is going to jail</td>\n",
       "      <td>1</td>\n",
       "      <td>0</td>\n",
       "      <td>NaN</td>\n",
       "      <td>NaN</td>\n",
       "      <td>NaN</td>\n",
       "      <td>NaN</td>\n",
       "      <td>True</td>\n",
       "    </tr>\n",
       "  </tbody>\n",
       "</table>\n",
       "</div>"
      ],
      "text/plain": [
       "                          filename  \\\n",
       "0   cv-valid-dev/sample-000000.mp3   \n",
       "1   cv-valid-dev/sample-000001.mp3   \n",
       "2   cv-valid-dev/sample-000002.mp3   \n",
       "3   cv-valid-dev/sample-000003.mp3   \n",
       "6   cv-valid-dev/sample-000006.mp3   \n",
       "8   cv-valid-dev/sample-000008.mp3   \n",
       "11  cv-valid-dev/sample-000011.mp3   \n",
       "12  cv-valid-dev/sample-000012.mp3   \n",
       "16  cv-valid-dev/sample-000016.mp3   \n",
       "17  cv-valid-dev/sample-000017.mp3   \n",
       "\n",
       "                                                                                            text  \\\n",
       "0                                        be careful with your prognostications said the stranger   \n",
       "1                                            then why should they be surprised when they see one   \n",
       "2                  a young arab also loaded down with baggage entered and greeted the englishman   \n",
       "3                                           i thought that everything i owned would be destroyed   \n",
       "6                                                                    are you sure this is claire   \n",
       "8   the shop folks were taking down their shutters and people were opening their bedroom windows   \n",
       "11                                                                 you haven't seen anything yet   \n",
       "12                         but i found it difficult to get to work because of the investigations   \n",
       "16                                                      is that what you want me to tell vincent   \n",
       "17                                                                    one of us is going to jail   \n",
       "\n",
       "    up_votes  down_votes       age  gender  accent  duration  similarity  \n",
       "0          1           0       NaN     NaN     NaN       NaN        True  \n",
       "1          2           0       NaN     NaN     NaN       NaN        True  \n",
       "2          2           0       NaN     NaN     NaN       NaN        True  \n",
       "3          3           0       NaN     NaN     NaN       NaN        True  \n",
       "6          2           0       NaN     NaN     NaN       NaN        True  \n",
       "8          1           0  twenties  female  canada       NaN        True  \n",
       "11         2           0       NaN     NaN     NaN       NaN        True  \n",
       "12         2           0       NaN     NaN     NaN       NaN        True  \n",
       "16         2           0       NaN     NaN     NaN       NaN        True  \n",
       "17         1           0       NaN     NaN     NaN       NaN        True  "
      ]
     },
     "execution_count": 13,
     "metadata": {},
     "output_type": "execute_result"
    }
   ],
   "source": [
    "df['similarity'] = similarity_flags\n",
    "print(\"No. of sentences similar to the hot words: \", df[df['similarity'] == True].shape[0])\n",
    "df[df['similarity'] == True].head(10)"
   ]
  },
  {
   "cell_type": "markdown",
   "id": "04157bd2-6c10-47d3-9a0d-69b6199c25d0",
   "metadata": {},
   "source": [
    "### Save data"
   ]
  },
  {
   "cell_type": "code",
   "execution_count": 14,
   "id": "c946788f-3227-4269-8acd-32f01f9d65ef",
   "metadata": {},
   "outputs": [],
   "source": [
    "df.to_csv('cv-valid-dev-with-similarity.csv', index=False)"
   ]
  },
  {
   "cell_type": "code",
   "execution_count": null,
   "id": "4f75b0b4-488b-4415-b07d-618925eee097",
   "metadata": {},
   "outputs": [],
   "source": []
  }
 ],
 "metadata": {
  "kernelspec": {
   "display_name": "Python 3 (ipykernel)",
   "language": "python",
   "name": "python3"
  },
  "language_info": {
   "codemirror_mode": {
    "name": "ipython",
    "version": 3
   },
   "file_extension": ".py",
   "mimetype": "text/x-python",
   "name": "python",
   "nbconvert_exporter": "python",
   "pygments_lexer": "ipython3",
   "version": "3.13.3"
  }
 },
 "nbformat": 4,
 "nbformat_minor": 5
}
